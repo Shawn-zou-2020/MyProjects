{
 "cells": [
  {
   "cell_type": "markdown",
   "id": "af0191ae",
   "metadata": {},
   "source": [
    "# Summary"
   ]
  },
  {
   "cell_type": "markdown",
   "id": "5ad73707",
   "metadata": {},
   "source": [
    "- We use 2010 to 2013 monthly data to run FM regression on multiple valuation variables and expected return and decide to use E/P and B/M ratio in our final model. We use these two variables to filter companies after 2013 and get 593 companies(top 20% value stocks)\n",
    "- We use monthly data to run FM regression to test the momentum strategy, but we decide not to use momentum variables in the filtering process and in our final model.\n",
    "- We use daily data to run FM regression to test the reversal strategy and managed volatility strategy. Given the good model performance, we decide to use LAGMSTD and LAGRET in our final model.\n",
    "- We cut all stocks into 40 portions based on return performance. We long the 1st portion stocks and short the 40th portion stocks\n",
    "- Our strategy achieves a daily return of 0.29% and a sharp ratio of 1.66"
   ]
  },
  {
   "cell_type": "markdown",
   "id": "576082b5",
   "metadata": {},
   "source": [
    "# Data Preparation"
   ]
  },
  {
   "cell_type": "code",
   "execution_count": 1,
   "id": "1fc9bc51",
   "metadata": {},
   "outputs": [],
   "source": [
    "# Load packages\n",
    "import pandas as pd\n",
    "import numpy as np\n",
    "from datetime import datetime as dt\n",
    "import matplotlib.pyplot as plt\n",
    "import statsmodels.formula.api as smf\n",
    "from pandas.tseries.offsets import MonthEnd"
   ]
  },
  {
   "cell_type": "code",
   "execution_count": 2,
   "id": "4441fff2",
   "metadata": {},
   "outputs": [
    {
     "data": {
      "text/html": [
       "<div>\n",
       "<style scoped>\n",
       "    .dataframe tbody tr th:only-of-type {\n",
       "        vertical-align: middle;\n",
       "    }\n",
       "\n",
       "    .dataframe tbody tr th {\n",
       "        vertical-align: top;\n",
       "    }\n",
       "\n",
       "    .dataframe thead th {\n",
       "        text-align: right;\n",
       "    }\n",
       "</style>\n",
       "<table border=\"1\" class=\"dataframe\">\n",
       "  <thead>\n",
       "    <tr style=\"text-align: right;\">\n",
       "      <th></th>\n",
       "      <th>PERMNO</th>\n",
       "      <th>DATE</th>\n",
       "      <th>COMNAM</th>\n",
       "      <th>TICKER</th>\n",
       "      <th>SHRCD</th>\n",
       "      <th>SICCD</th>\n",
       "      <th>PRC</th>\n",
       "      <th>VOL</th>\n",
       "      <th>OPENPRC</th>\n",
       "      <th>ASKHI</th>\n",
       "      <th>BIDLO</th>\n",
       "      <th>BID</th>\n",
       "      <th>ASK</th>\n",
       "      <th>RET</th>\n",
       "      <th>RETX</th>\n",
       "      <th>SHROUT</th>\n",
       "      <th>DIVAMT</th>\n",
       "    </tr>\n",
       "  </thead>\n",
       "  <tbody>\n",
       "    <tr>\n",
       "      <th>0</th>\n",
       "      <td>10001.0</td>\n",
       "      <td>2000-01-03</td>\n",
       "      <td>b'ENERGY WEST INC'</td>\n",
       "      <td>b'EWST'</td>\n",
       "      <td>11.0</td>\n",
       "      <td>4920.0</td>\n",
       "      <td>8.5625</td>\n",
       "      <td>1721.0</td>\n",
       "      <td>8.4375</td>\n",
       "      <td>8.5625</td>\n",
       "      <td>8.4375</td>\n",
       "      <td>8.4375</td>\n",
       "      <td>8.5625</td>\n",
       "      <td>0.007353</td>\n",
       "      <td>0.007353</td>\n",
       "      <td>2450.0</td>\n",
       "      <td>NaN</td>\n",
       "    </tr>\n",
       "    <tr>\n",
       "      <th>1</th>\n",
       "      <td>10001.0</td>\n",
       "      <td>2000-01-04</td>\n",
       "      <td>b'ENERGY WEST INC'</td>\n",
       "      <td>b'EWST'</td>\n",
       "      <td>11.0</td>\n",
       "      <td>4920.0</td>\n",
       "      <td>8.4375</td>\n",
       "      <td>1080.0</td>\n",
       "      <td>8.4375</td>\n",
       "      <td>8.4375</td>\n",
       "      <td>8.4375</td>\n",
       "      <td>8.4375</td>\n",
       "      <td>8.5625</td>\n",
       "      <td>-0.014599</td>\n",
       "      <td>-0.014599</td>\n",
       "      <td>2450.0</td>\n",
       "      <td>NaN</td>\n",
       "    </tr>\n",
       "    <tr>\n",
       "      <th>2</th>\n",
       "      <td>10001.0</td>\n",
       "      <td>2000-01-05</td>\n",
       "      <td>b'ENERGY WEST INC'</td>\n",
       "      <td>b'EWST'</td>\n",
       "      <td>11.0</td>\n",
       "      <td>4920.0</td>\n",
       "      <td>8.5625</td>\n",
       "      <td>1711.0</td>\n",
       "      <td>8.4375</td>\n",
       "      <td>8.5625</td>\n",
       "      <td>8.4375</td>\n",
       "      <td>8.4375</td>\n",
       "      <td>8.5625</td>\n",
       "      <td>0.014815</td>\n",
       "      <td>0.014815</td>\n",
       "      <td>2450.0</td>\n",
       "      <td>NaN</td>\n",
       "    </tr>\n",
       "    <tr>\n",
       "      <th>3</th>\n",
       "      <td>10001.0</td>\n",
       "      <td>2000-01-06</td>\n",
       "      <td>b'ENERGY WEST INC'</td>\n",
       "      <td>b'EWST'</td>\n",
       "      <td>11.0</td>\n",
       "      <td>4920.0</td>\n",
       "      <td>8.5000</td>\n",
       "      <td>580.0</td>\n",
       "      <td>8.5000</td>\n",
       "      <td>8.5000</td>\n",
       "      <td>8.5000</td>\n",
       "      <td>8.4375</td>\n",
       "      <td>8.5625</td>\n",
       "      <td>-0.007299</td>\n",
       "      <td>-0.007299</td>\n",
       "      <td>2450.0</td>\n",
       "      <td>NaN</td>\n",
       "    </tr>\n",
       "    <tr>\n",
       "      <th>4</th>\n",
       "      <td>10001.0</td>\n",
       "      <td>2000-01-07</td>\n",
       "      <td>b'ENERGY WEST INC'</td>\n",
       "      <td>b'EWST'</td>\n",
       "      <td>11.0</td>\n",
       "      <td>4920.0</td>\n",
       "      <td>8.4375</td>\n",
       "      <td>1406.0</td>\n",
       "      <td>8.5625</td>\n",
       "      <td>8.5625</td>\n",
       "      <td>8.4375</td>\n",
       "      <td>8.4375</td>\n",
       "      <td>8.5625</td>\n",
       "      <td>-0.007353</td>\n",
       "      <td>-0.007353</td>\n",
       "      <td>2450.0</td>\n",
       "      <td>NaN</td>\n",
       "    </tr>\n",
       "  </tbody>\n",
       "</table>\n",
       "</div>"
      ],
      "text/plain": [
       "    PERMNO       DATE              COMNAM   TICKER  SHRCD   SICCD     PRC  \\\n",
       "0  10001.0 2000-01-03  b'ENERGY WEST INC'  b'EWST'   11.0  4920.0  8.5625   \n",
       "1  10001.0 2000-01-04  b'ENERGY WEST INC'  b'EWST'   11.0  4920.0  8.4375   \n",
       "2  10001.0 2000-01-05  b'ENERGY WEST INC'  b'EWST'   11.0  4920.0  8.5625   \n",
       "3  10001.0 2000-01-06  b'ENERGY WEST INC'  b'EWST'   11.0  4920.0  8.5000   \n",
       "4  10001.0 2000-01-07  b'ENERGY WEST INC'  b'EWST'   11.0  4920.0  8.4375   \n",
       "\n",
       "      VOL  OPENPRC   ASKHI   BIDLO     BID     ASK       RET      RETX  \\\n",
       "0  1721.0   8.4375  8.5625  8.4375  8.4375  8.5625  0.007353  0.007353   \n",
       "1  1080.0   8.4375  8.4375  8.4375  8.4375  8.5625 -0.014599 -0.014599   \n",
       "2  1711.0   8.4375  8.5625  8.4375  8.4375  8.5625  0.014815  0.014815   \n",
       "3   580.0   8.5000  8.5000  8.5000  8.4375  8.5625 -0.007299 -0.007299   \n",
       "4  1406.0   8.5625  8.5625  8.4375  8.4375  8.5625 -0.007353 -0.007353   \n",
       "\n",
       "   SHROUT  DIVAMT  \n",
       "0  2450.0     NaN  \n",
       "1  2450.0     NaN  \n",
       "2  2450.0     NaN  \n",
       "3  2450.0     NaN  \n",
       "4  2450.0     NaN  "
      ]
     },
     "execution_count": 2,
     "metadata": {},
     "output_type": "execute_result"
    }
   ],
   "source": [
    "# Load the data\n",
    "# daily stocks data\n",
    "# pls download it from here: https://www.dropbox.com/s/xbomfdwohr6by9d/crsp_daily.feather?dl=0\n",
    "crsp_d=pd.read_feather('crsp_daily.feather')\n",
    "crsp_d.head()"
   ]
  },
  {
   "cell_type": "code",
   "execution_count": 3,
   "id": "6305f175",
   "metadata": {},
   "outputs": [
    {
     "data": {
      "text/html": [
       "<div>\n",
       "<style scoped>\n",
       "    .dataframe tbody tr th:only-of-type {\n",
       "        vertical-align: middle;\n",
       "    }\n",
       "\n",
       "    .dataframe tbody tr th {\n",
       "        vertical-align: top;\n",
       "    }\n",
       "\n",
       "    .dataframe thead th {\n",
       "        text-align: right;\n",
       "    }\n",
       "</style>\n",
       "<table border=\"1\" class=\"dataframe\">\n",
       "  <thead>\n",
       "    <tr style=\"text-align: right;\">\n",
       "      <th></th>\n",
       "      <th>PERMNO</th>\n",
       "      <th>DATE</th>\n",
       "      <th>SHRCD</th>\n",
       "      <th>EXCHCD</th>\n",
       "      <th>SICCD</th>\n",
       "      <th>PRC</th>\n",
       "      <th>VOL</th>\n",
       "      <th>RET</th>\n",
       "      <th>SHROUT</th>\n",
       "    </tr>\n",
       "  </thead>\n",
       "  <tbody>\n",
       "    <tr>\n",
       "      <th>0</th>\n",
       "      <td>10000.0</td>\n",
       "      <td>1985-12-31</td>\n",
       "      <td>NaN</td>\n",
       "      <td>NaN</td>\n",
       "      <td>NaN</td>\n",
       "      <td>NaN</td>\n",
       "      <td>NaN</td>\n",
       "      <td>NaN</td>\n",
       "      <td>NaN</td>\n",
       "    </tr>\n",
       "    <tr>\n",
       "      <th>1</th>\n",
       "      <td>10000.0</td>\n",
       "      <td>1986-01-31</td>\n",
       "      <td>10.0</td>\n",
       "      <td>3.0</td>\n",
       "      <td>3990.0</td>\n",
       "      <td>-4.3750</td>\n",
       "      <td>1771.0</td>\n",
       "      <td>NaN</td>\n",
       "      <td>3680.0</td>\n",
       "    </tr>\n",
       "    <tr>\n",
       "      <th>2</th>\n",
       "      <td>10000.0</td>\n",
       "      <td>1986-02-28</td>\n",
       "      <td>10.0</td>\n",
       "      <td>3.0</td>\n",
       "      <td>3990.0</td>\n",
       "      <td>-3.2500</td>\n",
       "      <td>828.0</td>\n",
       "      <td>-0.257143</td>\n",
       "      <td>3680.0</td>\n",
       "    </tr>\n",
       "    <tr>\n",
       "      <th>3</th>\n",
       "      <td>10000.0</td>\n",
       "      <td>1986-03-31</td>\n",
       "      <td>10.0</td>\n",
       "      <td>3.0</td>\n",
       "      <td>3990.0</td>\n",
       "      <td>-4.4375</td>\n",
       "      <td>1078.0</td>\n",
       "      <td>0.365385</td>\n",
       "      <td>3680.0</td>\n",
       "    </tr>\n",
       "    <tr>\n",
       "      <th>4</th>\n",
       "      <td>10000.0</td>\n",
       "      <td>1986-04-30</td>\n",
       "      <td>10.0</td>\n",
       "      <td>3.0</td>\n",
       "      <td>3990.0</td>\n",
       "      <td>-4.0000</td>\n",
       "      <td>957.0</td>\n",
       "      <td>-0.098592</td>\n",
       "      <td>3793.0</td>\n",
       "    </tr>\n",
       "  </tbody>\n",
       "</table>\n",
       "</div>"
      ],
      "text/plain": [
       "    PERMNO       DATE  SHRCD  EXCHCD   SICCD     PRC     VOL       RET  SHROUT\n",
       "0  10000.0 1985-12-31    NaN     NaN     NaN     NaN     NaN       NaN     NaN\n",
       "1  10000.0 1986-01-31   10.0     3.0  3990.0 -4.3750  1771.0       NaN  3680.0\n",
       "2  10000.0 1986-02-28   10.0     3.0  3990.0 -3.2500   828.0 -0.257143  3680.0\n",
       "3  10000.0 1986-03-31   10.0     3.0  3990.0 -4.4375  1078.0  0.365385  3680.0\n",
       "4  10000.0 1986-04-30   10.0     3.0  3990.0 -4.0000   957.0 -0.098592  3793.0"
      ]
     },
     "execution_count": 3,
     "metadata": {},
     "output_type": "execute_result"
    }
   ],
   "source": [
    "# monthly stocks data\n",
    "\n",
    "crsp_m=pd.read_feather('crsp_monthly.feather')\n",
    "crsp_m['DATE']=crsp_m['DATE']+MonthEnd(0)\n",
    "crsp_m.head()"
   ]
  },
  {
   "cell_type": "code",
   "execution_count": 4,
   "id": "8d31951f",
   "metadata": {},
   "outputs": [
    {
     "data": {
      "text/html": [
       "<div>\n",
       "<style scoped>\n",
       "    .dataframe tbody tr th:only-of-type {\n",
       "        vertical-align: middle;\n",
       "    }\n",
       "\n",
       "    .dataframe tbody tr th {\n",
       "        vertical-align: top;\n",
       "    }\n",
       "\n",
       "    .dataframe thead th {\n",
       "        text-align: right;\n",
       "    }\n",
       "</style>\n",
       "<table border=\"1\" class=\"dataframe\">\n",
       "  <thead>\n",
       "    <tr style=\"text-align: right;\">\n",
       "      <th></th>\n",
       "      <th>DATADATE</th>\n",
       "      <th>FYEAR</th>\n",
       "      <th>LPERMNO</th>\n",
       "      <th>AT</th>\n",
       "      <th>CEQ</th>\n",
       "      <th>LT</th>\n",
       "      <th>PSTK</th>\n",
       "      <th>SEQ</th>\n",
       "      <th>IB</th>\n",
       "      <th>CAPX</th>\n",
       "    </tr>\n",
       "  </thead>\n",
       "  <tbody>\n",
       "    <tr>\n",
       "      <th>0</th>\n",
       "      <td>1970-12-31</td>\n",
       "      <td>1970.0</td>\n",
       "      <td>25881.0</td>\n",
       "      <td>33.450</td>\n",
       "      <td>10.544</td>\n",
       "      <td>22.906</td>\n",
       "      <td>0.000</td>\n",
       "      <td>10.544</td>\n",
       "      <td>1.878</td>\n",
       "      <td>2.767</td>\n",
       "    </tr>\n",
       "    <tr>\n",
       "      <th>1</th>\n",
       "      <td>1971-12-31</td>\n",
       "      <td>1971.0</td>\n",
       "      <td>25881.0</td>\n",
       "      <td>29.330</td>\n",
       "      <td>8.381</td>\n",
       "      <td>20.948</td>\n",
       "      <td>0.000</td>\n",
       "      <td>8.382</td>\n",
       "      <td>0.138</td>\n",
       "      <td>1.771</td>\n",
       "    </tr>\n",
       "    <tr>\n",
       "      <th>2</th>\n",
       "      <td>1972-12-31</td>\n",
       "      <td>1972.0</td>\n",
       "      <td>25881.0</td>\n",
       "      <td>19.907</td>\n",
       "      <td>7.021</td>\n",
       "      <td>12.886</td>\n",
       "      <td>0.000</td>\n",
       "      <td>7.021</td>\n",
       "      <td>1.554</td>\n",
       "      <td>1.254</td>\n",
       "    </tr>\n",
       "    <tr>\n",
       "      <th>3</th>\n",
       "      <td>1973-12-31</td>\n",
       "      <td>1973.0</td>\n",
       "      <td>25881.0</td>\n",
       "      <td>21.771</td>\n",
       "      <td>8.567</td>\n",
       "      <td>13.204</td>\n",
       "      <td>0.000</td>\n",
       "      <td>8.567</td>\n",
       "      <td>1.863</td>\n",
       "      <td>1.633</td>\n",
       "    </tr>\n",
       "    <tr>\n",
       "      <th>4</th>\n",
       "      <td>1974-12-31</td>\n",
       "      <td>1974.0</td>\n",
       "      <td>25881.0</td>\n",
       "      <td>25.638</td>\n",
       "      <td>9.843</td>\n",
       "      <td>15.381</td>\n",
       "      <td>0.414</td>\n",
       "      <td>10.257</td>\n",
       "      <td>1.555</td>\n",
       "      <td>1.313</td>\n",
       "    </tr>\n",
       "  </tbody>\n",
       "</table>\n",
       "</div>"
      ],
      "text/plain": [
       "    DATADATE   FYEAR  LPERMNO      AT     CEQ      LT   PSTK     SEQ     IB  \\\n",
       "0 1970-12-31  1970.0  25881.0  33.450  10.544  22.906  0.000  10.544  1.878   \n",
       "1 1971-12-31  1971.0  25881.0  29.330   8.381  20.948  0.000   8.382  0.138   \n",
       "2 1972-12-31  1972.0  25881.0  19.907   7.021  12.886  0.000   7.021  1.554   \n",
       "3 1973-12-31  1973.0  25881.0  21.771   8.567  13.204  0.000   8.567  1.863   \n",
       "4 1974-12-31  1974.0  25881.0  25.638   9.843  15.381  0.414  10.257  1.555   \n",
       "\n",
       "    CAPX  \n",
       "0  2.767  \n",
       "1  1.771  \n",
       "2  1.254  \n",
       "3  1.633  \n",
       "4  1.313  "
      ]
     },
     "execution_count": 4,
     "metadata": {},
     "output_type": "execute_result"
    }
   ],
   "source": [
    "# pls download it from here: https://github.com/Shawn-zou-2020/MyProjects/blob/main/Quatitative%20Finance/Raw%20Data/compustat.feather\n",
    "compustat=pd.read_feather('compustat.feather')\n",
    "compustat.head()"
   ]
  },
  {
   "cell_type": "code",
   "execution_count": 5,
   "id": "1d7b415e",
   "metadata": {},
   "outputs": [],
   "source": [
    "cstat=compustat.rename(columns={'LPERMNO':'PERMNO'})\n",
    "cstat['DATE']=cstat['DATADATE']+MonthEnd(0)"
   ]
  },
  {
   "cell_type": "markdown",
   "id": "76472473",
   "metadata": {},
   "source": [
    "**Choose a period and only keep the stocks**\n",
    "- 2010-2018\n",
    "- SHRCD = 10/11"
   ]
  },
  {
   "cell_type": "code",
   "execution_count": 6,
   "id": "cdd98151",
   "metadata": {},
   "outputs": [],
   "source": [
    "cstat = cstat.loc[(cstat['DATE']<='2018-12-31')&(cstat['DATE']>='2010-01-01')]\n",
    "cstat = cstat.reset_index(drop='True')"
   ]
  },
  {
   "cell_type": "code",
   "execution_count": 7,
   "id": "eefbed67",
   "metadata": {},
   "outputs": [
    {
     "data": {
      "text/html": [
       "<div>\n",
       "<style scoped>\n",
       "    .dataframe tbody tr th:only-of-type {\n",
       "        vertical-align: middle;\n",
       "    }\n",
       "\n",
       "    .dataframe tbody tr th {\n",
       "        vertical-align: top;\n",
       "    }\n",
       "\n",
       "    .dataframe thead th {\n",
       "        text-align: right;\n",
       "    }\n",
       "</style>\n",
       "<table border=\"1\" class=\"dataframe\">\n",
       "  <thead>\n",
       "    <tr style=\"text-align: right;\">\n",
       "      <th></th>\n",
       "      <th>PERMNO</th>\n",
       "      <th>DATE</th>\n",
       "      <th>SHRCD</th>\n",
       "      <th>EXCHCD</th>\n",
       "      <th>SICCD</th>\n",
       "      <th>PRC</th>\n",
       "      <th>VOL</th>\n",
       "      <th>RET</th>\n",
       "      <th>SHROUT</th>\n",
       "    </tr>\n",
       "  </thead>\n",
       "  <tbody>\n",
       "    <tr>\n",
       "      <th>308</th>\n",
       "      <td>10001.0</td>\n",
       "      <td>2010-01-31</td>\n",
       "      <td>11.0</td>\n",
       "      <td>2.0</td>\n",
       "      <td>4925.0</td>\n",
       "      <td>10.0600</td>\n",
       "      <td>3104.0</td>\n",
       "      <td>-0.018932</td>\n",
       "      <td>4361.0</td>\n",
       "    </tr>\n",
       "    <tr>\n",
       "      <th>309</th>\n",
       "      <td>10001.0</td>\n",
       "      <td>2010-02-28</td>\n",
       "      <td>11.0</td>\n",
       "      <td>2.0</td>\n",
       "      <td>4925.0</td>\n",
       "      <td>10.0084</td>\n",
       "      <td>1510.0</td>\n",
       "      <td>-0.000656</td>\n",
       "      <td>4361.0</td>\n",
       "    </tr>\n",
       "    <tr>\n",
       "      <th>310</th>\n",
       "      <td>10001.0</td>\n",
       "      <td>2010-03-31</td>\n",
       "      <td>11.0</td>\n",
       "      <td>2.0</td>\n",
       "      <td>4925.0</td>\n",
       "      <td>10.1700</td>\n",
       "      <td>2283.0</td>\n",
       "      <td>0.020643</td>\n",
       "      <td>4361.0</td>\n",
       "    </tr>\n",
       "    <tr>\n",
       "      <th>311</th>\n",
       "      <td>10001.0</td>\n",
       "      <td>2010-04-30</td>\n",
       "      <td>11.0</td>\n",
       "      <td>2.0</td>\n",
       "      <td>4925.0</td>\n",
       "      <td>11.3900</td>\n",
       "      <td>3350.0</td>\n",
       "      <td>0.124385</td>\n",
       "      <td>6070.0</td>\n",
       "    </tr>\n",
       "    <tr>\n",
       "      <th>312</th>\n",
       "      <td>10001.0</td>\n",
       "      <td>2010-05-31</td>\n",
       "      <td>11.0</td>\n",
       "      <td>2.0</td>\n",
       "      <td>4925.0</td>\n",
       "      <td>11.4000</td>\n",
       "      <td>3451.0</td>\n",
       "      <td>0.004829</td>\n",
       "      <td>6071.0</td>\n",
       "    </tr>\n",
       "  </tbody>\n",
       "</table>\n",
       "</div>"
      ],
      "text/plain": [
       "      PERMNO       DATE  SHRCD  EXCHCD   SICCD      PRC     VOL       RET  \\\n",
       "308  10001.0 2010-01-31   11.0     2.0  4925.0  10.0600  3104.0 -0.018932   \n",
       "309  10001.0 2010-02-28   11.0     2.0  4925.0  10.0084  1510.0 -0.000656   \n",
       "310  10001.0 2010-03-31   11.0     2.0  4925.0  10.1700  2283.0  0.020643   \n",
       "311  10001.0 2010-04-30   11.0     2.0  4925.0  11.3900  3350.0  0.124385   \n",
       "312  10001.0 2010-05-31   11.0     2.0  4925.0  11.4000  3451.0  0.004829   \n",
       "\n",
       "     SHROUT  \n",
       "308  4361.0  \n",
       "309  4361.0  \n",
       "310  4361.0  \n",
       "311  6070.0  \n",
       "312  6071.0  "
      ]
     },
     "execution_count": 7,
     "metadata": {},
     "output_type": "execute_result"
    }
   ],
   "source": [
    "# monthly data\n",
    "stocks_b = crsp_m.loc[(crsp_m['DATE']<='2013-12-31')&(crsp_m['DATE']>='2010-01-01')\\\n",
    "                      &((crsp_m['SHRCD']==10)|(crsp_m['SHRCD']==11))]\n",
    "stocks_b.head()"
   ]
  },
  {
   "cell_type": "code",
   "execution_count": 8,
   "id": "22d43c83",
   "metadata": {},
   "outputs": [
    {
     "data": {
      "text/html": [
       "<div>\n",
       "<style scoped>\n",
       "    .dataframe tbody tr th:only-of-type {\n",
       "        vertical-align: middle;\n",
       "    }\n",
       "\n",
       "    .dataframe tbody tr th {\n",
       "        vertical-align: top;\n",
       "    }\n",
       "\n",
       "    .dataframe thead th {\n",
       "        text-align: right;\n",
       "    }\n",
       "</style>\n",
       "<table border=\"1\" class=\"dataframe\">\n",
       "  <thead>\n",
       "    <tr style=\"text-align: right;\">\n",
       "      <th></th>\n",
       "      <th>PERMNO</th>\n",
       "      <th>DATE</th>\n",
       "      <th>COMNAM</th>\n",
       "      <th>TICKER</th>\n",
       "      <th>SHRCD</th>\n",
       "      <th>SICCD</th>\n",
       "      <th>PRC</th>\n",
       "      <th>VOL</th>\n",
       "      <th>OPENPRC</th>\n",
       "      <th>ASKHI</th>\n",
       "      <th>BIDLO</th>\n",
       "      <th>BID</th>\n",
       "      <th>ASK</th>\n",
       "      <th>RET</th>\n",
       "      <th>RETX</th>\n",
       "      <th>SHROUT</th>\n",
       "      <th>DIVAMT</th>\n",
       "    </tr>\n",
       "  </thead>\n",
       "  <tbody>\n",
       "    <tr>\n",
       "      <th>2515</th>\n",
       "      <td>10001.0</td>\n",
       "      <td>2010-01-04</td>\n",
       "      <td>b'ENERGY INC'</td>\n",
       "      <td>b'EGAS'</td>\n",
       "      <td>11.0</td>\n",
       "      <td>4925.0</td>\n",
       "      <td>10.25</td>\n",
       "      <td>18500.0</td>\n",
       "      <td>10.58</td>\n",
       "      <td>10.5800</td>\n",
       "      <td>10.10</td>\n",
       "      <td>10.21</td>\n",
       "      <td>10.26</td>\n",
       "      <td>-0.004854</td>\n",
       "      <td>-0.004854</td>\n",
       "      <td>4361.0</td>\n",
       "      <td>NaN</td>\n",
       "    </tr>\n",
       "    <tr>\n",
       "      <th>2516</th>\n",
       "      <td>10001.0</td>\n",
       "      <td>2010-01-05</td>\n",
       "      <td>b'ENERGY INC'</td>\n",
       "      <td>b'EGAS'</td>\n",
       "      <td>11.0</td>\n",
       "      <td>4925.0</td>\n",
       "      <td>10.19</td>\n",
       "      <td>23200.0</td>\n",
       "      <td>10.18</td>\n",
       "      <td>10.3600</td>\n",
       "      <td>9.80</td>\n",
       "      <td>10.15</td>\n",
       "      <td>10.19</td>\n",
       "      <td>-0.005854</td>\n",
       "      <td>-0.005854</td>\n",
       "      <td>4361.0</td>\n",
       "      <td>NaN</td>\n",
       "    </tr>\n",
       "    <tr>\n",
       "      <th>2517</th>\n",
       "      <td>10001.0</td>\n",
       "      <td>2010-01-06</td>\n",
       "      <td>b'ENERGY INC'</td>\n",
       "      <td>b'EGAS'</td>\n",
       "      <td>11.0</td>\n",
       "      <td>4925.0</td>\n",
       "      <td>10.31</td>\n",
       "      <td>18700.0</td>\n",
       "      <td>10.18</td>\n",
       "      <td>10.4800</td>\n",
       "      <td>10.15</td>\n",
       "      <td>10.31</td>\n",
       "      <td>10.35</td>\n",
       "      <td>0.011776</td>\n",
       "      <td>0.011776</td>\n",
       "      <td>4361.0</td>\n",
       "      <td>NaN</td>\n",
       "    </tr>\n",
       "    <tr>\n",
       "      <th>2518</th>\n",
       "      <td>10001.0</td>\n",
       "      <td>2010-01-07</td>\n",
       "      <td>b'ENERGY INC'</td>\n",
       "      <td>b'EGAS'</td>\n",
       "      <td>11.0</td>\n",
       "      <td>4925.0</td>\n",
       "      <td>9.96</td>\n",
       "      <td>29200.0</td>\n",
       "      <td>10.28</td>\n",
       "      <td>10.3695</td>\n",
       "      <td>9.91</td>\n",
       "      <td>9.95</td>\n",
       "      <td>9.97</td>\n",
       "      <td>-0.033948</td>\n",
       "      <td>-0.033948</td>\n",
       "      <td>4361.0</td>\n",
       "      <td>NaN</td>\n",
       "    </tr>\n",
       "    <tr>\n",
       "      <th>2519</th>\n",
       "      <td>10001.0</td>\n",
       "      <td>2010-01-08</td>\n",
       "      <td>b'ENERGY INC'</td>\n",
       "      <td>b'EGAS'</td>\n",
       "      <td>11.0</td>\n",
       "      <td>4925.0</td>\n",
       "      <td>10.34</td>\n",
       "      <td>25100.0</td>\n",
       "      <td>10.00</td>\n",
       "      <td>10.4000</td>\n",
       "      <td>10.00</td>\n",
       "      <td>10.34</td>\n",
       "      <td>10.37</td>\n",
       "      <td>0.038153</td>\n",
       "      <td>0.038153</td>\n",
       "      <td>4361.0</td>\n",
       "      <td>NaN</td>\n",
       "    </tr>\n",
       "  </tbody>\n",
       "</table>\n",
       "</div>"
      ],
      "text/plain": [
       "       PERMNO       DATE         COMNAM   TICKER  SHRCD   SICCD    PRC  \\\n",
       "2515  10001.0 2010-01-04  b'ENERGY INC'  b'EGAS'   11.0  4925.0  10.25   \n",
       "2516  10001.0 2010-01-05  b'ENERGY INC'  b'EGAS'   11.0  4925.0  10.19   \n",
       "2517  10001.0 2010-01-06  b'ENERGY INC'  b'EGAS'   11.0  4925.0  10.31   \n",
       "2518  10001.0 2010-01-07  b'ENERGY INC'  b'EGAS'   11.0  4925.0   9.96   \n",
       "2519  10001.0 2010-01-08  b'ENERGY INC'  b'EGAS'   11.0  4925.0  10.34   \n",
       "\n",
       "          VOL  OPENPRC    ASKHI  BIDLO    BID    ASK       RET      RETX  \\\n",
       "2515  18500.0    10.58  10.5800  10.10  10.21  10.26 -0.004854 -0.004854   \n",
       "2516  23200.0    10.18  10.3600   9.80  10.15  10.19 -0.005854 -0.005854   \n",
       "2517  18700.0    10.18  10.4800  10.15  10.31  10.35  0.011776  0.011776   \n",
       "2518  29200.0    10.28  10.3695   9.91   9.95   9.97 -0.033948 -0.033948   \n",
       "2519  25100.0    10.00  10.4000  10.00  10.34  10.37  0.038153  0.038153   \n",
       "\n",
       "      SHROUT  DIVAMT  \n",
       "2515  4361.0     NaN  \n",
       "2516  4361.0     NaN  \n",
       "2517  4361.0     NaN  \n",
       "2518  4361.0     NaN  \n",
       "2519  4361.0     NaN  "
      ]
     },
     "execution_count": 8,
     "metadata": {},
     "output_type": "execute_result"
    }
   ],
   "source": [
    "# daily data\n",
    "stocks = crsp_d.loc[(crsp_d['DATE']<='2018-12-31')&(crsp_d['DATE']>='2010-01-01')\\\n",
    "                    &((crsp_d['SHRCD']==10)|(crsp_d['SHRCD']==11))]\n",
    "stocks.head()"
   ]
  },
  {
   "cell_type": "code",
   "execution_count": 9,
   "id": "927147b1",
   "metadata": {},
   "outputs": [],
   "source": [
    "stocks = stocks.set_index(['DATE'])\n",
    "stocks_b = stocks_b.set_index(['DATE'])"
   ]
  },
  {
   "cell_type": "markdown",
   "id": "8b86512c",
   "metadata": {},
   "source": [
    "- Only keep necessary variables"
   ]
  },
  {
   "cell_type": "code",
   "execution_count": 10,
   "id": "fe3fec61",
   "metadata": {},
   "outputs": [],
   "source": [
    "stocks = stocks[['PERMNO','PRC','VOL','RET','SHROUT']].copy()\n",
    "stocks_b = stocks_b[['PERMNO','PRC','VOL','RET','SHROUT']].copy()"
   ]
  },
  {
   "cell_type": "markdown",
   "id": "48b493e0",
   "metadata": {},
   "source": [
    "- Add risk free rate to daily stocks data"
   ]
  },
  {
   "cell_type": "code",
   "execution_count": 11,
   "id": "1a2273d9",
   "metadata": {},
   "outputs": [],
   "source": [
    "# Add risk-free ret on daily stocks data\n",
    "irx = pd.read_csv('^IRX.csv',parse_dates=[0], index_col=[0])[['Close']]\n",
    "\n",
    "# Join\n",
    "stocks = stocks.join(irx, how = 'left', on = 'DATE')\n",
    "stocks = stocks.rename(columns={'Close':'ARRET'})\n",
    "stocks.head()\n",
    "\n",
    "# Fillna\n",
    "stocks['ARRET'] = stocks['ARRET'].fillna(method='ffill')\n",
    "\n",
    "# N_t = (date-date.shift()).dt.days\n",
    "stocks = stocks.reset_index()\n",
    "stocks = stocks.set_index(['PERMNO'])\n",
    "stocks['LAGD'] = stocks[['DATE']].groupby('PERMNO').shift()\n",
    "stocks['N_t'] = (stocks['DATE'] - stocks['LAGD']).dt.days\n",
    "\n",
    "# Risk return \n",
    "stocks['RRET'] = stocks['ARRET'].shift() * stocks['N_t']/36500\n",
    "\n",
    "# Excess return \n",
    "stocks['EXRET'] = stocks['RET'] - stocks['RRET'] "
   ]
  },
  {
   "cell_type": "code",
   "execution_count": 12,
   "id": "03fb6261",
   "metadata": {},
   "outputs": [],
   "source": [
    "# Add risk-free ret on monthly stocks data\n",
    "irx_ = pd.read_csv('^IRX_.csv')[['Date','Close']]\n",
    "irx_['Date'] = pd.to_datetime(irx_['Date'])\n",
    "irx_['Date'] = irx_['Date'] + MonthEnd(0)\n",
    "irx_ = irx_.set_index(['Date'])\n",
    "\n",
    "# Join\n",
    "stocks_b = stocks_b.join(irx_, how = 'left', on = 'DATE')\n",
    "stocks_b = stocks_b.rename(columns={'Close':'ARRET'})\n",
    "\n",
    "# Fillna\n",
    "stocks_b['ARRET'] = stocks_b['ARRET'].fillna(method='ffill')\n",
    "\n",
    "# Risk return \n",
    "stocks_b['RRET'] = stocks_b['ARRET'].shift()/1200\n",
    "\n",
    "# Excess return\n",
    "stocks_b['EXRET'] = stocks_b['RET'] - stocks_b['RRET']\n"
   ]
  },
  {
   "cell_type": "markdown",
   "id": "8832c949",
   "metadata": {},
   "source": [
    "# Create Possible Variables"
   ]
  },
  {
   "cell_type": "markdown",
   "id": "0fb358e8",
   "metadata": {},
   "source": [
    "- General Variables"
   ]
  },
  {
   "cell_type": "code",
   "execution_count": 13,
   "id": "4902b817",
   "metadata": {},
   "outputs": [],
   "source": [
    "# PRC: absolute value of stock price\n",
    "stocks['PRC']=np.abs(stocks['PRC'])\n",
    "\n",
    "# MKTP: Market capitalization = price * shares outstanding\n",
    "# MAMKTP1: Moving average of market capitalization of 22 trading days\n",
    "# MAMKTP2: Moving average of market capitalization of 264 trading days\n",
    "stocks['MKTP'] = stocks['PRC'] * stocks['SHROUT']\n",
    "stocks['MAMKTP1'] = stocks.groupby('PERMNO')['MKTP'].apply(lambda x: x.rolling(22).mean())\n",
    "stocks['MAMKTP2'] = stocks.groupby('PERMNO')['MKTP'].apply(lambda x: x.rolling(264).mean())\n",
    "\n",
    "# MSTD: Standard deviation of excess return of 264 trading days\n",
    "# MARET1: Moving average of excess return of 22 trading days\n",
    "# MARET2: Moving average of excess return of 264 trading days\n",
    "# MARS: Moving average of MARET * MSTD of 264 trading days\n",
    "# MASR: Moving average of MARET/MSTD (Sharp Ratio) of 264 trading days\n",
    "stocks['MSTD'] = stocks[['EXRET']].groupby('PERMNO').apply(lambda x: x.rolling(264).std())\n",
    "stocks['MARET1'] = stocks[['EXRET']].groupby('PERMNO').apply(lambda x: x.rolling(22).mean())\n",
    "stocks['MARET2'] = stocks[['EXRET']].groupby('PERMNO').apply(lambda x: x.rolling(264).mean())\n",
    "stocks['MARS'] = stocks['MARET2']*stocks['MSTD']\n",
    "stocks['MASR'] = stocks['MARET2']/stocks['MSTD']\n",
    "\n",
    "# LAGMKTP: Lag 1 day of MKTP variable\n",
    "# LAGMARS: Lag 1 day of MARS variable\n",
    "# LAGMARET: Lag 1 day of MARET variable\n",
    "# LAGMSTD: Lag 1 day of MSTD variable\n",
    "stocks['LAGMKTP1'] = stocks['MAMKTP1'].groupby('PERMNO').shift()\n",
    "stocks['LAGMKTP2'] = stocks['MAMKTP2'].groupby('PERMNO').shift()\n",
    "stocks['LAGMARS'] = stocks['MARS'].groupby('PERMNO').shift()\n",
    "stocks['LAGMASR'] = stocks['MASR'].groupby('PERMNO').shift()\n",
    "stocks['LAGMARET1'] = stocks['MARET1'].groupby('PERMNO').shift()\n",
    "stocks['LAGMARET2'] = stocks['MARET2'].groupby('PERMNO').shift()\n",
    "stocks['LAGMSTD'] = stocks['MSTD'].groupby('PERMNO').shift()"
   ]
  },
  {
   "cell_type": "markdown",
   "id": "a0458842",
   "metadata": {},
   "source": [
    "- For Value Stocks"
   ]
  },
  {
   "cell_type": "code",
   "execution_count": 14,
   "id": "1380960e",
   "metadata": {},
   "outputs": [
    {
     "data": {
      "text/html": [
       "<div>\n",
       "<style scoped>\n",
       "    .dataframe tbody tr th:only-of-type {\n",
       "        vertical-align: middle;\n",
       "    }\n",
       "\n",
       "    .dataframe tbody tr th {\n",
       "        vertical-align: top;\n",
       "    }\n",
       "\n",
       "    .dataframe thead th {\n",
       "        text-align: right;\n",
       "    }\n",
       "</style>\n",
       "<table border=\"1\" class=\"dataframe\">\n",
       "  <thead>\n",
       "    <tr style=\"text-align: right;\">\n",
       "      <th></th>\n",
       "      <th></th>\n",
       "      <th>PRC</th>\n",
       "      <th>VOL</th>\n",
       "      <th>RET</th>\n",
       "      <th>SHROUT</th>\n",
       "      <th>ARRET</th>\n",
       "      <th>RRET</th>\n",
       "      <th>EXRET</th>\n",
       "      <th>IB</th>\n",
       "      <th>SEQ</th>\n",
       "    </tr>\n",
       "    <tr>\n",
       "      <th>PERMNO</th>\n",
       "      <th>DATE</th>\n",
       "      <th></th>\n",
       "      <th></th>\n",
       "      <th></th>\n",
       "      <th></th>\n",
       "      <th></th>\n",
       "      <th></th>\n",
       "      <th></th>\n",
       "      <th></th>\n",
       "      <th></th>\n",
       "    </tr>\n",
       "  </thead>\n",
       "  <tbody>\n",
       "    <tr>\n",
       "      <th rowspan=\"5\" valign=\"top\">10001.0</th>\n",
       "      <th>2010-01-31</th>\n",
       "      <td>10.0600</td>\n",
       "      <td>3104.0</td>\n",
       "      <td>-0.018932</td>\n",
       "      <td>4361.0</td>\n",
       "      <td>0.070</td>\n",
       "      <td>NaN</td>\n",
       "      <td>NaN</td>\n",
       "      <td>NaN</td>\n",
       "      <td>NaN</td>\n",
       "    </tr>\n",
       "    <tr>\n",
       "      <th>2010-02-28</th>\n",
       "      <td>10.0084</td>\n",
       "      <td>1510.0</td>\n",
       "      <td>-0.000656</td>\n",
       "      <td>4361.0</td>\n",
       "      <td>0.115</td>\n",
       "      <td>0.000058</td>\n",
       "      <td>-0.000714</td>\n",
       "      <td>NaN</td>\n",
       "      <td>NaN</td>\n",
       "    </tr>\n",
       "    <tr>\n",
       "      <th>2010-03-31</th>\n",
       "      <td>10.1700</td>\n",
       "      <td>2283.0</td>\n",
       "      <td>0.020643</td>\n",
       "      <td>4361.0</td>\n",
       "      <td>0.150</td>\n",
       "      <td>0.000096</td>\n",
       "      <td>0.020547</td>\n",
       "      <td>NaN</td>\n",
       "      <td>NaN</td>\n",
       "    </tr>\n",
       "    <tr>\n",
       "      <th>2010-04-30</th>\n",
       "      <td>11.3900</td>\n",
       "      <td>3350.0</td>\n",
       "      <td>0.124385</td>\n",
       "      <td>6070.0</td>\n",
       "      <td>0.155</td>\n",
       "      <td>0.000125</td>\n",
       "      <td>0.124260</td>\n",
       "      <td>NaN</td>\n",
       "      <td>NaN</td>\n",
       "    </tr>\n",
       "    <tr>\n",
       "      <th>2010-05-31</th>\n",
       "      <td>11.4000</td>\n",
       "      <td>3451.0</td>\n",
       "      <td>0.004829</td>\n",
       "      <td>6071.0</td>\n",
       "      <td>0.150</td>\n",
       "      <td>0.000129</td>\n",
       "      <td>0.004700</td>\n",
       "      <td>NaN</td>\n",
       "      <td>NaN</td>\n",
       "    </tr>\n",
       "  </tbody>\n",
       "</table>\n",
       "</div>"
      ],
      "text/plain": [
       "                        PRC     VOL       RET  SHROUT  ARRET      RRET  \\\n",
       "PERMNO  DATE                                                             \n",
       "10001.0 2010-01-31  10.0600  3104.0 -0.018932  4361.0  0.070       NaN   \n",
       "        2010-02-28  10.0084  1510.0 -0.000656  4361.0  0.115  0.000058   \n",
       "        2010-03-31  10.1700  2283.0  0.020643  4361.0  0.150  0.000096   \n",
       "        2010-04-30  11.3900  3350.0  0.124385  6070.0  0.155  0.000125   \n",
       "        2010-05-31  11.4000  3451.0  0.004829  6071.0  0.150  0.000129   \n",
       "\n",
       "                       EXRET  IB  SEQ  \n",
       "PERMNO  DATE                           \n",
       "10001.0 2010-01-31       NaN NaN  NaN  \n",
       "        2010-02-28 -0.000714 NaN  NaN  \n",
       "        2010-03-31  0.020547 NaN  NaN  \n",
       "        2010-04-30  0.124260 NaN  NaN  \n",
       "        2010-05-31  0.004700 NaN  NaN  "
      ]
     },
     "execution_count": 14,
     "metadata": {},
     "output_type": "execute_result"
    }
   ],
   "source": [
    "# cstat\n",
    "cstat['SEQ']=cstat['SEQ'].fillna(cstat['CEQ']+cstat['PSTK'])\n",
    "cstat['SEQ']=cstat['SEQ'].fillna(cstat['AT']-cstat['LT'])\n",
    "cstat=cstat.reset_index()\n",
    "cstat=cstat.set_index(['PERMNO','DATE']).sort_index()\n",
    "\n",
    "\n",
    "# stocks_b\n",
    "stocks_b = stocks_b.reset_index()\n",
    "stocks_b = stocks_b.set_index(['PERMNO','DATE']).sort_index()\n",
    "stocks_b = stocks_b.merge(cstat[['IB','SEQ']],how='left',on=['PERMNO','DATE'])\n",
    "stocks_b.head()"
   ]
  },
  {
   "cell_type": "code",
   "execution_count": 15,
   "id": "19f74056",
   "metadata": {},
   "outputs": [],
   "source": [
    "# lag_IB: assume that we can only know the IB after 6 months\n",
    "# lag_SEQ: assume that we can only know the SEQ after 6 months\n",
    "stocks_b['lag_IB']=stocks_b['IB'].groupby('PERMNO').shift(6).fillna(method='pad',limit=15)\n",
    "stocks_b['lag_SEQ']=stocks_b['SEQ'].groupby('PERMNO').shift(6).fillna(method='pad',limit=15)"
   ]
  },
  {
   "cell_type": "code",
   "execution_count": 16,
   "id": "1164add4",
   "metadata": {},
   "outputs": [],
   "source": [
    "# MKTP: Market capitalization = price * shares outstanding\n",
    "stocks_b['MKTP'] = stocks_b['PRC'] * stocks_b['SHROUT']"
   ]
  },
  {
   "cell_type": "code",
   "execution_count": 17,
   "id": "b777b4b5",
   "metadata": {},
   "outputs": [],
   "source": [
    "# lag_ep: lag 1 day e/p ratio\n",
    "# lag_bm: lag 1 day b/m ratio\n",
    "\n",
    "stocks_b['lag_ep']=stocks_b['lag_IB']/stocks_b.groupby('PERMNO')['MKTP'].shift(1)*1000\n",
    "stocks_b['lag_bm']=stocks_b['lag_SEQ']/stocks_b.groupby('PERMNO')['MKTP'].shift(1)*1000\n"
   ]
  },
  {
   "cell_type": "markdown",
   "id": "01f1bd67",
   "metadata": {},
   "source": [
    "- For Reversal Strategy"
   ]
  },
  {
   "cell_type": "code",
   "execution_count": 18,
   "id": "dd209dfe",
   "metadata": {},
   "outputs": [],
   "source": [
    "# MA5: 5-day moving average return\n",
    "# LAGMA5: lag 1 day of MA5\n",
    "# LAGRET: lag 1 day of RET\n",
    "# DIFF: LAGRET - MA5\n",
    "stocks['MA5'] = stocks.groupby('PERMNO')[['RET']].apply(lambda x: x.rolling(5).mean())\n",
    "stocks['LAGMA5'] = stocks.groupby('PERMNO')[['MA5']].shift()\n",
    "stocks['LAGRET'] = stocks.groupby('PERMNO')[['RET']].shift()\n",
    "stocks['DIFF'] = stocks['LAGRET'] - stocks['LAGMA5']"
   ]
  },
  {
   "cell_type": "markdown",
   "id": "4abe095f",
   "metadata": {},
   "source": [
    "- For Momentum Startegy"
   ]
  },
  {
   "cell_type": "code",
   "execution_count": 19,
   "id": "935896d3",
   "metadata": {},
   "outputs": [],
   "source": [
    "# daily dataset\n",
    "# _RET1Y: MA 1 month ret 1 year ago\n",
    "stocks['_RET1Y'] = stocks.groupby('PERMNO')[['RET']].apply(lambda x: x.shift(264).rolling(22).mean())"
   ]
  },
  {
   "cell_type": "code",
   "execution_count": 20,
   "id": "2d8358e4",
   "metadata": {},
   "outputs": [],
   "source": [
    "# monthly dataset\n",
    "# _RET1Y: ret 1 year ago\n",
    "stocks_b['_RET1Y'] = stocks_b.groupby('PERMNO')[['RET']].shift(12)"
   ]
  },
  {
   "cell_type": "markdown",
   "id": "cdf02059",
   "metadata": {},
   "source": [
    "- dropna"
   ]
  },
  {
   "cell_type": "code",
   "execution_count": 21,
   "id": "db1a1a37",
   "metadata": {},
   "outputs": [],
   "source": [
    "stocks_d = stocks.dropna(subset=['LAGMKTP2','LAGMARS','LAGMASR','LAGMARET2','LAGMSTD',\\\n",
    "                                 'LAGRET','LAGMA5','DIFF','MA5','_RET1Y'])\n",
    "stocks_m = stocks_b.dropna(subset=['lag_ep','lag_bm','_RET1Y'])\n"
   ]
  },
  {
   "cell_type": "markdown",
   "id": "74c3de90",
   "metadata": {},
   "source": [
    "# Test Regression (FM): Value Variables\n",
    "- Using Monthly day to verify the relationships between Expected Return and Value Variables"
   ]
  },
  {
   "cell_type": "code",
   "execution_count": 22,
   "id": "d46fff50",
   "metadata": {},
   "outputs": [],
   "source": [
    "# do simple filter on e/p, it usually should be above 0 and below 0.2\n",
    "stocks_m = stocks_m.loc[(stocks_m['lag_ep']>0)&(stocks_m['lag_ep']<=0.2)]"
   ]
  },
  {
   "cell_type": "code",
   "execution_count": 23,
   "id": "a4c55fdc",
   "metadata": {},
   "outputs": [],
   "source": [
    "df = stocks_m.reset_index()\n",
    "df = df.set_index(['DATE','PERMNO'])"
   ]
  },
  {
   "cell_type": "code",
   "execution_count": 24,
   "id": "0521fa83",
   "metadata": {},
   "outputs": [],
   "source": [
    "# try market capital\n",
    "df1 = df[['EXRET','MKTP']].sort_index()\n",
    "allparams = df1.groupby(['DATE']).apply(lambda x: smf.ols('EXRET ~ MKTP', data=x).fit().params)"
   ]
  },
  {
   "cell_type": "code",
   "execution_count": 25,
   "id": "f68f92f4",
   "metadata": {},
   "outputs": [
    {
     "data": {
      "text/plain": [
       "Intercept    1.431949e-02\n",
       "MKTP         1.943091e-11\n",
       "dtype: float64"
      ]
     },
     "execution_count": 25,
     "metadata": {},
     "output_type": "execute_result"
    }
   ],
   "source": [
    "allparams.mean()\n",
    "# positive but not strong\n",
    "# thus we don't use market capital "
   ]
  },
  {
   "cell_type": "code",
   "execution_count": 26,
   "id": "e1b8aeee",
   "metadata": {},
   "outputs": [],
   "source": [
    "# try lag_ep\n",
    "df2 = df[['EXRET','lag_ep']].sort_index()\n",
    "allparams = df2.groupby(['DATE']).apply(lambda x: smf.ols('EXRET ~ lag_ep', data=x).fit().params)\n",
    "rsquare = df2.groupby(['DATE']).apply(lambda x: smf.ols('EXRET ~ lag_ep', data=x).fit().rsquared)\n",
    "pvalue = df2.groupby(['DATE']).apply(lambda x: smf.ols('EXRET ~ lag_ep', data=x).fit().pvalues)"
   ]
  },
  {
   "cell_type": "code",
   "execution_count": 27,
   "id": "19611121",
   "metadata": {},
   "outputs": [
    {
     "data": {
      "text/plain": [
       "0.001992601071242686"
      ]
     },
     "execution_count": 27,
     "metadata": {},
     "output_type": "execute_result"
    }
   ],
   "source": [
    "rsquare.mean()"
   ]
  },
  {
   "cell_type": "code",
   "execution_count": 28,
   "id": "f2e5db86",
   "metadata": {},
   "outputs": [
    {
     "data": {
      "text/plain": [
       "Intercept    0.014019\n",
       "lag_ep       0.003800\n",
       "dtype: float64"
      ]
     },
     "execution_count": 28,
     "metadata": {},
     "output_type": "execute_result"
    }
   ],
   "source": [
    "allparams.mean()\n",
    "# positive and not bad\n",
    "# thus we can use lag_ep"
   ]
  },
  {
   "cell_type": "code",
   "execution_count": 29,
   "id": "e49ee03e",
   "metadata": {},
   "outputs": [
    {
     "data": {
      "text/plain": [
       "Intercept    0.091486\n",
       "lag_ep       0.381476\n",
       "dtype: float64"
      ]
     },
     "execution_count": 29,
     "metadata": {},
     "output_type": "execute_result"
    }
   ],
   "source": [
    "pvalue.mean()"
   ]
  },
  {
   "cell_type": "code",
   "execution_count": 30,
   "id": "9b9222f5",
   "metadata": {},
   "outputs": [],
   "source": [
    "# try lag_bm\n",
    "df3 = df[['EXRET','lag_bm']].sort_index()\n",
    "allparams = df3.groupby(['DATE']).apply(lambda x: smf.ols('EXRET ~ lag_bm', data=x).fit().params)\n",
    "rsquare = df3.groupby(['DATE']).apply(lambda x: smf.ols('EXRET ~ lag_bm', data=x).fit().rsquared)\n",
    "pvalue = df3.groupby(['DATE']).apply(lambda x: smf.ols('EXRET ~ lag_bm', data=x).fit().pvalues)"
   ]
  },
  {
   "cell_type": "code",
   "execution_count": 31,
   "id": "a12b15cc",
   "metadata": {},
   "outputs": [
    {
     "data": {
      "text/plain": [
       "0.00328610515015094"
      ]
     },
     "execution_count": 31,
     "metadata": {},
     "output_type": "execute_result"
    }
   ],
   "source": [
    "rsquare.mean()\n",
    "# not bad"
   ]
  },
  {
   "cell_type": "code",
   "execution_count": 32,
   "id": "fd42dfc5",
   "metadata": {},
   "outputs": [
    {
     "data": {
      "text/plain": [
       "Intercept    0.013298\n",
       "lag_bm       0.001546\n",
       "dtype: float64"
      ]
     },
     "execution_count": 32,
     "metadata": {},
     "output_type": "execute_result"
    }
   ],
   "source": [
    "allparams.mean()\n",
    "# positive and not bad\n",
    "# thus we can use lag_bm"
   ]
  },
  {
   "cell_type": "code",
   "execution_count": 33,
   "id": "b17d5f34",
   "metadata": {},
   "outputs": [
    {
     "data": {
      "text/plain": [
       "Intercept    0.063229\n",
       "lag_bm       0.244714\n",
       "dtype: float64"
      ]
     },
     "execution_count": 33,
     "metadata": {},
     "output_type": "execute_result"
    }
   ],
   "source": [
    "pvalue.mean()"
   ]
  },
  {
   "cell_type": "code",
   "execution_count": 34,
   "id": "789dcf4a",
   "metadata": {},
   "outputs": [],
   "source": [
    "# try lag_bm + lag_ep\n",
    "df4 = df[['EXRET','lag_bm','lag_ep']].sort_index()\n",
    "allparams = df4.groupby(['DATE']).apply(lambda x: smf.ols('EXRET ~ lag_bm+lag_ep', data=x).fit().params)\n",
    "rsquare = df4.groupby(['DATE']).apply(lambda x: smf.ols('EXRET ~ lag_bm+lag_ep', data=x).fit().rsquared)\n",
    "pvalue = df4.groupby(['DATE']).apply(lambda x: smf.ols('EXRET ~ lag_bm+lag_ep', data=x).fit().pvalues)"
   ]
  },
  {
   "cell_type": "code",
   "execution_count": 35,
   "id": "d61e967f",
   "metadata": {},
   "outputs": [
    {
     "data": {
      "text/plain": [
       "0.004871371274536925"
      ]
     },
     "execution_count": 35,
     "metadata": {},
     "output_type": "execute_result"
    }
   ],
   "source": [
    "rsquare.mean()\n",
    "# rsquare improved"
   ]
  },
  {
   "cell_type": "code",
   "execution_count": 36,
   "id": "8ad2cda6",
   "metadata": {},
   "outputs": [
    {
     "data": {
      "text/plain": [
       "Intercept    0.013323\n",
       "lag_bm       0.001727\n",
       "lag_ep      -0.004248\n",
       "dtype: float64"
      ]
     },
     "execution_count": 36,
     "metadata": {},
     "output_type": "execute_result"
    }
   ],
   "source": [
    "allparams.mean()\n",
    "# lag_bm still negative, which is different from expectation\n",
    "# we don't use lag_bm but use lag_ep"
   ]
  },
  {
   "cell_type": "code",
   "execution_count": 37,
   "id": "04739cee",
   "metadata": {},
   "outputs": [
    {
     "data": {
      "text/plain": [
       "Intercept    0.112225\n",
       "lag_bm       0.248194\n",
       "lag_ep       0.341606\n",
       "dtype: float64"
      ]
     },
     "execution_count": 37,
     "metadata": {},
     "output_type": "execute_result"
    }
   ],
   "source": [
    "pvalue.mean()"
   ]
  },
  {
   "cell_type": "markdown",
   "id": "c133e730",
   "metadata": {},
   "source": [
    "- Use e/p ratio and b/m ratio to filter stocks"
   ]
  },
  {
   "cell_type": "code",
   "execution_count": 38,
   "id": "0c1743d8",
   "metadata": {},
   "outputs": [],
   "source": [
    "stocks_m = stocks_m.reset_index()\n",
    "stocks_m = stocks_m.set_index(['DATE','PERMNO']).sort_index()\n",
    "stocks_m['RANK1'] = stocks_m['lag_ep'].groupby(['DATE']).apply(lambda x: pd.qcut(x, 10, labels=range(1,11)))"
   ]
  },
  {
   "cell_type": "code",
   "execution_count": 39,
   "id": "9f52d7ec",
   "metadata": {},
   "outputs": [],
   "source": [
    "stocks_m = stocks_m.reset_index()\n",
    "stocks_m = stocks_m.set_index(['DATE','PERMNO']).sort_index()\n",
    "stocks_m['RANK2'] = stocks_m['lag_bm'].groupby(['DATE']).apply(lambda x: pd.qcut(x, 10, labels=range(1,11)))"
   ]
  },
  {
   "cell_type": "markdown",
   "id": "19373924",
   "metadata": {},
   "source": [
    "- Use e/p ratio and b/m ratio to filter stocks\n",
    "- We choose ep ratio Rank1 1-2 and bm ratio Rank2 1-2 stocks"
   ]
  },
  {
   "cell_type": "code",
   "execution_count": 40,
   "id": "035d968a",
   "metadata": {},
   "outputs": [],
   "source": [
    "stocks_m = stocks_m.reset_index()\n",
    "stocks_m2 = stocks_m.loc[(stocks_m['RANK1']<=2)&(stocks_m['RANK2']<=2)]"
   ]
  },
  {
   "cell_type": "code",
   "execution_count": 41,
   "id": "5ec1311e",
   "metadata": {},
   "outputs": [],
   "source": [
    "stocks_list1 = list(set(stocks_m2.PERMNO))"
   ]
  },
  {
   "cell_type": "code",
   "execution_count": 42,
   "id": "c58fe285",
   "metadata": {},
   "outputs": [
    {
     "data": {
      "text/plain": [
       "593"
      ]
     },
     "execution_count": 42,
     "metadata": {},
     "output_type": "execute_result"
    }
   ],
   "source": [
    "len(stocks_list1)\n",
    "# now we get 1078 stocks left"
   ]
  },
  {
   "cell_type": "markdown",
   "id": "8a9e3501",
   "metadata": {},
   "source": [
    "# Test Regression (FM): Momentum Variables"
   ]
  },
  {
   "cell_type": "code",
   "execution_count": 43,
   "id": "6ce2cdad",
   "metadata": {},
   "outputs": [],
   "source": [
    "# try _RET1Y\n",
    "df = stocks_m.reset_index()\n",
    "df = df[df['PERMNO'].isin(stocks_list1)]\n",
    "df = df.set_index(['DATE','PERMNO'])\n",
    "df4 = df[['EXRET','_RET1Y','lag_ep']]"
   ]
  },
  {
   "cell_type": "code",
   "execution_count": 44,
   "id": "7b31b2d3",
   "metadata": {},
   "outputs": [],
   "source": [
    "allparams = df4.groupby(['DATE']).apply(lambda x: smf.ols('EXRET ~ _RET1Y', data=x).fit().params)\n",
    "rsquare = df4.groupby(['DATE']).apply(lambda x: smf.ols('EXRET ~ _RET1Y', data=x).fit().rsquared)\n",
    "pvalue = df4.groupby(['DATE']).apply(lambda x: smf.ols('EXRET ~ _RET1Y', data=x).fit().pvalues)"
   ]
  },
  {
   "cell_type": "code",
   "execution_count": 45,
   "id": "538e113f",
   "metadata": {},
   "outputs": [
    {
     "data": {
      "text/plain": [
       "0.007530934085999256"
      ]
     },
     "execution_count": 45,
     "metadata": {},
     "output_type": "execute_result"
    }
   ],
   "source": [
    "rsquare.mean()"
   ]
  },
  {
   "cell_type": "code",
   "execution_count": 46,
   "id": "72efc44c",
   "metadata": {},
   "outputs": [
    {
     "data": {
      "text/plain": [
       "Intercept    0.018934\n",
       "_RET1Y       0.026807\n",
       "dtype: float64"
      ]
     },
     "execution_count": 46,
     "metadata": {},
     "output_type": "execute_result"
    }
   ],
   "source": [
    "allparams.mean()\n",
    "\n",
    "# _RET1Y, negative, different from expectation\n",
    "# we cannot use _RET1Y to filter the stocks"
   ]
  },
  {
   "cell_type": "code",
   "execution_count": 47,
   "id": "dcbb7fc1",
   "metadata": {},
   "outputs": [
    {
     "data": {
      "text/plain": [
       "Intercept    0.114454\n",
       "_RET1Y       0.381635\n",
       "dtype: float64"
      ]
     },
     "execution_count": 47,
     "metadata": {},
     "output_type": "execute_result"
    }
   ],
   "source": [
    "pvalue.mean()"
   ]
  },
  {
   "cell_type": "markdown",
   "id": "436f4e9c",
   "metadata": {},
   "source": [
    "# Test Regression (FM): Reversal Variables"
   ]
  },
  {
   "cell_type": "code",
   "execution_count": 48,
   "id": "71f4fd8a",
   "metadata": {},
   "outputs": [],
   "source": [
    "# We only wanna keep stocks whose PERMNO in stocks_list\n",
    "stocks_d = stocks_d.reset_index()\n",
    "\n",
    "stocks_s = stocks_d[stocks_d['PERMNO'].isin(stocks_list1)]"
   ]
  },
  {
   "cell_type": "code",
   "execution_count": 49,
   "id": "199b3290",
   "metadata": {},
   "outputs": [],
   "source": [
    "stocks_s=stocks_s.set_index(['PERMNO','DATE']).sort_index()\n",
    "stocks_s=stocks_s.merge(cstat[['IB','SEQ']],how='left',on=['PERMNO','DATE'])\n",
    "\n",
    "stocks_s['lag_IB']=stocks_s['IB'].groupby('PERMNO').shift(126).fillna(method='pad',limit=378)\n",
    "stocks_s['lag_ep']=stocks_s['lag_IB']/stocks_s['MKTP'].shift(1)*1000\n",
    "stocks_s['lag_SEQ']=stocks_s['SEQ'].groupby('PERMNO').shift(126).fillna(method='pad',limit=378)\n",
    "stocks_s['lag_bm']=stocks_s['lag_SEQ']/stocks_s['MKTP'].shift(1)*1000"
   ]
  },
  {
   "cell_type": "code",
   "execution_count": 50,
   "id": "b5c66e32",
   "metadata": {},
   "outputs": [],
   "source": [
    "stocks_s = stocks_s.loc[(stocks_s['lag_ep']>0)&(stocks_s['lag_ep']<=0.2)]"
   ]
  },
  {
   "cell_type": "code",
   "execution_count": 51,
   "id": "db051671",
   "metadata": {},
   "outputs": [
    {
     "data": {
      "text/plain": [
       "Index(['PRC', 'VOL', 'RET', 'SHROUT', 'ARRET', 'LAGD', 'N_t', 'RRET', 'EXRET',\n",
       "       'MKTP', 'MAMKTP1', 'MAMKTP2', 'MSTD', 'MARET1', 'MARET2', 'MARS',\n",
       "       'MASR', 'LAGMKTP1', 'LAGMKTP2', 'LAGMARS', 'LAGMASR', 'LAGMARET1',\n",
       "       'LAGMARET2', 'LAGMSTD', 'MA5', 'LAGMA5', 'LAGRET', 'DIFF', '_RET1Y',\n",
       "       'IB', 'SEQ', 'lag_IB', 'lag_ep', 'lag_SEQ', 'lag_bm'],\n",
       "      dtype='object')"
      ]
     },
     "execution_count": 51,
     "metadata": {},
     "output_type": "execute_result"
    }
   ],
   "source": [
    "stocks_s.columns"
   ]
  },
  {
   "cell_type": "code",
   "execution_count": 52,
   "id": "a30f8176",
   "metadata": {},
   "outputs": [],
   "source": [
    "# reduce time period to make regression faster: 2018\n",
    "stocks_ss = stocks_s.reset_index()\n",
    "stocks_ss = stocks_ss.loc[(stocks_ss['DATE']<='2018-12-31') & (stocks_ss['DATE']>='2018-01-01')]"
   ]
  },
  {
   "cell_type": "code",
   "execution_count": 53,
   "id": "94fb922e",
   "metadata": {},
   "outputs": [],
   "source": [
    "dff = stocks_ss.set_index(['DATE','PERMNO'])"
   ]
  },
  {
   "cell_type": "code",
   "execution_count": 54,
   "id": "fabd17ea",
   "metadata": {},
   "outputs": [],
   "source": [
    "# try LAGRET1\n",
    "dff1 = dff[['EXRET','LAGRET']]\n",
    "allparams = dff1.groupby(['DATE']).apply(lambda x: smf.ols('EXRET ~ LAGRET', data=x).fit().params)\n",
    "rsquare = dff1.groupby(['DATE']).apply(lambda x: smf.ols('EXRET ~ LAGRET', data=x).fit().rsquared)\n",
    "pvalue = dff1.groupby(['DATE']).apply(lambda x: smf.ols('EXRET ~ LAGRET', data=x).fit().pvalues)"
   ]
  },
  {
   "cell_type": "code",
   "execution_count": 55,
   "id": "9a539792",
   "metadata": {},
   "outputs": [
    {
     "data": {
      "text/plain": [
       "0.049420240043841095"
      ]
     },
     "execution_count": 55,
     "metadata": {},
     "output_type": "execute_result"
    }
   ],
   "source": [
    "rsquare.mean()"
   ]
  },
  {
   "cell_type": "code",
   "execution_count": 56,
   "id": "7726179e",
   "metadata": {},
   "outputs": [
    {
     "data": {
      "text/plain": [
       "Intercept    0.000071\n",
       "LAGRET      -0.034219\n",
       "dtype: float64"
      ]
     },
     "execution_count": 56,
     "metadata": {},
     "output_type": "execute_result"
    }
   ],
   "source": [
    "allparams.mean()"
   ]
  },
  {
   "cell_type": "code",
   "execution_count": 57,
   "id": "0ef879ab",
   "metadata": {},
   "outputs": [
    {
     "data": {
      "text/plain": [
       "Intercept    0.203476\n",
       "LAGRET       0.351163\n",
       "dtype: float64"
      ]
     },
     "execution_count": 57,
     "metadata": {},
     "output_type": "execute_result"
    }
   ],
   "source": [
    "pvalue.mean()"
   ]
  },
  {
   "cell_type": "code",
   "execution_count": 58,
   "id": "191f0797",
   "metadata": {},
   "outputs": [],
   "source": [
    "# try LAGMARET1\n",
    "dff1 = dff[['EXRET','LAGMARET1']]\n",
    "allparams = dff1.groupby(['DATE']).apply(lambda x: smf.ols('EXRET ~ LAGMARET1', data=x).fit().params)\n",
    "rsquare = dff1.groupby(['DATE']).apply(lambda x: smf.ols('EXRET ~ LAGMARET1', data=x).fit().rsquared)\n",
    "pvalue = dff1.groupby(['DATE']).apply(lambda x: smf.ols('EXRET ~ LAGMARET1', data=x).fit().pvalues)"
   ]
  },
  {
   "cell_type": "code",
   "execution_count": 59,
   "id": "3c21a9c9",
   "metadata": {},
   "outputs": [
    {
     "data": {
      "text/plain": [
       "0.03636214324971668"
      ]
     },
     "execution_count": 59,
     "metadata": {},
     "output_type": "execute_result"
    }
   ],
   "source": [
    "rsquare.mean()"
   ]
  },
  {
   "cell_type": "code",
   "execution_count": 60,
   "id": "4efdffae",
   "metadata": {},
   "outputs": [
    {
     "data": {
      "text/plain": [
       "Intercept   -0.000092\n",
       "LAGMARET1   -0.061475\n",
       "dtype: float64"
      ]
     },
     "execution_count": 60,
     "metadata": {},
     "output_type": "execute_result"
    }
   ],
   "source": [
    "allparams.mean()"
   ]
  },
  {
   "cell_type": "code",
   "execution_count": 61,
   "id": "ba65e308",
   "metadata": {},
   "outputs": [
    {
     "data": {
      "text/plain": [
       "Intercept    0.206373\n",
       "LAGMARET1    0.373377\n",
       "dtype: float64"
      ]
     },
     "execution_count": 61,
     "metadata": {},
     "output_type": "execute_result"
    }
   ],
   "source": [
    "pvalue.mean()"
   ]
  },
  {
   "cell_type": "code",
   "execution_count": 62,
   "id": "95602963",
   "metadata": {},
   "outputs": [],
   "source": [
    "# try LAGMARET2\n",
    "dff1 = dff[['EXRET','LAGMARET2']]\n",
    "allparams = dff1.groupby(['DATE']).apply(lambda x: smf.ols('EXRET ~ LAGMARET2', data=x).fit().params)\n",
    "rsquare = dff1.groupby(['DATE']).apply(lambda x: smf.ols('EXRET ~ LAGMARET2', data=x).fit().rsquared)\n",
    "pvalue = dff1.groupby(['DATE']).apply(lambda x: smf.ols('EXRET ~ LAGMARET2', data=x).fit().pvalues)"
   ]
  },
  {
   "cell_type": "code",
   "execution_count": 63,
   "id": "9944ff3f",
   "metadata": {},
   "outputs": [
    {
     "data": {
      "text/plain": [
       "0.03794982953324959"
      ]
     },
     "execution_count": 63,
     "metadata": {},
     "output_type": "execute_result"
    }
   ],
   "source": [
    "rsquare.mean()"
   ]
  },
  {
   "cell_type": "code",
   "execution_count": 64,
   "id": "75d03cb0",
   "metadata": {},
   "outputs": [
    {
     "data": {
      "text/plain": [
       "Intercept   -0.000151\n",
       "LAGMARET2    0.066106\n",
       "dtype: float64"
      ]
     },
     "execution_count": 64,
     "metadata": {},
     "output_type": "execute_result"
    }
   ],
   "source": [
    "allparams.mean()"
   ]
  },
  {
   "cell_type": "code",
   "execution_count": 65,
   "id": "53d697b5",
   "metadata": {},
   "outputs": [
    {
     "data": {
      "text/plain": [
       "Intercept    0.210252\n",
       "LAGMARET2    0.368566\n",
       "dtype: float64"
      ]
     },
     "execution_count": 65,
     "metadata": {},
     "output_type": "execute_result"
    }
   ],
   "source": [
    "pvalue.mean()"
   ]
  },
  {
   "cell_type": "code",
   "execution_count": 66,
   "id": "68a7879c",
   "metadata": {},
   "outputs": [],
   "source": [
    "# try DIFF\n",
    "dff1 = dff[['EXRET','DIFF']]\n",
    "allparams = dff1.groupby(['DATE']).apply(lambda x: smf.ols('EXRET ~ DIFF', data=x).fit().params)\n",
    "rsquare = dff1.groupby(['DATE']).apply(lambda x: smf.ols('EXRET ~ DIFF', data=x).fit().rsquared)\n",
    "pvalue = dff1.groupby(['DATE']).apply(lambda x: smf.ols('EXRET ~ DIFF', data=x).fit().pvalues)"
   ]
  },
  {
   "cell_type": "code",
   "execution_count": 67,
   "id": "9448e8c5",
   "metadata": {},
   "outputs": [
    {
     "data": {
      "text/plain": [
       "0.045824051837138585"
      ]
     },
     "execution_count": 67,
     "metadata": {},
     "output_type": "execute_result"
    }
   ],
   "source": [
    "rsquare.mean()"
   ]
  },
  {
   "cell_type": "code",
   "execution_count": 68,
   "id": "b3325f0a",
   "metadata": {},
   "outputs": [
    {
     "data": {
      "text/plain": [
       "Intercept   -0.000022\n",
       "DIFF        -0.025519\n",
       "dtype: float64"
      ]
     },
     "execution_count": 68,
     "metadata": {},
     "output_type": "execute_result"
    }
   ],
   "source": [
    "allparams.mean()"
   ]
  },
  {
   "cell_type": "code",
   "execution_count": 69,
   "id": "a2ce81e3",
   "metadata": {},
   "outputs": [
    {
     "data": {
      "text/plain": [
       "Intercept    0.189847\n",
       "DIFF         0.358376\n",
       "dtype: float64"
      ]
     },
     "execution_count": 69,
     "metadata": {},
     "output_type": "execute_result"
    }
   ],
   "source": [
    "pvalue.mean()"
   ]
  },
  {
   "cell_type": "code",
   "execution_count": 70,
   "id": "cd59cff9",
   "metadata": {},
   "outputs": [],
   "source": [
    "# try 'LAGMSTD'\n",
    "dff1 = dff[['EXRET','LAGMSTD']]\n",
    "allparams = dff1.groupby(['DATE']).apply(lambda x: smf.ols('EXRET ~ LAGMSTD', data=x).fit().params)\n",
    "rsquare = dff1.groupby(['DATE']).apply(lambda x: smf.ols('EXRET ~ LAGMSTD', data=x).fit().rsquared)\n",
    "pvalue = dff1.groupby(['DATE']).apply(lambda x: smf.ols('EXRET ~ LAGMSTD', data=x).fit().pvalues)"
   ]
  },
  {
   "cell_type": "code",
   "execution_count": 71,
   "id": "5816e1ba",
   "metadata": {},
   "outputs": [
    {
     "data": {
      "text/plain": [
       "0.03782694578972348"
      ]
     },
     "execution_count": 71,
     "metadata": {},
     "output_type": "execute_result"
    }
   ],
   "source": [
    "rsquare.mean()"
   ]
  },
  {
   "cell_type": "code",
   "execution_count": 72,
   "id": "1e68f626",
   "metadata": {},
   "outputs": [
    {
     "data": {
      "text/plain": [
       "Intercept    0.000066\n",
       "LAGMSTD     -0.007160\n",
       "dtype: float64"
      ]
     },
     "execution_count": 72,
     "metadata": {},
     "output_type": "execute_result"
    }
   ],
   "source": [
    "allparams.mean()"
   ]
  },
  {
   "cell_type": "code",
   "execution_count": 73,
   "id": "deea8fe2",
   "metadata": {},
   "outputs": [
    {
     "data": {
      "text/plain": [
       "Intercept    0.299260\n",
       "LAGMSTD      0.364995\n",
       "dtype: float64"
      ]
     },
     "execution_count": 73,
     "metadata": {},
     "output_type": "execute_result"
    }
   ],
   "source": [
    "pvalue.mean()"
   ]
  },
  {
   "cell_type": "code",
   "execution_count": 74,
   "id": "d4e75f64",
   "metadata": {},
   "outputs": [],
   "source": [
    "# try 'LAGMARS' \n",
    "dff1 = dff[['EXRET','LAGMARS']]\n",
    "allparams = dff1.groupby(['DATE']).apply(lambda x: smf.ols('EXRET ~ LAGMARS', data=x).fit().params)\n",
    "rsquare = dff1.groupby(['DATE']).apply(lambda x: smf.ols('EXRET ~ LAGMARS', data=x).fit().rsquared)\n",
    "pvalue = dff1.groupby(['DATE']).apply(lambda x: smf.ols('EXRET ~ LAGMARS', data=x).fit().pvalues)"
   ]
  },
  {
   "cell_type": "code",
   "execution_count": 75,
   "id": "2acda315",
   "metadata": {},
   "outputs": [
    {
     "data": {
      "text/plain": [
       "0.04389667489093294"
      ]
     },
     "execution_count": 75,
     "metadata": {},
     "output_type": "execute_result"
    }
   ],
   "source": [
    "rsquare.mean()"
   ]
  },
  {
   "cell_type": "code",
   "execution_count": 76,
   "id": "85e50c16",
   "metadata": {},
   "outputs": [
    {
     "data": {
      "text/plain": [
       "Intercept   -0.000109\n",
       "LAGMARS     -0.154545\n",
       "dtype: float64"
      ]
     },
     "execution_count": 76,
     "metadata": {},
     "output_type": "execute_result"
    }
   ],
   "source": [
    "allparams.mean()"
   ]
  },
  {
   "cell_type": "code",
   "execution_count": 77,
   "id": "9c88c8d6",
   "metadata": {},
   "outputs": [
    {
     "data": {
      "text/plain": [
       "Intercept    0.193189\n",
       "LAGMARS      0.341366\n",
       "dtype: float64"
      ]
     },
     "execution_count": 77,
     "metadata": {},
     "output_type": "execute_result"
    }
   ],
   "source": [
    "pvalue.mean()"
   ]
  },
  {
   "cell_type": "code",
   "execution_count": 78,
   "id": "9c8b163a",
   "metadata": {},
   "outputs": [],
   "source": [
    "# try 'LAGMASR' - NOT GOOD\n",
    "dff1 = dff[['EXRET','LAGMASR']]\n",
    "allparams = dff1.groupby(['DATE']).apply(lambda x: smf.ols('EXRET ~ LAGMASR', data=x).fit().params)\n",
    "rsquare = dff1.groupby(['DATE']).apply(lambda x: smf.ols('EXRET ~ LAGMASR', data=x).fit().rsquared)\n",
    "pvalue = dff1.groupby(['DATE']).apply(lambda x: smf.ols('EXRET ~ LAGMASR', data=x).fit().pvalues)"
   ]
  },
  {
   "cell_type": "code",
   "execution_count": 79,
   "id": "e7bf7c9a",
   "metadata": {},
   "outputs": [
    {
     "data": {
      "text/plain": [
       "0.03015527555743579"
      ]
     },
     "execution_count": 79,
     "metadata": {},
     "output_type": "execute_result"
    }
   ],
   "source": [
    "rsquare.mean()"
   ]
  },
  {
   "cell_type": "code",
   "execution_count": 80,
   "id": "9f8c1eab",
   "metadata": {},
   "outputs": [
    {
     "data": {
      "text/plain": [
       "Intercept   -0.000226\n",
       "LAGMASR      0.002865\n",
       "dtype: float64"
      ]
     },
     "execution_count": 80,
     "metadata": {},
     "output_type": "execute_result"
    }
   ],
   "source": [
    "allparams.mean()"
   ]
  },
  {
   "cell_type": "code",
   "execution_count": 81,
   "id": "04189da9",
   "metadata": {},
   "outputs": [
    {
     "data": {
      "text/plain": [
       "Intercept    0.226932\n",
       "LAGMASR      0.411671\n",
       "dtype: float64"
      ]
     },
     "execution_count": 81,
     "metadata": {},
     "output_type": "execute_result"
    }
   ],
   "source": [
    "pvalue.mean()"
   ]
  },
  {
   "cell_type": "code",
   "execution_count": 82,
   "id": "fdeb3811",
   "metadata": {},
   "outputs": [],
   "source": [
    "# try LAGMARS + DIFF - NOT GOOD \n",
    "dff1 = dff[['EXRET','LAGMARS','DIFF']]\n",
    "allparams = dff1.groupby(['DATE']).apply(lambda x: smf.ols('EXRET ~ LAGMARS + DIFF', data=x).fit().params)\n",
    "rsquare = dff1.groupby(['DATE']).apply(lambda x: smf.ols('EXRET ~ LAGMARS + DIFF', data=x).fit().rsquared)\n",
    "pvalue = dff1.groupby(['DATE']).apply(lambda x: smf.ols('EXRET ~ LAGMARS + DIFF', data=x).fit().pvalues)"
   ]
  },
  {
   "cell_type": "code",
   "execution_count": 83,
   "id": "d1881eed",
   "metadata": {},
   "outputs": [
    {
     "data": {
      "text/plain": [
       "0.08792700534305997"
      ]
     },
     "execution_count": 83,
     "metadata": {},
     "output_type": "execute_result"
    }
   ],
   "source": [
    "rsquare.mean()"
   ]
  },
  {
   "cell_type": "code",
   "execution_count": 84,
   "id": "0a4dbca8",
   "metadata": {},
   "outputs": [
    {
     "data": {
      "text/plain": [
       "Intercept   -0.000036\n",
       "LAGMARS      3.553977\n",
       "DIFF        -0.026318\n",
       "dtype: float64"
      ]
     },
     "execution_count": 84,
     "metadata": {},
     "output_type": "execute_result"
    }
   ],
   "source": [
    "allparams.mean()"
   ]
  },
  {
   "cell_type": "code",
   "execution_count": 85,
   "id": "6f8384f4",
   "metadata": {},
   "outputs": [
    {
     "data": {
      "text/plain": [
       "Intercept    0.207360\n",
       "LAGMARS      0.342123\n",
       "DIFF         0.368039\n",
       "dtype: float64"
      ]
     },
     "execution_count": 85,
     "metadata": {},
     "output_type": "execute_result"
    }
   ],
   "source": [
    "pvalue.mean()"
   ]
  },
  {
   "cell_type": "code",
   "execution_count": 86,
   "id": "2b3823a1",
   "metadata": {},
   "outputs": [],
   "source": [
    "# try LAGMARET2 + DIFF\n",
    "dff1 = dff[['EXRET','LAGMARET2','DIFF']]\n",
    "allparams = dff1.groupby(['DATE']).apply(lambda x: smf.ols('EXRET ~ LAGMARET2+ DIFF', data=x).fit().params)\n",
    "rsquare = dff1.groupby(['DATE']).apply(lambda x: smf.ols('EXRET ~ LAGMARET2 + DIFF', data=x).fit().rsquared)\n",
    "pvalue = dff1.groupby(['DATE']).apply(lambda x: smf.ols('EXRET ~ LAGMARET2 + DIFF', data=x).fit().pvalues)"
   ]
  },
  {
   "cell_type": "code",
   "execution_count": 87,
   "id": "49f88a2c",
   "metadata": {},
   "outputs": [
    {
     "data": {
      "text/plain": [
       "0.08250179144086543"
      ]
     },
     "execution_count": 87,
     "metadata": {},
     "output_type": "execute_result"
    }
   ],
   "source": [
    "rsquare.mean()"
   ]
  },
  {
   "cell_type": "code",
   "execution_count": 88,
   "id": "327f8fcb",
   "metadata": {},
   "outputs": [
    {
     "data": {
      "text/plain": [
       "Intercept   -0.000048\n",
       "LAGMARET2    0.169099\n",
       "DIFF        -0.027596\n",
       "dtype: float64"
      ]
     },
     "execution_count": 88,
     "metadata": {},
     "output_type": "execute_result"
    }
   ],
   "source": [
    "allparams.mean()"
   ]
  },
  {
   "cell_type": "code",
   "execution_count": 89,
   "id": "4beee486",
   "metadata": {},
   "outputs": [
    {
     "data": {
      "text/plain": [
       "Intercept    0.223541\n",
       "LAGMARET2    0.375181\n",
       "DIFF         0.366296\n",
       "dtype: float64"
      ]
     },
     "execution_count": 89,
     "metadata": {},
     "output_type": "execute_result"
    }
   ],
   "source": [
    "pvalue.mean()"
   ]
  },
  {
   "cell_type": "code",
   "execution_count": 90,
   "id": "f6ef08bd",
   "metadata": {},
   "outputs": [],
   "source": [
    "dff1 = dff[['EXRET','LAGMSTD','DIFF','LAGMARET2']]\n",
    "allparams = dff1.groupby(['DATE']).apply(lambda x: smf.ols('EXRET ~ LAGMSTD + DIFF+LAGMARET2', data=x).fit().params)\n",
    "rsquare = dff1.groupby(['DATE']).apply(lambda x: smf.ols('EXRET ~ LAGMSTD + DIFF+LAGMARET2', data=x).fit().rsquared)\n",
    "pvalue = dff1.groupby(['DATE']).apply(lambda x: smf.ols('EXRET ~ LAGMSTD + DIFF+LAGMARET2', data=x).fit().pvalues)"
   ]
  },
  {
   "cell_type": "code",
   "execution_count": 91,
   "id": "c67b5860",
   "metadata": {},
   "outputs": [
    {
     "data": {
      "text/plain": [
       "0.11774139180665434"
      ]
     },
     "execution_count": 91,
     "metadata": {},
     "output_type": "execute_result"
    }
   ],
   "source": [
    "rsquare.mean()"
   ]
  },
  {
   "cell_type": "code",
   "execution_count": 92,
   "id": "ce17286b",
   "metadata": {},
   "outputs": [],
   "source": [
    "dff1 = dff[['EXRET','_RET1Y']]\n",
    "allparams = dff1.groupby(['DATE']).apply(lambda x: smf.ols('EXRET ~ _RET1Y', data=x).fit().params)\n",
    "rsquare = dff1.groupby(['DATE']).apply(lambda x: smf.ols('EXRET ~ _RET1Y', data=x).fit().rsquared)\n",
    "pvalue = dff1.groupby(['DATE']).apply(lambda x: smf.ols('EXRET ~ _RET1Y', data=x).fit().pvalues)"
   ]
  },
  {
   "cell_type": "code",
   "execution_count": 93,
   "id": "d98e9397",
   "metadata": {},
   "outputs": [
    {
     "data": {
      "text/plain": [
       "0.028457866322981463"
      ]
     },
     "execution_count": 93,
     "metadata": {},
     "output_type": "execute_result"
    }
   ],
   "source": [
    "rsquare.mean()"
   ]
  },
  {
   "cell_type": "code",
   "execution_count": 94,
   "id": "68f2d334",
   "metadata": {},
   "outputs": [
    {
     "data": {
      "text/plain": [
       "Intercept    0.189027\n",
       "_RET1Y       0.415630\n",
       "dtype: float64"
      ]
     },
     "execution_count": 94,
     "metadata": {},
     "output_type": "execute_result"
    }
   ],
   "source": [
    "pvalue.mean()"
   ]
  },
  {
   "cell_type": "code",
   "execution_count": null,
   "id": "3b23426c",
   "metadata": {},
   "outputs": [],
   "source": []
  },
  {
   "cell_type": "markdown",
   "id": "5232fc95",
   "metadata": {},
   "source": [
    "# Final model"
   ]
  },
  {
   "cell_type": "code",
   "execution_count": 95,
   "id": "d304458a",
   "metadata": {},
   "outputs": [],
   "source": [
    "stocks_s = stocks_s.reset_index()\n",
    "dff = stocks_s.loc[(stocks_s['DATE']<='2018-12-31') & (stocks_s['DATE']>='2014-01-01')]\n",
    "dff = dff.set_index(['DATE','PERMNO'])"
   ]
  },
  {
   "cell_type": "code",
   "execution_count": 96,
   "id": "5b453aaa",
   "metadata": {},
   "outputs": [],
   "source": [
    "data = dff[['EXRET','lag_bm','lag_ep','DIFF','LAGMSTD','LAGMARET2','LAGRET','_RET1Y']]"
   ]
  },
  {
   "cell_type": "code",
   "execution_count": 97,
   "id": "a9a8fda8",
   "metadata": {},
   "outputs": [],
   "source": [
    "allparams = data.groupby(['DATE']).apply(lambda x: smf.ols('EXRET ~ lag_bm+lag_ep+LAGMSTD+LAGRET', data=x).fit().params)\n",
    "rsquare = data.groupby(['DATE']).apply(lambda x: smf.ols('EXRET ~ lag_bm+lag_ep+LAGMSTD+LAGRET', data=x).fit().rsquared)\n",
    "pvalue = data.groupby(['DATE']).apply(lambda x: smf.ols('EXRET ~ lag_bm+lag_ep+LAGMSTD+LAGRET', data=x).fit().pvalues)"
   ]
  },
  {
   "cell_type": "code",
   "execution_count": 98,
   "id": "6706c792",
   "metadata": {},
   "outputs": [
    {
     "data": {
      "text/plain": [
       "0.07134210846497467"
      ]
     },
     "execution_count": 98,
     "metadata": {},
     "output_type": "execute_result"
    }
   ],
   "source": [
    "rsquare.mean()"
   ]
  },
  {
   "cell_type": "code",
   "execution_count": 99,
   "id": "399ca512",
   "metadata": {},
   "outputs": [
    {
     "data": {
      "text/plain": [
       "Intercept    0.000547\n",
       "lag_bm       0.000469\n",
       "lag_ep      -0.000645\n",
       "LAGMSTD     -0.010819\n",
       "LAGRET      -0.032555\n",
       "dtype: float64"
      ]
     },
     "execution_count": 99,
     "metadata": {},
     "output_type": "execute_result"
    }
   ],
   "source": [
    "allparams.mean()"
   ]
  },
  {
   "cell_type": "code",
   "execution_count": 100,
   "id": "2f47deda",
   "metadata": {},
   "outputs": [
    {
     "data": {
      "text/plain": [
       "Intercept    0.262069\n",
       "lag_bm       0.358124\n",
       "lag_ep       0.364775\n",
       "LAGMSTD      0.293627\n",
       "LAGRET       0.291567\n",
       "dtype: float64"
      ]
     },
     "execution_count": 100,
     "metadata": {},
     "output_type": "execute_result"
    }
   ],
   "source": [
    "pvalue.mean()"
   ]
  },
  {
   "cell_type": "code",
   "execution_count": 101,
   "id": "22d43eda",
   "metadata": {},
   "outputs": [
    {
     "data": {
      "text/html": [
       "<div>\n",
       "<style scoped>\n",
       "    .dataframe tbody tr th:only-of-type {\n",
       "        vertical-align: middle;\n",
       "    }\n",
       "\n",
       "    .dataframe tbody tr th {\n",
       "        vertical-align: top;\n",
       "    }\n",
       "\n",
       "    .dataframe thead th {\n",
       "        text-align: right;\n",
       "    }\n",
       "</style>\n",
       "<table border=\"1\" class=\"dataframe\">\n",
       "  <thead>\n",
       "    <tr style=\"text-align: right;\">\n",
       "      <th></th>\n",
       "      <th>PERMNO</th>\n",
       "      <th>DATE</th>\n",
       "      <th>PRC</th>\n",
       "      <th>VOL</th>\n",
       "      <th>RET</th>\n",
       "      <th>SHROUT</th>\n",
       "      <th>ARRET</th>\n",
       "      <th>LAGD</th>\n",
       "      <th>N_t</th>\n",
       "      <th>RRET</th>\n",
       "      <th>...</th>\n",
       "      <th>LAGMA5</th>\n",
       "      <th>LAGRET</th>\n",
       "      <th>DIFF</th>\n",
       "      <th>_RET1Y</th>\n",
       "      <th>IB</th>\n",
       "      <th>SEQ</th>\n",
       "      <th>lag_IB</th>\n",
       "      <th>lag_ep</th>\n",
       "      <th>lag_SEQ</th>\n",
       "      <th>lag_bm</th>\n",
       "    </tr>\n",
       "  </thead>\n",
       "  <tbody>\n",
       "    <tr>\n",
       "      <th>0</th>\n",
       "      <td>10044.0</td>\n",
       "      <td>2011-08-26</td>\n",
       "      <td>8.800</td>\n",
       "      <td>10333.0</td>\n",
       "      <td>-0.009979</td>\n",
       "      <td>6091.0</td>\n",
       "      <td>0.010</td>\n",
       "      <td>2011-08-25</td>\n",
       "      <td>1.0</td>\n",
       "      <td>2.739726e-07</td>\n",
       "      <td>...</td>\n",
       "      <td>0.004074</td>\n",
       "      <td>0.004373</td>\n",
       "      <td>0.000299</td>\n",
       "      <td>0.001867</td>\n",
       "      <td>NaN</td>\n",
       "      <td>NaN</td>\n",
       "      <td>3.911</td>\n",
       "      <td>0.072237</td>\n",
       "      <td>16.654</td>\n",
       "      <td>0.307604</td>\n",
       "    </tr>\n",
       "    <tr>\n",
       "      <th>1</th>\n",
       "      <td>10044.0</td>\n",
       "      <td>2011-08-29</td>\n",
       "      <td>8.890</td>\n",
       "      <td>14371.0</td>\n",
       "      <td>0.010227</td>\n",
       "      <td>6091.0</td>\n",
       "      <td>0.005</td>\n",
       "      <td>2011-08-26</td>\n",
       "      <td>3.0</td>\n",
       "      <td>8.219178e-07</td>\n",
       "      <td>...</td>\n",
       "      <td>0.000700</td>\n",
       "      <td>-0.009979</td>\n",
       "      <td>-0.010679</td>\n",
       "      <td>0.001348</td>\n",
       "      <td>NaN</td>\n",
       "      <td>NaN</td>\n",
       "      <td>3.911</td>\n",
       "      <td>0.072965</td>\n",
       "      <td>16.654</td>\n",
       "      <td>0.310704</td>\n",
       "    </tr>\n",
       "    <tr>\n",
       "      <th>2</th>\n",
       "      <td>10044.0</td>\n",
       "      <td>2011-08-30</td>\n",
       "      <td>8.910</td>\n",
       "      <td>6209.0</td>\n",
       "      <td>0.002250</td>\n",
       "      <td>6091.0</td>\n",
       "      <td>0.015</td>\n",
       "      <td>2011-08-29</td>\n",
       "      <td>1.0</td>\n",
       "      <td>1.369863e-07</td>\n",
       "      <td>...</td>\n",
       "      <td>0.001418</td>\n",
       "      <td>0.010227</td>\n",
       "      <td>0.008809</td>\n",
       "      <td>-0.000091</td>\n",
       "      <td>NaN</td>\n",
       "      <td>NaN</td>\n",
       "      <td>3.911</td>\n",
       "      <td>0.072227</td>\n",
       "      <td>16.654</td>\n",
       "      <td>0.307559</td>\n",
       "    </tr>\n",
       "    <tr>\n",
       "      <th>3</th>\n",
       "      <td>10044.0</td>\n",
       "      <td>2011-08-31</td>\n",
       "      <td>8.926</td>\n",
       "      <td>3403.0</td>\n",
       "      <td>0.001796</td>\n",
       "      <td>6126.0</td>\n",
       "      <td>0.015</td>\n",
       "      <td>2011-08-30</td>\n",
       "      <td>1.0</td>\n",
       "      <td>4.109589e-07</td>\n",
       "      <td>...</td>\n",
       "      <td>0.001261</td>\n",
       "      <td>0.002250</td>\n",
       "      <td>0.000988</td>\n",
       "      <td>0.001697</td>\n",
       "      <td>NaN</td>\n",
       "      <td>NaN</td>\n",
       "      <td>3.911</td>\n",
       "      <td>0.072065</td>\n",
       "      <td>16.654</td>\n",
       "      <td>0.306868</td>\n",
       "    </tr>\n",
       "    <tr>\n",
       "      <th>4</th>\n",
       "      <td>10044.0</td>\n",
       "      <td>2011-09-01</td>\n",
       "      <td>9.000</td>\n",
       "      <td>9228.0</td>\n",
       "      <td>0.019494</td>\n",
       "      <td>6126.0</td>\n",
       "      <td>0.010</td>\n",
       "      <td>2011-08-31</td>\n",
       "      <td>1.0</td>\n",
       "      <td>4.109589e-07</td>\n",
       "      <td>...</td>\n",
       "      <td>0.001733</td>\n",
       "      <td>0.001796</td>\n",
       "      <td>0.000062</td>\n",
       "      <td>0.002421</td>\n",
       "      <td>NaN</td>\n",
       "      <td>NaN</td>\n",
       "      <td>3.911</td>\n",
       "      <td>0.071524</td>\n",
       "      <td>16.654</td>\n",
       "      <td>0.304568</td>\n",
       "    </tr>\n",
       "  </tbody>\n",
       "</table>\n",
       "<p>5 rows × 37 columns</p>\n",
       "</div>"
      ],
      "text/plain": [
       "    PERMNO       DATE    PRC      VOL       RET  SHROUT  ARRET       LAGD  \\\n",
       "0  10044.0 2011-08-26  8.800  10333.0 -0.009979  6091.0  0.010 2011-08-25   \n",
       "1  10044.0 2011-08-29  8.890  14371.0  0.010227  6091.0  0.005 2011-08-26   \n",
       "2  10044.0 2011-08-30  8.910   6209.0  0.002250  6091.0  0.015 2011-08-29   \n",
       "3  10044.0 2011-08-31  8.926   3403.0  0.001796  6126.0  0.015 2011-08-30   \n",
       "4  10044.0 2011-09-01  9.000   9228.0  0.019494  6126.0  0.010 2011-08-31   \n",
       "\n",
       "   N_t          RRET  ...    LAGMA5    LAGRET      DIFF    _RET1Y  IB  SEQ  \\\n",
       "0  1.0  2.739726e-07  ...  0.004074  0.004373  0.000299  0.001867 NaN  NaN   \n",
       "1  3.0  8.219178e-07  ...  0.000700 -0.009979 -0.010679  0.001348 NaN  NaN   \n",
       "2  1.0  1.369863e-07  ...  0.001418  0.010227  0.008809 -0.000091 NaN  NaN   \n",
       "3  1.0  4.109589e-07  ...  0.001261  0.002250  0.000988  0.001697 NaN  NaN   \n",
       "4  1.0  4.109589e-07  ...  0.001733  0.001796  0.000062  0.002421 NaN  NaN   \n",
       "\n",
       "   lag_IB    lag_ep  lag_SEQ    lag_bm  \n",
       "0   3.911  0.072237   16.654  0.307604  \n",
       "1   3.911  0.072965   16.654  0.310704  \n",
       "2   3.911  0.072227   16.654  0.307559  \n",
       "3   3.911  0.072065   16.654  0.306868  \n",
       "4   3.911  0.071524   16.654  0.304568  \n",
       "\n",
       "[5 rows x 37 columns]"
      ]
     },
     "execution_count": 101,
     "metadata": {},
     "output_type": "execute_result"
    }
   ],
   "source": [
    "stocks_s.head()"
   ]
  },
  {
   "cell_type": "code",
   "execution_count": 102,
   "id": "4b7dc247",
   "metadata": {},
   "outputs": [],
   "source": [
    "# stocks_ss = stocks_ss.set_index('DATE')\n",
    "days=dff.index.get_level_values('DATE')\n",
    "days=len(days.unique())\n",
    "\n",
    "stocks_p=dff.reset_index()\n",
    "stocks_p['PRED']=np.nan\n",
    "\n",
    "for t in range(66, days):\n",
    "    p0=allparams.iloc[(t-66):t].Intercept.mean()\n",
    "    p1=allparams.iloc[(t-66):t].lag_bm.mean()\n",
    "    p2=allparams.iloc[(t-66):t].lag_ep.mean()\n",
    "    p3=allparams.iloc[(t-66):t].LAGRET.mean()\n",
    "    p4=allparams.iloc[(t-66):t].LAGMSTD.mean()\n",
    "#     p5=allparams.iloc[(t-66):t]._RET1Y.mean()\n",
    "    date=allparams.index[t]\n",
    "    \n",
    "    stocks_p.loc[stocks_p.DATE==date,'PRED'] = p0 + p1*stocks_p.loc[stocks_p.DATE==date,'lag_bm']+\\\n",
    "                                                                        p2*stocks_p.loc[stocks_p.DATE==date,'lag_ep']+\\\n",
    "                                                                        p3*stocks_p.loc[stocks_p.DATE==date,'LAGRET']+\\\n",
    "                                                                        p4*stocks_p.loc[stocks_p.DATE==date,'LAGMSTD']\n",
    "#                                                                         p5*stocks_p.loc[stocks_p.DATE==date,'_RET1Y']\n",
    "        "
   ]
  },
  {
   "cell_type": "code",
   "execution_count": 103,
   "id": "47a53bbb",
   "metadata": {},
   "outputs": [],
   "source": [
    "stocks_p=stocks_p[stocks_p.PRED.notnull()]"
   ]
  },
  {
   "cell_type": "markdown",
   "id": "c428f815",
   "metadata": {},
   "source": [
    "- **Rank all etfs based on PRED into 40 groups, about 25 stocks in each group**"
   ]
  },
  {
   "cell_type": "code",
   "execution_count": 104,
   "id": "0ea571b3",
   "metadata": {},
   "outputs": [],
   "source": [
    "stocks_p= stocks_p.reset_index()\n",
    "stocks_p = stocks_p.set_index(['DATE','PERMNO'])\n",
    "stocks_p['RANK'] = stocks_p['PRED'].groupby(['DATE']).apply(lambda x: pd.qcut(x, 40, labels=range(1,41)))"
   ]
  },
  {
   "cell_type": "code",
   "execution_count": 105,
   "id": "3d16d45b",
   "metadata": {},
   "outputs": [
    {
     "data": {
      "text/html": [
       "<div>\n",
       "<style scoped>\n",
       "    .dataframe tbody tr th:only-of-type {\n",
       "        vertical-align: middle;\n",
       "    }\n",
       "\n",
       "    .dataframe tbody tr th {\n",
       "        vertical-align: top;\n",
       "    }\n",
       "\n",
       "    .dataframe thead tr th {\n",
       "        text-align: left;\n",
       "    }\n",
       "\n",
       "    .dataframe thead tr:last-of-type th {\n",
       "        text-align: right;\n",
       "    }\n",
       "</style>\n",
       "<table border=\"1\" class=\"dataframe\">\n",
       "  <thead>\n",
       "    <tr>\n",
       "      <th></th>\n",
       "      <th colspan=\"8\" halign=\"left\">RET</th>\n",
       "    </tr>\n",
       "    <tr>\n",
       "      <th></th>\n",
       "      <th>count</th>\n",
       "      <th>mean</th>\n",
       "      <th>std</th>\n",
       "      <th>min</th>\n",
       "      <th>25%</th>\n",
       "      <th>50%</th>\n",
       "      <th>75%</th>\n",
       "      <th>max</th>\n",
       "    </tr>\n",
       "    <tr>\n",
       "      <th>RANK</th>\n",
       "      <th></th>\n",
       "      <th></th>\n",
       "      <th></th>\n",
       "      <th></th>\n",
       "      <th></th>\n",
       "      <th></th>\n",
       "      <th></th>\n",
       "      <th></th>\n",
       "    </tr>\n",
       "  </thead>\n",
       "  <tbody>\n",
       "    <tr>\n",
       "      <th>1</th>\n",
       "      <td>1192.0</td>\n",
       "      <td>-0.001049</td>\n",
       "      <td>0.021428</td>\n",
       "      <td>-0.105471</td>\n",
       "      <td>-0.011287</td>\n",
       "      <td>-0.001463</td>\n",
       "      <td>0.008961</td>\n",
       "      <td>0.206938</td>\n",
       "    </tr>\n",
       "    <tr>\n",
       "      <th>2</th>\n",
       "      <td>1192.0</td>\n",
       "      <td>-0.001092</td>\n",
       "      <td>0.017835</td>\n",
       "      <td>-0.099143</td>\n",
       "      <td>-0.009625</td>\n",
       "      <td>-0.000808</td>\n",
       "      <td>0.007686</td>\n",
       "      <td>0.198500</td>\n",
       "    </tr>\n",
       "    <tr>\n",
       "      <th>3</th>\n",
       "      <td>1192.0</td>\n",
       "      <td>-0.000441</td>\n",
       "      <td>0.015105</td>\n",
       "      <td>-0.075477</td>\n",
       "      <td>-0.008683</td>\n",
       "      <td>-0.000247</td>\n",
       "      <td>0.008288</td>\n",
       "      <td>0.109051</td>\n",
       "    </tr>\n",
       "    <tr>\n",
       "      <th>4</th>\n",
       "      <td>1192.0</td>\n",
       "      <td>-0.000108</td>\n",
       "      <td>0.014844</td>\n",
       "      <td>-0.081818</td>\n",
       "      <td>-0.008253</td>\n",
       "      <td>0.000046</td>\n",
       "      <td>0.008262</td>\n",
       "      <td>0.066707</td>\n",
       "    </tr>\n",
       "    <tr>\n",
       "      <th>5</th>\n",
       "      <td>1192.0</td>\n",
       "      <td>-0.000485</td>\n",
       "      <td>0.014801</td>\n",
       "      <td>-0.122892</td>\n",
       "      <td>-0.008037</td>\n",
       "      <td>0.000322</td>\n",
       "      <td>0.007256</td>\n",
       "      <td>0.090760</td>\n",
       "    </tr>\n",
       "    <tr>\n",
       "      <th>6</th>\n",
       "      <td>1192.0</td>\n",
       "      <td>0.000803</td>\n",
       "      <td>0.015320</td>\n",
       "      <td>-0.074893</td>\n",
       "      <td>-0.006629</td>\n",
       "      <td>0.000835</td>\n",
       "      <td>0.007915</td>\n",
       "      <td>0.196884</td>\n",
       "    </tr>\n",
       "    <tr>\n",
       "      <th>7</th>\n",
       "      <td>1192.0</td>\n",
       "      <td>0.000028</td>\n",
       "      <td>0.017905</td>\n",
       "      <td>-0.299820</td>\n",
       "      <td>-0.006295</td>\n",
       "      <td>0.000366</td>\n",
       "      <td>0.007378</td>\n",
       "      <td>0.146882</td>\n",
       "    </tr>\n",
       "    <tr>\n",
       "      <th>8</th>\n",
       "      <td>1192.0</td>\n",
       "      <td>0.000627</td>\n",
       "      <td>0.014220</td>\n",
       "      <td>-0.087912</td>\n",
       "      <td>-0.006970</td>\n",
       "      <td>0.000614</td>\n",
       "      <td>0.007508</td>\n",
       "      <td>0.157130</td>\n",
       "    </tr>\n",
       "    <tr>\n",
       "      <th>9</th>\n",
       "      <td>1192.0</td>\n",
       "      <td>0.000332</td>\n",
       "      <td>0.014439</td>\n",
       "      <td>-0.189207</td>\n",
       "      <td>-0.006162</td>\n",
       "      <td>0.000926</td>\n",
       "      <td>0.007483</td>\n",
       "      <td>0.066390</td>\n",
       "    </tr>\n",
       "    <tr>\n",
       "      <th>10</th>\n",
       "      <td>1192.0</td>\n",
       "      <td>0.000057</td>\n",
       "      <td>0.012563</td>\n",
       "      <td>-0.065659</td>\n",
       "      <td>-0.006918</td>\n",
       "      <td>0.000401</td>\n",
       "      <td>0.007759</td>\n",
       "      <td>0.047800</td>\n",
       "    </tr>\n",
       "    <tr>\n",
       "      <th>11</th>\n",
       "      <td>1192.0</td>\n",
       "      <td>0.000627</td>\n",
       "      <td>0.014731</td>\n",
       "      <td>-0.123404</td>\n",
       "      <td>-0.006387</td>\n",
       "      <td>0.000714</td>\n",
       "      <td>0.007618</td>\n",
       "      <td>0.136564</td>\n",
       "    </tr>\n",
       "    <tr>\n",
       "      <th>12</th>\n",
       "      <td>1192.0</td>\n",
       "      <td>0.000091</td>\n",
       "      <td>0.013404</td>\n",
       "      <td>-0.099061</td>\n",
       "      <td>-0.006256</td>\n",
       "      <td>0.000813</td>\n",
       "      <td>0.007494</td>\n",
       "      <td>0.083250</td>\n",
       "    </tr>\n",
       "    <tr>\n",
       "      <th>13</th>\n",
       "      <td>1192.0</td>\n",
       "      <td>-0.000286</td>\n",
       "      <td>0.014070</td>\n",
       "      <td>-0.093074</td>\n",
       "      <td>-0.007024</td>\n",
       "      <td>-0.000132</td>\n",
       "      <td>0.006855</td>\n",
       "      <td>0.096976</td>\n",
       "    </tr>\n",
       "    <tr>\n",
       "      <th>14</th>\n",
       "      <td>1192.0</td>\n",
       "      <td>0.000088</td>\n",
       "      <td>0.012324</td>\n",
       "      <td>-0.045826</td>\n",
       "      <td>-0.006868</td>\n",
       "      <td>0.000417</td>\n",
       "      <td>0.007278</td>\n",
       "      <td>0.049254</td>\n",
       "    </tr>\n",
       "    <tr>\n",
       "      <th>15</th>\n",
       "      <td>1192.0</td>\n",
       "      <td>0.000345</td>\n",
       "      <td>0.012810</td>\n",
       "      <td>-0.059786</td>\n",
       "      <td>-0.006204</td>\n",
       "      <td>0.000483</td>\n",
       "      <td>0.007373</td>\n",
       "      <td>0.087549</td>\n",
       "    </tr>\n",
       "    <tr>\n",
       "      <th>16</th>\n",
       "      <td>1192.0</td>\n",
       "      <td>0.000091</td>\n",
       "      <td>0.014046</td>\n",
       "      <td>-0.096168</td>\n",
       "      <td>-0.006247</td>\n",
       "      <td>0.000659</td>\n",
       "      <td>0.007473</td>\n",
       "      <td>0.104748</td>\n",
       "    </tr>\n",
       "    <tr>\n",
       "      <th>17</th>\n",
       "      <td>1192.0</td>\n",
       "      <td>0.000228</td>\n",
       "      <td>0.014541</td>\n",
       "      <td>-0.246813</td>\n",
       "      <td>-0.006431</td>\n",
       "      <td>0.000802</td>\n",
       "      <td>0.007025</td>\n",
       "      <td>0.087343</td>\n",
       "    </tr>\n",
       "    <tr>\n",
       "      <th>18</th>\n",
       "      <td>1192.0</td>\n",
       "      <td>0.000629</td>\n",
       "      <td>0.013010</td>\n",
       "      <td>-0.077747</td>\n",
       "      <td>-0.006033</td>\n",
       "      <td>0.001083</td>\n",
       "      <td>0.007844</td>\n",
       "      <td>0.063853</td>\n",
       "    </tr>\n",
       "    <tr>\n",
       "      <th>19</th>\n",
       "      <td>1192.0</td>\n",
       "      <td>0.000833</td>\n",
       "      <td>0.013454</td>\n",
       "      <td>-0.051791</td>\n",
       "      <td>-0.005944</td>\n",
       "      <td>0.000441</td>\n",
       "      <td>0.007343</td>\n",
       "      <td>0.163160</td>\n",
       "    </tr>\n",
       "    <tr>\n",
       "      <th>20</th>\n",
       "      <td>1192.0</td>\n",
       "      <td>0.000527</td>\n",
       "      <td>0.014039</td>\n",
       "      <td>-0.098643</td>\n",
       "      <td>-0.005680</td>\n",
       "      <td>0.000437</td>\n",
       "      <td>0.007167</td>\n",
       "      <td>0.147555</td>\n",
       "    </tr>\n",
       "    <tr>\n",
       "      <th>21</th>\n",
       "      <td>1192.0</td>\n",
       "      <td>0.000064</td>\n",
       "      <td>0.016682</td>\n",
       "      <td>-0.267996</td>\n",
       "      <td>-0.006638</td>\n",
       "      <td>0.000591</td>\n",
       "      <td>0.006909</td>\n",
       "      <td>0.148699</td>\n",
       "    </tr>\n",
       "    <tr>\n",
       "      <th>22</th>\n",
       "      <td>1192.0</td>\n",
       "      <td>0.000785</td>\n",
       "      <td>0.013225</td>\n",
       "      <td>-0.086859</td>\n",
       "      <td>-0.005935</td>\n",
       "      <td>0.000988</td>\n",
       "      <td>0.008103</td>\n",
       "      <td>0.108392</td>\n",
       "    </tr>\n",
       "    <tr>\n",
       "      <th>23</th>\n",
       "      <td>1192.0</td>\n",
       "      <td>0.000168</td>\n",
       "      <td>0.013752</td>\n",
       "      <td>-0.131100</td>\n",
       "      <td>-0.006082</td>\n",
       "      <td>0.000831</td>\n",
       "      <td>0.007602</td>\n",
       "      <td>0.083735</td>\n",
       "    </tr>\n",
       "    <tr>\n",
       "      <th>24</th>\n",
       "      <td>1192.0</td>\n",
       "      <td>0.000110</td>\n",
       "      <td>0.012820</td>\n",
       "      <td>-0.102961</td>\n",
       "      <td>-0.006615</td>\n",
       "      <td>0.000605</td>\n",
       "      <td>0.007189</td>\n",
       "      <td>0.050345</td>\n",
       "    </tr>\n",
       "    <tr>\n",
       "      <th>25</th>\n",
       "      <td>1192.0</td>\n",
       "      <td>0.000674</td>\n",
       "      <td>0.013674</td>\n",
       "      <td>-0.085930</td>\n",
       "      <td>-0.006297</td>\n",
       "      <td>0.001141</td>\n",
       "      <td>0.007574</td>\n",
       "      <td>0.085640</td>\n",
       "    </tr>\n",
       "    <tr>\n",
       "      <th>26</th>\n",
       "      <td>1192.0</td>\n",
       "      <td>0.000643</td>\n",
       "      <td>0.013023</td>\n",
       "      <td>-0.087061</td>\n",
       "      <td>-0.005690</td>\n",
       "      <td>0.001113</td>\n",
       "      <td>0.007960</td>\n",
       "      <td>0.062263</td>\n",
       "    </tr>\n",
       "    <tr>\n",
       "      <th>27</th>\n",
       "      <td>1192.0</td>\n",
       "      <td>0.000348</td>\n",
       "      <td>0.014178</td>\n",
       "      <td>-0.133673</td>\n",
       "      <td>-0.006498</td>\n",
       "      <td>0.000753</td>\n",
       "      <td>0.007081</td>\n",
       "      <td>0.102838</td>\n",
       "    </tr>\n",
       "    <tr>\n",
       "      <th>28</th>\n",
       "      <td>1192.0</td>\n",
       "      <td>0.000769</td>\n",
       "      <td>0.014886</td>\n",
       "      <td>-0.067925</td>\n",
       "      <td>-0.006331</td>\n",
       "      <td>0.000587</td>\n",
       "      <td>0.007749</td>\n",
       "      <td>0.218441</td>\n",
       "    </tr>\n",
       "    <tr>\n",
       "      <th>29</th>\n",
       "      <td>1192.0</td>\n",
       "      <td>0.000447</td>\n",
       "      <td>0.013110</td>\n",
       "      <td>-0.088498</td>\n",
       "      <td>-0.006080</td>\n",
       "      <td>0.000505</td>\n",
       "      <td>0.007665</td>\n",
       "      <td>0.081131</td>\n",
       "    </tr>\n",
       "    <tr>\n",
       "      <th>30</th>\n",
       "      <td>1192.0</td>\n",
       "      <td>0.000560</td>\n",
       "      <td>0.013445</td>\n",
       "      <td>-0.064694</td>\n",
       "      <td>-0.006149</td>\n",
       "      <td>0.001378</td>\n",
       "      <td>0.007857</td>\n",
       "      <td>0.081943</td>\n",
       "    </tr>\n",
       "    <tr>\n",
       "      <th>31</th>\n",
       "      <td>1192.0</td>\n",
       "      <td>0.001156</td>\n",
       "      <td>0.013852</td>\n",
       "      <td>-0.055283</td>\n",
       "      <td>-0.005907</td>\n",
       "      <td>0.001231</td>\n",
       "      <td>0.007924</td>\n",
       "      <td>0.115216</td>\n",
       "    </tr>\n",
       "    <tr>\n",
       "      <th>32</th>\n",
       "      <td>1192.0</td>\n",
       "      <td>0.000732</td>\n",
       "      <td>0.013050</td>\n",
       "      <td>-0.054811</td>\n",
       "      <td>-0.006591</td>\n",
       "      <td>0.001265</td>\n",
       "      <td>0.007858</td>\n",
       "      <td>0.079701</td>\n",
       "    </tr>\n",
       "    <tr>\n",
       "      <th>33</th>\n",
       "      <td>1192.0</td>\n",
       "      <td>0.000333</td>\n",
       "      <td>0.014332</td>\n",
       "      <td>-0.119534</td>\n",
       "      <td>-0.006384</td>\n",
       "      <td>0.000939</td>\n",
       "      <td>0.007790</td>\n",
       "      <td>0.082924</td>\n",
       "    </tr>\n",
       "    <tr>\n",
       "      <th>34</th>\n",
       "      <td>1192.0</td>\n",
       "      <td>0.000996</td>\n",
       "      <td>0.014057</td>\n",
       "      <td>-0.069455</td>\n",
       "      <td>-0.006447</td>\n",
       "      <td>0.001366</td>\n",
       "      <td>0.008610</td>\n",
       "      <td>0.125628</td>\n",
       "    </tr>\n",
       "    <tr>\n",
       "      <th>35</th>\n",
       "      <td>1192.0</td>\n",
       "      <td>0.000654</td>\n",
       "      <td>0.012908</td>\n",
       "      <td>-0.059137</td>\n",
       "      <td>-0.006343</td>\n",
       "      <td>0.000798</td>\n",
       "      <td>0.008204</td>\n",
       "      <td>0.053312</td>\n",
       "    </tr>\n",
       "    <tr>\n",
       "      <th>36</th>\n",
       "      <td>1192.0</td>\n",
       "      <td>0.000802</td>\n",
       "      <td>0.015023</td>\n",
       "      <td>-0.168026</td>\n",
       "      <td>-0.006694</td>\n",
       "      <td>0.000753</td>\n",
       "      <td>0.008176</td>\n",
       "      <td>0.127374</td>\n",
       "    </tr>\n",
       "    <tr>\n",
       "      <th>37</th>\n",
       "      <td>1192.0</td>\n",
       "      <td>0.000044</td>\n",
       "      <td>0.016122</td>\n",
       "      <td>-0.088810</td>\n",
       "      <td>-0.007492</td>\n",
       "      <td>0.000710</td>\n",
       "      <td>0.008368</td>\n",
       "      <td>0.147014</td>\n",
       "    </tr>\n",
       "    <tr>\n",
       "      <th>38</th>\n",
       "      <td>1192.0</td>\n",
       "      <td>0.000739</td>\n",
       "      <td>0.015522</td>\n",
       "      <td>-0.146782</td>\n",
       "      <td>-0.006815</td>\n",
       "      <td>0.001239</td>\n",
       "      <td>0.008833</td>\n",
       "      <td>0.117977</td>\n",
       "    </tr>\n",
       "    <tr>\n",
       "      <th>39</th>\n",
       "      <td>1192.0</td>\n",
       "      <td>0.000898</td>\n",
       "      <td>0.016984</td>\n",
       "      <td>-0.122487</td>\n",
       "      <td>-0.007088</td>\n",
       "      <td>0.001335</td>\n",
       "      <td>0.009012</td>\n",
       "      <td>0.160870</td>\n",
       "    </tr>\n",
       "    <tr>\n",
       "      <th>40</th>\n",
       "      <td>1192.0</td>\n",
       "      <td>0.001805</td>\n",
       "      <td>0.022865</td>\n",
       "      <td>-0.088712</td>\n",
       "      <td>-0.008827</td>\n",
       "      <td>0.001721</td>\n",
       "      <td>0.010854</td>\n",
       "      <td>0.483951</td>\n",
       "    </tr>\n",
       "  </tbody>\n",
       "</table>\n",
       "</div>"
      ],
      "text/plain": [
       "         RET                                                              \\\n",
       "       count      mean       std       min       25%       50%       75%   \n",
       "RANK                                                                       \n",
       "1     1192.0 -0.001049  0.021428 -0.105471 -0.011287 -0.001463  0.008961   \n",
       "2     1192.0 -0.001092  0.017835 -0.099143 -0.009625 -0.000808  0.007686   \n",
       "3     1192.0 -0.000441  0.015105 -0.075477 -0.008683 -0.000247  0.008288   \n",
       "4     1192.0 -0.000108  0.014844 -0.081818 -0.008253  0.000046  0.008262   \n",
       "5     1192.0 -0.000485  0.014801 -0.122892 -0.008037  0.000322  0.007256   \n",
       "6     1192.0  0.000803  0.015320 -0.074893 -0.006629  0.000835  0.007915   \n",
       "7     1192.0  0.000028  0.017905 -0.299820 -0.006295  0.000366  0.007378   \n",
       "8     1192.0  0.000627  0.014220 -0.087912 -0.006970  0.000614  0.007508   \n",
       "9     1192.0  0.000332  0.014439 -0.189207 -0.006162  0.000926  0.007483   \n",
       "10    1192.0  0.000057  0.012563 -0.065659 -0.006918  0.000401  0.007759   \n",
       "11    1192.0  0.000627  0.014731 -0.123404 -0.006387  0.000714  0.007618   \n",
       "12    1192.0  0.000091  0.013404 -0.099061 -0.006256  0.000813  0.007494   \n",
       "13    1192.0 -0.000286  0.014070 -0.093074 -0.007024 -0.000132  0.006855   \n",
       "14    1192.0  0.000088  0.012324 -0.045826 -0.006868  0.000417  0.007278   \n",
       "15    1192.0  0.000345  0.012810 -0.059786 -0.006204  0.000483  0.007373   \n",
       "16    1192.0  0.000091  0.014046 -0.096168 -0.006247  0.000659  0.007473   \n",
       "17    1192.0  0.000228  0.014541 -0.246813 -0.006431  0.000802  0.007025   \n",
       "18    1192.0  0.000629  0.013010 -0.077747 -0.006033  0.001083  0.007844   \n",
       "19    1192.0  0.000833  0.013454 -0.051791 -0.005944  0.000441  0.007343   \n",
       "20    1192.0  0.000527  0.014039 -0.098643 -0.005680  0.000437  0.007167   \n",
       "21    1192.0  0.000064  0.016682 -0.267996 -0.006638  0.000591  0.006909   \n",
       "22    1192.0  0.000785  0.013225 -0.086859 -0.005935  0.000988  0.008103   \n",
       "23    1192.0  0.000168  0.013752 -0.131100 -0.006082  0.000831  0.007602   \n",
       "24    1192.0  0.000110  0.012820 -0.102961 -0.006615  0.000605  0.007189   \n",
       "25    1192.0  0.000674  0.013674 -0.085930 -0.006297  0.001141  0.007574   \n",
       "26    1192.0  0.000643  0.013023 -0.087061 -0.005690  0.001113  0.007960   \n",
       "27    1192.0  0.000348  0.014178 -0.133673 -0.006498  0.000753  0.007081   \n",
       "28    1192.0  0.000769  0.014886 -0.067925 -0.006331  0.000587  0.007749   \n",
       "29    1192.0  0.000447  0.013110 -0.088498 -0.006080  0.000505  0.007665   \n",
       "30    1192.0  0.000560  0.013445 -0.064694 -0.006149  0.001378  0.007857   \n",
       "31    1192.0  0.001156  0.013852 -0.055283 -0.005907  0.001231  0.007924   \n",
       "32    1192.0  0.000732  0.013050 -0.054811 -0.006591  0.001265  0.007858   \n",
       "33    1192.0  0.000333  0.014332 -0.119534 -0.006384  0.000939  0.007790   \n",
       "34    1192.0  0.000996  0.014057 -0.069455 -0.006447  0.001366  0.008610   \n",
       "35    1192.0  0.000654  0.012908 -0.059137 -0.006343  0.000798  0.008204   \n",
       "36    1192.0  0.000802  0.015023 -0.168026 -0.006694  0.000753  0.008176   \n",
       "37    1192.0  0.000044  0.016122 -0.088810 -0.007492  0.000710  0.008368   \n",
       "38    1192.0  0.000739  0.015522 -0.146782 -0.006815  0.001239  0.008833   \n",
       "39    1192.0  0.000898  0.016984 -0.122487 -0.007088  0.001335  0.009012   \n",
       "40    1192.0  0.001805  0.022865 -0.088712 -0.008827  0.001721  0.010854   \n",
       "\n",
       "                \n",
       "           max  \n",
       "RANK            \n",
       "1     0.206938  \n",
       "2     0.198500  \n",
       "3     0.109051  \n",
       "4     0.066707  \n",
       "5     0.090760  \n",
       "6     0.196884  \n",
       "7     0.146882  \n",
       "8     0.157130  \n",
       "9     0.066390  \n",
       "10    0.047800  \n",
       "11    0.136564  \n",
       "12    0.083250  \n",
       "13    0.096976  \n",
       "14    0.049254  \n",
       "15    0.087549  \n",
       "16    0.104748  \n",
       "17    0.087343  \n",
       "18    0.063853  \n",
       "19    0.163160  \n",
       "20    0.147555  \n",
       "21    0.148699  \n",
       "22    0.108392  \n",
       "23    0.083735  \n",
       "24    0.050345  \n",
       "25    0.085640  \n",
       "26    0.062263  \n",
       "27    0.102838  \n",
       "28    0.218441  \n",
       "29    0.081131  \n",
       "30    0.081943  \n",
       "31    0.115216  \n",
       "32    0.079701  \n",
       "33    0.082924  \n",
       "34    0.125628  \n",
       "35    0.053312  \n",
       "36    0.127374  \n",
       "37    0.147014  \n",
       "38    0.117977  \n",
       "39    0.160870  \n",
       "40    0.483951  "
      ]
     },
     "execution_count": 105,
     "metadata": {},
     "output_type": "execute_result"
    }
   ],
   "source": [
    "port = stocks_p.groupby(['RANK','DATE'])[['RET']].mean()\n",
    "port.groupby(['RANK']).describe()"
   ]
  },
  {
   "cell_type": "markdown",
   "id": "f89a9808",
   "metadata": {},
   "source": [
    "**Operation**\n",
    "- Short the rank1 and long the rank20"
   ]
  },
  {
   "cell_type": "code",
   "execution_count": 106,
   "id": "cc27a92e",
   "metadata": {},
   "outputs": [
    {
     "data": {
      "text/html": [
       "<div>\n",
       "<style scoped>\n",
       "    .dataframe tbody tr th:only-of-type {\n",
       "        vertical-align: middle;\n",
       "    }\n",
       "\n",
       "    .dataframe tbody tr th {\n",
       "        vertical-align: top;\n",
       "    }\n",
       "\n",
       "    .dataframe thead th {\n",
       "        text-align: right;\n",
       "    }\n",
       "</style>\n",
       "<table border=\"1\" class=\"dataframe\">\n",
       "  <thead>\n",
       "    <tr style=\"text-align: right;\">\n",
       "      <th></th>\n",
       "      <th>RET</th>\n",
       "    </tr>\n",
       "  </thead>\n",
       "  <tbody>\n",
       "    <tr>\n",
       "      <th>count</th>\n",
       "      <td>1192.000000</td>\n",
       "    </tr>\n",
       "    <tr>\n",
       "      <th>mean</th>\n",
       "      <td>0.002854</td>\n",
       "    </tr>\n",
       "    <tr>\n",
       "      <th>std</th>\n",
       "      <td>0.027878</td>\n",
       "    </tr>\n",
       "    <tr>\n",
       "      <th>min</th>\n",
       "      <td>-0.214917</td>\n",
       "    </tr>\n",
       "    <tr>\n",
       "      <th>25%</th>\n",
       "      <td>-0.009504</td>\n",
       "    </tr>\n",
       "    <tr>\n",
       "      <th>50%</th>\n",
       "      <td>0.002351</td>\n",
       "    </tr>\n",
       "    <tr>\n",
       "      <th>75%</th>\n",
       "      <td>0.014745</td>\n",
       "    </tr>\n",
       "    <tr>\n",
       "      <th>max</th>\n",
       "      <td>0.474660</td>\n",
       "    </tr>\n",
       "  </tbody>\n",
       "</table>\n",
       "</div>"
      ],
      "text/plain": [
       "               RET\n",
       "count  1192.000000\n",
       "mean      0.002854\n",
       "std       0.027878\n",
       "min      -0.214917\n",
       "25%      -0.009504\n",
       "50%       0.002351\n",
       "75%       0.014745\n",
       "max       0.474660"
      ]
     },
     "execution_count": 106,
     "metadata": {},
     "output_type": "execute_result"
    }
   ],
   "source": [
    "hml = port.loc[40] - port.loc[1]\n",
    "stats = lmh.describe()\n",
    "stats"
   ]
  },
  {
   "cell_type": "code",
   "execution_count": 107,
   "id": "74ff8ae8",
   "metadata": {},
   "outputs": [],
   "source": [
    "m = stats.loc['mean']\n",
    "sd = stats.loc['std']\n",
    "n = stats.loc['count']"
   ]
  },
  {
   "cell_type": "code",
   "execution_count": 108,
   "id": "72be0e75",
   "metadata": {},
   "outputs": [
    {
     "data": {
      "text/plain": [
       "RET    0.002854\n",
       "Name: mean, dtype: float64"
      ]
     },
     "execution_count": 108,
     "metadata": {},
     "output_type": "execute_result"
    }
   ],
   "source": [
    "m"
   ]
  },
  {
   "cell_type": "code",
   "execution_count": 109,
   "id": "be067712",
   "metadata": {},
   "outputs": [
    {
     "data": {
      "text/plain": [
       "RET    1.663125\n",
       "dtype: float64"
      ]
     },
     "execution_count": 109,
     "metadata": {},
     "output_type": "execute_result"
    }
   ],
   "source": [
    "# Sharp ratio\n",
    "sr = m/sd*np.sqrt(264)\n",
    "sr"
   ]
  },
  {
   "cell_type": "markdown",
   "id": "64cc0fa1",
   "metadata": {},
   "source": [
    "# Strategy information based on the model"
   ]
  },
  {
   "cell_type": "markdown",
   "id": "85f6eb2f",
   "metadata": {},
   "source": [
    "- Firstly, choose most value stocks (TOP 20%) based on E/P ratio and B/M ratio;\n",
    "- The positive coefficient of moving average standard deviation suggests a managed volatility strategy in our strategy;\n",
    "- The negative coefficient of lag_return suggests a reversal strategy in our strategy;"
   ]
  }
 ],
 "metadata": {
  "kernelspec": {
   "display_name": "Python 3 (ipykernel)",
   "language": "python",
   "name": "python3"
  },
  "language_info": {
   "codemirror_mode": {
    "name": "ipython",
    "version": 3
   },
   "file_extension": ".py",
   "mimetype": "text/x-python",
   "name": "python",
   "nbconvert_exporter": "python",
   "pygments_lexer": "ipython3",
   "version": "3.9.15"
  },
  "latex_envs": {
   "LaTeX_envs_menu_present": true,
   "autoclose": false,
   "autocomplete": true,
   "bibliofile": "biblio.bib",
   "cite_by": "apalike",
   "current_citInitial": 1,
   "eqLabelWithNumbers": true,
   "eqNumInitial": 1,
   "hotkeys": {
    "equation": "Ctrl-E",
    "itemize": "Ctrl-I"
   },
   "labels_anchors": false,
   "latex_user_defs": false,
   "report_style_numbering": false,
   "user_envs_cfg": false
  }
 },
 "nbformat": 4,
 "nbformat_minor": 5
}
