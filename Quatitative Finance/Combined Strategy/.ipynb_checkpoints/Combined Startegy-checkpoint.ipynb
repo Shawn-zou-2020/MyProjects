{
 "cells": [
  {
   "cell_type": "markdown",
   "id": "a5f75c97",
   "metadata": {},
   "source": [
    "# Final Project"
   ]
  },
  {
   "cell_type": "code",
   "execution_count": 1,
   "id": "659fe9b3",
   "metadata": {
    "ExecuteTime": {
     "end_time": "2022-12-03T23:04:51.456025Z",
     "start_time": "2022-12-03T23:04:50.123036Z"
    }
   },
   "outputs": [],
   "source": [
    "# Load packages\n",
    "import pandas as pd\n",
    "import numpy as np\n",
    "from datetime import datetime as dt\n",
    "import matplotlib.pyplot as plt\n",
    "import statsmodels.formula.api as smf\n",
    "from pandas.tseries.offsets import MonthEnd"
   ]
  },
  {
   "cell_type": "code",
   "execution_count": 2,
   "id": "18419029",
   "metadata": {
    "ExecuteTime": {
     "end_time": "2022-12-03T23:05:16.965852Z",
     "start_time": "2022-12-03T23:04:51.457220Z"
    }
   },
   "outputs": [
    {
     "data": {
      "text/html": [
       "<div>\n",
       "<style scoped>\n",
       "    .dataframe tbody tr th:only-of-type {\n",
       "        vertical-align: middle;\n",
       "    }\n",
       "\n",
       "    .dataframe tbody tr th {\n",
       "        vertical-align: top;\n",
       "    }\n",
       "\n",
       "    .dataframe thead th {\n",
       "        text-align: right;\n",
       "    }\n",
       "</style>\n",
       "<table border=\"1\" class=\"dataframe\">\n",
       "  <thead>\n",
       "    <tr style=\"text-align: right;\">\n",
       "      <th></th>\n",
       "      <th>PERMNO</th>\n",
       "      <th>SHRCD</th>\n",
       "      <th>SICCD</th>\n",
       "      <th>PRC</th>\n",
       "      <th>VOL</th>\n",
       "      <th>RET</th>\n",
       "      <th>SHROUT</th>\n",
       "    </tr>\n",
       "    <tr>\n",
       "      <th>DATE</th>\n",
       "      <th></th>\n",
       "      <th></th>\n",
       "      <th></th>\n",
       "      <th></th>\n",
       "      <th></th>\n",
       "      <th></th>\n",
       "      <th></th>\n",
       "    </tr>\n",
       "  </thead>\n",
       "  <tbody>\n",
       "    <tr>\n",
       "      <th>2000-01-03</th>\n",
       "      <td>10001.0</td>\n",
       "      <td>11.0</td>\n",
       "      <td>4920.0</td>\n",
       "      <td>8.5625</td>\n",
       "      <td>1721.0</td>\n",
       "      <td>0.007353</td>\n",
       "      <td>2450.0</td>\n",
       "    </tr>\n",
       "    <tr>\n",
       "      <th>2000-01-04</th>\n",
       "      <td>10001.0</td>\n",
       "      <td>11.0</td>\n",
       "      <td>4920.0</td>\n",
       "      <td>8.4375</td>\n",
       "      <td>1080.0</td>\n",
       "      <td>-0.014599</td>\n",
       "      <td>2450.0</td>\n",
       "    </tr>\n",
       "    <tr>\n",
       "      <th>2000-01-05</th>\n",
       "      <td>10001.0</td>\n",
       "      <td>11.0</td>\n",
       "      <td>4920.0</td>\n",
       "      <td>8.5625</td>\n",
       "      <td>1711.0</td>\n",
       "      <td>0.014815</td>\n",
       "      <td>2450.0</td>\n",
       "    </tr>\n",
       "    <tr>\n",
       "      <th>2000-01-06</th>\n",
       "      <td>10001.0</td>\n",
       "      <td>11.0</td>\n",
       "      <td>4920.0</td>\n",
       "      <td>8.5000</td>\n",
       "      <td>580.0</td>\n",
       "      <td>-0.007299</td>\n",
       "      <td>2450.0</td>\n",
       "    </tr>\n",
       "    <tr>\n",
       "      <th>2000-01-07</th>\n",
       "      <td>10001.0</td>\n",
       "      <td>11.0</td>\n",
       "      <td>4920.0</td>\n",
       "      <td>8.4375</td>\n",
       "      <td>1406.0</td>\n",
       "      <td>-0.007353</td>\n",
       "      <td>2450.0</td>\n",
       "    </tr>\n",
       "  </tbody>\n",
       "</table>\n",
       "</div>"
      ],
      "text/plain": [
       "             PERMNO  SHRCD   SICCD     PRC     VOL       RET  SHROUT\n",
       "DATE                                                                \n",
       "2000-01-03  10001.0   11.0  4920.0  8.5625  1721.0  0.007353  2450.0\n",
       "2000-01-04  10001.0   11.0  4920.0  8.4375  1080.0 -0.014599  2450.0\n",
       "2000-01-05  10001.0   11.0  4920.0  8.5625  1711.0  0.014815  2450.0\n",
       "2000-01-06  10001.0   11.0  4920.0  8.5000   580.0 -0.007299  2450.0\n",
       "2000-01-07  10001.0   11.0  4920.0  8.4375  1406.0 -0.007353  2450.0"
      ]
     },
     "execution_count": 2,
     "metadata": {},
     "output_type": "execute_result"
    }
   ],
   "source": [
    "# Load the datasets\n",
    "# daily data\n",
    "# pls download it from here: https://www.dropbox.com/s/xbomfdwohr6by9d/crsp_daily.feather?dl=0\n",
    "crsp_d = pd.read_feather('crsp_daily.feather')[['PERMNO','DATE','SHRCD','SICCD','PRC','VOL','RET','SHROUT']]\n",
    "crsp_d = crsp_d.set_index(pd.to_datetime(crsp_d['DATE']))\n",
    "crsp_d.drop('DATE', axis=1, inplace=True)\n",
    "crsp_d.head()"
   ]
  },
  {
   "cell_type": "code",
   "execution_count": 3,
   "id": "5db13f94",
   "metadata": {
    "ExecuteTime": {
     "end_time": "2022-12-03T23:05:17.113359Z",
     "start_time": "2022-12-03T23:05:16.972935Z"
    }
   },
   "outputs": [
    {
     "data": {
      "text/html": [
       "<div>\n",
       "<style scoped>\n",
       "    .dataframe tbody tr th:only-of-type {\n",
       "        vertical-align: middle;\n",
       "    }\n",
       "\n",
       "    .dataframe tbody tr th {\n",
       "        vertical-align: top;\n",
       "    }\n",
       "\n",
       "    .dataframe thead th {\n",
       "        text-align: right;\n",
       "    }\n",
       "</style>\n",
       "<table border=\"1\" class=\"dataframe\">\n",
       "  <thead>\n",
       "    <tr style=\"text-align: right;\">\n",
       "      <th></th>\n",
       "      <th>DATADATE</th>\n",
       "      <th>FYEAR</th>\n",
       "      <th>LPERMNO</th>\n",
       "      <th>AT</th>\n",
       "      <th>CEQ</th>\n",
       "      <th>LT</th>\n",
       "      <th>PSTK</th>\n",
       "      <th>SEQ</th>\n",
       "      <th>IB</th>\n",
       "      <th>CAPX</th>\n",
       "    </tr>\n",
       "  </thead>\n",
       "  <tbody>\n",
       "    <tr>\n",
       "      <th>0</th>\n",
       "      <td>1970-12-31</td>\n",
       "      <td>1970.0</td>\n",
       "      <td>25881.0</td>\n",
       "      <td>33.450</td>\n",
       "      <td>10.544</td>\n",
       "      <td>22.906</td>\n",
       "      <td>0.000</td>\n",
       "      <td>10.544</td>\n",
       "      <td>1.878</td>\n",
       "      <td>2.767</td>\n",
       "    </tr>\n",
       "    <tr>\n",
       "      <th>1</th>\n",
       "      <td>1971-12-31</td>\n",
       "      <td>1971.0</td>\n",
       "      <td>25881.0</td>\n",
       "      <td>29.330</td>\n",
       "      <td>8.381</td>\n",
       "      <td>20.948</td>\n",
       "      <td>0.000</td>\n",
       "      <td>8.382</td>\n",
       "      <td>0.138</td>\n",
       "      <td>1.771</td>\n",
       "    </tr>\n",
       "    <tr>\n",
       "      <th>2</th>\n",
       "      <td>1972-12-31</td>\n",
       "      <td>1972.0</td>\n",
       "      <td>25881.0</td>\n",
       "      <td>19.907</td>\n",
       "      <td>7.021</td>\n",
       "      <td>12.886</td>\n",
       "      <td>0.000</td>\n",
       "      <td>7.021</td>\n",
       "      <td>1.554</td>\n",
       "      <td>1.254</td>\n",
       "    </tr>\n",
       "    <tr>\n",
       "      <th>3</th>\n",
       "      <td>1973-12-31</td>\n",
       "      <td>1973.0</td>\n",
       "      <td>25881.0</td>\n",
       "      <td>21.771</td>\n",
       "      <td>8.567</td>\n",
       "      <td>13.204</td>\n",
       "      <td>0.000</td>\n",
       "      <td>8.567</td>\n",
       "      <td>1.863</td>\n",
       "      <td>1.633</td>\n",
       "    </tr>\n",
       "    <tr>\n",
       "      <th>4</th>\n",
       "      <td>1974-12-31</td>\n",
       "      <td>1974.0</td>\n",
       "      <td>25881.0</td>\n",
       "      <td>25.638</td>\n",
       "      <td>9.843</td>\n",
       "      <td>15.381</td>\n",
       "      <td>0.414</td>\n",
       "      <td>10.257</td>\n",
       "      <td>1.555</td>\n",
       "      <td>1.313</td>\n",
       "    </tr>\n",
       "  </tbody>\n",
       "</table>\n",
       "</div>"
      ],
      "text/plain": [
       "    DATADATE   FYEAR  LPERMNO      AT     CEQ      LT   PSTK     SEQ     IB  \\\n",
       "0 1970-12-31  1970.0  25881.0  33.450  10.544  22.906  0.000  10.544  1.878   \n",
       "1 1971-12-31  1971.0  25881.0  29.330   8.381  20.948  0.000   8.382  0.138   \n",
       "2 1972-12-31  1972.0  25881.0  19.907   7.021  12.886  0.000   7.021  1.554   \n",
       "3 1973-12-31  1973.0  25881.0  21.771   8.567  13.204  0.000   8.567  1.863   \n",
       "4 1974-12-31  1974.0  25881.0  25.638   9.843  15.381  0.414  10.257  1.555   \n",
       "\n",
       "    CAPX  \n",
       "0  2.767  \n",
       "1  1.771  \n",
       "2  1.254  \n",
       "3  1.633  \n",
       "4  1.313  "
      ]
     },
     "execution_count": 3,
     "metadata": {},
     "output_type": "execute_result"
    }
   ],
   "source": [
    "# compustat\n",
    "# pls download it from here: https://github.com/Shawn-zou-2020/MyProjects/blob/main/Quatitative%20Finance/Raw%20Data/compustat.feather\n",
    "compustat=pd.read_feather('compustat.feather')\n",
    "compustat.head()"
   ]
  },
  {
   "cell_type": "code",
   "execution_count": 4,
   "id": "5a8e91ed",
   "metadata": {
    "ExecuteTime": {
     "end_time": "2022-12-03T23:05:17.140246Z",
     "start_time": "2022-12-03T23:05:17.114338Z"
    }
   },
   "outputs": [],
   "source": [
    "# Data preprocess\n",
    "cstat=compustat.rename(columns={'LPERMNO':'PERMNO'})\n",
    "cstat['DATE']=cstat['DATADATE']+MonthEnd(0)"
   ]
  },
  {
   "cell_type": "code",
   "execution_count": 5,
   "id": "d816bbe7",
   "metadata": {
    "ExecuteTime": {
     "end_time": "2022-12-03T23:05:34.501815Z",
     "start_time": "2022-12-03T23:05:17.141121Z"
    }
   },
   "outputs": [],
   "source": [
    "crsp_d['SICCD2'] = [str(i)[:2] for i in crsp_d['SICCD']]"
   ]
  },
  {
   "cell_type": "code",
   "execution_count": 6,
   "id": "b3a29a47",
   "metadata": {
    "ExecuteTime": {
     "end_time": "2022-12-03T23:05:40.684420Z",
     "start_time": "2022-12-03T23:05:34.505322Z"
    }
   },
   "outputs": [
    {
     "data": {
      "text/html": [
       "<div>\n",
       "<style scoped>\n",
       "    .dataframe tbody tr th:only-of-type {\n",
       "        vertical-align: middle;\n",
       "    }\n",
       "\n",
       "    .dataframe tbody tr th {\n",
       "        vertical-align: top;\n",
       "    }\n",
       "\n",
       "    .dataframe thead th {\n",
       "        text-align: right;\n",
       "    }\n",
       "</style>\n",
       "<table border=\"1\" class=\"dataframe\">\n",
       "  <thead>\n",
       "    <tr style=\"text-align: right;\">\n",
       "      <th></th>\n",
       "      <th>PERMNO</th>\n",
       "      <th>SHRCD</th>\n",
       "      <th>SICCD</th>\n",
       "      <th>PRC</th>\n",
       "      <th>VOL</th>\n",
       "      <th>RET</th>\n",
       "      <th>SHROUT</th>\n",
       "      <th>SICCD2</th>\n",
       "    </tr>\n",
       "    <tr>\n",
       "      <th>DATE</th>\n",
       "      <th></th>\n",
       "      <th></th>\n",
       "      <th></th>\n",
       "      <th></th>\n",
       "      <th></th>\n",
       "      <th></th>\n",
       "      <th></th>\n",
       "      <th></th>\n",
       "    </tr>\n",
       "  </thead>\n",
       "  <tbody>\n",
       "    <tr>\n",
       "      <th>2000-01-03</th>\n",
       "      <td>10001.0</td>\n",
       "      <td>11.0</td>\n",
       "      <td>4920.0</td>\n",
       "      <td>8.5625</td>\n",
       "      <td>1721.0</td>\n",
       "      <td>0.007353</td>\n",
       "      <td>2450.0</td>\n",
       "      <td>49</td>\n",
       "    </tr>\n",
       "    <tr>\n",
       "      <th>2000-01-04</th>\n",
       "      <td>10001.0</td>\n",
       "      <td>11.0</td>\n",
       "      <td>4920.0</td>\n",
       "      <td>8.4375</td>\n",
       "      <td>1080.0</td>\n",
       "      <td>-0.014599</td>\n",
       "      <td>2450.0</td>\n",
       "      <td>49</td>\n",
       "    </tr>\n",
       "    <tr>\n",
       "      <th>2000-01-05</th>\n",
       "      <td>10001.0</td>\n",
       "      <td>11.0</td>\n",
       "      <td>4920.0</td>\n",
       "      <td>8.5625</td>\n",
       "      <td>1711.0</td>\n",
       "      <td>0.014815</td>\n",
       "      <td>2450.0</td>\n",
       "      <td>49</td>\n",
       "    </tr>\n",
       "    <tr>\n",
       "      <th>2000-01-06</th>\n",
       "      <td>10001.0</td>\n",
       "      <td>11.0</td>\n",
       "      <td>4920.0</td>\n",
       "      <td>8.5000</td>\n",
       "      <td>580.0</td>\n",
       "      <td>-0.007299</td>\n",
       "      <td>2450.0</td>\n",
       "      <td>49</td>\n",
       "    </tr>\n",
       "    <tr>\n",
       "      <th>2000-01-07</th>\n",
       "      <td>10001.0</td>\n",
       "      <td>11.0</td>\n",
       "      <td>4920.0</td>\n",
       "      <td>8.4375</td>\n",
       "      <td>1406.0</td>\n",
       "      <td>-0.007353</td>\n",
       "      <td>2450.0</td>\n",
       "      <td>49</td>\n",
       "    </tr>\n",
       "  </tbody>\n",
       "</table>\n",
       "</div>"
      ],
      "text/plain": [
       "             PERMNO  SHRCD   SICCD     PRC     VOL       RET  SHROUT SICCD2\n",
       "DATE                                                                       \n",
       "2000-01-03  10001.0   11.0  4920.0  8.5625  1721.0  0.007353  2450.0     49\n",
       "2000-01-04  10001.0   11.0  4920.0  8.4375  1080.0 -0.014599  2450.0     49\n",
       "2000-01-05  10001.0   11.0  4920.0  8.5625  1711.0  0.014815  2450.0     49\n",
       "2000-01-06  10001.0   11.0  4920.0  8.5000   580.0 -0.007299  2450.0     49\n",
       "2000-01-07  10001.0   11.0  4920.0  8.4375  1406.0 -0.007353  2450.0     49"
      ]
     },
     "execution_count": 6,
     "metadata": {},
     "output_type": "execute_result"
    }
   ],
   "source": [
    "# kick out the financial stocks\n",
    "fin_l = ['60','61','62','63','64','65','66','67']\n",
    "stocks_etf = crsp_d.loc[(~crsp_d.SICCD2.isin(fin_l))&(crsp_d['SHRCD']==10)|(crsp_d['SHRCD']==11)]\n",
    "stocks_etf.head()"
   ]
  },
  {
   "cell_type": "markdown",
   "id": "c3f932aa",
   "metadata": {},
   "source": [
    "- Add risk-free ret on daily stocks&etfs data"
   ]
  },
  {
   "cell_type": "code",
   "execution_count": 7,
   "id": "7fdbe450",
   "metadata": {
    "ExecuteTime": {
     "end_time": "2022-12-03T23:06:21.308989Z",
     "start_time": "2022-12-03T23:05:40.686518Z"
    }
   },
   "outputs": [],
   "source": [
    "irx = pd.read_csv('^IRX.csv',parse_dates=[0], index_col=[0])[['Close']]\n",
    "\n",
    "# Join\n",
    "stocks_etf = stocks_etf.join(irx, how = 'left', on = 'DATE')\n",
    "stocks_etf = stocks_etf.rename(columns={'Close':'ARRET'})\n",
    "stocks_etf.head()\n",
    "\n",
    "# Fillna\n",
    "stocks_etf['ARRET'] = stocks_etf['ARRET'].fillna(method='ffill')\n",
    "\n",
    "# N_t = (date-date.shift()).dt.days\n",
    "stocks_etf = stocks_etf.reset_index()\n",
    "stocks_etf = stocks_etf.set_index(['PERMNO'])\n",
    "stocks_etf['LAGD'] = stocks_etf[['DATE']].groupby('PERMNO').shift()\n",
    "stocks_etf['N_t'] = (stocks_etf['DATE'] - stocks_etf['LAGD']).dt.days\n",
    "\n",
    "# Risk free return \n",
    "stocks_etf['RRET'] = stocks_etf['ARRET'].shift() * stocks_etf['N_t']/36500\n",
    "\n",
    "# Excess return \n",
    "stocks_etf['EXRET'] = stocks_etf['RET'] - stocks_etf['RRET'] "
   ]
  },
  {
   "cell_type": "markdown",
   "id": "4dd195a5",
   "metadata": {},
   "source": [
    "## **STRATEGY:**\n",
    "- Combine the price opportunity strategy, reversal strategy and value strategy together\n",
    "- Compare the effects in different time periods;\n",
    "- Compare the effects for small assets and large assets;\n",
    "- Compare the effects for high risk assets and low risk aseets;\n",
    "- Compare the effects for technology assets and non-technology aseets;"
   ]
  },
  {
   "cell_type": "code",
   "execution_count": 8,
   "id": "04789441",
   "metadata": {
    "ExecuteTime": {
     "end_time": "2022-12-03T23:07:01.654765Z",
     "start_time": "2022-12-03T23:06:21.320699Z"
    }
   },
   "outputs": [
    {
     "name": "stderr",
     "output_type": "stream",
     "text": [
      "<ipython-input-8-89bd0dacc257>:3: FutureWarning: Value based partial slicing on non-monotonic DatetimeIndexes with non-existing keys is deprecated and will raise a KeyError in a future Version.\n",
      "  stocks_etf = stocks_etf['2008-01-01':'2020-01-01']\n"
     ]
    }
   ],
   "source": [
    "stocks_etf = stocks_etf.reset_index()\n",
    "stocks_etf = stocks_etf.set_index(['DATE'])\n",
    "stocks_etf = stocks_etf['2008-01-01':'2020-01-01']"
   ]
  },
  {
   "cell_type": "code",
   "execution_count": 9,
   "id": "b08fbf1c",
   "metadata": {
    "ExecuteTime": {
     "end_time": "2022-12-03T23:07:04.842658Z",
     "start_time": "2022-12-03T23:07:01.679371Z"
    }
   },
   "outputs": [],
   "source": [
    "stocks_etf = stocks_etf.reset_index()\n",
    "stocks_etf = stocks_etf.set_index(['PERMNO','DATE'])"
   ]
  },
  {
   "cell_type": "markdown",
   "id": "6b00abca",
   "metadata": {},
   "source": [
    "## Create Necessary Variables"
   ]
  },
  {
   "cell_type": "markdown",
   "id": "af10d303",
   "metadata": {},
   "source": [
    "- Market Capital"
   ]
  },
  {
   "cell_type": "code",
   "execution_count": 10,
   "id": "883062da",
   "metadata": {
    "ExecuteTime": {
     "end_time": "2022-12-03T23:07:05.865374Z",
     "start_time": "2022-12-03T23:07:04.844404Z"
    }
   },
   "outputs": [],
   "source": [
    "stocks_etf['PRC'] = np.abs(stocks_etf['PRC'])\n",
    "stocks_etf['MV'] = stocks_etf['PRC'] * stocks_etf['SHROUT']\n",
    "\n",
    "stocks_etf['lag_PRC'] = stocks_etf['PRC'].groupby('PERMNO').shift(1)\n",
    "stocks_etf['lag_MV'] = stocks_etf['MV'].groupby('PERMNO').shift(1)\n",
    "stocks_etf['lag_SHROUT'] = stocks_etf['SHROUT'].groupby('PERMNO').shift(1)"
   ]
  },
  {
   "cell_type": "markdown",
   "id": "05a16499",
   "metadata": {},
   "source": [
    "- For Risk Strategy"
   ]
  },
  {
   "cell_type": "code",
   "execution_count": 11,
   "id": "3ba33a3a",
   "metadata": {
    "ExecuteTime": {
     "end_time": "2022-12-03T23:07:14.724510Z",
     "start_time": "2022-12-03T23:07:05.868130Z"
    }
   },
   "outputs": [],
   "source": [
    "# Calcuate the standard devidation during the past half year, lag 1 day\n",
    "stocks_etf['lag_SD'] = stocks_etf[['EXRET']].groupby('PERMNO').apply(lambda x: x.shift().rolling(126).std())"
   ]
  },
  {
   "cell_type": "code",
   "execution_count": 12,
   "id": "ba525ff6",
   "metadata": {
    "ExecuteTime": {
     "end_time": "2022-12-03T23:07:22.778767Z",
     "start_time": "2022-12-03T23:07:14.726020Z"
    }
   },
   "outputs": [],
   "source": [
    "# MV bigger than 50,000,000\n",
    "stocks_etf = stocks_etf.loc[(stocks_etf['lag_MV']>=50000)&(stocks_etf['lag_SD']>=0.01)&(stocks_etf['lag_SD']<=0.2)]"
   ]
  },
  {
   "cell_type": "markdown",
   "id": "71dba1fc",
   "metadata": {},
   "source": [
    "- For Value Strategy"
   ]
  },
  {
   "cell_type": "code",
   "execution_count": 13,
   "id": "2364de7f",
   "metadata": {
    "ExecuteTime": {
     "end_time": "2022-12-03T23:07:29.197098Z",
     "start_time": "2022-12-03T23:07:22.782606Z"
    }
   },
   "outputs": [
    {
     "data": {
      "text/html": [
       "<div>\n",
       "<style scoped>\n",
       "    .dataframe tbody tr th:only-of-type {\n",
       "        vertical-align: middle;\n",
       "    }\n",
       "\n",
       "    .dataframe tbody tr th {\n",
       "        vertical-align: top;\n",
       "    }\n",
       "\n",
       "    .dataframe thead th {\n",
       "        text-align: right;\n",
       "    }\n",
       "</style>\n",
       "<table border=\"1\" class=\"dataframe\">\n",
       "  <thead>\n",
       "    <tr style=\"text-align: right;\">\n",
       "      <th></th>\n",
       "      <th></th>\n",
       "      <th>SHRCD</th>\n",
       "      <th>SICCD</th>\n",
       "      <th>PRC</th>\n",
       "      <th>VOL</th>\n",
       "      <th>RET</th>\n",
       "      <th>SHROUT</th>\n",
       "      <th>SICCD2</th>\n",
       "      <th>ARRET</th>\n",
       "      <th>LAGD</th>\n",
       "      <th>N_t</th>\n",
       "      <th>RRET</th>\n",
       "      <th>EXRET</th>\n",
       "      <th>MV</th>\n",
       "      <th>lag_PRC</th>\n",
       "      <th>lag_MV</th>\n",
       "      <th>lag_SHROUT</th>\n",
       "      <th>lag_SD</th>\n",
       "      <th>IB</th>\n",
       "      <th>SEQ</th>\n",
       "    </tr>\n",
       "    <tr>\n",
       "      <th>PERMNO</th>\n",
       "      <th>DATE</th>\n",
       "      <th></th>\n",
       "      <th></th>\n",
       "      <th></th>\n",
       "      <th></th>\n",
       "      <th></th>\n",
       "      <th></th>\n",
       "      <th></th>\n",
       "      <th></th>\n",
       "      <th></th>\n",
       "      <th></th>\n",
       "      <th></th>\n",
       "      <th></th>\n",
       "      <th></th>\n",
       "      <th></th>\n",
       "      <th></th>\n",
       "      <th></th>\n",
       "      <th></th>\n",
       "      <th></th>\n",
       "      <th></th>\n",
       "    </tr>\n",
       "  </thead>\n",
       "  <tbody>\n",
       "    <tr>\n",
       "      <th rowspan=\"5\" valign=\"top\">10001.0</th>\n",
       "      <th>2010-07-07</th>\n",
       "      <td>11.0</td>\n",
       "      <td>4925.0</td>\n",
       "      <td>10.94</td>\n",
       "      <td>18900.0</td>\n",
       "      <td>0.005515</td>\n",
       "      <td>6080.0</td>\n",
       "      <td>49</td>\n",
       "      <td>0.155</td>\n",
       "      <td>2010-07-06</td>\n",
       "      <td>1.0</td>\n",
       "      <td>0.000004</td>\n",
       "      <td>0.005510</td>\n",
       "      <td>66515.197449</td>\n",
       "      <td>10.88</td>\n",
       "      <td>66150.400696</td>\n",
       "      <td>6080.0</td>\n",
       "      <td>0.016708</td>\n",
       "      <td>NaN</td>\n",
       "      <td>NaN</td>\n",
       "    </tr>\n",
       "    <tr>\n",
       "      <th>2010-07-08</th>\n",
       "      <td>11.0</td>\n",
       "      <td>4925.0</td>\n",
       "      <td>10.90</td>\n",
       "      <td>11600.0</td>\n",
       "      <td>-0.003656</td>\n",
       "      <td>6080.0</td>\n",
       "      <td>49</td>\n",
       "      <td>0.145</td>\n",
       "      <td>2010-07-07</td>\n",
       "      <td>1.0</td>\n",
       "      <td>0.000004</td>\n",
       "      <td>-0.003661</td>\n",
       "      <td>66271.997681</td>\n",
       "      <td>10.94</td>\n",
       "      <td>66515.197449</td>\n",
       "      <td>6080.0</td>\n",
       "      <td>0.016702</td>\n",
       "      <td>NaN</td>\n",
       "      <td>NaN</td>\n",
       "    </tr>\n",
       "    <tr>\n",
       "      <th>2010-07-09</th>\n",
       "      <td>11.0</td>\n",
       "      <td>4925.0</td>\n",
       "      <td>10.85</td>\n",
       "      <td>3100.0</td>\n",
       "      <td>-0.004587</td>\n",
       "      <td>6080.0</td>\n",
       "      <td>49</td>\n",
       "      <td>0.145</td>\n",
       "      <td>2010-07-08</td>\n",
       "      <td>1.0</td>\n",
       "      <td>0.000004</td>\n",
       "      <td>-0.004591</td>\n",
       "      <td>65968.002319</td>\n",
       "      <td>10.90</td>\n",
       "      <td>66271.997681</td>\n",
       "      <td>6080.0</td>\n",
       "      <td>0.016678</td>\n",
       "      <td>NaN</td>\n",
       "      <td>NaN</td>\n",
       "    </tr>\n",
       "    <tr>\n",
       "      <th>2010-07-12</th>\n",
       "      <td>11.0</td>\n",
       "      <td>4925.0</td>\n",
       "      <td>11.00</td>\n",
       "      <td>21700.0</td>\n",
       "      <td>0.013825</td>\n",
       "      <td>6080.0</td>\n",
       "      <td>49</td>\n",
       "      <td>0.140</td>\n",
       "      <td>2010-07-09</td>\n",
       "      <td>3.0</td>\n",
       "      <td>0.000012</td>\n",
       "      <td>0.013813</td>\n",
       "      <td>66880.000000</td>\n",
       "      <td>10.85</td>\n",
       "      <td>65968.002319</td>\n",
       "      <td>6080.0</td>\n",
       "      <td>0.016392</td>\n",
       "      <td>NaN</td>\n",
       "      <td>NaN</td>\n",
       "    </tr>\n",
       "    <tr>\n",
       "      <th>2010-07-13</th>\n",
       "      <td>11.0</td>\n",
       "      <td>4925.0</td>\n",
       "      <td>11.00</td>\n",
       "      <td>5100.0</td>\n",
       "      <td>0.004091</td>\n",
       "      <td>6080.0</td>\n",
       "      <td>49</td>\n",
       "      <td>0.145</td>\n",
       "      <td>2010-07-12</td>\n",
       "      <td>1.0</td>\n",
       "      <td>0.000004</td>\n",
       "      <td>0.004087</td>\n",
       "      <td>66880.000000</td>\n",
       "      <td>11.00</td>\n",
       "      <td>66880.000000</td>\n",
       "      <td>6080.0</td>\n",
       "      <td>0.016091</td>\n",
       "      <td>NaN</td>\n",
       "      <td>NaN</td>\n",
       "    </tr>\n",
       "  </tbody>\n",
       "</table>\n",
       "</div>"
      ],
      "text/plain": [
       "                    SHRCD   SICCD    PRC      VOL       RET  SHROUT SICCD2  \\\n",
       "PERMNO  DATE                                                                 \n",
       "10001.0 2010-07-07   11.0  4925.0  10.94  18900.0  0.005515  6080.0     49   \n",
       "        2010-07-08   11.0  4925.0  10.90  11600.0 -0.003656  6080.0     49   \n",
       "        2010-07-09   11.0  4925.0  10.85   3100.0 -0.004587  6080.0     49   \n",
       "        2010-07-12   11.0  4925.0  11.00  21700.0  0.013825  6080.0     49   \n",
       "        2010-07-13   11.0  4925.0  11.00   5100.0  0.004091  6080.0     49   \n",
       "\n",
       "                    ARRET       LAGD  N_t      RRET     EXRET            MV  \\\n",
       "PERMNO  DATE                                                                  \n",
       "10001.0 2010-07-07  0.155 2010-07-06  1.0  0.000004  0.005510  66515.197449   \n",
       "        2010-07-08  0.145 2010-07-07  1.0  0.000004 -0.003661  66271.997681   \n",
       "        2010-07-09  0.145 2010-07-08  1.0  0.000004 -0.004591  65968.002319   \n",
       "        2010-07-12  0.140 2010-07-09  3.0  0.000012  0.013813  66880.000000   \n",
       "        2010-07-13  0.145 2010-07-12  1.0  0.000004  0.004087  66880.000000   \n",
       "\n",
       "                    lag_PRC        lag_MV  lag_SHROUT    lag_SD  IB  SEQ  \n",
       "PERMNO  DATE                                                              \n",
       "10001.0 2010-07-07    10.88  66150.400696      6080.0  0.016708 NaN  NaN  \n",
       "        2010-07-08    10.94  66515.197449      6080.0  0.016702 NaN  NaN  \n",
       "        2010-07-09    10.90  66271.997681      6080.0  0.016678 NaN  NaN  \n",
       "        2010-07-12    10.85  65968.002319      6080.0  0.016392 NaN  NaN  \n",
       "        2010-07-13    11.00  66880.000000      6080.0  0.016091 NaN  NaN  "
      ]
     },
     "execution_count": 13,
     "metadata": {},
     "output_type": "execute_result"
    }
   ],
   "source": [
    "# cstat\n",
    "cstat['SEQ'] = cstat['SEQ'].fillna(cstat['CEQ']+cstat['PSTK'])\n",
    "cstat['SEQ'] = cstat['SEQ'].fillna(cstat['AT']-cstat['LT'])\n",
    "cstat = cstat.reset_index()\n",
    "cstat = cstat.set_index(['PERMNO','DATE'])\n",
    "\n",
    "stocks_etf = stocks_etf.merge(cstat[['IB','SEQ']],how='left',on=['PERMNO','DATE'])\n",
    "stocks_etf.head()"
   ]
  },
  {
   "cell_type": "code",
   "execution_count": 14,
   "id": "5d135449",
   "metadata": {
    "ExecuteTime": {
     "end_time": "2022-12-03T23:07:29.577532Z",
     "start_time": "2022-12-03T23:07:29.198877Z"
    }
   },
   "outputs": [],
   "source": [
    "# lag_IB: assume that we can only know the IB after 6 months\n",
    "# lag_SEQ: assume that we can only know the SEQ after 6 months\n",
    "stocks_etf['lag_IB'] = stocks_etf['IB'].groupby('PERMNO').shift(6*22).fillna(method='pad',limit=252)\n",
    "stocks_etf['lag_SEQ'] = stocks_etf['SEQ'].groupby('PERMNO').shift(6*22).fillna(method='pad',limit=252)"
   ]
  },
  {
   "cell_type": "code",
   "execution_count": 15,
   "id": "9733531c",
   "metadata": {
    "ExecuteTime": {
     "end_time": "2022-12-03T23:07:29.930163Z",
     "start_time": "2022-12-03T23:07:29.578811Z"
    }
   },
   "outputs": [],
   "source": [
    "# lag_ep: lag 1 day e/p ratio\n",
    "# lag_bm: lag 1 day b/m ratio\n",
    "stocks_etf['lag_ep'] = stocks_etf['lag_IB']/stocks_etf.groupby('PERMNO')['MV'].shift(1)*1000\n",
    "stocks_etf['lag_bm'] = stocks_etf['lag_SEQ']/stocks_etf.groupby('PERMNO')['MV'].shift(1)*1000\n"
   ]
  },
  {
   "cell_type": "markdown",
   "id": "e948b808",
   "metadata": {},
   "source": [
    "- For reversal Strategy"
   ]
  },
  {
   "cell_type": "code",
   "execution_count": 16,
   "id": "e2131928",
   "metadata": {
    "ExecuteTime": {
     "end_time": "2022-12-03T23:07:46.332416Z",
     "start_time": "2022-12-03T23:07:29.931207Z"
    }
   },
   "outputs": [],
   "source": [
    "# DIFF\n",
    "stocks_etf['MA5'] = stocks_etf.groupby('PERMNO')[['EXRET']].apply(lambda x: x.rolling(5).mean())\n",
    "stocks_etf['LAGMA5'] = stocks_etf.groupby('PERMNO')[['MA5']].shift()\n",
    "stocks_etf['LAGRET'] = stocks_etf.groupby('PERMNO')[['EXRET']].shift(2)\n",
    "stocks_etf['DIFF'] = stocks_etf['LAGRET'] - stocks_etf['LAGMA5']"
   ]
  },
  {
   "cell_type": "markdown",
   "id": "07e21ba9",
   "metadata": {},
   "source": [
    "- For Price Opportunity Strategy"
   ]
  },
  {
   "cell_type": "code",
   "execution_count": 17,
   "id": "105f1512",
   "metadata": {
    "ExecuteTime": {
     "end_time": "2022-12-03T23:07:53.628557Z",
     "start_time": "2022-12-03T23:07:46.339083Z"
    }
   },
   "outputs": [],
   "source": [
    "stocks_etf['SMA'] = stocks_etf['PRC'].groupby('PERMNO').apply(lambda x: x.shift().rolling(5).mean())\n",
    "stocks_etf['LMA'] = stocks_etf['PRC'].groupby('PERMNO').apply(lambda x: x.shift().rolling(66).mean())\n",
    "stocks_etf['SIG'] = [1 if i<=j else -1 for i,j in zip(stocks_etf['SMA'],stocks_etf['LMA'])] # 1: long, -1: short"
   ]
  },
  {
   "cell_type": "markdown",
   "id": "6631d5e3",
   "metadata": {},
   "source": [
    "- Slice the dataset into two time periods so that we can compare strategy effectivenss during different time periods\n",
    "- Time period 1: 2010-2014\n",
    "- Time period 2: 2015-2019"
   ]
  },
  {
   "cell_type": "code",
   "execution_count": 18,
   "id": "3d28354e",
   "metadata": {
    "ExecuteTime": {
     "end_time": "2022-12-03T23:08:12.316423Z",
     "start_time": "2022-12-03T23:07:53.630553Z"
    }
   },
   "outputs": [],
   "source": [
    "stocks_etf = stocks_etf.dropna(subset=['LAGRET','lag_PRC','lag_SHROUT','lag_MV','lag_SD','lag_ep','lag_bm','DIFF','SIG'])\n",
    "stocks_etf = stocks_etf.reset_index()\n",
    "stocks_etf = stocks_etf.set_index(['DATE'])"
   ]
  },
  {
   "cell_type": "code",
   "execution_count": 151,
   "id": "6e52d7fc",
   "metadata": {},
   "outputs": [],
   "source": [
    "stocks_etf2=stocks_etf.copy()\n",
    "stocks_etf2=stocks_etf2.dropna(subset=['EXRET'])"
   ]
  },
  {
   "cell_type": "code",
   "execution_count": 152,
   "id": "c486205e",
   "metadata": {},
   "outputs": [],
   "source": [
    "allparams = stocks_etf2.groupby(['DATE']).apply(lambda x: smf.ols('EXRET~lag_bm', data=x).fit().params)"
   ]
  },
  {
   "cell_type": "code",
   "execution_count": 153,
   "id": "b984d329",
   "metadata": {},
   "outputs": [
    {
     "data": {
      "text/plain": [
       "Intercept    0.000472\n",
       "lag_bm       0.000010\n",
       "dtype: float64"
      ]
     },
     "execution_count": 153,
     "metadata": {},
     "output_type": "execute_result"
    }
   ],
   "source": [
    "allparams.mean()"
   ]
  },
  {
   "cell_type": "code",
   "execution_count": 21,
   "id": "0be162ef",
   "metadata": {
    "ExecuteTime": {
     "end_time": "2022-12-03T23:08:17.350984Z",
     "start_time": "2022-12-03T23:08:12.323329Z"
    }
   },
   "outputs": [
    {
     "name": "stderr",
     "output_type": "stream",
     "text": [
      "<ipython-input-21-bdc5824edc0f>:1: FutureWarning: Value based partial slicing on non-monotonic DatetimeIndexes with non-existing keys is deprecated and will raise a KeyError in a future Version.\n",
      "  df1 = stocks_etf['2010-01-01':'2015-01-01'].copy()\n",
      "<ipython-input-21-bdc5824edc0f>:2: FutureWarning: Value based partial slicing on non-monotonic DatetimeIndexes with non-existing keys is deprecated and will raise a KeyError in a future Version.\n",
      "  df2 = stocks_etf['2015-01-01':'2020-01-01'].copy()\n"
     ]
    }
   ],
   "source": [
    "df1 = stocks_etf['2010-01-01':'2015-01-01'].copy()\n",
    "df2 = stocks_etf['2015-01-01':'2020-01-01'].copy()"
   ]
  },
  {
   "cell_type": "markdown",
   "id": "7af50c2f",
   "metadata": {},
   "source": [
    "## Some Functions"
   ]
  },
  {
   "cell_type": "code",
   "execution_count": 22,
   "id": "cd7cd0b9",
   "metadata": {
    "ExecuteTime": {
     "end_time": "2022-12-03T23:08:17.363920Z",
     "start_time": "2022-12-03T23:08:17.354555Z"
    }
   },
   "outputs": [],
   "source": [
    "def q(inser):\n",
    "    outser = pd.qcut(inser, q=5, labels=range(1,6))\n",
    "    return outser"
   ]
  },
  {
   "cell_type": "code",
   "execution_count": 23,
   "id": "8c029628",
   "metadata": {
    "ExecuteTime": {
     "end_time": "2022-12-03T23:08:17.395339Z",
     "start_time": "2022-12-03T23:08:17.366403Z"
    }
   },
   "outputs": [],
   "source": [
    "def hml(df, var):\n",
    "    \n",
    "    # creating the quintiles\n",
    "    df['Q'] = df[var].groupby('DATE').apply(q)\n",
    "    \n",
    "    # computing quintile portfolio returns\n",
    "    ports = df.groupby(['Q','DATE'])['EXRET'].mean()\n",
    "    \n",
    "    # printing out basic statistics on each portfolio\n",
    "    ports.groupby('Q').describe()\n",
    "    \n",
    "    # computing high minus low portfolios\n",
    "    hml = ports.loc[5] - ports.loc[1]\n",
    "    \n",
    "    stats = hml.describe()\n",
    "    stats.loc['tstat']  = stats.loc['mean'] / stats.loc['std'] * np.sqrt(stats.loc['count'])\n",
    "    stats.loc['sharpe'] = stats.loc['mean'] / stats.loc['std'] * np.sqrt(252)    \n",
    "    return stats"
   ]
  },
  {
   "cell_type": "code",
   "execution_count": 24,
   "id": "6c5ffb51",
   "metadata": {
    "ExecuteTime": {
     "end_time": "2022-12-03T23:08:17.403359Z",
     "start_time": "2022-12-03T23:08:17.398306Z"
    }
   },
   "outputs": [],
   "source": [
    "def pos(df):\n",
    "\n",
    "    # computing quintile portfolio returns\n",
    "    ports = df.groupby(['SIG','DATE'])['EXRET'].mean()\n",
    "    \n",
    "    # printing out basic statistics on each portfolio\n",
    "    ports.groupby('SIG').describe()\n",
    "    \n",
    "    # computing high minus low portfolios\n",
    "    hml = ports.loc[1] - ports.loc[-1]\n",
    "    \n",
    "    stats = hml.describe()\n",
    "    stats.loc['tstat']  = stats.loc['mean'] / stats.loc['std'] * np.sqrt(stats.loc['count'])\n",
    "    stats.loc['sharpe'] = stats.loc['mean'] / stats.loc['std'] * np.sqrt(252)    \n",
    "    return stats"
   ]
  },
  {
   "cell_type": "code",
   "execution_count": 25,
   "id": "dfe611dc",
   "metadata": {
    "ExecuteTime": {
     "end_time": "2022-12-03T23:08:17.411374Z",
     "start_time": "2022-12-03T23:08:17.405210Z"
    }
   },
   "outputs": [],
   "source": [
    "def lmh(df, var):\n",
    "    \n",
    "    # creating the quintiles\n",
    "    df['Q'] = df[var].groupby('DATE').apply(q)\n",
    "    \n",
    "    # computing quintile portfolio returns\n",
    "    ports = df.groupby(['Q','DATE'])['EXRET'].mean()\n",
    "    \n",
    "    # printing out basic statistics on each portfolio\n",
    "    ports.groupby('Q').describe()\n",
    "    \n",
    "    # computing low minus high portfolios\n",
    "    lmh = ports.loc[1] - ports.loc[5]\n",
    "    \n",
    "    stats = lmh.describe()\n",
    "    stats.loc['tstat']  = stats.loc['mean'] / stats.loc['std'] * np.sqrt(stats.loc['count'])\n",
    "    stats.loc['sharpe'] = stats.loc['mean'] / stats.loc['std'] * np.sqrt(252)    \n",
    "    return stats"
   ]
  },
  {
   "cell_type": "code",
   "execution_count": 26,
   "id": "df3e9846",
   "metadata": {
    "ExecuteTime": {
     "end_time": "2022-12-03T23:08:17.423660Z",
     "start_time": "2022-12-03T23:08:17.414206Z"
    }
   },
   "outputs": [],
   "source": [
    "def combine(df, v1, v2):\n",
    "    # creating the quintiles\n",
    "    df['Q1'] = df[v1].groupby('DATE').apply(q)\n",
    "    df['Q2'] = df[v2].groupby('DATE').apply(q)\n",
    "\n",
    "    # computing quintile portfolio returns\n",
    "    ports = df.groupby(['Q1','Q2','SIG','DATE'])['EXRET'].mean()\n",
    "    \n",
    "    # printing out basic statistics on each portfolio\n",
    "    ports.groupby(['Q1','Q2','SIG']).describe()\n",
    "    \n",
    "    # computing combined portfolios\n",
    "    combine = ports.loc[5,1,1] - ports.loc[1,5,-1]\n",
    "    \n",
    "    stats = combine.describe()\n",
    "    stats.loc['tstat']  = stats.loc['mean'] / stats.loc['std'] * np.sqrt(stats.loc['count'])\n",
    "    stats.loc['sharpe'] = stats.loc['mean'] / stats.loc['std'] * np.sqrt(252)    \n",
    "    return stats"
   ]
  },
  {
   "cell_type": "code",
   "execution_count": 27,
   "id": "0d9641e0",
   "metadata": {
    "ExecuteTime": {
     "end_time": "2022-12-03T23:08:17.430046Z",
     "start_time": "2022-12-03T23:08:17.425577Z"
    }
   },
   "outputs": [],
   "source": [
    "def combine2(df, v1, v2):\n",
    "    # creating the quintiles\n",
    "    df['Q1'] = df[v1].groupby('DATE').apply(q)\n",
    "    df['Q2'] = df[v2].groupby('DATE').apply(q)\n",
    "\n",
    "    # computing quintile portfolio returns\n",
    "    ports = df.groupby(['Q1','Q2','DATE'])['EXRET'].mean()\n",
    "    \n",
    "    # printing out basic statistics on each portfolio\n",
    "    ports.groupby(['Q1','Q2']).describe()\n",
    "    \n",
    "    # computing combined portfolios\n",
    "    combine = ports.loc[5,1] - ports.loc[1,5]\n",
    "    \n",
    "    stats = combine.describe()\n",
    "    stats.loc['tstat']  = stats.loc['mean'] / stats.loc['std'] * np.sqrt(stats.loc['count'])\n",
    "    stats.loc['sharpe'] = stats.loc['mean'] / stats.loc['std'] * np.sqrt(252)    \n",
    "    return stats"
   ]
  },
  {
   "cell_type": "code",
   "execution_count": 28,
   "id": "76378713",
   "metadata": {
    "ExecuteTime": {
     "end_time": "2022-12-03T23:08:17.446324Z",
     "start_time": "2022-12-03T23:08:17.433673Z"
    }
   },
   "outputs": [],
   "source": [
    "def lmhpos(df, v1):\n",
    "    # creating the quintiles\n",
    "    df['Q1'] = df[v1].groupby('DATE').apply(q)\n",
    "\n",
    "    # computing quintile portfolio returns\n",
    "    ports = df.groupby(['Q1','SIG','DATE'])['EXRET'].mean()\n",
    "    \n",
    "    # printing out basic statistics on each portfolio\n",
    "    ports.groupby(['Q1','SIG']).describe()\n",
    "    \n",
    "    # computing combined portfolios\n",
    "    combine = ports.loc[1,1] - ports.loc[5,-1]\n",
    "    \n",
    "    stats = combine.describe()\n",
    "    stats.loc['tstat']  = stats.loc['mean'] / stats.loc['std'] * np.sqrt(stats.loc['count'])\n",
    "    stats.loc['sharpe'] = stats.loc['mean'] / stats.loc['std'] * np.sqrt(252)    \n",
    "    return stats"
   ]
  },
  {
   "cell_type": "code",
   "execution_count": 29,
   "id": "c5dd4299",
   "metadata": {
    "ExecuteTime": {
     "end_time": "2022-12-03T23:08:17.464648Z",
     "start_time": "2022-12-03T23:08:17.460477Z"
    }
   },
   "outputs": [],
   "source": [
    "def hmlpos(df, v1):\n",
    "    # creating the quintiles\n",
    "    df['Q1'] = df[v1].groupby('DATE').apply(q)\n",
    "\n",
    "    # computing quintile portfolio returns\n",
    "    ports = df.groupby(['Q1','SIG','DATE'])['EXRET'].mean()\n",
    "    \n",
    "    # printing out basic statistics on each portfolio\n",
    "    ports.groupby(['Q1','SIG']).describe()\n",
    "    \n",
    "    # computing combined portfolios\n",
    "    combine = ports.loc[5,1] - ports.loc[1,-1]\n",
    "    \n",
    "    stats = combine.describe()\n",
    "    stats.loc['tstat']  = stats.loc['mean'] / stats.loc['std'] * np.sqrt(stats.loc['count'])\n",
    "    stats.loc['sharpe'] = stats.loc['mean'] / stats.loc['std'] * np.sqrt(252)    \n",
    "    return stats"
   ]
  },
  {
   "cell_type": "markdown",
   "id": "98b6fc1d",
   "metadata": {},
   "source": [
    "## df1 2010-2014"
   ]
  },
  {
   "cell_type": "code",
   "execution_count": 30,
   "id": "702bb9db",
   "metadata": {
    "ExecuteTime": {
     "end_time": "2022-12-03T23:08:21.058343Z",
     "start_time": "2022-12-03T23:08:17.466823Z"
    }
   },
   "outputs": [],
   "source": [
    "df1 = df1.reset_index()\n",
    "df1 = df1.set_index(['DATE','PERMNO']).sort_index()"
   ]
  },
  {
   "cell_type": "code",
   "execution_count": 31,
   "id": "7df128a9",
   "metadata": {
    "ExecuteTime": {
     "end_time": "2022-12-03T23:08:22.283807Z",
     "start_time": "2022-12-03T23:08:21.062186Z"
    }
   },
   "outputs": [],
   "source": [
    "df1['RQ'] = df1['lag_SD'].groupby('DATE').apply(q)"
   ]
  },
  {
   "cell_type": "markdown",
   "id": "4bb03fdd",
   "metadata": {},
   "source": [
    "### Low Risk"
   ]
  },
  {
   "cell_type": "code",
   "execution_count": 32,
   "id": "f9195a6a",
   "metadata": {
    "ExecuteTime": {
     "end_time": "2022-12-03T23:08:23.555142Z",
     "start_time": "2022-12-03T23:08:22.284553Z"
    }
   },
   "outputs": [],
   "source": [
    "df1lr = df1.loc[(df1['RQ']<=2) & (df1['lag_ep']>0) & (df1['lag_bm']>0)]"
   ]
  },
  {
   "cell_type": "code",
   "execution_count": 33,
   "id": "a7bb0078",
   "metadata": {
    "ExecuteTime": {
     "end_time": "2022-12-03T23:08:24.369203Z",
     "start_time": "2022-12-03T23:08:23.557227Z"
    },
    "scrolled": false
   },
   "outputs": [
    {
     "name": "stderr",
     "output_type": "stream",
     "text": [
      "<ipython-input-23-8280a3d6abbc>:4: SettingWithCopyWarning: \n",
      "A value is trying to be set on a copy of a slice from a DataFrame.\n",
      "Try using .loc[row_indexer,col_indexer] = value instead\n",
      "\n",
      "See the caveats in the documentation: https://pandas.pydata.org/pandas-docs/stable/user_guide/indexing.html#returning-a-view-versus-a-copy\n",
      "  df['Q'] = df[var].groupby('DATE').apply(q)\n"
     ]
    },
    {
     "data": {
      "text/plain": [
       "count     1258.000000\n",
       "mean         0.000028\n",
       "std          0.003874\n",
       "min         -0.016032\n",
       "25%         -0.002361\n",
       "50%         -0.000003\n",
       "75%          0.002231\n",
       "max          0.017180\n",
       "tstat        0.260224\n",
       "sharpe       0.116468\n",
       "Name: EXRET, dtype: float64"
      ]
     },
     "execution_count": 33,
     "metadata": {},
     "output_type": "execute_result"
    }
   ],
   "source": [
    "hml(df1lr,'lag_bm')"
   ]
  },
  {
   "cell_type": "code",
   "execution_count": 34,
   "id": "f3399b6c",
   "metadata": {
    "ExecuteTime": {
     "end_time": "2022-12-03T23:08:25.156948Z",
     "start_time": "2022-12-03T23:08:24.370172Z"
    },
    "scrolled": true
   },
   "outputs": [
    {
     "name": "stderr",
     "output_type": "stream",
     "text": [
      "<ipython-input-25-2bc97f6af1de>:4: SettingWithCopyWarning: \n",
      "A value is trying to be set on a copy of a slice from a DataFrame.\n",
      "Try using .loc[row_indexer,col_indexer] = value instead\n",
      "\n",
      "See the caveats in the documentation: https://pandas.pydata.org/pandas-docs/stable/user_guide/indexing.html#returning-a-view-versus-a-copy\n",
      "  df['Q'] = df[var].groupby('DATE').apply(q)\n"
     ]
    },
    {
     "data": {
      "text/plain": [
       "count     1258.000000\n",
       "mean         0.000083\n",
       "std          0.004905\n",
       "min         -0.036435\n",
       "25%         -0.002334\n",
       "50%         -0.000027\n",
       "75%          0.002522\n",
       "max          0.028321\n",
       "tstat        0.596834\n",
       "sharpe       0.267125\n",
       "Name: EXRET, dtype: float64"
      ]
     },
     "execution_count": 34,
     "metadata": {},
     "output_type": "execute_result"
    }
   ],
   "source": [
    "lmh(df1lr,'LAGRET')"
   ]
  },
  {
   "cell_type": "code",
   "execution_count": 35,
   "id": "a21acdc8",
   "metadata": {
    "ExecuteTime": {
     "end_time": "2022-12-03T23:08:25.236214Z",
     "start_time": "2022-12-03T23:08:25.157897Z"
    }
   },
   "outputs": [
    {
     "data": {
      "text/plain": [
       "count     1258.000000\n",
       "mean         0.000375\n",
       "std          0.003204\n",
       "min         -0.021894\n",
       "25%         -0.001319\n",
       "50%          0.000227\n",
       "75%          0.001929\n",
       "max          0.023232\n",
       "tstat        4.148315\n",
       "sharpe       1.856657\n",
       "Name: EXRET, dtype: float64"
      ]
     },
     "execution_count": 35,
     "metadata": {},
     "output_type": "execute_result"
    }
   ],
   "source": [
    "pos(df1lr)"
   ]
  },
  {
   "cell_type": "code",
   "execution_count": 36,
   "id": "a421abd0",
   "metadata": {
    "ExecuteTime": {
     "end_time": "2022-12-03T23:08:26.826966Z",
     "start_time": "2022-12-03T23:08:25.238007Z"
    },
    "scrolled": false
   },
   "outputs": [
    {
     "name": "stderr",
     "output_type": "stream",
     "text": [
      "<ipython-input-26-23b3b25baaa0>:3: SettingWithCopyWarning: \n",
      "A value is trying to be set on a copy of a slice from a DataFrame.\n",
      "Try using .loc[row_indexer,col_indexer] = value instead\n",
      "\n",
      "See the caveats in the documentation: https://pandas.pydata.org/pandas-docs/stable/user_guide/indexing.html#returning-a-view-versus-a-copy\n",
      "  df['Q1'] = df[v1].groupby('DATE').apply(q)\n",
      "<ipython-input-26-23b3b25baaa0>:4: SettingWithCopyWarning: \n",
      "A value is trying to be set on a copy of a slice from a DataFrame.\n",
      "Try using .loc[row_indexer,col_indexer] = value instead\n",
      "\n",
      "See the caveats in the documentation: https://pandas.pydata.org/pandas-docs/stable/user_guide/indexing.html#returning-a-view-versus-a-copy\n",
      "  df['Q2'] = df[v2].groupby('DATE').apply(q)\n"
     ]
    },
    {
     "data": {
      "text/plain": [
       "count     1238.000000\n",
       "mean         0.000533\n",
       "std          0.008894\n",
       "min         -0.051651\n",
       "25%         -0.004930\n",
       "50%          0.000520\n",
       "75%          0.005587\n",
       "max          0.055503\n",
       "tstat        2.110459\n",
       "sharpe       0.952175\n",
       "Name: EXRET, dtype: float64"
      ]
     },
     "execution_count": 36,
     "metadata": {},
     "output_type": "execute_result"
    }
   ],
   "source": [
    "combine(df1lr,'lag_bm','LAGRET')"
   ]
  },
  {
   "cell_type": "markdown",
   "id": "394f10ea",
   "metadata": {},
   "source": [
    "### High Risk"
   ]
  },
  {
   "cell_type": "code",
   "execution_count": 37,
   "id": "28a298f3",
   "metadata": {
    "ExecuteTime": {
     "end_time": "2022-12-03T23:08:27.159398Z",
     "start_time": "2022-12-03T23:08:26.827875Z"
    }
   },
   "outputs": [],
   "source": [
    "df1hr = df1.loc[(df1['RQ']>=4) & (df1['lag_ep']>0) & (df1['lag_bm']>0)]"
   ]
  },
  {
   "cell_type": "code",
   "execution_count": 38,
   "id": "b2cf46d5",
   "metadata": {
    "ExecuteTime": {
     "end_time": "2022-12-03T23:08:27.917277Z",
     "start_time": "2022-12-03T23:08:27.162318Z"
    },
    "scrolled": false
   },
   "outputs": [
    {
     "name": "stderr",
     "output_type": "stream",
     "text": [
      "<ipython-input-23-8280a3d6abbc>:4: SettingWithCopyWarning: \n",
      "A value is trying to be set on a copy of a slice from a DataFrame.\n",
      "Try using .loc[row_indexer,col_indexer] = value instead\n",
      "\n",
      "See the caveats in the documentation: https://pandas.pydata.org/pandas-docs/stable/user_guide/indexing.html#returning-a-view-versus-a-copy\n",
      "  df['Q'] = df[var].groupby('DATE').apply(q)\n"
     ]
    },
    {
     "data": {
      "text/plain": [
       "count     1258.000000\n",
       "mean        -0.000086\n",
       "std          0.007781\n",
       "min         -0.028659\n",
       "25%         -0.004873\n",
       "50%         -0.000171\n",
       "75%          0.004328\n",
       "max          0.048348\n",
       "tstat       -0.391501\n",
       "sharpe      -0.175224\n",
       "Name: EXRET, dtype: float64"
      ]
     },
     "execution_count": 38,
     "metadata": {},
     "output_type": "execute_result"
    }
   ],
   "source": [
    "hml(df1hr,'lag_bm')"
   ]
  },
  {
   "cell_type": "code",
   "execution_count": 39,
   "id": "c52d0bed",
   "metadata": {
    "ExecuteTime": {
     "end_time": "2022-12-03T23:08:28.556368Z",
     "start_time": "2022-12-03T23:08:27.918342Z"
    },
    "scrolled": true
   },
   "outputs": [
    {
     "name": "stderr",
     "output_type": "stream",
     "text": [
      "<ipython-input-25-2bc97f6af1de>:4: SettingWithCopyWarning: \n",
      "A value is trying to be set on a copy of a slice from a DataFrame.\n",
      "Try using .loc[row_indexer,col_indexer] = value instead\n",
      "\n",
      "See the caveats in the documentation: https://pandas.pydata.org/pandas-docs/stable/user_guide/indexing.html#returning-a-view-versus-a-copy\n",
      "  df['Q'] = df[var].groupby('DATE').apply(q)\n"
     ]
    },
    {
     "data": {
      "text/plain": [
       "count     1258.000000\n",
       "mean         0.000513\n",
       "std          0.008702\n",
       "min         -0.054363\n",
       "25%         -0.004286\n",
       "50%          0.000531\n",
       "75%          0.005368\n",
       "max          0.049765\n",
       "tstat        2.092267\n",
       "sharpe       0.936434\n",
       "Name: EXRET, dtype: float64"
      ]
     },
     "execution_count": 39,
     "metadata": {},
     "output_type": "execute_result"
    }
   ],
   "source": [
    "lmh(df1hr,'LAGRET')"
   ]
  },
  {
   "cell_type": "code",
   "execution_count": 40,
   "id": "b06d1f9d",
   "metadata": {
    "ExecuteTime": {
     "end_time": "2022-12-03T23:08:28.585433Z",
     "start_time": "2022-12-03T23:08:28.557166Z"
    }
   },
   "outputs": [
    {
     "data": {
      "text/plain": [
       "count     1258.000000\n",
       "mean         0.000294\n",
       "std          0.006028\n",
       "min         -0.035177\n",
       "25%         -0.002938\n",
       "50%         -0.000007\n",
       "75%          0.003241\n",
       "max          0.049529\n",
       "tstat        1.732062\n",
       "sharpe       0.775217\n",
       "Name: EXRET, dtype: float64"
      ]
     },
     "execution_count": 40,
     "metadata": {},
     "output_type": "execute_result"
    }
   ],
   "source": [
    "pos(df1hr)"
   ]
  },
  {
   "cell_type": "code",
   "execution_count": 41,
   "id": "bf87586b",
   "metadata": {
    "ExecuteTime": {
     "end_time": "2022-12-03T23:08:29.956427Z",
     "start_time": "2022-12-03T23:08:28.587132Z"
    },
    "scrolled": false
   },
   "outputs": [
    {
     "name": "stderr",
     "output_type": "stream",
     "text": [
      "<ipython-input-26-23b3b25baaa0>:3: SettingWithCopyWarning: \n",
      "A value is trying to be set on a copy of a slice from a DataFrame.\n",
      "Try using .loc[row_indexer,col_indexer] = value instead\n",
      "\n",
      "See the caveats in the documentation: https://pandas.pydata.org/pandas-docs/stable/user_guide/indexing.html#returning-a-view-versus-a-copy\n",
      "  df['Q1'] = df[v1].groupby('DATE').apply(q)\n",
      "<ipython-input-26-23b3b25baaa0>:4: SettingWithCopyWarning: \n",
      "A value is trying to be set on a copy of a slice from a DataFrame.\n",
      "Try using .loc[row_indexer,col_indexer] = value instead\n",
      "\n",
      "See the caveats in the documentation: https://pandas.pydata.org/pandas-docs/stable/user_guide/indexing.html#returning-a-view-versus-a-copy\n",
      "  df['Q2'] = df[v2].groupby('DATE').apply(q)\n"
     ]
    },
    {
     "data": {
      "text/plain": [
       "count     1231.000000\n",
       "mean         0.000750\n",
       "std          0.021464\n",
       "min         -0.156554\n",
       "25%         -0.011305\n",
       "50%          0.000055\n",
       "75%          0.012135\n",
       "max          0.137940\n",
       "tstat        1.225378\n",
       "sharpe       0.554423\n",
       "Name: EXRET, dtype: float64"
      ]
     },
     "execution_count": 41,
     "metadata": {},
     "output_type": "execute_result"
    }
   ],
   "source": [
    "combine(df1hr,'lag_bm','LAGRET')"
   ]
  },
  {
   "cell_type": "markdown",
   "id": "b3a377f3",
   "metadata": {},
   "source": [
    "### Visulization - df1, low risk vs high risk"
   ]
  },
  {
   "cell_type": "code",
   "execution_count": 42,
   "id": "9a7f6cca",
   "metadata": {
    "ExecuteTime": {
     "end_time": "2022-12-03T23:08:31.616507Z",
     "start_time": "2022-12-03T23:08:29.957311Z"
    }
   },
   "outputs": [
    {
     "name": "stderr",
     "output_type": "stream",
     "text": [
      "<ipython-input-42-ac3f0e2990ab>:1: SettingWithCopyWarning: \n",
      "A value is trying to be set on a copy of a slice from a DataFrame.\n",
      "Try using .loc[row_indexer,col_indexer] = value instead\n",
      "\n",
      "See the caveats in the documentation: https://pandas.pydata.org/pandas-docs/stable/user_guide/indexing.html#returning-a-view-versus-a-copy\n",
      "  df1lr['Q1'] = df1lr['lag_bm'].groupby('DATE').apply(q)\n",
      "<ipython-input-42-ac3f0e2990ab>:2: SettingWithCopyWarning: \n",
      "A value is trying to be set on a copy of a slice from a DataFrame.\n",
      "Try using .loc[row_indexer,col_indexer] = value instead\n",
      "\n",
      "See the caveats in the documentation: https://pandas.pydata.org/pandas-docs/stable/user_guide/indexing.html#returning-a-view-versus-a-copy\n",
      "  df1lr['Q2'] = df1lr['LAGRET'].groupby('DATE').apply(q)\n"
     ]
    }
   ],
   "source": [
    "df1lr['Q1'] = df1lr['lag_bm'].groupby('DATE').apply(q)\n",
    "df1lr['Q2'] = df1lr['LAGRET'].groupby('DATE').apply(q)\n",
    "\n",
    "ports = df1lr.groupby(['Q1','Q2','SIG','DATE'])[['EXRET']].mean()\n",
    "\n",
    "cumret_df1lr  = (1 + (ports.loc[5,1,1] - ports.loc[1,5,-1])).cumprod()"
   ]
  },
  {
   "cell_type": "code",
   "execution_count": 43,
   "id": "5b8e03ca",
   "metadata": {
    "ExecuteTime": {
     "end_time": "2022-12-03T23:08:33.023052Z",
     "start_time": "2022-12-03T23:08:31.617340Z"
    }
   },
   "outputs": [
    {
     "name": "stderr",
     "output_type": "stream",
     "text": [
      "<ipython-input-43-3790c04aa263>:1: SettingWithCopyWarning: \n",
      "A value is trying to be set on a copy of a slice from a DataFrame.\n",
      "Try using .loc[row_indexer,col_indexer] = value instead\n",
      "\n",
      "See the caveats in the documentation: https://pandas.pydata.org/pandas-docs/stable/user_guide/indexing.html#returning-a-view-versus-a-copy\n",
      "  df1hr['Q1'] = df1hr['lag_bm'].groupby('DATE').apply(q)\n",
      "<ipython-input-43-3790c04aa263>:2: SettingWithCopyWarning: \n",
      "A value is trying to be set on a copy of a slice from a DataFrame.\n",
      "Try using .loc[row_indexer,col_indexer] = value instead\n",
      "\n",
      "See the caveats in the documentation: https://pandas.pydata.org/pandas-docs/stable/user_guide/indexing.html#returning-a-view-versus-a-copy\n",
      "  df1hr['Q2'] = df1hr['LAGRET'].groupby('DATE').apply(q)\n"
     ]
    }
   ],
   "source": [
    "df1hr['Q1'] = df1hr['lag_bm'].groupby('DATE').apply(q)\n",
    "df1hr['Q2'] = df1hr['LAGRET'].groupby('DATE').apply(q)\n",
    "\n",
    "ports = df1hr.groupby(['Q1','Q2','SIG','DATE'])[['EXRET']].mean()\n",
    "\n",
    "cumret_df1hr  = (1 + (ports.loc[5,1,1] - ports.loc[1,5,-1])).cumprod()"
   ]
  },
  {
   "cell_type": "code",
   "execution_count": 44,
   "id": "fe45868a",
   "metadata": {
    "ExecuteTime": {
     "end_time": "2022-12-03T23:08:33.097818Z",
     "start_time": "2022-12-03T23:08:33.023878Z"
    }
   },
   "outputs": [],
   "source": [
    "bh = df1.groupby(['DATE'])[['EXRET']].mean()\n",
    "cumret_bh = (1 + bh[['EXRET']]).cumprod()"
   ]
  },
  {
   "cell_type": "code",
   "execution_count": 45,
   "id": "834adf17",
   "metadata": {
    "ExecuteTime": {
     "end_time": "2022-12-03T23:08:33.270186Z",
     "start_time": "2022-12-03T23:08:33.099661Z"
    }
   },
   "outputs": [
    {
     "data": {
      "image/png": "[encoded data removed]",
      "text/plain": [
       "<Figure size 432x288 with 1 Axes>"
      ]
     },
     "metadata": {
      "needs_background": "light"
     },
     "output_type": "display_data"
    }
   ],
   "source": [
    "# Visual\n",
    "plt.plot(cumret_df1lr, color='darkred',label='Low risk')\n",
    "plt.plot(cumret_df1hr, color='darkblue',label='High risk')\n",
    "plt.plot(cumret_bh, color='black',label='Buy and Hold')\n",
    "plt.legend()\n",
    "plt.show()"
   ]
  },
  {
   "cell_type": "markdown",
   "id": "f2721644",
   "metadata": {},
   "source": [
    "### Technology Companies"
   ]
  },
  {
   "cell_type": "code",
   "execution_count": 46,
   "id": "756d6368",
   "metadata": {
    "ExecuteTime": {
     "end_time": "2022-12-03T23:08:33.346971Z",
     "start_time": "2022-12-03T23:08:33.343378Z"
    }
   },
   "outputs": [],
   "source": [
    "tech_1 = ['35', '36', '38', '48']\n",
    "tech_2 = [7370,7371,7372,7373,7374,7377]"
   ]
  },
  {
   "cell_type": "code",
   "execution_count": 47,
   "id": "ad35f5f7",
   "metadata": {
    "ExecuteTime": {
     "end_time": "2022-12-03T23:08:34.242831Z",
     "start_time": "2022-12-03T23:08:33.350972Z"
    }
   },
   "outputs": [],
   "source": [
    "df1t = df1.loc[(df1.SICCD2.isin(tech_1)|df1.SICCD.isin(tech_2)) & (df1['lag_ep']>0) & (df1['lag_bm']>0)]"
   ]
  },
  {
   "cell_type": "code",
   "execution_count": 48,
   "id": "3a1563ab",
   "metadata": {
    "ExecuteTime": {
     "end_time": "2022-12-03T23:08:34.986556Z",
     "start_time": "2022-12-03T23:08:34.244454Z"
    },
    "scrolled": false
   },
   "outputs": [
    {
     "name": "stderr",
     "output_type": "stream",
     "text": [
      "<ipython-input-23-8280a3d6abbc>:4: SettingWithCopyWarning: \n",
      "A value is trying to be set on a copy of a slice from a DataFrame.\n",
      "Try using .loc[row_indexer,col_indexer] = value instead\n",
      "\n",
      "See the caveats in the documentation: https://pandas.pydata.org/pandas-docs/stable/user_guide/indexing.html#returning-a-view-versus-a-copy\n",
      "  df['Q'] = df[var].groupby('DATE').apply(q)\n"
     ]
    },
    {
     "data": {
      "text/plain": [
       "count     1258.000000\n",
       "mean         0.000288\n",
       "std          0.005314\n",
       "min         -0.015321\n",
       "25%         -0.003008\n",
       "50%          0.000210\n",
       "75%          0.003538\n",
       "max          0.021360\n",
       "tstat        1.921741\n",
       "sharpe       0.860112\n",
       "Name: EXRET, dtype: float64"
      ]
     },
     "execution_count": 48,
     "metadata": {},
     "output_type": "execute_result"
    }
   ],
   "source": [
    "hml(df1t,'lag_bm')"
   ]
  },
  {
   "cell_type": "code",
   "execution_count": 49,
   "id": "40c4dada",
   "metadata": {
    "ExecuteTime": {
     "end_time": "2022-12-03T23:08:35.607336Z",
     "start_time": "2022-12-03T23:08:34.987297Z"
    },
    "scrolled": true
   },
   "outputs": [
    {
     "name": "stderr",
     "output_type": "stream",
     "text": [
      "<ipython-input-25-2bc97f6af1de>:4: SettingWithCopyWarning: \n",
      "A value is trying to be set on a copy of a slice from a DataFrame.\n",
      "Try using .loc[row_indexer,col_indexer] = value instead\n",
      "\n",
      "See the caveats in the documentation: https://pandas.pydata.org/pandas-docs/stable/user_guide/indexing.html#returning-a-view-versus-a-copy\n",
      "  df['Q'] = df[var].groupby('DATE').apply(q)\n"
     ]
    },
    {
     "data": {
      "text/plain": [
       "count     1258.000000\n",
       "mean         0.000178\n",
       "std          0.006488\n",
       "min         -0.030697\n",
       "25%         -0.003673\n",
       "50%          0.000192\n",
       "75%          0.004083\n",
       "max          0.023013\n",
       "tstat        0.974950\n",
       "sharpe       0.436357\n",
       "Name: EXRET, dtype: float64"
      ]
     },
     "execution_count": 49,
     "metadata": {},
     "output_type": "execute_result"
    }
   ],
   "source": [
    "lmh(df1t,'LAGRET')"
   ]
  },
  {
   "cell_type": "code",
   "execution_count": 50,
   "id": "d2294d57",
   "metadata": {
    "ExecuteTime": {
     "end_time": "2022-12-03T23:08:35.630822Z",
     "start_time": "2022-12-03T23:08:35.608069Z"
    }
   },
   "outputs": [
    {
     "data": {
      "text/plain": [
       "count     1258.000000\n",
       "mean         0.000365\n",
       "std          0.004601\n",
       "min         -0.022394\n",
       "25%         -0.002258\n",
       "50%          0.000247\n",
       "75%          0.002917\n",
       "max          0.041753\n",
       "tstat        2.815054\n",
       "sharpe       1.259931\n",
       "Name: EXRET, dtype: float64"
      ]
     },
     "execution_count": 50,
     "metadata": {},
     "output_type": "execute_result"
    }
   ],
   "source": [
    "pos(df1t)"
   ]
  },
  {
   "cell_type": "code",
   "execution_count": 51,
   "id": "b0596b40",
   "metadata": {
    "ExecuteTime": {
     "end_time": "2022-12-03T23:08:37.119919Z",
     "start_time": "2022-12-03T23:08:35.631665Z"
    }
   },
   "outputs": [
    {
     "name": "stderr",
     "output_type": "stream",
     "text": [
      "<ipython-input-26-23b3b25baaa0>:3: SettingWithCopyWarning: \n",
      "A value is trying to be set on a copy of a slice from a DataFrame.\n",
      "Try using .loc[row_indexer,col_indexer] = value instead\n",
      "\n",
      "See the caveats in the documentation: https://pandas.pydata.org/pandas-docs/stable/user_guide/indexing.html#returning-a-view-versus-a-copy\n",
      "  df['Q1'] = df[v1].groupby('DATE').apply(q)\n",
      "<ipython-input-26-23b3b25baaa0>:4: SettingWithCopyWarning: \n",
      "A value is trying to be set on a copy of a slice from a DataFrame.\n",
      "Try using .loc[row_indexer,col_indexer] = value instead\n",
      "\n",
      "See the caveats in the documentation: https://pandas.pydata.org/pandas-docs/stable/user_guide/indexing.html#returning-a-view-versus-a-copy\n",
      "  df['Q2'] = df[v2].groupby('DATE').apply(q)\n"
     ]
    },
    {
     "data": {
      "text/plain": [
       "count     1205.000000\n",
       "mean         0.001157\n",
       "std          0.016821\n",
       "min         -0.093427\n",
       "25%         -0.008070\n",
       "50%          0.000277\n",
       "75%          0.010079\n",
       "max          0.171146\n",
       "tstat        2.387591\n",
       "sharpe       1.091859\n",
       "Name: EXRET, dtype: float64"
      ]
     },
     "execution_count": 51,
     "metadata": {},
     "output_type": "execute_result"
    }
   ],
   "source": [
    "combine(df1t,'lag_bm','LAGRET')"
   ]
  },
  {
   "cell_type": "markdown",
   "id": "ba56bb28",
   "metadata": {},
   "source": [
    "### Non-Technology Companies"
   ]
  },
  {
   "cell_type": "code",
   "execution_count": 52,
   "id": "053867e0",
   "metadata": {
    "ExecuteTime": {
     "end_time": "2022-12-03T23:08:40.174065Z",
     "start_time": "2022-12-03T23:08:37.122212Z"
    }
   },
   "outputs": [],
   "source": [
    "df1n = df1.loc[(~(df1.SICCD2.isin(tech_1)|df1.SICCD.isin(tech_2))) & (df1['lag_ep']>0) & (df1['lag_bm']>0)]"
   ]
  },
  {
   "cell_type": "code",
   "execution_count": 53,
   "id": "ebddfd96",
   "metadata": {
    "ExecuteTime": {
     "end_time": "2022-12-03T23:08:41.586838Z",
     "start_time": "2022-12-03T23:08:40.177652Z"
    }
   },
   "outputs": [
    {
     "name": "stderr",
     "output_type": "stream",
     "text": [
      "<ipython-input-23-8280a3d6abbc>:4: SettingWithCopyWarning: \n",
      "A value is trying to be set on a copy of a slice from a DataFrame.\n",
      "Try using .loc[row_indexer,col_indexer] = value instead\n",
      "\n",
      "See the caveats in the documentation: https://pandas.pydata.org/pandas-docs/stable/user_guide/indexing.html#returning-a-view-versus-a-copy\n",
      "  df['Q'] = df[var].groupby('DATE').apply(q)\n"
     ]
    },
    {
     "data": {
      "text/plain": [
       "count     1258.000000\n",
       "mean         0.000071\n",
       "std          0.004746\n",
       "min         -0.017067\n",
       "25%         -0.003003\n",
       "50%          0.000092\n",
       "75%          0.002890\n",
       "max          0.026515\n",
       "tstat        0.529110\n",
       "sharpe       0.236813\n",
       "Name: EXRET, dtype: float64"
      ]
     },
     "execution_count": 53,
     "metadata": {},
     "output_type": "execute_result"
    }
   ],
   "source": [
    "hml(df1n,'lag_bm')"
   ]
  },
  {
   "cell_type": "code",
   "execution_count": 54,
   "id": "d8a2eb8c",
   "metadata": {
    "ExecuteTime": {
     "end_time": "2022-12-03T23:08:42.849258Z",
     "start_time": "2022-12-03T23:08:41.588690Z"
    },
    "scrolled": true
   },
   "outputs": [
    {
     "name": "stderr",
     "output_type": "stream",
     "text": [
      "<ipython-input-25-2bc97f6af1de>:4: SettingWithCopyWarning: \n",
      "A value is trying to be set on a copy of a slice from a DataFrame.\n",
      "Try using .loc[row_indexer,col_indexer] = value instead\n",
      "\n",
      "See the caveats in the documentation: https://pandas.pydata.org/pandas-docs/stable/user_guide/indexing.html#returning-a-view-versus-a-copy\n",
      "  df['Q'] = df[var].groupby('DATE').apply(q)\n"
     ]
    },
    {
     "data": {
      "text/plain": [
       "count     1258.000000\n",
       "mean         0.000291\n",
       "std          0.006629\n",
       "min         -0.043903\n",
       "25%         -0.002961\n",
       "50%          0.000186\n",
       "75%          0.003410\n",
       "max          0.040014\n",
       "tstat        1.556589\n",
       "sharpe       0.696681\n",
       "Name: EXRET, dtype: float64"
      ]
     },
     "execution_count": 54,
     "metadata": {},
     "output_type": "execute_result"
    }
   ],
   "source": [
    "lmh(df1n,'LAGRET')"
   ]
  },
  {
   "cell_type": "code",
   "execution_count": 55,
   "id": "32feb627",
   "metadata": {
    "ExecuteTime": {
     "end_time": "2022-12-03T23:08:42.959112Z",
     "start_time": "2022-12-03T23:08:42.850203Z"
    }
   },
   "outputs": [
    {
     "data": {
      "text/plain": [
       "count     1258.000000\n",
       "mean         0.000323\n",
       "std          0.003976\n",
       "min         -0.026252\n",
       "25%         -0.001711\n",
       "50%          0.000112\n",
       "75%          0.002120\n",
       "max          0.031951\n",
       "tstat        2.880015\n",
       "sharpe       1.289005\n",
       "Name: EXRET, dtype: float64"
      ]
     },
     "execution_count": 55,
     "metadata": {},
     "output_type": "execute_result"
    }
   ],
   "source": [
    "pos(df1n)"
   ]
  },
  {
   "cell_type": "code",
   "execution_count": 56,
   "id": "08c30183",
   "metadata": {
    "ExecuteTime": {
     "end_time": "2022-12-03T23:08:45.003856Z",
     "start_time": "2022-12-03T23:08:42.960525Z"
    }
   },
   "outputs": [
    {
     "name": "stderr",
     "output_type": "stream",
     "text": [
      "<ipython-input-26-23b3b25baaa0>:3: SettingWithCopyWarning: \n",
      "A value is trying to be set on a copy of a slice from a DataFrame.\n",
      "Try using .loc[row_indexer,col_indexer] = value instead\n",
      "\n",
      "See the caveats in the documentation: https://pandas.pydata.org/pandas-docs/stable/user_guide/indexing.html#returning-a-view-versus-a-copy\n",
      "  df['Q1'] = df[v1].groupby('DATE').apply(q)\n",
      "<ipython-input-26-23b3b25baaa0>:4: SettingWithCopyWarning: \n",
      "A value is trying to be set on a copy of a slice from a DataFrame.\n",
      "Try using .loc[row_indexer,col_indexer] = value instead\n",
      "\n",
      "See the caveats in the documentation: https://pandas.pydata.org/pandas-docs/stable/user_guide/indexing.html#returning-a-view-versus-a-copy\n",
      "  df['Q2'] = df[v2].groupby('DATE').apply(q)\n"
     ]
    },
    {
     "data": {
      "text/plain": [
       "count     1258.000000\n",
       "mean         0.000751\n",
       "std          0.011925\n",
       "min         -0.065432\n",
       "25%         -0.006197\n",
       "50%          0.000212\n",
       "75%          0.007143\n",
       "max          0.057332\n",
       "tstat        2.235044\n",
       "sharpe       1.000336\n",
       "Name: EXRET, dtype: float64"
      ]
     },
     "execution_count": 56,
     "metadata": {},
     "output_type": "execute_result"
    }
   ],
   "source": [
    "combine(df1n,'lag_bm','LAGRET')"
   ]
  },
  {
   "cell_type": "markdown",
   "id": "53d8327d",
   "metadata": {},
   "source": [
    "### Visulization - df1, tech vs non-tech"
   ]
  },
  {
   "cell_type": "code",
   "execution_count": 57,
   "id": "22630849",
   "metadata": {
    "ExecuteTime": {
     "end_time": "2022-12-03T23:08:46.864836Z",
     "start_time": "2022-12-03T23:08:45.008567Z"
    }
   },
   "outputs": [
    {
     "name": "stderr",
     "output_type": "stream",
     "text": [
      "<ipython-input-57-1208c1471dad>:1: SettingWithCopyWarning: \n",
      "A value is trying to be set on a copy of a slice from a DataFrame.\n",
      "Try using .loc[row_indexer,col_indexer] = value instead\n",
      "\n",
      "See the caveats in the documentation: https://pandas.pydata.org/pandas-docs/stable/user_guide/indexing.html#returning-a-view-versus-a-copy\n",
      "  df1t['Q1'] = df1t['lag_bm'].groupby('DATE').apply(q)\n",
      "<ipython-input-57-1208c1471dad>:2: SettingWithCopyWarning: \n",
      "A value is trying to be set on a copy of a slice from a DataFrame.\n",
      "Try using .loc[row_indexer,col_indexer] = value instead\n",
      "\n",
      "See the caveats in the documentation: https://pandas.pydata.org/pandas-docs/stable/user_guide/indexing.html#returning-a-view-versus-a-copy\n",
      "  df1t['Q2'] = df1t['LAGRET'].groupby('DATE').apply(q)\n"
     ]
    }
   ],
   "source": [
    "df1t['Q1'] = df1t['lag_bm'].groupby('DATE').apply(q)\n",
    "df1t['Q2'] = df1t['LAGRET'].groupby('DATE').apply(q)\n",
    "\n",
    "ports = df1t.groupby(['Q1','Q2','SIG','DATE'])[['EXRET']].mean()\n",
    "\n",
    "cumret_df1t  = (1 + (ports.loc[5,1,1] - ports.loc[1,5,-1])).cumprod()"
   ]
  },
  {
   "cell_type": "code",
   "execution_count": 58,
   "id": "f635f7a9",
   "metadata": {
    "ExecuteTime": {
     "end_time": "2022-12-03T23:08:49.035560Z",
     "start_time": "2022-12-03T23:08:46.865724Z"
    }
   },
   "outputs": [
    {
     "name": "stderr",
     "output_type": "stream",
     "text": [
      "<ipython-input-58-372cf5ef2aa0>:1: SettingWithCopyWarning: \n",
      "A value is trying to be set on a copy of a slice from a DataFrame.\n",
      "Try using .loc[row_indexer,col_indexer] = value instead\n",
      "\n",
      "See the caveats in the documentation: https://pandas.pydata.org/pandas-docs/stable/user_guide/indexing.html#returning-a-view-versus-a-copy\n",
      "  df1n['Q1'] = df1n['lag_bm'].groupby('DATE').apply(q)\n",
      "<ipython-input-58-372cf5ef2aa0>:2: SettingWithCopyWarning: \n",
      "A value is trying to be set on a copy of a slice from a DataFrame.\n",
      "Try using .loc[row_indexer,col_indexer] = value instead\n",
      "\n",
      "See the caveats in the documentation: https://pandas.pydata.org/pandas-docs/stable/user_guide/indexing.html#returning-a-view-versus-a-copy\n",
      "  df1n['Q2'] = df1n['LAGRET'].groupby('DATE').apply(q)\n"
     ]
    }
   ],
   "source": [
    "df1n['Q1'] = df1n['lag_bm'].groupby('DATE').apply(q)\n",
    "df1n['Q2'] = df1n['LAGRET'].groupby('DATE').apply(q)\n",
    "\n",
    "ports = df1n.groupby(['Q1','Q2','SIG','DATE'])[['EXRET']].mean()\n",
    "\n",
    "cumret_df1n  = (1 + (ports.loc[5,1,1] - ports.loc[1,5,-1])).cumprod()"
   ]
  },
  {
   "cell_type": "code",
   "execution_count": 59,
   "id": "8588e237",
   "metadata": {
    "ExecuteTime": {
     "end_time": "2022-12-03T23:08:49.144414Z",
     "start_time": "2022-12-03T23:08:49.036362Z"
    },
    "scrolled": false
   },
   "outputs": [
    {
     "data": {
      "image/png": "[encoded data removed]",
      "text/plain": [
       "<Figure size 432x288 with 1 Axes>"
      ]
     },
     "metadata": {
      "needs_background": "light"
     },
     "output_type": "display_data"
    }
   ],
   "source": [
    "# Visual\n",
    "plt.plot(cumret_df1t, color='darkred',label='Tech')\n",
    "plt.plot(cumret_df1n, color='darkblue',label='Non-Tech')\n",
    "plt.plot(cumret_bh, color='black',label='Buy and Hold')\n",
    "plt.legend()\n",
    "plt.show()"
   ]
  },
  {
   "cell_type": "markdown",
   "id": "2d661674",
   "metadata": {},
   "source": [
    "### Small Assets: Market Capital <= 2 Billions"
   ]
  },
  {
   "cell_type": "code",
   "execution_count": 60,
   "id": "b145309d",
   "metadata": {
    "ExecuteTime": {
     "end_time": "2022-12-03T23:08:50.746002Z",
     "start_time": "2022-12-03T23:08:49.146491Z"
    }
   },
   "outputs": [],
   "source": [
    "df1s = df1.loc[(df1['MV']<=2000000) & (df1['lag_ep']>0) & (df1['lag_bm']>0)]"
   ]
  },
  {
   "cell_type": "code",
   "execution_count": 61,
   "id": "38647f56",
   "metadata": {
    "ExecuteTime": {
     "end_time": "2022-12-03T23:08:51.976837Z",
     "start_time": "2022-12-03T23:08:50.787429Z"
    }
   },
   "outputs": [
    {
     "name": "stderr",
     "output_type": "stream",
     "text": [
      "<ipython-input-23-8280a3d6abbc>:4: SettingWithCopyWarning: \n",
      "A value is trying to be set on a copy of a slice from a DataFrame.\n",
      "Try using .loc[row_indexer,col_indexer] = value instead\n",
      "\n",
      "See the caveats in the documentation: https://pandas.pydata.org/pandas-docs/stable/user_guide/indexing.html#returning-a-view-versus-a-copy\n",
      "  df['Q'] = df[var].groupby('DATE').apply(q)\n"
     ]
    },
    {
     "data": {
      "text/plain": [
       "count     1258.000000\n",
       "mean         0.000140\n",
       "std          0.004805\n",
       "min         -0.014786\n",
       "25%         -0.003078\n",
       "50%          0.000052\n",
       "75%          0.003065\n",
       "max          0.021109\n",
       "tstat        1.030491\n",
       "sharpe       0.461216\n",
       "Name: EXRET, dtype: float64"
      ]
     },
     "execution_count": 61,
     "metadata": {},
     "output_type": "execute_result"
    }
   ],
   "source": [
    "hml(df1s,'lag_bm')"
   ]
  },
  {
   "cell_type": "code",
   "execution_count": 62,
   "id": "de0880d4",
   "metadata": {
    "ExecuteTime": {
     "end_time": "2022-12-03T23:08:53.149117Z",
     "start_time": "2022-12-03T23:08:51.977699Z"
    },
    "scrolled": true
   },
   "outputs": [
    {
     "name": "stderr",
     "output_type": "stream",
     "text": [
      "<ipython-input-25-2bc97f6af1de>:4: SettingWithCopyWarning: \n",
      "A value is trying to be set on a copy of a slice from a DataFrame.\n",
      "Try using .loc[row_indexer,col_indexer] = value instead\n",
      "\n",
      "See the caveats in the documentation: https://pandas.pydata.org/pandas-docs/stable/user_guide/indexing.html#returning-a-view-versus-a-copy\n",
      "  df['Q'] = df[var].groupby('DATE').apply(q)\n"
     ]
    },
    {
     "data": {
      "text/plain": [
       "count     1258.000000\n",
       "mean         0.000328\n",
       "std          0.006741\n",
       "min         -0.042436\n",
       "25%         -0.002932\n",
       "50%          0.000171\n",
       "75%          0.003528\n",
       "max          0.036080\n",
       "tstat        1.723830\n",
       "sharpe       0.771533\n",
       "Name: EXRET, dtype: float64"
      ]
     },
     "execution_count": 62,
     "metadata": {},
     "output_type": "execute_result"
    }
   ],
   "source": [
    "lmh(df1s,'LAGRET')"
   ]
  },
  {
   "cell_type": "code",
   "execution_count": 63,
   "id": "117e7d74",
   "metadata": {
    "ExecuteTime": {
     "end_time": "2022-12-03T23:08:53.245118Z",
     "start_time": "2022-12-03T23:08:53.149870Z"
    }
   },
   "outputs": [
    {
     "data": {
      "text/plain": [
       "count     1258.000000\n",
       "mean         0.000366\n",
       "std          0.003994\n",
       "min         -0.019538\n",
       "25%         -0.001745\n",
       "50%          0.000215\n",
       "75%          0.002212\n",
       "max          0.034508\n",
       "tstat        3.250299\n",
       "sharpe       1.454733\n",
       "Name: EXRET, dtype: float64"
      ]
     },
     "execution_count": 63,
     "metadata": {},
     "output_type": "execute_result"
    }
   ],
   "source": [
    "pos(df1s)"
   ]
  },
  {
   "cell_type": "code",
   "execution_count": 64,
   "id": "752735fe",
   "metadata": {
    "ExecuteTime": {
     "end_time": "2022-12-03T23:08:55.033483Z",
     "start_time": "2022-12-03T23:08:53.246893Z"
    },
    "scrolled": false
   },
   "outputs": [
    {
     "name": "stderr",
     "output_type": "stream",
     "text": [
      "<ipython-input-26-23b3b25baaa0>:3: SettingWithCopyWarning: \n",
      "A value is trying to be set on a copy of a slice from a DataFrame.\n",
      "Try using .loc[row_indexer,col_indexer] = value instead\n",
      "\n",
      "See the caveats in the documentation: https://pandas.pydata.org/pandas-docs/stable/user_guide/indexing.html#returning-a-view-versus-a-copy\n",
      "  df['Q1'] = df[v1].groupby('DATE').apply(q)\n",
      "<ipython-input-26-23b3b25baaa0>:4: SettingWithCopyWarning: \n",
      "A value is trying to be set on a copy of a slice from a DataFrame.\n",
      "Try using .loc[row_indexer,col_indexer] = value instead\n",
      "\n",
      "See the caveats in the documentation: https://pandas.pydata.org/pandas-docs/stable/user_guide/indexing.html#returning-a-view-versus-a-copy\n",
      "  df['Q2'] = df[v2].groupby('DATE').apply(q)\n"
     ]
    },
    {
     "data": {
      "text/plain": [
       "count     1257.000000\n",
       "mean         0.000612\n",
       "std          0.012827\n",
       "min         -0.051974\n",
       "25%         -0.006580\n",
       "50%          0.000417\n",
       "75%          0.007657\n",
       "max          0.065350\n",
       "tstat        1.691797\n",
       "sharpe       0.757497\n",
       "Name: EXRET, dtype: float64"
      ]
     },
     "execution_count": 64,
     "metadata": {},
     "output_type": "execute_result"
    }
   ],
   "source": [
    "combine(df1s,'lag_bm','LAGRET')"
   ]
  },
  {
   "cell_type": "code",
   "execution_count": null,
   "id": "17932fe1",
   "metadata": {},
   "outputs": [],
   "source": []
  },
  {
   "cell_type": "markdown",
   "id": "26701143",
   "metadata": {},
   "source": [
    "### Large Assets: Market Capital >= 10 Billions"
   ]
  },
  {
   "cell_type": "code",
   "execution_count": 65,
   "id": "d5ebefda",
   "metadata": {
    "ExecuteTime": {
     "end_time": "2022-12-03T23:08:55.877871Z",
     "start_time": "2022-12-03T23:08:55.034407Z"
    }
   },
   "outputs": [],
   "source": [
    "df1l = df1.loc[(df1['MV']>=10000000) & (df1['lag_ep']>0) & (df1['lag_bm']>0)]"
   ]
  },
  {
   "cell_type": "code",
   "execution_count": 66,
   "id": "2b24d58e",
   "metadata": {
    "ExecuteTime": {
     "end_time": "2022-12-03T23:08:56.464662Z",
     "start_time": "2022-12-03T23:08:55.881652Z"
    }
   },
   "outputs": [
    {
     "name": "stderr",
     "output_type": "stream",
     "text": [
      "<ipython-input-23-8280a3d6abbc>:4: SettingWithCopyWarning: \n",
      "A value is trying to be set on a copy of a slice from a DataFrame.\n",
      "Try using .loc[row_indexer,col_indexer] = value instead\n",
      "\n",
      "See the caveats in the documentation: https://pandas.pydata.org/pandas-docs/stable/user_guide/indexing.html#returning-a-view-versus-a-copy\n",
      "  df['Q'] = df[var].groupby('DATE').apply(q)\n"
     ]
    },
    {
     "data": {
      "text/plain": [
       "count     1258.000000\n",
       "mean        -0.000124\n",
       "std          0.006628\n",
       "min         -0.026805\n",
       "25%         -0.004088\n",
       "50%         -0.000296\n",
       "75%          0.003588\n",
       "max          0.028931\n",
       "tstat       -0.662439\n",
       "sharpe      -0.296487\n",
       "Name: EXRET, dtype: float64"
      ]
     },
     "execution_count": 66,
     "metadata": {},
     "output_type": "execute_result"
    }
   ],
   "source": [
    "hml(df1l,'lag_bm')"
   ]
  },
  {
   "cell_type": "code",
   "execution_count": 67,
   "id": "480f4eb0",
   "metadata": {
    "ExecuteTime": {
     "end_time": "2022-12-03T23:08:57.269275Z",
     "start_time": "2022-12-03T23:08:56.468821Z"
    },
    "scrolled": true
   },
   "outputs": [
    {
     "name": "stderr",
     "output_type": "stream",
     "text": [
      "<ipython-input-25-2bc97f6af1de>:4: SettingWithCopyWarning: \n",
      "A value is trying to be set on a copy of a slice from a DataFrame.\n",
      "Try using .loc[row_indexer,col_indexer] = value instead\n",
      "\n",
      "See the caveats in the documentation: https://pandas.pydata.org/pandas-docs/stable/user_guide/indexing.html#returning-a-view-versus-a-copy\n",
      "  df['Q'] = df[var].groupby('DATE').apply(q)\n"
     ]
    },
    {
     "data": {
      "text/plain": [
       "count     1258.000000\n",
       "mean         0.000348\n",
       "std          0.006758\n",
       "min         -0.039696\n",
       "25%         -0.003211\n",
       "50%          0.000508\n",
       "75%          0.003907\n",
       "max          0.037890\n",
       "tstat        1.826293\n",
       "sharpe       0.817392\n",
       "Name: EXRET, dtype: float64"
      ]
     },
     "execution_count": 67,
     "metadata": {},
     "output_type": "execute_result"
    }
   ],
   "source": [
    "lmh(df1l,'LAGRET')"
   ]
  },
  {
   "cell_type": "code",
   "execution_count": 68,
   "id": "761c153b",
   "metadata": {
    "ExecuteTime": {
     "end_time": "2022-12-03T23:08:57.289015Z",
     "start_time": "2022-12-03T23:08:57.270583Z"
    }
   },
   "outputs": [
    {
     "data": {
      "text/plain": [
       "count     1258.000000\n",
       "mean         0.000132\n",
       "std          0.005011\n",
       "min         -0.035429\n",
       "25%         -0.002453\n",
       "50%          0.000100\n",
       "75%          0.002624\n",
       "max          0.027943\n",
       "tstat        0.933529\n",
       "sharpe       0.417819\n",
       "Name: EXRET, dtype: float64"
      ]
     },
     "execution_count": 68,
     "metadata": {},
     "output_type": "execute_result"
    }
   ],
   "source": [
    "pos(df1l)"
   ]
  },
  {
   "cell_type": "code",
   "execution_count": 69,
   "id": "6f7a7a5f",
   "metadata": {
    "ExecuteTime": {
     "end_time": "2022-12-03T23:08:58.489877Z",
     "start_time": "2022-12-03T23:08:57.289887Z"
    },
    "scrolled": false
   },
   "outputs": [
    {
     "name": "stderr",
     "output_type": "stream",
     "text": [
      "<ipython-input-26-23b3b25baaa0>:3: SettingWithCopyWarning: \n",
      "A value is trying to be set on a copy of a slice from a DataFrame.\n",
      "Try using .loc[row_indexer,col_indexer] = value instead\n",
      "\n",
      "See the caveats in the documentation: https://pandas.pydata.org/pandas-docs/stable/user_guide/indexing.html#returning-a-view-versus-a-copy\n",
      "  df['Q1'] = df[v1].groupby('DATE').apply(q)\n",
      "<ipython-input-26-23b3b25baaa0>:4: SettingWithCopyWarning: \n",
      "A value is trying to be set on a copy of a slice from a DataFrame.\n",
      "Try using .loc[row_indexer,col_indexer] = value instead\n",
      "\n",
      "See the caveats in the documentation: https://pandas.pydata.org/pandas-docs/stable/user_guide/indexing.html#returning-a-view-versus-a-copy\n",
      "  df['Q2'] = df[v2].groupby('DATE').apply(q)\n"
     ]
    },
    {
     "data": {
      "text/plain": [
       "count     1011.000000\n",
       "mean        -0.000537\n",
       "std          0.014634\n",
       "min         -0.105738\n",
       "25%         -0.009120\n",
       "50%         -0.000865\n",
       "75%          0.007924\n",
       "max          0.067297\n",
       "tstat       -1.167721\n",
       "sharpe      -0.582993\n",
       "Name: EXRET, dtype: float64"
      ]
     },
     "execution_count": 69,
     "metadata": {},
     "output_type": "execute_result"
    }
   ],
   "source": [
    "combine(df1l,'lag_bm','LAGRET')"
   ]
  },
  {
   "cell_type": "markdown",
   "id": "c7f7f3be",
   "metadata": {},
   "source": [
    "### Visulization - df1, sa vs la"
   ]
  },
  {
   "cell_type": "code",
   "execution_count": 70,
   "id": "cd55fe38",
   "metadata": {
    "ExecuteTime": {
     "end_time": "2022-12-03T23:09:00.323132Z",
     "start_time": "2022-12-03T23:08:58.490733Z"
    }
   },
   "outputs": [
    {
     "name": "stderr",
     "output_type": "stream",
     "text": [
      "<ipython-input-70-f1a83ea2d3db>:1: SettingWithCopyWarning: \n",
      "A value is trying to be set on a copy of a slice from a DataFrame.\n",
      "Try using .loc[row_indexer,col_indexer] = value instead\n",
      "\n",
      "See the caveats in the documentation: https://pandas.pydata.org/pandas-docs/stable/user_guide/indexing.html#returning-a-view-versus-a-copy\n",
      "  df1s['Q1'] = df1s['lag_bm'].groupby('DATE').apply(q)\n",
      "<ipython-input-70-f1a83ea2d3db>:2: SettingWithCopyWarning: \n",
      "A value is trying to be set on a copy of a slice from a DataFrame.\n",
      "Try using .loc[row_indexer,col_indexer] = value instead\n",
      "\n",
      "See the caveats in the documentation: https://pandas.pydata.org/pandas-docs/stable/user_guide/indexing.html#returning-a-view-versus-a-copy\n",
      "  df1s['Q2'] = df1s['LAGRET'].groupby('DATE').apply(q)\n"
     ]
    }
   ],
   "source": [
    "df1s['Q1'] = df1s['lag_bm'].groupby('DATE').apply(q)\n",
    "df1s['Q2'] = df1s['LAGRET'].groupby('DATE').apply(q)\n",
    "\n",
    "ports = df1s.groupby(['Q1','Q2','SIG','DATE'])[['EXRET']].mean()\n",
    "\n",
    "cumret_df1s  = (1 + (ports.loc[5,1,1] - ports.loc[1,5,-1])).cumprod()"
   ]
  },
  {
   "cell_type": "code",
   "execution_count": 71,
   "id": "427258e1",
   "metadata": {
    "ExecuteTime": {
     "end_time": "2022-12-03T23:09:01.439452Z",
     "start_time": "2022-12-03T23:09:00.323976Z"
    }
   },
   "outputs": [
    {
     "name": "stderr",
     "output_type": "stream",
     "text": [
      "<ipython-input-71-1bc7f2289f33>:1: SettingWithCopyWarning: \n",
      "A value is trying to be set on a copy of a slice from a DataFrame.\n",
      "Try using .loc[row_indexer,col_indexer] = value instead\n",
      "\n",
      "See the caveats in the documentation: https://pandas.pydata.org/pandas-docs/stable/user_guide/indexing.html#returning-a-view-versus-a-copy\n",
      "  df1l['Q1'] = df1l['lag_bm'].groupby('DATE').apply(q)\n",
      "<ipython-input-71-1bc7f2289f33>:2: SettingWithCopyWarning: \n",
      "A value is trying to be set on a copy of a slice from a DataFrame.\n",
      "Try using .loc[row_indexer,col_indexer] = value instead\n",
      "\n",
      "See the caveats in the documentation: https://pandas.pydata.org/pandas-docs/stable/user_guide/indexing.html#returning-a-view-versus-a-copy\n",
      "  df1l['Q2'] = df1l['LAGRET'].groupby('DATE').apply(q)\n"
     ]
    }
   ],
   "source": [
    "df1l['Q1'] = df1l['lag_bm'].groupby('DATE').apply(q)\n",
    "df1l['Q2'] = df1l['LAGRET'].groupby('DATE').apply(q)\n",
    "\n",
    "ports = df1l.groupby(['Q1','Q2','SIG','DATE'])[['EXRET']].mean()\n",
    "\n",
    "cumret_df1l  = (1 + (ports.loc[5,1,1] - ports.loc[1,5,-1])).cumprod()"
   ]
  },
  {
   "cell_type": "code",
   "execution_count": 72,
   "id": "5ece1fdb",
   "metadata": {
    "ExecuteTime": {
     "end_time": "2022-12-03T23:09:01.517937Z",
     "start_time": "2022-12-03T23:09:01.440316Z"
    },
    "scrolled": false
   },
   "outputs": [
    {
     "data": {
      "image/png": "[encoded data removed]",
      "text/plain": [
       "<Figure size 432x288 with 1 Axes>"
      ]
     },
     "metadata": {
      "needs_background": "light"
     },
     "output_type": "display_data"
    }
   ],
   "source": [
    "# Visual\n",
    "plt.plot(cumret_df1s, color='darkred',label='Small Asset')\n",
    "plt.plot(cumret_df1l, color='darkblue',label='Large Asset')\n",
    "plt.plot(cumret_bh, color='black',label='Buy and Hold')\n",
    "plt.legend()\n",
    "plt.show()"
   ]
  },
  {
   "cell_type": "markdown",
   "id": "75d82f07",
   "metadata": {},
   "source": [
    "## df2 2015-2019"
   ]
  },
  {
   "cell_type": "code",
   "execution_count": 73,
   "id": "7f9a156f",
   "metadata": {
    "ExecuteTime": {
     "end_time": "2022-12-03T23:09:09.656138Z",
     "start_time": "2022-12-03T23:09:01.586492Z"
    }
   },
   "outputs": [],
   "source": [
    "df2 = df2.reset_index()\n",
    "df2 = df2.set_index(['DATE','PERMNO']).sort_index()\n",
    "df2['RQ'] = df2['lag_SD'].groupby('DATE').apply(q)"
   ]
  },
  {
   "cell_type": "code",
   "execution_count": 74,
   "id": "98f16ac4",
   "metadata": {
    "ExecuteTime": {
     "end_time": "2022-12-03T23:09:11.908724Z",
     "start_time": "2022-12-03T23:09:09.657054Z"
    }
   },
   "outputs": [],
   "source": [
    "df2lr = df2.loc[(df2['RQ']<=2) & (df2['lag_ep']>0) & (df2['lag_bm']>0)]"
   ]
  },
  {
   "cell_type": "code",
   "execution_count": 75,
   "id": "96913f70",
   "metadata": {
    "ExecuteTime": {
     "end_time": "2022-12-03T23:09:12.679617Z",
     "start_time": "2022-12-03T23:09:11.913847Z"
    },
    "scrolled": false
   },
   "outputs": [
    {
     "name": "stderr",
     "output_type": "stream",
     "text": [
      "<ipython-input-23-8280a3d6abbc>:4: SettingWithCopyWarning: \n",
      "A value is trying to be set on a copy of a slice from a DataFrame.\n",
      "Try using .loc[row_indexer,col_indexer] = value instead\n",
      "\n",
      "See the caveats in the documentation: https://pandas.pydata.org/pandas-docs/stable/user_guide/indexing.html#returning-a-view-versus-a-copy\n",
      "  df['Q'] = df[var].groupby('DATE').apply(q)\n"
     ]
    },
    {
     "data": {
      "text/plain": [
       "count     1258.000000\n",
       "mean         0.000057\n",
       "std          0.005039\n",
       "min         -0.020991\n",
       "25%         -0.002925\n",
       "50%         -0.000113\n",
       "75%          0.002957\n",
       "max          0.031729\n",
       "tstat        0.400303\n",
       "sharpe       0.179163\n",
       "Name: EXRET, dtype: float64"
      ]
     },
     "execution_count": 75,
     "metadata": {},
     "output_type": "execute_result"
    }
   ],
   "source": [
    "hml(df2lr,'lag_bm')"
   ]
  },
  {
   "cell_type": "code",
   "execution_count": 76,
   "id": "fd3782e7",
   "metadata": {
    "ExecuteTime": {
     "end_time": "2022-12-03T23:09:13.472788Z",
     "start_time": "2022-12-03T23:09:12.680643Z"
    },
    "scrolled": true
   },
   "outputs": [
    {
     "name": "stderr",
     "output_type": "stream",
     "text": [
      "<ipython-input-25-2bc97f6af1de>:4: SettingWithCopyWarning: \n",
      "A value is trying to be set on a copy of a slice from a DataFrame.\n",
      "Try using .loc[row_indexer,col_indexer] = value instead\n",
      "\n",
      "See the caveats in the documentation: https://pandas.pydata.org/pandas-docs/stable/user_guide/indexing.html#returning-a-view-versus-a-copy\n",
      "  df['Q'] = df[var].groupby('DATE').apply(q)\n"
     ]
    },
    {
     "data": {
      "text/plain": [
       "count     1258.000000\n",
       "mean         0.000165\n",
       "std          0.005024\n",
       "min         -0.023473\n",
       "25%         -0.002504\n",
       "50%          0.000182\n",
       "75%          0.002852\n",
       "max          0.022995\n",
       "tstat        1.166747\n",
       "sharpe       0.522200\n",
       "Name: EXRET, dtype: float64"
      ]
     },
     "execution_count": 76,
     "metadata": {},
     "output_type": "execute_result"
    }
   ],
   "source": [
    "lmh(df2lr,'LAGRET')"
   ]
  },
  {
   "cell_type": "code",
   "execution_count": 77,
   "id": "cea4f97f",
   "metadata": {
    "ExecuteTime": {
     "end_time": "2022-12-03T23:09:13.518628Z",
     "start_time": "2022-12-03T23:09:13.473510Z"
    }
   },
   "outputs": [
    {
     "data": {
      "text/plain": [
       "count     1258.000000\n",
       "mean         0.000189\n",
       "std          0.003569\n",
       "min         -0.015736\n",
       "25%         -0.001655\n",
       "50%          0.000131\n",
       "75%          0.001938\n",
       "max          0.020145\n",
       "tstat        1.876715\n",
       "sharpe       0.839960\n",
       "Name: EXRET, dtype: float64"
      ]
     },
     "execution_count": 77,
     "metadata": {},
     "output_type": "execute_result"
    }
   ],
   "source": [
    "pos(df2lr)"
   ]
  },
  {
   "cell_type": "code",
   "execution_count": 78,
   "id": "b9bc8448",
   "metadata": {
    "ExecuteTime": {
     "end_time": "2022-12-03T23:09:15.040359Z",
     "start_time": "2022-12-03T23:09:13.520121Z"
    },
    "scrolled": false
   },
   "outputs": [
    {
     "name": "stderr",
     "output_type": "stream",
     "text": [
      "<ipython-input-26-23b3b25baaa0>:3: SettingWithCopyWarning: \n",
      "A value is trying to be set on a copy of a slice from a DataFrame.\n",
      "Try using .loc[row_indexer,col_indexer] = value instead\n",
      "\n",
      "See the caveats in the documentation: https://pandas.pydata.org/pandas-docs/stable/user_guide/indexing.html#returning-a-view-versus-a-copy\n",
      "  df['Q1'] = df[v1].groupby('DATE').apply(q)\n",
      "<ipython-input-26-23b3b25baaa0>:4: SettingWithCopyWarning: \n",
      "A value is trying to be set on a copy of a slice from a DataFrame.\n",
      "Try using .loc[row_indexer,col_indexer] = value instead\n",
      "\n",
      "See the caveats in the documentation: https://pandas.pydata.org/pandas-docs/stable/user_guide/indexing.html#returning-a-view-versus-a-copy\n",
      "  df['Q2'] = df[v2].groupby('DATE').apply(q)\n"
     ]
    },
    {
     "data": {
      "text/plain": [
       "count     1229.000000\n",
       "mean         0.000528\n",
       "std          0.009756\n",
       "min         -0.036010\n",
       "25%         -0.005111\n",
       "50%          0.000045\n",
       "75%          0.005859\n",
       "max          0.054801\n",
       "tstat        1.895574\n",
       "sharpe       0.858351\n",
       "Name: EXRET, dtype: float64"
      ]
     },
     "execution_count": 78,
     "metadata": {},
     "output_type": "execute_result"
    }
   ],
   "source": [
    "combine(df2lr,'lag_bm','LAGRET')"
   ]
  },
  {
   "cell_type": "code",
   "execution_count": null,
   "id": "a47e7a47",
   "metadata": {},
   "outputs": [],
   "source": []
  },
  {
   "cell_type": "markdown",
   "id": "0b830abf",
   "metadata": {},
   "source": [
    "### High Risk"
   ]
  },
  {
   "cell_type": "code",
   "execution_count": 79,
   "id": "75ebe6aa",
   "metadata": {
    "ExecuteTime": {
     "end_time": "2022-12-03T23:09:15.373500Z",
     "start_time": "2022-12-03T23:09:15.041498Z"
    }
   },
   "outputs": [],
   "source": [
    "df2hr = df2.loc[(df2['RQ']>=4) & (df2['lag_ep']>0) & (df2['lag_bm']>0)]"
   ]
  },
  {
   "cell_type": "code",
   "execution_count": 80,
   "id": "72ec89ed",
   "metadata": {
    "ExecuteTime": {
     "end_time": "2022-12-03T23:09:15.989544Z",
     "start_time": "2022-12-03T23:09:15.374374Z"
    },
    "scrolled": false
   },
   "outputs": [
    {
     "name": "stderr",
     "output_type": "stream",
     "text": [
      "<ipython-input-23-8280a3d6abbc>:4: SettingWithCopyWarning: \n",
      "A value is trying to be set on a copy of a slice from a DataFrame.\n",
      "Try using .loc[row_indexer,col_indexer] = value instead\n",
      "\n",
      "See the caveats in the documentation: https://pandas.pydata.org/pandas-docs/stable/user_guide/indexing.html#returning-a-view-versus-a-copy\n",
      "  df['Q'] = df[var].groupby('DATE').apply(q)\n"
     ]
    },
    {
     "data": {
      "text/plain": [
       "count     1258.000000\n",
       "mean        -0.000101\n",
       "std          0.014566\n",
       "min         -0.068602\n",
       "25%         -0.008371\n",
       "50%         -0.001185\n",
       "75%          0.006741\n",
       "max          0.141029\n",
       "tstat       -0.245161\n",
       "sharpe      -0.109727\n",
       "Name: EXRET, dtype: float64"
      ]
     },
     "execution_count": 80,
     "metadata": {},
     "output_type": "execute_result"
    }
   ],
   "source": [
    "hml(df2hr,'lag_bm')"
   ]
  },
  {
   "cell_type": "code",
   "execution_count": 81,
   "id": "fdb053e4",
   "metadata": {
    "ExecuteTime": {
     "end_time": "2022-12-03T23:09:16.603415Z",
     "start_time": "2022-12-03T23:09:16.003001Z"
    },
    "scrolled": true
   },
   "outputs": [
    {
     "name": "stderr",
     "output_type": "stream",
     "text": [
      "<ipython-input-25-2bc97f6af1de>:4: SettingWithCopyWarning: \n",
      "A value is trying to be set on a copy of a slice from a DataFrame.\n",
      "Try using .loc[row_indexer,col_indexer] = value instead\n",
      "\n",
      "See the caveats in the documentation: https://pandas.pydata.org/pandas-docs/stable/user_guide/indexing.html#returning-a-view-versus-a-copy\n",
      "  df['Q'] = df[var].groupby('DATE').apply(q)\n"
     ]
    },
    {
     "data": {
      "text/plain": [
       "count     1258.000000\n",
       "mean         0.000770\n",
       "std          0.012571\n",
       "min         -0.070314\n",
       "25%         -0.005463\n",
       "50%          0.000840\n",
       "75%          0.007024\n",
       "max          0.064969\n",
       "tstat        2.172206\n",
       "sharpe       0.972212\n",
       "Name: EXRET, dtype: float64"
      ]
     },
     "execution_count": 81,
     "metadata": {},
     "output_type": "execute_result"
    }
   ],
   "source": [
    "lmh(df2hr,'LAGRET')"
   ]
  },
  {
   "cell_type": "code",
   "execution_count": 82,
   "id": "f1277bfa",
   "metadata": {
    "ExecuteTime": {
     "end_time": "2022-12-03T23:09:16.624289Z",
     "start_time": "2022-12-03T23:09:16.604220Z"
    }
   },
   "outputs": [
    {
     "data": {
      "text/plain": [
       "count     1258.000000\n",
       "mean         0.000361\n",
       "std          0.008165\n",
       "min         -0.102100\n",
       "25%         -0.003761\n",
       "50%          0.000205\n",
       "75%          0.004533\n",
       "max          0.033459\n",
       "tstat        1.566095\n",
       "sharpe       0.700936\n",
       "Name: EXRET, dtype: float64"
      ]
     },
     "execution_count": 82,
     "metadata": {},
     "output_type": "execute_result"
    }
   ],
   "source": [
    "pos(df2hr)"
   ]
  },
  {
   "cell_type": "code",
   "execution_count": 83,
   "id": "f52d7d62",
   "metadata": {
    "ExecuteTime": {
     "end_time": "2022-12-03T23:09:17.867010Z",
     "start_time": "2022-12-03T23:09:16.625229Z"
    },
    "scrolled": false
   },
   "outputs": [
    {
     "name": "stderr",
     "output_type": "stream",
     "text": [
      "<ipython-input-26-23b3b25baaa0>:3: SettingWithCopyWarning: \n",
      "A value is trying to be set on a copy of a slice from a DataFrame.\n",
      "Try using .loc[row_indexer,col_indexer] = value instead\n",
      "\n",
      "See the caveats in the documentation: https://pandas.pydata.org/pandas-docs/stable/user_guide/indexing.html#returning-a-view-versus-a-copy\n",
      "  df['Q1'] = df[v1].groupby('DATE').apply(q)\n",
      "<ipython-input-26-23b3b25baaa0>:4: SettingWithCopyWarning: \n",
      "A value is trying to be set on a copy of a slice from a DataFrame.\n",
      "Try using .loc[row_indexer,col_indexer] = value instead\n",
      "\n",
      "See the caveats in the documentation: https://pandas.pydata.org/pandas-docs/stable/user_guide/indexing.html#returning-a-view-versus-a-copy\n",
      "  df['Q2'] = df[v2].groupby('DATE').apply(q)\n"
     ]
    },
    {
     "data": {
      "text/plain": [
       "count     1184.000000\n",
       "mean         0.001507\n",
       "std          0.034466\n",
       "min         -0.222166\n",
       "25%         -0.014269\n",
       "50%         -0.000527\n",
       "75%          0.015469\n",
       "max          0.495367\n",
       "tstat        1.504382\n",
       "sharpe       0.694037\n",
       "Name: EXRET, dtype: float64"
      ]
     },
     "execution_count": 83,
     "metadata": {},
     "output_type": "execute_result"
    }
   ],
   "source": [
    "combine(df2hr,'lag_bm','LAGRET')"
   ]
  },
  {
   "cell_type": "markdown",
   "id": "55e86cfa",
   "metadata": {},
   "source": [
    "### Visulization - df2, lr vs hr"
   ]
  },
  {
   "cell_type": "code",
   "execution_count": 84,
   "id": "d6ea5abe",
   "metadata": {
    "ExecuteTime": {
     "end_time": "2022-12-03T23:09:19.131932Z",
     "start_time": "2022-12-03T23:09:17.867848Z"
    }
   },
   "outputs": [
    {
     "name": "stderr",
     "output_type": "stream",
     "text": [
      "<ipython-input-84-de3c8205c602>:1: SettingWithCopyWarning: \n",
      "A value is trying to be set on a copy of a slice from a DataFrame.\n",
      "Try using .loc[row_indexer,col_indexer] = value instead\n",
      "\n",
      "See the caveats in the documentation: https://pandas.pydata.org/pandas-docs/stable/user_guide/indexing.html#returning-a-view-versus-a-copy\n",
      "  df2hr['Q1'] = df2hr['lag_bm'].groupby('DATE').apply(q)\n",
      "<ipython-input-84-de3c8205c602>:2: SettingWithCopyWarning: \n",
      "A value is trying to be set on a copy of a slice from a DataFrame.\n",
      "Try using .loc[row_indexer,col_indexer] = value instead\n",
      "\n",
      "See the caveats in the documentation: https://pandas.pydata.org/pandas-docs/stable/user_guide/indexing.html#returning-a-view-versus-a-copy\n",
      "  df2hr['Q2'] = df2hr['LAGRET'].groupby('DATE').apply(q)\n"
     ]
    }
   ],
   "source": [
    "df2hr['Q1'] = df2hr['lag_bm'].groupby('DATE').apply(q)\n",
    "df2hr['Q2'] = df2hr['LAGRET'].groupby('DATE').apply(q)\n",
    "\n",
    "ports = df2hr.groupby(['Q1','Q2','SIG','DATE'])[['EXRET']].mean()\n",
    "\n",
    "cumret_df2hr  = (1 + (ports.loc[5,1,1] - ports.loc[1,5,-1])).cumprod()"
   ]
  },
  {
   "cell_type": "code",
   "execution_count": 85,
   "id": "d4b70594",
   "metadata": {
    "ExecuteTime": {
     "end_time": "2022-12-03T23:09:20.671371Z",
     "start_time": "2022-12-03T23:09:19.133274Z"
    }
   },
   "outputs": [
    {
     "name": "stderr",
     "output_type": "stream",
     "text": [
      "<ipython-input-85-c03543da1c29>:1: SettingWithCopyWarning: \n",
      "A value is trying to be set on a copy of a slice from a DataFrame.\n",
      "Try using .loc[row_indexer,col_indexer] = value instead\n",
      "\n",
      "See the caveats in the documentation: https://pandas.pydata.org/pandas-docs/stable/user_guide/indexing.html#returning-a-view-versus-a-copy\n",
      "  df2lr['Q1'] = df2lr['lag_bm'].groupby('DATE').apply(q)\n",
      "<ipython-input-85-c03543da1c29>:2: SettingWithCopyWarning: \n",
      "A value is trying to be set on a copy of a slice from a DataFrame.\n",
      "Try using .loc[row_indexer,col_indexer] = value instead\n",
      "\n",
      "See the caveats in the documentation: https://pandas.pydata.org/pandas-docs/stable/user_guide/indexing.html#returning-a-view-versus-a-copy\n",
      "  df2lr['Q2'] = df2lr['LAGRET'].groupby('DATE').apply(q)\n"
     ]
    }
   ],
   "source": [
    "df2lr['Q1'] = df2lr['lag_bm'].groupby('DATE').apply(q)\n",
    "df2lr['Q2'] = df2lr['LAGRET'].groupby('DATE').apply(q)\n",
    "\n",
    "ports = df2lr.groupby(['Q1','Q2','SIG','DATE'])[['EXRET']].mean()\n",
    "\n",
    "cumret_df2lr  = (1 + (ports.loc[5,1,1] - ports.loc[1,5,-1])).cumprod()"
   ]
  },
  {
   "cell_type": "code",
   "execution_count": 86,
   "id": "86155c97",
   "metadata": {
    "ExecuteTime": {
     "end_time": "2022-12-03T23:09:20.733986Z",
     "start_time": "2022-12-03T23:09:20.672133Z"
    }
   },
   "outputs": [],
   "source": [
    "bh2 = df2.groupby(['DATE'])[['EXRET']].mean()\n",
    "cumret_bh2 = (1 + bh2[['EXRET']]).cumprod()"
   ]
  },
  {
   "cell_type": "code",
   "execution_count": 87,
   "id": "9d90a07a",
   "metadata": {
    "ExecuteTime": {
     "end_time": "2022-12-03T23:09:20.801417Z",
     "start_time": "2022-12-03T23:09:20.735053Z"
    },
    "scrolled": false
   },
   "outputs": [
    {
     "data": {
      "image/png": "[encoded data removed]",
      "text/plain": [
       "<Figure size 432x288 with 1 Axes>"
      ]
     },
     "metadata": {
      "needs_background": "light"
     },
     "output_type": "display_data"
    }
   ],
   "source": [
    "# Visual\n",
    "plt.plot(cumret_df2hr, color='darkred',label='High Risk')\n",
    "plt.plot(cumret_df2lr, color='darkblue',label='Low Risk')\n",
    "plt.plot(cumret_bh2, color='black',label='Buy and Hold')\n",
    "plt.legend()\n",
    "plt.show()"
   ]
  },
  {
   "cell_type": "markdown",
   "id": "505fbab8",
   "metadata": {},
   "source": [
    "### Technology Companies"
   ]
  },
  {
   "cell_type": "code",
   "execution_count": 88,
   "id": "64890926",
   "metadata": {
    "ExecuteTime": {
     "end_time": "2022-12-03T23:09:21.598543Z",
     "start_time": "2022-12-03T23:09:20.874335Z"
    }
   },
   "outputs": [],
   "source": [
    "df2t = df2.loc[(df2.SICCD2.isin(tech_1)|df2.SICCD.isin(tech_2)) & (df2['lag_ep']>0) & (df2['lag_bm']>0)]"
   ]
  },
  {
   "cell_type": "code",
   "execution_count": 89,
   "id": "bafa0e8b",
   "metadata": {
    "ExecuteTime": {
     "end_time": "2022-12-03T23:09:22.199796Z",
     "start_time": "2022-12-03T23:09:21.599731Z"
    }
   },
   "outputs": [
    {
     "name": "stderr",
     "output_type": "stream",
     "text": [
      "<ipython-input-23-8280a3d6abbc>:4: SettingWithCopyWarning: \n",
      "A value is trying to be set on a copy of a slice from a DataFrame.\n",
      "Try using .loc[row_indexer,col_indexer] = value instead\n",
      "\n",
      "See the caveats in the documentation: https://pandas.pydata.org/pandas-docs/stable/user_guide/indexing.html#returning-a-view-versus-a-copy\n",
      "  df['Q'] = df[var].groupby('DATE').apply(q)\n"
     ]
    },
    {
     "data": {
      "text/plain": [
       "count     1258.000000\n",
       "mean        -0.000133\n",
       "std          0.008309\n",
       "min         -0.040398\n",
       "25%         -0.005076\n",
       "50%         -0.000396\n",
       "75%          0.004363\n",
       "max          0.051448\n",
       "tstat       -0.567472\n",
       "sharpe      -0.253983\n",
       "Name: EXRET, dtype: float64"
      ]
     },
     "execution_count": 89,
     "metadata": {},
     "output_type": "execute_result"
    }
   ],
   "source": [
    "hml(df2t,'lag_bm')"
   ]
  },
  {
   "cell_type": "code",
   "execution_count": 90,
   "id": "7e6d5764",
   "metadata": {
    "ExecuteTime": {
     "end_time": "2022-12-03T23:09:22.821837Z",
     "start_time": "2022-12-03T23:09:22.200740Z"
    },
    "scrolled": true
   },
   "outputs": [
    {
     "name": "stderr",
     "output_type": "stream",
     "text": [
      "<ipython-input-25-2bc97f6af1de>:4: SettingWithCopyWarning: \n",
      "A value is trying to be set on a copy of a slice from a DataFrame.\n",
      "Try using .loc[row_indexer,col_indexer] = value instead\n",
      "\n",
      "See the caveats in the documentation: https://pandas.pydata.org/pandas-docs/stable/user_guide/indexing.html#returning-a-view-versus-a-copy\n",
      "  df['Q'] = df[var].groupby('DATE').apply(q)\n"
     ]
    },
    {
     "data": {
      "text/plain": [
       "count     1258.000000\n",
       "mean         0.000472\n",
       "std          0.007490\n",
       "min         -0.032361\n",
       "25%         -0.003841\n",
       "50%          0.000035\n",
       "75%          0.004729\n",
       "max          0.034304\n",
       "tstat        2.236405\n",
       "sharpe       1.000945\n",
       "Name: EXRET, dtype: float64"
      ]
     },
     "execution_count": 90,
     "metadata": {},
     "output_type": "execute_result"
    }
   ],
   "source": [
    "lmh(df2t,'LAGRET')"
   ]
  },
  {
   "cell_type": "code",
   "execution_count": 91,
   "id": "8126870c",
   "metadata": {
    "ExecuteTime": {
     "end_time": "2022-12-03T23:09:22.846931Z",
     "start_time": "2022-12-03T23:09:22.822758Z"
    }
   },
   "outputs": [
    {
     "data": {
      "text/plain": [
       "count     1258.000000\n",
       "mean         0.000156\n",
       "std          0.004983\n",
       "min         -0.018028\n",
       "25%         -0.002604\n",
       "50%          0.000091\n",
       "75%          0.002854\n",
       "max          0.038250\n",
       "tstat        1.107665\n",
       "sharpe       0.495756\n",
       "Name: EXRET, dtype: float64"
      ]
     },
     "execution_count": 91,
     "metadata": {},
     "output_type": "execute_result"
    }
   ],
   "source": [
    "pos(df2t)"
   ]
  },
  {
   "cell_type": "code",
   "execution_count": 92,
   "id": "5dc53ef9",
   "metadata": {
    "ExecuteTime": {
     "end_time": "2022-12-03T23:09:24.055365Z",
     "start_time": "2022-12-03T23:09:22.848131Z"
    },
    "scrolled": false
   },
   "outputs": [
    {
     "name": "stderr",
     "output_type": "stream",
     "text": [
      "<ipython-input-26-23b3b25baaa0>:3: SettingWithCopyWarning: \n",
      "A value is trying to be set on a copy of a slice from a DataFrame.\n",
      "Try using .loc[row_indexer,col_indexer] = value instead\n",
      "\n",
      "See the caveats in the documentation: https://pandas.pydata.org/pandas-docs/stable/user_guide/indexing.html#returning-a-view-versus-a-copy\n",
      "  df['Q1'] = df[v1].groupby('DATE').apply(q)\n",
      "<ipython-input-26-23b3b25baaa0>:4: SettingWithCopyWarning: \n",
      "A value is trying to be set on a copy of a slice from a DataFrame.\n",
      "Try using .loc[row_indexer,col_indexer] = value instead\n",
      "\n",
      "See the caveats in the documentation: https://pandas.pydata.org/pandas-docs/stable/user_guide/indexing.html#returning-a-view-versus-a-copy\n",
      "  df['Q2'] = df[v2].groupby('DATE').apply(q)\n"
     ]
    },
    {
     "data": {
      "text/plain": [
       "count     1171.000000\n",
       "mean         0.001319\n",
       "std          0.023634\n",
       "min         -0.086998\n",
       "25%         -0.008582\n",
       "50%          0.000317\n",
       "75%          0.009524\n",
       "max          0.505745\n",
       "tstat        1.909295\n",
       "sharpe       0.885717\n",
       "Name: EXRET, dtype: float64"
      ]
     },
     "execution_count": 92,
     "metadata": {},
     "output_type": "execute_result"
    }
   ],
   "source": [
    "combine(df2t,'lag_bm','LAGRET')"
   ]
  },
  {
   "cell_type": "markdown",
   "id": "4639aeba",
   "metadata": {},
   "source": [
    "### Non-Technology Companies"
   ]
  },
  {
   "cell_type": "code",
   "execution_count": 93,
   "id": "e2f784c1",
   "metadata": {
    "ExecuteTime": {
     "end_time": "2022-12-03T23:09:24.890564Z",
     "start_time": "2022-12-03T23:09:24.056238Z"
    }
   },
   "outputs": [],
   "source": [
    "df2n = df2.loc[(~(df2.SICCD2.isin(tech_1)|df2.SICCD.isin(tech_2))) & (df2['lag_ep']>0) & (df2['lag_bm']>0)]"
   ]
  },
  {
   "cell_type": "code",
   "execution_count": 94,
   "id": "9be3533f",
   "metadata": {
    "ExecuteTime": {
     "end_time": "2022-12-03T23:09:25.791570Z",
     "start_time": "2022-12-03T23:09:24.893501Z"
    }
   },
   "outputs": [
    {
     "name": "stderr",
     "output_type": "stream",
     "text": [
      "<ipython-input-23-8280a3d6abbc>:4: SettingWithCopyWarning: \n",
      "A value is trying to be set on a copy of a slice from a DataFrame.\n",
      "Try using .loc[row_indexer,col_indexer] = value instead\n",
      "\n",
      "See the caveats in the documentation: https://pandas.pydata.org/pandas-docs/stable/user_guide/indexing.html#returning-a-view-versus-a-copy\n",
      "  df['Q'] = df[var].groupby('DATE').apply(q)\n"
     ]
    },
    {
     "data": {
      "text/plain": [
       "count     1258.000000\n",
       "mean         0.000021\n",
       "std          0.007464\n",
       "min         -0.042388\n",
       "25%         -0.004140\n",
       "50%         -0.000367\n",
       "75%          0.003863\n",
       "max          0.052380\n",
       "tstat        0.100329\n",
       "sharpe       0.044904\n",
       "Name: EXRET, dtype: float64"
      ]
     },
     "execution_count": 94,
     "metadata": {},
     "output_type": "execute_result"
    }
   ],
   "source": [
    "hml(df2n,'lag_bm')"
   ]
  },
  {
   "cell_type": "code",
   "execution_count": 95,
   "id": "5a67eb6b",
   "metadata": {
    "ExecuteTime": {
     "end_time": "2022-12-03T23:09:26.770103Z",
     "start_time": "2022-12-03T23:09:25.792765Z"
    },
    "scrolled": true
   },
   "outputs": [
    {
     "name": "stderr",
     "output_type": "stream",
     "text": [
      "<ipython-input-25-2bc97f6af1de>:4: SettingWithCopyWarning: \n",
      "A value is trying to be set on a copy of a slice from a DataFrame.\n",
      "Try using .loc[row_indexer,col_indexer] = value instead\n",
      "\n",
      "See the caveats in the documentation: https://pandas.pydata.org/pandas-docs/stable/user_guide/indexing.html#returning-a-view-versus-a-copy\n",
      "  df['Q'] = df[var].groupby('DATE').apply(q)\n"
     ]
    },
    {
     "data": {
      "text/plain": [
       "count     1258.000000\n",
       "mean         0.000433\n",
       "std          0.006889\n",
       "min         -0.031655\n",
       "25%         -0.003382\n",
       "50%          0.000341\n",
       "75%          0.004125\n",
       "max          0.031804\n",
       "tstat        2.228597\n",
       "sharpe       0.997451\n",
       "Name: EXRET, dtype: float64"
      ]
     },
     "execution_count": 95,
     "metadata": {},
     "output_type": "execute_result"
    }
   ],
   "source": [
    "lmh(df2n,'LAGRET')"
   ]
  },
  {
   "cell_type": "code",
   "execution_count": 96,
   "id": "1d455c4e",
   "metadata": {
    "ExecuteTime": {
     "end_time": "2022-12-03T23:09:26.853052Z",
     "start_time": "2022-12-03T23:09:26.771102Z"
    }
   },
   "outputs": [
    {
     "data": {
      "text/plain": [
       "count     1258.000000\n",
       "mean         0.000205\n",
       "std          0.004548\n",
       "min         -0.026550\n",
       "25%         -0.002127\n",
       "50%          0.000127\n",
       "75%          0.002680\n",
       "max          0.023795\n",
       "tstat        1.597704\n",
       "sharpe       0.715082\n",
       "Name: EXRET, dtype: float64"
      ]
     },
     "execution_count": 96,
     "metadata": {},
     "output_type": "execute_result"
    }
   ],
   "source": [
    "pos(df2n)"
   ]
  },
  {
   "cell_type": "code",
   "execution_count": 97,
   "id": "f2fba8cc",
   "metadata": {
    "ExecuteTime": {
     "end_time": "2022-12-03T23:09:28.608807Z",
     "start_time": "2022-12-03T23:09:26.854388Z"
    }
   },
   "outputs": [
    {
     "name": "stderr",
     "output_type": "stream",
     "text": [
      "<ipython-input-26-23b3b25baaa0>:3: SettingWithCopyWarning: \n",
      "A value is trying to be set on a copy of a slice from a DataFrame.\n",
      "Try using .loc[row_indexer,col_indexer] = value instead\n",
      "\n",
      "See the caveats in the documentation: https://pandas.pydata.org/pandas-docs/stable/user_guide/indexing.html#returning-a-view-versus-a-copy\n",
      "  df['Q1'] = df[v1].groupby('DATE').apply(q)\n",
      "<ipython-input-26-23b3b25baaa0>:4: SettingWithCopyWarning: \n",
      "A value is trying to be set on a copy of a slice from a DataFrame.\n",
      "Try using .loc[row_indexer,col_indexer] = value instead\n",
      "\n",
      "See the caveats in the documentation: https://pandas.pydata.org/pandas-docs/stable/user_guide/indexing.html#returning-a-view-versus-a-copy\n",
      "  df['Q2'] = df[v2].groupby('DATE').apply(q)\n"
     ]
    },
    {
     "data": {
      "text/plain": [
       "count     1246.000000\n",
       "mean         0.000680\n",
       "std          0.015821\n",
       "min         -0.077399\n",
       "25%         -0.007737\n",
       "50%         -0.000068\n",
       "75%          0.008193\n",
       "max          0.076910\n",
       "tstat        1.516862\n",
       "sharpe       0.682162\n",
       "Name: EXRET, dtype: float64"
      ]
     },
     "execution_count": 97,
     "metadata": {},
     "output_type": "execute_result"
    }
   ],
   "source": [
    "combine(df2n,'lag_bm','LAGRET')"
   ]
  },
  {
   "cell_type": "markdown",
   "id": "fdb5215c",
   "metadata": {},
   "source": [
    "### Visulization - df2, t vs nt"
   ]
  },
  {
   "cell_type": "code",
   "execution_count": 98,
   "id": "ecbc0af1",
   "metadata": {
    "ExecuteTime": {
     "end_time": "2022-12-03T23:09:29.833010Z",
     "start_time": "2022-12-03T23:09:28.609561Z"
    }
   },
   "outputs": [
    {
     "name": "stderr",
     "output_type": "stream",
     "text": [
      "<ipython-input-98-f2f78e447cb0>:1: SettingWithCopyWarning: \n",
      "A value is trying to be set on a copy of a slice from a DataFrame.\n",
      "Try using .loc[row_indexer,col_indexer] = value instead\n",
      "\n",
      "See the caveats in the documentation: https://pandas.pydata.org/pandas-docs/stable/user_guide/indexing.html#returning-a-view-versus-a-copy\n",
      "  df2t['Q1'] = df2t['lag_bm'].groupby('DATE').apply(q)\n",
      "<ipython-input-98-f2f78e447cb0>:2: SettingWithCopyWarning: \n",
      "A value is trying to be set on a copy of a slice from a DataFrame.\n",
      "Try using .loc[row_indexer,col_indexer] = value instead\n",
      "\n",
      "See the caveats in the documentation: https://pandas.pydata.org/pandas-docs/stable/user_guide/indexing.html#returning-a-view-versus-a-copy\n",
      "  df2t['Q2'] = df2t['LAGRET'].groupby('DATE').apply(q)\n"
     ]
    }
   ],
   "source": [
    "df2t['Q1'] = df2t['lag_bm'].groupby('DATE').apply(q)\n",
    "df2t['Q2'] = df2t['LAGRET'].groupby('DATE').apply(q)\n",
    "\n",
    "ports = df2t.groupby(['Q1','Q2','SIG','DATE'])[['EXRET']].mean()\n",
    "\n",
    "cumret_df2t  = (1 + (ports.loc[5,1,1] - ports.loc[1,5,-1])).cumprod()"
   ]
  },
  {
   "cell_type": "code",
   "execution_count": 99,
   "id": "b4ec6fb1",
   "metadata": {
    "ExecuteTime": {
     "end_time": "2022-12-03T23:09:31.403246Z",
     "start_time": "2022-12-03T23:09:29.833823Z"
    }
   },
   "outputs": [
    {
     "name": "stderr",
     "output_type": "stream",
     "text": [
      "<ipython-input-99-8da2c9b905f5>:1: SettingWithCopyWarning: \n",
      "A value is trying to be set on a copy of a slice from a DataFrame.\n",
      "Try using .loc[row_indexer,col_indexer] = value instead\n",
      "\n",
      "See the caveats in the documentation: https://pandas.pydata.org/pandas-docs/stable/user_guide/indexing.html#returning-a-view-versus-a-copy\n",
      "  df2n['Q1'] = df2n['lag_bm'].groupby('DATE').apply(q)\n",
      "<ipython-input-99-8da2c9b905f5>:2: SettingWithCopyWarning: \n",
      "A value is trying to be set on a copy of a slice from a DataFrame.\n",
      "Try using .loc[row_indexer,col_indexer] = value instead\n",
      "\n",
      "See the caveats in the documentation: https://pandas.pydata.org/pandas-docs/stable/user_guide/indexing.html#returning-a-view-versus-a-copy\n",
      "  df2n['Q2'] = df2n['LAGRET'].groupby('DATE').apply(q)\n"
     ]
    }
   ],
   "source": [
    "df2n['Q1'] = df2n['lag_bm'].groupby('DATE').apply(q)\n",
    "df2n['Q2'] = df2n['LAGRET'].groupby('DATE').apply(q)\n",
    "\n",
    "ports = df2n.groupby(['Q1','Q2','SIG','DATE'])[['EXRET']].mean()\n",
    "\n",
    "cumret_df2n  = (1 + (ports.loc[5,1,1] - ports.loc[1,5,-1])).cumprod()"
   ]
  },
  {
   "cell_type": "code",
   "execution_count": 100,
   "id": "da1421e8",
   "metadata": {
    "ExecuteTime": {
     "end_time": "2022-12-03T23:09:31.469819Z",
     "start_time": "2022-12-03T23:09:31.404252Z"
    },
    "scrolled": false
   },
   "outputs": [
    {
     "data": {
      "image/png": "[encoded data removed]",
      "text/plain": [
       "<Figure size 432x288 with 1 Axes>"
      ]
     },
     "metadata": {
      "needs_background": "light"
     },
     "output_type": "display_data"
    }
   ],
   "source": [
    "# Visual\n",
    "plt.plot(cumret_df2t, color='darkred',label='Tech')\n",
    "plt.plot(cumret_df2n, color='darkblue',label='Non-Tech')\n",
    "plt.plot(cumret_bh2, color='black',label='Buy and Hold')\n",
    "plt.legend()\n",
    "plt.show()"
   ]
  },
  {
   "cell_type": "markdown",
   "id": "bcc00882",
   "metadata": {},
   "source": [
    "### Small Assets: Market Capital <= 2 Billions"
   ]
  },
  {
   "cell_type": "code",
   "execution_count": 101,
   "id": "556d3325",
   "metadata": {
    "ExecuteTime": {
     "end_time": "2022-12-03T23:09:32.166083Z",
     "start_time": "2022-12-03T23:09:31.471188Z"
    }
   },
   "outputs": [],
   "source": [
    "df2s = df2.loc[(df2['MV']<=2000000) & (df2['lag_ep']>0) & (df2['lag_bm']>0)]"
   ]
  },
  {
   "cell_type": "code",
   "execution_count": 102,
   "id": "cd97f1ed",
   "metadata": {
    "ExecuteTime": {
     "end_time": "2022-12-03T23:09:32.965472Z",
     "start_time": "2022-12-03T23:09:32.169373Z"
    }
   },
   "outputs": [
    {
     "name": "stderr",
     "output_type": "stream",
     "text": [
      "<ipython-input-23-8280a3d6abbc>:4: SettingWithCopyWarning: \n",
      "A value is trying to be set on a copy of a slice from a DataFrame.\n",
      "Try using .loc[row_indexer,col_indexer] = value instead\n",
      "\n",
      "See the caveats in the documentation: https://pandas.pydata.org/pandas-docs/stable/user_guide/indexing.html#returning-a-view-versus-a-copy\n",
      "  df['Q'] = df[var].groupby('DATE').apply(q)\n"
     ]
    },
    {
     "data": {
      "text/plain": [
       "count     1258.000000\n",
       "mean         0.000230\n",
       "std          0.008240\n",
       "min         -0.044102\n",
       "25%         -0.004614\n",
       "50%         -0.000190\n",
       "75%          0.004560\n",
       "max          0.056940\n",
       "tstat        0.989373\n",
       "sharpe       0.442813\n",
       "Name: EXRET, dtype: float64"
      ]
     },
     "execution_count": 102,
     "metadata": {},
     "output_type": "execute_result"
    }
   ],
   "source": [
    "hml(df2s,'lag_bm')"
   ]
  },
  {
   "cell_type": "code",
   "execution_count": 103,
   "id": "1a36f034",
   "metadata": {
    "ExecuteTime": {
     "end_time": "2022-12-03T23:09:33.814653Z",
     "start_time": "2022-12-03T23:09:32.966450Z"
    },
    "scrolled": true
   },
   "outputs": [
    {
     "name": "stderr",
     "output_type": "stream",
     "text": [
      "<ipython-input-25-2bc97f6af1de>:4: SettingWithCopyWarning: \n",
      "A value is trying to be set on a copy of a slice from a DataFrame.\n",
      "Try using .loc[row_indexer,col_indexer] = value instead\n",
      "\n",
      "See the caveats in the documentation: https://pandas.pydata.org/pandas-docs/stable/user_guide/indexing.html#returning-a-view-versus-a-copy\n",
      "  df['Q'] = df[var].groupby('DATE').apply(q)\n"
     ]
    },
    {
     "data": {
      "text/plain": [
       "count     1258.000000\n",
       "mean         0.000507\n",
       "std          0.007710\n",
       "min         -0.033681\n",
       "25%         -0.003302\n",
       "50%          0.000424\n",
       "75%          0.004480\n",
       "max          0.032793\n",
       "tstat        2.330248\n",
       "sharpe       1.042947\n",
       "Name: EXRET, dtype: float64"
      ]
     },
     "execution_count": 103,
     "metadata": {},
     "output_type": "execute_result"
    }
   ],
   "source": [
    "lmh(df2s,'LAGRET')"
   ]
  },
  {
   "cell_type": "code",
   "execution_count": 104,
   "id": "d193fe0a",
   "metadata": {
    "ExecuteTime": {
     "end_time": "2022-12-03T23:09:33.869225Z",
     "start_time": "2022-12-03T23:09:33.816241Z"
    }
   },
   "outputs": [
    {
     "data": {
      "text/plain": [
       "count     1258.000000\n",
       "mean         0.000334\n",
       "std          0.004980\n",
       "min         -0.050113\n",
       "25%         -0.002322\n",
       "50%          0.000282\n",
       "75%          0.003005\n",
       "max          0.022295\n",
       "tstat        2.380760\n",
       "sharpe       1.065554\n",
       "Name: EXRET, dtype: float64"
      ]
     },
     "execution_count": 104,
     "metadata": {},
     "output_type": "execute_result"
    }
   ],
   "source": [
    "pos(df2s)"
   ]
  },
  {
   "cell_type": "code",
   "execution_count": 105,
   "id": "b6f01ae6",
   "metadata": {
    "ExecuteTime": {
     "end_time": "2022-12-03T23:09:35.493395Z",
     "start_time": "2022-12-03T23:09:33.870083Z"
    },
    "scrolled": false
   },
   "outputs": [
    {
     "name": "stderr",
     "output_type": "stream",
     "text": [
      "<ipython-input-26-23b3b25baaa0>:3: SettingWithCopyWarning: \n",
      "A value is trying to be set on a copy of a slice from a DataFrame.\n",
      "Try using .loc[row_indexer,col_indexer] = value instead\n",
      "\n",
      "See the caveats in the documentation: https://pandas.pydata.org/pandas-docs/stable/user_guide/indexing.html#returning-a-view-versus-a-copy\n",
      "  df['Q1'] = df[v1].groupby('DATE').apply(q)\n",
      "<ipython-input-26-23b3b25baaa0>:4: SettingWithCopyWarning: \n",
      "A value is trying to be set on a copy of a slice from a DataFrame.\n",
      "Try using .loc[row_indexer,col_indexer] = value instead\n",
      "\n",
      "See the caveats in the documentation: https://pandas.pydata.org/pandas-docs/stable/user_guide/indexing.html#returning-a-view-versus-a-copy\n",
      "  df['Q2'] = df[v2].groupby('DATE').apply(q)\n"
     ]
    },
    {
     "data": {
      "text/plain": [
       "count     1245.000000\n",
       "mean         0.001325\n",
       "std          0.021717\n",
       "min         -0.141987\n",
       "25%         -0.009257\n",
       "50%          0.000698\n",
       "75%          0.010591\n",
       "max          0.176393\n",
       "tstat        2.152261\n",
       "sharpe       0.968301\n",
       "Name: EXRET, dtype: float64"
      ]
     },
     "execution_count": 105,
     "metadata": {},
     "output_type": "execute_result"
    }
   ],
   "source": [
    "combine(df2s,'lag_bm','LAGRET')"
   ]
  },
  {
   "cell_type": "markdown",
   "id": "ea76e68f",
   "metadata": {},
   "source": [
    "### Large Assets: Market Capital >= 10 Billions"
   ]
  },
  {
   "cell_type": "code",
   "execution_count": 106,
   "id": "6ebebc11",
   "metadata": {
    "ExecuteTime": {
     "end_time": "2022-12-03T23:09:36.038852Z",
     "start_time": "2022-12-03T23:09:35.494309Z"
    }
   },
   "outputs": [],
   "source": [
    "df2l = df2.loc[(df2['MV']>=10000000) & (df2['lag_ep']>0) & (df2['lag_bm']>0)]"
   ]
  },
  {
   "cell_type": "code",
   "execution_count": 107,
   "id": "2fadcd12",
   "metadata": {
    "ExecuteTime": {
     "end_time": "2022-12-03T23:09:36.576277Z",
     "start_time": "2022-12-03T23:09:36.041210Z"
    }
   },
   "outputs": [
    {
     "name": "stderr",
     "output_type": "stream",
     "text": [
      "<ipython-input-23-8280a3d6abbc>:4: SettingWithCopyWarning: \n",
      "A value is trying to be set on a copy of a slice from a DataFrame.\n",
      "Try using .loc[row_indexer,col_indexer] = value instead\n",
      "\n",
      "See the caveats in the documentation: https://pandas.pydata.org/pandas-docs/stable/user_guide/indexing.html#returning-a-view-versus-a-copy\n",
      "  df['Q'] = df[var].groupby('DATE').apply(q)\n"
     ]
    },
    {
     "data": {
      "text/plain": [
       "count     1258.000000\n",
       "mean        -0.000100\n",
       "std          0.006965\n",
       "min         -0.027360\n",
       "25%         -0.004346\n",
       "50%         -0.000444\n",
       "75%          0.003824\n",
       "max          0.038349\n",
       "tstat       -0.510342\n",
       "sharpe      -0.228413\n",
       "Name: EXRET, dtype: float64"
      ]
     },
     "execution_count": 107,
     "metadata": {},
     "output_type": "execute_result"
    }
   ],
   "source": [
    "hml(df2l,'lag_bm')"
   ]
  },
  {
   "cell_type": "code",
   "execution_count": 108,
   "id": "4ddfaa49",
   "metadata": {
    "ExecuteTime": {
     "end_time": "2022-12-03T23:09:37.182805Z",
     "start_time": "2022-12-03T23:09:36.577091Z"
    },
    "scrolled": true
   },
   "outputs": [
    {
     "name": "stderr",
     "output_type": "stream",
     "text": [
      "<ipython-input-25-2bc97f6af1de>:4: SettingWithCopyWarning: \n",
      "A value is trying to be set on a copy of a slice from a DataFrame.\n",
      "Try using .loc[row_indexer,col_indexer] = value instead\n",
      "\n",
      "See the caveats in the documentation: https://pandas.pydata.org/pandas-docs/stable/user_guide/indexing.html#returning-a-view-versus-a-copy\n",
      "  df['Q'] = df[var].groupby('DATE').apply(q)\n"
     ]
    },
    {
     "data": {
      "text/plain": [
       "count     1258.000000\n",
       "mean         0.000199\n",
       "std          0.007349\n",
       "min         -0.035927\n",
       "25%         -0.003479\n",
       "50%          0.000017\n",
       "75%          0.003828\n",
       "max          0.043399\n",
       "tstat        0.962454\n",
       "sharpe       0.430764\n",
       "Name: EXRET, dtype: float64"
      ]
     },
     "execution_count": 108,
     "metadata": {},
     "output_type": "execute_result"
    }
   ],
   "source": [
    "lmh(df2l,'LAGRET')"
   ]
  },
  {
   "cell_type": "code",
   "execution_count": 109,
   "id": "1b647b7b",
   "metadata": {
    "ExecuteTime": {
     "end_time": "2022-12-03T23:09:37.200399Z",
     "start_time": "2022-12-03T23:09:37.183594Z"
    }
   },
   "outputs": [
    {
     "data": {
      "text/plain": [
       "count     1258.000000\n",
       "mean         0.000179\n",
       "std          0.005440\n",
       "min         -0.056432\n",
       "25%         -0.002556\n",
       "50%          0.000093\n",
       "75%          0.002712\n",
       "max          0.024833\n",
       "tstat        1.164351\n",
       "sharpe       0.521128\n",
       "Name: EXRET, dtype: float64"
      ]
     },
     "execution_count": 109,
     "metadata": {},
     "output_type": "execute_result"
    }
   ],
   "source": [
    "pos(df2l)"
   ]
  },
  {
   "cell_type": "code",
   "execution_count": 110,
   "id": "34a7da1f",
   "metadata": {
    "ExecuteTime": {
     "end_time": "2022-12-03T23:09:38.370504Z",
     "start_time": "2022-12-03T23:09:37.201269Z"
    },
    "scrolled": false
   },
   "outputs": [
    {
     "name": "stderr",
     "output_type": "stream",
     "text": [
      "<ipython-input-26-23b3b25baaa0>:3: SettingWithCopyWarning: \n",
      "A value is trying to be set on a copy of a slice from a DataFrame.\n",
      "Try using .loc[row_indexer,col_indexer] = value instead\n",
      "\n",
      "See the caveats in the documentation: https://pandas.pydata.org/pandas-docs/stable/user_guide/indexing.html#returning-a-view-versus-a-copy\n",
      "  df['Q1'] = df[v1].groupby('DATE').apply(q)\n",
      "<ipython-input-26-23b3b25baaa0>:4: SettingWithCopyWarning: \n",
      "A value is trying to be set on a copy of a slice from a DataFrame.\n",
      "Try using .loc[row_indexer,col_indexer] = value instead\n",
      "\n",
      "See the caveats in the documentation: https://pandas.pydata.org/pandas-docs/stable/user_guide/indexing.html#returning-a-view-versus-a-copy\n",
      "  df['Q2'] = df[v2].groupby('DATE').apply(q)\n"
     ]
    },
    {
     "data": {
      "text/plain": [
       "count     1096.000000\n",
       "mean         0.000441\n",
       "std          0.014641\n",
       "min         -0.066610\n",
       "25%         -0.008457\n",
       "50%         -0.000279\n",
       "75%          0.009209\n",
       "max          0.076974\n",
       "tstat        0.997682\n",
       "sharpe       0.478395\n",
       "Name: EXRET, dtype: float64"
      ]
     },
     "execution_count": 110,
     "metadata": {},
     "output_type": "execute_result"
    }
   ],
   "source": [
    "combine(df2l,'lag_bm','LAGRET')"
   ]
  },
  {
   "cell_type": "markdown",
   "id": "b4ce995d",
   "metadata": {},
   "source": [
    "### Visulization - df2, sa vs la"
   ]
  },
  {
   "cell_type": "code",
   "execution_count": 111,
   "id": "9236f5c3",
   "metadata": {
    "ExecuteTime": {
     "end_time": "2022-12-03T23:09:39.914046Z",
     "start_time": "2022-12-03T23:09:38.371380Z"
    }
   },
   "outputs": [
    {
     "name": "stderr",
     "output_type": "stream",
     "text": [
      "<ipython-input-111-bf1234d6f047>:1: SettingWithCopyWarning: \n",
      "A value is trying to be set on a copy of a slice from a DataFrame.\n",
      "Try using .loc[row_indexer,col_indexer] = value instead\n",
      "\n",
      "See the caveats in the documentation: https://pandas.pydata.org/pandas-docs/stable/user_guide/indexing.html#returning-a-view-versus-a-copy\n",
      "  df2s['Q1'] = df2s['lag_bm'].groupby('DATE').apply(q)\n",
      "<ipython-input-111-bf1234d6f047>:2: SettingWithCopyWarning: \n",
      "A value is trying to be set on a copy of a slice from a DataFrame.\n",
      "Try using .loc[row_indexer,col_indexer] = value instead\n",
      "\n",
      "See the caveats in the documentation: https://pandas.pydata.org/pandas-docs/stable/user_guide/indexing.html#returning-a-view-versus-a-copy\n",
      "  df2s['Q2'] = df2s['LAGRET'].groupby('DATE').apply(q)\n"
     ]
    }
   ],
   "source": [
    "df2s['Q1'] = df2s['lag_bm'].groupby('DATE').apply(q)\n",
    "df2s['Q2'] = df2s['LAGRET'].groupby('DATE').apply(q)\n",
    "\n",
    "ports = df2s.groupby(['Q1','Q2','SIG','DATE'])[['EXRET']].mean()\n",
    "\n",
    "cumret_df2s  = (1 + (ports.loc[5,1,1] - ports.loc[1,5,-1])).cumprod()"
   ]
  },
  {
   "cell_type": "code",
   "execution_count": 112,
   "id": "c3ac8151",
   "metadata": {
    "ExecuteTime": {
     "end_time": "2022-12-03T23:09:41.008102Z",
     "start_time": "2022-12-03T23:09:39.914944Z"
    }
   },
   "outputs": [
    {
     "name": "stderr",
     "output_type": "stream",
     "text": [
      "<ipython-input-112-54ecabb5e938>:1: SettingWithCopyWarning: \n",
      "A value is trying to be set on a copy of a slice from a DataFrame.\n",
      "Try using .loc[row_indexer,col_indexer] = value instead\n",
      "\n",
      "See the caveats in the documentation: https://pandas.pydata.org/pandas-docs/stable/user_guide/indexing.html#returning-a-view-versus-a-copy\n",
      "  df2l['Q1'] = df2l['lag_bm'].groupby('DATE').apply(q)\n",
      "<ipython-input-112-54ecabb5e938>:2: SettingWithCopyWarning: \n",
      "A value is trying to be set on a copy of a slice from a DataFrame.\n",
      "Try using .loc[row_indexer,col_indexer] = value instead\n",
      "\n",
      "See the caveats in the documentation: https://pandas.pydata.org/pandas-docs/stable/user_guide/indexing.html#returning-a-view-versus-a-copy\n",
      "  df2l['Q2'] = df2l['LAGRET'].groupby('DATE').apply(q)\n"
     ]
    }
   ],
   "source": [
    "df2l['Q1'] = df2l['lag_bm'].groupby('DATE').apply(q)\n",
    "df2l['Q2'] = df2l['LAGRET'].groupby('DATE').apply(q)\n",
    "\n",
    "ports = df2l.groupby(['Q1','Q2','SIG','DATE'])[['EXRET']].mean()\n",
    "\n",
    "cumret_df2l  = (1 + (ports.loc[5,1,1] - ports.loc[1,5,-1])).cumprod()"
   ]
  },
  {
   "cell_type": "code",
   "execution_count": 113,
   "id": "32af7f7a",
   "metadata": {
    "ExecuteTime": {
     "end_time": "2022-12-03T23:09:41.125315Z",
     "start_time": "2022-12-03T23:09:41.008954Z"
    },
    "scrolled": false
   },
   "outputs": [
    {
     "data": {
      "image/png": "[encoded data removed]",
      "text/plain": [
       "<Figure size 432x288 with 1 Axes>"
      ]
     },
     "metadata": {
      "needs_background": "light"
     },
     "output_type": "display_data"
    }
   ],
   "source": [
    "# Visual\n",
    "plt.plot(cumret_df2l, color='darkred',label='Large Asset')\n",
    "plt.plot(cumret_df2s, color='darkblue',label='Small Asset')\n",
    "plt.plot(cumret_bh2, color='black',label='Buy and Hold')\n",
    "plt.legend()\n",
    "plt.show()"
   ]
  },
  {
   "cell_type": "code",
   "execution_count": 114,
   "id": "a2a49cb9",
   "metadata": {
    "ExecuteTime": {
     "end_time": "2022-12-03T23:10:47.019763Z",
     "start_time": "2022-12-03T23:09:41.207721Z"
    }
   },
   "outputs": [
    {
     "name": "stderr",
     "output_type": "stream",
     "text": [
      "<ipython-input-114-75d6ea80905e>:1: FutureWarning: Value based partial slicing on non-monotonic DatetimeIndexes with non-existing keys is deprecated and will raise a KeyError in a future Version.\n",
      "  df = stocks_etf['2010-01-01':'2020-01-01'].copy()\n",
      "<ipython-input-26-23b3b25baaa0>:3: SettingWithCopyWarning: \n",
      "A value is trying to be set on a copy of a slice from a DataFrame.\n",
      "Try using .loc[row_indexer,col_indexer] = value instead\n",
      "\n",
      "See the caveats in the documentation: https://pandas.pydata.org/pandas-docs/stable/user_guide/indexing.html#returning-a-view-versus-a-copy\n",
      "  df['Q1'] = df[v1].groupby('DATE').apply(q)\n",
      "<ipython-input-26-23b3b25baaa0>:4: SettingWithCopyWarning: \n",
      "A value is trying to be set on a copy of a slice from a DataFrame.\n",
      "Try using .loc[row_indexer,col_indexer] = value instead\n",
      "\n",
      "See the caveats in the documentation: https://pandas.pydata.org/pandas-docs/stable/user_guide/indexing.html#returning-a-view-versus-a-copy\n",
      "  df['Q2'] = df[v2].groupby('DATE').apply(q)\n",
      "<ipython-input-26-23b3b25baaa0>:3: SettingWithCopyWarning: \n",
      "A value is trying to be set on a copy of a slice from a DataFrame.\n",
      "Try using .loc[row_indexer,col_indexer] = value instead\n",
      "\n",
      "See the caveats in the documentation: https://pandas.pydata.org/pandas-docs/stable/user_guide/indexing.html#returning-a-view-versus-a-copy\n",
      "  df['Q1'] = df[v1].groupby('DATE').apply(q)\n",
      "<ipython-input-26-23b3b25baaa0>:4: SettingWithCopyWarning: \n",
      "A value is trying to be set on a copy of a slice from a DataFrame.\n",
      "Try using .loc[row_indexer,col_indexer] = value instead\n",
      "\n",
      "See the caveats in the documentation: https://pandas.pydata.org/pandas-docs/stable/user_guide/indexing.html#returning-a-view-versus-a-copy\n",
      "  df['Q2'] = df[v2].groupby('DATE').apply(q)\n",
      "<ipython-input-26-23b3b25baaa0>:3: SettingWithCopyWarning: \n",
      "A value is trying to be set on a copy of a slice from a DataFrame.\n",
      "Try using .loc[row_indexer,col_indexer] = value instead\n",
      "\n",
      "See the caveats in the documentation: https://pandas.pydata.org/pandas-docs/stable/user_guide/indexing.html#returning-a-view-versus-a-copy\n",
      "  df['Q1'] = df[v1].groupby('DATE').apply(q)\n",
      "<ipython-input-26-23b3b25baaa0>:4: SettingWithCopyWarning: \n",
      "A value is trying to be set on a copy of a slice from a DataFrame.\n",
      "Try using .loc[row_indexer,col_indexer] = value instead\n",
      "\n",
      "See the caveats in the documentation: https://pandas.pydata.org/pandas-docs/stable/user_guide/indexing.html#returning-a-view-versus-a-copy\n",
      "  df['Q2'] = df[v2].groupby('DATE').apply(q)\n",
      "<ipython-input-26-23b3b25baaa0>:3: SettingWithCopyWarning: \n",
      "A value is trying to be set on a copy of a slice from a DataFrame.\n",
      "Try using .loc[row_indexer,col_indexer] = value instead\n",
      "\n",
      "See the caveats in the documentation: https://pandas.pydata.org/pandas-docs/stable/user_guide/indexing.html#returning-a-view-versus-a-copy\n",
      "  df['Q1'] = df[v1].groupby('DATE').apply(q)\n",
      "<ipython-input-26-23b3b25baaa0>:4: SettingWithCopyWarning: \n",
      "A value is trying to be set on a copy of a slice from a DataFrame.\n",
      "Try using .loc[row_indexer,col_indexer] = value instead\n",
      "\n",
      "See the caveats in the documentation: https://pandas.pydata.org/pandas-docs/stable/user_guide/indexing.html#returning-a-view-versus-a-copy\n",
      "  df['Q2'] = df[v2].groupby('DATE').apply(q)\n",
      "<ipython-input-26-23b3b25baaa0>:3: SettingWithCopyWarning: \n",
      "A value is trying to be set on a copy of a slice from a DataFrame.\n",
      "Try using .loc[row_indexer,col_indexer] = value instead\n",
      "\n",
      "See the caveats in the documentation: https://pandas.pydata.org/pandas-docs/stable/user_guide/indexing.html#returning-a-view-versus-a-copy\n",
      "  df['Q1'] = df[v1].groupby('DATE').apply(q)\n",
      "<ipython-input-26-23b3b25baaa0>:4: SettingWithCopyWarning: \n",
      "A value is trying to be set on a copy of a slice from a DataFrame.\n",
      "Try using .loc[row_indexer,col_indexer] = value instead\n",
      "\n",
      "See the caveats in the documentation: https://pandas.pydata.org/pandas-docs/stable/user_guide/indexing.html#returning-a-view-versus-a-copy\n",
      "  df['Q2'] = df[v2].groupby('DATE').apply(q)\n",
      "<ipython-input-26-23b3b25baaa0>:3: SettingWithCopyWarning: \n",
      "A value is trying to be set on a copy of a slice from a DataFrame.\n",
      "Try using .loc[row_indexer,col_indexer] = value instead\n",
      "\n",
      "See the caveats in the documentation: https://pandas.pydata.org/pandas-docs/stable/user_guide/indexing.html#returning-a-view-versus-a-copy\n",
      "  df['Q1'] = df[v1].groupby('DATE').apply(q)\n",
      "<ipython-input-26-23b3b25baaa0>:4: SettingWithCopyWarning: \n",
      "A value is trying to be set on a copy of a slice from a DataFrame.\n",
      "Try using .loc[row_indexer,col_indexer] = value instead\n",
      "\n",
      "See the caveats in the documentation: https://pandas.pydata.org/pandas-docs/stable/user_guide/indexing.html#returning-a-view-versus-a-copy\n",
      "  df['Q2'] = df[v2].groupby('DATE').apply(q)\n",
      "<ipython-input-26-23b3b25baaa0>:3: SettingWithCopyWarning: \n",
      "A value is trying to be set on a copy of a slice from a DataFrame.\n",
      "Try using .loc[row_indexer,col_indexer] = value instead\n",
      "\n",
      "See the caveats in the documentation: https://pandas.pydata.org/pandas-docs/stable/user_guide/indexing.html#returning-a-view-versus-a-copy\n",
      "  df['Q1'] = df[v1].groupby('DATE').apply(q)\n",
      "<ipython-input-26-23b3b25baaa0>:4: SettingWithCopyWarning: \n",
      "A value is trying to be set on a copy of a slice from a DataFrame.\n",
      "Try using .loc[row_indexer,col_indexer] = value instead\n",
      "\n",
      "See the caveats in the documentation: https://pandas.pydata.org/pandas-docs/stable/user_guide/indexing.html#returning-a-view-versus-a-copy\n",
      "  df['Q2'] = df[v2].groupby('DATE').apply(q)\n",
      "<ipython-input-26-23b3b25baaa0>:3: SettingWithCopyWarning: \n",
      "A value is trying to be set on a copy of a slice from a DataFrame.\n",
      "Try using .loc[row_indexer,col_indexer] = value instead\n",
      "\n",
      "See the caveats in the documentation: https://pandas.pydata.org/pandas-docs/stable/user_guide/indexing.html#returning-a-view-versus-a-copy\n",
      "  df['Q1'] = df[v1].groupby('DATE').apply(q)\n",
      "<ipython-input-26-23b3b25baaa0>:4: SettingWithCopyWarning: \n",
      "A value is trying to be set on a copy of a slice from a DataFrame.\n",
      "Try using .loc[row_indexer,col_indexer] = value instead\n",
      "\n",
      "See the caveats in the documentation: https://pandas.pydata.org/pandas-docs/stable/user_guide/indexing.html#returning-a-view-versus-a-copy\n",
      "  df['Q2'] = df[v2].groupby('DATE').apply(q)\n",
      "<ipython-input-26-23b3b25baaa0>:3: SettingWithCopyWarning: \n",
      "A value is trying to be set on a copy of a slice from a DataFrame.\n",
      "Try using .loc[row_indexer,col_indexer] = value instead\n",
      "\n",
      "See the caveats in the documentation: https://pandas.pydata.org/pandas-docs/stable/user_guide/indexing.html#returning-a-view-versus-a-copy\n",
      "  df['Q1'] = df[v1].groupby('DATE').apply(q)\n",
      "<ipython-input-26-23b3b25baaa0>:4: SettingWithCopyWarning: \n",
      "A value is trying to be set on a copy of a slice from a DataFrame.\n",
      "Try using .loc[row_indexer,col_indexer] = value instead\n",
      "\n",
      "See the caveats in the documentation: https://pandas.pydata.org/pandas-docs/stable/user_guide/indexing.html#returning-a-view-versus-a-copy\n",
      "  df['Q2'] = df[v2].groupby('DATE').apply(q)\n",
      "<ipython-input-26-23b3b25baaa0>:3: SettingWithCopyWarning: \n",
      "A value is trying to be set on a copy of a slice from a DataFrame.\n",
      "Try using .loc[row_indexer,col_indexer] = value instead\n",
      "\n",
      "See the caveats in the documentation: https://pandas.pydata.org/pandas-docs/stable/user_guide/indexing.html#returning-a-view-versus-a-copy\n",
      "  df['Q1'] = df[v1].groupby('DATE').apply(q)\n",
      "<ipython-input-26-23b3b25baaa0>:4: SettingWithCopyWarning: \n",
      "A value is trying to be set on a copy of a slice from a DataFrame.\n",
      "Try using .loc[row_indexer,col_indexer] = value instead\n",
      "\n",
      "See the caveats in the documentation: https://pandas.pydata.org/pandas-docs/stable/user_guide/indexing.html#returning-a-view-versus-a-copy\n",
      "  df['Q2'] = df[v2].groupby('DATE').apply(q)\n",
      "<ipython-input-26-23b3b25baaa0>:3: SettingWithCopyWarning: \n",
      "A value is trying to be set on a copy of a slice from a DataFrame.\n",
      "Try using .loc[row_indexer,col_indexer] = value instead\n",
      "\n",
      "See the caveats in the documentation: https://pandas.pydata.org/pandas-docs/stable/user_guide/indexing.html#returning-a-view-versus-a-copy\n",
      "  df['Q1'] = df[v1].groupby('DATE').apply(q)\n",
      "<ipython-input-26-23b3b25baaa0>:4: SettingWithCopyWarning: \n",
      "A value is trying to be set on a copy of a slice from a DataFrame.\n",
      "Try using .loc[row_indexer,col_indexer] = value instead\n",
      "\n",
      "See the caveats in the documentation: https://pandas.pydata.org/pandas-docs/stable/user_guide/indexing.html#returning-a-view-versus-a-copy\n",
      "  df['Q2'] = df[v2].groupby('DATE').apply(q)\n",
      "<ipython-input-26-23b3b25baaa0>:3: SettingWithCopyWarning: \n",
      "A value is trying to be set on a copy of a slice from a DataFrame.\n",
      "Try using .loc[row_indexer,col_indexer] = value instead\n",
      "\n",
      "See the caveats in the documentation: https://pandas.pydata.org/pandas-docs/stable/user_guide/indexing.html#returning-a-view-versus-a-copy\n",
      "  df['Q1'] = df[v1].groupby('DATE').apply(q)\n",
      "<ipython-input-26-23b3b25baaa0>:4: SettingWithCopyWarning: \n",
      "A value is trying to be set on a copy of a slice from a DataFrame.\n",
      "Try using .loc[row_indexer,col_indexer] = value instead\n",
      "\n",
      "See the caveats in the documentation: https://pandas.pydata.org/pandas-docs/stable/user_guide/indexing.html#returning-a-view-versus-a-copy\n",
      "  df['Q2'] = df[v2].groupby('DATE').apply(q)\n"
     ]
    },
    {
     "data": {
      "text/html": [
       "<div>\n",
       "<style scoped>\n",
       "    .dataframe tbody tr th:only-of-type {\n",
       "        vertical-align: middle;\n",
       "    }\n",
       "\n",
       "    .dataframe tbody tr th {\n",
       "        vertical-align: top;\n",
       "    }\n",
       "\n",
       "    .dataframe thead th {\n",
       "        text-align: right;\n",
       "    }\n",
       "</style>\n",
       "<table border=\"1\" class=\"dataframe\">\n",
       "  <thead>\n",
       "    <tr style=\"text-align: right;\">\n",
       "      <th></th>\n",
       "      <th>Mean</th>\n",
       "      <th>STD</th>\n",
       "      <th>SharpRatio</th>\n",
       "    </tr>\n",
       "  </thead>\n",
       "  <tbody>\n",
       "    <tr>\n",
       "      <th>lts</th>\n",
       "      <td>0.11</td>\n",
       "      <td>1.32</td>\n",
       "      <td>1.288266</td>\n",
       "    </tr>\n",
       "    <tr>\n",
       "      <th>lns</th>\n",
       "      <td>0.03</td>\n",
       "      <td>2.04</td>\n",
       "      <td>0.259232</td>\n",
       "    </tr>\n",
       "    <tr>\n",
       "      <th>hts</th>\n",
       "      <td>-0.04</td>\n",
       "      <td>3.06</td>\n",
       "      <td>-0.199961</td>\n",
       "    </tr>\n",
       "    <tr>\n",
       "      <th>hns</th>\n",
       "      <td>0.27</td>\n",
       "      <td>3.73</td>\n",
       "      <td>1.139469</td>\n",
       "    </tr>\n",
       "  </tbody>\n",
       "</table>\n",
       "</div>"
      ],
      "text/plain": [
       "     Mean   STD SharpRatio\n",
       "lts  0.11  1.32   1.288266\n",
       "lns  0.03  2.04   0.259232\n",
       "hts -0.04  3.06  -0.199961\n",
       "hns  0.27  3.73   1.139469"
      ]
     },
     "execution_count": 114,
     "metadata": {},
     "output_type": "execute_result"
    }
   ],
   "source": [
    "df = stocks_etf['2010-01-01':'2020-01-01'].copy()\n",
    "df = df.reset_index()\n",
    "df = df.set_index(['DATE','PERMNO']).sort_index()\n",
    "df['RQ'] = df['lag_SD'].groupby('DATE').apply(q)\n",
    "\n",
    "\n",
    "risk = [{'l':(df['RQ']<=2)},{'h':(df['RQ']>=4)}]\n",
    "tech = [{'t':(~(df.SICCD2.isin(tech_1)|df.SICCD.isin(tech_2)))},{'n':(df.SICCD2.isin(tech_1)|df.SICCD.isin(tech_2))}]\n",
    "mv = [{'s':(df['MV']<=2000000)}]\n",
    "eva = ['Mean','STD','SharpRatio']\n",
    "\n",
    "result = pd.DataFrame(index=[list(a.keys())[0]+list(b.keys())[0]+list(c.keys())[0] for a in risk for b in tech for c in mv],\\\n",
    "                           columns=eva)\n",
    "for a in risk:\n",
    "    for b in tech:\n",
    "        for c in mv:\n",
    "            data = df.loc[list(a.values())[0]&list(b.values())[0]&list(c.values())[0]]\n",
    "            result.loc[list(a.keys())[0]+list(b.keys())[0]+list(c.keys())[0],'Mean'] = round(combine(data,'lag_bm','LAGRET')[1]*100,2)\n",
    "            result.loc[list(a.keys())[0]+list(b.keys())[0]+list(c.keys())[0],'STD'] = round(combine(data,'lag_bm','LAGRET')[2]*100,2)\n",
    "            result.loc[list(a.keys())[0]+list(b.keys())[0]+list(c.keys())[0],'SharpRatio'] = combine(data,'lag_bm','LAGRET')[9]\n",
    "\n",
    "result"
   ]
  },
  {
   "cell_type": "markdown",
   "id": "067e4f61",
   "metadata": {},
   "source": [
    "# Testing"
   ]
  },
  {
   "cell_type": "code",
   "execution_count": 115,
   "id": "b7015b0a",
   "metadata": {
    "ExecuteTime": {
     "end_time": "2022-12-03T23:10:48.542786Z",
     "start_time": "2022-12-03T23:10:47.021423Z"
    }
   },
   "outputs": [],
   "source": [
    "df_final = df.loc[(df['RQ']<=2)&(~(df.SICCD2.isin(tech_1)|df.SICCD.isin(tech_2)))&(df['MV']<=2000000)]"
   ]
  },
  {
   "cell_type": "code",
   "execution_count": 116,
   "id": "f5f5df9a",
   "metadata": {
    "ExecuteTime": {
     "end_time": "2022-12-03T23:10:48.620864Z",
     "start_time": "2022-12-03T23:10:48.545681Z"
    }
   },
   "outputs": [
    {
     "data": {
      "text/plain": [
       "count     2516.000000\n",
       "mean         0.000394\n",
       "std          0.003841\n",
       "min         -0.026701\n",
       "25%         -0.001724\n",
       "50%          0.000292\n",
       "75%          0.002383\n",
       "max          0.024521\n",
       "tstat        5.151055\n",
       "sharpe       1.630201\n",
       "Name: EXRET, dtype: float64"
      ]
     },
     "execution_count": 116,
     "metadata": {},
     "output_type": "execute_result"
    }
   ],
   "source": [
    "pos(df_final)"
   ]
  },
  {
   "cell_type": "code",
   "execution_count": 117,
   "id": "a8503faa",
   "metadata": {
    "ExecuteTime": {
     "end_time": "2022-12-03T23:10:49.763104Z",
     "start_time": "2022-12-03T23:10:48.621788Z"
    }
   },
   "outputs": [
    {
     "name": "stderr",
     "output_type": "stream",
     "text": [
      "<ipython-input-23-8280a3d6abbc>:4: SettingWithCopyWarning: \n",
      "A value is trying to be set on a copy of a slice from a DataFrame.\n",
      "Try using .loc[row_indexer,col_indexer] = value instead\n",
      "\n",
      "See the caveats in the documentation: https://pandas.pydata.org/pandas-docs/stable/user_guide/indexing.html#returning-a-view-versus-a-copy\n",
      "  df['Q'] = df[var].groupby('DATE').apply(q)\n"
     ]
    },
    {
     "data": {
      "text/plain": [
       "count     2516.000000\n",
       "mean         0.000325\n",
       "std          0.005455\n",
       "min         -0.035804\n",
       "25%         -0.002869\n",
       "50%          0.000379\n",
       "75%          0.003422\n",
       "max          0.030968\n",
       "tstat        2.987773\n",
       "sharpe       0.945568\n",
       "Name: EXRET, dtype: float64"
      ]
     },
     "execution_count": 117,
     "metadata": {},
     "output_type": "execute_result"
    }
   ],
   "source": [
    "hml(df_final,'lag_bm')"
   ]
  },
  {
   "cell_type": "code",
   "execution_count": 118,
   "id": "3e40acbe",
   "metadata": {
    "ExecuteTime": {
     "end_time": "2022-12-03T23:10:50.960051Z",
     "start_time": "2022-12-03T23:10:49.763966Z"
    }
   },
   "outputs": [
    {
     "name": "stderr",
     "output_type": "stream",
     "text": [
      "<ipython-input-25-2bc97f6af1de>:4: SettingWithCopyWarning: \n",
      "A value is trying to be set on a copy of a slice from a DataFrame.\n",
      "Try using .loc[row_indexer,col_indexer] = value instead\n",
      "\n",
      "See the caveats in the documentation: https://pandas.pydata.org/pandas-docs/stable/user_guide/indexing.html#returning-a-view-versus-a-copy\n",
      "  df['Q'] = df[var].groupby('DATE').apply(q)\n"
     ]
    },
    {
     "data": {
      "text/plain": [
       "count     2516.000000\n",
       "mean         0.000324\n",
       "std          0.006486\n",
       "min         -0.043892\n",
       "25%         -0.002930\n",
       "50%          0.000201\n",
       "75%          0.003352\n",
       "max          0.045991\n",
       "tstat        2.507523\n",
       "sharpe       0.793579\n",
       "Name: EXRET, dtype: float64"
      ]
     },
     "execution_count": 118,
     "metadata": {},
     "output_type": "execute_result"
    }
   ],
   "source": [
    "lmh(df_final,'LAGRET')"
   ]
  },
  {
   "cell_type": "code",
   "execution_count": 119,
   "id": "0c544d5a",
   "metadata": {
    "ExecuteTime": {
     "end_time": "2022-12-03T23:10:52.148186Z",
     "start_time": "2022-12-03T23:10:50.962495Z"
    }
   },
   "outputs": [
    {
     "name": "stderr",
     "output_type": "stream",
     "text": [
      "<ipython-input-28-73876313b2dc>:3: SettingWithCopyWarning: \n",
      "A value is trying to be set on a copy of a slice from a DataFrame.\n",
      "Try using .loc[row_indexer,col_indexer] = value instead\n",
      "\n",
      "See the caveats in the documentation: https://pandas.pydata.org/pandas-docs/stable/user_guide/indexing.html#returning-a-view-versus-a-copy\n",
      "  df['Q1'] = df[v1].groupby('DATE').apply(q)\n"
     ]
    },
    {
     "data": {
      "text/plain": [
       "count     2508.000000\n",
       "mean         0.000801\n",
       "std          0.008264\n",
       "min         -0.054352\n",
       "25%         -0.003473\n",
       "50%          0.000717\n",
       "75%          0.004784\n",
       "max          0.052477\n",
       "tstat        4.852352\n",
       "sharpe       1.538115\n",
       "Name: EXRET, dtype: float64"
      ]
     },
     "execution_count": 119,
     "metadata": {},
     "output_type": "execute_result"
    }
   ],
   "source": [
    "lmhpos(df_final,'LAGRET')"
   ]
  },
  {
   "cell_type": "code",
   "execution_count": 120,
   "id": "0541837a",
   "metadata": {
    "ExecuteTime": {
     "end_time": "2022-12-03T23:10:53.252417Z",
     "start_time": "2022-12-03T23:10:52.148981Z"
    }
   },
   "outputs": [
    {
     "name": "stderr",
     "output_type": "stream",
     "text": [
      "<ipython-input-29-0004bb1319ae>:3: SettingWithCopyWarning: \n",
      "A value is trying to be set on a copy of a slice from a DataFrame.\n",
      "Try using .loc[row_indexer,col_indexer] = value instead\n",
      "\n",
      "See the caveats in the documentation: https://pandas.pydata.org/pandas-docs/stable/user_guide/indexing.html#returning-a-view-versus-a-copy\n",
      "  df['Q1'] = df[v1].groupby('DATE').apply(q)\n"
     ]
    },
    {
     "data": {
      "text/plain": [
       "count     2516.000000\n",
       "mean         0.000624\n",
       "std          0.007454\n",
       "min         -0.037734\n",
       "25%         -0.003239\n",
       "50%          0.000429\n",
       "75%          0.004143\n",
       "max          0.103243\n",
       "tstat        4.198086\n",
       "sharpe       1.328606\n",
       "Name: EXRET, dtype: float64"
      ]
     },
     "execution_count": 120,
     "metadata": {},
     "output_type": "execute_result"
    }
   ],
   "source": [
    "hmlpos(df_final,'lag_bm')"
   ]
  },
  {
   "cell_type": "code",
   "execution_count": 121,
   "id": "793ff112",
   "metadata": {
    "ExecuteTime": {
     "end_time": "2022-12-03T23:10:55.536559Z",
     "start_time": "2022-12-03T23:10:53.253704Z"
    }
   },
   "outputs": [
    {
     "name": "stderr",
     "output_type": "stream",
     "text": [
      "<ipython-input-27-c22de001265f>:3: SettingWithCopyWarning: \n",
      "A value is trying to be set on a copy of a slice from a DataFrame.\n",
      "Try using .loc[row_indexer,col_indexer] = value instead\n",
      "\n",
      "See the caveats in the documentation: https://pandas.pydata.org/pandas-docs/stable/user_guide/indexing.html#returning-a-view-versus-a-copy\n",
      "  df['Q1'] = df[v1].groupby('DATE').apply(q)\n",
      "<ipython-input-27-c22de001265f>:4: SettingWithCopyWarning: \n",
      "A value is trying to be set on a copy of a slice from a DataFrame.\n",
      "Try using .loc[row_indexer,col_indexer] = value instead\n",
      "\n",
      "See the caveats in the documentation: https://pandas.pydata.org/pandas-docs/stable/user_guide/indexing.html#returning-a-view-versus-a-copy\n",
      "  df['Q2'] = df[v2].groupby('DATE').apply(q)\n"
     ]
    },
    {
     "data": {
      "text/plain": [
       "count     2454.000000\n",
       "mean         0.000376\n",
       "std          0.010970\n",
       "min         -0.120873\n",
       "25%         -0.005007\n",
       "50%          0.000435\n",
       "75%          0.005864\n",
       "max          0.074718\n",
       "tstat        1.699109\n",
       "sharpe       0.544483\n",
       "Name: EXRET, dtype: float64"
      ]
     },
     "execution_count": 121,
     "metadata": {},
     "output_type": "execute_result"
    }
   ],
   "source": [
    "combine2(df_final,'lag_bm','LAGRET')"
   ]
  },
  {
   "cell_type": "code",
   "execution_count": 122,
   "id": "e3ad54f3",
   "metadata": {
    "ExecuteTime": {
     "end_time": "2022-12-03T23:10:58.020128Z",
     "start_time": "2022-12-03T23:10:55.537461Z"
    }
   },
   "outputs": [
    {
     "name": "stderr",
     "output_type": "stream",
     "text": [
      "<ipython-input-26-23b3b25baaa0>:3: SettingWithCopyWarning: \n",
      "A value is trying to be set on a copy of a slice from a DataFrame.\n",
      "Try using .loc[row_indexer,col_indexer] = value instead\n",
      "\n",
      "See the caveats in the documentation: https://pandas.pydata.org/pandas-docs/stable/user_guide/indexing.html#returning-a-view-versus-a-copy\n",
      "  df['Q1'] = df[v1].groupby('DATE').apply(q)\n",
      "<ipython-input-26-23b3b25baaa0>:4: SettingWithCopyWarning: \n",
      "A value is trying to be set on a copy of a slice from a DataFrame.\n",
      "Try using .loc[row_indexer,col_indexer] = value instead\n",
      "\n",
      "See the caveats in the documentation: https://pandas.pydata.org/pandas-docs/stable/user_guide/indexing.html#returning-a-view-versus-a-copy\n",
      "  df['Q2'] = df[v2].groupby('DATE').apply(q)\n"
     ]
    },
    {
     "data": {
      "text/plain": [
       "count     2235.000000\n",
       "mean         0.001070\n",
       "std          0.013186\n",
       "min         -0.120873\n",
       "25%         -0.005679\n",
       "50%          0.000736\n",
       "75%          0.007414\n",
       "max          0.173567\n",
       "tstat        3.836578\n",
       "sharpe       1.288266\n",
       "Name: EXRET, dtype: float64"
      ]
     },
     "execution_count": 122,
     "metadata": {},
     "output_type": "execute_result"
    }
   ],
   "source": [
    "combine(df_final,'lag_bm','LAGRET')"
   ]
  },
  {
   "cell_type": "code",
   "execution_count": 123,
   "id": "f8f26f67",
   "metadata": {
    "ExecuteTime": {
     "end_time": "2022-12-03T23:10:58.052379Z",
     "start_time": "2022-12-03T23:10:58.021268Z"
    }
   },
   "outputs": [],
   "source": [
    "# reversal\n",
    "ports = df_final.groupby(['Q2','DATE'])[['EXRET']].mean()\n",
    "\n",
    "cumret_reversal  = (1 + (ports.loc[1] - ports.loc[5])).cumprod()"
   ]
  },
  {
   "cell_type": "code",
   "execution_count": 124,
   "id": "6856ea83",
   "metadata": {
    "ExecuteTime": {
     "end_time": "2022-12-03T23:10:58.079034Z",
     "start_time": "2022-12-03T23:10:58.053272Z"
    }
   },
   "outputs": [],
   "source": [
    "# value\n",
    "ports = df_final.groupby(['Q1','DATE'])[['EXRET']].mean()\n",
    "\n",
    "cumret_value  = (1 + (ports.loc[5] - ports.loc[1])).cumprod()"
   ]
  },
  {
   "cell_type": "code",
   "execution_count": 125,
   "id": "701a91a3",
   "metadata": {
    "ExecuteTime": {
     "end_time": "2022-12-04T04:22:04.729260Z",
     "start_time": "2022-12-04T04:22:04.373662Z"
    }
   },
   "outputs": [],
   "source": [
    "# price opportunity\n",
    "ports = df_final.groupby(['SIG','DATE'])[['EXRET']].mean()\n",
    "\n",
    "cumret_po  = (1 + (ports.loc[1] - ports.loc[-1])).cumprod()"
   ]
  },
  {
   "cell_type": "code",
   "execution_count": 126,
   "id": "2f0c26d2",
   "metadata": {
    "ExecuteTime": {
     "end_time": "2022-12-03T23:10:59.248825Z",
     "start_time": "2022-12-03T23:10:58.116348Z"
    }
   },
   "outputs": [
    {
     "name": "stderr",
     "output_type": "stream",
     "text": [
      "<ipython-input-126-a28a1e435f38>:2: SettingWithCopyWarning: \n",
      "A value is trying to be set on a copy of a slice from a DataFrame.\n",
      "Try using .loc[row_indexer,col_indexer] = value instead\n",
      "\n",
      "See the caveats in the documentation: https://pandas.pydata.org/pandas-docs/stable/user_guide/indexing.html#returning-a-view-versus-a-copy\n",
      "  df_final['Q1'] = df_final['lag_bm'].groupby('DATE').apply(q)\n"
     ]
    }
   ],
   "source": [
    "# Combine_v_m\n",
    "df_final['Q1'] = df_final['lag_bm'].groupby('DATE').apply(q)\n",
    "\n",
    "ports = df_final.groupby(['Q1','SIG','DATE'])[['EXRET']].mean()\n",
    "\n",
    "cumret_combine_v_m  = (1 + (ports.loc[5,1] - ports.loc[1,-1])).cumprod()"
   ]
  },
  {
   "cell_type": "code",
   "execution_count": 127,
   "id": "df1be61c",
   "metadata": {
    "ExecuteTime": {
     "end_time": "2022-12-03T23:11:00.372643Z",
     "start_time": "2022-12-03T23:10:59.249657Z"
    }
   },
   "outputs": [
    {
     "name": "stderr",
     "output_type": "stream",
     "text": [
      "<ipython-input-127-f63c647b41d2>:2: SettingWithCopyWarning: \n",
      "A value is trying to be set on a copy of a slice from a DataFrame.\n",
      "Try using .loc[row_indexer,col_indexer] = value instead\n",
      "\n",
      "See the caveats in the documentation: https://pandas.pydata.org/pandas-docs/stable/user_guide/indexing.html#returning-a-view-versus-a-copy\n",
      "  df_final['Q2'] = df_final['LAGRET'].groupby('DATE').apply(q)\n"
     ]
    }
   ],
   "source": [
    "# Combine_r_m\n",
    "df_final['Q2'] = df_final['LAGRET'].groupby('DATE').apply(q)\n",
    "\n",
    "ports = df_final.groupby(['Q2','SIG','DATE'])[['EXRET']].mean()\n",
    "\n",
    "cumret_combine_r_m  = (1 + (ports.loc[1,1] - ports.loc[5,-1])).cumprod()"
   ]
  },
  {
   "cell_type": "code",
   "execution_count": 128,
   "id": "72c0606c",
   "metadata": {
    "ExecuteTime": {
     "end_time": "2022-12-03T23:11:02.663942Z",
     "start_time": "2022-12-03T23:11:00.373821Z"
    }
   },
   "outputs": [
    {
     "name": "stderr",
     "output_type": "stream",
     "text": [
      "<ipython-input-128-d19f518af5c0>:2: SettingWithCopyWarning: \n",
      "A value is trying to be set on a copy of a slice from a DataFrame.\n",
      "Try using .loc[row_indexer,col_indexer] = value instead\n",
      "\n",
      "See the caveats in the documentation: https://pandas.pydata.org/pandas-docs/stable/user_guide/indexing.html#returning-a-view-versus-a-copy\n",
      "  df_final['Q1'] = df_final['lag_bm'].groupby('DATE').apply(q)\n",
      "<ipython-input-128-d19f518af5c0>:3: SettingWithCopyWarning: \n",
      "A value is trying to be set on a copy of a slice from a DataFrame.\n",
      "Try using .loc[row_indexer,col_indexer] = value instead\n",
      "\n",
      "See the caveats in the documentation: https://pandas.pydata.org/pandas-docs/stable/user_guide/indexing.html#returning-a-view-versus-a-copy\n",
      "  df_final['Q2'] = df_final['LAGRET'].groupby('DATE').apply(q)\n"
     ]
    }
   ],
   "source": [
    "# Combine_v_r\n",
    "df_final['Q1'] = df_final['lag_bm'].groupby('DATE').apply(q)\n",
    "df_final['Q2'] = df_final['LAGRET'].groupby('DATE').apply(q)\n",
    "\n",
    "ports = df_final.groupby(['Q1','Q2','DATE'])[['EXRET']].mean()\n",
    "\n",
    "cumret_combine_v_r  = (1 + (ports.loc[5,1] - ports.loc[1,5])).cumprod()"
   ]
  },
  {
   "cell_type": "code",
   "execution_count": 129,
   "id": "e5576e81",
   "metadata": {
    "ExecuteTime": {
     "end_time": "2022-12-03T23:11:05.227691Z",
     "start_time": "2022-12-03T23:11:02.665188Z"
    }
   },
   "outputs": [
    {
     "name": "stderr",
     "output_type": "stream",
     "text": [
      "<ipython-input-129-4c0b18de3deb>:2: SettingWithCopyWarning: \n",
      "A value is trying to be set on a copy of a slice from a DataFrame.\n",
      "Try using .loc[row_indexer,col_indexer] = value instead\n",
      "\n",
      "See the caveats in the documentation: https://pandas.pydata.org/pandas-docs/stable/user_guide/indexing.html#returning-a-view-versus-a-copy\n",
      "  df_final['Q1'] = df_final['lag_bm'].groupby('DATE').apply(q)\n",
      "<ipython-input-129-4c0b18de3deb>:3: SettingWithCopyWarning: \n",
      "A value is trying to be set on a copy of a slice from a DataFrame.\n",
      "Try using .loc[row_indexer,col_indexer] = value instead\n",
      "\n",
      "See the caveats in the documentation: https://pandas.pydata.org/pandas-docs/stable/user_guide/indexing.html#returning-a-view-versus-a-copy\n",
      "  df_final['Q2'] = df_final['LAGRET'].groupby('DATE').apply(q)\n"
     ]
    }
   ],
   "source": [
    "# Combine\n",
    "df_final['Q1'] = df_final['lag_bm'].groupby('DATE').apply(q)\n",
    "df_final['Q2'] = df_final['LAGRET'].groupby('DATE').apply(q)\n",
    "\n",
    "ports = df_final.groupby(['Q1','Q2','SIG','DATE'])[['EXRET']].mean()\n",
    "\n",
    "cumret_combine  = (1 + (ports.loc[5,1,1] - ports.loc[1,5,-1])).cumprod()"
   ]
  },
  {
   "cell_type": "code",
   "execution_count": 130,
   "id": "f4eb7476",
   "metadata": {
    "ExecuteTime": {
     "end_time": "2022-12-03T23:34:51.597593Z",
     "start_time": "2022-12-03T23:34:51.289801Z"
    }
   },
   "outputs": [],
   "source": [
    "bh = df_final.groupby(['DATE'])[['EXRET']].mean()\n",
    "\n",
    "cumret_bh  = (1 + bh['EXRET']).cumprod()"
   ]
  },
  {
   "cell_type": "code",
   "execution_count": 131,
   "id": "96681b83",
   "metadata": {
    "ExecuteTime": {
     "end_time": "2022-12-04T04:14:12.062945Z",
     "start_time": "2022-12-04T04:14:11.816950Z"
    }
   },
   "outputs": [
    {
     "data": {
      "image/png": "[encoded data removed]",
      "text/plain": [
       "<Figure size 1080x576 with 1 Axes>"
      ]
     },
     "metadata": {
      "needs_background": "light"
     },
     "output_type": "display_data"
    }
   ],
   "source": [
    "plt.figure(figsize=(15,8))\n",
    "plt.plot(cumret_value, color='gold', label='value')\n",
    "plt.plot(cumret_reversal, color='blue', label='reversal')\n",
    "plt.plot(cumret_po, color='red', label='po')\n",
    "plt.plot(cumret_combine_v_r, color='darkgreen', label='value + reversal')\n",
    "plt.plot(cumret_combine_v_m, color='darkorange', label='value + po')\n",
    "plt.plot(cumret_combine_r_m, color='darkorchid', label='ma + reversal')\n",
    "plt.plot(cumret_combine, color='darkred', label='combine')\n",
    "plt.plot(cumret_bh, color='black', label='B&H')\n",
    "plt.legend()\n",
    "plt.show()"
   ]
  },
  {
   "cell_type": "code",
   "execution_count": 132,
   "id": "f11845ea",
   "metadata": {
    "ExecuteTime": {
     "end_time": "2022-12-04T01:13:09.928972Z",
     "start_time": "2022-12-04T01:13:09.910201Z"
    }
   },
   "outputs": [
    {
     "data": {
      "text/plain": [
       "array([2.18131789])"
      ]
     },
     "execution_count": 132,
     "metadata": {},
     "output_type": "execute_result"
    }
   ],
   "source": [
    "cumret_value.values[-1]"
   ]
  },
  {
   "cell_type": "code",
   "execution_count": 133,
   "id": "f7ea0a48",
   "metadata": {
    "ExecuteTime": {
     "end_time": "2022-12-04T01:13:16.042556Z",
     "start_time": "2022-12-04T01:13:16.032717Z"
    }
   },
   "outputs": [
    {
     "data": {
      "text/plain": [
       "array([2.14434425])"
      ]
     },
     "execution_count": 133,
     "metadata": {},
     "output_type": "execute_result"
    }
   ],
   "source": [
    "cumret_reversal.values[-1]"
   ]
  },
  {
   "cell_type": "code",
   "execution_count": 134,
   "id": "394ab3b3",
   "metadata": {
    "ExecuteTime": {
     "end_time": "2022-12-04T01:13:22.861532Z",
     "start_time": "2022-12-04T01:13:22.851825Z"
    }
   },
   "outputs": [
    {
     "data": {
      "text/plain": [
       "array([2.6474009])"
      ]
     },
     "execution_count": 134,
     "metadata": {},
     "output_type": "execute_result"
    }
   ],
   "source": [
    "cumret_po.values[-1]"
   ]
  },
  {
   "cell_type": "code",
   "execution_count": 135,
   "id": "923f3f37",
   "metadata": {
    "ExecuteTime": {
     "end_time": "2022-12-04T01:13:28.079845Z",
     "start_time": "2022-12-04T01:13:28.065708Z"
    }
   },
   "outputs": [
    {
     "data": {
      "text/plain": [
       "array([2.1705939])"
      ]
     },
     "execution_count": 135,
     "metadata": {},
     "output_type": "execute_result"
    }
   ],
   "source": [
    "cumret_combine_v_r.values[-1]"
   ]
  },
  {
   "cell_type": "code",
   "execution_count": 136,
   "id": "efc14c85",
   "metadata": {
    "ExecuteTime": {
     "end_time": "2022-12-04T01:13:34.670752Z",
     "start_time": "2022-12-04T01:13:34.662002Z"
    }
   },
   "outputs": [
    {
     "data": {
      "text/plain": [
       "array([4.48085126])"
      ]
     },
     "execution_count": 136,
     "metadata": {},
     "output_type": "execute_result"
    }
   ],
   "source": [
    "cumret_combine_v_m.values[-1]"
   ]
  },
  {
   "cell_type": "code",
   "execution_count": 137,
   "id": "63e45efd",
   "metadata": {
    "ExecuteTime": {
     "end_time": "2022-12-04T01:13:40.657309Z",
     "start_time": "2022-12-04T01:13:40.648099Z"
    }
   },
   "outputs": [
    {
     "data": {
      "text/plain": [
       "array([6.83509805])"
      ]
     },
     "execution_count": 137,
     "metadata": {},
     "output_type": "execute_result"
    }
   ],
   "source": [
    "cumret_combine_r_m.values[-1]"
   ]
  },
  {
   "cell_type": "code",
   "execution_count": 138,
   "id": "46f73017",
   "metadata": {
    "ExecuteTime": {
     "end_time": "2022-12-04T01:13:47.074540Z",
     "start_time": "2022-12-04T01:13:47.065500Z"
    }
   },
   "outputs": [
    {
     "data": {
      "text/plain": [
       "array([9.00699919])"
      ]
     },
     "execution_count": 138,
     "metadata": {},
     "output_type": "execute_result"
    }
   ],
   "source": [
    "cumret_combine.values[-1]"
   ]
  },
  {
   "cell_type": "code",
   "execution_count": 139,
   "id": "ba920330",
   "metadata": {
    "ExecuteTime": {
     "end_time": "2022-12-04T01:26:44.804948Z",
     "start_time": "2022-12-04T01:26:44.796589Z"
    }
   },
   "outputs": [
    {
     "data": {
      "text/plain": [
       "3.045874241720909"
      ]
     },
     "execution_count": 139,
     "metadata": {},
     "output_type": "execute_result"
    }
   ],
   "source": [
    "cumret_bh.values[-1]"
   ]
  }
 ],
 "metadata": {
  "kernelspec": {
   "display_name": "Python 3 (ipykernel)",
   "language": "python",
   "name": "python3"
  },
  "language_info": {
   "codemirror_mode": {
    "name": "ipython",
    "version": 3
   },
   "file_extension": ".py",
   "mimetype": "text/x-python",
   "name": "python",
   "nbconvert_exporter": "python",
   "pygments_lexer": "ipython3",
   "version": "3.9.15"
  },
  "latex_envs": {
   "LaTeX_envs_menu_present": true,
   "autoclose": false,
   "autocomplete": true,
   "bibliofile": "biblio.bib",
   "cite_by": "apalike",
   "current_citInitial": 1,
   "eqLabelWithNumbers": true,
   "eqNumInitial": 1,
   "hotkeys": {
    "equation": "Ctrl-E",
    "itemize": "Ctrl-I"
   },
   "labels_anchors": false,
   "latex_user_defs": false,
   "report_style_numbering": false,
   "user_envs_cfg": false
  },
  "vscode": {
   "interpreter": {
    "hash": "3db7ff85d78c366871a547d2a47941f8496fb4ab4ddfd0b689db80ca535d4bda"
   }
  }
 },
 "nbformat": 4,
 "nbformat_minor": 5
}
