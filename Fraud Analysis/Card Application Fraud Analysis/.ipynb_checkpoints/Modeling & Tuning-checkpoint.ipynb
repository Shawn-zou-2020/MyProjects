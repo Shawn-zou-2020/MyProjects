{
 "cells": [
  {
   "cell_type": "code",
   "execution_count": null,
   "id": "747009a3",
   "metadata": {},
   "outputs": [],
   "source": [
    "from timeit import default_timer as time\n",
    "import pandas as pd\n",
    "import scipy.stats\n",
    "import numpy as np\n",
    "import datetime as dt\n",
    "import seaborn as sns\n",
    "import matplotlib.pyplot as plt\n",
    "import calendar\n",
    "\n",
    "import gc\n",
    "from sklearn.ensemble import RandomForestClassifier\n",
    "from mlxtend.feature_selection import SequentialFeatureSelector as SFS\n",
    "\n",
    "from sklearn.model_selection import train_test_split\n",
    "from sklearn.tree import DecisionTreeClassifier\n",
    "from sklearn.linear_model import LogisticRegression\n",
    "from sklearn.ensemble import RandomForestClassifier\n",
    "from sklearn.neural_network import MLPClassifier\n",
    "from sklearn.neighbors import KNeighborsClassifier\n",
    "from sklearn.ensemble import AdaBoostClassifier\n",
    "import lightgbm as lgb\n",
    "\n",
    "%matplotlib inline\n",
    "plt.rcParams.update({'figure.figsize':(12,6)})\n",
    "plt.rcParams.update({'font.size':20})"
   ]
  },
  {
   "cell_type": "markdown",
   "id": "b0596ef6",
   "metadata": {},
   "source": [
    "# Modeling"
   ]
  },
  {
   "cell_type": "code",
   "execution_count": null,
   "id": "e2ba9588",
   "metadata": {
    "ExecuteTime": {
     "start_time": "2022-12-29T00:07:34.061Z"
    },
    "scrolled": false
   },
   "outputs": [],
   "source": [
    "%%time\n",
    "vars = pd.read_csv('https://raw.githubusercontent.com/Shawn-zou-2020/MyProjects/main/Fraud%20Analysis/Card%20Application%20Fraud%20Analysis/Raw%20Data/vars_final.csv')"
   ]
  },
  {
   "cell_type": "code",
   "execution_count": null,
   "id": "aca48a33",
   "metadata": {
    "ExecuteTime": {
     "start_time": "2022-12-29T00:07:34.062Z"
    }
   },
   "outputs": [],
   "source": [
    "# use this to cap variables. For some problems it helps\n",
    "Clip = 10"
   ]
  },
  {
   "cell_type": "code",
   "execution_count": null,
   "id": "18488f64",
   "metadata": {
    "ExecuteTime": {
     "start_time": "2022-12-29T00:07:34.063Z"
    }
   },
   "outputs": [],
   "source": [
    "vars=vars.rename(columns={'fraud_label':'Fraud'})"
   ]
  },
  {
   "cell_type": "code",
   "execution_count": null,
   "id": "6a01da4d",
   "metadata": {
    "ExecuteTime": {
     "start_time": "2022-12-29T00:07:34.064Z"
    }
   },
   "outputs": [],
   "source": [
    "vars['Fraud'].sum()"
   ]
  },
  {
   "cell_type": "code",
   "execution_count": null,
   "id": "d41206a2",
   "metadata": {
    "ExecuteTime": {
     "start_time": "2022-12-29T00:07:34.065Z"
    },
    "scrolled": false
   },
   "outputs": [],
   "source": [
    "vars.head(10)"
   ]
  },
  {
   "cell_type": "code",
   "execution_count": null,
   "id": "1ec9bc3e",
   "metadata": {
    "ExecuteTime": {
     "start_time": "2022-12-29T00:07:34.065Z"
    }
   },
   "outputs": [],
   "source": [
    "vars.shape"
   ]
  },
  {
   "cell_type": "code",
   "execution_count": null,
   "id": "673d2dd3",
   "metadata": {
    "ExecuteTime": {
     "start_time": "2022-12-29T00:07:34.066Z"
    },
    "scrolled": false
   },
   "outputs": [],
   "source": [
    "vars.describe()"
   ]
  },
  {
   "cell_type": "code",
   "execution_count": null,
   "id": "486bcabf",
   "metadata": {
    "ExecuteTime": {
     "start_time": "2022-12-29T00:07:34.067Z"
    }
   },
   "outputs": [],
   "source": [
    "record_save = vars['record']\n",
    "Y_save = pd.DataFrame(vars.loc[:,'Fraud'])\n",
    "Y_save.head()"
   ]
  },
  {
   "cell_type": "code",
   "execution_count": null,
   "id": "2b0c14b5",
   "metadata": {
    "ExecuteTime": {
     "start_time": "2022-12-29T00:07:34.069Z"
    }
   },
   "outputs": [],
   "source": [
    "top30=['fulladdress_count_30',\n",
    " 'ssn_lastname_count_30',\n",
    " 'homephone_count_3',\n",
    " 'ssn_count_14',\n",
    " 'ssn_dob_count_0_by_30',\n",
    " 'ssn_count_0_by_14',\n",
    " 'fulladdress_homephone_count_7',\n",
    " 'name_dob_count_14',\n",
    " 'ssn_dob_count_7',\n",
    " 'fulladdress_homephone_count_30',\n",
    " 'ssn_count_0_by_30',\n",
    " 'ssn_count_30',\n",
    " 'ssn_count_7',\n",
    " 'ssn_dob_count_14',\n",
    " 'ssn_lastname_count_14',\n",
    " 'ssn_name_count_0_by_14',\n",
    " 'ssn_name_dob_count_0_by_14',\n",
    " 'ssn_name_dob_count_14',\n",
    " 'name_dob_count_0_by_14',\n",
    " 'ssn_dob_count_30',\n",
    " 'name_dob_count_7',\n",
    " 'ssn_name_dob_count_0_by_30',\n",
    " 'name_dob_count_0_by_30',\n",
    " 'ssn_dob_count_0_by_14',\n",
    " 'ssn_firstname_count_7',\n",
    " 'ssn_name_dob_count_30',\n",
    " 'ssn_firstname_count_14',\n",
    " 'ssn_lastname_count_0_by_14',\n",
    " 'ssn_firstname_count_0_by_14',\n",
    " 'name_dob_count_30']\n",
    "top30"
   ]
  },
  {
   "cell_type": "code",
   "execution_count": null,
   "id": "f56b2ab1",
   "metadata": {
    "ExecuteTime": {
     "start_time": "2022-12-29T00:07:34.071Z"
    }
   },
   "outputs": [],
   "source": [
    "vars=vars.filter(top30[:25])\n",
    "vars.shape"
   ]
  },
  {
   "cell_type": "markdown",
   "id": "48806d2f",
   "metadata": {
    "heading_collapsed": true
   },
   "source": [
    "## Scale and truncate field values"
   ]
  },
  {
   "cell_type": "code",
   "execution_count": null,
   "id": "90cee9c1",
   "metadata": {
    "ExecuteTime": {
     "start_time": "2022-12-29T00:07:34.079Z"
    },
    "hidden": true
   },
   "outputs": [],
   "source": [
    "X_no_scaling = vars\n",
    "X_no_scaling.describe()"
   ]
  },
  {
   "cell_type": "code",
   "execution_count": null,
   "id": "18fcbdd6",
   "metadata": {
    "ExecuteTime": {
     "start_time": "2022-12-29T00:07:34.080Z"
    },
    "hidden": true,
    "scrolled": true
   },
   "outputs": [],
   "source": [
    "X = (X_no_scaling - X_no_scaling.mean()) / X_no_scaling.std()"
   ]
  },
  {
   "cell_type": "code",
   "execution_count": null,
   "id": "9c286449",
   "metadata": {
    "ExecuteTime": {
     "start_time": "2022-12-29T00:07:34.080Z"
    },
    "hidden": true,
    "scrolled": true
   },
   "outputs": [],
   "source": [
    "# push in any outlier values\n",
    "cols = X.columns\n",
    "X.loc[:,cols] = X[cols].clip(upper=Clip)\n",
    "X.loc[:,cols] = X[cols].clip(lower=-1*Clip)\n",
    "# X = (X_no_scaling - X_no_scaling.mean()) / X_no_scaling.std()\n",
    "X.describe()"
   ]
  },
  {
   "cell_type": "code",
   "execution_count": null,
   "id": "02e9033e",
   "metadata": {
    "ExecuteTime": {
     "start_time": "2022-12-29T00:07:34.081Z"
    },
    "hidden": true,
    "scrolled": true
   },
   "outputs": [],
   "source": [
    "# separate data into modeling (traintest) and out of time\n",
    "X_trntst = X[0:833507]\n",
    "Y_trntst = Y_save[0:833507]\n",
    "X_oot = X[833507:]\n",
    "Y_oot = Y_save[833507:]"
   ]
  },
  {
   "cell_type": "code",
   "execution_count": null,
   "id": "d1f25147",
   "metadata": {
    "ExecuteTime": {
     "start_time": "2022-12-29T00:07:34.082Z"
    },
    "hidden": true
   },
   "outputs": [],
   "source": [
    "# %%time\n",
    "# # Logistic regression\n",
    "\n",
    "# m_i=30**(min(nitermax+1,6))\n",
    "\n",
    "# for niter in range(nitermax):    \n",
    "#     X_trn, X_tst, Y_trn, Y_tst = train_test_split(X_trntst, Y_trntst, test_size = .3)\n",
    "\n",
    "#     model = LogisticRegression(max_iter=100, penalty='none', solver='saga')\n",
    " \n",
    "#     X_oot = X_oot_orig.copy()\n",
    "#     X_trn_save = X_trn.copy()\n",
    "#     Y_trn_save = Y_trn.copy()\n",
    "\n",
    "#     model.fit(X_trn, Y_trn.values.ravel())   \n",
    "\n",
    "#     predictions = model.predict_proba(X_trn_save)[:,1]\n",
    "#     X_trn['predicted'] = predictions\n",
    "#     X_trn['Fraud'] = Y_trn_save['Fraud']\n",
    "#     topRows = int(round(X_trn.shape[0]*0.03))\n",
    "#     temp = X_trn.sort_values('predicted',ascending=False).head(topRows)\n",
    "#     needed = temp.loc[:,'Fraud']\n",
    "#     FDR3.loc[niter, 'trn'] = sum(needed)/sum(X_trn.loc[:,'Fraud'])\n",
    "\n",
    "#     predictions = model.predict_proba(X_tst)[:,1]\n",
    "#     X_tst['predicted']=predictions\n",
    "#     X_tst['Fraud'] = Y_tst['Fraud']\n",
    "#     topRows = int(round(X_tst.shape[0]*0.03))\n",
    "#     temp = X_tst.sort_values('predicted',ascending=False).head(topRows)\n",
    "#     needed = temp.loc[:,'Fraud']\n",
    "#     FDR3.loc[niter, 'tst'] = sum(needed)/sum(X_tst.loc[:,'Fraud'])\n",
    "\n",
    "#     predictions = model.predict_proba(X_oot)[:,1]\n",
    "#     X_oot['predicted']=predictions\n",
    "#     X_oot['Fraud'] = Y_oot['Fraud']\n",
    "#     topRows = int(round(X_oot.shape[0]*0.03))\n",
    "#     temp = X_oot.sort_values('predicted',ascending=False).head(topRows)\n",
    "#     needed = temp.loc[:,'Fraud']\n",
    "#     FDR3.loc[niter, 'oot'] = sum(needed)/sum(X_oot.loc[:,'Fraud'])\n",
    "#     print(niter, FDR3.loc[niter, 'trn'],FDR3.loc[niter, 'tst'],FDR3.loc[niter, 'oot'])\n",
    "    \n",
    "# print(FDR3.mean())"
   ]
  },
  {
   "cell_type": "markdown",
   "id": "2a36d155",
   "metadata": {},
   "source": [
    "## Models. You can comment out any of these cells and just explore one model type. You can also just rerun that single cell multiple times as you explore different model hyperparameters."
   ]
  },
  {
   "cell_type": "code",
   "execution_count": null,
   "id": "ad4ed8b8",
   "metadata": {
    "ExecuteTime": {
     "start_time": "2022-12-29T00:07:34.091Z"
    },
    "scrolled": false
   },
   "outputs": [],
   "source": [
    "# %%time\n",
    "# # Single DT\n",
    "\n",
    "# niter = 0\n",
    "# nitermax = 5\n",
    "# FDR3 = pd.DataFrame(np.zeros((nitermax,3)), columns=('trn', 'tst', 'oot'))\n",
    "# X_oot_orig = X_oot.copy()\n",
    "# pd.options.mode.chained_assignment = None  # default='warn'\n",
    "\n",
    "# for niter in range(nitermax):    \n",
    "#     X_trn, X_tst, Y_trn, Y_tst = train_test_split(X_trntst, Y_trntst, test_size = .3)\n",
    "\n",
    "#     model = DecisionTreeClassifier(splitter='best',max_depth=30)\n",
    " \n",
    "#     X_oot = X_oot_orig.copy()\n",
    "#     X_trn_save = X_trn.copy()\n",
    "#     Y_trn_save = Y_trn.copy()\n",
    "\n",
    "#     model.fit(X_trn, Y_trn.values.ravel())   \n",
    "\n",
    "#     predictions = model.predict_proba(X_trn_save)[:,1]\n",
    "#     X_trn['predicted'] = predictions\n",
    "#     X_trn['Fraud'] = Y_trn_save['Fraud']\n",
    "#     topRows = int(round(X_trn.shape[0]*0.03))\n",
    "#     temp = X_trn.sort_values('predicted',ascending=False).head(topRows)\n",
    "#     needed = temp.loc[:,'Fraud']\n",
    "#     FDR3.loc[niter, 'trn'] = sum(needed)/sum(X_trn.loc[:,'Fraud'])\n",
    "\n",
    "#     predictions = model.predict_proba(X_tst)[:,1]\n",
    "#     X_tst['predicted']=predictions\n",
    "#     X_tst['Fraud'] = Y_tst['Fraud']\n",
    "#     topRows = int(round(X_tst.shape[0]*0.03))\n",
    "#     temp = X_tst.sort_values('predicted',ascending=False).head(topRows)\n",
    "#     needed = temp.loc[:,'Fraud']\n",
    "#     FDR3.loc[niter, 'tst'] = sum(needed)/sum(X_tst.loc[:,'Fraud'])\n",
    "\n",
    "#     predictions = model.predict_proba(X_oot)[:,1]\n",
    "#     X_oot['predicted']=predictions\n",
    "#     X_oot['Fraud'] = Y_oot['Fraud']\n",
    "#     topRows = int(round(X_oot.shape[0]*0.03))\n",
    "#     temp = X_oot.sort_values('predicted',ascending=False).head(topRows)\n",
    "#     needed = temp.loc[:,'Fraud']\n",
    "#     FDR3.loc[niter, 'oot'] = sum(needed)/sum(X_oot.loc[:,'Fraud'])\n",
    "#     print(niter, FDR3.loc[niter, 'trn'],FDR3.loc[niter, 'tst'],FDR3.loc[niter, 'oot'])\n",
    "    \n",
    "# print(FDR3.mean())"
   ]
  },
  {
   "cell_type": "code",
   "execution_count": null,
   "id": "f623cec7",
   "metadata": {
    "ExecuteTime": {
     "start_time": "2022-12-29T00:07:34.092Z"
    },
    "scrolled": false
   },
   "outputs": [],
   "source": [
    "# %%time\n",
    "# # RF\n",
    "\n",
    "# niter = 0\n",
    "# nitermax = 1\n",
    "# FDR3 = pd.DataFrame(np.zeros((nitermax,3)), columns=('trn', 'tst', 'oot'))\n",
    "# X_oot_orig = X_oot.copy()\n",
    "# pd.options.mode.chained_assignment = None  # default='warn'\n",
    "\n",
    "# for niter in range(nitermax):    \n",
    "#     X_trn, X_tst, Y_trn, Y_tst = train_test_split(X_trntst, Y_trntst, test_size = .3)\n",
    "\n",
    "#     model = RandomForestClassifier(n_estimators=150, max_depth=30, min_samples_leaf=30, min_samples_split=500)\n",
    "#     X_oot = X_oot_orig.copy()\n",
    "#     X_trn_save = X_trn.copy()\n",
    "#     Y_trn_save = Y_trn.copy()\n",
    "\n",
    "#     model.fit(X_trn, Y_trn.values.ravel())   \n",
    "\n",
    "#     predictions = model.predict_proba(X_trn_save)[:,1]\n",
    "#     X_trn['predicted'] = predictions\n",
    "#     X_trn['Fraud'] = Y_trn_save['Fraud']\n",
    "#     topRows = int(round(X_trn.shape[0]*0.03))\n",
    "#     temp = X_trn.sort_values('predicted',ascending=False).head(topRows)\n",
    "#     needed = temp.loc[:,'Fraud']\n",
    "#     FDR3.loc[niter, 'trn'] = sum(needed)/sum(X_trn.loc[:,'Fraud'])\n",
    "\n",
    "#     predictions = model.predict_proba(X_tst)[:,1]\n",
    "#     X_tst['predicted']=predictions\n",
    "#     X_tst['Fraud'] = Y_tst['Fraud']\n",
    "#     topRows = int(round(X_tst.shape[0]*0.03))\n",
    "#     temp = X_tst.sort_values('predicted',ascending=False).head(topRows)\n",
    "#     needed = temp.loc[:,'Fraud']\n",
    "#     FDR3.loc[niter, 'tst'] = sum(needed)/sum(X_tst.loc[:,'Fraud'])\n",
    "\n",
    "#     predictions = model.predict_proba(X_oot)[:,1]\n",
    "#     X_oot['predicted']=predictions\n",
    "#     X_oot['Fraud'] = Y_oot['Fraud']\n",
    "#     topRows = int(round(X_oot.shape[0]*0.03))\n",
    "#     temp = X_oot.sort_values('predicted',ascending=False).head(topRows)\n",
    "#     needed = temp.loc[:,'Fraud']\n",
    "#     FDR3.loc[niter, 'oot'] = sum(needed)/sum(X_oot.loc[:,'Fraud'])\n",
    "#     print(niter, FDR3.loc[niter, 'trn'],FDR3.loc[niter, 'tst'],FDR3.loc[niter, 'oot'])\n",
    "    \n",
    "# print(FDR3.mean())"
   ]
  },
  {
   "cell_type": "code",
   "execution_count": null,
   "id": "ace1e56f",
   "metadata": {
    "ExecuteTime": {
     "start_time": "2022-12-29T00:07:34.093Z"
    },
    "scrolled": false
   },
   "outputs": [],
   "source": [
    "# %%time\n",
    "# # BT\n",
    "\n",
    "# niter = 0\n",
    "# nitermax = 5\n",
    "# FDR3 = pd.DataFrame(np.zeros((nitermax,3)), columns=('trn', 'tst', 'oot'))\n",
    "# X_oot_orig = X_oot.copy()\n",
    "# pd.options.mode.chained_assignment = None  # default='warn'\n",
    "\n",
    "\n",
    "# for niter in range(nitermax):    \n",
    "#     X_trn, X_tst, Y_trn, Y_tst = train_test_split(X_trntst, Y_trntst, test_size = .3)\n",
    "    \n",
    "#     model = lgb.LGBMClassifier(max_depth=5,learning_rate=0.01,n_estimators=500)\n",
    "\n",
    "#     X_oot = X_oot_orig.copy()\n",
    "#     X_trn_save = X_trn.copy()\n",
    "#     Y_trn_save = Y_trn.copy()\n",
    "\n",
    "#     model.fit(X_trn, Y_trn.values.ravel())   \n",
    "\n",
    "#     predictions = model.predict_proba(X_trn_save)[:,1]\n",
    "#     X_trn['predicted'] = predictions\n",
    "#     X_trn['Fraud'] = Y_trn_save['Fraud']\n",
    "#     topRows = int(round(X_trn.shape[0]*pp))\n",
    "#     temp = X_trn.sort_values('predicted',ascending=False).head(topRows)\n",
    "#     needed = temp.loc[:,'Fraud']\n",
    "#     FDR3.loc[niter, 'trn'] = sum(needed)/sum(X_trn.loc[:,'Fraud'])\n",
    "\n",
    "#     predictions = model.predict_proba(X_tst)[:,1]\n",
    "#     X_tst['predicted']=predictions\n",
    "#     X_tst['Fraud'] = Y_tst['Fraud']\n",
    "#     topRows = int(round(X_tst.shape[0]*pp))\n",
    "#     temp = X_tst.sort_values('predicted',ascending=False).head(topRows)\n",
    "#     needed = temp.loc[:,'Fraud']\n",
    "#     FDR3.loc[niter, 'tst'] = sum(needed)/sum(X_tst.loc[:,'Fraud'])\n",
    "\n",
    "#     predictions = model.predict_proba(X_oot)[:,1]\n",
    "#     X_oot['predicted']=predictions\n",
    "#     X_oot['Fraud'] = Y_oot['Fraud']\n",
    "#     topRows = int(round(X_oot.shape[0]*pp))\n",
    "#     temp = X_oot.sort_values('predicted',ascending=False).head(topRows)\n",
    "#     needed = temp.loc[:,'Fraud']\n",
    "#     FDR3.loc[niter, 'oot'] = sum(needed)/sum(X_oot.loc[:,'Fraud'])\n",
    "#     print(niter, FDR3.loc[niter, 'trn'],FDR3.loc[niter, 'tst'],FDR3.loc[niter, 'oot'])\n",
    "    \n",
    "# print(FDR3.mean())"
   ]
  },
  {
   "cell_type": "code",
   "execution_count": null,
   "id": "ba564855",
   "metadata": {
    "ExecuteTime": {
     "start_time": "2022-12-29T00:07:34.094Z"
    }
   },
   "outputs": [],
   "source": [
    "%%time\n",
    "# BT\n",
    "\n",
    "niter = 0\n",
    "nitermax = 1\n",
    "Fraud = pd.DataFrame(np.zeros((nitermax,3)), columns=('trn', 'tst', 'oot'))\n",
    "X_oot_orig = X_oot.copy()\n",
    "pd.options.mode.chained_assignment = None  # default='warn'\n",
    "\n",
    "pp=[x * 0.01 for x in range(1, 6)]\n",
    "\n",
    "for i in pp:\n",
    "    for niter in range(nitermax):    \n",
    "        X_trn, X_tst, Y_trn, Y_tst = train_test_split(X_trntst, Y_trntst, test_size = .3)\n",
    "\n",
    "        model = lgb.LGBMClassifier(max_depth=3,learning_rate=0.1,n_estimators=300)\n",
    "\n",
    "        X_oot = X_oot_orig.copy()\n",
    "        X_trn_save = X_trn.copy()\n",
    "        Y_trn_save = Y_trn.copy()\n",
    "\n",
    "        model.fit(X_trn, Y_trn.values.ravel())   \n",
    "\n",
    "        predictions = model.predict_proba(X_trn_save)[:,1]\n",
    "        X_trn['predicted'] = predictions\n",
    "        X_trn['Fraud'] = Y_trn_save['Fraud']\n",
    "        topRows = int(round(X_trn.shape[0]*i))\n",
    "        temp = X_trn.sort_values('predicted',ascending=False).head(topRows)\n",
    "        needed = temp.loc[:,'Fraud']\n",
    "        Fraud.loc[niter, 'trn'] = sum(needed)\n",
    "\n",
    "        predictions = model.predict_proba(X_tst)[:,1]\n",
    "        X_tst['predicted']=predictions\n",
    "        X_tst['Fraud'] = Y_tst['Fraud']\n",
    "        topRows = int(round(X_tst.shape[0]*i))\n",
    "        temp = X_tst.sort_values('predicted',ascending=False).head(topRows)\n",
    "        needed = temp.loc[:,'Fraud']\n",
    "        Fraud.loc[niter, 'tst'] = sum(needed)\n",
    "\n",
    "        predictions = model.predict_proba(X_oot)[:,1]\n",
    "        X_oot['predicted']=predictions\n",
    "        X_oot['Fraud'] = Y_oot['Fraud']\n",
    "        topRows = int(round(X_oot.shape[0]*i))\n",
    "        temp = X_oot.sort_values('predicted',ascending=False).head(topRows)\n",
    "        needed = temp.loc[:,'Fraud']\n",
    "        Fraud.loc[niter, 'oot'] = sum(needed)\n",
    "        \n",
    "    print(i,Fraud.mean())"
   ]
  },
  {
   "cell_type": "code",
   "execution_count": null,
   "id": "d54f3752",
   "metadata": {
    "ExecuteTime": {
     "start_time": "2022-12-29T00:07:34.094Z"
    }
   },
   "outputs": [],
   "source": [
    "# %%time\n",
    "# # BT\n",
    "\n",
    "# niter = 0\n",
    "# nitermax = 5\n",
    "# Fraud = pd.DataFrame(np.zeros((nitermax,3)), columns=('trn', 'tst', 'oot'))\n",
    "# X_oot_orig = X_oot.copy()\n",
    "# pd.options.mode.chained_assignment = None  # default='warn'\n",
    "\n",
    "# pp=[x * 0.01 for x in range(1, 21)]\n",
    "\n",
    "# for i in pp:\n",
    "#     for niter in range(nitermax):    \n",
    "#         X_trn, X_tst, Y_trn, Y_tst = train_test_split(X_trntst, Y_trntst, test_size = .3)\n",
    "\n",
    "#         model = lgb.LGBMClassifier(max_depth=5,learning_rate=0.01,n_estimators=500)\n",
    "\n",
    "#         X_oot = X_oot_orig.copy()\n",
    "#         X_trn_save = X_trn.copy()\n",
    "#         Y_trn_save = Y_trn.copy()\n",
    "\n",
    "#         model.fit(X_trn, Y_trn.values.ravel())   \n",
    "\n",
    "#         predictions = model.predict_proba(X_trn_save)[:,1]\n",
    "#         X_trn['predicted'] = predictions\n",
    "#         X_trn['Fraud'] = Y_trn_save['Fraud']\n",
    "#         topRows = int(round(X_trn.shape[0]*i))\n",
    "#         temp = X_trn.sort_values('predicted',ascending=False).head(topRows)\n",
    "#         needed = temp.loc[:,'Fraud']\n",
    "#         Fraud.loc[niter, 'trn'] = sum(needed)\n",
    "\n",
    "#         predictions = model.predict_proba(X_tst)[:,1]\n",
    "#         X_tst['predicted']=predictions\n",
    "#         X_tst['Fraud'] = Y_tst['Fraud']\n",
    "#         topRows = int(round(X_tst.shape[0]*i))\n",
    "#         temp = X_tst.sort_values('predicted',ascending=False).head(topRows)\n",
    "#         needed = temp.loc[:,'Fraud']\n",
    "#         Fraud.loc[niter, 'tst'] = sum(needed)\n",
    "\n",
    "#         predictions = model.predict_proba(X_oot)[:,1]\n",
    "#         X_oot['predicted']=predictions\n",
    "#         X_oot['Fraud'] = Y_oot['Fraud']\n",
    "#         topRows = int(round(X_oot.shape[0]*i))\n",
    "#         temp = X_oot.sort_values('predicted',ascending=False).head(topRows)\n",
    "#         needed = temp.loc[:,'Fraud']\n",
    "#         Fraud.loc[niter, 'oot'] = sum(needed)\n",
    "        \n",
    "    \n",
    "# print(i,Fraud.mean())"
   ]
  },
  {
   "cell_type": "code",
   "execution_count": null,
   "id": "d1e61bf4",
   "metadata": {
    "ExecuteTime": {
     "start_time": "2022-12-29T00:07:34.095Z"
    },
    "scrolled": false
   },
   "outputs": [],
   "source": [
    "# %%time\n",
    "# # NN\n",
    "\n",
    "\n",
    "# niter = 0\n",
    "# nitermax = 6\n",
    "# FDR3 = pd.DataFrame(np.zeros((nitermax,3)), columns=('trn', 'tst', 'oot'))\n",
    "# X_oot_orig = X_oot.copy()\n",
    "# pd.options.mode.chained_assignment = None  # default='warn'\n",
    "\n",
    "\n",
    "# for niter in range(nitermax):    \n",
    "#     X_trn, X_tst, Y_trn, Y_tst = train_test_split(X_trntst, Y_trntst, test_size = .3)\n",
    "\n",
    "#     model = MLPClassifier(learning_rate='adaptive', hidden_layer_sizes=(20,20), activation='logistic')\n",
    "\n",
    "#     X_oot = X_oot_orig.copy()\n",
    "#     X_trn_save = X_trn.copy()\n",
    "#     Y_trn_save = Y_trn.copy()\n",
    "\n",
    "#     model.fit(X_trn, Y_trn.values.ravel())   \n",
    "\n",
    "#     predictions = model.predict_proba(X_trn_save)[:,1]\n",
    "#     X_trn['predicted'] = predictions\n",
    "#     X_trn['Fraud'] = Y_trn_save['Fraud']\n",
    "#     topRows = int(round(X_trn.shape[0]*0.03))\n",
    "#     temp = X_trn.sort_values('predicted',ascending=False).head(topRows)\n",
    "#     needed = temp.loc[:,'Fraud']\n",
    "#     FDR3.loc[niter, 'trn'] = sum(needed)/sum(X_trn.loc[:,'Fraud'])\n",
    "\n",
    "#     predictions = model.predict_proba(X_tst)[:,1]\n",
    "#     X_tst['predicted']=predictions\n",
    "#     X_tst['Fraud'] = Y_tst['Fraud']\n",
    "#     topRows = int(round(X_tst.shape[0]*0.03))\n",
    "#     temp = X_tst.sort_values('predicted',ascending=False).head(topRows)\n",
    "#     needed = temp.loc[:,'Fraud']\n",
    "#     FDR3.loc[niter, 'tst'] = sum(needed)/sum(X_tst.loc[:,'Fraud'])\n",
    "\n",
    "#     predictions = model.predict_proba(X_oot)[:,1]\n",
    "#     X_oot['predicted']=predictions\n",
    "#     X_oot['Fraud'] = Y_oot['Fraud']\n",
    "#     topRows = int(round(X_oot.shape[0]*0.03))\n",
    "#     temp = X_oot.sort_values('predicted',ascending=False).head(topRows)\n",
    "#     needed = temp.loc[:,'Fraud']\n",
    "#     FDR3.loc[niter, 'oot'] = sum(needed)/sum(X_oot.loc[:,'Fraud'])\n",
    "#     print(niter, FDR3.loc[niter, 'trn'],FDR3.loc[niter, 'tst'],FDR3.loc[niter, 'oot'])\n",
    "    \n",
    "# print(FDR3.mean())"
   ]
  },
  {
   "cell_type": "code",
   "execution_count": null,
   "id": "e408d170",
   "metadata": {
    "ExecuteTime": {
     "start_time": "2022-12-29T00:07:34.098Z"
    }
   },
   "outputs": [],
   "source": [
    "# %%time\n",
    "# # ADB\n",
    "\n",
    "\n",
    "# niter = 0\n",
    "# nitermax = 5\n",
    "# FDR3 = pd.DataFrame(np.zeros((nitermax,3)), columns=('trn', 'tst', 'oot'))\n",
    "# X_oot_orig = X_oot.copy()\n",
    "# pd.options.mode.chained_assignment = None  # default='warn'\n",
    "\n",
    "\n",
    "# for niter in range(nitermax):    \n",
    "#     X_trn, X_tst, Y_trn, Y_tst = train_test_split(X_trntst, Y_trntst, test_size = .3)\n",
    "\n",
    "#     model = AdaBoostClassifier(n_estimators=200,learning_rate=1, algorithm='SAMME.R')\n",
    "\n",
    "#     X_oot = X_oot_orig.copy()\n",
    "#     X_trn_save = X_trn.copy()\n",
    "#     Y_trn_save = Y_trn.copy()\n",
    "\n",
    "#     model.fit(X_trn, Y_trn.values.ravel())   \n",
    "\n",
    "#     predictions = model.predict_proba(X_trn_save)[:,1]\n",
    "#     X_trn['predicted'] = predictions\n",
    "#     X_trn['Fraud'] = Y_trn_save['Fraud']\n",
    "#     topRows = int(round(X_trn.shape[0]*0.03))\n",
    "#     temp = X_trn.sort_values('predicted',ascending=False).head(topRows)\n",
    "#     needed = temp.loc[:,'Fraud']\n",
    "#     FDR3.loc[niter, 'trn'] = sum(needed)/sum(X_trn.loc[:,'Fraud'])\n",
    "\n",
    "#     predictions = model.predict_proba(X_tst)[:,1]\n",
    "#     X_tst['predicted']=predictions\n",
    "#     X_tst['Fraud'] = Y_tst['Fraud']\n",
    "#     topRows = int(round(X_tst.shape[0]*0.03))\n",
    "#     temp = X_tst.sort_values('predicted',ascending=False).head(topRows)\n",
    "#     needed = temp.loc[:,'Fraud']\n",
    "#     FDR3.loc[niter, 'tst'] = sum(needed)/sum(X_tst.loc[:,'Fraud'])\n",
    "\n",
    "#     predictions = model.predict_proba(X_oot)[:,1]\n",
    "#     X_oot['predicted']=predictions\n",
    "#     X_oot['Fraud'] = Y_oot['Fraud']\n",
    "#     topRows = int(round(X_oot.shape[0]*0.03))\n",
    "#     temp = X_oot.sort_values('predicted',ascending=False).head(topRows)\n",
    "#     needed = temp.loc[:,'Fraud']\n",
    "#     FDR3.loc[niter, 'oot'] = sum(needed)/sum(X_oot.loc[:,'Fraud'])\n",
    "#     print(niter, FDR3.loc[niter, 'trn'],FDR3.loc[niter, 'tst'],FDR3.loc[niter, 'oot'])\n",
    "    \n",
    "# print(FDR3.mean())"
   ]
  },
  {
   "cell_type": "markdown",
   "id": "b093b22b",
   "metadata": {},
   "source": [
    "# Hyperparameter Tuning"
   ]
  },
  {
   "cell_type": "code",
   "execution_count": null,
   "id": "1a603911",
   "metadata": {
    "ExecuteTime": {
     "start_time": "2022-12-29T00:07:34.103Z"
    }
   },
   "outputs": [],
   "source": [
    "%%time\n",
    "# BT\n",
    "\n",
    "niter = 0\n",
    "nitermax = 1\n",
    "Fraud = pd.DataFrame(np.zeros((nitermax,3)), columns=('trn', 'tst', 'oot'))\n",
    "X_oot_orig = X_oot.copy()\n",
    "pd.options.mode.chained_assignment = None  # default='warn'\n",
    "\n",
    "pp=[x * 0.01 for x in range(1, 21)]\n",
    "\n",
    "\n",
    "\n",
    "X_trn, X_tst, Y_trn, Y_tst = train_test_split(X_trntst, Y_trntst, test_size = .25)\n",
    "\n",
    "model = lgb.LGBMClassifier(max_depth=5,learning_rate=0.1,n_estimators=500)\n",
    "\n",
    "X_oot = X_oot_orig.copy()\n",
    "X_trn_save = X_trn.copy()\n",
    "Y_trn_save = Y_trn.copy()\n",
    "\n",
    "model.fit(X_trn, Y_trn.values.ravel())   \n",
    "\n",
    "predictions = model.predict_proba(X_trn_save)[:,1]\n",
    "X_trn['predicted'] = predictions\n",
    "X_trn['Fraud'] = Y_trn_save['Fraud']\n",
    "\n",
    "\n",
    "predictions = model.predict_proba(X_tst)[:,1]\n",
    "X_tst['predicted']=predictions\n",
    "X_tst['Fraud'] = Y_tst['Fraud']\n",
    "\n",
    "predictions = model.predict_proba(X_oot)[:,1]\n",
    "X_oot['predicted']=predictions\n",
    "X_oot['Fraud'] = Y_oot['Fraud']\n",
    "    \n",
    "    \n",
    "for i in pp:\n",
    "    topRows = int(round(X_trn.shape[0]*i))\n",
    "    temp = X_trn.sort_values('predicted',ascending=False).head(topRows)\n",
    "    needed = temp.loc[:,'Fraud']\n",
    "    Fraud.loc[i, 'trn'] = sum(needed)\n",
    "    \n",
    "    topRows = int(round(X_tst.shape[0]*i))\n",
    "    temp = X_tst.sort_values('predicted',ascending=False).head(topRows)\n",
    "    needed = temp.loc[:,'Fraud']\n",
    "    Fraud.loc[i, 'tst'] = sum(needed)\n",
    "    \n",
    "    topRows = int(round(X_oot.shape[0]*i))\n",
    "    temp = X_oot.sort_values('predicted',ascending=False).head(topRows)\n",
    "    needed = temp.loc[:,'Fraud']\n",
    "    Fraud.loc[i, 'oot'] = sum(needed)\n",
    "\n",
    "Fraud"
   ]
  },
  {
   "cell_type": "code",
   "execution_count": null,
   "id": "8270dd49",
   "metadata": {
    "ExecuteTime": {
     "start_time": "2022-12-29T00:07:34.104Z"
    }
   },
   "outputs": [],
   "source": [
    "sum(X_trn['Fraud'])"
   ]
  },
  {
   "cell_type": "code",
   "execution_count": null,
   "id": "2db88e80",
   "metadata": {
    "ExecuteTime": {
     "start_time": "2022-12-29T00:07:34.104Z"
    }
   },
   "outputs": [],
   "source": [
    "sum(X_tst['Fraud'])"
   ]
  },
  {
   "cell_type": "code",
   "execution_count": null,
   "id": "b9fa1253",
   "metadata": {
    "ExecuteTime": {
     "start_time": "2022-12-29T00:07:34.105Z"
    }
   },
   "outputs": [],
   "source": [
    "sum(X_oot['Fraud'])"
   ]
  },
  {
   "cell_type": "code",
   "execution_count": null,
   "id": "b71a18f2",
   "metadata": {},
   "outputs": [],
   "source": []
  }
 ],
 "metadata": {
  "kernelspec": {
   "display_name": "Python 3 (ipykernel)",
   "language": "python",
   "name": "python3"
  },
  "language_info": {
   "codemirror_mode": {
    "name": "ipython",
    "version": 3
   },
   "file_extension": ".py",
   "mimetype": "text/x-python",
   "name": "python",
   "nbconvert_exporter": "python",
   "pygments_lexer": "ipython3",
   "version": "3.9.15"
  },
  "latex_envs": {
   "LaTeX_envs_menu_present": true,
   "autoclose": false,
   "autocomplete": true,
   "bibliofile": "biblio.bib",
   "cite_by": "apalike",
   "current_citInitial": 1,
   "eqLabelWithNumbers": true,
   "eqNumInitial": 1,
   "hotkeys": {
    "equation": "Ctrl-E",
    "itemize": "Ctrl-I"
   },
   "labels_anchors": false,
   "latex_user_defs": false,
   "report_style_numbering": false,
   "user_envs_cfg": false
  }
 },
 "nbformat": 4,
 "nbformat_minor": 5
}
