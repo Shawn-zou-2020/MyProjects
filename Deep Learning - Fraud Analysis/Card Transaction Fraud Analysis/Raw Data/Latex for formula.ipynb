{
 "cells": [
  {
   "cell_type": "markdown",
   "id": "027bedbd",
   "metadata": {},
   "source": [
    "$\\text{Frequency} = \\frac{\\text{count of entity e over past n days}}{n} \\quad\\text{for n $\\in$ {0,1,3,7,14,30}}$"
   ]
  },
  {
   "cell_type": "markdown",
   "id": "d58ef907",
   "metadata": {},
   "source": [
    "$\\text{Maximum indicatior} = \\max(\\text{Frequency for each entity over n days})\\quad\\text{for n $\\in$ {0,1,3,7,14,30}}$"
   ]
  },
  {
   "cell_type": "markdown",
   "id": "1b4f6ff2",
   "metadata": {},
   "source": [
    "$\\text{Amount variables}  = \\frac{f(Amount) \\quad\\text{at entity e over past n days}}{n}\\quad\\text{for n $\\in$ {0,1,3,7,14,30},}$\n"
   ]
  },
  {
   "cell_type": "markdown",
   "id": "67c94317",
   "metadata": {},
   "source": [
    "$\\text{for } f(Amount) \\in \\text{{avg(Amount), max(Amount), median(Amount), sum(Amount)} &} \\\\\n",
    "\\qquad\\text{{Actual/avg(Amount), Actual/max(Amount), Actual/median(Amount), Actual/sum(Amount)}}$"
   ]
  },
  {
   "cell_type": "markdown",
   "id": "ad98fd13",
   "metadata": {},
   "source": [
    "$\\text{Velocity change variables}_{(x,y)} = \\frac{\\text{count of entity e over past x days}}{\\text{average count of entity e over past y days}} \\quad\\text{for x $\\in$ {0,1},} \\quad \\text{for y $\\in$ {3,7,14,30}}$"
   ]
  }
 ],
 "metadata": {
  "kernelspec": {
   "display_name": "Python 3",
   "language": "python",
   "name": "python3"
  },
  "language_info": {
   "codemirror_mode": {
    "name": "ipython",
    "version": 3
   },
   "file_extension": ".py",
   "mimetype": "text/x-python",
   "name": "python",
   "nbconvert_exporter": "python",
   "pygments_lexer": "ipython3",
   "version": "3.8.8"
  }
 },
 "nbformat": 4,
 "nbformat_minor": 5
}
