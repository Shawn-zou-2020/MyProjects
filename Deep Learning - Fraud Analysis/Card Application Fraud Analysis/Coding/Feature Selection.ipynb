{
 "cells": [
  {
   "cell_type": "code",
   "execution_count": null,
   "id": "f9290b3a",
   "metadata": {},
   "outputs": [],
   "source": [
    "from timeit import default_timer as time\n",
    "import pandas as pd\n",
    "import scipy.stats\n",
    "import numpy as np\n",
    "import datetime as dt\n",
    "import seaborn as sns\n",
    "import matplotlib.pyplot as plt\n",
    "import calendar\n",
    "\n",
    "import gc\n",
    "from sklearn.ensemble import RandomForestClassifier\n",
    "from mlxtend.feature_selection import SequentialFeatureSelector as SFS\n",
    "\n",
    "from sklearn.model_selection import train_test_split\n",
    "from sklearn.tree import DecisionTreeClassifier\n",
    "from sklearn.linear_model import LogisticRegression\n",
    "from sklearn.ensemble import RandomForestClassifier\n",
    "from sklearn.neural_network import MLPClassifier\n",
    "from sklearn.neighbors import KNeighborsClassifier\n",
    "from sklearn.ensemble import AdaBoostClassifier\n",
    "import lightgbm as lgb\n",
    "\n",
    "%matplotlib inline\n",
    "plt.rcParams.update({'figure.figsize':(12,6)})\n",
    "plt.rcParams.update({'font.size':20})"
   ]
  },
  {
   "cell_type": "markdown",
   "id": "5983fcb1",
   "metadata": {},
   "source": [
    "# Feaeture Selection"
   ]
  },
  {
   "cell_type": "code",
   "execution_count": 99,
   "id": "cee13273",
   "metadata": {
    "ExecuteTime": {
     "end_time": "2022-12-29T00:20:52.770194Z",
     "start_time": "2022-12-29T00:20:52.758293Z"
    }
   },
   "outputs": [],
   "source": [
    "# set some parameters\n",
    "num_files = 1\n",
    "num_filter = 100\n",
    "num_wrapper = 30\n",
    "# keep balance = 0 when num_files > 1 until I figure out this bug. Maybe somebody else can figure it out.\n",
    "balance = 0\n",
    "detect_rate = .03\n",
    "index_name = 'record'\n",
    "y_name = 'fraud_label'\n",
    "good_label = 0\n",
    "bad_label = 1"
   ]
  },
  {
   "cell_type": "code",
   "execution_count": null,
   "id": "36a5000d",
   "metadata": {
    "ExecuteTime": {
     "start_time": "2022-12-29T00:07:34.020Z"
    }
   },
   "outputs": [],
   "source": [
    "%%time\n",
    "file_name = \"vars2.csv\"\n",
    "df = pd.read_csv(file_name)\n",
    "df = df[df[index_name] <= 833508]\n",
    "df = df[df[index_name] >= 38512]\n",
    "df['RANDOM'] = np.random.ranf(len(df)) \n",
    "goods = df[df[y_name] == good_label]\n",
    "bads = df[df[y_name] == bad_label]\n",
    "del df # don't need this file anymore\n",
    "num_goods = len(goods)\n",
    "num_bads = len(bads)\n",
    "num_vars = len(bads.columns)-2\n",
    "df_sampled = pd.concat([goods,bads])\n",
    "df_sampled.set_index(index_name, inplace=True)\n",
    "df_sampled.sort_index(inplace=True)\n",
    "Y = pd.DataFrame(df_sampled[y_name], index=df_sampled.index)\n",
    "filter_score = pd.DataFrame(np.zeros((num_vars+1,2)))\n",
    "filter_score.columns = ['variable','score']   \n",
    "j = 0\n",
    "for column in df_sampled:\n",
    "    filter_score.loc[j,'variable'] = column\n",
    "    filter_score.loc[j,'score'] = sps.ks_2samp(goods[column],bads[column])[0]\n",
    "    j = j+1\n",
    "    \n",
    "filter_score.sort_values(by=['score'], ascending=False, inplace=True)\n",
    "vars_keep = list(filter_score['variable'][1:num_filter+1])\n",
    "print(filter_score.head(num_filter))\n",
    "df_top = df_sampled.filter(vars_keep, axis=1)\n",
    "del goods # delete these before starting the next file, if any\n",
    "del bads\n",
    "gc.collect()"
   ]
  },
  {
   "cell_type": "code",
   "execution_count": null,
   "id": "32e0a39c",
   "metadata": {
    "ExecuteTime": {
     "start_time": "2022-12-29T00:07:34.022Z"
    }
   },
   "outputs": [],
   "source": [
    "filter_score.sort_values(by=['score'], ascending=False, inplace=True)"
   ]
  },
  {
   "cell_type": "code",
   "execution_count": null,
   "id": "73433b09",
   "metadata": {
    "ExecuteTime": {
     "start_time": "2022-12-29T00:07:34.023Z"
    }
   },
   "outputs": [],
   "source": [
    "filter_score.head(30)"
   ]
  },
  {
   "cell_type": "code",
   "execution_count": null,
   "id": "813bd602",
   "metadata": {
    "ExecuteTime": {
     "start_time": "2022-12-29T00:07:34.025Z"
    }
   },
   "outputs": [],
   "source": [
    "filter_score.tail(10)"
   ]
  },
  {
   "cell_type": "code",
   "execution_count": null,
   "id": "11bcc477",
   "metadata": {
    "ExecuteTime": {
     "start_time": "2022-12-29T00:07:34.027Z"
    }
   },
   "outputs": [],
   "source": [
    "filter_score.shape"
   ]
  },
  {
   "cell_type": "code",
   "execution_count": null,
   "id": "0fcdd0c4",
   "metadata": {
    "ExecuteTime": {
     "start_time": "2022-12-29T00:07:34.028Z"
    }
   },
   "outputs": [],
   "source": [
    "filter_score.sort_values(by=['score'], ascending=False, inplace=True)\n",
    "vars_keep = list(filter_score['variable'][num_files:num_filter+3])\n",
    "print(1,' vars_keep:',vars_keep)"
   ]
  },
  {
   "cell_type": "code",
   "execution_count": null,
   "id": "cf18f3b9",
   "metadata": {
    "ExecuteTime": {
     "start_time": "2022-12-29T00:07:34.029Z"
    }
   },
   "outputs": [],
   "source": [
    "df_keep = df_top.filter(vars_keep, axis=1)\n",
    "df_keep.head()"
   ]
  },
  {
   "cell_type": "code",
   "execution_count": null,
   "id": "fab493e9",
   "metadata": {
    "ExecuteTime": {
     "start_time": "2022-12-29T00:07:34.029Z"
    }
   },
   "outputs": [],
   "source": [
    "df_keep.shape"
   ]
  },
  {
   "cell_type": "code",
   "execution_count": null,
   "id": "6ac42e74",
   "metadata": {
    "ExecuteTime": {
     "start_time": "2022-12-29T00:07:34.030Z"
    }
   },
   "outputs": [],
   "source": [
    "Y.head()"
   ]
  },
  {
   "cell_type": "code",
   "execution_count": null,
   "id": "76788e9e",
   "metadata": {
    "ExecuteTime": {
     "start_time": "2022-12-29T00:07:34.031Z"
    }
   },
   "outputs": [],
   "source": [
    "Y = Y.values\n",
    "X = df_keep"
   ]
  },
  {
   "cell_type": "code",
   "execution_count": null,
   "id": "11e4aa18",
   "metadata": {
    "ExecuteTime": {
     "start_time": "2022-12-29T00:07:34.033Z"
    }
   },
   "outputs": [],
   "source": [
    "print('time to here:', dt.datetime.now() - start_time)"
   ]
  },
  {
   "cell_type": "code",
   "execution_count": null,
   "id": "cd3bc50a",
   "metadata": {
    "ExecuteTime": {
     "start_time": "2022-12-29T00:07:34.034Z"
    }
   },
   "outputs": [],
   "source": [
    "print(X.shape,Y.shape)"
   ]
  },
  {
   "cell_type": "code",
   "execution_count": null,
   "id": "49836202",
   "metadata": {
    "ExecuteTime": {
     "start_time": "2022-12-29T00:07:34.036Z"
    }
   },
   "outputs": [],
   "source": [
    "def fdr(classifier, x, y, cutoff=detect_rate):\n",
    "# Calculates FDR score for the given classifier on dataset x and y with cutoff value\n",
    "# get the probability list from the given classifier\n",
    "    return fdr_prob(y, classifier.predict_proba(x), cutoff)\n",
    "def fdr_prob(y, y_prob, cutoff=detect_rate):\n",
    "    if len(y_prob.shape) != 1:    # sometimes the proba list can contain many columns, one for each category\n",
    "        y_prob = y_prob[:, -1:]   # only the last one (fraud_label==1) is used here.\n",
    "    num_fraud = len(y[y == 1])    # count the total nunber of frauds   \n",
    "# sort the proba list from high to low while retain the true (not predicted) fraud label\n",
    "    sorted_prob = np.asarray(sorted(zip(y_prob, y), key=lambda x: x[0], reverse=True))\n",
    "    cutoff_bin = sorted_prob[0:int(len(y) * cutoff), 1:]  # 3% cutoff\n",
    "# return the FDR score (#fraud_in_cutoff / #total_fraud)\n",
    "    return len(cutoff_bin[cutoff_bin == 1]) / num_fraud "
   ]
  },
  {
   "cell_type": "code",
   "execution_count": null,
   "id": "d59a0376",
   "metadata": {
    "ExecuteTime": {
     "start_time": "2022-12-29T00:07:34.036Z"
    }
   },
   "outputs": [],
   "source": [
    "%%time\n",
    "# If you're doing forward selection it's enough to stop at num_wrapper variables. \n",
    "# If you're doing backward selection you need to go through all the variables to get \n",
    "# a sorted list of num_wrapper variables.\n",
    "nfeatures = len(X.columns)\n",
    "clf = RandomForestClassifier(n_estimators=5, n_jobs=-1) # simple, fast nonlinear model for the wrapper\n",
    "sfs = SFS(clf,k_features=num_wrapper,forward=True,verbose=2,scoring=fdr,cv=2,n_jobs=-1) # forward selection\n",
    "# sfs = SFS(clf,k_features=1,forward=False,verbose=2,scoring=fdr,cv=2,n_jobs=-1) # backward selection\n",
    "sfs.fit(X,Y)"
   ]
  },
  {
   "cell_type": "code",
   "execution_count": null,
   "id": "cd6f4f44",
   "metadata": {
    "ExecuteTime": {
     "start_time": "2022-12-29T00:07:34.037Z"
    }
   },
   "outputs": [],
   "source": [
    "from mlxtend.plotting import plot_sequential_feature_selection as plot_sfs\n",
    "fig1 = plot_sfs(sfs.get_metric_dict(),kind='std_dev', figsize=(15, 6))\n",
    "plt.xticks(np.arange(0, len(X.columns), step=5))\n",
    "plt.ylim([0., .7])\n",
    "plt.xlim(0,num_wrapper)\n",
    "plt.title('Stepwise Selection')\n",
    "plt.grid()\n",
    "plt.savefig('FS_fdr.png')\n",
    "plt.show()"
   ]
  },
  {
   "cell_type": "code",
   "execution_count": null,
   "id": "c451db1e",
   "metadata": {
    "ExecuteTime": {
     "start_time": "2022-12-29T00:07:34.038Z"
    }
   },
   "outputs": [],
   "source": [
    "vars_FS = pd.DataFrame.from_dict(sfs.get_metric_dict()).T\n",
    "vars_FS"
   ]
  },
  {
   "cell_type": "code",
   "execution_count": null,
   "id": "fde6b2e0",
   "metadata": {
    "ExecuteTime": {
     "start_time": "2022-12-29T00:07:34.039Z"
    }
   },
   "outputs": [],
   "source": [
    "vars_final = list(vars_FS.loc[num_wrapper, 'feature_names'])\n",
    "vars_final"
   ]
  },
  {
   "cell_type": "code",
   "execution_count": null,
   "id": "b347b826",
   "metadata": {
    "ExecuteTime": {
     "start_time": "2022-12-29T00:07:34.041Z"
    }
   },
   "outputs": [],
   "source": [
    "vars_FS.to_csv('VarsFS.csv', index=False)"
   ]
  },
  {
   "cell_type": "code",
   "execution_count": null,
   "id": "6007ac86",
   "metadata": {
    "ExecuteTime": {
     "start_time": "2022-12-29T00:07:34.044Z"
    }
   },
   "outputs": [],
   "source": [
    "sfs.subsets_"
   ]
  },
  {
   "cell_type": "code",
   "execution_count": null,
   "id": "fc2a2245",
   "metadata": {
    "ExecuteTime": {
     "start_time": "2022-12-29T00:07:34.046Z"
    }
   },
   "outputs": [],
   "source": [
    "vars_final.append(index_name)\n",
    "vars_fin mal.append(y_name)\n",
    "vars_final"
   ]
  },
  {
   "cell_type": "code",
   "execution_count": null,
   "id": "fd56bb7e",
   "metadata": {
    "ExecuteTime": {
     "start_time": "2022-12-29T00:07:34.048Z"
    }
   },
   "outputs": [],
   "source": [
    "X_final = df_keep.filter(vars_final, axis=1)\n",
    "X_final.shape"
   ]
  },
  {
   "cell_type": "code",
   "execution_count": null,
   "id": "f9b4e763",
   "metadata": {
    "ExecuteTime": {
     "start_time": "2022-12-29T00:07:34.050Z"
    }
   },
   "outputs": [],
   "source": [
    "X_final.to_csv('vars_final.csv', index=False)"
   ]
  },
  {
   "cell_type": "code",
   "execution_count": null,
   "id": "88f10182",
   "metadata": {
    "ExecuteTime": {
     "start_time": "2022-12-29T00:07:34.051Z"
    }
   },
   "outputs": [],
   "source": [
    "print('time to here:', dt.datetime.now() - start_time)"
   ]
  },
  {
   "cell_type": "code",
   "execution_count": null,
   "id": "ca13719b",
   "metadata": {
    "ExecuteTime": {
     "start_time": "2022-12-29T00:07:34.052Z"
    }
   },
   "outputs": [],
   "source": [
    "top30=[]\n",
    "for i in vars_FS['feature_names']:\n",
    "    for j in list(i):\n",
    "        if j in top30:\n",
    "            continue\n",
    "        else:\n",
    "            top30.append(j)\n",
    "top30"
   ]
  },
  {
   "cell_type": "code",
   "execution_count": null,
   "id": "a211fe97",
   "metadata": {
    "ExecuteTime": {
     "start_time": "2022-12-29T00:07:34.053Z"
    }
   },
   "outputs": [],
   "source": [
    "import pandas as pd\n",
    "file_name = \"vars2.csv\"\n",
    "df = pd.read_csv(file_name)\n",
    "df.shape"
   ]
  },
  {
   "cell_type": "code",
   "execution_count": null,
   "id": "2d3c41ec",
   "metadata": {
    "ExecuteTime": {
     "start_time": "2022-12-29T00:07:34.053Z"
    }
   },
   "outputs": [],
   "source": [
    "vars_final=['fulladdress_count_30',\n",
    " 'ssn_lastname_count_30',\n",
    " 'homephone_count_3',\n",
    " 'ssn_count_14',\n",
    " 'ssn_dob_count_0_by_30',\n",
    " 'ssn_count_0_by_14',\n",
    " 'fulladdress_homephone_count_7',\n",
    " 'name_dob_count_14',\n",
    " 'ssn_dob_count_7',\n",
    " 'fulladdress_homephone_count_30',\n",
    " 'ssn_count_0_by_30',\n",
    " 'ssn_count_30',\n",
    " 'ssn_count_7',\n",
    " 'ssn_dob_count_14',\n",
    " 'ssn_lastname_count_14',\n",
    " 'ssn_name_count_0_by_14',\n",
    " 'ssn_name_dob_count_0_by_14',\n",
    " 'ssn_name_dob_count_14',\n",
    " 'name_dob_count_0_by_14',\n",
    " 'ssn_dob_count_30',\n",
    " 'name_dob_count_7',\n",
    " 'ssn_name_dob_count_0_by_30',\n",
    " 'name_dob_count_0_by_30',\n",
    " 'ssn_dob_count_0_by_14',\n",
    " 'ssn_firstname_count_7',\n",
    " 'ssn_name_dob_count_30',\n",
    " 'ssn_firstname_count_14',\n",
    " 'ssn_lastname_count_0_by_14',\n",
    " 'ssn_firstname_count_0_by_14',\n",
    " 'name_dob_count_30',\n",
    " 'record',\n",
    " 'fraud_label']"
   ]
  },
  {
   "cell_type": "code",
   "execution_count": null,
   "id": "9d0c0a12",
   "metadata": {
    "ExecuteTime": {
     "start_time": "2022-12-29T00:07:34.054Z"
    }
   },
   "outputs": [],
   "source": [
    "X_final = df.filter(vars_final, axis=1)\n",
    "X_final.shape"
   ]
  },
  {
   "cell_type": "code",
   "execution_count": null,
   "id": "2af64202",
   "metadata": {
    "ExecuteTime": {
     "start_time": "2022-12-29T00:07:34.054Z"
    }
   },
   "outputs": [],
   "source": [
    "X_final.to_csv('vars_final.csv', index=False)"
   ]
  },
  {
   "cell_type": "code",
   "execution_count": null,
   "id": "b084f342",
   "metadata": {},
   "outputs": [],
   "source": [
    "# set some parameters\n",
    "num_files = 1\n",
    "num_filter = 100\n",
    "num_wrapper = 30\n",
    "# keep balance = 0 when num_files > 1 until I figure out this bug. Maybe somebody else can figure it out.\n",
    "balance = 0\n",
    "detect_rate = .03\n",
    "index_name = 'record'\n",
    "y_name = 'fraud_label'\n",
    "good_label = 0\n",
    "bad_label = 1\n",
    "\n",
    "%%time\n",
    "file_name = \"vars2.csv\"\n",
    "df = pd.read_csv(file_name)\n",
    "df = df[df[index_name] <= 833508]\n",
    "df = df[df[index_name] >= 38512]\n",
    "df['RANDOM'] = np.random.ranf(len(df)) \n",
    "goods = df[df[y_name] == good_label]\n",
    "bads = df[df[y_name] == bad_label]\n",
    "del df # don't need this file anymore\n",
    "num_goods = len(goods)\n",
    "num_bads = len(bads)\n",
    "num_vars = len(bads.columns)-2\n",
    "df_sampled = pd.concat([goods,bads])\n",
    "df_sampled.set_index(index_name, inplace=True)\n",
    "df_sampled.sort_index(inplace=True)\n",
    "Y = pd.DataFrame(df_sampled[y_name], index=df_sampled.index)\n",
    "filter_score = pd.DataFrame(np.zeros((num_vars+1,2)))\n",
    "filter_score.columns = ['variable','score']   \n",
    "j = 0\n",
    "for column in df_sampled:\n",
    "    filter_score.loc[j,'variable'] = column\n",
    "    filter_score.loc[j,'score'] = sps.ks_2samp(goods[column],bads[column])[0]\n",
    "    j = j+1\n",
    "    \n",
    "filter_score.sort_values(by=['score'], ascending=False, inplace=True)\n",
    "vars_keep = list(filter_score['variable'][1:num_filter+1])\n",
    "print(filter_score.head(num_filter))\n",
    "df_top = df_sampled.filter(vars_keep, axis=1)\n",
    "del goods # delete these before starting the next file, if any\n",
    "del bads\n",
    "gc.collect()\n",
    "\n",
    "filter_score.sort_values(by=['score'], ascending=False, inplace=True)\n",
    "\n",
    "filter_score.head(30)\n",
    "\n",
    "filter_score.tail(10)\n",
    "\n",
    "filter_score.shape\n",
    "\n",
    "filter_score.sort_values(by=['score'], ascending=False, inplace=True)\n",
    "vars_keep = list(filter_score['variable'][num_files:num_filter+3])\n",
    "print(1,' vars_keep:',vars_keep)\n",
    "\n",
    "df_keep = df_top.filter(vars_keep, axis=1)\n",
    "df_keep.head()\n",
    "\n",
    "df_keep.shape\n",
    "\n",
    "Y.head()\n",
    "\n",
    "Y = Y.values\n",
    "X = df_keep\n",
    "\n",
    "print('time to here:', dt.datetime.now() - start_time)\n",
    "\n",
    "print(X.shape,Y.shape)\n",
    "\n",
    "def fdr(classifier, x, y, cutoff=detect_rate):\n",
    "# Calculates FDR score for the given classifier on dataset x and y with cutoff value\n",
    "# get the probability list from the given classifier\n",
    "    return fdr_prob(y, classifier.predict_proba(x), cutoff)\n",
    "def fdr_prob(y, y_prob, cutoff=detect_rate):\n",
    "    if len(y_prob.shape) != 1:    # sometimes the proba list can contain many columns, one for each category\n",
    "        y_prob = y_prob[:, -1:]   # only the last one (fraud_label==1) is used here.\n",
    "    num_fraud = len(y[y == 1])    # count the total nunber of frauds   \n",
    "# sort the proba list from high to low while retain the true (not predicted) fraud label\n",
    "    sorted_prob = np.asarray(sorted(zip(y_prob, y), key=lambda x: x[0], reverse=True))\n",
    "    cutoff_bin = sorted_prob[0:int(len(y) * cutoff), 1:]  # 3% cutoff\n",
    "# return the FDR score (#fraud_in_cutoff / #total_fraud)\n",
    "    return len(cutoff_bin[cutoff_bin == 1]) / num_fraud \n",
    "\n",
    "%%time\n",
    "# If you're doing forward selection it's enough to stop at num_wrapper variables. \n",
    "# If you're doing backward selection you need to go through all the variables to get \n",
    "# a sorted list of num_wrapper variables.\n",
    "nfeatures = len(X.columns)\n",
    "clf = RandomForestClassifier(n_estimators=5, n_jobs=-1) # simple, fast nonlinear model for the wrapper\n",
    "sfs = SFS(clf,k_features=num_wrapper,forward=True,verbose=2,scoring=fdr,cv=2,n_jobs=-1) # forward selection\n",
    "# sfs = SFS(clf,k_features=1,forward=False,verbose=2,scoring=fdr,cv=2,n_jobs=-1) # backward selection\n",
    "sfs.fit(X,Y)\n",
    "\n",
    "from mlxtend.plotting import plot_sequential_feature_selection as plot_sfs\n",
    "fig1 = plot_sfs(sfs.get_metric_dict(),kind='std_dev', figsize=(15, 6))\n",
    "plt.xticks(np.arange(0, len(X.columns), step=5))\n",
    "plt.ylim([0., .7])\n",
    "plt.xlim(0,num_wrapper)\n",
    "plt.title('Stepwise Selection')\n",
    "plt.grid()\n",
    "plt.savefig('FS_fdr.png')\n",
    "plt.show()\n",
    "\n",
    "vars_FS = pd.DataFrame.from_dict(sfs.get_metric_dict()).T\n",
    "vars_FS\n",
    "\n",
    "vars_final = list(vars_FS.loc[num_wrapper, 'feature_names'])\n",
    "vars_final\n",
    "\n",
    "vars_FS.to_csv('VarsFS.csv', index=False)\n",
    "\n",
    "sfs.subsets_\n",
    "\n",
    "vars_final.append(index_name)\n",
    "vars_fin mal.append(y_name)\n",
    "vars_final\n",
    "\n",
    "X_final = df_keep.filter(vars_final, axis=1)\n",
    "X_final.shape\n",
    "\n",
    "X_final.to_csv('vars_final.csv', index=False)\n",
    "\n",
    "print('time to here:', dt.datetime.now() - start_time)\n",
    "\n",
    "top30=[]\n",
    "for i in vars_FS['feature_names']:\n",
    "    for j in list(i):\n",
    "        if j in top30:\n",
    "            continue\n",
    "        else:\n",
    "            top30.append(j)\n",
    "top30\n",
    "\n",
    "import pandas as pd\n",
    "file_name = \"vars2.csv\"\n",
    "df = pd.read_csv(file_name)\n",
    "df.shape\n",
    "\n",
    "vars_final=['fulladdress_count_30',\n",
    " 'ssn_lastname_count_30',\n",
    " 'homephone_count_3',\n",
    " 'ssn_count_14',\n",
    " 'ssn_dob_count_0_by_30',\n",
    " 'ssn_count_0_by_14',\n",
    " 'fulladdress_homephone_count_7',\n",
    " 'name_dob_count_14',\n",
    " 'ssn_dob_count_7',\n",
    " 'fulladdress_homephone_count_30',\n",
    " 'ssn_count_0_by_30',\n",
    " 'ssn_count_30',\n",
    " 'ssn_count_7',\n",
    " 'ssn_dob_count_14',\n",
    " 'ssn_lastname_count_14',\n",
    " 'ssn_name_count_0_by_14',\n",
    " 'ssn_name_dob_count_0_by_14',\n",
    " 'ssn_name_dob_count_14',\n",
    " 'name_dob_count_0_by_14',\n",
    " 'ssn_dob_count_30',\n",
    " 'name_dob_count_7',\n",
    " 'ssn_name_dob_count_0_by_30',\n",
    " 'name_dob_count_0_by_30',\n",
    " 'ssn_dob_count_0_by_14',\n",
    " 'ssn_firstname_count_7',\n",
    " 'ssn_name_dob_count_30',\n",
    " 'ssn_firstname_count_14',\n",
    " 'ssn_lastname_count_0_by_14',\n",
    " 'ssn_firstname_count_0_by_14',\n",
    " 'name_dob_count_30',\n",
    " 'record',\n",
    " 'fraud_label']\n",
    "\n",
    "X_final = df.filter(vars_final, axis=1)\n",
    "X_final.shape\n",
    "\n",
    "X_final.to_csv('vars_final.csv', index=False)"
   ]
  }
 ],
 "metadata": {
  "kernelspec": {
   "display_name": "Python 3 (ipykernel)",
   "language": "python",
   "name": "python3"
  },
  "language_info": {
   "codemirror_mode": {
    "name": "ipython",
    "version": 3
   },
   "file_extension": ".py",
   "mimetype": "text/x-python",
   "name": "python",
   "nbconvert_exporter": "python",
   "pygments_lexer": "ipython3",
   "version": "3.9.15"
  },
  "latex_envs": {
   "LaTeX_envs_menu_present": true,
   "autoclose": false,
   "autocomplete": true,
   "bibliofile": "biblio.bib",
   "cite_by": "apalike",
   "current_citInitial": 1,
   "eqLabelWithNumbers": true,
   "eqNumInitial": 1,
   "hotkeys": {
    "equation": "Ctrl-E",
    "itemize": "Ctrl-I"
   },
   "labels_anchors": false,
   "latex_user_defs": false,
   "report_style_numbering": false,
   "user_envs_cfg": false
  }
 },
 "nbformat": 4,
 "nbformat_minor": 5
}
