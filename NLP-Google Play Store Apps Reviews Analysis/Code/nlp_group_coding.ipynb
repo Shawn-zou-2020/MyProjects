{
 "cells": [
  {
   "cell_type": "markdown",
   "metadata": {
    "id": "HSkP6_TfdN_K"
   },
   "source": [
    "# NLP Project"
   ]
  },
  {
   "cell_type": "code",
   "execution_count": 1,
   "metadata": {
    "colab": {
     "base_uri": "https://localhost:8080/"
    },
    "id": "XPkg60kok70t",
    "outputId": "e48e1377-2ba7-4259-c6f6-d8fad811220b"
   },
   "outputs": [],
   "source": [
    "# !rm -rf dso-560-nlp-group-project && git clone https://github.com/Shawn-zou-2020/NLP_Group_Project"
   ]
  },
  {
   "cell_type": "code",
   "execution_count": 2,
   "metadata": {
    "colab": {
     "base_uri": "https://localhost:8080/"
    },
    "id": "ekkce9Ehk79i",
    "outputId": "5a1985ae-0ead-467b-aca4-a9ad2eb06df0"
   },
   "outputs": [],
   "source": [
    "# %cd NLP_Group_Project"
   ]
  },
  {
   "cell_type": "code",
   "execution_count": 3,
   "metadata": {
    "colab": {
     "base_uri": "https://localhost:8080/"
    },
    "id": "EB20TJIBdwtA",
    "outputId": "e98bf0ef-0e21-4b33-c00f-28c8ed2e257d"
   },
   "outputs": [],
   "source": [
    "# Packages loading\n",
    "import pandas as pd\n",
    "import numpy as np\n",
    "import re\n",
    "import nltk\n",
    "# nltk.download('punkt')\n",
    "# nltk.download('averaged_perceptron_tagger')\n",
    "# nltk.download('wordnet')\n",
    "# nltk.download('stopwords')\n",
    "import string\n",
    "import math\n",
    "from sklearn.decomposition import NMF\n",
    "from nltk.corpus import wordnet\n",
    "from nltk.stem.porter import PorterStemmer\n",
    "from nltk.stem import WordNetLemmatizer\n",
    "from nltk.corpus import stopwords\n",
    "from sklearn.feature_extraction.text import CountVectorizer\n",
    "from collections import Counter\n",
    "from nltk.collocations import BigramCollocationFinder, BigramAssocMeasures\n",
    "from sklearn.feature_extraction.text import TfidfVectorizer\n",
    "from sklearn.metrics.pairwise import euclidean_distances\n",
    "from typing import List, Tuple"
   ]
  },
  {
   "cell_type": "markdown",
   "metadata": {
    "id": "LPNWciB3dx88"
   },
   "source": [
    "## Preprocessing"
   ]
  },
  {
   "cell_type": "code",
   "execution_count": 4,
   "metadata": {
    "colab": {
     "base_uri": "https://localhost:8080/",
     "height": 722
    },
    "id": "lGKJuuoQd2Un",
    "outputId": "82605447-5e7b-45b4-b33e-a7315996599c"
   },
   "outputs": [
    {
     "data": {
      "text/html": [
       "<div>\n",
       "<style scoped>\n",
       "    .dataframe tbody tr th:only-of-type {\n",
       "        vertical-align: middle;\n",
       "    }\n",
       "\n",
       "    .dataframe tbody tr th {\n",
       "        vertical-align: top;\n",
       "    }\n",
       "\n",
       "    .dataframe thead th {\n",
       "        text-align: right;\n",
       "    }\n",
       "</style>\n",
       "<table border=\"1\" class=\"dataframe\">\n",
       "  <thead>\n",
       "    <tr style=\"text-align: right;\">\n",
       "      <th></th>\n",
       "      <th>reviewId</th>\n",
       "      <th>userName</th>\n",
       "      <th>userImage</th>\n",
       "      <th>content</th>\n",
       "      <th>score</th>\n",
       "      <th>thumbsUpCount</th>\n",
       "      <th>reviewCreatedVersion</th>\n",
       "      <th>at</th>\n",
       "      <th>replyContent</th>\n",
       "      <th>repliedAt</th>\n",
       "      <th>sortOrder</th>\n",
       "      <th>appId</th>\n",
       "      <th>category</th>\n",
       "    </tr>\n",
       "  </thead>\n",
       "  <tbody>\n",
       "    <tr>\n",
       "      <th>0</th>\n",
       "      <td>gp:AOqpTOEc9ALwwQfB7YE_eHpPqLep3MNkpAoUUuFiVQd...</td>\n",
       "      <td>Shaikh Abdul</td>\n",
       "      <td>https://play-lh.googleusercontent.com/a-/AOh14...</td>\n",
       "      <td>Earlier it was used to be good but now it's be...</td>\n",
       "      <td>1</td>\n",
       "      <td>83</td>\n",
       "      <td>3.4.4</td>\n",
       "      <td>09-03-22 12:18</td>\n",
       "      <td>NaN</td>\n",
       "      <td>NaN</td>\n",
       "      <td>most_relevant</td>\n",
       "      <td>org.videolan.vlc</td>\n",
       "      <td>videoplayer</td>\n",
       "    </tr>\n",
       "    <tr>\n",
       "      <th>1</th>\n",
       "      <td>gp:AOqpTOEzDdiQFlyEkmbDuCHkDtgjNl4c4aBqsF2_LVq...</td>\n",
       "      <td>Prince Vasimalla</td>\n",
       "      <td>https://play-lh.googleusercontent.com/a-/AOh14...</td>\n",
       "      <td>This will be the best video player in Android ...</td>\n",
       "      <td>1</td>\n",
       "      <td>65</td>\n",
       "      <td>3.4.3</td>\n",
       "      <td>12-02-22 10:37</td>\n",
       "      <td>NaN</td>\n",
       "      <td>NaN</td>\n",
       "      <td>most_relevant</td>\n",
       "      <td>org.videolan.vlc</td>\n",
       "      <td>videoplayer</td>\n",
       "    </tr>\n",
       "    <tr>\n",
       "      <th>2</th>\n",
       "      <td>gp:AOqpTOFR_spoFuUlZGdZaY_Tvzsi0e3HX2-kpucJ2kD...</td>\n",
       "      <td>veerendra nayak</td>\n",
       "      <td>https://play-lh.googleusercontent.com/a-/AOh14...</td>\n",
       "      <td>Before it was perfectly stable now its all gon...</td>\n",
       "      <td>1</td>\n",
       "      <td>56</td>\n",
       "      <td>3.4.3</td>\n",
       "      <td>14-02-22 13:05</td>\n",
       "      <td>NaN</td>\n",
       "      <td>NaN</td>\n",
       "      <td>most_relevant</td>\n",
       "      <td>org.videolan.vlc</td>\n",
       "      <td>videoplayer</td>\n",
       "    </tr>\n",
       "    <tr>\n",
       "      <th>3</th>\n",
       "      <td>gp:AOqpTOEB4YUEpBLQAUYYMWqxOKsn9SGbFw4eEgpJXJo...</td>\n",
       "      <td>MR.FANTABULOUS</td>\n",
       "      <td>https://play-lh.googleusercontent.com/a-/AOh14...</td>\n",
       "      <td>It's was quite stable in its previous versions...</td>\n",
       "      <td>1</td>\n",
       "      <td>100</td>\n",
       "      <td>3.4.3</td>\n",
       "      <td>10-02-22 17:37</td>\n",
       "      <td>NaN</td>\n",
       "      <td>NaN</td>\n",
       "      <td>most_relevant</td>\n",
       "      <td>org.videolan.vlc</td>\n",
       "      <td>videoplayer</td>\n",
       "    </tr>\n",
       "    <tr>\n",
       "      <th>4</th>\n",
       "      <td>gp:AOqpTOEKUhJ_kfTeKMj2Hl5h4AKtUiWeedxaPgeKlfF...</td>\n",
       "      <td>Andy283</td>\n",
       "      <td>https://play-lh.googleusercontent.com/a-/AOh14...</td>\n",
       "      <td>*Resume function is not working. Every time I ...</td>\n",
       "      <td>1</td>\n",
       "      <td>227</td>\n",
       "      <td>3.4.3</td>\n",
       "      <td>29-01-22 18:32</td>\n",
       "      <td>NaN</td>\n",
       "      <td>NaN</td>\n",
       "      <td>most_relevant</td>\n",
       "      <td>org.videolan.vlc</td>\n",
       "      <td>videoplayer</td>\n",
       "    </tr>\n",
       "  </tbody>\n",
       "</table>\n",
       "</div>"
      ],
      "text/plain": [
       "                                            reviewId          userName  \\\n",
       "0  gp:AOqpTOEc9ALwwQfB7YE_eHpPqLep3MNkpAoUUuFiVQd...      Shaikh Abdul   \n",
       "1  gp:AOqpTOEzDdiQFlyEkmbDuCHkDtgjNl4c4aBqsF2_LVq...  Prince Vasimalla   \n",
       "2  gp:AOqpTOFR_spoFuUlZGdZaY_Tvzsi0e3HX2-kpucJ2kD...   veerendra nayak   \n",
       "3  gp:AOqpTOEB4YUEpBLQAUYYMWqxOKsn9SGbFw4eEgpJXJo...    MR.FANTABULOUS   \n",
       "4  gp:AOqpTOEKUhJ_kfTeKMj2Hl5h4AKtUiWeedxaPgeKlfF...           Andy283   \n",
       "\n",
       "                                           userImage  \\\n",
       "0  https://play-lh.googleusercontent.com/a-/AOh14...   \n",
       "1  https://play-lh.googleusercontent.com/a-/AOh14...   \n",
       "2  https://play-lh.googleusercontent.com/a-/AOh14...   \n",
       "3  https://play-lh.googleusercontent.com/a-/AOh14...   \n",
       "4  https://play-lh.googleusercontent.com/a-/AOh14...   \n",
       "\n",
       "                                             content  score  thumbsUpCount  \\\n",
       "0  Earlier it was used to be good but now it's be...      1             83   \n",
       "1  This will be the best video player in Android ...      1             65   \n",
       "2  Before it was perfectly stable now its all gon...      1             56   \n",
       "3  It's was quite stable in its previous versions...      1            100   \n",
       "4  *Resume function is not working. Every time I ...      1            227   \n",
       "\n",
       "  reviewCreatedVersion              at replyContent repliedAt      sortOrder  \\\n",
       "0                3.4.4  09-03-22 12:18          NaN       NaN  most_relevant   \n",
       "1                3.4.3  12-02-22 10:37          NaN       NaN  most_relevant   \n",
       "2                3.4.3  14-02-22 13:05          NaN       NaN  most_relevant   \n",
       "3                3.4.3  10-02-22 17:37          NaN       NaN  most_relevant   \n",
       "4                3.4.3  29-01-22 18:32          NaN       NaN  most_relevant   \n",
       "\n",
       "              appId     category  \n",
       "0  org.videolan.vlc  videoplayer  \n",
       "1  org.videolan.vlc  videoplayer  \n",
       "2  org.videolan.vlc  videoplayer  \n",
       "3  org.videolan.vlc  videoplayer  \n",
       "4  org.videolan.vlc  videoplayer  "
      ]
     },
     "execution_count": 4,
     "metadata": {},
     "output_type": "execute_result"
    }
   ],
   "source": [
    "data_all = pd.read_csv('Google Play Store App Reviews categorized.csv')\n",
    "data_all.head()"
   ]
  },
  {
   "cell_type": "code",
   "execution_count": 5,
   "metadata": {
    "colab": {
     "base_uri": "https://localhost:8080/"
    },
    "id": "-LbJXKUBmQMJ",
    "outputId": "bb4bff93-ea53-4453-96ac-3d1145526ddf"
   },
   "outputs": [
    {
     "data": {
      "text/plain": [
       "(55744, 13)"
      ]
     },
     "execution_count": 5,
     "metadata": {},
     "output_type": "execute_result"
    }
   ],
   "source": [
    "data_all.shape"
   ]
  },
  {
   "cell_type": "code",
   "execution_count": 6,
   "metadata": {
    "colab": {
     "base_uri": "https://localhost:8080/"
    },
    "id": "e8Yx9lU9l9SY",
    "outputId": "9fb0b38e-02bc-45b0-a1e4-8a48252b3dfe"
   },
   "outputs": [
    {
     "data": {
      "text/plain": [
       "(49591, 13)"
      ]
     },
     "execution_count": 6,
     "metadata": {},
     "output_type": "execute_result"
    }
   ],
   "source": [
    "# drop_duplicates\n",
    "data_all.drop_duplicates(subset=['userName', 'content'],inplace=True)\n",
    "data_all.shape\n"
   ]
  },
  {
   "cell_type": "code",
   "execution_count": 7,
   "metadata": {
    "colab": {
     "base_uri": "https://localhost:8080/",
     "height": 206
    },
    "id": "Pr_qufOPm4D_",
    "outputId": "2d3690f3-1ba9-4310-e441-980247b4daa8"
   },
   "outputs": [
    {
     "data": {
      "text/html": [
       "<div>\n",
       "<style scoped>\n",
       "    .dataframe tbody tr th:only-of-type {\n",
       "        vertical-align: middle;\n",
       "    }\n",
       "\n",
       "    .dataframe tbody tr th {\n",
       "        vertical-align: top;\n",
       "    }\n",
       "\n",
       "    .dataframe thead th {\n",
       "        text-align: right;\n",
       "    }\n",
       "</style>\n",
       "<table border=\"1\" class=\"dataframe\">\n",
       "  <thead>\n",
       "    <tr style=\"text-align: right;\">\n",
       "      <th></th>\n",
       "      <th>content</th>\n",
       "      <th>score</th>\n",
       "      <th>category</th>\n",
       "    </tr>\n",
       "  </thead>\n",
       "  <tbody>\n",
       "    <tr>\n",
       "      <th>0</th>\n",
       "      <td>Earlier it was used to be good but now it's be...</td>\n",
       "      <td>1</td>\n",
       "      <td>videoplayer</td>\n",
       "    </tr>\n",
       "    <tr>\n",
       "      <th>1</th>\n",
       "      <td>This will be the best video player in Android ...</td>\n",
       "      <td>1</td>\n",
       "      <td>videoplayer</td>\n",
       "    </tr>\n",
       "    <tr>\n",
       "      <th>2</th>\n",
       "      <td>Before it was perfectly stable now its all gon...</td>\n",
       "      <td>1</td>\n",
       "      <td>videoplayer</td>\n",
       "    </tr>\n",
       "    <tr>\n",
       "      <th>3</th>\n",
       "      <td>It's was quite stable in its previous versions...</td>\n",
       "      <td>1</td>\n",
       "      <td>videoplayer</td>\n",
       "    </tr>\n",
       "    <tr>\n",
       "      <th>4</th>\n",
       "      <td>*Resume function is not working. Every time I ...</td>\n",
       "      <td>1</td>\n",
       "      <td>videoplayer</td>\n",
       "    </tr>\n",
       "  </tbody>\n",
       "</table>\n",
       "</div>"
      ],
      "text/plain": [
       "                                             content  score     category\n",
       "0  Earlier it was used to be good but now it's be...      1  videoplayer\n",
       "1  This will be the best video player in Android ...      1  videoplayer\n",
       "2  Before it was perfectly stable now its all gon...      1  videoplayer\n",
       "3  It's was quite stable in its previous versions...      1  videoplayer\n",
       "4  *Resume function is not working. Every time I ...      1  videoplayer"
      ]
     },
     "execution_count": 7,
     "metadata": {},
     "output_type": "execute_result"
    }
   ],
   "source": [
    "# Get the columns we need\n",
    "data_all = data_all.loc[:,['content', 'score', 'category']]\n",
    "data_all.head()"
   ]
  },
  {
   "cell_type": "code",
   "execution_count": 8,
   "metadata": {
    "colab": {
     "base_uri": "https://localhost:8080/"
    },
    "id": "P9Syzf-DnVxh",
    "outputId": "86481ec9-84b2-4c38-d9f5-16a787cd30ec"
   },
   "outputs": [
    {
     "data": {
      "text/plain": [
       "(49591, 3)"
      ]
     },
     "execution_count": 8,
     "metadata": {},
     "output_type": "execute_result"
    }
   ],
   "source": [
    "data_all.shape"
   ]
  },
  {
   "cell_type": "code",
   "execution_count": 9,
   "metadata": {
    "colab": {
     "base_uri": "https://localhost:8080/"
    },
    "id": "bAUBLyWtEzub",
    "outputId": "b47960a5-ae35-48d6-8b23-b5155fec3a4a"
   },
   "outputs": [
    {
     "data": {
      "text/plain": [
       "(49589, 3)"
      ]
     },
     "execution_count": 9,
     "metadata": {},
     "output_type": "execute_result"
    }
   ],
   "source": [
    "# drop missing value\n",
    "data_all=data_all[~data_all['content'].isnull()]\n",
    "data_all.shape"
   ]
  },
  {
   "cell_type": "code",
   "execution_count": 10,
   "metadata": {
    "id": "DkenlXPrFO0K"
   },
   "outputs": [],
   "source": [
    "# reset index\n",
    "data_all.reset_index(inplace=True,drop=True)"
   ]
  },
  {
   "cell_type": "code",
   "execution_count": 11,
   "metadata": {
    "id": "HEiHP-zYsKML"
   },
   "outputs": [],
   "source": [
    "# !rm -rf dso-560-nlp-group-project && git clone https://github.com/carpedm20/emoji.git\n",
    "# %cd emoji\n",
    "# !python setup.py install"
   ]
  },
  {
   "cell_type": "code",
   "execution_count": 12,
   "metadata": {
    "colab": {
     "base_uri": "https://localhost:8080/"
    },
    "id": "nyxS7kxfFfYT",
    "outputId": "333eaebb-71bd-4520-d539-f97d524fb6bd"
   },
   "outputs": [
    {
     "name": "stderr",
     "output_type": "stream",
     "text": [
      "<ipython-input-12-d3671ecc2fca>:2: FutureWarning: The default value of regex will change from True to False in a future version.\n",
      "  data_all['content']=data_all['content'].str.replace(r\"\\s\\s+\",' ')# replace duplicate space into single space\n"
     ]
    }
   ],
   "source": [
    "# data cleaning\n",
    "data_all['content']=data_all['content'].str.replace(r\"\\s\\s+\",' ')# replace duplicate space into single space\n",
    "data_all['content']=data_all['content'].str.replace('\\n','')# remove \\n\n",
    "data_all['content']=data_all['content'].str.replace('\\r','')# remove \\r"
   ]
  },
  {
   "cell_type": "code",
   "execution_count": 13,
   "metadata": {
    "id": "eNh1smNZqdO2"
   },
   "outputs": [],
   "source": [
    "# delete emoji\n",
    "# define a function\n",
    "def remove_emojis(data):\n",
    "    emoj = re.compile(\"[\"\n",
    "        u\"\\U0001F600-\\U0001F64F\"  # emoticons\n",
    "        u\"\\U0001F300-\\U0001F5FF\"  # symbols & pictographs\n",
    "        u\"\\U0001F680-\\U0001F6FF\"  # transport & map symbols\n",
    "        u\"\\U0001F1E0-\\U0001F1FF\"  # flags (iOS)\n",
    "        u\"\\U00002500-\\U00002BEF\"  # chinese char\n",
    "        u\"\\U00002702-\\U000027B0\"\n",
    "        u\"\\U00002702-\\U000027B0\"\n",
    "        u\"\\U000024C2-\\U0001F251\"\n",
    "        u\"\\U0001f926-\\U0001f937\"\n",
    "        u\"\\U00010000-\\U0010ffff\"\n",
    "        u\"\\u2640-\\u2642\" \n",
    "        u\"\\u2600-\\u2B55\"\n",
    "        u\"\\u200d\"\n",
    "        u\"\\u23cf\"\n",
    "        u\"\\u23e9\"\n",
    "        u\"\\u231a\"\n",
    "        u\"\\ufe0f\"  # dingbats\n",
    "        u\"\\u3030\"\n",
    "                      \"]+\", flags = re.UNICODE)\n",
    "    return re.sub(emoj, '', data)"
   ]
  },
  {
   "cell_type": "code",
   "execution_count": 14,
   "metadata": {
    "id": "Ehic_OlTvsDb"
   },
   "outputs": [],
   "source": [
    "data_all['content'] = [str(i) for i in data_all['content']]\n",
    "data_all['content'] = [remove_emojis(i) for i in data_all['content']]"
   ]
  },
  {
   "cell_type": "code",
   "execution_count": 15,
   "metadata": {
    "id": "s6zLie_SHJZG"
   },
   "outputs": [],
   "source": [
    "# %pip install textacy"
   ]
  },
  {
   "cell_type": "code",
   "execution_count": 16,
   "metadata": {
    "id": "7ZDSqbWGFxXx"
   },
   "outputs": [],
   "source": [
    "from textacy.preprocessing.replace import urls, hashtags, numbers, emails, emojis, currency_symbols # change these kinds of words\n",
    "data_all[\"content\"] = data_all[\"content\"].\\\n",
    "  apply(urls).\\\n",
    "  apply(hashtags).\\\n",
    "  apply(currency_symbols).\\\n",
    "  apply(emojis).\\\n",
    "  apply(emails)\n",
    "#apply(numbers)"
   ]
  },
  {
   "cell_type": "code",
   "execution_count": 17,
   "metadata": {
    "id": "uzszvmianai-"
   },
   "outputs": [],
   "source": [
    "# clean content(review)\n",
    "# Lemmatization\n",
    "lemmatizer = WordNetLemmatizer()\n",
    "\n",
    "# function to convert nltk tag to wordnet tag\n",
    "def nltk_tag_to_wordnet_tag(nltk_tag):\n",
    "    if nltk_tag.startswith('J'):\n",
    "        return wordnet.ADJ\n",
    "    elif nltk_tag.startswith('V'):\n",
    "        return wordnet.VERB\n",
    "    elif nltk_tag.startswith('N'):\n",
    "        return wordnet.NOUN\n",
    "    elif nltk_tag.startswith('R'):\n",
    "        return wordnet.ADV\n",
    "    else:          \n",
    "        return None\n",
    "\n",
    "def lemmatize_sentence(sentence):\n",
    "    #tokenize the sentence and find the POS tag for each token\n",
    "    nltk_tagged = nltk.pos_tag(nltk.word_tokenize(sentence))  \n",
    "    #tuple of (token, wordnet_tag)\n",
    "    wordnet_tagged = map(lambda x: (x[0], nltk_tag_to_wordnet_tag(x[1])), nltk_tagged)\n",
    "    lemmatized_sentence = []\n",
    "    for word, tag in wordnet_tagged:\n",
    "        if tag is None:\n",
    "            #if there is no available tag, append the token as is\n",
    "            lemmatized_sentence.append(word)\n",
    "        else:        \n",
    "            #else use the tag to lemmatize the token\n",
    "            lemmatized_sentence.append(lemmatizer.lemmatize(word, tag))\n",
    "    return \" \".join(lemmatized_sentence)"
   ]
  },
  {
   "cell_type": "code",
   "execution_count": 18,
   "metadata": {
    "colab": {
     "base_uri": "https://localhost:8080/"
    },
    "id": "7NlAEfu6GXru",
    "outputId": "57e7bf9d-a922-4cf8-f735-e16f909943a4"
   },
   "outputs": [
    {
     "name": "stderr",
     "output_type": "stream",
     "text": [
      "<ipython-input-18-5dc7e129a20f>:3: FutureWarning: The default value of regex will change from True to False in a future version.\n",
      "  data_all['content']=data_all['content'].str.replace(r\"\\b(can)'t\\b\",r'\\1_not')\n",
      "<ipython-input-18-5dc7e129a20f>:4: FutureWarning: The default value of regex will change from True to False in a future version.\n",
      "  data_all['content']=data_all['content'].str.replace(r\"\\b(should|has|have|did|do|does|is|are|was|were|could|must)n't\\b\",r'\\1_not')\n",
      "<ipython-input-18-5dc7e129a20f>:5: FutureWarning: The default value of regex will change from True to False in a future version.\n",
      "  data_all['content']=data_all['content'].str.replace(r\"\\b(should|has|have|did|do|does|is|are|was|were|could|must|can) not\\b\",r'\\1_not')\n"
     ]
    }
   ],
   "source": [
    "# We noticed that lemmatization will separate \"n't\" from modal verb like \"can't\", so to solve this problem, we replace them with \"_not\"\n",
    "# Besides, we want to combine the hegative modal verb like \"can not\" into one single word, so we replace them with \"_not\"\n",
    "data_all['content']=data_all['content'].str.replace(r\"\\b(can)'t\\b\",r'\\1_not')\n",
    "data_all['content']=data_all['content'].str.replace(r\"\\b(should|has|have|did|do|does|is|are|was|were|could|must)n't\\b\",r'\\1_not')\n",
    "data_all['content']=data_all['content'].str.replace(r\"\\b(should|has|have|did|do|does|is|are|was|were|could|must|can) not\\b\",r'\\1_not')"
   ]
  },
  {
   "cell_type": "code",
   "execution_count": 19,
   "metadata": {
    "colab": {
     "base_uri": "https://localhost:8080/",
     "height": 206
    },
    "id": "ypIiBnEkocQd",
    "outputId": "432198f1-9d9b-451b-bb93-fd45b01658bb"
   },
   "outputs": [
    {
     "data": {
      "text/html": [
       "<div>\n",
       "<style scoped>\n",
       "    .dataframe tbody tr th:only-of-type {\n",
       "        vertical-align: middle;\n",
       "    }\n",
       "\n",
       "    .dataframe tbody tr th {\n",
       "        vertical-align: top;\n",
       "    }\n",
       "\n",
       "    .dataframe thead th {\n",
       "        text-align: right;\n",
       "    }\n",
       "</style>\n",
       "<table border=\"1\" class=\"dataframe\">\n",
       "  <thead>\n",
       "    <tr style=\"text-align: right;\">\n",
       "      <th></th>\n",
       "      <th>content</th>\n",
       "      <th>score</th>\n",
       "      <th>category</th>\n",
       "      <th>content_lemma</th>\n",
       "    </tr>\n",
       "  </thead>\n",
       "  <tbody>\n",
       "    <tr>\n",
       "      <th>0</th>\n",
       "      <td>earlier it was used to be good but now it's be...</td>\n",
       "      <td>1</td>\n",
       "      <td>videoplayer</td>\n",
       "      <td>earlier it be use to be good but now it 's bec...</td>\n",
       "    </tr>\n",
       "    <tr>\n",
       "      <th>1</th>\n",
       "      <td>this will be the best video player in android ...</td>\n",
       "      <td>1</td>\n",
       "      <td>videoplayer</td>\n",
       "      <td>this will be the best video player in android ...</td>\n",
       "    </tr>\n",
       "    <tr>\n",
       "      <th>2</th>\n",
       "      <td>before it was perfectly stable now its all gon...</td>\n",
       "      <td>1</td>\n",
       "      <td>videoplayer</td>\n",
       "      <td>before it be perfectly stable now its all go w...</td>\n",
       "    </tr>\n",
       "    <tr>\n",
       "      <th>3</th>\n",
       "      <td>it's was quite stable in its previous versions...</td>\n",
       "      <td>1</td>\n",
       "      <td>videoplayer</td>\n",
       "      <td>it 's be quite stable in its previous version ...</td>\n",
       "    </tr>\n",
       "    <tr>\n",
       "      <th>4</th>\n",
       "      <td>*resume function is_not working. every time i ...</td>\n",
       "      <td>1</td>\n",
       "      <td>videoplayer</td>\n",
       "      <td>* resume function is_not work . every time i m...</td>\n",
       "    </tr>\n",
       "  </tbody>\n",
       "</table>\n",
       "</div>"
      ],
      "text/plain": [
       "                                             content  score     category  \\\n",
       "0  earlier it was used to be good but now it's be...      1  videoplayer   \n",
       "1  this will be the best video player in android ...      1  videoplayer   \n",
       "2  before it was perfectly stable now its all gon...      1  videoplayer   \n",
       "3  it's was quite stable in its previous versions...      1  videoplayer   \n",
       "4  *resume function is_not working. every time i ...      1  videoplayer   \n",
       "\n",
       "                                       content_lemma  \n",
       "0  earlier it be use to be good but now it 's bec...  \n",
       "1  this will be the best video player in android ...  \n",
       "2  before it be perfectly stable now its all go w...  \n",
       "3  it 's be quite stable in its previous version ...  \n",
       "4  * resume function is_not work . every time i m...  "
      ]
     },
     "execution_count": 19,
     "metadata": {},
     "output_type": "execute_result"
    }
   ],
   "source": [
    "data_all['content'] = data_all['content'].str.lower()\n",
    "data_all['content_lemma'] = [lemmatize_sentence(i) for i in data_all['content']]\n",
    "data_all.head(5)"
   ]
  },
  {
   "cell_type": "code",
   "execution_count": 20,
   "metadata": {
    "colab": {
     "base_uri": "https://localhost:8080/"
    },
    "id": "b57_SLptxc7l",
    "outputId": "290973a1-9c01-4223-bf1f-d2e22672397d"
   },
   "outputs": [
    {
     "data": {
      "text/plain": [
       "[('app', 22377),\n",
       " ('good', 11684),\n",
       " ('use', 9966),\n",
       " (\"'s\", 9416),\n",
       " ('file', 6432),\n",
       " ('work', 6366),\n",
       " ('please', 5945),\n",
       " ('time', 5928),\n",
       " ('like', 5926),\n",
       " ('video', 5833),\n",
       " ('update', 5522),\n",
       " ('get', 5496),\n",
       " ('...', 4737),\n",
       " ('problem', 4622),\n",
       " ('browser', 4580),\n",
       " ('``', 4340),\n",
       " ('one', 4228),\n",
       " ('..', 4214),\n",
       " ('show', 4212),\n",
       " ('option', 4175),\n",
       " ('fix', 4170),\n",
       " ('issue', 3933),\n",
       " ('also', 3594),\n",
       " ('feature', 3530),\n",
       " ('make', 3509),\n",
       " ('try', 3491),\n",
       " ('can_not', 3393),\n",
       " ('even', 3361),\n",
       " ('download', 3343),\n",
       " ('phone', 3338),\n",
       " ('give', 3305),\n",
       " ('need', 3270),\n",
       " ('add', 3263),\n",
       " ('open', 3231),\n",
       " ('great', 3223),\n",
       " ('do_not', 3025),\n",
       " ('does_not', 3017),\n",
       " ('is_not', 2999),\n",
       " ('ad', 2904),\n",
       " ('nice', 2890),\n",
       " ('bad', 2885),\n",
       " ('go', 2866),\n",
       " ('play', 2822),\n",
       " ('best', 2807),\n",
       " ('message', 2803),\n",
       " ('call', 2668),\n",
       " ('really', 2505),\n",
       " ('player', 2425),\n",
       " ('new', 2391),\n",
       " ('account', 2371),\n",
       " ('many', 2298),\n",
       " ('still', 2290),\n",
       " ('payment', 2288),\n",
       " ('see', 2271),\n",
       " ('would', 2267),\n",
       " ('day', 2264),\n",
       " ('send', 2249),\n",
       " ('star', 2236),\n",
       " (\"'m\", 2230),\n",
       " ('want', 2197),\n",
       " ('take', 2165),\n",
       " ('well', 2143),\n",
       " ('say', 2101),\n",
       " ('love', 2082),\n",
       " ('back', 2068),\n",
       " ('much', 2063),\n",
       " ('thing', 2059),\n",
       " ('version', 2059),\n",
       " ('pay', 2027),\n",
       " (\"n't\", 1960),\n",
       " ('google', 1954),\n",
       " ('keep', 1861),\n",
       " ('easy', 1861),\n",
       " ('money', 1836),\n",
       " ('change', 1784),\n",
       " ('android', 1758),\n",
       " ('support', 1747),\n",
       " ('apps', 1746),\n",
       " ('chat', 1711),\n",
       " ('service', 1699),\n",
       " ('experience', 1671),\n",
       " ('screen', 1643),\n",
       " ('user', 1627),\n",
       " ('mobile', 1620),\n",
       " ('every', 1620),\n",
       " ('find', 1606),\n",
       " ('data', 1596),\n",
       " ('chrome', 1596),\n",
       " ('search', 1593),\n",
       " ('tab', 1582),\n",
       " ('able', 1551),\n",
       " ('last', 1529),\n",
       " ('lot', 1520),\n",
       " ('5', 1507),\n",
       " ('folder', 1490),\n",
       " ('know', 1488),\n",
       " ('application', 1471),\n",
       " ('....', 1454),\n",
       " ('help', 1446),\n",
       " ('delete', 1436)]"
      ]
     },
     "execution_count": 20,
     "metadata": {},
     "output_type": "execute_result"
    }
   ],
   "source": [
    "# word count for regex and stopwords list\n",
    "content_str = ' '.join(data_all['content_lemma'])\n",
    "token = nltk.word_tokenize(content_str)\n",
    "\n",
    "stopword_list_1 = stopwords.words('english') + list(string.punctuation)\n",
    "token = [i for i in token if i not in stopword_list_1]\n",
    "\n",
    "token_counter = Counter(token)\n",
    "token_counter.most_common(100)"
   ]
  },
  {
   "cell_type": "code",
   "execution_count": 21,
   "metadata": {
    "colab": {
     "base_uri": "https://localhost:8080/"
    },
    "id": "EWNeaHUGxxyW",
    "outputId": "65e4d3e6-e61d-45a6-f1cf-6ebce289785b"
   },
   "outputs": [
    {
     "name": "stderr",
     "output_type": "stream",
     "text": [
      "<ipython-input-21-9970c6ced7d4>:6: FutureWarning: The default value of regex will change from True to False in a future version.\n",
      "  data_all['content_regex'] = data_all['content_regex'].str.replace(r\"\\b(?:love|like|perfer)\\b\",'_love_',case=False)\n",
      "<ipython-input-21-9970c6ced7d4>:7: FutureWarning: The default value of regex will change from True to False in a future version.\n",
      "  data_all['content_regex'] = data_all['content_regex'].str.replace(r\"\\b(?:issues?|problems?|bugs?)\\b\",'_problem_',case=False)\n",
      "<ipython-input-21-9970c6ced7d4>:8: FutureWarning: The default value of regex will change from True to False in a future version.\n",
      "  data_all['content_regex'] = data_all['content_regex'].str.replace(r'\\b(?:phone|devices?)\\b','_phone_',case=False)\n",
      "<ipython-input-21-9970c6ced7d4>:9: FutureWarning: The default value of regex will change from True to False in a future version.\n",
      "  data_all['content_regex'] = data_all['content_regex'].str.replace(r'\\b(?:excellent|good|great|well|perfect|nice|fantastic|best|amaze|amazing|awesome|adorable|cute|perfectly)\\b','_good_',case=False)\n",
      "<ipython-input-21-9970c6ced7d4>:10: FutureWarning: The default value of regex will change from True to False in a future version.\n",
      "  data_all['content_regex'] = data_all['content_regex'].str.replace(r'\\b(?:apps?)\\b','_app_',case=False)\n",
      "<ipython-input-21-9970c6ced7d4>:11: FutureWarning: The default value of regex will change from True to False in a future version.\n",
      "  data_all['content_regex'] = data_all['content_regex'].str.replace(r'\\b(?:ads?(vertisements?)?|advertisings?)\\b','_ad_',case=False)\n",
      "<ipython-input-21-9970c6ced7d4>:12: FutureWarning: The default value of regex will change from True to False in a future version.\n",
      "  data_all['content_regex'] = data_all['content_regex'].str.replace(r'\\b(?:many|much)\\b','_many_',case=False)\n"
     ]
    }
   ],
   "source": [
    "# regex\n",
    "data_all['content_regex'] = data_all['content_lemma'].str.replace(r'\\b(?:one|two|three)\\b', '_one_', case=False, regex=True)\n",
    "#data_all['content_regex'] = data_all['content_regex'].str.replace(r'\\blike|love\\b', 'like', case=False, regex=True)\n",
    "#data_all['content_regex'] = data_all['content_regex'].str.replace(r'\\bgood|nice|great\\b', 'good', case=False, regex=True)\n",
    "data_all['content_regex'] = data_all['content_regex'].str.replace(r'\\b(?:last|late|new|recent) update\\b', '_last update_', case=False, regex=True)\n",
    "data_all['content_regex'] = data_all['content_regex'].str.replace(r\"\\b(?:love|like|perfer)\\b\",'_love_',case=False) \n",
    "data_all['content_regex'] = data_all['content_regex'].str.replace(r\"\\b(?:issues?|problems?|bugs?)\\b\",'_problem_',case=False) \n",
    "data_all['content_regex'] = data_all['content_regex'].str.replace(r'\\b(?:phone|devices?)\\b','_phone_',case=False)\n",
    "data_all['content_regex'] = data_all['content_regex'].str.replace(r'\\b(?:excellent|good|great|well|perfect|nice|fantastic|best|amaze|amazing|awesome|adorable|cute|perfectly)\\b','_good_',case=False)\n",
    "data_all['content_regex'] = data_all['content_regex'].str.replace(r'\\b(?:apps?)\\b','_app_',case=False)\n",
    "data_all['content_regex'] = data_all['content_regex'].str.replace(r'\\b(?:ads?(vertisements?)?|advertisings?)\\b','_ad_',case=False)\n",
    "data_all['content_regex'] = data_all['content_regex'].str.replace(r'\\b(?:many|much)\\b','_many_',case=False)\n"
   ]
  },
  {
   "cell_type": "code",
   "execution_count": 22,
   "metadata": {
    "id": "l3HZ4KAPyNwt"
   },
   "outputs": [],
   "source": [
    "# stopword\n",
    "\n",
    "add_1 = ['...','``', \"''\",'5'] # puntuation, number\n",
    "add_2 = ['_app_','really','would',\"'ve\"]\n",
    "\n",
    "# non-list\n",
    "non_list=['no','nor','not','ain','aren',\"aren't\",'don',\"don't\",'couldn',\"couldn't\",'didn',\"didn't\",'doesn',\"doesn't\",\n",
    " 'hadn',\"hadn't\",'hasn',\"hasn't\",'haven',\"haven't\",'isn',\"isn't\",'ma','mightn',\"mightn't\",'mustn',\"mustn't\",'needn',\"needn't\",\n",
    " 'shan',\"shan't\",'shouldn',\"shouldn't\",'wasn',\"wasn't\",'weren',\"weren't\",'won',\"won't\",'wouldn',\"wouldn't\"]\n",
    "\n",
    "stopword_list_2 = [i for i in stopword_list_1 if i not in non_list] + add_1 +add_2"
   ]
  },
  {
   "cell_type": "code",
   "execution_count": 23,
   "metadata": {},
   "outputs": [
    {
     "data": {
      "text/plain": [
       "['i',\n",
       " 'me',\n",
       " 'my',\n",
       " 'myself',\n",
       " 'we',\n",
       " 'our',\n",
       " 'ours',\n",
       " 'ourselves',\n",
       " 'you',\n",
       " \"you're\",\n",
       " \"you've\",\n",
       " \"you'll\",\n",
       " \"you'd\",\n",
       " 'your',\n",
       " 'yours',\n",
       " 'yourself',\n",
       " 'yourselves',\n",
       " 'he',\n",
       " 'him',\n",
       " 'his',\n",
       " 'himself',\n",
       " 'she',\n",
       " \"she's\",\n",
       " 'her',\n",
       " 'hers',\n",
       " 'herself',\n",
       " 'it',\n",
       " \"it's\",\n",
       " 'its',\n",
       " 'itself',\n",
       " 'they',\n",
       " 'them',\n",
       " 'their',\n",
       " 'theirs',\n",
       " 'themselves',\n",
       " 'what',\n",
       " 'which',\n",
       " 'who',\n",
       " 'whom',\n",
       " 'this',\n",
       " 'that',\n",
       " \"that'll\",\n",
       " 'these',\n",
       " 'those',\n",
       " 'am',\n",
       " 'is',\n",
       " 'are',\n",
       " 'was',\n",
       " 'were',\n",
       " 'be',\n",
       " 'been',\n",
       " 'being',\n",
       " 'have',\n",
       " 'has',\n",
       " 'had',\n",
       " 'having',\n",
       " 'do',\n",
       " 'does',\n",
       " 'did',\n",
       " 'doing',\n",
       " 'a',\n",
       " 'an',\n",
       " 'the',\n",
       " 'and',\n",
       " 'but',\n",
       " 'if',\n",
       " 'or',\n",
       " 'because',\n",
       " 'as',\n",
       " 'until',\n",
       " 'while',\n",
       " 'of',\n",
       " 'at',\n",
       " 'by',\n",
       " 'for',\n",
       " 'with',\n",
       " 'about',\n",
       " 'against',\n",
       " 'between',\n",
       " 'into',\n",
       " 'through',\n",
       " 'during',\n",
       " 'before',\n",
       " 'after',\n",
       " 'above',\n",
       " 'below',\n",
       " 'to',\n",
       " 'from',\n",
       " 'up',\n",
       " 'down',\n",
       " 'in',\n",
       " 'out',\n",
       " 'on',\n",
       " 'off',\n",
       " 'over',\n",
       " 'under',\n",
       " 'again',\n",
       " 'further',\n",
       " 'then',\n",
       " 'once',\n",
       " 'here',\n",
       " 'there',\n",
       " 'when',\n",
       " 'where',\n",
       " 'why',\n",
       " 'how',\n",
       " 'all',\n",
       " 'any',\n",
       " 'both',\n",
       " 'each',\n",
       " 'few',\n",
       " 'more',\n",
       " 'most',\n",
       " 'other',\n",
       " 'some',\n",
       " 'such',\n",
       " 'only',\n",
       " 'own',\n",
       " 'same',\n",
       " 'so',\n",
       " 'than',\n",
       " 'too',\n",
       " 'very',\n",
       " 's',\n",
       " 't',\n",
       " 'can',\n",
       " 'will',\n",
       " 'just',\n",
       " 'should',\n",
       " \"should've\",\n",
       " 'now',\n",
       " 'd',\n",
       " 'll',\n",
       " 'm',\n",
       " 'o',\n",
       " 're',\n",
       " 've',\n",
       " 'y',\n",
       " '!',\n",
       " '\"',\n",
       " '#',\n",
       " '$',\n",
       " '%',\n",
       " '&',\n",
       " \"'\",\n",
       " '(',\n",
       " ')',\n",
       " '*',\n",
       " '+',\n",
       " ',',\n",
       " '-',\n",
       " '.',\n",
       " '/',\n",
       " ':',\n",
       " ';',\n",
       " '<',\n",
       " '=',\n",
       " '>',\n",
       " '?',\n",
       " '@',\n",
       " '[',\n",
       " '\\\\',\n",
       " ']',\n",
       " '^',\n",
       " '_',\n",
       " '`',\n",
       " '{',\n",
       " '|',\n",
       " '}',\n",
       " '~',\n",
       " '...',\n",
       " '``',\n",
       " \"''\",\n",
       " '5',\n",
       " '_app_',\n",
       " 'really',\n",
       " 'would',\n",
       " \"'ve\"]"
      ]
     },
     "execution_count": 23,
     "metadata": {},
     "output_type": "execute_result"
    }
   ],
   "source": [
    "stopword_list_2"
   ]
  },
  {
   "cell_type": "code",
   "execution_count": 24,
   "metadata": {
    "colab": {
     "base_uri": "https://localhost:8080/"
    },
    "id": "NjlzFHCVZsr-",
    "outputId": "c71b9df5-f29a-4ea8-d7da-e1f80e0b84f8"
   },
   "outputs": [
    {
     "data": {
      "text/plain": [
       "[('_good_', 25703),\n",
       " ('_problem_', 9990),\n",
       " ('use', 9966),\n",
       " (\"'s\", 9416),\n",
       " ('not', 9091),\n",
       " ('_love_', 8008),\n",
       " ('file', 6432),\n",
       " ('work', 6366),\n",
       " ('please', 5945),\n",
       " ('time', 5928),\n",
       " ('video', 5833),\n",
       " ('get', 5496),\n",
       " ('no', 5450),\n",
       " ('_one_', 4977),\n",
       " ('browser', 4580),\n",
       " ('_phone_', 4510),\n",
       " ('_many_', 4361),\n",
       " ('update', 4217),\n",
       " ('..', 4214),\n",
       " ('show', 4212),\n",
       " ('option', 4175),\n",
       " ('fix', 4170),\n",
       " ('also', 3594),\n",
       " ('feature', 3530),\n",
       " ('make', 3509),\n",
       " ('try', 3491),\n",
       " ('can_not', 3393),\n",
       " ('even', 3361),\n",
       " ('download', 3343),\n",
       " ('give', 3305),\n",
       " ('need', 3270),\n",
       " ('add', 3263),\n",
       " ('open', 3231),\n",
       " ('_ad_', 3089),\n",
       " ('do_not', 3025),\n",
       " ('does_not', 3017),\n",
       " ('is_not', 2999),\n",
       " ('bad', 2885),\n",
       " ('go', 2866),\n",
       " ('play', 2822),\n",
       " ('message', 2803),\n",
       " ('call', 2668),\n",
       " ('player', 2425),\n",
       " ('account', 2371),\n",
       " ('still', 2290),\n",
       " ('payment', 2288),\n",
       " ('see', 2271),\n",
       " ('day', 2264),\n",
       " ('send', 2249),\n",
       " ('star', 2236),\n",
       " (\"'m\", 2230),\n",
       " ('want', 2197),\n",
       " ('take', 2165),\n",
       " ('say', 2101),\n",
       " ('back', 2068),\n",
       " ('thing', 2059),\n",
       " ('version', 2059),\n",
       " ('pay', 2027),\n",
       " (\"n't\", 1960),\n",
       " ('google', 1954),\n",
       " ('new', 1949),\n",
       " ('keep', 1861),\n",
       " ('easy', 1861),\n",
       " ('money', 1836),\n",
       " ('change', 1784),\n",
       " ('android', 1758),\n",
       " ('support', 1747),\n",
       " ('chat', 1711),\n",
       " ('service', 1699),\n",
       " ('experience', 1671),\n",
       " ('screen', 1643),\n",
       " ('user', 1627),\n",
       " ('mobile', 1620),\n",
       " ('every', 1620),\n",
       " ('find', 1606),\n",
       " ('data', 1596),\n",
       " ('chrome', 1596),\n",
       " ('search', 1593),\n",
       " ('tab', 1582),\n",
       " ('able', 1551),\n",
       " ('lot', 1520),\n",
       " ('folder', 1490),\n",
       " ('know', 1488),\n",
       " ('application', 1471),\n",
       " ('....', 1454),\n",
       " ('help', 1446),\n",
       " ('delete', 1436),\n",
       " ('always', 1434),\n",
       " ('sometimes', 1429),\n",
       " ('slow', 1424),\n",
       " ('page', 1420),\n",
       " ('way', 1388),\n",
       " ('since', 1383),\n",
       " ('customer', 1359),\n",
       " ('card', 1349),\n",
       " ('number', 1334),\n",
       " ('_last', 1306),\n",
       " ('update_', 1305),\n",
       " ('transaction', 1283),\n",
       " ('manager', 1279)]"
      ]
     },
     "execution_count": 24,
     "metadata": {},
     "output_type": "execute_result"
    }
   ],
   "source": [
    "# word count again to check\n",
    "content_str = ' '.join(data_all['content_regex'])\n",
    "token = nltk.word_tokenize(content_str)\n",
    "\n",
    "token = [i for i in token if i not in stopword_list_2]\n",
    "\n",
    "token_counter = Counter(token)\n",
    "token_counter.most_common(100)"
   ]
  },
  {
   "cell_type": "markdown",
   "metadata": {
    "heading_collapsed": true
   },
   "source": [
    "## Whole Dataset"
   ]
  },
  {
   "cell_type": "code",
   "execution_count": 23,
   "metadata": {
    "ExecuteTime": {
     "end_time": "2022-05-13T03:45:05.696622Z",
     "start_time": "2022-05-13T03:45:05.658673Z"
    },
    "hidden": true,
    "id": "F-KNX9DNWZTZ"
   },
   "outputs": [],
   "source": [
    "# define the model\n",
    "def make_sequential_model(plot=False):\n",
    "    model = Sequential()\n",
    "    model.add(Embedding(vocab_size, EMBEDDING_SIZE, input_length=max_length))\n",
    "    model.add(Flatten()) # Flatten makes this a (vocab_size x EMBEDDING_SIZE) x 1 vector.\n",
    "    model.add(Dense(1, activation='sigmoid')) \n",
    "    # Compile the model\n",
    "    model.compile(optimizer='adam', loss='binary_crossentropy', metrics=['acc'])\n",
    "    # summarize the model\n",
    "    print(model.summary())\n",
    "    if plot:\n",
    "        plot_model(model, to_file='model.png', show_shapes=True)\n",
    "    return model\n",
    "\n",
    "# Define an RNN Model\n",
    "def make_rnn_classification_model(plot=False):\n",
    "    model = keras.models.Sequential()\n",
    "    model.add(Embedding(vocab_size, EMBEDDING_SIZE, input_length=max_length))\n",
    "    model.add(SimpleRNN(units=64)) # 64 is the \"units\" parameter, which is the dimensionality of the output space.\n",
    "    model.add(Dense(16)) # a standard fully-connected (Dense) layer\n",
    "    model.add(Dense(1, activation='sigmoid')) # an output layer with sigmoid activation\n",
    "    # Compile the model\n",
    "    model.compile(optimizer='adam', loss='binary_crossentropy', metrics=['accuracy'])\n",
    "    # summarize the model\n",
    "    model.summary()\n",
    "    \n",
    "    if plot:\n",
    "        plot_model(model, to_file='model.png', show_shapes=True)\n",
    "    return model\n",
    "\n",
    "def score(matrix):\n",
    "    precision = np.zeros(2)\n",
    "    recall = np.zeros(2)\n",
    "    for i in range(2):\n",
    "        num = matrix[i][i]\n",
    "        prec_denom = sum(matrix.T[i])\n",
    "        precision[i] = num/prec_denom if prec_denom != 0 else 0\n",
    "        rec_denom = sum(matrix[i])\n",
    "        recall[i] = num/rec_denom if rec_denom != 0 else 0\n",
    "    print(f'Precision: {precision[1]}')\n",
    "    print(f'Recall: {recall[1]}')\n",
    "    print(f'Accuracy: {(matrix[0][0]+matrix[1][1])/matrix.sum()}')\n",
    "    \n",
    "def integer_encode_documents(docs, tokenizer):\n",
    "    return tokenizer.texts_to_sequences(docs)\n",
    "\n",
    "def get_max_token_length_per_doc(docs: List[List[str]])-> int:\n",
    "    return max(list(map(lambda x: len(x.split()), docs)))"
   ]
  },
  {
   "cell_type": "code",
   "execution_count": 24,
   "metadata": {
    "ExecuteTime": {
     "end_time": "2022-05-13T03:46:47.605800Z",
     "start_time": "2022-05-13T03:46:47.458574Z"
    },
    "hidden": true
   },
   "outputs": [],
   "source": [
    "data_all['good'] = data_all.score.map({1: 0, 5: 1}) \n",
    "df = data_all[(data_all.score==1)| (data_all.score==5)]"
   ]
  },
  {
   "cell_type": "code",
   "execution_count": null,
   "metadata": {
    "hidden": true,
    "id": "O17JOXOiuh5a"
   },
   "outputs": [],
   "source": [
    "X = df.content_regex\n",
    "y = df.good \n",
    "\n",
    "X_train, X_test, y_train, y_test = train_test_split(X, y, test_size=0.2, random_state=0, stratify=y)\n",
    "\n",
    "# Training Our Own Embeddings\n",
    "EMBEDDING_SIZE = 50\n",
    "\n",
    "tokenizer = Tokenizer(num_words=5000, oov_token=\"UNKNOWN_TOKEN\")\n",
    "tokenizer.fit_on_texts(X_train)\n",
    "\n",
    "# integer encode the documents\n",
    "encoded_docs = integer_encode_documents(X_train, tokenizer)\n",
    "encoded_test_docs = integer_encode_documents(X_test, tokenizer)\n",
    "# get the max length in terms of token length\n",
    "max_length = get_max_token_length_per_doc(X_train)\n",
    "# pad documents to max length\n",
    "padded_docs = pad_sequences(encoded_docs, maxlen=max_length, padding='post')\n",
    "padded_test_docs = pad_sequences(encoded_test_docs, maxlen=max_length, padding='post')\n",
    "# set the vocabulary size to some number that represents the total number of unique words in our vocabulary\n",
    "vocab_size = int(len(tokenizer.word_index) * 1.3)"
   ]
  },
  {
   "cell_type": "code",
   "execution_count": null,
   "metadata": {
    "colab": {
     "base_uri": "https://localhost:8080/"
    },
    "hidden": true,
    "id": "fAn8cV7rdbwm",
    "outputId": "cc9206d6-7ca5-453d-dd89-e00568eea46b"
   },
   "outputs": [
    {
     "name": "stdout",
     "output_type": "stream",
     "text": [
      "Model: \"sequential_6\"\n",
      "_________________________________________________________________\n",
      " Layer (type)                Output Shape              Param #   \n",
      "=================================================================\n",
      " embedding_5 (Embedding)     (None, 493, 50)           853450    \n",
      "                                                                 \n",
      " flatten_5 (Flatten)         (None, 24650)             0         \n",
      "                                                                 \n",
      " dense_4 (Dense)             (None, 1)                 24651     \n",
      "                                                                 \n",
      "=================================================================\n",
      "Total params: 878,101\n",
      "Trainable params: 878,101\n",
      "Non-trainable params: 0\n",
      "_________________________________________________________________\n",
      "None\n",
      "Epoch 1/10\n",
      "451/451 [==============================] - 5s 10ms/step - loss: 0.4772 - acc: 0.7735\n",
      "Epoch 2/10\n",
      "451/451 [==============================] - 4s 9ms/step - loss: 0.3355 - acc: 0.8676\n",
      "Epoch 3/10\n",
      "451/451 [==============================] - 4s 9ms/step - loss: 0.2838 - acc: 0.8917\n",
      "Epoch 4/10\n",
      "451/451 [==============================] - 4s 9ms/step - loss: 0.2409 - acc: 0.9119\n",
      "Epoch 5/10\n",
      "451/451 [==============================] - 4s 9ms/step - loss: 0.2038 - acc: 0.9267\n",
      "Epoch 6/10\n",
      "451/451 [==============================] - 4s 9ms/step - loss: 0.1759 - acc: 0.9367\n",
      "Epoch 7/10\n",
      "451/451 [==============================] - 4s 9ms/step - loss: 0.1562 - acc: 0.9441\n",
      "Epoch 8/10\n",
      "451/451 [==============================] - 4s 9ms/step - loss: 0.1418 - acc: 0.9492\n",
      "Epoch 9/10\n",
      "451/451 [==============================] - 4s 9ms/step - loss: 0.1317 - acc: 0.9505\n",
      "Epoch 10/10\n",
      "451/451 [==============================] - 4s 9ms/step - loss: 0.1240 - acc: 0.9532\n",
      "451/451 [==============================] - 1s 2ms/step - loss: 0.1160 - acc: 0.9576\n",
      "Accuracy: 95.759302\n"
     ]
    }
   ],
   "source": [
    "sequential_model = make_sequential_model()\n",
    "# fit the model\n",
    "history = sequential_model.fit(padded_docs, y_train, epochs=10, verbose=1)\n",
    "# evaluate the model\n",
    "loss, accuracy = sequential_model.evaluate(padded_docs, y_train, verbose=1)\n",
    "print('Accuracy: %f' % (accuracy*100))"
   ]
  },
  {
   "cell_type": "code",
   "execution_count": null,
   "metadata": {
    "colab": {
     "base_uri": "https://localhost:8080/"
    },
    "hidden": true,
    "id": "IzjkF-2SW8me",
    "outputId": "e0b4471c-cd9d-4bcb-f920-ebf43e3586b3"
   },
   "outputs": [
    {
     "name": "stdout",
     "output_type": "stream",
     "text": [
      "Precision: 0.8199076449461262\n",
      "Recall: 0.8540887226082309\n",
      "Accuracy: 0.8268109908409659\n"
     ]
    }
   ],
   "source": [
    "# make prediction on the padded test documents\n",
    "pred = sequential_model.predict(padded_test_docs, verbose=0)\n",
    "score(confusion_matrix(y_test.reset_index().good, (pd.DataFrame(pred)[0] > 0.5)))"
   ]
  },
  {
   "cell_type": "code",
   "execution_count": null,
   "metadata": {
    "colab": {
     "base_uri": "https://localhost:8080/"
    },
    "hidden": true,
    "id": "FS3YZr1ElozC",
    "outputId": "0a6fa7c1-10f8-4c09-9155-fee77ced0f38"
   },
   "outputs": [
    {
     "data": {
      "text/plain": [
       "array([[1381,  351],\n",
       "       [ 273, 1598]])"
      ]
     },
     "execution_count": 95,
     "metadata": {},
     "output_type": "execute_result"
    }
   ],
   "source": [
    "confusion_matrix(y_test.reset_index().good, (pd.DataFrame(pred)[0] > 0.5))"
   ]
  },
  {
   "cell_type": "code",
   "execution_count": null,
   "metadata": {
    "colab": {
     "base_uri": "https://localhost:8080/"
    },
    "hidden": true,
    "id": "wKcWQGGFmEEV",
    "outputId": "3fffa388-3806-4014-ffcc-fb6c7ed17912"
   },
   "outputs": [
    {
     "name": "stdout",
     "output_type": "stream",
     "text": [
      "Model: \"sequential_2\"\n",
      "_________________________________________________________________\n",
      " Layer (type)                Output Shape              Param #   \n",
      "=================================================================\n",
      " embedding_2 (Embedding)     (None, 493, 50)           1261500   \n",
      "                                                                 \n",
      " simple_rnn_1 (SimpleRNN)    (None, 64)                7360      \n",
      "                                                                 \n",
      " dense_3 (Dense)             (None, 16)                1040      \n",
      "                                                                 \n",
      " dense_4 (Dense)             (None, 1)                 17        \n",
      "                                                                 \n",
      "=================================================================\n",
      "Total params: 1,269,917\n",
      "Trainable params: 1,269,917\n",
      "Non-trainable params: 0\n",
      "_________________________________________________________________\n",
      "Epoch 1/10\n",
      "859/859 [==============================] - 148s 169ms/step - loss: 0.6984 - accuracy: 0.5094\n",
      "Epoch 2/10\n",
      "859/859 [==============================] - 125s 145ms/step - loss: 0.6951 - accuracy: 0.5154\n",
      "Epoch 3/10\n",
      "859/859 [==============================] - 123s 143ms/step - loss: 0.6953 - accuracy: 0.5187\n",
      "Epoch 4/10\n",
      "859/859 [==============================] - 125s 146ms/step - loss: 0.6941 - accuracy: 0.5138\n",
      "Epoch 5/10\n",
      "859/859 [==============================] - 123s 144ms/step - loss: 0.6934 - accuracy: 0.5189\n",
      "Epoch 6/10\n",
      "859/859 [==============================] - 122s 142ms/step - loss: 0.6926 - accuracy: 0.5161\n",
      "Epoch 7/10\n",
      "859/859 [==============================] - 124s 145ms/step - loss: 0.6907 - accuracy: 0.5331\n",
      "Epoch 8/10\n",
      "859/859 [==============================] - 124s 144ms/step - loss: 0.6906 - accuracy: 0.5269\n",
      "Epoch 9/10\n",
      "859/859 [==============================] - 129s 150ms/step - loss: 0.6613 - accuracy: 0.5811\n",
      "Epoch 10/10\n",
      "859/859 [==============================] - 126s 146ms/step - loss: 0.6551 - accuracy: 0.5957\n",
      "859/859 [==============================] - 27s 31ms/step - loss: 0.6531 - accuracy: 0.6059\n",
      "Accuracy: 60.587633\n"
     ]
    }
   ],
   "source": [
    "# RNN\n",
    "RNN = make_rnn_classification_model()\n",
    "# fit the model\n",
    "history = RNN.fit(padded_docs, y_train, epochs=10, verbose=1)\n",
    "# evaluate the model\n",
    "loss, accuracy = RNN.evaluate(padded_docs, y_train, verbose=1)\n",
    "print('Accuracy: %f' % (accuracy*100))"
   ]
  },
  {
   "cell_type": "code",
   "execution_count": null,
   "metadata": {
    "colab": {
     "base_uri": "https://localhost:8080/"
    },
    "hidden": true,
    "id": "Mk7Nnzzxu6yw",
    "outputId": "ef29c7bc-77e4-421a-8115-cb6a3cee5459"
   },
   "outputs": [
    {
     "name": "stdout",
     "output_type": "stream",
     "text": [
      "Precision: 0.6567049808429118\n",
      "Recall: 0.4791724909141739\n",
      "Accuracy: 0.5982233872142129\n"
     ]
    }
   ],
   "source": [
    "# make prediction on the padded test documents\n",
    "pred = RNN.predict(padded_test_docs, verbose=0)\n",
    "score(confusion_matrix(y_test.reset_index().good, (pd.DataFrame(pred)[0] > 0.5)))"
   ]
  },
  {
   "cell_type": "code",
   "execution_count": null,
   "metadata": {
    "colab": {
     "base_uri": "https://localhost:8080/"
    },
    "hidden": true,
    "id": "9wWaCpdIamNH",
    "outputId": "6764defb-e2ae-44ad-88b0-21712c29b588"
   },
   "outputs": [
    {
     "name": "stdout",
     "output_type": "stream",
     "text": [
      "Precision: 0.7913513513513514\n",
      "Recall: 0.7824692677712454\n",
      "Accuracy: 0.7799056341937275\n"
     ]
    }
   ],
   "source": [
    "#rf\n",
    "vectorizer = TfidfVectorizer(ngram_range=(1,3),\n",
    "                             token_pattern=r'\\b[a-zA-Z]{3,}\\b',\n",
    "                             max_df=0.4, stop_words=stopword_list_2+['ever'], \n",
    "                             max_features=10000)\n",
    "X = vectorizer.fit_transform(df.content_regex)\n",
    "y = df.good\n",
    "X_train, X_test, y_train, y_test = train_test_split(X, y, test_size=0.2, stratify=y)\n",
    "\n",
    "rf = RandomForestClassifier()\n",
    "rf.fit(X_train, y_train)\n",
    "\n",
    "score(confusion_matrix(y_test.reset_index().good, (pd.DataFrame(rf.predict_proba(X_test)[:,1])[0] > 0.5)))"
   ]
  },
  {
   "cell_type": "code",
   "execution_count": null,
   "metadata": {
    "colab": {
     "base_uri": "https://localhost:8080/"
    },
    "hidden": true,
    "id": "CxhCvvSlfZxy",
    "outputId": "bf6a248d-f1cb-4a1d-e42c-f30d42aee8cf"
   },
   "outputs": [
    {
     "data": {
      "text/plain": [
       "array([[1346,  386],\n",
       "       [ 407, 1464]])"
      ]
     },
     "execution_count": 81,
     "metadata": {},
     "output_type": "execute_result"
    }
   ],
   "source": [
    "confusion_matrix(y_test.reset_index().good, (pd.DataFrame(rf.predict_proba(X_test)[:,1])[0] > 0.5))"
   ]
  },
  {
   "cell_type": "markdown",
   "metadata": {
    "id": "Dlgb03WxdW1i"
   },
   "source": [
    "## Payment - Ge Zeng"
   ]
  },
  {
   "cell_type": "code",
   "execution_count": null,
   "metadata": {
    "colab": {
     "base_uri": "https://localhost:8080/"
    },
    "id": "3dFUKF7sdgnD",
    "outputId": "9bedc63a-7ad2-4e70-cf41-94295844f7cd",
    "scrolled": true
   },
   "outputs": [
    {
     "name": "stderr",
     "output_type": "stream",
     "text": [
      "/usr/local/lib/python3.7/dist-packages/ipykernel_launcher.py:3: SettingWithCopyWarning: \n",
      "A value is trying to be set on a copy of a slice from a DataFrame.\n",
      "Try using .loc[row_indexer,col_indexer] = value instead\n",
      "\n",
      "See the caveats in the documentation: https://pandas.pydata.org/pandas-docs/stable/user_guide/indexing.html#returning-a-view-versus-a-copy\n",
      "  This is separate from the ipykernel package so we can avoid doing imports until\n"
     ]
    },
    {
     "data": {
      "text/plain": [
       "2    6990\n",
       "1    1968\n",
       "0    1946\n",
       "Name: label, dtype: int64"
      ]
     },
     "execution_count": 24,
     "metadata": {},
     "output_type": "execute_result"
    }
   ],
   "source": [
    "data_payment=data_all[data_all['category']=='payment']\n",
    "data_payment.reset_index(drop=True, inplace=True)\n",
    "data_payment['label']=data_payment['score'].map({1:0, 5:1, 2:2, 3:2, 4:2})\n",
    "data_payment.label.value_counts()   "
   ]
  },
  {
   "cell_type": "code",
   "execution_count": null,
   "metadata": {
    "id": "5FM1faXYknwb"
   },
   "outputs": [],
   "source": [
    "data_payment=data_payment[(data_payment['label']==0)|(data_payment['label']==1)]"
   ]
  },
  {
   "cell_type": "code",
   "execution_count": null,
   "metadata": {
    "id": "jebXSInBkwKY"
   },
   "outputs": [],
   "source": [
    "# Random forest\n",
    "from sklearn.feature_extraction.text import TfidfVectorizer\n",
    "from sklearn.model_selection import train_test_split\n",
    "vectorizer=TfidfVectorizer(ngram_range=(2,2),stop_words='english',token_pattern=r'\\b[a-zA-Z]{3,}\\b',\\\n",
    "                           max_features=2000,binary=True)\n",
    "X=vectorizer.fit_transform(data_payment['content_regex'])\n",
    "y=data_payment['label']\n",
    "X_train, X_test, y_train, y_test=train_test_split(X, y, \\\n",
    "                                                  test_size=0.2, random_state=42,stratify=y)"
   ]
  },
  {
   "cell_type": "code",
   "execution_count": null,
   "metadata": {
    "colab": {
     "base_uri": "https://localhost:8080/"
    },
    "id": "hRX0x10Uk4Re",
    "outputId": "e1e7ac9c-a670-495f-efde-d93b06516709"
   },
   "outputs": [
    {
     "data": {
      "text/plain": [
       "0.719029374201788"
      ]
     },
     "execution_count": 27,
     "metadata": {},
     "output_type": "execute_result"
    }
   ],
   "source": [
    "import numpy as np\n",
    "from sklearn.ensemble import RandomForestClassifier\n",
    "model=RandomForestClassifier()\n",
    "model.fit(X_train, y_train)\n",
    "y_pred=model.predict(X_test)\n",
    "np.mean(y_pred==y_test)"
   ]
  },
  {
   "cell_type": "code",
   "execution_count": null,
   "metadata": {
    "colab": {
     "base_uri": "https://localhost:8080/",
     "height": 661
    },
    "id": "Cr-zgC3uk9d1",
    "outputId": "2371a20b-9e88-428e-ea82-972f6dfc2ca2"
   },
   "outputs": [
    {
     "name": "stderr",
     "output_type": "stream",
     "text": [
      "/usr/local/lib/python3.7/dist-packages/sklearn/utils/deprecation.py:87: FutureWarning: Function get_feature_names is deprecated; get_feature_names is deprecated in 1.0 and will be removed in 1.2. Please use get_feature_names_out instead.\n",
      "  warnings.warn(msg, category=FutureWarning)\n"
     ]
    },
    {
     "data": {
      "image/png": "[encoded data removed]",
      "text/plain": [
       "<Figure size 1008x720 with 1 Axes>"
      ]
     },
     "metadata": {
      "needs_background": "light"
     },
     "output_type": "display_data"
    }
   ],
   "source": [
    "import matplotlib.pyplot as plt\n",
    "import seaborn as sns\n",
    "var=vectorizer.get_feature_names()\n",
    "var_importances=pd.DataFrame({'token':var, 'importances':list(model.feature_importances_)})\\\n",
    ".sort_values(by=['importances'], ascending=False).head(20)\n",
    "fig,ax=plt.subplots(figsize=(14,10))\n",
    "sns.barplot(x='importances',y='token',data=var_importances,color='#3F5378')\n",
    "x_labels=[0,0.005,0.01,0.015,0.02,0.025]\n",
    "ax.set_xticks(x_labels)\n",
    "plt.show()"
   ]
  },
  {
   "cell_type": "code",
   "execution_count": null,
   "metadata": {
    "id": "TzkiUqUllDjx"
   },
   "outputs": [],
   "source": [
    "# RNN\n",
    "from keras.models import Sequential\n",
    "from keras.layers import Dense, Flatten, Embedding\n",
    "def integer_encode_documents(docs, tokenizer):\n",
    "    return tokenizer.texts_to_sequences(docs)\n",
    "\n",
    "def get_max_token_length_per_doc(docs):\n",
    "    return max(list(map(lambda x: len(x.split()), docs)))\n",
    "\n",
    "def make_sequential_model(plot=False):\n",
    "    model = Sequential()\n",
    "    model.add(Embedding(vocab_size, EMBEDDING_SIZE, input_length=max_length))\n",
    "    model.add(Flatten()) # Flatten makes this a (vocab_size x EMBEDDING_SIZE) x 1 vector.\n",
    "    model.add(Dense(1, activation='sigmoid')) \n",
    "    # Compile the model\n",
    "    model.compile(optimizer='adam', loss='binary_crossentropy', metrics=['acc'])\n",
    "    # summarize the model\n",
    "    print(model.summary())\n",
    "    if plot:\n",
    "        plot_model(model, to_file='model.png', show_shapes=True)\n",
    "    return model"
   ]
  },
  {
   "cell_type": "code",
   "execution_count": null,
   "metadata": {
    "colab": {
     "base_uri": "https://localhost:8080/"
    },
    "id": "IB95tQRclDn0",
    "outputId": "8a0250b6-39ad-4a1a-99c9-639b4f086365"
   },
   "outputs": [
    {
     "name": "stdout",
     "output_type": "stream",
     "text": [
      "Model: \"sequential\"\n",
      "_________________________________________________________________\n",
      " Layer (type)                Output Shape              Param #   \n",
      "=================================================================\n",
      " embedding (Embedding)       (None, 128, 50)           327900    \n",
      "                                                                 \n",
      " flatten (Flatten)           (None, 6400)              0         \n",
      "                                                                 \n",
      " dense (Dense)               (None, 1)                 6401      \n",
      "                                                                 \n",
      "=================================================================\n",
      "Total params: 334,301\n",
      "Trainable params: 334,301\n",
      "Non-trainable params: 0\n",
      "_________________________________________________________________\n",
      "None\n",
      "Epoch 1/10\n",
      "98/98 [==============================] - 3s 16ms/step - loss: 0.6304 - acc: 0.6407\n",
      "Epoch 2/10\n",
      "98/98 [==============================] - 2s 16ms/step - loss: 0.4387 - acc: 0.8349\n",
      "Epoch 3/10\n",
      "98/98 [==============================] - 1s 15ms/step - loss: 0.3119 - acc: 0.8988\n",
      "Epoch 4/10\n",
      "98/98 [==============================] - 2s 18ms/step - loss: 0.2514 - acc: 0.9278\n",
      "Epoch 5/10\n",
      "98/98 [==============================] - 1s 10ms/step - loss: 0.2091 - acc: 0.9422\n",
      "Epoch 6/10\n",
      "98/98 [==============================] - 1s 11ms/step - loss: 0.1763 - acc: 0.9543\n",
      "Epoch 7/10\n",
      "98/98 [==============================] - 1s 10ms/step - loss: 0.1519 - acc: 0.9620\n",
      "Epoch 8/10\n",
      "98/98 [==============================] - 1s 10ms/step - loss: 0.1332 - acc: 0.9687\n",
      "Epoch 9/10\n",
      "98/98 [==============================] - 1s 10ms/step - loss: 0.1208 - acc: 0.9687\n",
      "Epoch 10/10\n",
      "98/98 [==============================] - 1s 10ms/step - loss: 0.1089 - acc: 0.9760\n"
     ]
    }
   ],
   "source": [
    "from sklearn.model_selection import train_test_split\n",
    "from keras.preprocessing.text import Tokenizer\n",
    "from keras.preprocessing.sequence import pad_sequences\n",
    "\n",
    "X = data_payment.content_regex\n",
    "y = data_payment.label\n",
    "\n",
    "X_train, X_test, y_train, y_test = train_test_split(X, y, test_size=0.2, random_state=0, stratify=y)\n",
    "\n",
    "# Training Our Own Embeddings\n",
    "EMBEDDING_SIZE = 50\n",
    "\n",
    "tokenizer = Tokenizer(num_words=5000, oov_token=\"UNKNOWN_TOKEN\")\n",
    "tokenizer.fit_on_texts(X_train)\n",
    "\n",
    "# integer encode the documents\n",
    "encoded_docs = integer_encode_documents(X_train, tokenizer)\n",
    "encoded_test_docs = integer_encode_documents(X_test, tokenizer)\n",
    "# get the max length in terms of token length\n",
    "max_length = get_max_token_length_per_doc(X_train)\n",
    "# pad documents to max length\n",
    "padded_docs = pad_sequences(encoded_docs, maxlen=max_length, padding='post')\n",
    "padded_test_docs = pad_sequences(encoded_test_docs, maxlen=max_length, padding='post')\n",
    "# set the vocabulary size to some number that represents the total number of unique words in our vocabulary\n",
    "vocab_size = int(len(tokenizer.word_index) * 1.3)\n",
    "\n",
    "sequential_model = make_sequential_model()\n",
    "# fit the model\n",
    "history = sequential_model.fit(padded_docs, y_train, epochs=10, verbose=1)"
   ]
  },
  {
   "cell_type": "code",
   "execution_count": null,
   "metadata": {
    "colab": {
     "base_uri": "https://localhost:8080/"
    },
    "id": "99uD4EgVlDrk",
    "outputId": "f7a0d3b8-79a9-4c73-f15b-a50b5a5be09b"
   },
   "outputs": [
    {
     "name": "stdout",
     "output_type": "stream",
     "text": [
      "25/25 [==============================] - 0s 2ms/step - loss: 0.3993 - acc: 0.8493\n",
      "Accuracy: 84.929758\n"
     ]
    }
   ],
   "source": [
    "# evaluate the model\n",
    "loss, accuracy = sequential_model.evaluate(padded_test_docs, y_test, verbose=1)\n",
    "print('Accuracy: %f' % (accuracy*100))"
   ]
  },
  {
   "cell_type": "code",
   "execution_count": null,
   "metadata": {
    "colab": {
     "base_uri": "https://localhost:8080/"
    },
    "id": "RVS5V8piADdI",
    "outputId": "f02009bc-e6ca-4778-9577-0a6632c4bfc9"
   },
   "outputs": [
    {
     "name": "stderr",
     "output_type": "stream",
     "text": [
      "/usr/local/lib/python3.7/dist-packages/ipykernel_launcher.py:7: SettingWithCopyWarning: \n",
      "A value is trying to be set on a copy of a slice from a DataFrame.\n",
      "Try using .loc[row_indexer,col_indexer] = value instead\n",
      "\n",
      "See the caveats in the documentation: https://pandas.pydata.org/pandas-docs/stable/user_guide/indexing.html#returning-a-view-versus-a-copy\n",
      "  import sys\n"
     ]
    }
   ],
   "source": [
    "# Topic Modeling - Good\n",
    "data_payment_good=data_payment[data_payment['label']==1]\n",
    "\n",
    "stopword_list = ['_good_','great','nice','_app_', 'google', 'payment','pay','_phone_','year']\n",
    "\n",
    "for i in stopword_list:\n",
    "    data_payment_good['content_regex']=[r.replace(i,'') for r in data_payment_good['content_regex']]"
   ]
  },
  {
   "cell_type": "code",
   "execution_count": null,
   "metadata": {
    "colab": {
     "base_uri": "https://localhost:8080/"
    },
    "id": "Q_X-wbXplSUs",
    "outputId": "50e697d1-7571-420c-99b9-0f12aefbd91c"
   },
   "outputs": [
    {
     "name": "stdout",
     "output_type": "stream",
     "text": [
      "(1968, 7)\n",
      "   bank account  credit card  customer care  easy use  money transfer  \\\n",
      "0      0.000000          0.0            0.0       0.0             0.0   \n",
      "1      0.000000          0.0            0.0       0.0             0.0   \n",
      "2      0.675645          0.0            0.0       0.0             0.0   \n",
      "3      0.000000          0.0            0.0       0.0             0.0   \n",
      "4      0.000000          0.0            0.0       0.0             1.0   \n",
      "\n",
      "   send money  user friendly  \n",
      "0    0.000000            0.0  \n",
      "1    0.000000            0.0  \n",
      "2    0.737227            0.0  \n",
      "3    0.000000            0.0  \n",
      "4    0.000000            0.0  \n"
     ]
    },
    {
     "name": "stderr",
     "output_type": "stream",
     "text": [
      "/usr/local/lib/python3.7/dist-packages/sklearn/utils/deprecation.py:87: FutureWarning: Function get_feature_names is deprecated; get_feature_names is deprecated in 1.0 and will be removed in 1.2. Please use get_feature_names_out instead.\n",
      "  warnings.warn(msg, category=FutureWarning)\n"
     ]
    }
   ],
   "source": [
    "from sklearn.decomposition import NMF\n",
    "from sklearn.feature_extraction.text import TfidfVectorizer\n",
    "\n",
    "vectorizer=TfidfVectorizer(ngram_range=(2,3), min_df=0.01,max_df=0.4, stop_words='english')\n",
    "X1, terms1=vectorizer.fit_transform(data_payment_good['content_regex']),vectorizer.get_feature_names()\n",
    "X1_tfidf=pd.DataFrame(X1.toarray(),columns=terms1)\n",
    "print(X1_tfidf.shape)\n",
    "print(X1_tfidf.head(5))"
   ]
  },
  {
   "cell_type": "code",
   "execution_count": null,
   "metadata": {
    "colab": {
     "base_uri": "https://localhost:8080/"
    },
    "id": "P7-kwo8rlht1",
    "outputId": "4974dced-0d93-4d8b-ffdd-377398882e4a"
   },
   "outputs": [
    {
     "name": "stderr",
     "output_type": "stream",
     "text": [
      "/usr/local/lib/python3.7/dist-packages/sklearn/decomposition/_nmf.py:294: FutureWarning: The 'init' value, when 'init=None' and n_components is less than n_samples and n_features, will be changed from 'nndsvd' to 'nndsvda' in 1.1 (renaming of 0.26).\n",
      "  FutureWarning,\n"
     ]
    },
    {
     "data": {
      "text/plain": [
       "((1968, 7), (1968, 4), (4, 7))"
      ]
     },
     "execution_count": 109,
     "metadata": {},
     "output_type": "execute_result"
    }
   ],
   "source": [
    "nmf=NMF(n_components=4)\n",
    "W1=nmf.fit_transform(X1_tfidf)\n",
    "H1=nmf.components_\n",
    "X1.shape, W1.shape, H1.shape"
   ]
  },
  {
   "cell_type": "code",
   "execution_count": null,
   "metadata": {
    "colab": {
     "base_uri": "https://localhost:8080/"
    },
    "id": "cZ8zRPwTlhwg",
    "outputId": "b4b64ca3-b59f-4dda-c935-746dc8aadefc"
   },
   "outputs": [
    {
     "name": "stdout",
     "output_type": "stream",
     "text": [
      "TOPIC 0\n",
      "\n",
      "\b easy use(99.7%)\n",
      "\n",
      "\b credit card(0.3%)\n",
      "\n",
      "\b user friendly(0.0%)\n",
      "\n",
      "\b send money(0.0%)\n",
      "\n",
      "\b money transfer(0.0%)\n",
      "\n",
      "\b customer care(0.0%)\n",
      "\n",
      "\b bank account(0.0%)\n",
      "\n",
      "==================================================\n",
      "TOPIC 1\n",
      "\n",
      "\b user friendly(91.2%)\n",
      "\n",
      "\b customer care(6.3%)\n",
      "\n",
      "\b credit card(2.4%)\n",
      "\n",
      "\b send money(0.0%)\n",
      "\n",
      "\b money transfer(0.0%)\n",
      "\n",
      "\b easy use(0.0%)\n",
      "\n",
      "\b bank account(0.0%)\n",
      "\n",
      "==================================================\n",
      "TOPIC 2\n",
      "\n",
      "\b bank account(87.5%)\n",
      "\n",
      "\b credit card(8.3%)\n",
      "\n",
      "\b customer care(3.4%)\n",
      "\n",
      "\b money transfer(0.8%)\n",
      "\n",
      "\b user friendly(0.0%)\n",
      "\n",
      "\b send money(0.0%)\n",
      "\n",
      "\b easy use(0.0%)\n",
      "\n",
      "==================================================\n",
      "TOPIC 3\n",
      "\n",
      "\b send money(86.8%)\n",
      "\n",
      "\b money transfer(9.5%)\n",
      "\n",
      "\b credit card(3.7%)\n",
      "\n",
      "\b user friendly(0.0%)\n",
      "\n",
      "\b easy use(0.0%)\n",
      "\n",
      "\b customer care(0.0%)\n",
      "\n",
      "\b bank account(0.0%)\n",
      "\n",
      "==================================================\n"
     ]
    }
   ],
   "source": [
    "from typing import List\n",
    "def get_top_tfidf_tokens(H, feature_names,num):\n",
    "    for topic, vector in enumerate(H):\n",
    "        print(f'TOPIC {topic}\\n')\n",
    "        total=vector.sum()\n",
    "        top_scores=vector.argsort()[::-1][:num]\n",
    "        token_names=list(map(lambda idx: feature_names[idx], top_scores))\n",
    "        strengths=list(map(lambda idx: vector[idx]/total, top_scores))\n",
    "        \n",
    "        for strength, token_name in zip(strengths, token_names):\n",
    "            print(f'\\b {token_name}({round(strength*100,1)}%)\\n')\n",
    "        print(f'='*50)\n",
    "get_top_tfidf_tokens(H1, X1_tfidf.columns.tolist(),10)"
   ]
  },
  {
   "cell_type": "code",
   "execution_count": null,
   "metadata": {
    "colab": {
     "base_uri": "https://localhost:8080/"
    },
    "id": "EtsZfPSTlhzp",
    "outputId": "8bd2b8b9-7edc-4acd-db2d-135b74f9c972"
   },
   "outputs": [
    {
     "name": "stdout",
     "output_type": "stream",
     "text": [
      "Topic 0\n",
      "100.0% very straightforward and easy to use! very intuitive...almost no learning curve for my basic use.\n",
      "100.0% quick and easy to use and top of that good offers.\n",
      "100.0% i like this app , very useful easy to use......\n",
      "100.0% very good app and very helpful for needy people, provide loan in low interest, and very easy to use.\n",
      "100.0% easy to use, easy settlement, i'm using more than 1 year now it's really better than phone pe business and other business app. they even provide emergency loan by looking just credit score. so yeah so far 5 out of 5.\n",
      "100.0% easy to use. but also want some improvement like that only on watsapp through link is_not imp for machine order status. b'coz so improve your app. update soon. for help us\n",
      "100.0% satisfied and very much happy. i rarely rate 5 stars to any app but they deserve it. interface is easy to use and payments happens just with a blink of eyes. one suggestion: please send qr code stand alsong with sticker when someone orders the qr. also, please add hindi voice feature because it only notifies in english. 5 stars from me, i hope you'll work on my suggestions.\n",
      "100.0% it's so easy to use and can transfer monies from my bank acct.\n",
      "100.0% nice update. very easy to use even for first time user as well previous users. good see this update.\n",
      "100.0% easy to use, prevents fraudulent transactions (charges some buck for it but worth it) and amazingly well made app\n",
      "==================================================\n",
      "Topic 1\n",
      "100.0% very user friendly app.\n",
      "100.0% great app for merchants across the country.... hassle free transactions .... payment failure cases are almost zero using this app. but my suggestion is make it more user-friendly with simple user interface . qr code stickers are delivered to address for free which is so lovely. but qr code standee was_not der with the stickers . loan , insurance and interest savings account facilities are really helpful for small merchants especially. appreciated the work of npci and govt of india for bring this\n",
      "100.0% googlepay has better options but mipay gives better user friendly interface.\n",
      "100.0% cash back offers are very good and interface is extremely user friendly\n",
      "100.0% very user friendly..ease of transation..customer service is good..zipwallet and pay later is very useful & helpful...supercash balance save little money..my offers thankyou \n",
      "100.0% cash back credit is at slower speed but it is sure that they credit it to your account. offers are various and app is user friendly. keep it up and do_not disappoint us.\n",
      "100.0% user friendly. hastle free payments n receipts. within a minute transaction.safety assured. to any bank any person we can transfer.\n",
      "100.0% excellent  user friendly\n",
      "100.0% this app is cool easy and user friendly, offers are valuable. cashback process was done efficiently, and auto offers applied genuinely without user effort.\n",
      "100.0% very nice payment gateway and also user friendly. one problem i am facing as i am not able to share reference details to whatsapp. i have installed whatsapp business, as it show whatsapp is_not installed on the phone. please resolve this issue.\n",
      "==================================================\n",
      "Topic 2\n",
      "100.0% this update is awesome best feature is transfer money by clicking in previous update it automatically transfer balance to bank account i dont like this automatic transaction this update is best\n",
      "100.0% i love the paytm very much because it helps in many ways like transfer money to bank account or persons and it is very useful to book tickets for traveling or orders or so many...i like the app very much\n",
      "100.0% it's a great app created by npci. kudos to the team. a suggestion that i would like to share is while making direct payment to bank accounts using account number and ifsc code, there are many cooperative banks which are_not available in the list. i would suggest you to expand your coverage and include all banks big and small recognized by rbi. keep up the good work.\n",
      "100.0% i am very disappointed that twice i tried to pay my electricity bill but yet paid through this app. and bank account has been debited twice and no amt has been credited till today. and received sms like sorry! your transaction on freecharge was unsuccessful. if rs.3320.0 is deducted, it will be refunded to the source within 7 - 9 working days. pl refund the amt ad early as possible. from sudesh\n",
      "100.0% using this app since years now n like it. but it isnt working since a week now and everyone is complaining about this but they npci is_not fixing it seems. there is no specific error but just shows something went wrong message post entering the pin for transfer. i tried multiple bank accounts but same issue so it's not the bank but the app. i may hv to switch to some other upi app if issue is_not fixed soon . to break this good working app seems like a plan to promote non govt apps.\n",
      "100.0% this application is working fine with icici bank. more features to add this application 1. change bank account myself 2. when i received any payment through qr code, instant settlement in linked bank account or interest account. 3. instant redemption interest account to linked bank account when emergency , you can some charged for it 4. add a email notifications features because i want to all notification on email. note: i am eligible for lone but my state bihar not shown in select state list\n",
      "100.0% very good app, as i have been using since last one and half year. sometime it makes trouble to clear payments but it solves definitely. very good service because there are no direct transaction to bank accounts, it has very good wallet service you can withdrawal money anytime. thank you, bharat pe.\n",
      "100.0% i am unable to add my bank account... it's not just for one of my accounts..but every single one of them....even though all of my accounts support upi. do_not know what's the issue..but it keeps on saying that your bank servers did_not respond. error code:(u09)... i'll be happy if you could help me out with it. edit: i am able to add my bank account after the solution provided by the developers. it means a lot.\n",
      "100.0% nice app very helpful but sometimes it stucking not processing payments and not view balance amount today my account 239 rupees cut last month also ,delay payment s suffering some time server busy bank account not linked\n",
      "100.0% making payments here is easy. after linking your bank account it successfully receives payments within seconds of receiving message from the bank. i fully trust this app. awesome experience overall\n",
      "==================================================\n",
      "Topic 3\n",
      "100.0% greeting, this is one of the online platform and easy to understand all thins like recharge validity,netpack , expired validity and also airtel thanks app provided netbanking options you can share easly and any time any where no problem for reciver you can check your history who's send you money all things are possible..\n",
      "100.0% safe and secure way to send money or make online purchases! you can also dispute a purchase and make your case to get your money back! paypal makes the process easy and totally fair!\n",
      "100.0% no one is able to see my account as phone pe user... they need my account details to send money... it's been long time but no solution... transaction is good from my side. it's very inconvenient when others say that my phone number is_not in phone pe account\n",
      "100.0% awesome love paypal . its a fast and easy way to get paid and send money to someone .\n",
      "100.0% paypal is great because it's a secure way to send money where you know nobody can steal your information and you can put annual payments through paypal so you do_not have to worry about them overcharging you or anything it keeps a record of all the payments. a lot of people on ebay do_not like to take personal debit cards so paypal is a great way to go because everyone takes paypal\n",
      "100.0% paytm is the best application for sending money for recieving money for spending from paytm postpaid will help in a bad times . when you dont have money in your account still you can recharge from paytm postpaid . so overall about app paytm deserves 5 star ratings . if there is any option of giving 10 stars then also i can give a 10 stars .\n",
      "100.0% this is very best app because any person easily they can use within second we can send money to any person . bank . etc\n",
      "100.0% i love this app. i have used other apps for sending money and this one exceed them all. was prompt in handling disputes and was very fair. i totally recommend paypal for sending money.\n",
      "100.0% i use this app for almost 2 years and i am glad and fully satisfied. i can send money, recharge my phone and also tata sky. thankyou....\n",
      "100.0% easy and fast to use when purchasing or sending money. it's safe. and you can change which method of payment you prefer for each transaction. customer service reps are very helpful and polite.\n",
      "==================================================\n"
     ]
    }
   ],
   "source": [
    "def get_top_documents(W, documents, num):\n",
    "    sorted_docs=W.argsort(axis=0)[::-1]\n",
    "    top_docs=sorted_docs[:num].T\n",
    "    per_document_totals=W.sum(axis=1)\n",
    "    for topic, topdoc in enumerate(top_docs):\n",
    "        print(f'Topic {topic}')\n",
    "        for doc in topdoc:\n",
    "            score=W[doc][topic]\n",
    "            percent_topic=round(score/per_document_totals[doc]*100,1)\n",
    "            print(f'{percent_topic}%', documents[doc])\n",
    "        print('='*50)\n",
    "get_top_documents(W1,data_payment_good['content'].tolist(), num=10)"
   ]
  },
  {
   "cell_type": "code",
   "execution_count": null,
   "metadata": {
    "colab": {
     "base_uri": "https://localhost:8080/"
    },
    "id": "mjzCVZOhBWQY",
    "outputId": "f1e4dfe3-de03-4051-85f9-85483efc75be"
   },
   "outputs": [
    {
     "name": "stderr",
     "output_type": "stream",
     "text": [
      "/usr/local/lib/python3.7/dist-packages/ipykernel_launcher.py:7: SettingWithCopyWarning: \n",
      "A value is trying to be set on a copy of a slice from a DataFrame.\n",
      "Try using .loc[row_indexer,col_indexer] = value instead\n",
      "\n",
      "See the caveats in the documentation: https://pandas.pydata.org/pandas-docs/stable/user_guide/indexing.html#returning-a-view-versus-a-copy\n",
      "  import sys\n",
      "/usr/local/lib/python3.7/dist-packages/ipykernel_launcher.py:9: FutureWarning: The default value of regex will change from True to False in a future version.\n",
      "  if __name__ == '__main__':\n",
      "/usr/local/lib/python3.7/dist-packages/ipykernel_launcher.py:9: SettingWithCopyWarning: \n",
      "A value is trying to be set on a copy of a slice from a DataFrame.\n",
      "Try using .loc[row_indexer,col_indexer] = value instead\n",
      "\n",
      "See the caveats in the documentation: https://pandas.pydata.org/pandas-docs/stable/user_guide/indexing.html#returning-a-view-versus-a-copy\n",
      "  if __name__ == '__main__':\n"
     ]
    }
   ],
   "source": [
    "# Topic Modeling - Bad\n",
    "data_payment_bad=data_payment[data_payment['label']==0]\n",
    "\n",
    "stopword_list = ['bad','_app_','worse','worst','do_not']\n",
    "\n",
    "for i in stopword_list:\n",
    "    data_payment_bad['content_regex']=[r.replace(i,'') for r in data_payment_bad['content_regex']]\n",
    "\n",
    "data_payment_bad['content_regex']=data_payment_bad['content_regex'].str.replace(r'\\b(care|support|service)\\b','service',case=False)"
   ]
  },
  {
   "cell_type": "code",
   "execution_count": null,
   "metadata": {
    "colab": {
     "base_uri": "https://localhost:8080/"
    },
    "id": "2HKRrwXWlrrt",
    "outputId": "131ebee1-fee6-49fc-ed8d-38487bec5661",
    "scrolled": true
   },
   "outputs": [
    {
     "name": "stdout",
     "output_type": "stream",
     "text": [
      "(1946, 37)\n",
      "   _last update_  _one_ day  _phone_ pe  _problem_ try  bank account  \\\n",
      "0            0.0        0.0    0.000000            0.0           0.0   \n",
      "1            0.0        0.0    0.515176            0.0           0.0   \n",
      "2            0.0        0.0    0.000000            0.0           0.0   \n",
      "3            0.0        0.0    0.000000            0.0           0.0   \n",
      "4            0.0        0.0    0.000000            0.0           0.0   \n",
      "\n",
      "   contact customer  contact customer service  credit card  customer service  \\\n",
      "0               0.0                       0.0          0.0          0.316470   \n",
      "1               0.0                       0.0          0.0          0.518636   \n",
      "2               0.0                       0.0          0.0          0.000000   \n",
      "3               0.0                       0.0          0.0          0.000000   \n",
      "4               0.0                       0.0          0.0          0.000000   \n",
      "\n",
      "   customer service number  ...  send money  service number  service service  \\\n",
      "0                      0.0  ...         0.0             0.0         0.532307   \n",
      "1                      0.0  ...         0.0             0.0         0.000000   \n",
      "2                      0.0  ...         0.0             0.0         0.000000   \n",
      "3                      0.0  ...         0.0             0.0         0.000000   \n",
      "4                      0.0  ...         0.0             0.0         0.000000   \n",
      "\n",
      "   service team  solve _problem_  technical _problem_  transaction fail  \\\n",
      "0           0.0              0.0                  0.0               0.0   \n",
      "1           0.0              0.0                  0.0               0.0   \n",
      "2           0.0              0.0                  0.0               0.0   \n",
      "3           0.0              0.0                  0.0               0.0   \n",
      "4           0.0              0.0                  0.0               0.0   \n",
      "\n",
      "   transfer money  try time  waste time  \n",
      "0             0.0       0.0         0.0  \n",
      "1             0.0       0.0         0.0  \n",
      "2             0.0       0.0         0.0  \n",
      "3             0.0       0.0         0.0  \n",
      "4             0.0       0.0         0.0  \n",
      "\n",
      "[5 rows x 37 columns]\n"
     ]
    },
    {
     "name": "stderr",
     "output_type": "stream",
     "text": [
      "/usr/local/lib/python3.7/dist-packages/sklearn/utils/deprecation.py:87: FutureWarning: Function get_feature_names is deprecated; get_feature_names is deprecated in 1.0 and will be removed in 1.2. Please use get_feature_names_out instead.\n",
      "  warnings.warn(msg, category=FutureWarning)\n"
     ]
    }
   ],
   "source": [
    "from sklearn.decomposition import NMF\n",
    "from sklearn.feature_extraction.text import TfidfVectorizer\n",
    "\n",
    "vectorizer=TfidfVectorizer(ngram_range=(2,3), min_df=0.01,max_df=0.4, stop_words='english')\n",
    "X1, terms1=vectorizer.fit_transform(data_payment_bad['content_regex']),vectorizer.get_feature_names()\n",
    "X1_tfidf=pd.DataFrame(X1.toarray(),columns=terms1)\n",
    "print(X1_tfidf.shape)\n",
    "print(X1_tfidf.head(5))"
   ]
  },
  {
   "cell_type": "code",
   "execution_count": null,
   "metadata": {
    "colab": {
     "base_uri": "https://localhost:8080/"
    },
    "id": "QYhYW4h_lruw",
    "outputId": "ee340444-ad5c-4567-c444-e96050b1961e"
   },
   "outputs": [
    {
     "name": "stderr",
     "output_type": "stream",
     "text": [
      "/usr/local/lib/python3.7/dist-packages/sklearn/decomposition/_nmf.py:294: FutureWarning: The 'init' value, when 'init=None' and n_components is less than n_samples and n_features, will be changed from 'nndsvd' to 'nndsvda' in 1.1 (renaming of 0.26).\n",
      "  FutureWarning,\n"
     ]
    },
    {
     "data": {
      "text/plain": [
       "((1946, 37), (1946, 4), (4, 37))"
      ]
     },
     "execution_count": 104,
     "metadata": {},
     "output_type": "execute_result"
    }
   ],
   "source": [
    "nmf=NMF(n_components=4)\n",
    "W1=nmf.fit_transform(X1_tfidf)\n",
    "H1=nmf.components_\n",
    "X1.shape, W1.shape, H1.shape"
   ]
  },
  {
   "cell_type": "code",
   "execution_count": null,
   "metadata": {
    "colab": {
     "base_uri": "https://localhost:8080/"
    },
    "id": "CIshN9xAlrxk",
    "outputId": "b260ca0c-f1c3-4680-e4fb-2da98412195c",
    "scrolled": true
   },
   "outputs": [
    {
     "name": "stdout",
     "output_type": "stream",
     "text": [
      "TOPIC 0\n",
      "\n",
      "\b customer service(65.4%)\n",
      "\n",
      "\b customer service service(3.4%)\n",
      "\n",
      "\b service service(3.2%)\n",
      "\n",
      "\b contact customer service(2.9%)\n",
      "\n",
      "\b contact customer(2.9%)\n",
      "\n",
      "\b resolve _problem_(2.2%)\n",
      "\n",
      "\b customer service number(2.0%)\n",
      "\n",
      "\b service number(2.0%)\n",
      "\n",
      "\b raise ticket(1.6%)\n",
      "\n",
      "\b money deduct(1.6%)\n",
      "\n",
      "==================================================\n",
      "TOPIC 1\n",
      "\n",
      "\b bank account(68.5%)\n",
      "\n",
      "\b credit card(4.0%)\n",
      "\n",
      "\b google pay(4.0%)\n",
      "\n",
      "\b transfer money(3.9%)\n",
      "\n",
      "\b try time(2.2%)\n",
      "\n",
      "\b money deduct(1.8%)\n",
      "\n",
      "\b money debit(1.6%)\n",
      "\n",
      "\b face _problem_(1.5%)\n",
      "\n",
      "\b mobile number(1.5%)\n",
      "\n",
      "\b did_not receive(1.4%)\n",
      "\n",
      "==================================================\n",
      "TOPIC 2\n",
      "\n",
      "\b pay later(69.9%)\n",
      "\n",
      "\b service service(11.2%)\n",
      "\n",
      "\b customer service service(6.7%)\n",
      "\n",
      "\b _one_ day(3.4%)\n",
      "\n",
      "\b google pay(1.4%)\n",
      "\n",
      "\b poor service(1.3%)\n",
      "\n",
      "\b resolve _problem_(1.3%)\n",
      "\n",
      "\b credit card(1.1%)\n",
      "\n",
      "\b mobile number(1.0%)\n",
      "\n",
      "\b fix _problem_(1.0%)\n",
      "\n",
      "==================================================\n",
      "TOPIC 3\n",
      "\n",
      "\b technical _problem_(19.3%)\n",
      "\n",
      "\b make payment(13.5%)\n",
      "\n",
      "\b is_not work(11.0%)\n",
      "\n",
      "\b face _problem_(6.8%)\n",
      "\n",
      "\b _problem_ try(5.5%)\n",
      "\n",
      "\b try time(5.2%)\n",
      "\n",
      "\b send money(4.5%)\n",
      "\n",
      "\b google pay(3.8%)\n",
      "\n",
      "\b _last update_(3.3%)\n",
      "\n",
      "\b payment fail(3.2%)\n",
      "\n",
      "==================================================\n"
     ]
    }
   ],
   "source": [
    "def get_top_tfidf_tokens(H, feature_names,num):\n",
    "    for topic, vector in enumerate(H):\n",
    "        print(f'TOPIC {topic}\\n')\n",
    "        total=vector.sum()\n",
    "        top_scores=vector.argsort()[::-1][:num]\n",
    "        token_names=list(map(lambda idx: feature_names[idx], top_scores))\n",
    "        strengths=list(map(lambda idx: vector[idx]/total, top_scores))\n",
    "        \n",
    "        for strength, token_name in zip(strengths, token_names):\n",
    "            print(f'\\b {token_name}({round(strength*100,1)}%)\\n')\n",
    "        print(f'='*50)\n",
    "get_top_tfidf_tokens(H1, X1_tfidf.columns.tolist(),10)"
   ]
  },
  {
   "cell_type": "code",
   "execution_count": null,
   "metadata": {
    "colab": {
     "base_uri": "https://localhost:8080/"
    },
    "id": "eb9Q9O2cl6OO",
    "outputId": "45d78de5-9254-4513-8db9-712fee7def84",
    "scrolled": true
   },
   "outputs": [
    {
     "name": "stdout",
     "output_type": "stream",
     "text": [
      "Topic 0\n",
      "100.0% you can_not connect to customer care through help and support at all, only selected options to choose which are_not help at all. using this app as last option for my transactions\n",
      "100.0% pathetic experience had a fraud of transaction no customer support considers the situation. not at all reliable\n",
      "100.0% very bad customer service. my problem was_not resolved in 1 month. and then paytm team block my account for 90 day's.\n",
      "100.0% if you needy now they can_not provide a loan for you but whenever you have_not required then they call you. very bad. i am need a loan for extension of my business but they do_not provide. agent says order a swipe machine and i ordered and received as when you need if not support why choose bharat pay, i recommend you to not to purchase and do_not recommend any people for joining. 2nd review. only advertisement is very fast. there is no proper response when i send mail to customer support.\n",
      "100.0% no proper response by customer support, i made a 5000 pos transaction, amount is debited but still not added in my account since 2 months.worst support.\n",
      "100.0% the customer service experience is very bad..keep some real people instead of bots that sends the same message back to back.\n",
      "100.0% paytm postpaid does_not allow you to update your details like your address, which i need to update since i've moved to a new address. now my credit score is being negatively impacted because of inconsistency of data and their customer support keeps copy pasting the same dry reply: \"this feature is_not yet available, we will notify you when it's implemented\". you do_not need a new \"feature\" for this, you simply need to update and report the \"correct\" data to the credit bureaus, everyone does this.\n",
      "100.0% hello airtel i would like to say from my bottom of the heart this is very very stupid and pathetic network in the world... your airtel thanks app is stupid and useless app because there is no proper way to reach customer support guys.... my network is too bad so i am planning to register a complaint but there is no options..tell me to which number i should contact..... otherwise me and my entire community, friends are going to port...... thoooo thoooo thoooo.... cheee\n",
      "100.0% very worst... no customer care ... if google it and call the customer care... they are asking the card details and anydesk i'd and all. and also amount was failed but not credited to my account\n",
      "100.0% very worst customer care.... calls never getting connected.... called for kyc the agent was horrible i do_not have words to describe how pathetic service they r providing... i wish there could be 0 star.... this is the first app and service where i am giving such a negative feedback. 0 rating\n",
      "==================================================\n",
      "Topic 1\n",
      "100.0% can_not use it for payment in india so why this app even available in india, i simply want to connect it with my indian bank account but it's failing\n",
      "100.0% really bad application , failed transaction issue is_not handled since more than 15 days and can_not get my money back. my bank account is also not connecting in my new device.\n",
      "100.0% i have made a bank transfer 4 days back and the amount deducted from my bank account but the transfer was failed . every time i ues the help section they will replay stating that we will get you back in 48 hours.. i kindly request the freecharge users not to use the upi option at all .. if you're payment stuck then you may have to wait for day's, week's, month's or years you do_not know just to get your money back. f*** y**\n",
      "100.0% i'm not able to verify my sim and so i can_not add bank account.. please help me on this\n",
      "100.0% horrible experience, they take the money and do_not release it. i want to pay from my paytm wallet but that option is never valid. they make you pay from your bank account and keep money in the paytm wallet to increase their value. monopolised like anything;\n",
      "100.0% i wish i could give stars in negative, my airtel payment bank account has been blocked by some \"unknown\" reason for almost 7 months by them. from last 3 months i call them in every 5 days , tell them my problem, register a complaint, submit my documents and they say matter will be resolved in 48 hours. 2 out of 3 complaints were closed by them without telling me any reason, the third one is still pending. i m in despair.\n",
      "100.0% i tired to add my bank account with paypal they just only said we are_not available right now try after sometime still 7 days such a worst service ever\n",
      "100.0% most unlogical bank app ever. the service is the worst in refunding. they literally screw you over by charging you money if you refunded your the money through your bank account. also you can_not add money to paypal with the app and you have to go to your desktop device to do it. i can_not say it's the worst service but it comes close to it. if there was beter option i knew than would switch over without even looking back at this service.\n",
      "100.0% on checking balance , everytime my bank sends the message which was sent on the time of linking my bank account to this app that my account is successfully added to upi app and this issue occurs everytime i check my bank's account balance\n",
      "100.0% unable to add and remove bank account.....so irritating\n",
      "==================================================\n",
      "Topic 2\n",
      "100.0% before give pay later after taken. and circle time half month not a month\n",
      "100.0% app does_not have pay later tab. pay later account billing due amount pay tab not also available. need improvements.\n",
      "100.0% poor app . please wait freecharge verify your details again again and again show after applying pay later\n",
      "100.0% iam not used pan to free charge pay later it's showing already used another user how it possible\n",
      "100.0% too stupid app you can_not buy e gift card you can_not pay at shop by pay later you can_not shop everywhere \n",
      "100.0% very disappointed with app experience they are calling me to apply for pay later when i am applying for it they rejected any time i request to stop there add campaign\n",
      "100.0% not giving pay later\n",
      "100.0% freecharge pay later limit 6 month se 500 h bakwas app h koi mat karna ok pay later\n",
      "100.0% very poor. pay later activate nahi ho raha. cashback offer ka labh nahi milta.\n",
      "100.0% disgusting app. can_not even lend me a pay later app. third class customer satisfaction.\n",
      "==================================================\n",
      "Topic 3\n",
      "100.0% while making payment shows somthing went wrong try after some time there is technical issue\n",
      "100.0% this was a very good app for so many years. but since last 2-3 days it is_not working. every time i try to make a transaction or check my bank balance, it says that some technical issue is there\n",
      "100.0% slow and non working this app is_not working even after update,and shows technical problem. not resolved yet.\n",
      "100.0% the app is_not working showing technical issue i am unable to do transection do some thing\n",
      "100.0% app is_not working since nearly 20days. when i am checking balance it's saying technical issue. disgusting. \n",
      "100.0% while making payment it fails with remark technical issue, something went wrong try after some time, this is happening since last 7 days. it's surprising that after so many bad reviews authorities fail to rectify the same.\n",
      "100.0% app was working fine since last few years. but now since last week, it is_not working and displaying some technical issue. it seems that npci is_not able to rectify this issue. try to call the toll free number, but it is impossible to communicate with them. lodged a complaint few times in writting. but no reply received.thinking of switching over to some other app.\n",
      "100.0% not able to make payments not check balance. getting error \" some technical issue\". many users have complained here but action been taken. the issue in think it's due to last update. please roll back asap. please enhance the duration limit to download transactions from 45 days to 1 year. improve logging in performance and payment performance immediately\n",
      "100.0% recently show \"something's not right\", technical issue, wait for sometime...when will the \"sometime\" over..cant able to any transaction.\n",
      "100.0% i am still facing technical issues from last two weeks and i lodged complain through your app also but still not getting responses or solution on it ...i know government works slow a good app is about shut down anytime due your unresponsive attitude.\n",
      "==================================================\n"
     ]
    }
   ],
   "source": [
    "import numpy as np\n",
    "def get_top_documents(W, documents, num):\n",
    "    sorted_docs=W.argsort(axis=0)[::-1]\n",
    "    top_docs=sorted_docs[:num].T\n",
    "    per_document_totals=W.sum(axis=1)\n",
    "    for topic, topdoc in enumerate(top_docs):\n",
    "        print(f'Topic {topic}')\n",
    "        for doc in topdoc:\n",
    "            score=W[doc][topic]\n",
    "            percent_topic=round(score/per_document_totals[doc]*100,1)\n",
    "            print(f'{percent_topic}%', documents[doc])\n",
    "        print('='*50)\n",
    "get_top_documents(W1,data_payment_bad['content'].tolist(), num=10)"
   ]
  },
  {
   "cell_type": "markdown",
   "metadata": {
    "id": "idBSjGkUdalp"
   },
   "source": [
    "## Browsers - Ranyue"
   ]
  },
  {
   "cell_type": "code",
   "execution_count": 28,
   "metadata": {
    "ExecuteTime": {
     "end_time": "2022-05-13T03:52:40.422612Z",
     "start_time": "2022-05-13T03:52:39.858877Z"
    },
    "colab": {
     "base_uri": "https://localhost:8080/",
     "height": 232
    },
    "id": "-xw0tC5WCh2F",
    "outputId": "001d0cde-8d6c-4e9e-b9f0-4f8cb40eff76"
   },
   "outputs": [],
   "source": [
    "browsers = df[df.category == 'browsers']\n",
    "\n",
    "vectorizer = TfidfVectorizer(ngram_range=(1,3),\n",
    "                             token_pattern=r'\\b[a-zA-Z]{3,}\\b',\n",
    "                             max_df=0.4, stop_words=stopword_list_2+['ever'])\n",
    "X = vectorizer.fit_transform(browsers.content_regex)\n",
    "y = browsers.good\n",
    "\n",
    "X_train, X_test, y_train, y_test = train_test_split(X, y, test_size=0.2, stratify=y)"
   ]
  },
  {
   "cell_type": "code",
   "execution_count": 30,
   "metadata": {
    "ExecuteTime": {
     "end_time": "2022-05-13T03:54:18.859541Z",
     "start_time": "2022-05-13T03:54:17.486004Z"
    },
    "colab": {
     "base_uri": "https://localhost:8080/"
    },
    "id": "Xu-FjCF475uj",
    "outputId": "d83db40a-f21c-4c32-bad3-abe7e28c57c4"
   },
   "outputs": [
    {
     "name": "stdout",
     "output_type": "stream",
     "text": [
      "Precision: 0.7388535031847133\n",
      "Recall: 0.883248730964467\n",
      "Accuracy: 0.7810880829015544\n"
     ]
    }
   ],
   "source": [
    "lr = LogisticRegression()\n",
    "lr.fit(X_train, y_train) \n",
    "score(confusion_matrix(y_test.reset_index().good, (pd.DataFrame(lr.predict_proba(X_test)[:,1])[0] > 0.5)))"
   ]
  },
  {
   "cell_type": "code",
   "execution_count": 29,
   "metadata": {
    "ExecuteTime": {
     "end_time": "2022-05-13T03:53:09.545164Z",
     "start_time": "2022-05-13T03:52:44.893515Z"
    },
    "colab": {
     "base_uri": "https://localhost:8080/"
    },
    "id": "5oMEc8alCWFo",
    "outputId": "30ff1985-e4bf-4501-a59b-b80bb50f35a7"
   },
   "outputs": [
    {
     "name": "stdout",
     "output_type": "stream",
     "text": [
      "Precision: 0.755011135857461\n",
      "Recall: 0.8604060913705583\n",
      "Accuracy: 0.7862694300518135\n"
     ]
    }
   ],
   "source": [
    "rf = RandomForestClassifier()\n",
    "rf.fit(X_train, y_train) \n",
    "score(confusion_matrix(y_test.reset_index().good, (pd.DataFrame(rf.predict_proba(X_test)[:,1])[0] > 0.5)))"
   ]
  },
  {
   "cell_type": "code",
   "execution_count": null,
   "metadata": {
    "colab": {
     "base_uri": "https://localhost:8080/",
     "height": 660
    },
    "id": "pcco80HbLkL9",
    "outputId": "0b8db2b8-4ce6-4d19-92d4-26187d959ae5"
   },
   "outputs": [
    {
     "name": "stderr",
     "output_type": "stream",
     "text": [
      "/usr/local/lib/python3.7/dist-packages/sklearn/utils/deprecation.py:87: FutureWarning: Function get_feature_names is deprecated; get_feature_names is deprecated in 1.0 and will be removed in 1.2. Please use get_feature_names_out instead.\n",
      "  warnings.warn(msg, category=FutureWarning)\n"
     ]
    },
    {
     "data": {
      "image/png": "[encoded data removed]",
      "text/plain": [
       "<Figure size 1008x720 with 1 Axes>"
      ]
     },
     "metadata": {
      "needs_background": "light"
     },
     "output_type": "display_data"
    }
   ],
   "source": [
    "var = vectorizer.get_feature_names()\n",
    "##Varaibles are output sorted by importance\n",
    "var_importances = pd.DataFrame({'token':var,'importances':list(rf.feature_importances_)})\\\n",
    "    .sort_values(by=['importances'],ascending=False).head(30)\n",
    "##Variable importance visualization\n",
    "ax, fig = plt.subplots(figsize=(14,10))\n",
    "sns.barplot(x='importances',y='token',data=var_importances, color='#3F5378')\n",
    "plt.show()"
   ]
  },
  {
   "cell_type": "code",
   "execution_count": null,
   "metadata": {},
   "outputs": [],
   "source": [
    "X = browsers.content_regex\n",
    "y = browsers.is_good\n",
    "\n",
    "X_train, X_test, y_train, y_test = train_test_split(X, y, test_size=0.2, stratify=y)\n",
    "\n",
    "# Training Our Own Embeddings\n",
    "EMBEDDING_SIZE = 50\n",
    "\n",
    "tokenizer = Tokenizer(num_words=5000, oov_token=\"UNKNOWN_TOKEN\")\n",
    "tokenizer.fit_on_texts(X_train)\n",
    "\n",
    "# integer encode the documents\n",
    "encoded_docs = integer_encode_documents(X_train, tokenizer)\n",
    "encoded_test_docs = integer_encode_documents(X_test, tokenizer)\n",
    "# get the max length in terms of token length\n",
    "max_length = get_max_token_length_per_doc(X_train)\n",
    "# pad documents to max length\n",
    "padded_docs = pad_sequences(encoded_docs, maxlen=max_length, padding='post')\n",
    "padded_test_docs = pad_sequences(encoded_test_docs, maxlen=max_length, padding='post')\n",
    "\n",
    "# set the vocabulary size to some number that represents the total number of unique words in our vocabulary\n",
    "vocab_size = int(len(tokenizer.word_index) * 1.3)"
   ]
  },
  {
   "cell_type": "code",
   "execution_count": null,
   "metadata": {
    "id": "-ocqjUo-0NzI"
   },
   "outputs": [],
   "source": [
    "nn = make_sequential_model()\n",
    "# fit the model\n",
    "history = nn.fit(padded_docs, y_train, epochs=10, verbose=1)\n",
    "# evaluate the model\n",
    "loss, accuracy = nn.evaluate(padded_docs, y_train, verbose=1)\n",
    "print('Accuracy: %f' % (accuracy*100))\n",
    "# calculate score\n",
    "score(confusion_matrix(y_test.reset_index().is_good, (pd.DataFrame(n.predict(padded_test_docs, verbose=0))[0]>0.5)))"
   ]
  },
  {
   "cell_type": "code",
   "execution_count": null,
   "metadata": {
    "id": "-ocqjUo-0NzI"
   },
   "outputs": [],
   "source": [
    "rnn = make_rnn_classification_model()\n",
    "# fit the model\n",
    "history = rnn.fit(padded_docs, y_train, epochs=10, verbose=1)\n",
    "# evaluate the model\n",
    "loss, accuracy = rnn.evaluate(padded_docs, y_train, verbose=1)\n",
    "print('Accuracy: %f' % (accuracy*100))\n",
    "# calculate score\n",
    "score(confusion_matrix(y_test.reset_index().is_good,(pd.DataFrame(rnn.predict(padded_test_docs, verbose=0))[0]>0.5)))"
   ]
  },
  {
   "cell_type": "markdown",
   "metadata": {
    "heading_collapsed": true,
    "id": "N6apD-TjmFSe"
   },
   "source": [
    "### Topic Modeling"
   ]
  },
  {
   "cell_type": "code",
   "execution_count": null,
   "metadata": {
    "hidden": true,
    "id": "NfwxI6av0MRP"
   },
   "outputs": [],
   "source": [
    "## Report Results For Each Topic\n",
    "def get_top_tf_idf_tokens_for_topic(H: np.array, feature_names: List[str], num_top_tokens: int = 5):\n",
    "    \"\"\"\n",
    "    Uses the H matrix (K components x M original features) to identify for each topic the most frequent tokens.\n",
    "    \"\"\"\n",
    "    for topic, vector in enumerate(H):\n",
    "        print(f\"TOPIC {topic}\\n\")\n",
    "        total = vector.sum()\n",
    "        top_scores = vector.argsort()[::-1][:num_top_tokens]\n",
    "        token_names = list(map(lambda idx: feature_names[idx], top_scores))\n",
    "        strengths = list(map(lambda idx: vector[idx] / total, top_scores))\n",
    "    \n",
    "        for strength, token_name in zip(strengths, token_names):\n",
    "            print(f\"\\b{token_name} ({round(strength * 100, 1)}%)\\n\")\n",
    "        print(f\"=\" * 50)\n",
    "        \n",
    "def get_top_documents_for_each_topic(W: np.array, documents: List[str], num_docs: int = 5):\n",
    "    sorted_docs = W.argsort(axis=0)[::-1]\n",
    "    top_docs = sorted_docs[:num_docs].T\n",
    "    per_document_totals = W.sum(axis=1)\n",
    "    for topic, top_documents_for_topic in enumerate(top_docs):\n",
    "        print(f\"Topic {topic}\")\n",
    "        for doc in top_documents_for_topic:\n",
    "            score = W[doc][topic]\n",
    "            percent_about_topic = round(score / per_document_totals[doc] * 100, 1)\n",
    "            print(f\"{percent_about_topic}%\", documents[doc])\n",
    "        print(\"=\" * 50)"
   ]
  },
  {
   "cell_type": "markdown",
   "metadata": {
    "heading_collapsed": true,
    "hidden": true,
    "id": "r77AkXoRmSnU"
   },
   "source": [
    "#### Good Reviews"
   ]
  },
  {
   "cell_type": "code",
   "execution_count": null,
   "metadata": {
    "colab": {
     "base_uri": "https://localhost:8080/"
    },
    "hidden": true,
    "id": "970t4M4wmLzT",
    "outputId": "4489689a-91c3-43e9-f532-b451ae24583b"
   },
   "outputs": [
    {
     "name": "stderr",
     "output_type": "stream",
     "text": [
      "/usr/local/lib/python3.7/dist-packages/ipykernel_launcher.py:8: SettingWithCopyWarning: \n",
      "A value is trying to be set on a copy of a slice from a DataFrame.\n",
      "Try using .loc[row_indexer,col_indexer] = value instead\n",
      "\n",
      "See the caveats in the documentation: https://pandas.pydata.org/pandas-docs/stable/user_guide/indexing.html#returning-a-view-versus-a-copy\n",
      "  \n",
      "/usr/local/lib/python3.7/dist-packages/ipykernel_launcher.py:10: FutureWarning: The default value of regex will change from True to False in a future version.\n",
      "  # Remove the CWD from sys.path while we load stuff.\n",
      "/usr/local/lib/python3.7/dist-packages/ipykernel_launcher.py:10: SettingWithCopyWarning: \n",
      "A value is trying to be set on a copy of a slice from a DataFrame.\n",
      "Try using .loc[row_indexer,col_indexer] = value instead\n",
      "\n",
      "See the caveats in the documentation: https://pandas.pydata.org/pandas-docs/stable/user_guide/indexing.html#returning-a-view-versus-a-copy\n",
      "  # Remove the CWD from sys.path while we load stuff.\n",
      "/usr/local/lib/python3.7/dist-packages/ipykernel_launcher.py:11: FutureWarning: The default value of regex will change from True to False in a future version.\n",
      "  # This is added back by InteractiveShellApp.init_path()\n",
      "/usr/local/lib/python3.7/dist-packages/ipykernel_launcher.py:11: SettingWithCopyWarning: \n",
      "A value is trying to be set on a copy of a slice from a DataFrame.\n",
      "Try using .loc[row_indexer,col_indexer] = value instead\n",
      "\n",
      "See the caveats in the documentation: https://pandas.pydata.org/pandas-docs/stable/user_guide/indexing.html#returning-a-view-versus-a-copy\n",
      "  # This is added back by InteractiveShellApp.init_path()\n",
      "/usr/local/lib/python3.7/dist-packages/sklearn/utils/deprecation.py:87: FutureWarning: Function get_feature_names is deprecated; get_feature_names is deprecated in 1.0 and will be removed in 1.2. Please use get_feature_names_out instead.\n",
      "  warnings.warn(msg, category=FutureWarning)\n",
      "/usr/local/lib/python3.7/dist-packages/sklearn/decomposition/_nmf.py:294: FutureWarning: The 'init' value, when 'init=None' and n_components is less than n_samples and n_features, will be changed from 'nndsvd' to 'nndsvda' in 1.1 (renaming of 0.26).\n",
      "  FutureWarning,\n"
     ]
    },
    {
     "name": "stdout",
     "output_type": "stream",
     "text": [
      "News Topics:\n",
      "\n",
      "\n",
      "TOPIC 0\n",
      "\n",
      "\beasy use (46.8%)\n",
      "\n",
      "\bfast easy use (2.5%)\n",
      "\n",
      "\bfast easy (2.5%)\n",
      "\n",
      "\bhighly recommend (1.7%)\n",
      "\n",
      "\bmobile version (1.4%)\n",
      "\n",
      "\bmany feature (1.3%)\n",
      "\n",
      "\buse fast (1.3%)\n",
      "\n",
      "\bonline class (1.2%)\n",
      "\n",
      "\beasy use also (1.2%)\n",
      "\n",
      "\buse also (1.2%)\n",
      "\n",
      "==================================================\n",
      "TOPIC 1\n",
      "\n",
      "\bdark mode (25.7%)\n",
      "\n",
      "\bextension support (4.6%)\n",
      "\n",
      "\bvideo player (2.1%)\n",
      "\n",
      "\blittle bit (1.9%)\n",
      "\n",
      "\bive use (1.9%)\n",
      "\n",
      "\bplease add (1.8%)\n",
      "\n",
      "\bforce dark (1.7%)\n",
      "\n",
      "\bforce dark mode (1.7%)\n",
      "\n",
      "\beasy navigate (1.6%)\n",
      "\n",
      "\bdownload manager (1.5%)\n",
      "\n",
      "==================================================\n",
      "TOPIC 2\n",
      "\n",
      "\bsupport extension (29.7%)\n",
      "\n",
      "\bplay store (6.2%)\n",
      "\n",
      "\bwork fine (4.8%)\n",
      "\n",
      "\bextension work (3.4%)\n",
      "\n",
      "\bbrowse experience (2.8%)\n",
      "\n",
      "\bplease fix (2.6%)\n",
      "\n",
      "\bchromium base (2.5%)\n",
      "\n",
      "\bthanks developer (1.6%)\n",
      "\n",
      "\bextension support (1.6%)\n",
      "\n",
      "\beven though (1.4%)\n",
      "\n",
      "==================================================\n",
      "TOPIC 3\n",
      "\n",
      "\bdesktop version (22.4%)\n",
      "\n",
      "\bmobile version (5.8%)\n",
      "\n",
      "\bplease add (3.2%)\n",
      "\n",
      "\badd feature (2.9%)\n",
      "\n",
      "\bedge mobile (2.9%)\n",
      "\n",
      "\bbrowsing experience (2.4%)\n",
      "\n",
      "\buse desktop (2.0%)\n",
      "\n",
      "\bmany feature (2.0%)\n",
      "\n",
      "\bfeature desktop (2.0%)\n",
      "\n",
      "\bwork properly (1.9%)\n",
      "\n",
      "==================================================\n",
      "Topic 0\n",
      "100.0% opera mini is a effective app,easy to use and has all the tools needed to browse and navigate the online platform...\n",
      "100.0% reliable easy to use.\n",
      "100.0% i've used chrome for at least 5 years if not longer. i've never had a problem with it. if i had any issue about anything google was there to help. no matter what i'm looking up, chrome has given me alternative answers similar to what i search. 99% of the time chrome has exactly what i'm looking for. its very easy to use.. thanks google..\n",
      "100.0% most private browser. easy to use interface. all browing data deleted instantly when required. no ads.\n",
      "100.0% well yess it is true it's really faster than chrome. i personally checking  it.. and easy to use.. i did_not expected that i would be such satisfied with this but to be honest it's 10/10 i am happy with the speed and conveniently use\n",
      "100.0% browser is easy to use and effective.\n",
      "100.0% easy to use... just the ads are killing me...\n",
      "100.0% simple easy to use, and no tracking, can_not ask for much more, so far so good\n",
      "100.0% firefox is easy to use and safe\n",
      "100.0% so far i have replace my samsung browser with this one, it's easy to use and quicker than crome. i love the layout of the news & article's. bing & edge should somehow share favorites..they go hand & hand together well.\n",
      "==================================================\n",
      "Topic 1\n",
      "100.0% 3-15-22 update: still superb! i love the fact that, so far, updates do_not bring bugs to this awesome app! 12-14-21 update: superb browser! i love \"dark mode\". so easy on the eyes!! 4-2021 the new edge kicks the butts of all the other browsers!! from the bookmark management to its great performance, it rocks!!\n",
      "100.0% yessss. best browser on android hands down. dark mode follows the system theme now on pixel. thank you!!\n",
      "100.0% amazing browser. it is fast, has dark mode and lightweight. much better than chrome though lacks a bit from brave and epic.\n",
      "100.0% new night mode is dazzling  keep up the excellent work arnauld. the browser is so amazing now.. all trackers are also removed.. so perfect.. thanks  edit: haha yes bro.. been here since the beginning when i used to send numerous mails to u about night mode suggestions :d and i am happy and proud to be one of the first kiwi users ^^ thanks again for giving us this fantastic browser  :')\n",
      "96.7% omg i was waiting for this update for years, thanks a ton for making it happen. the devtools is already proving life saver since i mostly am on phone, extensions support is another useful addon, dark mode, hides (most) annoying ads. honestly i can_not explain in words how much useful this update is to me. i wish chrome had this in first place, also i do_not understand the hate for tab groups which i see in some reviews , its also really useful. i would give a big hug to developer if i could.\n",
      "96.7% minialistic, best dark mode of any browser, with extension support you can have best privacy as well. all the necessary features are there, this is the best form of chromium. i have used all the browsers this is the best. would love if this was available for ios and mac as well. is there any chance of it coming to ios and mac?\n",
      "100.0% the only thing that prevents me using this as my default browser, is that, it does_not support \"edge://flags->force dark mode\". plz update the chromium version, and enable this flag as soon as possible! otherwise, everything is perfect :) update : the dark mode is now available in edge://flags!!\n",
      "100.0% great dark mode, easy to navigate, much better than crome.\n",
      "100.0% the application is working well. 1.it has ad block feature. 2.dark mode feature. 3.data saving mode. and many other useful features.i recommend this browser.\n",
      "97.8% one of the best browsers available. per site dark mode would have been better.\n",
      "==================================================\n",
      "Topic 2\n",
      "100.0% the best browser out there...this is like super chrome...has all the functionalities of a browser and even more...supports all the chrome extensions which used to be limited only to desktop so far...thanks for that...and it is highly customisable...with a superb amoled black layout...thanks for this awesome browser keep up the good work.\n",
      "100.0% only mobile browser that supports extensions\n",
      "100.0% splendid! this kiwi browser supports chrome extensions. is_not that great? when you want everything to be mobile. 5 stars!\n",
      "100.0% exactly the type of browsers i needed. supports chrome extensions. turns into fully amoled. would be great if there is a history,passwords import option.\n",
      "100.0% this browser is great - it supports extensions! ublock & bypass paywalls clean are two i can_not live without\n",
      "100.0% this browser is really useful and underrated. i have_not had any problems with it so far. the best thing about this browser is that it supports extensions, something which i badly needed.\n",
      "100.0% switched from chrome and firefox to this. better browsing experience with great support for extensions. this app can fulfill all your browser needs.\n",
      "97.8% amazing! probably the only chromium based browser with support for extensions.\n",
      "100.0% the fact that it supports extensions is just dope! i have been waiting for a browser in android to support it. thank you man! i've seen your post in xda and i absolutely love it. the improved add and pop up blocks does works well as promised even though i have to try it out on more sites i've just used this browser for a day. i understand this app is new, still under development and you spend a lot everyday but do add the support for extensions mostly the popular ones, later on. best of luck.\n",
      "98.8% best browser, it's fast, clean and supports extension which is just the cherry on the cake. but some of the extensions do_not work at all namely the media downloader extension... edit: updating my rating to 5 star, this app now works perfectly fine. extensions are also working quite well. all thanks to the developer.\n",
      "==================================================\n",
      "Topic 3\n",
      "100.0% the browser is great and integrates nicely with the desktop version. you can turn trending searches (which i hate!) under the search options in settings.\n",
      "100.0% satisfied with everything but improve bookmark interface in similar with desktop version folders and subfolders easy to view..\n",
      "100.0% best browser i've ever used. but still i have some problem with it's desktop version. before whenever i pin a page, it always stays even after i close it and open once again. but now it's not staying the same way. it could be better if the browsing history is also synchronised just like recent tabs. overall this browser is the best one as it does what it claims to do, ad free browser!\n",
      "100.0% not as good as the desktop version, taking up so much space, but with a new moto who cares????!!!! lol\n",
      "100.0% nice application for browsing. hope the company adds the feature of editing pdfs as in desktop version to mobile application as well. that would be great.\n",
      "99.8% originally i was using the desktop version, i was so amazed by the performance and speed of this browser that i was compelled to download on android. this browser is next level. it has so many features that are actually usable in our day to day life. chrome is just an adware. this browser is way more faster than any other. pdf reader is there in desktop version but is missing in android. pls make this feature available.\n",
      "99.1% i do_not like the design...just copy chrome or firefox they have simple familiar design which makes them superior...if not then make a password manager app for android as i like the desktop version of edge but i like the mobile version of chrome and firefox\n",
      "100.0% while it does_not have a lot of the same features the desktop version does, the inclusion of recent tab sharing and my flow are great tools for cross-device sharing. tabs are arranged vertically, and navigation can be done completely one-handed as the buttons are on the bottom of the screen. overall, this is fast becoming my favorite browser both on and off the desktop.\n",
      "99.1% have been using the desktop version for over a decade and the mobile version is equally good. now that the bookmarks and history can be synced, it's become even better. not to mention the add block add on's are pure convince.\n",
      "100.0% comparable to the desktop version. chrome is_not a option for me(privacy issues). tried microsoft edge, that too is_not good on mobile. firefox on the other hand, 5/5 on both desktop and mobile.\n",
      "==================================================\n"
     ]
    }
   ],
   "source": [
    "browsers_good = df[(df.category == 'browsers')&(df.score==5)]\n",
    "\n",
    "stopword_list = ['good','best','better','star','ever','engine','chrome','browser', 'opera','mini','year','google','firefox','excellent']\n",
    "\n",
    "for i in stopword_list:\n",
    "    browsers_good['content_regex']=[r.replace(i,'') for r in browsers_good['content_regex']]\n",
    "\n",
    "browsers_good['content_regex']=browsers_good['content_regex'].str.replace(r'\\b(dark|night)\\b','dark',case=False)\n",
    "browsers_good['content_regex']=browsers_good['content_regex'].str.replace(r'\\b(keep up|keep work)\\b','',case=False)\n",
    "\n",
    "vectorizer = TfidfVectorizer(ngram_range=(2,3),\n",
    "                             token_pattern=r'\\b[a-zA-Z]{3,}\\b',\n",
    "                             max_df=0.4, stop_words=stopword_list_2, max_features=400)\n",
    "X = vectorizer.fit_transform(browsers_good.content_regex)\n",
    "vectorized_df = pd.DataFrame(X.toarray(), columns=vectorizer.get_feature_names())\n",
    "\n",
    "## Fit NMF Model¶\n",
    "nmf = NMF(n_components=4)\n",
    "W_browsers = nmf.fit_transform(vectorized_df)\n",
    "H_browsers = nmf.components_\n",
    "\n",
    "print(f\"News Topics:\\n\\n\")\n",
    "get_top_tf_idf_tokens_for_topic(H_browsers, vectorized_df.columns.tolist(), 10)\n",
    "\n",
    "get_top_documents_for_each_topic(W_browsers, browsers_good.content.tolist(), num_docs=10)"
   ]
  },
  {
   "cell_type": "markdown",
   "metadata": {
    "heading_collapsed": true,
    "hidden": true,
    "id": "VTLYpOJPmdVF"
   },
   "source": [
    "#### Poor Reviews"
   ]
  },
  {
   "cell_type": "code",
   "execution_count": null,
   "metadata": {
    "colab": {
     "base_uri": "https://localhost:8080/"
    },
    "hidden": true,
    "id": "Er9_RFxAmgR-",
    "outputId": "94226951-5008-4ec7-8672-c983218338b7"
   },
   "outputs": [
    {
     "name": "stderr",
     "output_type": "stream",
     "text": [
      "/usr/local/lib/python3.7/dist-packages/ipykernel_launcher.py:6: SettingWithCopyWarning: \n",
      "A value is trying to be set on a copy of a slice from a DataFrame.\n",
      "Try using .loc[row_indexer,col_indexer] = value instead\n",
      "\n",
      "See the caveats in the documentation: https://pandas.pydata.org/pandas-docs/stable/user_guide/indexing.html#returning-a-view-versus-a-copy\n",
      "  \n",
      "/usr/local/lib/python3.7/dist-packages/ipykernel_launcher.py:8: FutureWarning: The default value of regex will change from True to False in a future version.\n",
      "  \n",
      "/usr/local/lib/python3.7/dist-packages/ipykernel_launcher.py:8: SettingWithCopyWarning: \n",
      "A value is trying to be set on a copy of a slice from a DataFrame.\n",
      "Try using .loc[row_indexer,col_indexer] = value instead\n",
      "\n",
      "See the caveats in the documentation: https://pandas.pydata.org/pandas-docs/stable/user_guide/indexing.html#returning-a-view-versus-a-copy\n",
      "  \n",
      "/usr/local/lib/python3.7/dist-packages/sklearn/utils/deprecation.py:87: FutureWarning: Function get_feature_names is deprecated; get_feature_names is deprecated in 1.0 and will be removed in 1.2. Please use get_feature_names_out instead.\n",
      "  warnings.warn(msg, category=FutureWarning)\n",
      "/usr/local/lib/python3.7/dist-packages/sklearn/decomposition/_nmf.py:294: FutureWarning: The 'init' value, when 'init=None' and n_components is less than n_samples and n_features, will be changed from 'nndsvd' to 'nndsvda' in 1.1 (renaming of 0.26).\n",
      "  FutureWarning,\n"
     ]
    },
    {
     "name": "stdout",
     "output_type": "stream",
     "text": [
      "News Topics:\n",
      "\n",
      "\n",
      "TOPIC 0\n",
      "\n",
      "\bnot update (26.8%)\n",
      "\n",
      "\bnot update reply (3.2%)\n",
      "\n",
      "\bchrome not update (3.2%)\n",
      "\n",
      "\bupdate reply (3.1%)\n",
      "\n",
      "\bchrome not (2.9%)\n",
      "\n",
      "\btry time (1.4%)\n",
      "\n",
      "\btry time continuously (1.4%)\n",
      "\n",
      "\bnot update try (1.4%)\n",
      "\n",
      "\bcontinuously row (1.4%)\n",
      "\n",
      "\bcontinuously row day (1.4%)\n",
      "\n",
      "==================================================\n",
      "TOPIC 1\n",
      "\n",
      "\badblock work (22.0%)\n",
      "\n",
      "\badblock work kinda (2.5%)\n",
      "\n",
      "\bkinda useless (2.5%)\n",
      "\n",
      "\bwork kinda useless (2.5%)\n",
      "\n",
      "\bwork kinda (2.5%)\n",
      "\n",
      "\bplay even refresh (1.0%)\n",
      "\n",
      "\bvideo play even (1.0%)\n",
      "\n",
      "\brefresh disappointing (1.0%)\n",
      "\n",
      "\beven refresh disappointing (1.0%)\n",
      "\n",
      "\beven refresh (1.0%)\n",
      "\n",
      "==================================================\n",
      "TOPIC 2\n",
      "\n",
      "\bgrid view (1.8%)\n",
      "\n",
      "\bforce grid (0.7%)\n",
      "\n",
      "\bforce grid view (0.7%)\n",
      "\n",
      "\bbring back (0.5%)\n",
      "\n",
      "\btab grid (0.5%)\n",
      "\n",
      "\btab grid view (0.5%)\n",
      "\n",
      "\bview tab (0.5%)\n",
      "\n",
      "\bchange force grid (0.4%)\n",
      "\n",
      "\bchange force (0.4%)\n",
      "\n",
      "\bhate grid (0.4%)\n",
      "\n",
      "==================================================\n",
      "TOPIC 3\n",
      "\n",
      "\bupdate chrome (0.6%)\n",
      "\n",
      "\bplease fix (0.5%)\n",
      "\n",
      "\bbrowser ever (0.5%)\n",
      "\n",
      "\bplay store (0.5%)\n",
      "\n",
      "\bever use (0.5%)\n",
      "\n",
      "\bbrowser ever use (0.5%)\n",
      "\n",
      "\bunable update (0.5%)\n",
      "\n",
      "\bchrome play (0.4%)\n",
      "\n",
      "\bupdate chrome play (0.4%)\n",
      "\n",
      "\bchrome play store (0.4%)\n",
      "\n",
      "==================================================\n",
      "Topic 0\n",
      "100.0% i cannot update it, why?!\n",
      "100.0% not updating.\n",
      "99.5% my google chrome app not updated y? reply me\n",
      "100.0% not updating i have tried 5 to 6 times continuously in row for 2 to 3 days...\n",
      "100.0% not updating due to changes made to the whole app for the worse. i have read the reviews, & there completely horrible!\n",
      "77.1% chrome update is very worst, in play store 90% times its not updated properly, it is stop at mid and then not restart again, ( what's is that , app update show 2mb but before updating 2 mb it is take 50 to 100 mb net for update,,,\n",
      "15.2% i have updated my chrome and after that not able to browse anything on browser and getting blank white screen.\n",
      "64.6% there's no info in the \"what's new\" section in the updates. [reply]: always add information for every update, even if it's a minor one such as small fixes or improvements, that's a must for an app as popular as this. deploying an update without information about it looks unprofessional to me. it makes a difference if i would like to do the update and/or when to do it.\n",
      "39.4% i tried 3 times to download this app amass it failed every time\n",
      "79.3% i five  started it back in november 2017, now 1 star, i am moving to chrome, 1. i would love to not loose my passwords when i forget my master password. happened twice to me, it's so painful to reset passwords of hundred plus accounts. 2. drm content does_not play smoothly at 2x speed. 3. android password manager is messed up. 4. forced fonts mess up the pages.\n",
      "==================================================\n",
      "Topic 1\n",
      "100.0% adblock does_not work\n",
      "100.0% adblock does_not work\n",
      "100.0% adblock does_not work so...kinda useless.\n",
      "97.8% adblock does_not work at all. youtube videos play only after ads even after refreshing. disappointing.\n",
      "100.0% it's fast and allows you to change the wallpaper the adblock does_not work at all popups and redirects are still there and no customisation to what makes it convenient for the user\n",
      "97.1% no background music/sound. adblock does_not work properly. the two main features i want in a browser are non existent, so i have to give 1 star. it's a shame, because i really love desktop opera gx, but i will just stick to brave until you guys solve the issues here.\n",
      "98.5% everytime i want to delete a tab it just keeps opening it instead. i'm tapping on the x multiple times and it's just gotten so annoying. adblock does_not work. if the desktop version runs well, make it equal to the mobile app. fix it.\n",
      "29.8% this app not playing youtube videos. why? i rewrite this post after microsoft attend my previous post. i installed latest version. but some videos is still not play. for exa.-- live streaming of youtube channels and some other youtube videos are_not playing. please fix this problem as soon as possible. thanks\n",
      "54.2% uninstalling it... because you have removed the most loved feature of playing youtube videos in background. there was nothing good, except this feature of playing youtube videos in background.\n",
      "43.6% hi i recently update to 97.1.0, i see a thick white bar on the bottom of the screen, whe i see youtube videos on full screen mode on mozila.\n",
      "==================================================\n",
      "Topic 2\n",
      "100.0% they changed to forced grid view! done!\n",
      "100.0% hated grid view, that was part of my reason to use brave, now even brave forces grid view and removed cascade view as a option... i know it's because of chromium, but plz bring back cascade view for tabs\n",
      "100.0% brave now forcing grid view for tabs instead of stacked tabs viewing. i am stopping to use brave for that reason. stop imposing changes on people. nobody liked grid views on other browsers.. why bring it over on brave?\n",
      "100.0% forcing grid view on the latest update, making this browser unusable, very disappointing.\n",
      "100.0% tab grid view returned i hate it switched from chrome because these following reasons group tab and grid view\n",
      "100.0% hate grid view.\n",
      "100.0% bring back cascade tabs! grid view is horrendous! i already ditched chrome for good for this, maybe i'll need to ditch brave too. \n",
      "100.0% great built in ad blocker but forced to use terrible tab grid view. switching to kiwi until fixed\n",
      "100.0% ah, the good old grid view in tab view. bye bye brave and hello kiwi browser.\n",
      "100.0% dear google, only reason why am i giving 1 star is that tab grid view layout. i just do_not like viewing my tabs like this. please provide a option where we can switch from grid to list layout (old type).\n",
      "==================================================\n",
      "Topic 3\n",
      "100.0% i can_not update the chrome from play store...\n",
      "100.0% lol i can_not update my chrome in play store\n",
      "100.0% worst browser i ever use....\n",
      "100.0% worst browser i've ever used, worse than edge\n",
      "100.0% unable to update chrome app.\n",
      "100.0% i am using opera mini but i am facing issue \"unable to connect please review your network settings\" problem please fix these issue.\n",
      "100.0% unable to update this app\n",
      "100.0% when ever i am opening the websites it's not opening and telling unable to connect. please review your network setting please fix it\n",
      "100.0% worst browser ever used , plz do_not use this pathetic browser , so many lags, automatically closes many times , removes my important already opened tabs , worst browser .. they sell this worst product labelling it as god given google browser , its not do_not use it\n",
      "99.7% why can_not i update it via google play store?? i have tried on many devices and got this problem.. please fix that.....\n",
      "==================================================\n"
     ]
    }
   ],
   "source": [
    "browsers_bad = df[(df.category == 'browsers')&(df.score==1)]\n",
    "\n",
    "stopword_list = ['bad','worse','worst','star', 'opera','mini','google','firefox']\n",
    "\n",
    "for i in stopword_list:\n",
    "    browsers_bad['content_regex']=[r.replace(i,'') for r in browsers_bad['content_regex']]\n",
    "\n",
    "browsers_bad['content_regex']=browsers_bad['content_regex'].str.replace(r'\\b(not work)\\b','',case=False)\n",
    "\n",
    "vectorizer = TfidfVectorizer(ngram_range=(2,3),\n",
    "                             token_pattern=r'\\b[a-zA-Z]{3,}\\b',\n",
    "                             max_df=0.4, stop_words=stopword_list_2)\n",
    "X = vectorizer.fit_transform(browsers_bad.content_regex)\n",
    "vectorized_df = pd.DataFrame(X.toarray(), columns=vectorizer.get_feature_names())\n",
    "\n",
    "## Fit NMF Model¶\n",
    "nmf = NMF(n_components=4)\n",
    "W_browsers = nmf.fit_transform(vectorized_df)\n",
    "H_browsers = nmf.components_\n",
    "\n",
    "print(f\"News Topics:\\n\\n\")\n",
    "get_top_tf_idf_tokens_for_topic(H_browsers, vectorized_df.columns.tolist(), 10)\n",
    "\n",
    "get_top_documents_for_each_topic(W_browsers, browsers_bad.content.tolist(), num_docs=10)"
   ]
  },
  {
   "cell_type": "code",
   "execution_count": 29,
   "metadata": {
    "ExecuteTime": {
     "end_time": "2022-05-13T03:53:09.545164Z",
     "start_time": "2022-05-13T03:52:44.893515Z"
    },
    "colab": {
     "base_uri": "https://localhost:8080/"
    },
    "hidden": true,
    "id": "5oMEc8alCWFo",
    "outputId": "30ff1985-e4bf-4501-a59b-b80bb50f35a7"
   },
   "outputs": [
    {
     "name": "stdout",
     "output_type": "stream",
     "text": [
      "Precision: 0.755011135857461\n",
      "Recall: 0.8604060913705583\n",
      "Accuracy: 0.7862694300518135\n"
     ]
    }
   ],
   "source": [
    "rf = RandomForestClassifier()\n",
    "rf.fit(X_train, y_train) \n",
    "score(confusion_matrix(y_test.reset_index().good, (pd.DataFrame(rf.predict_proba(X_test)[:,1])[0] > 0.5)))"
   ]
  },
  {
   "cell_type": "code",
   "execution_count": null,
   "metadata": {
    "colab": {
     "base_uri": "https://localhost:8080/",
     "height": 660
    },
    "hidden": true,
    "id": "pcco80HbLkL9",
    "outputId": "0b8db2b8-4ce6-4d19-92d4-26187d959ae5"
   },
   "outputs": [
    {
     "name": "stderr",
     "output_type": "stream",
     "text": [
      "/usr/local/lib/python3.7/dist-packages/sklearn/utils/deprecation.py:87: FutureWarning: Function get_feature_names is deprecated; get_feature_names is deprecated in 1.0 and will be removed in 1.2. Please use get_feature_names_out instead.\n",
      "  warnings.warn(msg, category=FutureWarning)\n"
     ]
    },
    {
     "data": {
      "image/png": "[encoded data removed]",
      "text/plain": [
       "<Figure size 1008x720 with 1 Axes>"
      ]
     },
     "metadata": {
      "needs_background": "light"
     },
     "output_type": "display_data"
    }
   ],
   "source": [
    "var = vectorizer.get_feature_names()\n",
    "##Varaibles are output sorted by importance\n",
    "var_importances = pd.DataFrame({'token':var,'importances':list(rf.feature_importances_)})\\\n",
    "    .sort_values(by=['importances'],ascending=False).head(30)\n",
    "##Variable importance visualization\n",
    "ax, fig = plt.subplots(figsize=(14,10))\n",
    "sns.barplot(x='importances',y='token',data=var_importances, color='#3F5378')\n",
    "plt.show()"
   ]
  },
  {
   "cell_type": "code",
   "execution_count": null,
   "metadata": {
    "hidden": true
   },
   "outputs": [],
   "source": [
    "X = browsers.content_regex\n",
    "y = browsers.is_good\n",
    "\n",
    "X_train, X_test, y_train, y_test = train_test_split(X, y, test_size=0.2, stratify=y)\n",
    "\n",
    "# Training Our Own Embeddings\n",
    "EMBEDDING_SIZE = 50\n",
    "\n",
    "tokenizer = Tokenizer(num_words=5000, oov_token=\"UNKNOWN_TOKEN\")\n",
    "tokenizer.fit_on_texts(X_train)\n",
    "\n",
    "# integer encode the documents\n",
    "encoded_docs = integer_encode_documents(X_train, tokenizer)\n",
    "encoded_test_docs = integer_encode_documents(X_test, tokenizer)\n",
    "# get the max length in terms of token length\n",
    "max_length = get_max_token_length_per_doc(X_train)\n",
    "# pad documents to max length\n",
    "padded_docs = pad_sequences(encoded_docs, maxlen=max_length, padding='post')\n",
    "padded_test_docs = pad_sequences(encoded_test_docs, maxlen=max_length, padding='post')\n",
    "\n",
    "# set the vocabulary size to some number that represents the total number of unique words in our vocabulary\n",
    "vocab_size = int(len(tokenizer.word_index) * 1.3)"
   ]
  },
  {
   "cell_type": "code",
   "execution_count": null,
   "metadata": {
    "hidden": true,
    "id": "-ocqjUo-0NzI"
   },
   "outputs": [],
   "source": [
    "nn = make_sequential_model()\n",
    "# fit the model\n",
    "history = nn.fit(padded_docs, y_train, epochs=10, verbose=1)\n",
    "# evaluate the model\n",
    "loss, accuracy = nn.evaluate(padded_docs, y_train, verbose=1)\n",
    "print('Accuracy: %f' % (accuracy*100))\n",
    "# calculate score\n",
    "score(confusion_matrix(y_test.reset_index().is_good, (pd.DataFrame(n.predict(padded_test_docs, verbose=0))[0]>0.5)))"
   ]
  },
  {
   "cell_type": "code",
   "execution_count": null,
   "metadata": {
    "hidden": true,
    "id": "-ocqjUo-0NzI"
   },
   "outputs": [],
   "source": [
    "rnn = make_rnn_classification_model()\n",
    "# fit the model\n",
    "history = rnn.fit(padded_docs, y_train, epochs=10, verbose=1)\n",
    "# evaluate the model\n",
    "loss, accuracy = rnn.evaluate(padded_docs, y_train, verbose=1)\n",
    "print('Accuracy: %f' % (accuracy*100))\n",
    "# calculate score\n",
    "score(confusion_matrix(y_test.reset_index().is_good,(pd.DataFrame(rnn.predict(padded_test_docs, verbose=0))[0]>0.5)))"
   ]
  },
  {
   "cell_type": "markdown",
   "metadata": {
    "heading_collapsed": true,
    "id": "N6apD-TjmFSe"
   },
   "source": [
    "### Topic Modeling"
   ]
  },
  {
   "cell_type": "code",
   "execution_count": null,
   "metadata": {
    "hidden": true,
    "id": "NfwxI6av0MRP"
   },
   "outputs": [],
   "source": [
    "## Report Results For Each Topic\n",
    "def get_top_tf_idf_tokens_for_topic(H: np.array, feature_names: List[str], num_top_tokens: int = 5):\n",
    "    \"\"\"\n",
    "    Uses the H matrix (K components x M original features) to identify for each topic the most frequent tokens.\n",
    "    \"\"\"\n",
    "    for topic, vector in enumerate(H):\n",
    "        print(f\"TOPIC {topic}\\n\")\n",
    "        total = vector.sum()\n",
    "        top_scores = vector.argsort()[::-1][:num_top_tokens]\n",
    "        token_names = list(map(lambda idx: feature_names[idx], top_scores))\n",
    "        strengths = list(map(lambda idx: vector[idx] / total, top_scores))\n",
    "    \n",
    "        for strength, token_name in zip(strengths, token_names):\n",
    "            print(f\"\\b{token_name} ({round(strength * 100, 1)}%)\\n\")\n",
    "        print(f\"=\" * 50)\n",
    "        \n",
    "def get_top_documents_for_each_topic(W: np.array, documents: List[str], num_docs: int = 5):\n",
    "    sorted_docs = W.argsort(axis=0)[::-1]\n",
    "    top_docs = sorted_docs[:num_docs].T\n",
    "    per_document_totals = W.sum(axis=1)\n",
    "    for topic, top_documents_for_topic in enumerate(top_docs):\n",
    "        print(f\"Topic {topic}\")\n",
    "        for doc in top_documents_for_topic:\n",
    "            score = W[doc][topic]\n",
    "            percent_about_topic = round(score / per_document_totals[doc] * 100, 1)\n",
    "            print(f\"{percent_about_topic}%\", documents[doc])\n",
    "        print(\"=\" * 50)"
   ]
  },
  {
   "cell_type": "markdown",
   "metadata": {
    "heading_collapsed": true,
    "hidden": true,
    "id": "r77AkXoRmSnU"
   },
   "source": [
    "#### Good Reviews"
   ]
  },
  {
   "cell_type": "code",
   "execution_count": null,
   "metadata": {
    "colab": {
     "base_uri": "https://localhost:8080/"
    },
    "hidden": true,
    "id": "970t4M4wmLzT",
    "outputId": "4489689a-91c3-43e9-f532-b451ae24583b"
   },
   "outputs": [
    {
     "name": "stderr",
     "output_type": "stream",
     "text": [
      "/usr/local/lib/python3.7/dist-packages/ipykernel_launcher.py:8: SettingWithCopyWarning: \n",
      "A value is trying to be set on a copy of a slice from a DataFrame.\n",
      "Try using .loc[row_indexer,col_indexer] = value instead\n",
      "\n",
      "See the caveats in the documentation: https://pandas.pydata.org/pandas-docs/stable/user_guide/indexing.html#returning-a-view-versus-a-copy\n",
      "  \n",
      "/usr/local/lib/python3.7/dist-packages/ipykernel_launcher.py:10: FutureWarning: The default value of regex will change from True to False in a future version.\n",
      "  # Remove the CWD from sys.path while we load stuff.\n",
      "/usr/local/lib/python3.7/dist-packages/ipykernel_launcher.py:10: SettingWithCopyWarning: \n",
      "A value is trying to be set on a copy of a slice from a DataFrame.\n",
      "Try using .loc[row_indexer,col_indexer] = value instead\n",
      "\n",
      "See the caveats in the documentation: https://pandas.pydata.org/pandas-docs/stable/user_guide/indexing.html#returning-a-view-versus-a-copy\n",
      "  # Remove the CWD from sys.path while we load stuff.\n",
      "/usr/local/lib/python3.7/dist-packages/ipykernel_launcher.py:11: FutureWarning: The default value of regex will change from True to False in a future version.\n",
      "  # This is added back by InteractiveShellApp.init_path()\n",
      "/usr/local/lib/python3.7/dist-packages/ipykernel_launcher.py:11: SettingWithCopyWarning: \n",
      "A value is trying to be set on a copy of a slice from a DataFrame.\n",
      "Try using .loc[row_indexer,col_indexer] = value instead\n",
      "\n",
      "See the caveats in the documentation: https://pandas.pydata.org/pandas-docs/stable/user_guide/indexing.html#returning-a-view-versus-a-copy\n",
      "  # This is added back by InteractiveShellApp.init_path()\n",
      "/usr/local/lib/python3.7/dist-packages/sklearn/utils/deprecation.py:87: FutureWarning: Function get_feature_names is deprecated; get_feature_names is deprecated in 1.0 and will be removed in 1.2. Please use get_feature_names_out instead.\n",
      "  warnings.warn(msg, category=FutureWarning)\n",
      "/usr/local/lib/python3.7/dist-packages/sklearn/decomposition/_nmf.py:294: FutureWarning: The 'init' value, when 'init=None' and n_components is less than n_samples and n_features, will be changed from 'nndsvd' to 'nndsvda' in 1.1 (renaming of 0.26).\n",
      "  FutureWarning,\n"
     ]
    },
    {
     "name": "stdout",
     "output_type": "stream",
     "text": [
      "News Topics:\n",
      "\n",
      "\n",
      "TOPIC 0\n",
      "\n",
      "\beasy use (46.8%)\n",
      "\n",
      "\bfast easy use (2.5%)\n",
      "\n",
      "\bfast easy (2.5%)\n",
      "\n",
      "\bhighly recommend (1.7%)\n",
      "\n",
      "\bmobile version (1.4%)\n",
      "\n",
      "\bmany feature (1.3%)\n",
      "\n",
      "\buse fast (1.3%)\n",
      "\n",
      "\bonline class (1.2%)\n",
      "\n",
      "\beasy use also (1.2%)\n",
      "\n",
      "\buse also (1.2%)\n",
      "\n",
      "==================================================\n",
      "TOPIC 1\n",
      "\n",
      "\bdark mode (25.7%)\n",
      "\n",
      "\bextension support (4.6%)\n",
      "\n",
      "\bvideo player (2.1%)\n",
      "\n",
      "\blittle bit (1.9%)\n",
      "\n",
      "\bive use (1.9%)\n",
      "\n",
      "\bplease add (1.8%)\n",
      "\n",
      "\bforce dark (1.7%)\n",
      "\n",
      "\bforce dark mode (1.7%)\n",
      "\n",
      "\beasy navigate (1.6%)\n",
      "\n",
      "\bdownload manager (1.5%)\n",
      "\n",
      "==================================================\n",
      "TOPIC 2\n",
      "\n",
      "\bsupport extension (29.7%)\n",
      "\n",
      "\bplay store (6.2%)\n",
      "\n",
      "\bwork fine (4.8%)\n",
      "\n",
      "\bextension work (3.4%)\n",
      "\n",
      "\bbrowse experience (2.8%)\n",
      "\n",
      "\bplease fix (2.6%)\n",
      "\n",
      "\bchromium base (2.5%)\n",
      "\n",
      "\bthanks developer (1.6%)\n",
      "\n",
      "\bextension support (1.6%)\n",
      "\n",
      "\beven though (1.4%)\n",
      "\n",
      "==================================================\n",
      "TOPIC 3\n",
      "\n",
      "\bdesktop version (22.4%)\n",
      "\n",
      "\bmobile version (5.8%)\n",
      "\n",
      "\bplease add (3.2%)\n",
      "\n",
      "\badd feature (2.9%)\n",
      "\n",
      "\bedge mobile (2.9%)\n",
      "\n",
      "\bbrowsing experience (2.4%)\n",
      "\n",
      "\buse desktop (2.0%)\n",
      "\n",
      "\bmany feature (2.0%)\n",
      "\n",
      "\bfeature desktop (2.0%)\n",
      "\n",
      "\bwork properly (1.9%)\n",
      "\n",
      "==================================================\n",
      "Topic 0\n",
      "100.0% opera mini is a effective app,easy to use and has all the tools needed to browse and navigate the online platform...\n",
      "100.0% reliable easy to use.\n",
      "100.0% i've used chrome for at least 5 years if not longer. i've never had a problem with it. if i had any issue about anything google was there to help. no matter what i'm looking up, chrome has given me alternative answers similar to what i search. 99% of the time chrome has exactly what i'm looking for. its very easy to use.. thanks google..\n",
      "100.0% most private browser. easy to use interface. all browing data deleted instantly when required. no ads.\n",
      "100.0% well yess it is true it's really faster than chrome. i personally checking  it.. and easy to use.. i did_not expected that i would be such satisfied with this but to be honest it's 10/10 i am happy with the speed and conveniently use\n",
      "100.0% browser is easy to use and effective.\n",
      "100.0% easy to use... just the ads are killing me...\n",
      "100.0% simple easy to use, and no tracking, can_not ask for much more, so far so good\n",
      "100.0% firefox is easy to use and safe\n",
      "100.0% so far i have replace my samsung browser with this one, it's easy to use and quicker than crome. i love the layout of the news & article's. bing & edge should somehow share favorites..they go hand & hand together well.\n",
      "==================================================\n",
      "Topic 1\n",
      "100.0% 3-15-22 update: still superb! i love the fact that, so far, updates do_not bring bugs to this awesome app! 12-14-21 update: superb browser! i love \"dark mode\". so easy on the eyes!! 4-2021 the new edge kicks the butts of all the other browsers!! from the bookmark management to its great performance, it rocks!!\n",
      "100.0% yessss. best browser on android hands down. dark mode follows the system theme now on pixel. thank you!!\n",
      "100.0% amazing browser. it is fast, has dark mode and lightweight. much better than chrome though lacks a bit from brave and epic.\n",
      "100.0% new night mode is dazzling  keep up the excellent work arnauld. the browser is so amazing now.. all trackers are also removed.. so perfect.. thanks  edit: haha yes bro.. been here since the beginning when i used to send numerous mails to u about night mode suggestions :d and i am happy and proud to be one of the first kiwi users ^^ thanks again for giving us this fantastic browser  :')\n",
      "96.7% omg i was waiting for this update for years, thanks a ton for making it happen. the devtools is already proving life saver since i mostly am on phone, extensions support is another useful addon, dark mode, hides (most) annoying ads. honestly i can_not explain in words how much useful this update is to me. i wish chrome had this in first place, also i do_not understand the hate for tab groups which i see in some reviews , its also really useful. i would give a big hug to developer if i could.\n",
      "96.7% minialistic, best dark mode of any browser, with extension support you can have best privacy as well. all the necessary features are there, this is the best form of chromium. i have used all the browsers this is the best. would love if this was available for ios and mac as well. is there any chance of it coming to ios and mac?\n",
      "100.0% the only thing that prevents me using this as my default browser, is that, it does_not support \"edge://flags->force dark mode\". plz update the chromium version, and enable this flag as soon as possible! otherwise, everything is perfect :) update : the dark mode is now available in edge://flags!!\n",
      "100.0% great dark mode, easy to navigate, much better than crome.\n",
      "100.0% the application is working well. 1.it has ad block feature. 2.dark mode feature. 3.data saving mode. and many other useful features.i recommend this browser.\n",
      "97.8% one of the best browsers available. per site dark mode would have been better.\n",
      "==================================================\n",
      "Topic 2\n",
      "100.0% the best browser out there...this is like super chrome...has all the functionalities of a browser and even more...supports all the chrome extensions which used to be limited only to desktop so far...thanks for that...and it is highly customisable...with a superb amoled black layout...thanks for this awesome browser keep up the good work.\n",
      "100.0% only mobile browser that supports extensions\n",
      "100.0% splendid! this kiwi browser supports chrome extensions. is_not that great? when you want everything to be mobile. 5 stars!\n",
      "100.0% exactly the type of browsers i needed. supports chrome extensions. turns into fully amoled. would be great if there is a history,passwords import option.\n",
      "100.0% this browser is great - it supports extensions! ublock & bypass paywalls clean are two i can_not live without\n",
      "100.0% this browser is really useful and underrated. i have_not had any problems with it so far. the best thing about this browser is that it supports extensions, something which i badly needed.\n",
      "100.0% switched from chrome and firefox to this. better browsing experience with great support for extensions. this app can fulfill all your browser needs.\n",
      "97.8% amazing! probably the only chromium based browser with support for extensions.\n",
      "100.0% the fact that it supports extensions is just dope! i have been waiting for a browser in android to support it. thank you man! i've seen your post in xda and i absolutely love it. the improved add and pop up blocks does works well as promised even though i have to try it out on more sites i've just used this browser for a day. i understand this app is new, still under development and you spend a lot everyday but do add the support for extensions mostly the popular ones, later on. best of luck.\n",
      "98.8% best browser, it's fast, clean and supports extension which is just the cherry on the cake. but some of the extensions do_not work at all namely the media downloader extension... edit: updating my rating to 5 star, this app now works perfectly fine. extensions are also working quite well. all thanks to the developer.\n",
      "==================================================\n",
      "Topic 3\n",
      "100.0% the browser is great and integrates nicely with the desktop version. you can turn trending searches (which i hate!) under the search options in settings.\n",
      "100.0% satisfied with everything but improve bookmark interface in similar with desktop version folders and subfolders easy to view..\n",
      "100.0% best browser i've ever used. but still i have some problem with it's desktop version. before whenever i pin a page, it always stays even after i close it and open once again. but now it's not staying the same way. it could be better if the browsing history is also synchronised just like recent tabs. overall this browser is the best one as it does what it claims to do, ad free browser!\n",
      "100.0% not as good as the desktop version, taking up so much space, but with a new moto who cares????!!!! lol\n",
      "100.0% nice application for browsing. hope the company adds the feature of editing pdfs as in desktop version to mobile application as well. that would be great.\n",
      "99.8% originally i was using the desktop version, i was so amazed by the performance and speed of this browser that i was compelled to download on android. this browser is next level. it has so many features that are actually usable in our day to day life. chrome is just an adware. this browser is way more faster than any other. pdf reader is there in desktop version but is missing in android. pls make this feature available.\n",
      "99.1% i do_not like the design...just copy chrome or firefox they have simple familiar design which makes them superior...if not then make a password manager app for android as i like the desktop version of edge but i like the mobile version of chrome and firefox\n",
      "100.0% while it does_not have a lot of the same features the desktop version does, the inclusion of recent tab sharing and my flow are great tools for cross-device sharing. tabs are arranged vertically, and navigation can be done completely one-handed as the buttons are on the bottom of the screen. overall, this is fast becoming my favorite browser both on and off the desktop.\n",
      "99.1% have been using the desktop version for over a decade and the mobile version is equally good. now that the bookmarks and history can be synced, it's become even better. not to mention the add block add on's are pure convince.\n",
      "100.0% comparable to the desktop version. chrome is_not a option for me(privacy issues). tried microsoft edge, that too is_not good on mobile. firefox on the other hand, 5/5 on both desktop and mobile.\n",
      "==================================================\n"
     ]
    }
   ],
   "source": [
    "browsers_good = df[(df.category == 'browsers')&(df.score==5)]\n",
    "\n",
    "stopword_list = ['good','best','better','star','ever','engine','chrome','browser', 'opera','mini','year','google','firefox','excellent']\n",
    "\n",
    "for i in stopword_list:\n",
    "    browsers_good['content_regex']=[r.replace(i,'') for r in browsers_good['content_regex']]\n",
    "\n",
    "browsers_good['content_regex']=browsers_good['content_regex'].str.replace(r'\\b(dark|night)\\b','dark',case=False)\n",
    "browsers_good['content_regex']=browsers_good['content_regex'].str.replace(r'\\b(keep up|keep work)\\b','',case=False)\n",
    "\n",
    "vectorizer = TfidfVectorizer(ngram_range=(2,3),\n",
    "                             token_pattern=r'\\b[a-zA-Z]{3,}\\b',\n",
    "                             max_df=0.4, stop_words=stopword_list_2, max_features=400)\n",
    "X = vectorizer.fit_transform(browsers_good.content_regex)\n",
    "vectorized_df = pd.DataFrame(X.toarray(), columns=vectorizer.get_feature_names())\n",
    "\n",
    "## Fit NMF Model¶\n",
    "nmf = NMF(n_components=4)\n",
    "W_browsers = nmf.fit_transform(vectorized_df)\n",
    "H_browsers = nmf.components_\n",
    "\n",
    "print(f\"News Topics:\\n\\n\")\n",
    "get_top_tf_idf_tokens_for_topic(H_browsers, vectorized_df.columns.tolist(), 10)\n",
    "\n",
    "get_top_documents_for_each_topic(W_browsers, browsers_good.content.tolist(), num_docs=10)"
   ]
  },
  {
   "cell_type": "markdown",
   "metadata": {
    "heading_collapsed": true,
    "hidden": true,
    "id": "VTLYpOJPmdVF"
   },
   "source": [
    "#### Poor Reviews"
   ]
  },
  {
   "cell_type": "code",
   "execution_count": null,
   "metadata": {
    "colab": {
     "base_uri": "https://localhost:8080/"
    },
    "hidden": true,
    "id": "Er9_RFxAmgR-",
    "outputId": "94226951-5008-4ec7-8672-c983218338b7"
   },
   "outputs": [
    {
     "name": "stderr",
     "output_type": "stream",
     "text": [
      "/usr/local/lib/python3.7/dist-packages/ipykernel_launcher.py:6: SettingWithCopyWarning: \n",
      "A value is trying to be set on a copy of a slice from a DataFrame.\n",
      "Try using .loc[row_indexer,col_indexer] = value instead\n",
      "\n",
      "See the caveats in the documentation: https://pandas.pydata.org/pandas-docs/stable/user_guide/indexing.html#returning-a-view-versus-a-copy\n",
      "  \n",
      "/usr/local/lib/python3.7/dist-packages/ipykernel_launcher.py:8: FutureWarning: The default value of regex will change from True to False in a future version.\n",
      "  \n",
      "/usr/local/lib/python3.7/dist-packages/ipykernel_launcher.py:8: SettingWithCopyWarning: \n",
      "A value is trying to be set on a copy of a slice from a DataFrame.\n",
      "Try using .loc[row_indexer,col_indexer] = value instead\n",
      "\n",
      "See the caveats in the documentation: https://pandas.pydata.org/pandas-docs/stable/user_guide/indexing.html#returning-a-view-versus-a-copy\n",
      "  \n",
      "/usr/local/lib/python3.7/dist-packages/sklearn/utils/deprecation.py:87: FutureWarning: Function get_feature_names is deprecated; get_feature_names is deprecated in 1.0 and will be removed in 1.2. Please use get_feature_names_out instead.\n",
      "  warnings.warn(msg, category=FutureWarning)\n",
      "/usr/local/lib/python3.7/dist-packages/sklearn/decomposition/_nmf.py:294: FutureWarning: The 'init' value, when 'init=None' and n_components is less than n_samples and n_features, will be changed from 'nndsvd' to 'nndsvda' in 1.1 (renaming of 0.26).\n",
      "  FutureWarning,\n"
     ]
    },
    {
     "name": "stdout",
     "output_type": "stream",
     "text": [
      "News Topics:\n",
      "\n",
      "\n",
      "TOPIC 0\n",
      "\n",
      "\bnot update (26.8%)\n",
      "\n",
      "\bnot update reply (3.2%)\n",
      "\n",
      "\bchrome not update (3.2%)\n",
      "\n",
      "\bupdate reply (3.1%)\n",
      "\n",
      "\bchrome not (2.9%)\n",
      "\n",
      "\btry time (1.4%)\n",
      "\n",
      "\btry time continuously (1.4%)\n",
      "\n",
      "\bnot update try (1.4%)\n",
      "\n",
      "\bcontinuously row (1.4%)\n",
      "\n",
      "\bcontinuously row day (1.4%)\n",
      "\n",
      "==================================================\n",
      "TOPIC 1\n",
      "\n",
      "\badblock work (22.0%)\n",
      "\n",
      "\badblock work kinda (2.5%)\n",
      "\n",
      "\bkinda useless (2.5%)\n",
      "\n",
      "\bwork kinda useless (2.5%)\n",
      "\n",
      "\bwork kinda (2.5%)\n",
      "\n",
      "\bplay even refresh (1.0%)\n",
      "\n",
      "\bvideo play even (1.0%)\n",
      "\n",
      "\brefresh disappointing (1.0%)\n",
      "\n",
      "\beven refresh disappointing (1.0%)\n",
      "\n",
      "\beven refresh (1.0%)\n",
      "\n",
      "==================================================\n",
      "TOPIC 2\n",
      "\n",
      "\bgrid view (1.8%)\n",
      "\n",
      "\bforce grid (0.7%)\n",
      "\n",
      "\bforce grid view (0.7%)\n",
      "\n",
      "\bbring back (0.5%)\n",
      "\n",
      "\btab grid (0.5%)\n",
      "\n",
      "\btab grid view (0.5%)\n",
      "\n",
      "\bview tab (0.5%)\n",
      "\n",
      "\bchange force grid (0.4%)\n",
      "\n",
      "\bchange force (0.4%)\n",
      "\n",
      "\bhate grid (0.4%)\n",
      "\n",
      "==================================================\n",
      "TOPIC 3\n",
      "\n",
      "\bupdate chrome (0.6%)\n",
      "\n",
      "\bplease fix (0.5%)\n",
      "\n",
      "\bbrowser ever (0.5%)\n",
      "\n",
      "\bplay store (0.5%)\n",
      "\n",
      "\bever use (0.5%)\n",
      "\n",
      "\bbrowser ever use (0.5%)\n",
      "\n",
      "\bunable update (0.5%)\n",
      "\n",
      "\bchrome play (0.4%)\n",
      "\n",
      "\bupdate chrome play (0.4%)\n",
      "\n",
      "\bchrome play store (0.4%)\n",
      "\n",
      "==================================================\n",
      "Topic 0\n",
      "100.0% i cannot update it, why?!\n",
      "100.0% not updating.\n",
      "99.5% my google chrome app not updated y? reply me\n",
      "100.0% not updating i have tried 5 to 6 times continuously in row for 2 to 3 days...\n",
      "100.0% not updating due to changes made to the whole app for the worse. i have read the reviews, & there completely horrible!\n",
      "77.1% chrome update is very worst, in play store 90% times its not updated properly, it is stop at mid and then not restart again, ( what's is that , app update show 2mb but before updating 2 mb it is take 50 to 100 mb net for update,,,\n",
      "15.2% i have updated my chrome and after that not able to browse anything on browser and getting blank white screen.\n",
      "64.6% there's no info in the \"what's new\" section in the updates. [reply]: always add information for every update, even if it's a minor one such as small fixes or improvements, that's a must for an app as popular as this. deploying an update without information about it looks unprofessional to me. it makes a difference if i would like to do the update and/or when to do it.\n",
      "39.4% i tried 3 times to download this app amass it failed every time\n",
      "79.3% i five  started it back in november 2017, now 1 star, i am moving to chrome, 1. i would love to not loose my passwords when i forget my master password. happened twice to me, it's so painful to reset passwords of hundred plus accounts. 2. drm content does_not play smoothly at 2x speed. 3. android password manager is messed up. 4. forced fonts mess up the pages.\n",
      "==================================================\n",
      "Topic 1\n",
      "100.0% adblock does_not work\n",
      "100.0% adblock does_not work\n",
      "100.0% adblock does_not work so...kinda useless.\n",
      "97.8% adblock does_not work at all. youtube videos play only after ads even after refreshing. disappointing.\n",
      "100.0% it's fast and allows you to change the wallpaper the adblock does_not work at all popups and redirects are still there and no customisation to what makes it convenient for the user\n",
      "97.1% no background music/sound. adblock does_not work properly. the two main features i want in a browser are non existent, so i have to give 1 star. it's a shame, because i really love desktop opera gx, but i will just stick to brave until you guys solve the issues here.\n",
      "98.5% everytime i want to delete a tab it just keeps opening it instead. i'm tapping on the x multiple times and it's just gotten so annoying. adblock does_not work. if the desktop version runs well, make it equal to the mobile app. fix it.\n",
      "29.8% this app not playing youtube videos. why? i rewrite this post after microsoft attend my previous post. i installed latest version. but some videos is still not play. for exa.-- live streaming of youtube channels and some other youtube videos are_not playing. please fix this problem as soon as possible. thanks\n",
      "54.2% uninstalling it... because you have removed the most loved feature of playing youtube videos in background. there was nothing good, except this feature of playing youtube videos in background.\n",
      "43.6% hi i recently update to 97.1.0, i see a thick white bar on the bottom of the screen, whe i see youtube videos on full screen mode on mozila.\n",
      "==================================================\n",
      "Topic 2\n",
      "100.0% they changed to forced grid view! done!\n",
      "100.0% hated grid view, that was part of my reason to use brave, now even brave forces grid view and removed cascade view as a option... i know it's because of chromium, but plz bring back cascade view for tabs\n",
      "100.0% brave now forcing grid view for tabs instead of stacked tabs viewing. i am stopping to use brave for that reason. stop imposing changes on people. nobody liked grid views on other browsers.. why bring it over on brave?\n",
      "100.0% forcing grid view on the latest update, making this browser unusable, very disappointing.\n",
      "100.0% tab grid view returned i hate it switched from chrome because these following reasons group tab and grid view\n",
      "100.0% hate grid view.\n",
      "100.0% bring back cascade tabs! grid view is horrendous! i already ditched chrome for good for this, maybe i'll need to ditch brave too. \n",
      "100.0% great built in ad blocker but forced to use terrible tab grid view. switching to kiwi until fixed\n",
      "100.0% ah, the good old grid view in tab view. bye bye brave and hello kiwi browser.\n",
      "100.0% dear google, only reason why am i giving 1 star is that tab grid view layout. i just do_not like viewing my tabs like this. please provide a option where we can switch from grid to list layout (old type).\n",
      "==================================================\n",
      "Topic 3\n",
      "100.0% i can_not update the chrome from play store...\n",
      "100.0% lol i can_not update my chrome in play store\n",
      "100.0% worst browser i ever use....\n",
      "100.0% worst browser i've ever used, worse than edge\n",
      "100.0% unable to update chrome app.\n",
      "100.0% i am using opera mini but i am facing issue \"unable to connect please review your network settings\" problem please fix these issue.\n",
      "100.0% unable to update this app\n",
      "100.0% when ever i am opening the websites it's not opening and telling unable to connect. please review your network setting please fix it\n",
      "100.0% worst browser ever used , plz do_not use this pathetic browser , so many lags, automatically closes many times , removes my important already opened tabs , worst browser .. they sell this worst product labelling it as god given google browser , its not do_not use it\n",
      "99.7% why can_not i update it via google play store?? i have tried on many devices and got this problem.. please fix that.....\n",
      "==================================================\n"
     ]
    }
   ],
   "source": [
    "browsers_bad = df[(df.category == 'browsers')&(df.score==1)]\n",
    "\n",
    "stopword_list = ['bad','worse','worst','star', 'opera','mini','google','firefox']\n",
    "\n",
    "for i in stopword_list:\n",
    "    browsers_bad['content_regex']=[r.replace(i,'') for r in browsers_bad['content_regex']]\n",
    "\n",
    "browsers_bad['content_regex']=browsers_bad['content_regex'].str.replace(r'\\b(not work)\\b','',case=False)\n",
    "\n",
    "vectorizer = TfidfVectorizer(ngram_range=(2,3),\n",
    "                             token_pattern=r'\\b[a-zA-Z]{3,}\\b',\n",
    "                             max_df=0.4, stop_words=stopword_list_2)\n",
    "X = vectorizer.fit_transform(browsers_bad.content_regex)\n",
    "vectorized_df = pd.DataFrame(X.toarray(), columns=vectorizer.get_feature_names())\n",
    "\n",
    "## Fit NMF Model¶\n",
    "nmf = NMF(n_components=4)\n",
    "W_browsers = nmf.fit_transform(vectorized_df)\n",
    "H_browsers = nmf.components_\n",
    "\n",
    "print(f\"News Topics:\\n\\n\")\n",
    "get_top_tf_idf_tokens_for_topic(H_browsers, vectorized_df.columns.tolist(), 10)\n",
    "\n",
    "get_top_documents_for_each_topic(W_browsers, browsers_bad.content.tolist(), num_docs=10)"
   ]
  },
  {
   "cell_type": "code",
   "execution_count": null,
   "metadata": {
    "hidden": true
   },
   "outputs": [],
   "source": []
  },
  {
   "cell_type": "markdown",
   "metadata": {
    "id": "nqpvpNK9dcO3"
   },
   "source": [
    "## Videoplayer - Xinyue"
   ]
  },
  {
   "cell_type": "code",
   "execution_count": 25,
   "metadata": {},
   "outputs": [
    {
     "data": {
      "text/html": [
       "<div>\n",
       "<style scoped>\n",
       "    .dataframe tbody tr th:only-of-type {\n",
       "        vertical-align: middle;\n",
       "    }\n",
       "\n",
       "    .dataframe tbody tr th {\n",
       "        vertical-align: top;\n",
       "    }\n",
       "\n",
       "    .dataframe thead th {\n",
       "        text-align: right;\n",
       "    }\n",
       "</style>\n",
       "<table border=\"1\" class=\"dataframe\">\n",
       "  <thead>\n",
       "    <tr style=\"text-align: right;\">\n",
       "      <th></th>\n",
       "      <th>content</th>\n",
       "      <th>score</th>\n",
       "      <th>category</th>\n",
       "      <th>content_lemma</th>\n",
       "      <th>content_regex</th>\n",
       "    </tr>\n",
       "  </thead>\n",
       "  <tbody>\n",
       "    <tr>\n",
       "      <th>0</th>\n",
       "      <td>earlier it was used to be good but now it's be...</td>\n",
       "      <td>1</td>\n",
       "      <td>videoplayer</td>\n",
       "      <td>earlier it be use to be good but now it 's bec...</td>\n",
       "      <td>earlier it be use to be _good_ but now it 's b...</td>\n",
       "    </tr>\n",
       "    <tr>\n",
       "      <th>1</th>\n",
       "      <td>this will be the best video player in android ...</td>\n",
       "      <td>1</td>\n",
       "      <td>videoplayer</td>\n",
       "      <td>this will be the best video player in android ...</td>\n",
       "      <td>this will be the _good_ video player in androi...</td>\n",
       "    </tr>\n",
       "    <tr>\n",
       "      <th>2</th>\n",
       "      <td>before it was perfectly stable now its all gon...</td>\n",
       "      <td>1</td>\n",
       "      <td>videoplayer</td>\n",
       "      <td>before it be perfectly stable now its all go w...</td>\n",
       "      <td>before it be _good_ stable now its all go wron...</td>\n",
       "    </tr>\n",
       "    <tr>\n",
       "      <th>3</th>\n",
       "      <td>it's was quite stable in its previous versions...</td>\n",
       "      <td>1</td>\n",
       "      <td>videoplayer</td>\n",
       "      <td>it 's be quite stable in its previous version ...</td>\n",
       "      <td>it 's be quite stable in its previous version ...</td>\n",
       "    </tr>\n",
       "    <tr>\n",
       "      <th>4</th>\n",
       "      <td>*resume function is_not working. every time i ...</td>\n",
       "      <td>1</td>\n",
       "      <td>videoplayer</td>\n",
       "      <td>* resume function is_not work . every time i m...</td>\n",
       "      <td>* resume function is_not work . every time i m...</td>\n",
       "    </tr>\n",
       "  </tbody>\n",
       "</table>\n",
       "</div>"
      ],
      "text/plain": [
       "                                             content  score     category  \\\n",
       "0  earlier it was used to be good but now it's be...      1  videoplayer   \n",
       "1  this will be the best video player in android ...      1  videoplayer   \n",
       "2  before it was perfectly stable now its all gon...      1  videoplayer   \n",
       "3  it's was quite stable in its previous versions...      1  videoplayer   \n",
       "4  *resume function is_not working. every time i ...      1  videoplayer   \n",
       "\n",
       "                                       content_lemma  \\\n",
       "0  earlier it be use to be good but now it 's bec...   \n",
       "1  this will be the best video player in android ...   \n",
       "2  before it be perfectly stable now its all go w...   \n",
       "3  it 's be quite stable in its previous version ...   \n",
       "4  * resume function is_not work . every time i m...   \n",
       "\n",
       "                                       content_regex  \n",
       "0  earlier it be use to be _good_ but now it 's b...  \n",
       "1  this will be the _good_ video player in androi...  \n",
       "2  before it be _good_ stable now its all go wron...  \n",
       "3  it 's be quite stable in its previous version ...  \n",
       "4  * resume function is_not work . every time i m...  "
      ]
     },
     "execution_count": 25,
     "metadata": {},
     "output_type": "execute_result"
    }
   ],
   "source": [
    "data_all.head()"
   ]
  },
  {
   "cell_type": "code",
   "execution_count": 26,
   "metadata": {
    "id": "tlzxVStkdfXQ"
   },
   "outputs": [],
   "source": [
    "data_video_good = data_all.loc[(data_all['score']>4)&(data_all['category']=='videoplayer'),:]\n",
    "data_video_bad = data_all.loc[(data_all['score']<2)&(data_all['category']=='videoplayer'),:]"
   ]
  },
  {
   "cell_type": "code",
   "execution_count": 27,
   "metadata": {},
   "outputs": [
    {
     "name": "stdout",
     "output_type": "stream",
     "text": [
      "(1786, 5)\n",
      "(1467, 5)\n"
     ]
    }
   ],
   "source": [
    "print(data_video_good.shape)\n",
    "print(data_video_bad.shape)"
   ]
  },
  {
   "cell_type": "code",
   "execution_count": 28,
   "metadata": {},
   "outputs": [],
   "source": [
    "stopword_list_videoadd=['video','player','ever','also','use','please','rating','star']\n",
    "stopword_list_video=stopword_list_2+stopword_list_videoadd"
   ]
  },
  {
   "cell_type": "code",
   "execution_count": 29,
   "metadata": {},
   "outputs": [],
   "source": [
    "stopword_list_video_good=['_good_','five','_love_','_problem_']\n",
    "stopword_list_video=stopword_list_video_good+stopword_list_video"
   ]
  },
  {
   "cell_type": "markdown",
   "metadata": {},
   "source": [
    "### Positive Review"
   ]
  },
  {
   "cell_type": "code",
   "execution_count": 30,
   "metadata": {},
   "outputs": [
    {
     "name": "stdout",
     "output_type": "stream",
     "text": [
      "videoplayer good TF-IDF: (1786, 357)\n"
     ]
    },
    {
     "data": {
      "text/html": [
       "<div>\n",
       "<style scoped>\n",
       "    .dataframe tbody tr th:only-of-type {\n",
       "        vertical-align: middle;\n",
       "    }\n",
       "\n",
       "    .dataframe tbody tr th {\n",
       "        vertical-align: top;\n",
       "    }\n",
       "\n",
       "    .dataframe thead th {\n",
       "        text-align: right;\n",
       "    }\n",
       "</style>\n",
       "<table border=\"1\" class=\"dataframe\">\n",
       "  <thead>\n",
       "    <tr style=\"text-align: right;\">\n",
       "      <th></th>\n",
       "      <th>_ad_ come</th>\n",
       "      <th>_ad_ do_not</th>\n",
       "      <th>_ad_ free</th>\n",
       "      <th>_ad_ no</th>\n",
       "      <th>_ad_ thanks</th>\n",
       "      <th>_ad_ user</th>\n",
       "      <th>_last update_</th>\n",
       "      <th>_many_ _ad_</th>\n",
       "      <th>_many_ _many_</th>\n",
       "      <th>_many_ _many_ mx</th>\n",
       "      <th>...</th>\n",
       "      <th>without difficulty</th>\n",
       "      <th>without interruption</th>\n",
       "      <th>wo n</th>\n",
       "      <th>work _phone_</th>\n",
       "      <th>work android</th>\n",
       "      <th>work fine</th>\n",
       "      <th>work guy</th>\n",
       "      <th>work properly</th>\n",
       "      <th>work smoothly</th>\n",
       "      <th>work thank</th>\n",
       "    </tr>\n",
       "  </thead>\n",
       "  <tbody>\n",
       "    <tr>\n",
       "      <th>0</th>\n",
       "      <td>0.0</td>\n",
       "      <td>0.0</td>\n",
       "      <td>0.0</td>\n",
       "      <td>0.0</td>\n",
       "      <td>0.0</td>\n",
       "      <td>0.0</td>\n",
       "      <td>0.0</td>\n",
       "      <td>0.0</td>\n",
       "      <td>0.0</td>\n",
       "      <td>0.0</td>\n",
       "      <td>...</td>\n",
       "      <td>0.0</td>\n",
       "      <td>0.0</td>\n",
       "      <td>0.0</td>\n",
       "      <td>0.0</td>\n",
       "      <td>0.0</td>\n",
       "      <td>0.0</td>\n",
       "      <td>0.0</td>\n",
       "      <td>0.0</td>\n",
       "      <td>0.0</td>\n",
       "      <td>0.0</td>\n",
       "    </tr>\n",
       "    <tr>\n",
       "      <th>1</th>\n",
       "      <td>0.0</td>\n",
       "      <td>0.0</td>\n",
       "      <td>0.0</td>\n",
       "      <td>0.0</td>\n",
       "      <td>0.0</td>\n",
       "      <td>0.0</td>\n",
       "      <td>0.0</td>\n",
       "      <td>0.0</td>\n",
       "      <td>0.0</td>\n",
       "      <td>0.0</td>\n",
       "      <td>...</td>\n",
       "      <td>0.0</td>\n",
       "      <td>0.0</td>\n",
       "      <td>0.0</td>\n",
       "      <td>0.0</td>\n",
       "      <td>0.0</td>\n",
       "      <td>0.0</td>\n",
       "      <td>0.0</td>\n",
       "      <td>0.0</td>\n",
       "      <td>0.0</td>\n",
       "      <td>0.0</td>\n",
       "    </tr>\n",
       "    <tr>\n",
       "      <th>2</th>\n",
       "      <td>0.0</td>\n",
       "      <td>0.0</td>\n",
       "      <td>0.0</td>\n",
       "      <td>0.0</td>\n",
       "      <td>0.0</td>\n",
       "      <td>0.0</td>\n",
       "      <td>0.0</td>\n",
       "      <td>0.0</td>\n",
       "      <td>0.0</td>\n",
       "      <td>0.0</td>\n",
       "      <td>...</td>\n",
       "      <td>0.0</td>\n",
       "      <td>0.0</td>\n",
       "      <td>0.0</td>\n",
       "      <td>0.0</td>\n",
       "      <td>0.0</td>\n",
       "      <td>0.0</td>\n",
       "      <td>0.0</td>\n",
       "      <td>0.0</td>\n",
       "      <td>0.0</td>\n",
       "      <td>0.0</td>\n",
       "    </tr>\n",
       "    <tr>\n",
       "      <th>3</th>\n",
       "      <td>0.0</td>\n",
       "      <td>0.0</td>\n",
       "      <td>0.0</td>\n",
       "      <td>0.0</td>\n",
       "      <td>0.0</td>\n",
       "      <td>0.0</td>\n",
       "      <td>0.0</td>\n",
       "      <td>0.0</td>\n",
       "      <td>0.0</td>\n",
       "      <td>0.0</td>\n",
       "      <td>...</td>\n",
       "      <td>0.0</td>\n",
       "      <td>0.0</td>\n",
       "      <td>0.0</td>\n",
       "      <td>0.0</td>\n",
       "      <td>0.0</td>\n",
       "      <td>0.0</td>\n",
       "      <td>0.0</td>\n",
       "      <td>0.0</td>\n",
       "      <td>0.0</td>\n",
       "      <td>0.0</td>\n",
       "    </tr>\n",
       "    <tr>\n",
       "      <th>4</th>\n",
       "      <td>0.0</td>\n",
       "      <td>0.0</td>\n",
       "      <td>0.0</td>\n",
       "      <td>0.0</td>\n",
       "      <td>0.0</td>\n",
       "      <td>0.0</td>\n",
       "      <td>0.0</td>\n",
       "      <td>0.0</td>\n",
       "      <td>0.0</td>\n",
       "      <td>0.0</td>\n",
       "      <td>...</td>\n",
       "      <td>0.0</td>\n",
       "      <td>0.0</td>\n",
       "      <td>0.0</td>\n",
       "      <td>0.0</td>\n",
       "      <td>0.0</td>\n",
       "      <td>0.0</td>\n",
       "      <td>0.0</td>\n",
       "      <td>0.0</td>\n",
       "      <td>0.0</td>\n",
       "      <td>0.0</td>\n",
       "    </tr>\n",
       "  </tbody>\n",
       "</table>\n",
       "<p>5 rows × 357 columns</p>\n",
       "</div>"
      ],
      "text/plain": [
       "   _ad_ come  _ad_ do_not  _ad_ free  _ad_ no  _ad_ thanks  _ad_ user  \\\n",
       "0        0.0          0.0        0.0      0.0          0.0        0.0   \n",
       "1        0.0          0.0        0.0      0.0          0.0        0.0   \n",
       "2        0.0          0.0        0.0      0.0          0.0        0.0   \n",
       "3        0.0          0.0        0.0      0.0          0.0        0.0   \n",
       "4        0.0          0.0        0.0      0.0          0.0        0.0   \n",
       "\n",
       "   _last update_  _many_ _ad_  _many_ _many_  _many_ _many_ mx  ...  \\\n",
       "0            0.0          0.0            0.0               0.0  ...   \n",
       "1            0.0          0.0            0.0               0.0  ...   \n",
       "2            0.0          0.0            0.0               0.0  ...   \n",
       "3            0.0          0.0            0.0               0.0  ...   \n",
       "4            0.0          0.0            0.0               0.0  ...   \n",
       "\n",
       "   without difficulty  without interruption  wo n  work _phone_  work android  \\\n",
       "0                 0.0                   0.0   0.0           0.0           0.0   \n",
       "1                 0.0                   0.0   0.0           0.0           0.0   \n",
       "2                 0.0                   0.0   0.0           0.0           0.0   \n",
       "3                 0.0                   0.0   0.0           0.0           0.0   \n",
       "4                 0.0                   0.0   0.0           0.0           0.0   \n",
       "\n",
       "   work fine  work guy  work properly  work smoothly  work thank  \n",
       "0        0.0       0.0            0.0            0.0         0.0  \n",
       "1        0.0       0.0            0.0            0.0         0.0  \n",
       "2        0.0       0.0            0.0            0.0         0.0  \n",
       "3        0.0       0.0            0.0            0.0         0.0  \n",
       "4        0.0       0.0            0.0            0.0         0.0  \n",
       "\n",
       "[5 rows x 357 columns]"
      ]
     },
     "execution_count": 30,
     "metadata": {},
     "output_type": "execute_result"
    }
   ],
   "source": [
    "from sklearn.decomposition import NMF\n",
    "from sklearn.feature_extraction.text import TfidfVectorizer\n",
    "\n",
    "vectorizer = TfidfVectorizer(ngram_range=(2,3),\n",
    "                            token_pattern='(?u)\\\\b[a-zA-Z_]+\\\\b',\n",
    "                            min_df=3, max_df=0.4, stop_words=stopword_list_video)\n",
    "\n",
    "X_video_good, video_good_terms = vectorizer.fit_transform(data_video_good.content_regex), vectorizer.get_feature_names() #get_feature_names_out()\n",
    "video_good_tf_idf = pd.DataFrame(X_video_good.toarray(), columns=video_good_terms)\n",
    "\n",
    "print(f\"videoplayer good TF-IDF: {video_good_tf_idf.shape}\")\n",
    "video_good_tf_idf.head(5)"
   ]
  },
  {
   "cell_type": "code",
   "execution_count": 31,
   "metadata": {},
   "outputs": [
    {
     "name": "stdout",
     "output_type": "stream",
     "text": [
      "Original shape of X video_good is (1786, 357)\n",
      "Decomposed W video_good matrix is (1786, 5)\n",
      "Decomposed H video_good matrix is (5, 357)\n"
     ]
    },
    {
     "name": "stderr",
     "output_type": "stream",
     "text": [
      "C:\\Users\\Olivia\\Anaconda3\\lib\\site-packages\\sklearn\\decomposition\\_nmf.py:312: FutureWarning: The 'init' value, when 'init=None' and n_components is less than n_samples and n_features, will be changed from 'nndsvd' to 'nndsvda' in 1.1 (renaming of 0.26).\n",
      "  warnings.warn((\"The 'init' value, when 'init=None' and \"\n"
     ]
    }
   ],
   "source": [
    "# from 618 features to 5 topics\n",
    "nmf = NMF(n_components=5)\n",
    "W_video_good = nmf.fit_transform(X_video_good)\n",
    "H_video_good = nmf.components_\n",
    "print(f\"Original shape of X video_good is {X_video_good.shape}\")\n",
    "print(f\"Decomposed W video_good matrix is {W_video_good.shape}\")\n",
    "print(f\"Decomposed H video_good matrix is {H_video_good.shape}\")"
   ]
  },
  {
   "cell_type": "markdown",
   "metadata": {},
   "source": [
    "#### Report Results For Each Topic"
   ]
  },
  {
   "cell_type": "code",
   "execution_count": 32,
   "metadata": {},
   "outputs": [],
   "source": [
    "from typing import List\n",
    "import numpy as np\n",
    "\n",
    "def get_top_tf_idf_tokens_for_topic(H: np.array, feature_names: List[str], num_top_tokens: int = 5):\n",
    "  \"\"\"\n",
    "  Uses the H matrix (K components x M original features) to identify for each\n",
    "  topic the most frequent tokens.\n",
    "  \"\"\"\n",
    "  for topic, vector in enumerate(H):\n",
    "    print(f\"TOPIC {topic}\\n\")\n",
    "    total = vector.sum()\n",
    "    top_scores = vector.argsort()[::-1][:num_top_tokens]\n",
    "    token_names = list(map(lambda idx: feature_names[idx], top_scores))\n",
    "    strengths = list(map(lambda idx: vector[idx] / total, top_scores))\n",
    "    \n",
    "    for strength, token_name in zip(strengths, token_names):\n",
    "      print(f\"\\b{token_name} ({round(strength * 100, 1)}%)\\n\")\n",
    "    print(f\"=\" * 50)\n"
   ]
  },
  {
   "cell_type": "code",
   "execution_count": 33,
   "metadata": {},
   "outputs": [],
   "source": [
    "def get_top_documents_for_each_topic(W: np.array, documents: List[str], num_docs: int = 5):\n",
    "    sorted_docs = W.argsort(axis=0)[::-1]\n",
    "    top_docs = sorted_docs[:num_docs].T\n",
    "    per_document_totals = W.sum(axis=1)\n",
    "    for topic, top_documents_for_topic in enumerate(top_docs):\n",
    "        print(f\"Topic {topic}\")\n",
    "        for doc in top_documents_for_topic:\n",
    "            score = W[doc][topic]\n",
    "            percent_about_topic = round(score / per_document_totals[doc] * 100, 1)\n",
    "            print(f\"{percent_about_topic}%\", documents[doc])\n",
    "        print(\"=\" * 50)"
   ]
  },
  {
   "cell_type": "code",
   "execution_count": 34,
   "metadata": {},
   "outputs": [
    {
     "name": "stdout",
     "output_type": "stream",
     "text": [
      "TOPIC 0\n",
      "\n",
      "\bno _ad_ (43.9%)\n",
      "\n",
      "\buser friendly (3.6%)\n",
      "\n",
      "\buser interface (3.0%)\n",
      "\n",
      "\bswitch mx (2.2%)\n",
      "\n",
      "\bno _ad_ no (2.0%)\n",
      "\n",
      "\b_ad_ no (2.0%)\n",
      "\n",
      "\b_ad_ thanks (1.9%)\n",
      "\n",
      "\b_ad_ user (1.7%)\n",
      "\n",
      "\bfree no _ad_ (1.7%)\n",
      "\n",
      "\bfree no (1.6%)\n",
      "\n",
      "==================================================\n",
      "TOPIC 1\n",
      "\n",
      "\bandroid tv (30.1%)\n",
      "\n",
      "\baudio passthrough (3.6%)\n",
      "\n",
      "\bhighly recommend (2.3%)\n",
      "\n",
      "\btv show (2.2%)\n",
      "\n",
      "\btv box (2.1%)\n",
      "\n",
      "\bwork properly (2.1%)\n",
      "\n",
      "\bplay store (1.9%)\n",
      "\n",
      "\bcast movie (1.9%)\n",
      "\n",
      "\balmost everything (1.9%)\n",
      "\n",
      "\bdoes_not work (1.8%)\n",
      "\n",
      "==================================================\n",
      "TOPIC 2\n",
      "\n",
      "\bwatch movie (32.8%)\n",
      "\n",
      "\b_many_ _ad_ (11.5%)\n",
      "\n",
      "\bcontrol subtitle (5.2%)\n",
      "\n",
      "\bapplication watch (3.6%)\n",
      "\n",
      "\bvolume brightness (3.4%)\n",
      "\n",
      "\blisten song (2.8%)\n",
      "\n",
      "\bhelp lot (2.6%)\n",
      "\n",
      "\b_many_ option (2.2%)\n",
      "\n",
      "\btv series (2.2%)\n",
      "\n",
      "\bmovie show (2.0%)\n",
      "\n",
      "==================================================\n",
      "TOPIC 3\n",
      "\n",
      "\b_many_ feature (52.2%)\n",
      "\n",
      "\bhighly recommend (6.0%)\n",
      "\n",
      "\bsound effect (5.3%)\n",
      "\n",
      "\bweb series (4.7%)\n",
      "\n",
      "\bdownload file (4.2%)\n",
      "\n",
      "\btv show (2.2%)\n",
      "\n",
      "\boffline online (2.2%)\n",
      "\n",
      "\bplay store (1.6%)\n",
      "\n",
      "\bgoogle play (1.4%)\n",
      "\n",
      "\bwatch _many_ (1.2%)\n",
      "\n",
      "==================================================\n",
      "TOPIC 4\n",
      "\n",
      "\baudio format (14.1%)\n",
      "\n",
      "\bplay audio (12.5%)\n",
      "\n",
      "\b_ad_ free (3.0%)\n",
      "\n",
      "\bsupport audio (2.6%)\n",
      "\n",
      "\bsupport audio format (2.6%)\n",
      "\n",
      "\bplay song (2.5%)\n",
      "\n",
      "\bstop play (2.2%)\n",
      "\n",
      "\boption subtitle (1.9%)\n",
      "\n",
      "\baudio sound (1.9%)\n",
      "\n",
      "\badd feature (1.8%)\n",
      "\n",
      "==================================================\n",
      "Topic 0\n",
      "100.0% best in the industry. great user xperience. the app did_not ask me to rate here. i loved it from my heart. does the job with ease. vintage vlc experience. thanks to no ads\n",
      "100.0% 1st app i gave 5 star rating. this is literally outstanding app. literally adds are small at bottom . no ads at your face for like 5 sec to annoy you. and the feature of finch zoom is lit. tnx to the developer of this app to providing such great music and video player app.\n",
      "100.0% it's the best video player i've ever used. it's smooth, no ads and supports playing videos in pip mode even the screen is locked.\n",
      "100.0% really good app. no ads. but one question when you will support subtitles during casting??\n",
      "100.0% nice app no ads!! convenient with most features of a good video player. kudos!!\n",
      "100.0% a excelent app to play videos,and no ads\n",
      "100.0% very very super app all is free movies games all less data is only used. not like 2.5 gb only it takes 200mb for one movie and if you login there is no ads. thankyou for mx player\n",
      "100.0% no ads i liked this app\n",
      "100.0% i m happy with this app bcoz they have no ads\n",
      "100.0% thank you for no ads i love you guys\n",
      "==================================================\n",
      "Topic 1\n",
      "100.0% great app. i'm using nova player both on my android tv (some sony...) and firestick 4k in combination with jellyfin. no complains so far. working great, no problems.\n",
      "100.0% this app is awesome. i have a doubt about android tv vlc app. is it possible access android tv's hdmi port or av port contents to stream on vlc app installed on same android tv.?\n",
      "100.0% wow i can_not believe how this media player rocks ! seriously i have it on my android tv and media players as i love using dlna or upnp and it goes collects the info , trailers , ratings , pictures & so much more un freaking believable it's freaking wild absolutely smashes any other media player or especially dlna / upnp players .. i use on my home cinema and play via dlna 3d movies and 4k movies no problem at all a++++++++++ well done developer :)\n",
      "100.0% brilliant! just installed and so far so good. was looking for a video player for android tv that would organise and add cover art etc to my own video library on an external hard drive and this seems to work perfectly.\n",
      "98.7% the best video player i have ever seen on play store. it appreciate it on android tv. i want background video player in android tv. all over the app is really great\n",
      "100.0% best video player ever for me cast videos and movies easily on your android tv without lag issues but can you add cast with subtitles please.\n",
      "100.0% it plays back almost everything your throw at it. it has a super fluid interface and the metadata retrieval is very accurate. i love all the subtitles configuration. the only thing keeping it from being perfect is dolby vision support. nitpick: the android tv icon looks outdated.\n",
      "100.0% one of the very few video players that: 1. works properly with smb2 win10 network shares, secured by username/pass creds, properly browsing shared folders and files. the only other ones that i know of are vimu and latest versions of mx. 2. works properly on android tv, including network browsing. (mx is a big joke, no network browsing ui on android tv). note for devs: please add shuffle (m.b. tunable folder-by-folder using some \".shuffle\" flag file), and the ability to resume playback on last not-yet-played file and inside the stopped-in-the-middle file (or is it there already?) - and your player wil be the all time absolute best!\n",
      "100.0% amazing, i was looking for a player that would work on my android tv with audio passthrough, framerate matching and smb support. it also has perfect av sync unlike vlc.\n",
      "100.0% great android tv video player, better than vlc. you can match the frame rate of a video file, audio passthrough (dolby atmos) and hdr10 works great player, i'm impressed\n",
      "==================================================\n",
      "Topic 2\n",
      "100.0% it is good for watching movies and transform files \n",
      "100.0% very nice app for watching movies\n",
      "100.0% i really like to watch all of my movies\n",
      "100.0% it is a super app for watching movies.but the only problem is it has too many ads. i'm expecting it is the better app for watching movies..\n",
      "100.0% it's a amazing app to watch movies. it has so many functions and easy to use. such as audio controls, subtitles with our colour choice. it's amazed me.\n",
      "100.0% it's so good but i watched movies it cannot have a dubbed feature .to control subtitles .but probably i do_not say it's bad . in other way to describe ,they have to upgrade it \n",
      "99.9% this is very wonderful app for those people who like to watch movies in bluray and it has high volume and brightness features .......\n",
      "100.0% this is a very good application, through this you can also watch videos and movies in good quality and the great thing is that we can also earn money from this application, thank you wholeheartedly to mx player\n",
      "99.4% very nice app for watching movie with bangla subtitle. also listening song.\n",
      "97.4% all features are good and services provided by mx player are good but one thing is really bed that is many advertisements will appearing during using mx player, disturbance in during watching movie or shows\n",
      "==================================================\n",
      "Topic 3\n",
      "100.0% good app bhai it plays several types of video files with subtitles (that can be immediately downloaded from the app if you do_not have it for your film!) also, minimum ad. only has ads while your video is in pause, and they do_not cover all of your screen. and many more great features it has! totally recommended for video playing (although it also works for photos, music!)! awesome\n",
      "100.0% this video player is just awesome with a very less storage space... loved it as it has many other features as well... \n",
      "100.0% this app is really interesting. in this app many features are given. that's why, no special app keeps in mobile for sharing of video at all. all in one \n",
      "100.0% i've been using gom player for years on my laptop. it was great seeing it available for my android. the option to switch between languages for dual audio vids is one of the many features that originally drew me to it. best player out there.\n",
      "100.0% this is best vlc for android, it has many features like pc and love it you know we can even upload subtitles and it is the most wonderful part of this app, i am telling this app worthy more than five stars\n",
      "100.0% playit has many good features and benefits to the best time for a few years of age single to the best time full time full time\n",
      "93.9% omg this is awesome, this is like a dream come true,this is only vedieo app that i wanted for so long, perfect app for collecting my favourite vedioes and it has many features,now i am very very happy that i have found it and very very thanks, it's really like \"the dream come true for me\". this is totally perfect app,it has invincible freauters and picture clarity,sound, this is best app ever,i highly recommend it to download.\n",
      "97.9% playit is a supported app for every video.in playit we can see music audio and video.it support all vodmaye video.we cam transfer files through it.we can receive file through it.many features are avaiy in plait like as formates,for change bass.we can exjust sound effect.\n",
      "100.0% have been using this exceptional app in my first phone suddenly , i could_not get the available parts to get itrepaired. i got a new phone and i was nonchalant to download playit, i thought other app could give me what i wanted . i downloaded about five music player app ,and all where not bringing out the best both hidden and downloaded files of all my music in the phone ,which playit did within a sound . i'm really in like with this app. it has so many features . best app have ever experienced.\n",
      "95.2% i love the thing that it is free great i used this before but that time no that many features like tv shows, original web series, etc. were there but now i found this app useful for both offline or online video streaming  keep it up\n",
      "==================================================\n",
      "Topic 4\n",
      "100.0% it's a great app. but the only problem that i'm facing is the codec issue. it does_not support eac3 audio format. and that's very disappointing. although it's a great application. but i needed to download other players jut to play eac3 audio format files. i hope mx media crew will fix this. and thanks. \n",
      "98.0% i like this app very much. it is a complete package. it plays all video and audio formats. 5 stars for this job. please add more customization options in subtitles settings.\n",
      "100.0% very gud app but add aac audio format too so that we dont want to look for another app that plays aac format\n",
      "100.0% this app is awesome. means i cant express that the problem that cant be solved by any other app, this app solved it. the audio format eac3 was_not supporting in mx player and also in any other app but the audio is now coming just in this app only\n",
      "100.0% it can play anything only condition is it should be video or audio format\n",
      "100.0% hi, i m try to looking my dts songs folders. so i m not belive this all folders is empty now. but other music player is shown all folders for any audio formats. but this is_not shown me why? i request to u developers pls kindly this problem is rectify.\n",
      "100.0% when i download videos form vidmate then audio not supported ? audio format not supported error found. and when i play this video on playit android app it's play audio sound. what's the problem\n",
      "100.0% is great app for my computer or my cellphone i recommend it i can play amp3 mp4 audio and videos i use it for 12 years \n",
      "100.0% the app was amazing i have given 5 star to this app, but one problem is this app is_not support audio format eac3. so make an update to support audio format eac3 please\n",
      "99.3% best ads free media player with good customisation features and supports every audio formats.\n",
      "==================================================\n"
     ]
    }
   ],
   "source": [
    "get_top_tf_idf_tokens_for_topic(H_video_good, video_good_tf_idf.columns.tolist(), 10)\n",
    "get_top_documents_for_each_topic(W_video_good, data_video_good.content.tolist(), num_docs=10)"
   ]
  },
  {
   "cell_type": "markdown",
   "metadata": {},
   "source": [
    "### Poor Review"
   ]
  },
  {
   "cell_type": "code",
   "execution_count": 35,
   "metadata": {},
   "outputs": [],
   "source": [
    "stopword_list_video_bad=stopword_list_2+stopword_list_videoadd"
   ]
  },
  {
   "cell_type": "code",
   "execution_count": 43,
   "metadata": {},
   "outputs": [
    {
     "data": {
      "text/plain": [
       "['i',\n",
       " 'me',\n",
       " 'my',\n",
       " 'myself',\n",
       " 'we',\n",
       " 'our',\n",
       " 'ours',\n",
       " 'ourselves',\n",
       " 'you',\n",
       " \"you're\",\n",
       " \"you've\",\n",
       " \"you'll\",\n",
       " \"you'd\",\n",
       " 'your',\n",
       " 'yours',\n",
       " 'yourself',\n",
       " 'yourselves',\n",
       " 'he',\n",
       " 'him',\n",
       " 'his',\n",
       " 'himself',\n",
       " 'she',\n",
       " \"she's\",\n",
       " 'her',\n",
       " 'hers',\n",
       " 'herself',\n",
       " 'it',\n",
       " \"it's\",\n",
       " 'its',\n",
       " 'itself',\n",
       " 'they',\n",
       " 'them',\n",
       " 'their',\n",
       " 'theirs',\n",
       " 'themselves',\n",
       " 'what',\n",
       " 'which',\n",
       " 'who',\n",
       " 'whom',\n",
       " 'this',\n",
       " 'that',\n",
       " \"that'll\",\n",
       " 'these',\n",
       " 'those',\n",
       " 'am',\n",
       " 'is',\n",
       " 'are',\n",
       " 'was',\n",
       " 'were',\n",
       " 'be',\n",
       " 'been',\n",
       " 'being',\n",
       " 'have',\n",
       " 'has',\n",
       " 'had',\n",
       " 'having',\n",
       " 'do',\n",
       " 'does',\n",
       " 'did',\n",
       " 'doing',\n",
       " 'a',\n",
       " 'an',\n",
       " 'the',\n",
       " 'and',\n",
       " 'but',\n",
       " 'if',\n",
       " 'or',\n",
       " 'because',\n",
       " 'as',\n",
       " 'until',\n",
       " 'while',\n",
       " 'of',\n",
       " 'at',\n",
       " 'by',\n",
       " 'for',\n",
       " 'with',\n",
       " 'about',\n",
       " 'against',\n",
       " 'between',\n",
       " 'into',\n",
       " 'through',\n",
       " 'during',\n",
       " 'before',\n",
       " 'after',\n",
       " 'above',\n",
       " 'below',\n",
       " 'to',\n",
       " 'from',\n",
       " 'up',\n",
       " 'down',\n",
       " 'in',\n",
       " 'out',\n",
       " 'on',\n",
       " 'off',\n",
       " 'over',\n",
       " 'under',\n",
       " 'again',\n",
       " 'further',\n",
       " 'then',\n",
       " 'once',\n",
       " 'here',\n",
       " 'there',\n",
       " 'when',\n",
       " 'where',\n",
       " 'why',\n",
       " 'how',\n",
       " 'all',\n",
       " 'any',\n",
       " 'both',\n",
       " 'each',\n",
       " 'few',\n",
       " 'more',\n",
       " 'most',\n",
       " 'other',\n",
       " 'some',\n",
       " 'such',\n",
       " 'only',\n",
       " 'own',\n",
       " 'same',\n",
       " 'so',\n",
       " 'than',\n",
       " 'too',\n",
       " 'very',\n",
       " 's',\n",
       " 't',\n",
       " 'can',\n",
       " 'will',\n",
       " 'just',\n",
       " 'should',\n",
       " \"should've\",\n",
       " 'now',\n",
       " 'd',\n",
       " 'll',\n",
       " 'm',\n",
       " 'o',\n",
       " 're',\n",
       " 've',\n",
       " 'y',\n",
       " '!',\n",
       " '\"',\n",
       " '#',\n",
       " '$',\n",
       " '%',\n",
       " '&',\n",
       " \"'\",\n",
       " '(',\n",
       " ')',\n",
       " '*',\n",
       " '+',\n",
       " ',',\n",
       " '-',\n",
       " '.',\n",
       " '/',\n",
       " ':',\n",
       " ';',\n",
       " '<',\n",
       " '=',\n",
       " '>',\n",
       " '?',\n",
       " '@',\n",
       " '[',\n",
       " '\\\\',\n",
       " ']',\n",
       " '^',\n",
       " '_',\n",
       " '`',\n",
       " '{',\n",
       " '|',\n",
       " '}',\n",
       " '~',\n",
       " '...',\n",
       " '``',\n",
       " \"''\",\n",
       " '5',\n",
       " '_app_',\n",
       " 'really',\n",
       " 'would',\n",
       " \"'ve\",\n",
       " 'video',\n",
       " 'player',\n",
       " 'ever',\n",
       " 'also',\n",
       " 'use',\n",
       " 'please',\n",
       " 'rating',\n",
       " 'star']"
      ]
     },
     "execution_count": 43,
     "metadata": {},
     "output_type": "execute_result"
    }
   ],
   "source": [
    "stopword_list_video_bad"
   ]
  },
  {
   "cell_type": "code",
   "execution_count": 44,
   "metadata": {},
   "outputs": [
    {
     "name": "stderr",
     "output_type": "stream",
     "text": [
      "<ipython-input-44-1d42c441bb80>:1: FutureWarning: The default value of regex will change from True to False in a future version.\n",
      "  data_video_bad['content_regex'] = data_video_bad['content_regex'].str.replace(r'\\b(((should|has|have|did|do|does|is|are|was|were|could|must)_)?not work\\s?(properly)?)\\b','_problem_',case=False)\n",
      "<ipython-input-44-1d42c441bb80>:1: SettingWithCopyWarning: \n",
      "A value is trying to be set on a copy of a slice from a DataFrame.\n",
      "Try using .loc[row_indexer,col_indexer] = value instead\n",
      "\n",
      "See the caveats in the documentation: https://pandas.pydata.org/pandas-docs/stable/user_guide/indexing.html#returning-a-view-versus-a-copy\n",
      "  data_video_bad['content_regex'] = data_video_bad['content_regex'].str.replace(r'\\b(((should|has|have|did|do|does|is|are|was|were|could|must)_)?not work\\s?(properly)?)\\b','_problem_',case=False)\n"
     ]
    }
   ],
   "source": [
    "data_video_bad['content_regex'] = data_video_bad['content_regex'].str.replace(r'\\b(((should|has|have|did|do|does|is|are|was|were|could|must)_)?not work\\s?(properly)?)\\b','_problem_',case=False)"
   ]
  },
  {
   "cell_type": "code",
   "execution_count": 45,
   "metadata": {},
   "outputs": [],
   "source": [
    "stopword_list_video_bad=stopword_list_2+stopword_list_videoadd+['_problem_']"
   ]
  },
  {
   "cell_type": "code",
   "execution_count": 51,
   "metadata": {},
   "outputs": [
    {
     "name": "stdout",
     "output_type": "stream",
     "text": [
      "videoplayer TF-IDF: (1467, 476)\n"
     ]
    },
    {
     "data": {
      "text/html": [
       "<div>\n",
       "<style scoped>\n",
       "    .dataframe tbody tr th:only-of-type {\n",
       "        vertical-align: middle;\n",
       "    }\n",
       "\n",
       "    .dataframe tbody tr th {\n",
       "        vertical-align: top;\n",
       "    }\n",
       "\n",
       "    .dataframe thead th {\n",
       "        text-align: right;\n",
       "    }\n",
       "</style>\n",
       "<table border=\"1\" class=\"dataframe\">\n",
       "  <thead>\n",
       "    <tr style=\"text-align: right;\">\n",
       "      <th></th>\n",
       "      <th>_ad_ _ad_</th>\n",
       "      <th>_ad_ _ad_ _ad_</th>\n",
       "      <th>_ad_ _good_</th>\n",
       "      <th>_ad_ _love_</th>\n",
       "      <th>_ad_ _one_</th>\n",
       "      <th>_ad_ appear</th>\n",
       "      <th>_ad_ can_not</th>\n",
       "      <th>_ad_ come</th>\n",
       "      <th>_ad_ do_not</th>\n",
       "      <th>_ad_ even</th>\n",
       "      <th>...</th>\n",
       "      <th>whenever try</th>\n",
       "      <th>without _ad_</th>\n",
       "      <th>wo let</th>\n",
       "      <th>wo play</th>\n",
       "      <th>wont play</th>\n",
       "      <th>work _good_</th>\n",
       "      <th>work fine</th>\n",
       "      <th>work properly</th>\n",
       "      <th>worst play</th>\n",
       "      <th>year ago</th>\n",
       "    </tr>\n",
       "  </thead>\n",
       "  <tbody>\n",
       "    <tr>\n",
       "      <th>0</th>\n",
       "      <td>0.0</td>\n",
       "      <td>0.0</td>\n",
       "      <td>0.0</td>\n",
       "      <td>0.0</td>\n",
       "      <td>0.0</td>\n",
       "      <td>0.0</td>\n",
       "      <td>0.0</td>\n",
       "      <td>0.0</td>\n",
       "      <td>0.0</td>\n",
       "      <td>0.0</td>\n",
       "      <td>...</td>\n",
       "      <td>0.0</td>\n",
       "      <td>0.0</td>\n",
       "      <td>0.0</td>\n",
       "      <td>0.0</td>\n",
       "      <td>0.000000</td>\n",
       "      <td>0.0</td>\n",
       "      <td>0.0</td>\n",
       "      <td>0.0</td>\n",
       "      <td>0.0</td>\n",
       "      <td>0.0</td>\n",
       "    </tr>\n",
       "    <tr>\n",
       "      <th>1</th>\n",
       "      <td>0.0</td>\n",
       "      <td>0.0</td>\n",
       "      <td>0.0</td>\n",
       "      <td>0.0</td>\n",
       "      <td>0.0</td>\n",
       "      <td>0.0</td>\n",
       "      <td>0.0</td>\n",
       "      <td>0.0</td>\n",
       "      <td>0.0</td>\n",
       "      <td>0.0</td>\n",
       "      <td>...</td>\n",
       "      <td>0.0</td>\n",
       "      <td>0.0</td>\n",
       "      <td>0.0</td>\n",
       "      <td>0.0</td>\n",
       "      <td>0.000000</td>\n",
       "      <td>0.0</td>\n",
       "      <td>0.0</td>\n",
       "      <td>0.0</td>\n",
       "      <td>0.0</td>\n",
       "      <td>0.0</td>\n",
       "    </tr>\n",
       "    <tr>\n",
       "      <th>2</th>\n",
       "      <td>0.0</td>\n",
       "      <td>0.0</td>\n",
       "      <td>0.0</td>\n",
       "      <td>0.0</td>\n",
       "      <td>0.0</td>\n",
       "      <td>0.0</td>\n",
       "      <td>0.0</td>\n",
       "      <td>0.0</td>\n",
       "      <td>0.0</td>\n",
       "      <td>0.0</td>\n",
       "      <td>...</td>\n",
       "      <td>0.0</td>\n",
       "      <td>0.0</td>\n",
       "      <td>0.0</td>\n",
       "      <td>0.0</td>\n",
       "      <td>0.273509</td>\n",
       "      <td>0.0</td>\n",
       "      <td>0.0</td>\n",
       "      <td>0.0</td>\n",
       "      <td>0.0</td>\n",
       "      <td>0.0</td>\n",
       "    </tr>\n",
       "    <tr>\n",
       "      <th>3</th>\n",
       "      <td>0.0</td>\n",
       "      <td>0.0</td>\n",
       "      <td>0.0</td>\n",
       "      <td>0.0</td>\n",
       "      <td>0.0</td>\n",
       "      <td>0.0</td>\n",
       "      <td>0.0</td>\n",
       "      <td>0.0</td>\n",
       "      <td>0.0</td>\n",
       "      <td>0.0</td>\n",
       "      <td>...</td>\n",
       "      <td>0.0</td>\n",
       "      <td>0.0</td>\n",
       "      <td>0.0</td>\n",
       "      <td>0.0</td>\n",
       "      <td>0.000000</td>\n",
       "      <td>0.0</td>\n",
       "      <td>0.0</td>\n",
       "      <td>0.0</td>\n",
       "      <td>0.0</td>\n",
       "      <td>0.0</td>\n",
       "    </tr>\n",
       "    <tr>\n",
       "      <th>4</th>\n",
       "      <td>0.0</td>\n",
       "      <td>0.0</td>\n",
       "      <td>0.0</td>\n",
       "      <td>0.0</td>\n",
       "      <td>0.0</td>\n",
       "      <td>0.0</td>\n",
       "      <td>0.0</td>\n",
       "      <td>0.0</td>\n",
       "      <td>0.0</td>\n",
       "      <td>0.0</td>\n",
       "      <td>...</td>\n",
       "      <td>0.0</td>\n",
       "      <td>0.0</td>\n",
       "      <td>0.0</td>\n",
       "      <td>0.0</td>\n",
       "      <td>0.000000</td>\n",
       "      <td>0.0</td>\n",
       "      <td>0.0</td>\n",
       "      <td>0.0</td>\n",
       "      <td>0.0</td>\n",
       "      <td>0.0</td>\n",
       "    </tr>\n",
       "  </tbody>\n",
       "</table>\n",
       "<p>5 rows × 476 columns</p>\n",
       "</div>"
      ],
      "text/plain": [
       "   _ad_ _ad_  _ad_ _ad_ _ad_  _ad_ _good_  _ad_ _love_  _ad_ _one_  \\\n",
       "0        0.0             0.0          0.0          0.0         0.0   \n",
       "1        0.0             0.0          0.0          0.0         0.0   \n",
       "2        0.0             0.0          0.0          0.0         0.0   \n",
       "3        0.0             0.0          0.0          0.0         0.0   \n",
       "4        0.0             0.0          0.0          0.0         0.0   \n",
       "\n",
       "   _ad_ appear  _ad_ can_not  _ad_ come  _ad_ do_not  _ad_ even  ...  \\\n",
       "0          0.0           0.0        0.0          0.0        0.0  ...   \n",
       "1          0.0           0.0        0.0          0.0        0.0  ...   \n",
       "2          0.0           0.0        0.0          0.0        0.0  ...   \n",
       "3          0.0           0.0        0.0          0.0        0.0  ...   \n",
       "4          0.0           0.0        0.0          0.0        0.0  ...   \n",
       "\n",
       "   whenever try  without _ad_  wo let  wo play  wont play  work _good_  \\\n",
       "0           0.0           0.0     0.0      0.0   0.000000          0.0   \n",
       "1           0.0           0.0     0.0      0.0   0.000000          0.0   \n",
       "2           0.0           0.0     0.0      0.0   0.273509          0.0   \n",
       "3           0.0           0.0     0.0      0.0   0.000000          0.0   \n",
       "4           0.0           0.0     0.0      0.0   0.000000          0.0   \n",
       "\n",
       "   work fine  work properly  worst play  year ago  \n",
       "0        0.0            0.0         0.0       0.0  \n",
       "1        0.0            0.0         0.0       0.0  \n",
       "2        0.0            0.0         0.0       0.0  \n",
       "3        0.0            0.0         0.0       0.0  \n",
       "4        0.0            0.0         0.0       0.0  \n",
       "\n",
       "[5 rows x 476 columns]"
      ]
     },
     "execution_count": 51,
     "metadata": {},
     "output_type": "execute_result"
    }
   ],
   "source": [
    "vectorizer = TfidfVectorizer(ngram_range=(2,3),\n",
    "                            token_pattern=r'\\b[a-zA-Z_]{2,}\\b',\n",
    "                            min_df=3, max_df=0.4, stop_words=stopword_list_video_bad)\n",
    "                            \n",
    "X_video_bad, video_bad_terms = vectorizer.fit_transform(data_video_bad.content_regex), vectorizer.get_feature_names() #get_feature_names_out()\n",
    "video_bad_tf_idf = pd.DataFrame(X_video_bad.toarray(), columns=video_bad_terms)\n",
    "\n",
    "print(f\"videoplayer TF-IDF: {video_bad_tf_idf.shape}\")\n",
    "video_bad_tf_idf.head(5)"
   ]
  },
  {
   "cell_type": "code",
   "execution_count": 52,
   "metadata": {},
   "outputs": [
    {
     "name": "stdout",
     "output_type": "stream",
     "text": [
      "Original shape of X video_bad is (1467, 476)\n",
      "Decomposed W video_bad matrix is (1467, 4)\n",
      "Decomposed H video_bad matrix is (4, 476)\n"
     ]
    },
    {
     "name": "stderr",
     "output_type": "stream",
     "text": [
      "C:\\Users\\Olivia\\Anaconda3\\lib\\site-packages\\sklearn\\decomposition\\_nmf.py:312: FutureWarning: The 'init' value, when 'init=None' and n_components is less than n_samples and n_features, will be changed from 'nndsvd' to 'nndsvda' in 1.1 (renaming of 0.26).\n",
      "  warnings.warn((\"The 'init' value, when 'init=None' and \"\n"
     ]
    }
   ],
   "source": [
    "# from 618 features to 5 topics\n",
    "nmf = NMF(n_components=4)\n",
    "W_video_bad = nmf.fit_transform(X_video_bad)\n",
    "H_video_bad = nmf.components_\n",
    "print(f\"Original shape of X video_bad is {X_video_bad.shape}\")\n",
    "print(f\"Decomposed W video_bad matrix is {W_video_bad.shape}\")\n",
    "print(f\"Decomposed H video_bad matrix is {H_video_bad.shape}\")"
   ]
  },
  {
   "cell_type": "markdown",
   "metadata": {},
   "source": [
    "#### Report Results For Each Topic"
   ]
  },
  {
   "cell_type": "code",
   "execution_count": 53,
   "metadata": {},
   "outputs": [
    {
     "name": "stdout",
     "output_type": "stream",
     "text": [
      "TOPIC 0\n",
      "\n",
      "\b_many_ _ad_ (44.2%)\n",
      "\n",
      "\bshow _many_ (2.3%)\n",
      "\n",
      "\bshow _many_ _ad_ (2.3%)\n",
      "\n",
      "\b_ad_ every (2.1%)\n",
      "\n",
      "\b_many_ _ad_ every (1.9%)\n",
      "\n",
      "\bshow _ad_ (1.5%)\n",
      "\n",
      "\b_ad_ come (1.5%)\n",
      "\n",
      "\bway _many_ (1.4%)\n",
      "\n",
      "\b_ad_ _love_ (1.4%)\n",
      "\n",
      "\b_ad_ can_not (1.3%)\n",
      "\n",
      "==================================================\n",
      "TOPIC 1\n",
      "\n",
      "\b_last update_ (28.7%)\n",
      "\n",
      "\beven though (3.8%)\n",
      "\n",
      "\bunable play (2.4%)\n",
      "\n",
      "\bevery time (2.2%)\n",
      "\n",
      "\bcan_not play (1.7%)\n",
      "\n",
      "\b_many_ time (1.7%)\n",
      "\n",
      "\bbad experience (1.2%)\n",
      "\n",
      "\bwork properly (1.2%)\n",
      "\n",
      "\bfix asap (1.2%)\n",
      "\n",
      "\bplay song (1.2%)\n",
      "\n",
      "==================================================\n",
      "TOPIC 2\n",
      "\n",
      "\bnot support (52.4%)\n",
      "\n",
      "\baudio not (4.1%)\n",
      "\n",
      "\bupdate _good_ (2.6%)\n",
      "\n",
      "\bformat not (2.6%)\n",
      "\n",
      "\baudio format (2.6%)\n",
      "\n",
      "\bvob file (2.6%)\n",
      "\n",
      "\bautomatically start (2.5%)\n",
      "\n",
      "\bdownload movie (2.5%)\n",
      "\n",
      "\bvideos not (2.5%)\n",
      "\n",
      "\buseless not (2.5%)\n",
      "\n",
      "==================================================\n",
      "TOPIC 3\n",
      "\n",
      "\bwaste time (31.7%)\n",
      "\n",
      "\baudio format (2.4%)\n",
      "\n",
      "\bfull _ad_ (2.2%)\n",
      "\n",
      "\btime data (2.0%)\n",
      "\n",
      "\blong time (2.0%)\n",
      "\n",
      "\bclick play (1.9%)\n",
      "\n",
      "\buseless do_not (1.8%)\n",
      "\n",
      "\b_many_ not (1.8%)\n",
      "\n",
      "\bunable play (1.7%)\n",
      "\n",
      "\bevery time (1.5%)\n",
      "\n",
      "==================================================\n",
      "Topic 0\n",
      "100.0% too many advertisements\n",
      "100.0% too many ads\n",
      "100.0% too many ads\n",
      "100.0% don'ts support my avi format and to much ads\n",
      "100.0% so many ad. dificult to use with all this advertising!\n",
      "100.0% so many ads\n",
      "100.0% too much ad\n",
      "100.0% too many ads. can't skip. it is_not a video player its an ads player app. do something about ads.\n",
      "100.0% too much ads\n",
      "100.0% to much ads\n",
      "==================================================\n",
      "Topic 1\n",
      "100.0% last update is a dud. has become almost useless. issues playing every kind of video\n",
      "100.0% i was facing issues like when i forward the video video was stop but the audio was run i worst issue pls do some work on that this issue is happening after the last update\n",
      "100.0% keeps hanging and crashing with the latest update\n",
      "100.0% latest update broke audio\n",
      "100.0% your latest update has broken the download module. you guys have forcefully added ad module and it never loads.... it was a great app, unfortunately i will be uninstalling this due to ad bombardment for users.\n",
      "100.0% work no surching contains.please solve this problem in new update.\n",
      "100.0% new update sucks. can't take otg device and keep loading. this new update slower down kmplayer alot.please make it good its my favorite video player.also fix its otg capability so it can easily play all the videos from a external hard drive. thanks.\n",
      "100.0% i pay for this app. but after 12/11/2020 last update . is_not working as before. too many bugs . am still waiting drim developers to fix the last update from 12/11/2020\n",
      "100.0% is it with my device or recent updates of the app, the screen turns off even though the video is playing. it has become like any other normal app, if i do_not use the mobile it goes to sleep mode.\n",
      "95.2% the application is_not working as previously. unable to play video after recent update.\n",
      "==================================================\n",
      "Topic 2\n",
      "100.0% not support 4k\n",
      "100.0% not support 4k video\n",
      "100.0% wrost app time wast and net wast not support for code videos\n",
      "100.0% not supported google chromecast now\n",
      "100.0% 4k hevc hdr not supported\n",
      "100.0% codec not supported for mp4 videos?\n",
      "100.0% mkv not support\n",
      "100.0% avi not supported\n",
      "100.0% movie opened slowly and showing glitch,fps is more comparision to other player who played corectly. not supported to lower version of android like kitkat 4.4.2. player should be like supported to every version. your player is_not no 1,in my opinion not supported other video ( half downloaded movie ) it can be good for desktop but not for android.\n",
      "100.0% waste eac3 audio not support\n",
      "==================================================\n",
      "Topic 3\n",
      "100.0% after update playit app video watching online quality very poor and downloading quality option missing ... poor update ... worst app ... don't waste your time ... move to other one ...\n",
      "100.0% waste of time fazol tareen playr hai yai\n",
      "100.0% waste of time\n",
      "100.0% very bad and waste time\n",
      "100.0% keeps having problems. can't forward . crashes . waste of time space and data\n",
      "59.6% waste of time, too many ads.\n",
      "95.7% 3rd class app they said all audio format will support but its waste our time and deta do_not install this app please go with vlc i'm sure it will never disappoint you.\n",
      "100.0% full of ads waste of time.\n",
      "99.9% this application not user friendly. most hanging problem. long time buffering and waste of time.... kindly my request develope your application functions...\n",
      "100.0% dont waste time. it only show videos on your cloud but when you click to.play it doesnt play anthing. it doesnt stream anything. please dont use this app. lets ask editor why the hell he choose this app? commission etc?\n",
      "==================================================\n"
     ]
    }
   ],
   "source": [
    "get_top_tf_idf_tokens_for_topic(H_video_bad, video_bad_tf_idf.columns.tolist(), 10)\n",
    "get_top_documents_for_each_topic(W_video_bad, data_video_bad.content.tolist(), num_docs=10)"
   ]
  },
  {
   "cell_type": "markdown",
   "metadata": {
    "id": "EKFGxTaSb5Wp"
   },
   "source": [
    "#### Random forest"
   ]
  },
  {
   "cell_type": "code",
   "execution_count": 55,
   "metadata": {},
   "outputs": [],
   "source": [
    "from sklearn.model_selection import cross_validate\n",
    "from sklearn.ensemble import RandomForestClassifier\n",
    "from sklearn.model_selection import train_test_split"
   ]
  },
  {
   "cell_type": "code",
   "execution_count": 56,
   "metadata": {},
   "outputs": [
    {
     "data": {
      "text/html": [
       "<div>\n",
       "<style scoped>\n",
       "    .dataframe tbody tr th:only-of-type {\n",
       "        vertical-align: middle;\n",
       "    }\n",
       "\n",
       "    .dataframe tbody tr th {\n",
       "        vertical-align: top;\n",
       "    }\n",
       "\n",
       "    .dataframe thead th {\n",
       "        text-align: right;\n",
       "    }\n",
       "</style>\n",
       "<table border=\"1\" class=\"dataframe\">\n",
       "  <thead>\n",
       "    <tr style=\"text-align: right;\">\n",
       "      <th></th>\n",
       "      <th>_ad_ come</th>\n",
       "      <th>_ad_ do_not</th>\n",
       "      <th>_ad_ free</th>\n",
       "      <th>_ad_ no</th>\n",
       "      <th>_ad_ thanks</th>\n",
       "      <th>_ad_ user</th>\n",
       "      <th>_last update_</th>\n",
       "      <th>_many_ _ad_</th>\n",
       "      <th>_many_ _many_</th>\n",
       "      <th>_many_ _many_ mx</th>\n",
       "      <th>...</th>\n",
       "      <th>without difficulty</th>\n",
       "      <th>without interruption</th>\n",
       "      <th>wo n</th>\n",
       "      <th>work _phone_</th>\n",
       "      <th>work android</th>\n",
       "      <th>work fine</th>\n",
       "      <th>work guy</th>\n",
       "      <th>work properly</th>\n",
       "      <th>work smoothly</th>\n",
       "      <th>work thank</th>\n",
       "    </tr>\n",
       "  </thead>\n",
       "  <tbody>\n",
       "    <tr>\n",
       "      <th>0</th>\n",
       "      <td>0.0</td>\n",
       "      <td>0.0</td>\n",
       "      <td>0.0</td>\n",
       "      <td>0.0</td>\n",
       "      <td>0.0</td>\n",
       "      <td>0.0</td>\n",
       "      <td>0.0</td>\n",
       "      <td>0.0</td>\n",
       "      <td>0.0</td>\n",
       "      <td>0.0</td>\n",
       "      <td>...</td>\n",
       "      <td>0.0</td>\n",
       "      <td>0.0</td>\n",
       "      <td>0.0</td>\n",
       "      <td>0.0</td>\n",
       "      <td>0.0</td>\n",
       "      <td>0.0</td>\n",
       "      <td>0.0</td>\n",
       "      <td>0.0</td>\n",
       "      <td>0.0</td>\n",
       "      <td>0.0</td>\n",
       "    </tr>\n",
       "    <tr>\n",
       "      <th>1</th>\n",
       "      <td>0.0</td>\n",
       "      <td>0.0</td>\n",
       "      <td>0.0</td>\n",
       "      <td>0.0</td>\n",
       "      <td>0.0</td>\n",
       "      <td>0.0</td>\n",
       "      <td>0.0</td>\n",
       "      <td>0.0</td>\n",
       "      <td>0.0</td>\n",
       "      <td>0.0</td>\n",
       "      <td>...</td>\n",
       "      <td>0.0</td>\n",
       "      <td>0.0</td>\n",
       "      <td>0.0</td>\n",
       "      <td>0.0</td>\n",
       "      <td>0.0</td>\n",
       "      <td>0.0</td>\n",
       "      <td>0.0</td>\n",
       "      <td>0.0</td>\n",
       "      <td>0.0</td>\n",
       "      <td>0.0</td>\n",
       "    </tr>\n",
       "    <tr>\n",
       "      <th>2</th>\n",
       "      <td>0.0</td>\n",
       "      <td>0.0</td>\n",
       "      <td>0.0</td>\n",
       "      <td>0.0</td>\n",
       "      <td>0.0</td>\n",
       "      <td>0.0</td>\n",
       "      <td>0.0</td>\n",
       "      <td>0.0</td>\n",
       "      <td>0.0</td>\n",
       "      <td>0.0</td>\n",
       "      <td>...</td>\n",
       "      <td>0.0</td>\n",
       "      <td>0.0</td>\n",
       "      <td>0.0</td>\n",
       "      <td>0.0</td>\n",
       "      <td>0.0</td>\n",
       "      <td>0.0</td>\n",
       "      <td>0.0</td>\n",
       "      <td>0.0</td>\n",
       "      <td>0.0</td>\n",
       "      <td>0.0</td>\n",
       "    </tr>\n",
       "    <tr>\n",
       "      <th>3</th>\n",
       "      <td>0.0</td>\n",
       "      <td>0.0</td>\n",
       "      <td>0.0</td>\n",
       "      <td>0.0</td>\n",
       "      <td>0.0</td>\n",
       "      <td>0.0</td>\n",
       "      <td>0.0</td>\n",
       "      <td>0.0</td>\n",
       "      <td>0.0</td>\n",
       "      <td>0.0</td>\n",
       "      <td>...</td>\n",
       "      <td>0.0</td>\n",
       "      <td>0.0</td>\n",
       "      <td>0.0</td>\n",
       "      <td>0.0</td>\n",
       "      <td>0.0</td>\n",
       "      <td>0.0</td>\n",
       "      <td>0.0</td>\n",
       "      <td>0.0</td>\n",
       "      <td>0.0</td>\n",
       "      <td>0.0</td>\n",
       "    </tr>\n",
       "    <tr>\n",
       "      <th>4</th>\n",
       "      <td>0.0</td>\n",
       "      <td>0.0</td>\n",
       "      <td>0.0</td>\n",
       "      <td>0.0</td>\n",
       "      <td>0.0</td>\n",
       "      <td>0.0</td>\n",
       "      <td>0.0</td>\n",
       "      <td>0.0</td>\n",
       "      <td>0.0</td>\n",
       "      <td>0.0</td>\n",
       "      <td>...</td>\n",
       "      <td>0.0</td>\n",
       "      <td>0.0</td>\n",
       "      <td>0.0</td>\n",
       "      <td>0.0</td>\n",
       "      <td>0.0</td>\n",
       "      <td>0.0</td>\n",
       "      <td>0.0</td>\n",
       "      <td>0.0</td>\n",
       "      <td>0.0</td>\n",
       "      <td>0.0</td>\n",
       "    </tr>\n",
       "    <tr>\n",
       "      <th>...</th>\n",
       "      <td>...</td>\n",
       "      <td>...</td>\n",
       "      <td>...</td>\n",
       "      <td>...</td>\n",
       "      <td>...</td>\n",
       "      <td>...</td>\n",
       "      <td>...</td>\n",
       "      <td>...</td>\n",
       "      <td>...</td>\n",
       "      <td>...</td>\n",
       "      <td>...</td>\n",
       "      <td>...</td>\n",
       "      <td>...</td>\n",
       "      <td>...</td>\n",
       "      <td>...</td>\n",
       "      <td>...</td>\n",
       "      <td>...</td>\n",
       "      <td>...</td>\n",
       "      <td>...</td>\n",
       "      <td>...</td>\n",
       "      <td>...</td>\n",
       "    </tr>\n",
       "    <tr>\n",
       "      <th>1781</th>\n",
       "      <td>0.0</td>\n",
       "      <td>0.0</td>\n",
       "      <td>0.0</td>\n",
       "      <td>0.0</td>\n",
       "      <td>0.0</td>\n",
       "      <td>0.0</td>\n",
       "      <td>0.0</td>\n",
       "      <td>0.0</td>\n",
       "      <td>0.0</td>\n",
       "      <td>0.0</td>\n",
       "      <td>...</td>\n",
       "      <td>0.0</td>\n",
       "      <td>0.0</td>\n",
       "      <td>0.0</td>\n",
       "      <td>0.0</td>\n",
       "      <td>0.0</td>\n",
       "      <td>0.0</td>\n",
       "      <td>0.0</td>\n",
       "      <td>0.0</td>\n",
       "      <td>0.0</td>\n",
       "      <td>0.0</td>\n",
       "    </tr>\n",
       "    <tr>\n",
       "      <th>1782</th>\n",
       "      <td>0.0</td>\n",
       "      <td>0.0</td>\n",
       "      <td>0.0</td>\n",
       "      <td>0.0</td>\n",
       "      <td>0.0</td>\n",
       "      <td>0.0</td>\n",
       "      <td>0.0</td>\n",
       "      <td>0.0</td>\n",
       "      <td>0.0</td>\n",
       "      <td>0.0</td>\n",
       "      <td>...</td>\n",
       "      <td>0.0</td>\n",
       "      <td>0.0</td>\n",
       "      <td>0.0</td>\n",
       "      <td>0.0</td>\n",
       "      <td>0.0</td>\n",
       "      <td>0.0</td>\n",
       "      <td>0.0</td>\n",
       "      <td>0.0</td>\n",
       "      <td>0.0</td>\n",
       "      <td>0.0</td>\n",
       "    </tr>\n",
       "    <tr>\n",
       "      <th>1783</th>\n",
       "      <td>0.0</td>\n",
       "      <td>0.0</td>\n",
       "      <td>0.0</td>\n",
       "      <td>0.0</td>\n",
       "      <td>0.0</td>\n",
       "      <td>0.0</td>\n",
       "      <td>0.0</td>\n",
       "      <td>0.0</td>\n",
       "      <td>0.0</td>\n",
       "      <td>0.0</td>\n",
       "      <td>...</td>\n",
       "      <td>0.0</td>\n",
       "      <td>0.0</td>\n",
       "      <td>0.0</td>\n",
       "      <td>0.0</td>\n",
       "      <td>1.0</td>\n",
       "      <td>0.0</td>\n",
       "      <td>0.0</td>\n",
       "      <td>0.0</td>\n",
       "      <td>0.0</td>\n",
       "      <td>0.0</td>\n",
       "    </tr>\n",
       "    <tr>\n",
       "      <th>1784</th>\n",
       "      <td>0.0</td>\n",
       "      <td>0.0</td>\n",
       "      <td>0.0</td>\n",
       "      <td>0.0</td>\n",
       "      <td>0.0</td>\n",
       "      <td>0.0</td>\n",
       "      <td>0.0</td>\n",
       "      <td>0.0</td>\n",
       "      <td>0.0</td>\n",
       "      <td>0.0</td>\n",
       "      <td>...</td>\n",
       "      <td>0.0</td>\n",
       "      <td>0.0</td>\n",
       "      <td>0.0</td>\n",
       "      <td>0.0</td>\n",
       "      <td>0.0</td>\n",
       "      <td>0.0</td>\n",
       "      <td>0.0</td>\n",
       "      <td>0.0</td>\n",
       "      <td>0.0</td>\n",
       "      <td>0.0</td>\n",
       "    </tr>\n",
       "    <tr>\n",
       "      <th>1785</th>\n",
       "      <td>0.0</td>\n",
       "      <td>0.0</td>\n",
       "      <td>0.0</td>\n",
       "      <td>0.0</td>\n",
       "      <td>0.0</td>\n",
       "      <td>0.0</td>\n",
       "      <td>0.0</td>\n",
       "      <td>0.0</td>\n",
       "      <td>0.0</td>\n",
       "      <td>0.0</td>\n",
       "      <td>...</td>\n",
       "      <td>0.0</td>\n",
       "      <td>0.0</td>\n",
       "      <td>0.0</td>\n",
       "      <td>0.0</td>\n",
       "      <td>0.0</td>\n",
       "      <td>0.0</td>\n",
       "      <td>0.0</td>\n",
       "      <td>0.0</td>\n",
       "      <td>0.0</td>\n",
       "      <td>0.0</td>\n",
       "    </tr>\n",
       "  </tbody>\n",
       "</table>\n",
       "<p>1786 rows × 357 columns</p>\n",
       "</div>"
      ],
      "text/plain": [
       "      _ad_ come  _ad_ do_not  _ad_ free  _ad_ no  _ad_ thanks  _ad_ user  \\\n",
       "0           0.0          0.0        0.0      0.0          0.0        0.0   \n",
       "1           0.0          0.0        0.0      0.0          0.0        0.0   \n",
       "2           0.0          0.0        0.0      0.0          0.0        0.0   \n",
       "3           0.0          0.0        0.0      0.0          0.0        0.0   \n",
       "4           0.0          0.0        0.0      0.0          0.0        0.0   \n",
       "...         ...          ...        ...      ...          ...        ...   \n",
       "1781        0.0          0.0        0.0      0.0          0.0        0.0   \n",
       "1782        0.0          0.0        0.0      0.0          0.0        0.0   \n",
       "1783        0.0          0.0        0.0      0.0          0.0        0.0   \n",
       "1784        0.0          0.0        0.0      0.0          0.0        0.0   \n",
       "1785        0.0          0.0        0.0      0.0          0.0        0.0   \n",
       "\n",
       "      _last update_  _many_ _ad_  _many_ _many_  _many_ _many_ mx  ...  \\\n",
       "0               0.0          0.0            0.0               0.0  ...   \n",
       "1               0.0          0.0            0.0               0.0  ...   \n",
       "2               0.0          0.0            0.0               0.0  ...   \n",
       "3               0.0          0.0            0.0               0.0  ...   \n",
       "4               0.0          0.0            0.0               0.0  ...   \n",
       "...             ...          ...            ...               ...  ...   \n",
       "1781            0.0          0.0            0.0               0.0  ...   \n",
       "1782            0.0          0.0            0.0               0.0  ...   \n",
       "1783            0.0          0.0            0.0               0.0  ...   \n",
       "1784            0.0          0.0            0.0               0.0  ...   \n",
       "1785            0.0          0.0            0.0               0.0  ...   \n",
       "\n",
       "      without difficulty  without interruption  wo n  work _phone_  \\\n",
       "0                    0.0                   0.0   0.0           0.0   \n",
       "1                    0.0                   0.0   0.0           0.0   \n",
       "2                    0.0                   0.0   0.0           0.0   \n",
       "3                    0.0                   0.0   0.0           0.0   \n",
       "4                    0.0                   0.0   0.0           0.0   \n",
       "...                  ...                   ...   ...           ...   \n",
       "1781                 0.0                   0.0   0.0           0.0   \n",
       "1782                 0.0                   0.0   0.0           0.0   \n",
       "1783                 0.0                   0.0   0.0           0.0   \n",
       "1784                 0.0                   0.0   0.0           0.0   \n",
       "1785                 0.0                   0.0   0.0           0.0   \n",
       "\n",
       "      work android  work fine  work guy  work properly  work smoothly  \\\n",
       "0              0.0        0.0       0.0            0.0            0.0   \n",
       "1              0.0        0.0       0.0            0.0            0.0   \n",
       "2              0.0        0.0       0.0            0.0            0.0   \n",
       "3              0.0        0.0       0.0            0.0            0.0   \n",
       "4              0.0        0.0       0.0            0.0            0.0   \n",
       "...            ...        ...       ...            ...            ...   \n",
       "1781           0.0        0.0       0.0            0.0            0.0   \n",
       "1782           0.0        0.0       0.0            0.0            0.0   \n",
       "1783           1.0        0.0       0.0            0.0            0.0   \n",
       "1784           0.0        0.0       0.0            0.0            0.0   \n",
       "1785           0.0        0.0       0.0            0.0            0.0   \n",
       "\n",
       "      work thank  \n",
       "0            0.0  \n",
       "1            0.0  \n",
       "2            0.0  \n",
       "3            0.0  \n",
       "4            0.0  \n",
       "...          ...  \n",
       "1781         0.0  \n",
       "1782         0.0  \n",
       "1783         0.0  \n",
       "1784         0.0  \n",
       "1785         0.0  \n",
       "\n",
       "[1786 rows x 357 columns]"
      ]
     },
     "execution_count": 56,
     "metadata": {},
     "output_type": "execute_result"
    }
   ],
   "source": [
    "video_good_tf_idf"
   ]
  },
  {
   "cell_type": "code",
   "execution_count": 57,
   "metadata": {},
   "outputs": [],
   "source": [
    "data_video_good.reset_index(inplace=True)\n",
    "data_video_bad.reset_index(inplace=True)"
   ]
  },
  {
   "cell_type": "code",
   "execution_count": 58,
   "metadata": {},
   "outputs": [
    {
     "data": {
      "text/html": [
       "<div>\n",
       "<style scoped>\n",
       "    .dataframe tbody tr th:only-of-type {\n",
       "        vertical-align: middle;\n",
       "    }\n",
       "\n",
       "    .dataframe tbody tr th {\n",
       "        vertical-align: top;\n",
       "    }\n",
       "\n",
       "    .dataframe thead th {\n",
       "        text-align: right;\n",
       "    }\n",
       "</style>\n",
       "<table border=\"1\" class=\"dataframe\">\n",
       "  <thead>\n",
       "    <tr style=\"text-align: right;\">\n",
       "      <th></th>\n",
       "      <th>index</th>\n",
       "      <th>content</th>\n",
       "      <th>score</th>\n",
       "      <th>category</th>\n",
       "      <th>content_lemma</th>\n",
       "      <th>content_regex</th>\n",
       "    </tr>\n",
       "  </thead>\n",
       "  <tbody>\n",
       "    <tr>\n",
       "      <th>0</th>\n",
       "      <td>947</td>\n",
       "      <td>the best easy to use media player, almost supp...</td>\n",
       "      <td>5</td>\n",
       "      <td>videoplayer</td>\n",
       "      <td>the best easy to use medium player , almost su...</td>\n",
       "      <td>the _good_ easy to use medium player , almost ...</td>\n",
       "    </tr>\n",
       "    <tr>\n",
       "      <th>1</th>\n",
       "      <td>948</td>\n",
       "      <td>goat video player on pc as well as on android ...</td>\n",
       "      <td>5</td>\n",
       "      <td>videoplayer</td>\n",
       "      <td>goat video player on pc as well as on android ...</td>\n",
       "      <td>goat video player on pc as _good_ as on androi...</td>\n",
       "    </tr>\n",
       "    <tr>\n",
       "      <th>2</th>\n",
       "      <td>949</td>\n",
       "      <td>best video player in the store. bug report : 1...</td>\n",
       "      <td>5</td>\n",
       "      <td>videoplayer</td>\n",
       "      <td>best video player in the store . bug report : ...</td>\n",
       "      <td>_good_ video player in the store . _problem_ r...</td>\n",
       "    </tr>\n",
       "    <tr>\n",
       "      <th>3</th>\n",
       "      <td>950</td>\n",
       "      <td>very good clarity. regularly listening music t...</td>\n",
       "      <td>5</td>\n",
       "      <td>videoplayer</td>\n",
       "      <td>very good clarity . regularly listen music thr...</td>\n",
       "      <td>very _good_ clarity . regularly listen music t...</td>\n",
       "    </tr>\n",
       "    <tr>\n",
       "      <th>4</th>\n",
       "      <td>951</td>\n",
       "      <td>hindi subtitles are displayed as box, but when...</td>\n",
       "      <td>5</td>\n",
       "      <td>videoplayer</td>\n",
       "      <td>hindi subtitle be display as box , but when sa...</td>\n",
       "      <td>hindi subtitle be display as box , but when sa...</td>\n",
       "    </tr>\n",
       "    <tr>\n",
       "      <th>...</th>\n",
       "      <td>...</td>\n",
       "      <td>...</td>\n",
       "      <td>...</td>\n",
       "      <td>...</td>\n",
       "      <td>...</td>\n",
       "      <td>...</td>\n",
       "    </tr>\n",
       "    <tr>\n",
       "      <th>1781</th>\n",
       "      <td>8425</td>\n",
       "      <td>it really makes everything look great from the...</td>\n",
       "      <td>5</td>\n",
       "      <td>videoplayer</td>\n",
       "      <td>it really make everything look great from the ...</td>\n",
       "      <td>it really make everything look _good_ from the...</td>\n",
       "    </tr>\n",
       "    <tr>\n",
       "      <th>1782</th>\n",
       "      <td>8426</td>\n",
       "      <td>excellent</td>\n",
       "      <td>5</td>\n",
       "      <td>videoplayer</td>\n",
       "      <td>excellent</td>\n",
       "      <td>_good_</td>\n",
       "    </tr>\n",
       "    <tr>\n",
       "      <th>1783</th>\n",
       "      <td>8427</td>\n",
       "      <td>wonderfull video player. the real heart of arc...</td>\n",
       "      <td>5</td>\n",
       "      <td>videoplayer</td>\n",
       "      <td>wonderfull video player . the real heart of ar...</td>\n",
       "      <td>wonderfull video player . the real heart of ar...</td>\n",
       "    </tr>\n",
       "    <tr>\n",
       "      <th>1784</th>\n",
       "      <td>8428</td>\n",
       "      <td>movies with music</td>\n",
       "      <td>5</td>\n",
       "      <td>videoplayer</td>\n",
       "      <td>movie with music</td>\n",
       "      <td>movie with music</td>\n",
       "    </tr>\n",
       "    <tr>\n",
       "      <th>1785</th>\n",
       "      <td>8429</td>\n",
       "      <td>enjoy the layout,easy to use. wish it had play...</td>\n",
       "      <td>5</td>\n",
       "      <td>videoplayer</td>\n",
       "      <td>enjoy the layout , easy to use . wish it have ...</td>\n",
       "      <td>enjoy the layout , easy to use . wish it have ...</td>\n",
       "    </tr>\n",
       "  </tbody>\n",
       "</table>\n",
       "<p>1786 rows × 6 columns</p>\n",
       "</div>"
      ],
      "text/plain": [
       "      index                                            content  score  \\\n",
       "0       947  the best easy to use media player, almost supp...      5   \n",
       "1       948  goat video player on pc as well as on android ...      5   \n",
       "2       949  best video player in the store. bug report : 1...      5   \n",
       "3       950  very good clarity. regularly listening music t...      5   \n",
       "4       951  hindi subtitles are displayed as box, but when...      5   \n",
       "...     ...                                                ...    ...   \n",
       "1781   8425  it really makes everything look great from the...      5   \n",
       "1782   8426                                         excellent       5   \n",
       "1783   8427  wonderfull video player. the real heart of arc...      5   \n",
       "1784   8428                                  movies with music      5   \n",
       "1785   8429  enjoy the layout,easy to use. wish it had play...      5   \n",
       "\n",
       "         category                                      content_lemma  \\\n",
       "0     videoplayer  the best easy to use medium player , almost su...   \n",
       "1     videoplayer  goat video player on pc as well as on android ...   \n",
       "2     videoplayer  best video player in the store . bug report : ...   \n",
       "3     videoplayer  very good clarity . regularly listen music thr...   \n",
       "4     videoplayer  hindi subtitle be display as box , but when sa...   \n",
       "...           ...                                                ...   \n",
       "1781  videoplayer  it really make everything look great from the ...   \n",
       "1782  videoplayer                                          excellent   \n",
       "1783  videoplayer  wonderfull video player . the real heart of ar...   \n",
       "1784  videoplayer                                   movie with music   \n",
       "1785  videoplayer  enjoy the layout , easy to use . wish it have ...   \n",
       "\n",
       "                                          content_regex  \n",
       "0     the _good_ easy to use medium player , almost ...  \n",
       "1     goat video player on pc as _good_ as on androi...  \n",
       "2     _good_ video player in the store . _problem_ r...  \n",
       "3     very _good_ clarity . regularly listen music t...  \n",
       "4     hindi subtitle be display as box , but when sa...  \n",
       "...                                                 ...  \n",
       "1781  it really make everything look _good_ from the...  \n",
       "1782                                             _good_  \n",
       "1783  wonderfull video player . the real heart of ar...  \n",
       "1784                                   movie with music  \n",
       "1785  enjoy the layout , easy to use . wish it have ...  \n",
       "\n",
       "[1786 rows x 6 columns]"
      ]
     },
     "execution_count": 58,
     "metadata": {},
     "output_type": "execute_result"
    }
   ],
   "source": [
    "data_video_good"
   ]
  },
  {
   "cell_type": "code",
   "execution_count": 59,
   "metadata": {},
   "outputs": [
    {
     "data": {
      "text/plain": [
       "(3253, 5)"
      ]
     },
     "execution_count": 59,
     "metadata": {},
     "output_type": "execute_result"
    }
   ],
   "source": [
    "data_video_all=data_all.loc[((data_all['score']==1)|(data_all['score']==5))&(data_all['category']=='videoplayer'),]\n",
    "data_video_all.shape"
   ]
  },
  {
   "cell_type": "code",
   "execution_count": 60,
   "metadata": {},
   "outputs": [
    {
     "name": "stderr",
     "output_type": "stream",
     "text": [
      "<ipython-input-60-72878163cf7e>:1: SettingWithCopyWarning: \n",
      "A value is trying to be set on a copy of a slice from a DataFrame.\n",
      "Try using .loc[row_indexer,col_indexer] = value instead\n",
      "\n",
      "See the caveats in the documentation: https://pandas.pydata.org/pandas-docs/stable/user_guide/indexing.html#returning-a-view-versus-a-copy\n",
      "  data_video_all['sentiment']=data_video_all['score'].map(lambda x: 0 if x<3  else 1)\n"
     ]
    },
    {
     "data": {
      "text/html": [
       "<div>\n",
       "<style scoped>\n",
       "    .dataframe tbody tr th:only-of-type {\n",
       "        vertical-align: middle;\n",
       "    }\n",
       "\n",
       "    .dataframe tbody tr th {\n",
       "        vertical-align: top;\n",
       "    }\n",
       "\n",
       "    .dataframe thead th {\n",
       "        text-align: right;\n",
       "    }\n",
       "</style>\n",
       "<table border=\"1\" class=\"dataframe\">\n",
       "  <thead>\n",
       "    <tr style=\"text-align: right;\">\n",
       "      <th></th>\n",
       "      <th>content</th>\n",
       "      <th>score</th>\n",
       "      <th>category</th>\n",
       "      <th>content_lemma</th>\n",
       "      <th>content_regex</th>\n",
       "      <th>sentiment</th>\n",
       "    </tr>\n",
       "  </thead>\n",
       "  <tbody>\n",
       "    <tr>\n",
       "      <th>0</th>\n",
       "      <td>earlier it was used to be good but now it's be...</td>\n",
       "      <td>1</td>\n",
       "      <td>videoplayer</td>\n",
       "      <td>earlier it be use to be good but now it 's bec...</td>\n",
       "      <td>earlier it be use to be _good_ but now it 's b...</td>\n",
       "      <td>0</td>\n",
       "    </tr>\n",
       "    <tr>\n",
       "      <th>1</th>\n",
       "      <td>this will be the best video player in android ...</td>\n",
       "      <td>1</td>\n",
       "      <td>videoplayer</td>\n",
       "      <td>this will be the best video player in android ...</td>\n",
       "      <td>this will be the _good_ video player in androi...</td>\n",
       "      <td>0</td>\n",
       "    </tr>\n",
       "    <tr>\n",
       "      <th>2</th>\n",
       "      <td>before it was perfectly stable now its all gon...</td>\n",
       "      <td>1</td>\n",
       "      <td>videoplayer</td>\n",
       "      <td>before it be perfectly stable now its all go w...</td>\n",
       "      <td>before it be _good_ stable now its all go wron...</td>\n",
       "      <td>0</td>\n",
       "    </tr>\n",
       "    <tr>\n",
       "      <th>3</th>\n",
       "      <td>it's was quite stable in its previous versions...</td>\n",
       "      <td>1</td>\n",
       "      <td>videoplayer</td>\n",
       "      <td>it 's be quite stable in its previous version ...</td>\n",
       "      <td>it 's be quite stable in its previous version ...</td>\n",
       "      <td>0</td>\n",
       "    </tr>\n",
       "    <tr>\n",
       "      <th>4</th>\n",
       "      <td>*resume function is_not working. every time i ...</td>\n",
       "      <td>1</td>\n",
       "      <td>videoplayer</td>\n",
       "      <td>* resume function is_not work . every time i m...</td>\n",
       "      <td>* resume function is_not work . every time i m...</td>\n",
       "      <td>0</td>\n",
       "    </tr>\n",
       "  </tbody>\n",
       "</table>\n",
       "</div>"
      ],
      "text/plain": [
       "                                             content  score     category  \\\n",
       "0  earlier it was used to be good but now it's be...      1  videoplayer   \n",
       "1  this will be the best video player in android ...      1  videoplayer   \n",
       "2  before it was perfectly stable now its all gon...      1  videoplayer   \n",
       "3  it's was quite stable in its previous versions...      1  videoplayer   \n",
       "4  *resume function is_not working. every time i ...      1  videoplayer   \n",
       "\n",
       "                                       content_lemma  \\\n",
       "0  earlier it be use to be good but now it 's bec...   \n",
       "1  this will be the best video player in android ...   \n",
       "2  before it be perfectly stable now its all go w...   \n",
       "3  it 's be quite stable in its previous version ...   \n",
       "4  * resume function is_not work . every time i m...   \n",
       "\n",
       "                                       content_regex  sentiment  \n",
       "0  earlier it be use to be _good_ but now it 's b...          0  \n",
       "1  this will be the _good_ video player in androi...          0  \n",
       "2  before it be _good_ stable now its all go wron...          0  \n",
       "3  it 's be quite stable in its previous version ...          0  \n",
       "4  * resume function is_not work . every time i m...          0  "
      ]
     },
     "execution_count": 60,
     "metadata": {},
     "output_type": "execute_result"
    }
   ],
   "source": [
    "data_video_all['sentiment']=data_video_all['score'].map(lambda x: 0 if x<3  else 1)\n",
    "data_video_all.head()"
   ]
  },
  {
   "cell_type": "code",
   "execution_count": 56,
   "metadata": {},
   "outputs": [
    {
     "name": "stdout",
     "output_type": "stream",
     "text": [
      "videoplayer all TF-IDF: (3253, 369)\n"
     ]
    },
    {
     "data": {
      "text/html": [
       "<div>\n",
       "<style scoped>\n",
       "    .dataframe tbody tr th:only-of-type {\n",
       "        vertical-align: middle;\n",
       "    }\n",
       "\n",
       "    .dataframe tbody tr th {\n",
       "        vertical-align: top;\n",
       "    }\n",
       "\n",
       "    .dataframe thead th {\n",
       "        text-align: right;\n",
       "    }\n",
       "</style>\n",
       "<table border=\"1\" class=\"dataframe\">\n",
       "  <thead>\n",
       "    <tr style=\"text-align: right;\">\n",
       "      <th></th>\n",
       "      <th>_ad_ _ad_</th>\n",
       "      <th>_ad_ _love_</th>\n",
       "      <th>_ad_ _one_</th>\n",
       "      <th>_ad_ can_not</th>\n",
       "      <th>_ad_ come</th>\n",
       "      <th>_ad_ do_not</th>\n",
       "      <th>_ad_ even</th>\n",
       "      <th>_ad_ every</th>\n",
       "      <th>_ad_ free</th>\n",
       "      <th>_ad_ minute</th>\n",
       "      <th>...</th>\n",
       "      <th>without _ad_</th>\n",
       "      <th>wo n</th>\n",
       "      <th>wo n let</th>\n",
       "      <th>wo n play</th>\n",
       "      <th>work _love_</th>\n",
       "      <th>work android</th>\n",
       "      <th>work fine</th>\n",
       "      <th>work guy</th>\n",
       "      <th>work properly</th>\n",
       "      <th>work update</th>\n",
       "    </tr>\n",
       "  </thead>\n",
       "  <tbody>\n",
       "    <tr>\n",
       "      <th>0</th>\n",
       "      <td>0.0</td>\n",
       "      <td>0.0</td>\n",
       "      <td>0.0</td>\n",
       "      <td>0.0</td>\n",
       "      <td>0.0</td>\n",
       "      <td>0.0</td>\n",
       "      <td>0.0</td>\n",
       "      <td>0.0</td>\n",
       "      <td>0.0</td>\n",
       "      <td>0.0</td>\n",
       "      <td>...</td>\n",
       "      <td>0.0</td>\n",
       "      <td>0.0</td>\n",
       "      <td>0.0</td>\n",
       "      <td>0.0</td>\n",
       "      <td>0.0</td>\n",
       "      <td>0.0</td>\n",
       "      <td>0.0</td>\n",
       "      <td>0.0</td>\n",
       "      <td>0.0</td>\n",
       "      <td>0.0</td>\n",
       "    </tr>\n",
       "    <tr>\n",
       "      <th>1</th>\n",
       "      <td>0.0</td>\n",
       "      <td>0.0</td>\n",
       "      <td>0.0</td>\n",
       "      <td>0.0</td>\n",
       "      <td>0.0</td>\n",
       "      <td>0.0</td>\n",
       "      <td>0.0</td>\n",
       "      <td>0.0</td>\n",
       "      <td>0.0</td>\n",
       "      <td>0.0</td>\n",
       "      <td>...</td>\n",
       "      <td>0.0</td>\n",
       "      <td>0.0</td>\n",
       "      <td>0.0</td>\n",
       "      <td>0.0</td>\n",
       "      <td>0.0</td>\n",
       "      <td>0.0</td>\n",
       "      <td>0.0</td>\n",
       "      <td>0.0</td>\n",
       "      <td>0.0</td>\n",
       "      <td>0.0</td>\n",
       "    </tr>\n",
       "    <tr>\n",
       "      <th>2</th>\n",
       "      <td>0.0</td>\n",
       "      <td>0.0</td>\n",
       "      <td>0.0</td>\n",
       "      <td>0.0</td>\n",
       "      <td>0.0</td>\n",
       "      <td>0.0</td>\n",
       "      <td>0.0</td>\n",
       "      <td>0.0</td>\n",
       "      <td>0.0</td>\n",
       "      <td>0.0</td>\n",
       "      <td>...</td>\n",
       "      <td>0.0</td>\n",
       "      <td>0.0</td>\n",
       "      <td>0.0</td>\n",
       "      <td>0.0</td>\n",
       "      <td>0.0</td>\n",
       "      <td>0.0</td>\n",
       "      <td>0.0</td>\n",
       "      <td>0.0</td>\n",
       "      <td>0.0</td>\n",
       "      <td>0.0</td>\n",
       "    </tr>\n",
       "    <tr>\n",
       "      <th>3</th>\n",
       "      <td>0.0</td>\n",
       "      <td>0.0</td>\n",
       "      <td>0.0</td>\n",
       "      <td>0.0</td>\n",
       "      <td>0.0</td>\n",
       "      <td>0.0</td>\n",
       "      <td>0.0</td>\n",
       "      <td>0.0</td>\n",
       "      <td>0.0</td>\n",
       "      <td>0.0</td>\n",
       "      <td>...</td>\n",
       "      <td>0.0</td>\n",
       "      <td>0.0</td>\n",
       "      <td>0.0</td>\n",
       "      <td>0.0</td>\n",
       "      <td>0.0</td>\n",
       "      <td>0.0</td>\n",
       "      <td>0.0</td>\n",
       "      <td>0.0</td>\n",
       "      <td>0.0</td>\n",
       "      <td>0.0</td>\n",
       "    </tr>\n",
       "    <tr>\n",
       "      <th>4</th>\n",
       "      <td>0.0</td>\n",
       "      <td>0.0</td>\n",
       "      <td>0.0</td>\n",
       "      <td>0.0</td>\n",
       "      <td>0.0</td>\n",
       "      <td>0.0</td>\n",
       "      <td>0.0</td>\n",
       "      <td>0.0</td>\n",
       "      <td>0.0</td>\n",
       "      <td>0.0</td>\n",
       "      <td>...</td>\n",
       "      <td>0.0</td>\n",
       "      <td>0.0</td>\n",
       "      <td>0.0</td>\n",
       "      <td>0.0</td>\n",
       "      <td>0.0</td>\n",
       "      <td>0.0</td>\n",
       "      <td>0.0</td>\n",
       "      <td>0.0</td>\n",
       "      <td>0.0</td>\n",
       "      <td>0.0</td>\n",
       "    </tr>\n",
       "  </tbody>\n",
       "</table>\n",
       "<p>5 rows × 369 columns</p>\n",
       "</div>"
      ],
      "text/plain": [
       "   _ad_ _ad_  _ad_ _love_  _ad_ _one_  _ad_ can_not  _ad_ come  _ad_ do_not  \\\n",
       "0        0.0          0.0         0.0           0.0        0.0          0.0   \n",
       "1        0.0          0.0         0.0           0.0        0.0          0.0   \n",
       "2        0.0          0.0         0.0           0.0        0.0          0.0   \n",
       "3        0.0          0.0         0.0           0.0        0.0          0.0   \n",
       "4        0.0          0.0         0.0           0.0        0.0          0.0   \n",
       "\n",
       "   _ad_ even  _ad_ every  _ad_ free  _ad_ minute  ...  without _ad_  wo n  \\\n",
       "0        0.0         0.0        0.0          0.0  ...           0.0   0.0   \n",
       "1        0.0         0.0        0.0          0.0  ...           0.0   0.0   \n",
       "2        0.0         0.0        0.0          0.0  ...           0.0   0.0   \n",
       "3        0.0         0.0        0.0          0.0  ...           0.0   0.0   \n",
       "4        0.0         0.0        0.0          0.0  ...           0.0   0.0   \n",
       "\n",
       "   wo n let  wo n play  work _love_  work android  work fine  work guy  \\\n",
       "0       0.0        0.0          0.0           0.0        0.0       0.0   \n",
       "1       0.0        0.0          0.0           0.0        0.0       0.0   \n",
       "2       0.0        0.0          0.0           0.0        0.0       0.0   \n",
       "3       0.0        0.0          0.0           0.0        0.0       0.0   \n",
       "4       0.0        0.0          0.0           0.0        0.0       0.0   \n",
       "\n",
       "   work properly  work update  \n",
       "0            0.0          0.0  \n",
       "1            0.0          0.0  \n",
       "2            0.0          0.0  \n",
       "3            0.0          0.0  \n",
       "4            0.0          0.0  \n",
       "\n",
       "[5 rows x 369 columns]"
      ]
     },
     "execution_count": 56,
     "metadata": {},
     "output_type": "execute_result"
    }
   ],
   "source": [
    "vectorizer_video_all = TfidfVectorizer(ngram_range=(2,3),\n",
    "                            token_pattern='(?u)\\\\b[a-zA-Z_]+\\\\b',\n",
    "                            min_df=5, max_df=0.4, stop_words=stopword_list_video)\n",
    "\n",
    "X_video, video_terms = vectorizer_video_all.fit_transform(data_video_all.content_regex), vectorizer_video_all.get_feature_names() #get_feature_names_out()\n",
    "video_tf_idf = pd.DataFrame(X_video.toarray(), columns=video_terms)\n",
    "\n",
    "print(f\"videoplayer all TF-IDF: {video_tf_idf.shape}\")\n",
    "video_tf_idf.head(5)"
   ]
  },
  {
   "cell_type": "code",
   "execution_count": 57,
   "metadata": {},
   "outputs": [
    {
     "data": {
      "text/plain": [
       "array([0, 0, 0, ..., 1, 1, 1], dtype=int64)"
      ]
     },
     "execution_count": 57,
     "metadata": {},
     "output_type": "execute_result"
    }
   ],
   "source": [
    "Y_video_trntst=data_video_all['sentiment'].values\n",
    "Y_video_trntst"
   ]
  },
  {
   "cell_type": "code",
   "execution_count": 58,
   "metadata": {},
   "outputs": [
    {
     "data": {
      "text/plain": [
       "array([[0., 0., 0., ..., 0., 0., 0.],\n",
       "       [0., 0., 0., ..., 0., 0., 0.],\n",
       "       [0., 0., 0., ..., 0., 0., 0.],\n",
       "       ...,\n",
       "       [0., 0., 0., ..., 0., 0., 0.],\n",
       "       [0., 0., 0., ..., 0., 0., 0.],\n",
       "       [0., 0., 0., ..., 0., 0., 0.]])"
      ]
     },
     "execution_count": 58,
     "metadata": {},
     "output_type": "execute_result"
    }
   ],
   "source": [
    "X_video_trntst=video_tf_idf.values\n",
    "X_video_trntst"
   ]
  },
  {
   "cell_type": "code",
   "execution_count": 107,
   "metadata": {},
   "outputs": [],
   "source": [
    "# train/test split\n",
    "# X_train, X_test, y_train, y_test = train_test_split(X_video_trntst, Y_video_trntst, test_size=0.2, random_state=1)"
   ]
  },
  {
   "cell_type": "code",
   "execution_count": 59,
   "metadata": {},
   "outputs": [],
   "source": [
    "num_cross_val = 10\n",
    "labels = []\n",
    "train_scores = []\n",
    "test_scores = []"
   ]
  },
  {
   "cell_type": "code",
   "execution_count": 60,
   "metadata": {},
   "outputs": [],
   "source": [
    "def clf_score(clf, x_train, y_train, label, train_scores, test_scores, cv=num_cross_val, n_jobs=-1):\n",
    "    score = cross_validate(clf, x_train, y_train, scoring=None, cv=cv, n_jobs=n_jobs,\n",
    "                        return_train_score=True, return_estimator=True)\n",
    "    train_scores.append(score['train_score'])\n",
    "    test_scores.append(score['test_score'])\n",
    "    labels.append(label)\n",
    "   \n",
    "    mean_score=pd.DataFrame()\n",
    "    mean_score.loc[0,'mean_train_score']=np.mean(score['train_score'])\n",
    "    mean_score.loc[0,'mean_test_score']=np.mean(score['test_score'])\n",
    "    print(mean_score)\n",
    "    result=pd.DataFrame()\n",
    "    result['Train']=score['train_score']\n",
    "    result['Test']=score['test_score']\n",
    "    print(result)"
   ]
  },
  {
   "cell_type": "code",
   "execution_count": 61,
   "metadata": {},
   "outputs": [
    {
     "name": "stdout",
     "output_type": "stream",
     "text": [
      "   mean_train_score  mean_test_score\n",
      "0          0.780612         0.670771\n",
      "      Train      Test\n",
      "0  0.771438  0.690184\n",
      "1  0.772122  0.705521\n",
      "2  0.782371  0.598160\n",
      "3  0.781421  0.704615\n",
      "4  0.783811  0.661538\n",
      "5  0.775956  0.707692\n",
      "6  0.784153  0.655385\n",
      "7  0.784836  0.673846\n",
      "8  0.787227  0.664615\n",
      "9  0.782787  0.646154\n"
     ]
    }
   ],
   "source": [
    "# choose the best jyperparameters\n",
    "# rfc = RandomForestClassifier(n_estimators=100,\n",
    "#                              max_depth=30,\n",
    "#                              max_features='sqrt',\n",
    "#                              criterion='entropy')\n",
    "\n",
    "params={'n_estimators':100, 'max_depth':None, 'max_features':'auto','min_samples_leaf':1}\n",
    "rf = RandomForestClassifier(**params) \n",
    "clf_score(rf, X_video_trntst, Y_video_trntst, 'RF', train_scores, test_scores, n_jobs=-1)"
   ]
  },
  {
   "cell_type": "code",
   "execution_count": 62,
   "metadata": {},
   "outputs": [
    {
     "data": {
      "text/plain": [
       "array([3.70098327e-03, 2.60449588e-03, 9.28057703e-04, 6.47763494e-04,\n",
       "       6.36677862e-03, 5.76898700e-04, 1.65753336e-03, 3.95240110e-03,\n",
       "       4.36039037e-03, 4.22437152e-04, 9.55520037e-04, 8.50189129e-04,\n",
       "       3.00045976e-03, 1.95443243e-03, 2.03478953e-03, 1.70670895e-02,\n",
       "       1.06376962e-03, 1.32302013e-03, 2.36068386e-03, 9.40025321e-04,\n",
       "       1.34677559e-03, 1.99851903e-03, 3.06553734e-04, 5.64770850e-03,\n",
       "       4.89539152e-03, 1.50035578e-03, 6.55832984e-04, 4.39934915e-04,\n",
       "       1.65123036e-03, 1.44491936e-03, 1.90556553e-03, 1.69183956e-03,\n",
       "       1.44471170e-03, 1.87769838e-03, 2.21574687e-03, 1.34671349e-03,\n",
       "       4.01953362e-03, 3.00074591e-03, 1.48138295e-03, 2.13822614e-03,\n",
       "       1.32120373e-03, 9.50043871e-04, 7.67227956e-04, 7.73766448e-04,\n",
       "       1.25359688e-03, 3.69080201e-03, 2.94180143e-03, 1.54318627e-03,\n",
       "       9.66620880e-04, 7.32118937e-04, 5.28562513e-04, 2.99389430e-03,\n",
       "       3.44208319e-03, 3.16644676e-04, 2.91758176e-03, 2.57879132e-03,\n",
       "       2.27128356e-03, 7.56147716e-04, 1.30548705e-03, 3.92580322e-03,\n",
       "       5.38184739e-03, 9.23715643e-04, 6.25713249e-04, 7.67271324e-04,\n",
       "       3.72388902e-03, 2.16316873e-03, 3.41576567e-04, 2.03487259e-03,\n",
       "       1.11540086e-03, 2.18445573e-03, 2.85722728e-03, 4.63094999e-04,\n",
       "       1.26099697e-03, 1.00178244e-03, 1.30440883e-03, 2.56990470e-03,\n",
       "       1.32873459e-03, 1.39749724e-02, 1.05631379e-03, 2.43292327e-03,\n",
       "       2.64672009e-03, 2.14298578e-02, 4.24544676e-04, 6.66921442e-03,\n",
       "       2.13593639e-03, 4.47789434e-03, 1.01000656e-02, 1.30146412e-03,\n",
       "       3.22722466e-03, 3.83302206e-03, 8.98780554e-04, 1.37343537e-03,\n",
       "       4.67234447e-04, 1.76380833e-03, 3.91993645e-03, 9.23810718e-04,\n",
       "       9.98174092e-04, 1.54272476e-03, 2.34757731e-03, 2.50901710e-03,\n",
       "       8.13445558e-03, 4.41672764e-03, 1.45802947e-03, 3.30814182e-03,\n",
       "       9.98052415e-03, 2.54130118e-03, 6.70615801e-03, 1.73846891e-02,\n",
       "       9.93068119e-04, 8.33291063e-04, 6.09762603e-04, 7.87696626e-03,\n",
       "       6.98148806e-04, 1.99381012e-03, 1.16879928e-03, 1.26586777e-02,\n",
       "       3.93256082e-03, 8.13838408e-04, 3.11970627e-03, 9.93811652e-04,\n",
       "       5.72646993e-03, 6.07616617e-04, 8.58219025e-04, 5.25367608e-03,\n",
       "       4.62759653e-03, 1.60966409e-03, 3.45732220e-03, 1.32186068e-03,\n",
       "       1.50107683e-02, 1.47423017e-04, 1.65939641e-03, 1.73066110e-03,\n",
       "       4.09271582e-03, 3.13488118e-03, 2.58043937e-03, 8.99409663e-04,\n",
       "       1.81305327e-03, 2.09994459e-04, 2.08586699e-03, 1.62428166e-03,\n",
       "       1.45007696e-02, 2.73137896e-04, 8.10845546e-04, 2.64402562e-03,\n",
       "       2.96628337e-03, 7.61239943e-05, 6.00509967e-04, 2.45761753e-03,\n",
       "       7.19380543e-04, 7.96549149e-04, 1.37419734e-03, 1.08045533e-03,\n",
       "       3.06698406e-03, 2.41455246e-03, 1.64427556e-03, 4.31676127e-03,\n",
       "       2.40739907e-04, 1.13211027e-03, 1.35381199e-03, 2.43560465e-03,\n",
       "       6.55427274e-03, 6.14312245e-04, 3.14284257e-03, 1.70835058e-03,\n",
       "       3.27790897e-04, 1.65483645e-03, 3.14103168e-03, 2.08838383e-03,\n",
       "       1.57606557e-03, 5.77294195e-04, 1.88373519e-03, 1.55696596e-03,\n",
       "       1.70957895e-03, 2.15167194e-03, 3.38978805e-03, 7.44284173e-03,\n",
       "       4.93694293e-03, 2.00415284e-04, 1.47012064e-03, 2.08956672e-03,\n",
       "       5.76386297e-04, 1.17927269e-03, 1.07551282e-03, 1.23907810e-03,\n",
       "       1.17006135e-03, 1.61882342e-03, 1.31989835e-03, 3.72990854e-03,\n",
       "       1.23613967e-03, 9.67602983e-04, 1.19755810e-03, 1.33119705e-02,\n",
       "       7.44735212e-03, 4.03033486e-03, 7.31441928e-04, 2.23351950e-03,\n",
       "       1.00454877e-03, 1.36415714e-03, 2.01121756e-03, 3.38647309e-03,\n",
       "       1.07082967e-03, 5.35684960e-04, 1.52685218e-03, 8.30815387e-04,\n",
       "       9.07621581e-04, 2.90624229e-04, 2.04669412e-02, 5.77811479e-03,\n",
       "       9.06749886e-04, 1.43427358e-03, 1.94068136e-03, 1.57235467e-03,\n",
       "       3.01094260e-03, 1.84850284e-03, 6.06916036e-03, 3.21144316e-04,\n",
       "       1.08912707e-03, 1.35509733e-02, 3.76228137e-03, 3.34128079e-04,\n",
       "       1.74811634e-03, 2.20573462e-03, 1.06945582e-03, 2.35360268e-03,\n",
       "       1.10843484e-02, 3.07034139e-03, 1.62083746e-03, 2.90913572e-03,\n",
       "       6.98418570e-03, 4.57449122e-03, 6.12851236e-03, 1.32720235e-03,\n",
       "       8.15539619e-03, 7.84092297e-04, 6.99866876e-03, 5.22783928e-03,\n",
       "       3.81630114e-03, 1.17578976e-02, 2.56660224e-03, 1.57473287e-02,\n",
       "       2.94682798e-02, 7.79114691e-04, 8.85322996e-04, 4.64600360e-03,\n",
       "       1.18231535e-03, 1.70209344e-03, 3.13039267e-04, 1.32758878e-03,\n",
       "       1.29031309e-03, 4.57291460e-04, 1.02501425e-03, 5.11061183e-04,\n",
       "       6.40148949e-04, 1.47506582e-03, 9.45335898e-04, 1.12701755e-03,\n",
       "       1.23813487e-03, 1.73449987e-03, 4.57336054e-04, 2.49279626e-03,\n",
       "       6.10865497e-03, 1.30989142e-03, 4.39784048e-04, 3.35812079e-03,\n",
       "       2.46465024e-03, 8.88468244e-04, 2.30173425e-03, 4.25748481e-04,\n",
       "       2.01609787e-03, 1.32380084e-03, 1.77018908e-03, 2.71936650e-03,\n",
       "       1.56128461e-03, 3.79157522e-03, 2.40995373e-03, 1.36921691e-03,\n",
       "       2.84960599e-03, 5.68936299e-04, 2.04207641e-03, 1.90829894e-03,\n",
       "       2.44820683e-03, 2.57012461e-03, 4.55662528e-03, 1.34616416e-03,\n",
       "       2.97842357e-04, 3.39878601e-03, 1.61500343e-03, 1.14811361e-03,\n",
       "       5.99383902e-04, 5.28850745e-03, 3.47119500e-03, 5.07522770e-03,\n",
       "       2.20976506e-03, 7.20043120e-04, 1.12060874e-03, 2.95838180e-04,\n",
       "       1.81070319e-03, 4.04184420e-03, 1.83541921e-03, 4.75027326e-03,\n",
       "       8.68561972e-04, 1.56691603e-03, 7.55742394e-04, 4.89575179e-03,\n",
       "       1.03367047e-03, 2.33415183e-03, 1.06403240e-03, 7.89769751e-04,\n",
       "       5.67557190e-04, 2.95635936e-03, 3.74859220e-03, 1.08512269e-03,\n",
       "       1.38604853e-03, 1.73139138e-03, 8.48356232e-04, 2.27162512e-03,\n",
       "       4.98396469e-04, 1.24148844e-04, 2.99975820e-04, 1.04839483e-03,\n",
       "       1.34783096e-03, 1.16031023e-03, 7.99543174e-04, 6.36990228e-04,\n",
       "       1.38530996e-03, 2.14943885e-03, 4.62822057e-04, 6.36868685e-04,\n",
       "       1.70612113e-03, 2.96292597e-03, 1.66277148e-03, 3.38756102e-03,\n",
       "       7.87147247e-04, 3.07522883e-03, 6.06878806e-03, 1.11039951e-03,\n",
       "       6.39682360e-04, 6.68576136e-04, 7.38746375e-04, 6.49723188e-03,\n",
       "       3.29605109e-03, 1.94892914e-03, 1.18413258e-03, 1.66703102e-03,\n",
       "       9.28856266e-04, 3.50752458e-03, 1.32911761e-03, 1.06816824e-03,\n",
       "       1.10580488e-03, 1.26541741e-03, 1.88468485e-03, 7.85593553e-04,\n",
       "       1.21509426e-03, 1.30996979e-02, 1.00210683e-02, 9.11924047e-04,\n",
       "       5.54553834e-03, 1.49775104e-03, 8.04126163e-04, 1.92517281e-03,\n",
       "       7.58483408e-03, 1.00216254e-03, 7.57367945e-04, 1.01078045e-03,\n",
       "       7.71818374e-04, 2.28331043e-03, 7.37609068e-04, 4.92216032e-03,\n",
       "       5.93563494e-04])"
      ]
     },
     "execution_count": 62,
     "metadata": {},
     "output_type": "execute_result"
    }
   ],
   "source": [
    "params={'n_estimators':100, 'max_depth':None, 'max_features':'auto','min_samples_leaf':1}\n",
    "rf_final = RandomForestClassifier(**params) \n",
    "rf_final.fit(X_video_trntst,Y_video_trntst)\n",
    "rf_final.feature_importances_"
   ]
  },
  {
   "cell_type": "code",
   "execution_count": 63,
   "metadata": {},
   "outputs": [
    {
     "name": "stdout",
     "output_type": "stream",
     "text": [
      "Elapsed time to compute the importances: 0.011 seconds\n"
     ]
    }
   ],
   "source": [
    "import time\n",
    "import numpy as np\n",
    "start_time = time.time()\n",
    "importances = rf_final.feature_importances_\n",
    "std = np.std([tree.feature_importances_ for tree in rf_final.estimators_], axis=0)\n",
    "elapsed_time = time.time() - start_time\n",
    "print(f\"Elapsed time to compute the importances: {elapsed_time:.3f} seconds\")"
   ]
  },
  {
   "cell_type": "code",
   "execution_count": 64,
   "metadata": {},
   "outputs": [
    {
     "data": {
      "image/png": "[encoded data removed]",
      "text/plain": [
       "<Figure size 432x288 with 1 Axes>"
      ]
     },
     "metadata": {
      "needs_background": "light"
     },
     "output_type": "display_data"
    }
   ],
   "source": [
    "feature_names = video_tf_idf.columns\n",
    "forest_importances = pd.Series(importances, index=feature_names)\n",
    "import matplotlib.pyplot as plt\n",
    "fig, ax = plt.subplots()\n",
    "forest_importances.plot.bar(yerr=std, ax=ax)\n",
    "ax.set_title(\"Feature importances\")\n",
    "ax.set_ylabel(\"Mean decrease in impurity\")\n",
    "fig.tight_layout()"
   ]
  },
  {
   "cell_type": "code",
   "execution_count": 67,
   "metadata": {},
   "outputs": [
    {
     "data": {
      "text/plain": [
       "Text(0.5, 0, 'Random Forest Feature Importance')"
      ]
     },
     "execution_count": 67,
     "metadata": {},
     "output_type": "execute_result"
    },
    {
     "data": {
      "image/png": "[encoded data removed]",
      "text/plain": [
       "<Figure size 432x288 with 1 Axes>"
      ]
     },
     "metadata": {
      "needs_background": "light"
     },
     "output_type": "display_data"
    }
   ],
   "source": [
    "sorted_idx = rf_final.feature_importances_.argsort()\n",
    "plt.barh(video_tf_idf.columns[sorted_idx[-20:]], rf_final.feature_importances_[sorted_idx[-20:]])\n",
    "plt.xlabel(\"Random Forest Feature Importance\")"
   ]
  },
  {
   "cell_type": "code",
   "execution_count": 66,
   "metadata": {},
   "outputs": [
    {
     "data": {
      "text/plain": [
       "Text(0.5, 0, 'Random Forest Feature Importance')"
      ]
     },
     "execution_count": 66,
     "metadata": {},
     "output_type": "execute_result"
    },
    {
     "data": {
      "image/png": "[encoded data removed]",
      "text/plain": [
       "<Figure size 432x288 with 1 Axes>"
      ]
     },
     "metadata": {
      "needs_background": "light"
     },
     "output_type": "display_data"
    }
   ],
   "source": [
    "sorted_idx = rf_final.feature_importances_.argsort()\n",
    "plt.barh(video_tf_idf.columns[sorted_idx], rf_final.feature_importances_[sorted_idx])\n",
    "plt.xlabel(\"Random Forest Feature Importance\")"
   ]
  },
  {
   "cell_type": "code",
   "execution_count": 148,
   "metadata": {},
   "outputs": [
    {
     "data": {
      "text/plain": [
       "array([130, 701, 362, 151, 265, 836, 248, 159, 405, 145], dtype=int64)"
      ]
     },
     "execution_count": 148,
     "metadata": {},
     "output_type": "execute_result"
    }
   ],
   "source": [
    "sorted_idx[:10]"
   ]
  },
  {
   "cell_type": "markdown",
   "metadata": {},
   "source": [
    "#### sequential model"
   ]
  },
  {
   "cell_type": "code",
   "execution_count": 68,
   "metadata": {},
   "outputs": [],
   "source": [
    "from keras.models import Sequential\n",
    "from keras.layers import Embedding\n",
    "from keras.preprocessing.text import Tokenizer\n",
    "from keras.preprocessing.sequence import pad_sequences\n",
    "from keras.layers import Input, Dense, LSTM, Flatten, concatenate, Activation, RepeatVector, Permute\n",
    "\n",
    "def make_sequential_model(plot=False):\n",
    "    model = Sequential()\n",
    "    model.add(Embedding(vocab_size, EMBEDDING_SIZE, input_length=max_length))\n",
    "    model.add(Flatten()) # Flatten makes this a (vocab_size x EMBEDDING_SIZE) x 1 vector.\n",
    "    model.add(Dense(1, activation='sigmoid')) \n",
    "    # Compile the model\n",
    "    model.compile(optimizer='adam', loss='binary_crossentropy', metrics=['acc'])\n",
    "    # summarize the model\n",
    "    print(model.summary())\n",
    "    if plot:\n",
    "        plot_model(model, to_file='model.png', show_shapes=True)\n",
    "    return model"
   ]
  },
  {
   "cell_type": "code",
   "execution_count": 69,
   "metadata": {},
   "outputs": [],
   "source": [
    "from keras.layers.recurrent import SimpleRNN, LSTM\n",
    "from keras.layers import Flatten, Masking\n",
    "import keras\n",
    "\n",
    "# Define an RNN Model\n",
    "def make_rnn_classification_model(plot=False):\n",
    "    model = keras.models.Sequential()\n",
    "    model.add(Embedding(vocab_size, EMBEDDING_SIZE, input_length=max_length))\n",
    "    model.add(SimpleRNN(units=64)) # 64 is the \"units\" parameter, which is the dimensionality of the output space.\n",
    "    model.add(Dense(16)) # a standard fully-connected (Dense) layer\n",
    "    model.add(Dense(1, activation='sigmoid')) # an output layer with sigmoid activation\n",
    "    # Compile the model\n",
    "    model.compile(optimizer='adam', loss='binary_crossentropy', metrics=['accuracy'])\n",
    "    # summarize the model\n",
    "    model.summary()\n",
    "    \n",
    "    if plot:\n",
    "        plot_model(model, to_file='model.png', show_shapes=True)\n",
    "    return model"
   ]
  },
  {
   "cell_type": "code",
   "execution_count": 70,
   "metadata": {},
   "outputs": [],
   "source": [
    "def integer_encode_documents(docs, tokenizer):\n",
    "    return tokenizer.texts_to_sequences(docs)"
   ]
  },
  {
   "cell_type": "code",
   "execution_count": 71,
   "metadata": {},
   "outputs": [],
   "source": [
    "def get_max_token_length_per_doc(docs: List[List[str]])-> int:\n",
    "    return max(list(map(lambda x: len(x.split()), docs)))"
   ]
  },
  {
   "cell_type": "code",
   "execution_count": 72,
   "metadata": {},
   "outputs": [],
   "source": [
    "X = data_video_all.content_regex\n",
    "y = data_video_all.sentiment \n",
    "\n",
    "X_train, X_test, y_train, y_test = train_test_split(X, y, test_size=0.2, random_state=0, stratify=y)\n",
    "\n",
    "# Training Our Own Embeddings\n",
    "EMBEDDING_SIZE = 50\n",
    "\n",
    "tokenizer = Tokenizer(num_words=5000, oov_token=\"UNKNOWN_TOKEN\")\n",
    "tokenizer.fit_on_texts(X_train)\n",
    "\n",
    "# integer encode the documents\n",
    "encoded_docs = integer_encode_documents(X_train, tokenizer)\n",
    "encoded_test_docs = integer_encode_documents(X_test, tokenizer)\n",
    "# get the max length in terms of token length\n",
    "max_length = get_max_token_length_per_doc(X_train)\n",
    "# pad documents to max length\n",
    "padded_docs = pad_sequences(encoded_docs, maxlen=max_length, padding='post')\n",
    "padded_test_docs = pad_sequences(encoded_test_docs, maxlen=max_length, padding='post')\n",
    "# set the vocabulary size to some number that represents the total number of unique words in our vocabulary\n",
    "vocab_size = int(len(tokenizer.word_index) * 1.3)"
   ]
  },
  {
   "cell_type": "code",
   "execution_count": 73,
   "metadata": {},
   "outputs": [
    {
     "name": "stdout",
     "output_type": "stream",
     "text": [
      "Model: \"sequential\"\n",
      "_________________________________________________________________\n",
      " Layer (type)                Output Shape              Param #   \n",
      "=================================================================\n",
      " embedding (Embedding)       (None, 240, 50)           268450    \n",
      "                                                                 \n",
      " flatten (Flatten)           (None, 12000)             0         \n",
      "                                                                 \n",
      " dense (Dense)               (None, 1)                 12001     \n",
      "                                                                 \n",
      "=================================================================\n",
      "Total params: 280,451\n",
      "Trainable params: 280,451\n",
      "Non-trainable params: 0\n",
      "_________________________________________________________________\n",
      "None\n",
      "Epoch 1/10\n",
      "82/82 [==============================] - 1s 4ms/step - loss: 0.6779 - acc: 0.5834\n",
      "Epoch 2/10\n",
      "82/82 [==============================] - 0s 4ms/step - loss: 0.5347 - acc: 0.7944\n",
      "Epoch 3/10\n",
      "82/82 [==============================] - 0s 4ms/step - loss: 0.3781 - acc: 0.8655\n",
      "Epoch 4/10\n",
      "82/82 [==============================] - 0s 5ms/step - loss: 0.3045 - acc: 0.9051\n",
      "Epoch 5/10\n",
      "82/82 [==============================] - 0s 4ms/step - loss: 0.2574 - acc: 0.9258\n",
      "Epoch 6/10\n",
      "82/82 [==============================] - 0s 4ms/step - loss: 0.2211 - acc: 0.9381\n",
      "Epoch 7/10\n",
      "82/82 [==============================] - 0s 4ms/step - loss: 0.1908 - acc: 0.9516\n",
      "Epoch 8/10\n",
      "82/82 [==============================] - 0s 4ms/step - loss: 0.1689 - acc: 0.9550\n",
      "Epoch 9/10\n",
      "82/82 [==============================] - 0s 4ms/step - loss: 0.1515 - acc: 0.9581\n",
      "Epoch 10/10\n",
      "82/82 [==============================] - 0s 4ms/step - loss: 0.1380 - acc: 0.9608\n",
      "82/82 [==============================] - 0s 1ms/step - loss: 0.1276 - acc: 0.9623\n",
      "Accuracy: 96.233666\n"
     ]
    }
   ],
   "source": [
    "sequential_model = make_sequential_model()\n",
    "# fit the model\n",
    "history = sequential_model.fit(padded_docs, y_train, epochs=10, verbose=1)\n",
    "# evaluate the model\n",
    "loss, accuracy = sequential_model.evaluate(padded_docs, y_train, verbose=1)\n",
    "print('Accuracy: %f' % (accuracy*100))"
   ]
  },
  {
   "cell_type": "code",
   "execution_count": 78,
   "metadata": {},
   "outputs": [
    {
     "name": "stdout",
     "output_type": "stream",
     "text": [
      "Model: \"sequential_2\"\n",
      "_________________________________________________________________\n",
      " Layer (type)                Output Shape              Param #   \n",
      "=================================================================\n",
      " embedding_2 (Embedding)     (None, 240, 50)           268450    \n",
      "                                                                 \n",
      " simple_rnn_1 (SimpleRNN)    (None, 64)                7360      \n",
      "                                                                 \n",
      " dense_3 (Dense)             (None, 16)                1040      \n",
      "                                                                 \n",
      " dense_4 (Dense)             (None, 1)                 17        \n",
      "                                                                 \n",
      "=================================================================\n",
      "Total params: 276,867\n",
      "Trainable params: 276,867\n",
      "Non-trainable params: 0\n",
      "_________________________________________________________________\n",
      "Epoch 1/10\n",
      "82/82 [==============================] - 3s 26ms/step - loss: 0.6944 - accuracy: 0.5288\n",
      "Epoch 2/10\n",
      "82/82 [==============================] - 2s 27ms/step - loss: 0.6912 - accuracy: 0.5477\n",
      "Epoch 3/10\n",
      "82/82 [==============================] - 2s 27ms/step - loss: 0.6919 - accuracy: 0.5427\n",
      "Epoch 4/10\n",
      "82/82 [==============================] - 2s 26ms/step - loss: 0.6991 - accuracy: 0.5231\n",
      "Epoch 5/10\n",
      "82/82 [==============================] - 2s 26ms/step - loss: 0.6935 - accuracy: 0.5342\n",
      "Epoch 6/10\n",
      "82/82 [==============================] - 2s 26ms/step - loss: 0.6886 - accuracy: 0.5480\n",
      "Epoch 7/10\n",
      "82/82 [==============================] - 2s 27ms/step - loss: 0.6952 - accuracy: 0.5242\n",
      "Epoch 8/10\n",
      "82/82 [==============================] - 2s 27ms/step - loss: 0.6950 - accuracy: 0.5188\n",
      "Epoch 9/10\n",
      "82/82 [==============================] - 2s 28ms/step - loss: 0.6967 - accuracy: 0.5296\n",
      "Epoch 10/10\n",
      "82/82 [==============================] - 2s 30ms/step - loss: 0.6943 - accuracy: 0.5511\n",
      "82/82 [==============================] - 1s 7ms/step - loss: 0.6776 - accuracy: 0.5576\n",
      "Accuracy: 55.764794\n"
     ]
    }
   ],
   "source": [
    "RNN = make_rnn_classification_model()\n",
    "# fit the model\n",
    "history = RNN.fit(padded_docs, y_train, epochs=10, verbose=1)\n",
    "# evaluate the model\n",
    "loss, accuracy = RNN.evaluate(padded_docs, y_train, verbose=1)\n",
    "print('Accuracy: %f' % (accuracy*100))"
   ]
  },
  {
   "cell_type": "markdown",
   "metadata": {
    "id": "7QLxdisedf38"
   },
   "source": [
    "## Filemanager - Feiran"
   ]
  },
  {
   "cell_type": "markdown",
   "metadata": {
    "id": "cyY-Y9wSbkRG"
   },
   "source": [
    "RF"
   ]
  },
  {
   "cell_type": "code",
   "execution_count": 61,
   "metadata": {
    "colab": {
     "base_uri": "https://localhost:8080/",
     "height": 316
    },
    "id": "HKh7Lel2dnly",
    "outputId": "ccb4ab56-546a-45bb-ae80-5b13fd254bd9"
   },
   "outputs": [
    {
     "name": "stderr",
     "output_type": "stream",
     "text": [
      "<ipython-input-61-853b831e0770>:2: SettingWithCopyWarning: \n",
      "A value is trying to be set on a copy of a slice from a DataFrame.\n",
      "Try using .loc[row_indexer,col_indexer] = value instead\n",
      "\n",
      "See the caveats in the documentation: https://pandas.pydata.org/pandas-docs/stable/user_guide/indexing.html#returning-a-view-versus-a-copy\n",
      "  fdata['good'] = [1 if i>=5 else 0 if i<=1 else -1 for i in fdata['score']]\n"
     ]
    },
    {
     "data": {
      "text/html": [
       "<div>\n",
       "<style scoped>\n",
       "    .dataframe tbody tr th:only-of-type {\n",
       "        vertical-align: middle;\n",
       "    }\n",
       "\n",
       "    .dataframe tbody tr th {\n",
       "        vertical-align: top;\n",
       "    }\n",
       "\n",
       "    .dataframe thead th {\n",
       "        text-align: right;\n",
       "    }\n",
       "</style>\n",
       "<table border=\"1\" class=\"dataframe\">\n",
       "  <thead>\n",
       "    <tr style=\"text-align: right;\">\n",
       "      <th></th>\n",
       "      <th>content</th>\n",
       "      <th>score</th>\n",
       "      <th>category</th>\n",
       "      <th>content_lemma</th>\n",
       "      <th>content_regex</th>\n",
       "      <th>good</th>\n",
       "    </tr>\n",
       "  </thead>\n",
       "  <tbody>\n",
       "    <tr>\n",
       "      <th>8430</th>\n",
       "      <td>useless. utter failure to copy or move files f...</td>\n",
       "      <td>1</td>\n",
       "      <td>filemanager</td>\n",
       "      <td>useless . utter failure to copy or move file f...</td>\n",
       "      <td>useless . utter failure to copy or move file f...</td>\n",
       "      <td>0</td>\n",
       "    </tr>\n",
       "    <tr>\n",
       "      <th>8431</th>\n",
       "      <td>app start crashing now and when u open ur medi...</td>\n",
       "      <td>1</td>\n",
       "      <td>filemanager</td>\n",
       "      <td>app start crash now and when u open ur medium ...</td>\n",
       "      <td>_app_ start crash now and when u open ur mediu...</td>\n",
       "      <td>0</td>\n",
       "    </tr>\n",
       "    <tr>\n",
       "      <th>8432</th>\n",
       "      <td>installed this to support paragon. when ever t...</td>\n",
       "      <td>1</td>\n",
       "      <td>filemanager</td>\n",
       "      <td>instal this to support paragon . when ever try...</td>\n",
       "      <td>instal this to support paragon . when ever try...</td>\n",
       "      <td>0</td>\n",
       "    </tr>\n",
       "    <tr>\n",
       "      <th>8433</th>\n",
       "      <td>formatted my dslr memory card having hundreds ...</td>\n",
       "      <td>1</td>\n",
       "      <td>filemanager</td>\n",
       "      <td>format my dslr memory card have hundred of pho...</td>\n",
       "      <td>format my dslr memory card have hundred of pho...</td>\n",
       "      <td>0</td>\n",
       "    </tr>\n",
       "    <tr>\n",
       "      <th>8434</th>\n",
       "      <td>man what a garbage..... im clickimg select on ...</td>\n",
       "      <td>1</td>\n",
       "      <td>filemanager</td>\n",
       "      <td>man what a garbage ..... im clickimg select on...</td>\n",
       "      <td>man what a garbage ..... im clickimg select on...</td>\n",
       "      <td>0</td>\n",
       "    </tr>\n",
       "  </tbody>\n",
       "</table>\n",
       "</div>"
      ],
      "text/plain": [
       "                                                content  score     category  \\\n",
       "8430  useless. utter failure to copy or move files f...      1  filemanager   \n",
       "8431  app start crashing now and when u open ur medi...      1  filemanager   \n",
       "8432  installed this to support paragon. when ever t...      1  filemanager   \n",
       "8433  formatted my dslr memory card having hundreds ...      1  filemanager   \n",
       "8434  man what a garbage..... im clickimg select on ...      1  filemanager   \n",
       "\n",
       "                                          content_lemma  \\\n",
       "8430  useless . utter failure to copy or move file f...   \n",
       "8431  app start crash now and when u open ur medium ...   \n",
       "8432  instal this to support paragon . when ever try...   \n",
       "8433  format my dslr memory card have hundred of pho...   \n",
       "8434  man what a garbage ..... im clickimg select on...   \n",
       "\n",
       "                                          content_regex  good  \n",
       "8430  useless . utter failure to copy or move file f...     0  \n",
       "8431  _app_ start crash now and when u open ur mediu...     0  \n",
       "8432  instal this to support paragon . when ever try...     0  \n",
       "8433  format my dslr memory card have hundred of pho...     0  \n",
       "8434  man what a garbage ..... im clickimg select on...     0  "
      ]
     },
     "execution_count": 61,
     "metadata": {},
     "output_type": "execute_result"
    }
   ],
   "source": [
    "fdata = data_all.loc[data_all['category']=='filemanager',:]\n",
    "fdata['good'] = [1 if i>=5 else 0 if i<=1 else -1 for i in fdata['score']]\n",
    "fdata = fdata.loc[fdata['good']!=-1,:]\n",
    "fdata.head()"
   ]
  },
  {
   "cell_type": "code",
   "execution_count": 62,
   "metadata": {
    "id": "oPl966hAQJlJ"
   },
   "outputs": [],
   "source": [
    "fdata.reset_index(inplace=True,drop=True)"
   ]
  },
  {
   "cell_type": "code",
   "execution_count": 63,
   "metadata": {
    "id": "6qf67EICV6j3"
   },
   "outputs": [],
   "source": [
    "import pandas as pd\n",
    "from sklearn.feature_extraction.text import TfidfVectorizer\n",
    "from nltk.corpus import stopwords\n",
    "\n",
    "vectorizer = TfidfVectorizer(ngram_range=(2,3),\n",
    "                             token_pattern='(?u)\\\\b[a-zA-Z_]+\\\\b',\n",
    "                             max_features=1000, stop_words=stopword_list_2)"
   ]
  },
  {
   "cell_type": "code",
   "execution_count": 64,
   "metadata": {
    "colab": {
     "base_uri": "https://localhost:8080/"
    },
    "id": "RZ6JNr7UWCdv",
    "outputId": "dea1bf1b-52ab-485a-bfc1-c912d2cdafd4"
   },
   "outputs": [],
   "source": [
    "corpus = list(fdata[\"content_regex\"].values)\n",
    "X = vectorizer.fit_transform(corpus)\n",
    "terms = vectorizer.get_feature_names()\n",
    "fdf = pd.DataFrame(X.toarray(), columns=terms)"
   ]
  },
  {
   "cell_type": "code",
   "execution_count": 65,
   "metadata": {
    "id": "5olbv4ULWHrW"
   },
   "outputs": [],
   "source": [
    "from sklearn.model_selection import train_test_split\n",
    "from sklearn.ensemble import RandomForestClassifier"
   ]
  },
  {
   "cell_type": "code",
   "execution_count": 66,
   "metadata": {
    "id": "64bwT98wWJ2m"
   },
   "outputs": [],
   "source": [
    "X_trntst=fdf\n",
    "Y_trntst=fdata[\"score\"]"
   ]
  },
  {
   "cell_type": "code",
   "execution_count": 67,
   "metadata": {
    "id": "x7-1oTXnWjwu"
   },
   "outputs": [],
   "source": [
    "labels = []\n",
    "train_scores = []\n",
    "test_scores = []\n",
    "\n",
    "def clf_score(clf, X, y, label, train_scores, test_scores, cv=10, n_jobs=-1):\n",
    "    from sklearn.model_selection import StratifiedKFold\n",
    "    from sklearn.model_selection import cross_validate\n",
    "    kfolds = StratifiedKFold(n_splits = 10, shuffle = True)\n",
    "    score = cross_validate(clf, X, y, scoring=None, cv=kfolds, n_jobs=n_jobs,\n",
    "                           return_train_score=True, return_estimator=True)\n",
    "    train_scores.append(score['train_score'])\n",
    "    test_scores.append(score['test_score'])\n",
    "    labels.append(label)\n",
    "    print(np.mean(score['train_score']), np.mean(score['test_score']))\n",
    "    rf_cv_df = pd.DataFrame(score['test_score'],score['train_score'])\n",
    "    rf_cv_df"
   ]
  },
  {
   "cell_type": "code",
   "execution_count": 68,
   "metadata": {
    "colab": {
     "base_uri": "https://localhost:8080/"
    },
    "id": "60z-n-GuXFlu",
    "outputId": "9bfba124-e437-4e42-8058-4c41aba5b78b"
   },
   "outputs": [
    {
     "name": "stdout",
     "output_type": "stream",
     "text": [
      "0.8635827777425265 0.7201953994558495\n"
     ]
    }
   ],
   "source": [
    "from sklearn.ensemble import RandomForestClassifier\n",
    "rf = RandomForestClassifier()\n",
    "clf_score(rf, X_trntst, Y_trntst, 'RF', train_scores, test_scores, n_jobs=-1)"
   ]
  },
  {
   "cell_type": "code",
   "execution_count": 69,
   "metadata": {
    "colab": {
     "base_uri": "https://localhost:8080/"
    },
    "id": "soj_YON1cAsE",
    "outputId": "257c41dc-8fa7-4688-d483-a4a919346238"
   },
   "outputs": [
    {
     "data": {
      "text/plain": [
       "RandomForestClassifier()"
      ]
     },
     "execution_count": 69,
     "metadata": {},
     "output_type": "execute_result"
    }
   ],
   "source": [
    "X_trn, X_tst, Y_trn, Y_tst = train_test_split(X_trntst, Y_trntst, test_size = .3,shuffle=True)\n",
    "rf=RandomForestClassifier()\n",
    "rf.fit(X_trn,Y_trn)"
   ]
  },
  {
   "cell_type": "code",
   "execution_count": 70,
   "metadata": {
    "colab": {
     "base_uri": "https://localhost:8080/",
     "height": 279
    },
    "id": "6WMjyIYYb77E",
    "outputId": "569bfa99-0bdd-41e2-8f5c-da27b959951b"
   },
   "outputs": [
    {
     "data": {
      "image/png": "[encoded data removed]",
      "text/plain": [
       "<Figure size 432x288 with 1 Axes>"
      ]
     },
     "metadata": {
      "needs_background": "light"
     },
     "output_type": "display_data"
    }
   ],
   "source": [
    "importances = rf.feature_importances_\n",
    "std = np.std([tree.feature_importances_ for tree in rf.estimators_], axis=0)\n",
    "\n",
    "# get the top 20 important feature\n",
    "import matplotlib.pyplot as plt\n",
    "sorted_idx = rf.feature_importances_.argsort()\n",
    "plt.barh(fdf.columns[sorted_idx[-20:]], rf.feature_importances_[sorted_idx[-20:]])\n",
    "plt.xlabel(\"Random Forest Feature Importance\")\n",
    "plt.show()"
   ]
  },
  {
   "cell_type": "code",
   "execution_count": 71,
   "metadata": {
    "id": "oAllypGONqTB"
   },
   "outputs": [],
   "source": [
    "vectorizer1 = TfidfVectorizer(ngram_range=(1,3),\n",
    "                             token_pattern='(?u)\\\\b[a-zA-Z_]+\\\\b',\n",
    "                             max_features=1000, stop_words=stopword_list_2)"
   ]
  },
  {
   "cell_type": "code",
   "execution_count": 72,
   "metadata": {
    "colab": {
     "base_uri": "https://localhost:8080/"
    },
    "id": "brFBUxT3Nwaw",
    "outputId": "94e63793-6f1a-4861-8690-35290e146f83"
   },
   "outputs": [],
   "source": [
    "corpus = list(fdata[\"content_regex\"].values)\n",
    "X = vectorizer1.fit_transform(corpus)\n",
    "terms = vectorizer1.get_feature_names()\n",
    "fdf1 = pd.DataFrame(X.toarray(), columns=terms)"
   ]
  },
  {
   "cell_type": "code",
   "execution_count": 73,
   "metadata": {
    "id": "QDS5ZaXeN6dH"
   },
   "outputs": [],
   "source": [
    "X_trntst=fdf1\n",
    "Y_trntst=fdata[\"score\"]"
   ]
  },
  {
   "cell_type": "code",
   "execution_count": 74,
   "metadata": {
    "colab": {
     "base_uri": "https://localhost:8080/"
    },
    "id": "7vY14s8NN-5O",
    "outputId": "580e733b-300a-45f1-cb47-da8ffacd8b37"
   },
   "outputs": [
    {
     "name": "stdout",
     "output_type": "stream",
     "text": [
      "0.9495305923422374 0.8165749443482561\n"
     ]
    }
   ],
   "source": [
    "from sklearn.ensemble import RandomForestClassifier\n",
    "rf = RandomForestClassifier()\n",
    "clf_score(rf, X_trntst, Y_trntst, 'RF', train_scores, test_scores, n_jobs=-1)"
   ]
  },
  {
   "cell_type": "markdown",
   "metadata": {
    "id": "5hoaO-LPa_F1"
   },
   "source": [
    "topic modelling"
   ]
  },
  {
   "cell_type": "code",
   "execution_count": 81,
   "metadata": {},
   "outputs": [],
   "source": [
    "data_file_good=fdata[fdata['good']==1]\n",
    "data_file_bad=fdata[fdata['good']==0]"
   ]
  },
  {
   "cell_type": "code",
   "execution_count": 82,
   "metadata": {},
   "outputs": [],
   "source": [
    "stopword_list_file_add=['ever','also','please','rating','star','file','manager']\n",
    "stopword_list_file_good=stopword_list_2+stopword_list_file_add+['_good_','five','_love_','_problem_']"
   ]
  },
  {
   "cell_type": "code",
   "execution_count": 83,
   "metadata": {},
   "outputs": [
    {
     "name": "stdout",
     "output_type": "stream",
     "text": [
      "file good TF-IDF: (1659, 518)\n"
     ]
    },
    {
     "data": {
      "text/html": [
       "<div>\n",
       "<style scoped>\n",
       "    .dataframe tbody tr th:only-of-type {\n",
       "        vertical-align: middle;\n",
       "    }\n",
       "\n",
       "    .dataframe tbody tr th {\n",
       "        vertical-align: top;\n",
       "    }\n",
       "\n",
       "    .dataframe thead th {\n",
       "        text-align: right;\n",
       "    }\n",
       "</style>\n",
       "<table border=\"1\" class=\"dataframe\">\n",
       "  <thead>\n",
       "    <tr style=\"text-align: right;\">\n",
       "      <th></th>\n",
       "      <th>_ad_ free</th>\n",
       "      <th>_ad_ no</th>\n",
       "      <th>_ad_ work</th>\n",
       "      <th>_last update_</th>\n",
       "      <th>_many_ _ad_</th>\n",
       "      <th>_many_ explorer</th>\n",
       "      <th>_many_ feature</th>\n",
       "      <th>_many_ option</th>\n",
       "      <th>_many_ recommend</th>\n",
       "      <th>_many_ time</th>\n",
       "      <th>...</th>\n",
       "      <th>work fine</th>\n",
       "      <th>work flawlessly</th>\n",
       "      <th>work go</th>\n",
       "      <th>work properly</th>\n",
       "      <th>work try</th>\n",
       "      <th>worth every</th>\n",
       "      <th>worth every penny</th>\n",
       "      <th>worth money</th>\n",
       "      <th>zip files</th>\n",
       "      <th>zip files update</th>\n",
       "    </tr>\n",
       "  </thead>\n",
       "  <tbody>\n",
       "    <tr>\n",
       "      <th>0</th>\n",
       "      <td>0.0</td>\n",
       "      <td>0.0</td>\n",
       "      <td>0.0</td>\n",
       "      <td>0.0</td>\n",
       "      <td>0.0</td>\n",
       "      <td>0.0</td>\n",
       "      <td>0.0</td>\n",
       "      <td>0.0</td>\n",
       "      <td>0.0</td>\n",
       "      <td>0.0</td>\n",
       "      <td>...</td>\n",
       "      <td>0.0</td>\n",
       "      <td>0.0</td>\n",
       "      <td>0.0</td>\n",
       "      <td>0.0</td>\n",
       "      <td>0.0</td>\n",
       "      <td>0.0</td>\n",
       "      <td>0.0</td>\n",
       "      <td>0.0</td>\n",
       "      <td>0.0</td>\n",
       "      <td>0.0</td>\n",
       "    </tr>\n",
       "    <tr>\n",
       "      <th>1</th>\n",
       "      <td>0.0</td>\n",
       "      <td>0.0</td>\n",
       "      <td>0.0</td>\n",
       "      <td>0.0</td>\n",
       "      <td>0.0</td>\n",
       "      <td>0.0</td>\n",
       "      <td>0.0</td>\n",
       "      <td>0.0</td>\n",
       "      <td>0.0</td>\n",
       "      <td>0.0</td>\n",
       "      <td>...</td>\n",
       "      <td>0.0</td>\n",
       "      <td>0.0</td>\n",
       "      <td>0.0</td>\n",
       "      <td>0.0</td>\n",
       "      <td>0.0</td>\n",
       "      <td>0.0</td>\n",
       "      <td>0.0</td>\n",
       "      <td>0.0</td>\n",
       "      <td>0.0</td>\n",
       "      <td>0.0</td>\n",
       "    </tr>\n",
       "    <tr>\n",
       "      <th>2</th>\n",
       "      <td>0.0</td>\n",
       "      <td>0.0</td>\n",
       "      <td>0.0</td>\n",
       "      <td>0.0</td>\n",
       "      <td>0.0</td>\n",
       "      <td>0.0</td>\n",
       "      <td>0.0</td>\n",
       "      <td>0.0</td>\n",
       "      <td>0.0</td>\n",
       "      <td>0.0</td>\n",
       "      <td>...</td>\n",
       "      <td>0.0</td>\n",
       "      <td>0.0</td>\n",
       "      <td>0.0</td>\n",
       "      <td>0.0</td>\n",
       "      <td>0.0</td>\n",
       "      <td>0.0</td>\n",
       "      <td>0.0</td>\n",
       "      <td>0.0</td>\n",
       "      <td>0.0</td>\n",
       "      <td>0.0</td>\n",
       "    </tr>\n",
       "    <tr>\n",
       "      <th>3</th>\n",
       "      <td>0.0</td>\n",
       "      <td>0.0</td>\n",
       "      <td>0.0</td>\n",
       "      <td>0.0</td>\n",
       "      <td>0.0</td>\n",
       "      <td>0.0</td>\n",
       "      <td>0.0</td>\n",
       "      <td>0.0</td>\n",
       "      <td>0.0</td>\n",
       "      <td>0.0</td>\n",
       "      <td>...</td>\n",
       "      <td>0.0</td>\n",
       "      <td>0.0</td>\n",
       "      <td>0.0</td>\n",
       "      <td>0.0</td>\n",
       "      <td>0.0</td>\n",
       "      <td>0.0</td>\n",
       "      <td>0.0</td>\n",
       "      <td>0.0</td>\n",
       "      <td>0.0</td>\n",
       "      <td>0.0</td>\n",
       "    </tr>\n",
       "    <tr>\n",
       "      <th>4</th>\n",
       "      <td>0.0</td>\n",
       "      <td>0.0</td>\n",
       "      <td>0.0</td>\n",
       "      <td>0.0</td>\n",
       "      <td>0.0</td>\n",
       "      <td>0.0</td>\n",
       "      <td>0.0</td>\n",
       "      <td>0.0</td>\n",
       "      <td>0.0</td>\n",
       "      <td>0.0</td>\n",
       "      <td>...</td>\n",
       "      <td>0.0</td>\n",
       "      <td>0.0</td>\n",
       "      <td>0.0</td>\n",
       "      <td>0.0</td>\n",
       "      <td>0.0</td>\n",
       "      <td>0.0</td>\n",
       "      <td>0.0</td>\n",
       "      <td>0.0</td>\n",
       "      <td>0.0</td>\n",
       "      <td>0.0</td>\n",
       "    </tr>\n",
       "  </tbody>\n",
       "</table>\n",
       "<p>5 rows × 518 columns</p>\n",
       "</div>"
      ],
      "text/plain": [
       "   _ad_ free  _ad_ no  _ad_ work  _last update_  _many_ _ad_  _many_ explorer  \\\n",
       "0        0.0      0.0        0.0            0.0          0.0              0.0   \n",
       "1        0.0      0.0        0.0            0.0          0.0              0.0   \n",
       "2        0.0      0.0        0.0            0.0          0.0              0.0   \n",
       "3        0.0      0.0        0.0            0.0          0.0              0.0   \n",
       "4        0.0      0.0        0.0            0.0          0.0              0.0   \n",
       "\n",
       "   _many_ feature  _many_ option  _many_ recommend  _many_ time  ...  \\\n",
       "0             0.0            0.0               0.0          0.0  ...   \n",
       "1             0.0            0.0               0.0          0.0  ...   \n",
       "2             0.0            0.0               0.0          0.0  ...   \n",
       "3             0.0            0.0               0.0          0.0  ...   \n",
       "4             0.0            0.0               0.0          0.0  ...   \n",
       "\n",
       "   work fine  work flawlessly  work go  work properly  work try  worth every  \\\n",
       "0        0.0              0.0      0.0            0.0       0.0          0.0   \n",
       "1        0.0              0.0      0.0            0.0       0.0          0.0   \n",
       "2        0.0              0.0      0.0            0.0       0.0          0.0   \n",
       "3        0.0              0.0      0.0            0.0       0.0          0.0   \n",
       "4        0.0              0.0      0.0            0.0       0.0          0.0   \n",
       "\n",
       "   worth every penny  worth money  zip files  zip files update  \n",
       "0                0.0          0.0        0.0               0.0  \n",
       "1                0.0          0.0        0.0               0.0  \n",
       "2                0.0          0.0        0.0               0.0  \n",
       "3                0.0          0.0        0.0               0.0  \n",
       "4                0.0          0.0        0.0               0.0  \n",
       "\n",
       "[5 rows x 518 columns]"
      ]
     },
     "execution_count": 83,
     "metadata": {},
     "output_type": "execute_result"
    }
   ],
   "source": [
    "import pandas as pd\n",
    "from sklearn.feature_extraction.text import TfidfVectorizer\n",
    "from nltk.corpus import stopwords\n",
    "\n",
    "vectorizer = TfidfVectorizer(ngram_range=(2,3),\n",
    "                             token_pattern='(?u)\\\\b[a-zA-Z_]+\\\\b',\n",
    "                             min_df=3, stop_words=stopword_list_file_good)\n",
    "X_file_good, file_good_terms = vectorizer.fit_transform(data_file_good.content_regex), vectorizer.get_feature_names() #get_feature_names_out()\n",
    "file_good_tf_idf = pd.DataFrame(X_file_good.toarray(), columns=file_good_terms)\n",
    "\n",
    "print(f\"file good TF-IDF: {file_good_tf_idf.shape}\")\n",
    "file_good_tf_idf.head(5)"
   ]
  },
  {
   "cell_type": "code",
   "execution_count": 84,
   "metadata": {
    "colab": {
     "base_uri": "https://localhost:8080/"
    },
    "id": "BsgU1XhobQus",
    "outputId": "610dfb02-5342-4a60-bb80-072d71eb594e"
   },
   "outputs": [
    {
     "name": "stdout",
     "output_type": "stream",
     "text": [
      "Original shape of X is (1659, 518)\n",
      "Decomposed W matrix is (1659, 5)\n",
      "Decomposed H matrix is (5, 518)\n"
     ]
    },
    {
     "name": "stderr",
     "output_type": "stream",
     "text": [
      "C:\\Users\\Olivia\\Anaconda3\\lib\\site-packages\\sklearn\\decomposition\\_nmf.py:312: FutureWarning: The 'init' value, when 'init=None' and n_components is less than n_samples and n_features, will be changed from 'nndsvd' to 'nndsvda' in 1.1 (renaming of 0.26).\n",
      "  warnings.warn((\"The 'init' value, when 'init=None' and \"\n"
     ]
    }
   ],
   "source": [
    "nmf = NMF(n_components=5)\n",
    "W = nmf.fit_transform(X_file_good)\n",
    "H = nmf.components_\n",
    "print(f\"Original shape of X is {X_file_good.shape}\")\n",
    "print(f\"Decomposed W matrix is {W.shape}\")\n",
    "print(f\"Decomposed H matrix is {H.shape}\")"
   ]
  },
  {
   "cell_type": "code",
   "execution_count": 85,
   "metadata": {
    "colab": {
     "base_uri": "https://localhost:8080/"
    },
    "id": "F97jl-CrbS-U",
    "outputId": "54bdabd7-1fe0-4fe7-ef84-fa51707c6906"
   },
   "outputs": [
    {
     "name": "stdout",
     "output_type": "stream",
     "text": [
      "TOPIC 0\n",
      "\n",
      "\beasy use (61.1%)\n",
      "\n",
      "\buse _one_ (1.5%)\n",
      "\n",
      "\bmake easy (1.2%)\n",
      "\n",
      "\bsimple easy use (0.9%)\n",
      "\n",
      "\bfull feature (0.9%)\n",
      "\n",
      "\bsimple easy (0.9%)\n",
      "\n",
      "\bnew _phone_ (0.9%)\n",
      "\n",
      "\buseful daily (0.8%)\n",
      "\n",
      "\buse lot (0.8%)\n",
      "\n",
      "\bwhatsapp status (0.8%)\n",
      "\n",
      "==================================================\n",
      "TOPIC 1\n",
      "\n",
      "\bno _ad_ (42.4%)\n",
      "\n",
      "\b_ad_ no (2.9%)\n",
      "\n",
      "\bno _ad_ no (2.3%)\n",
      "\n",
      "\bthank make (1.7%)\n",
      "\n",
      "\btext editor (1.7%)\n",
      "\n",
      "\buse since (1.7%)\n",
      "\n",
      "\bgive us (1.6%)\n",
      "\n",
      "\broot explorer (1.5%)\n",
      "\n",
      "\b_ad_ work (1.4%)\n",
      "\n",
      "\beasy understand (1.4%)\n",
      "\n",
      "==================================================\n",
      "TOPIC 2\n",
      "\n",
      "\bsd card (27.5%)\n",
      "\n",
      "\b_phone_ sd card (4.3%)\n",
      "\n",
      "\b_phone_ sd (4.3%)\n",
      "\n",
      "\binternal storage (2.8%)\n",
      "\n",
      "\bstorage sd card (2.8%)\n",
      "\n",
      "\bstorage sd (2.8%)\n",
      "\n",
      "\bmove sd (2.6%)\n",
      "\n",
      "\bmove sd card (2.6%)\n",
      "\n",
      "\binternal storage sd (2.2%)\n",
      "\n",
      "\bn use (1.9%)\n",
      "\n",
      "==================================================\n",
      "TOPIC 3\n",
      "\n",
      "\buser friendly (34.9%)\n",
      "\n",
      "\buse year (6.3%)\n",
      "\n",
      "\bftp server (3.3%)\n",
      "\n",
      "\bfree space (2.7%)\n",
      "\n",
      "\bdownloads folder (2.3%)\n",
      "\n",
      "\bthanks google (2.2%)\n",
      "\n",
      "\bfree version (2.1%)\n",
      "\n",
      "\beasy access (1.7%)\n",
      "\n",
      "\buse android (1.6%)\n",
      "\n",
      "\bpurchase full (1.5%)\n",
      "\n",
      "==================================================\n",
      "TOPIC 4\n",
      "\n",
      "\bthank _many_ (62.4%)\n",
      "\n",
      "\bhelp lot (4.9%)\n",
      "\n",
      "\btry different (4.1%)\n",
      "\n",
      "\bfree space (2.9%)\n",
      "\n",
      "\buse _one_ (2.8%)\n",
      "\n",
      "\bevery time (2.8%)\n",
      "\n",
      "\binternal storage (2.7%)\n",
      "\n",
      "\btransfer work (2.4%)\n",
      "\n",
      "\bstorage no (2.4%)\n",
      "\n",
      "\beverything need (0.6%)\n",
      "\n",
      "==================================================\n",
      "Topic 0\n",
      "100.0% phenomenal app , organize and easy to use .\n",
      "100.0% very easy to use and convenient too\n",
      "100.0% easy to use\n",
      "100.0% great file manager easy to use and i love this file\n",
      "100.0% clear display and easy to use\n",
      "100.0% easy to use\n",
      "100.0% i most like this file manager because it 's easy to use and the look of this app be wonderfull\n",
      "100.0% very good file manager it be easy to use ..........\n",
      "100.0% file by google be by far one of the easy file apps to use . i never have and difficulty use it . i believe even a child would have no problem use this app .\n",
      "100.0% to me it 's really a wonderful app because it 's easy to use straightforward , not a lot of learn curve . it do just what it suppose to . two thumb up . just one question . will file manager plus ever be able to sort file by name date etc. ? i need to do that right now so i 'm probably go to go look for another file manager to help me out . just the same your app be good and i thank you for the use i have get out of it . i did_not know how else to ask the company so i 'll ask here .\n",
      "==================================================\n",
      "Topic 1\n",
      "100.0% small size , work great even on my anroid 4 tablet , and no ad . good app ! i do still need to learn what some of the icon mean . : - )\n",
      "100.0% rarely i rate an app but this time i strongly disagree with bad review . i use this app to manage my downloads in a `` un-typed '' approach and i think it do it 's job perfectly . plus with it 's many plugins you can almost preview anything you get on a smartphone . good job . oh and there be no ad : )\n",
      "100.0% 5 star for no ad .\n",
      "100.0% fat clean no ad private and nice app\n",
      "100.0% personally , my favorite file manager , the design might no be appeal to everyone , but it 's the usefulness of the app that make it stand out . native root support , no ad at all , ability to type out file path , and a bunch of other nice feature most ( stock ) file manager do_not have .\n",
      "100.0% no ad fast good ui user frindly useful and apply so very excellent\n",
      "100.0% very good app it 's we can easily deal the chahe and we can also coustimise by the colour my tab go fast day by use this app please check this app and no ad you can easily use this app\n",
      "100.0% i love this app due to its ease of access and there be basically no ad . if i could , i 'd rate it a 10 !\n",
      "100.0% no ad matter most 5 star rating for sure\n",
      "100.0% this be a really good app and there be no ad in it best app for file managing .\n",
      "==================================================\n",
      "Topic 2\n",
      "100.0% ma sub kam sd card ma kar ta ho\n",
      "100.0% very good file manger for android it does_not have ad and i just use it to tarnsfer file to sd card and yea\n",
      "100.0% the all new design be perfect . however when i copy song to the sd card . the song are_not reflect on the audio folder when i unmount the sd card . please fix this\n",
      "100.0% nice app but try to fix it so that you can use to copy apps to sd card\n",
      "99.9% this allow me to move file from my phone to the sd card and back . i be surprise to see that it have find some file i think be lose and put them in an folder on the sd card . in addition it increase performance after disabiling google file manager .\n",
      "99.9% light , minimal but have all the feature . absolutely the best file manager . the best thing be , you can select all picture or file and move to sd card , if you have select file which be already in sd card , it prompt you & move only the file which are_not in sd . trully a hold up to be a billion _cur_ company app .\n",
      "100.0% great overall . one issue : sd card folder be clickable but inaccessible in total commander run in samsung secure folder . block attempt to open & a popup say : work mode access restrict by your it admin . be it a secure folder virtualization issue or just android treat secure folder as 'work mode ' app ? also , windows 95 want its button icon back . the button could really use a redesign to look more intuitive & recognizable . maybe a material style look ? thanks , devs !\n",
      "99.7% do everything i can hope for - access remote host ; analyze device and sd card usage ; save bookmark to my home computer share , both local and remote .\n",
      "100.0% could n't copy file an unknown error occur . when i try to copy all my system file to sd card . ( i think system is_not allow any application to copy each and every single file so i have to take backup by my computer , even system file manager also refuse to copy , it need a special permission )\n",
      "100.0% i 've bee n use this app for a while now , on my age google nexus tablet . and it 's be fantastic ... well , right up to this late october update . now it 's not reading my sd card ( use the usb plugin ) . and if it do , i get an error while copy file . could you look into it ? cheer and take care .\n",
      "==================================================\n",
      "Topic 3\n",
      "100.0% excellent user-friendly and intelligent app\n",
      "100.0% very very good app and user friendly .\n",
      "100.0% do what you want in a very user friendly way !\n",
      "100.0% there be a hand full of popular apps that do the same job as this one . however , with other apps you 'll get a lot of unnecessary feature that actually do more harm , usually large and hog resource . with google file you 'll have all the tool that be very user friendly and be tune to your android and chrome o device specific need , while still tie in with the rest of google 's ecosystem flawlessly .\n",
      "100.0% this might just be one of the best file manager i have encounter . it may not be user-friendly but i 'm sure i will be able to figure out all of its non-root function gradually .\n",
      "99.8% this have be one the most reliable , intuitive , user-friendly apps i 've use through the year . sometimes i 've try other similar file apps , but i always end up return . it 's like : `` please -- -take me back ! i be wrong . . . i 'll take all the blame ! i could_not see what a fool i be ! '' [ well , maybe not that dramatic . . . ] ; p\n",
      "58.5% i 'd pay for this it 's so good and user friendly . no ad , next to no setup , even already detect the window machine on my wifi . very good app for access file through the internet\n",
      "100.0% good app easy to analyze file and folder and unique feature be wifi ftp server user friendly feature\n",
      "93.8% best file manager to clean and free space . it 's user friendly and you can copy file edit them and delete early\n",
      "100.0% this be by far my favorite content management app . with a user friendly interface that automatically link to my exist google apps previously download , i could_not ask for more . thanks google ! ! ! from a forever fan , ashley edmonds\n",
      "==================================================\n",
      "Topic 4\n",
      "100.0% thank you so much\n",
      "100.0% thank you so much\n",
      "100.0% absolutely love this app ! so easy , clear and well design . no glitch , lag or issue of any kind . thank you so much !\n",
      "100.0% thank you so much it 's crazy\n",
      "100.0% 9/5/21 : really love this but i wish there be a trash bin . accidentally delete two video permanently and i really need those back update , 3/1/22 : be here for a few month now but thanks for add the trash bin feature ! now i do_not have to worry about permanently delete file by mistake . thank you so much ! just need to fix the glitch with music playing and then stop suddenly .\n",
      "100.0% be use this dev 's software since at least 2016. indispensable for some , like me . it make everything work so much more smoothly , doubt there 's anything well out there . wonderful program with add-on that be exceptionally well write & execute ! best coding of its type imo . so , thank you dev ! thank you very much indeed !\n",
      "100.0% thank you so much to this application team member . very very friendly and another best app . a small request to the team please . i be use mi mobile . if any picture or a record file modify , the original save file date and time also create with new date and time . one more very important issue be usb detection period limit for 5minutes to 10minutes only . please solve and fix these problem .\n",
      "98.7% great app thank very much i use it all the time . i just finish use this app its one of the best app 's i have try and use it would n't be normal if i did_not have this app instal in my phone constantly use it for audio file transfer , this app work perfect every time and i never have a problem a great app , thank you very much for be on top of this , sincerely hank dot\n",
      "100.0% very nice app . it help me a lot . thank you so much\n",
      "100.0% i never give review on app , i want to open a file of 1g which i download , i try 3 different apps before this and be already frustrate . i then decide to go to quora which be my last hope and be advise to download this app , which i try reluctantly . it be the literal best and a life saver . thank you so much guy .\n",
      "==================================================\n"
     ]
    }
   ],
   "source": [
    "from typing import List\n",
    "import numpy as np\n",
    "\n",
    "def get_top_tf_idf_tokens_for_topic(H: np.array, feature_names: List[str], num_top_tokens: int = 5):\n",
    "  \"\"\"\n",
    "  Uses the H matrix (K components x M original features) to identify for each\n",
    "  topic the most frequent tokens.\n",
    "  \"\"\"\n",
    "  for topic, vector in enumerate(H):\n",
    "    print(f\"TOPIC {topic}\\n\")\n",
    "    total = vector.sum()\n",
    "    top_scores = vector.argsort()[::-1][:num_top_tokens]\n",
    "    token_names = list(map(lambda idx: feature_names[idx], top_scores))\n",
    "    strengths = list(map(lambda idx: vector[idx] / total, top_scores))\n",
    "    \n",
    "    for strength, token_name in zip(strengths, token_names):\n",
    "      print(f\"\\b{token_name} ({round(strength * 100, 1)}%)\\n\")\n",
    "    print(f\"=\" * 50)\n",
    "def get_top_documents_for_each_topic(W: np.array, documents: List[str], num_docs: int = 5):\n",
    "  sorted_docs = W.argsort(axis=0)[::-1]\n",
    "  top_docs = sorted_docs[:num_docs].T\n",
    "  per_document_totals = W.sum(axis=1)\n",
    "  for topic, top_documents_for_topic in enumerate(top_docs):\n",
    "    print(f\"Topic {topic}\")\n",
    "    for doc in top_documents_for_topic:\n",
    "      score = W[doc][topic]\n",
    "      percent_about_topic = round(score / per_document_totals[doc] * 100, 1)\n",
    "      print(f\"{percent_about_topic}%\", documents[doc])\n",
    "    print(\"=\" * 50)\n",
    "\n",
    "get_top_tf_idf_tokens_for_topic(H, file_good_tf_idf.columns.tolist(), 10)\n",
    "get_top_documents_for_each_topic(W, data_file_good.content_lemma.tolist(),10)"
   ]
  },
  {
   "cell_type": "code",
   "execution_count": 87,
   "metadata": {
    "id": "7UbBvnb1bCRb"
   },
   "outputs": [],
   "source": [
    "good=fdf.iloc[fdata[fdata[\"score\"]==5].index,:]"
   ]
  },
  {
   "cell_type": "code",
   "execution_count": 88,
   "metadata": {
    "id": "-5WMyF0TbNdE"
   },
   "outputs": [],
   "source": [
    "bad=fdf.iloc[fdata[fdata[\"score\"]==1].index,:]"
   ]
  },
  {
   "cell_type": "code",
   "execution_count": null,
   "metadata": {},
   "outputs": [],
   "source": [
    "nmf = NMF(n_components=5)\n",
    "W = nmf.fit_transform(bad)\n",
    "H = nmf.components_\n",
    "print(f\"Original shape of X is {bad.shape}\")\n",
    "print(f\"Decomposed W matrix is {W.shape}\")\n",
    "print(f\"Decomposed H matrix is {H.shape}\")"
   ]
  },
  {
   "cell_type": "code",
   "execution_count": null,
   "metadata": {
    "colab": {
     "base_uri": "https://localhost:8080/"
    },
    "id": "cX9JSHHFbdvk",
    "outputId": "7c8bb334-9641-409f-e395-a2ad81f2a2af"
   },
   "outputs": [
    {
     "name": "stdout",
     "output_type": "stream",
     "text": [
      "TOPIC 0\n",
      "\n",
      "\b_good_ (67.4%)\n",
      "\n",
      "\bnot _good_ (1.4%)\n",
      "\n",
      "\b_good_ _good_ (0.8%)\n",
      "\n",
      "\b_good_ file (0.7%)\n",
      "\n",
      "\bwork _good_ (0.6%)\n",
      "\n",
      "==================================================\n",
      "TOPIC 1\n",
      "\n",
      "\bfile (2.8%)\n",
      "\n",
      "\b_problem_ (1.5%)\n",
      "\n",
      "\bupdate (1.2%)\n",
      "\n",
      "\bcan_not (1.1%)\n",
      "\n",
      "\bno (1.1%)\n",
      "\n",
      "==================================================\n",
      "TOPIC 2\n",
      "\n",
      "\bbad (36.7%)\n",
      "\n",
      "\bshare (2.7%)\n",
      "\n",
      "\bever (2.2%)\n",
      "\n",
      "\bnearby (1.6%)\n",
      "\n",
      "\bnearby share (1.4%)\n",
      "\n",
      "==================================================\n",
      "TOPIC 3\n",
      "\n",
      "\bcard (7.1%)\n",
      "\n",
      "\bsd (6.7%)\n",
      "\n",
      "\bsd card (6.4%)\n",
      "\n",
      "\bmove (2.1%)\n",
      "\n",
      "\bcopy (1.9%)\n",
      "\n",
      "==================================================\n",
      "TOPIC 4\n",
      "\n",
      "\bnot (12.9%)\n",
      "\n",
      "\bwork (5.3%)\n",
      "\n",
      "\bnot work (3.9%)\n",
      "\n",
      "\bdoes_not (1.7%)\n",
      "\n",
      "\bnot _good_ (1.6%)\n",
      "\n",
      "==================================================\n"
     ]
    }
   ],
   "source": [
    "from typing import List\n",
    "import numpy as np\n",
    "\n",
    "def get_top_tf_idf_tokens_for_topic(H: np.array, feature_names: List[str], num_top_tokens: int = 5):\n",
    "  \"\"\"\n",
    "  Uses the H matrix (K components x M original features) to identify for each\n",
    "  topic the most frequent tokens.\n",
    "  \"\"\"\n",
    "  for topic, vector in enumerate(H):\n",
    "    print(f\"TOPIC {topic}\\n\")\n",
    "    total = vector.sum()\n",
    "    top_scores = vector.argsort()[::-1][:num_top_tokens]\n",
    "    token_names = list(map(lambda idx: feature_names[idx], top_scores))\n",
    "    strengths = list(map(lambda idx: vector[idx] / total, top_scores))\n",
    "    \n",
    "    for strength, token_name in zip(strengths, token_names):\n",
    "      print(f\"\\b{token_name} ({round(strength * 100, 1)}%)\\n\")\n",
    "    print(f\"=\" * 50)\n",
    "\n",
    "get_top_tf_idf_tokens_for_topic(H, bad.columns.tolist(), 5)"
   ]
  },
  {
   "cell_type": "code",
   "execution_count": null,
   "metadata": {
    "colab": {
     "base_uri": "https://localhost:8080/"
    },
    "id": "mb3JLPJ8bgh8",
    "outputId": "48410838-ea5c-4574-9a15-cded131b3ecd"
   },
   "outputs": [
    {
     "name": "stdout",
     "output_type": "stream",
     "text": [
      "Topic 0\n",
      "100.0% all protect file of private safe be delete after update please let me know the solution . no response from team support team .\n",
      "100.0% this manager is_not respond when i try to open this from other apps for import other file . it stop say '' file keep stop try again '' .\n",
      "100.0% it 's very useful\n",
      "100.0% vrey nice\n",
      "100.0% good\n",
      "==================================================\n",
      "Topic 1\n",
      "99.3% file mneger ki trh desing kro\n",
      "100.0% i love the app , cause , i can readily get what i want , or look for , especially the xhide area , where i hide my private photo and video . my rate be 5 star +\n",
      "66.8% quit interest to use , easy access to apps and file , very good\n",
      "67.9% this be the best file manager i have ever use , it clean up space.it can also help me clean up the junk file of whatsapp , highly recommend !\n",
      "80.6% this update be rubbish . no privacy at all , every file on my phone be vulnerable , one tap to the app icon you 've see everything . you literally go back to the two previous update - restore the previous one before this recent trash update\n",
      "==================================================\n",
      "Topic 2\n",
      "100.0% good to use\n",
      "100.0% nice file manager for share drive\n",
      "100.0% very very bad app\n",
      "100.0% bad app\n",
      "100.0% excellent\n",
      "==================================================\n",
      "Topic 3\n",
      "100.0% change a perfectly fine app and make it unusable . ridiculous stop do this with android you 're ruin what be a decent platform\n",
      "92.9% \n",
      "99.8% just waste time on a junk app !\n",
      "100.0% i plug in a usb to the pc i have dex on and it never detect it . it 's a old samsung sd card so i know it 's formatter right , i literally . just take it out of the phone ... . i wantes to use this to move file from sd card to sd card ... . since window explorer suck and crash when i try .\n",
      "100.0% man what a garbage ... .. im clickimg select on sd card to write permission it again say write sd card persmisson require i again do but it does_not write permission on external sd . card\n",
      "==================================================\n",
      "Topic 4\n",
      "100.0% not so usefull\n",
      "100.0% top-notch app.i use it on a daily basis.drag & drop file , transfer file via wifi , two window panel etc to just name a few feature be what you would expect from a file explorer . a clean and userfriendly interface make it a piece of cake to work with.it be almost unbelievable that this app and its plug-in come completely free of charge and do_not bother you with ad . best of all : it work flawlessly ! if i have one wish free : it would be nice if it be possible to give certain folder or internal/external memory/windows panel different backgound colours.these option could be bury in the setting . anyway : kudos to the developer for this brilliant app !\n",
      "100.0% nice\n",
      "100.0% poorapp\n",
      "100.0% not work\n",
      "==================================================\n"
     ]
    }
   ],
   "source": [
    "import numpy as np\n",
    "def get_top_documents_for_each_topic(W: np.array, documents: List[str], num_docs: int = 5):\n",
    "  sorted_docs = W.argsort(axis=0)[::-1]\n",
    "  top_docs = sorted_docs[:num_docs].T\n",
    "  per_document_totals = W.sum(axis=1)\n",
    "  for topic, top_documents_for_topic in enumerate(top_docs):\n",
    "    print(f\"Topic {topic}\")\n",
    "    for doc in top_documents_for_topic:\n",
    "      score = W[doc][topic]\n",
    "      percent_about_topic = round(score / per_document_totals[doc] * 100, 1)\n",
    "      print(f\"{percent_about_topic}%\", documents[doc])\n",
    "    print(\"=\" * 50)\n",
    "get_top_documents_for_each_topic(W, fdata.content_lemma.tolist())"
   ]
  },
  {
   "cell_type": "markdown",
   "metadata": {
    "id": "1OenA6_jdn5L"
   },
   "source": [
    "## Communication - Shawn"
   ]
  },
  {
   "cell_type": "code",
   "execution_count": null,
   "metadata": {
    "colab": {
     "base_uri": "https://localhost:8080/"
    },
    "id": "_0lPtnsUaSdU",
    "outputId": "bc507731-d9b2-4a1b-addb-23fc2450d459"
   },
   "outputs": [
    {
     "data": {
      "text/plain": [
       "communication    11160\n",
       "browsers         10993\n",
       "payment          10904\n",
       "videoplayer       8430\n",
       "filemanager       8102\n",
       "Name: category, dtype: int64"
      ]
     },
     "metadata": {},
     "output_type": "display_data"
    }
   ],
   "source": [
    "data_all['category'].value_counts()"
   ]
  },
  {
   "cell_type": "code",
   "execution_count": null,
   "metadata": {
    "colab": {
     "base_uri": "https://localhost:8080/"
    },
    "id": "cDG5gbFjcbDw",
    "outputId": "90f35d1b-6384-4dcf-c6df-aa52dedfa942"
   },
   "outputs": [
    {
     "name": "stderr",
     "output_type": "stream",
     "text": [
      "/usr/local/lib/python3.7/dist-packages/ipykernel_launcher.py:3: SettingWithCopyWarning: \n",
      "A value is trying to be set on a copy of a slice from a DataFrame.\n",
      "Try using .loc[row_indexer,col_indexer] = value instead\n",
      "\n",
      "See the caveats in the documentation: https://pandas.pydata.org/pandas-docs/stable/user_guide/indexing.html#returning-a-view-versus-a-copy\n",
      "  This is separate from the ipykernel package so we can avoid doing imports until\n"
     ]
    },
    {
     "data": {
      "text/plain": [
       "(3871, 6)"
      ]
     },
     "metadata": {},
     "output_type": "display_data"
    }
   ],
   "source": [
    "# Dataset split\n",
    "data = data_all.loc[data_all['category']=='communication',:]\n",
    "data['good'] = [1 if i>=5 else 0 if i<=1 else -1 for i in data['score']]\n",
    "data = data.loc[data['good']!=-1,:]\n",
    "data.shape"
   ]
  },
  {
   "cell_type": "code",
   "execution_count": null,
   "metadata": {
    "colab": {
     "base_uri": "https://localhost:8080/",
     "height": 206
    },
    "id": "o-sMdYu7xLsr",
    "outputId": "4929ebdf-8581-4ca7-e297-263f3b7ce562"
   },
   "outputs": [
    {
     "data": {
      "text/html": [
       "\n",
       "  <div id=\"df-ea63df2a-d0a0-4390-be80-9b85eaac8fe5\">\n",
       "    <div class=\"colab-df-container\">\n",
       "      <div>\n",
       "<style scoped>\n",
       "    .dataframe tbody tr th:only-of-type {\n",
       "        vertical-align: middle;\n",
       "    }\n",
       "\n",
       "    .dataframe tbody tr th {\n",
       "        vertical-align: top;\n",
       "    }\n",
       "\n",
       "    .dataframe thead th {\n",
       "        text-align: right;\n",
       "    }\n",
       "</style>\n",
       "<table border=\"1\" class=\"dataframe\">\n",
       "  <thead>\n",
       "    <tr style=\"text-align: right;\">\n",
       "      <th></th>\n",
       "      <th>content</th>\n",
       "      <th>score</th>\n",
       "      <th>category</th>\n",
       "      <th>content_lemma</th>\n",
       "      <th>content_regex</th>\n",
       "      <th>good</th>\n",
       "    </tr>\n",
       "  </thead>\n",
       "  <tbody>\n",
       "    <tr>\n",
       "      <th>27436</th>\n",
       "      <td>i have been using telegram for the past three ...</td>\n",
       "      <td>1</td>\n",
       "      <td>communication</td>\n",
       "      <td>i have be use telegram for the past three year...</td>\n",
       "      <td>i have be use telegram for the past _one_ year...</td>\n",
       "      <td>0</td>\n",
       "    </tr>\n",
       "    <tr>\n",
       "      <th>27437</th>\n",
       "      <td>i want to use this app ,but the only problame ...</td>\n",
       "      <td>1</td>\n",
       "      <td>communication</td>\n",
       "      <td>i want to use this app , but the only problame...</td>\n",
       "      <td>i want to use this _app_ , but the only probla...</td>\n",
       "      <td>0</td>\n",
       "    </tr>\n",
       "    <tr>\n",
       "      <th>27438</th>\n",
       "      <td>at first it shows connecting all the time if i...</td>\n",
       "      <td>1</td>\n",
       "      <td>communication</td>\n",
       "      <td>at first it show connect all the time if i uni...</td>\n",
       "      <td>at first it show connect all the time if i uni...</td>\n",
       "      <td>0</td>\n",
       "    </tr>\n",
       "    <tr>\n",
       "      <th>27439</th>\n",
       "      <td>i think there are some issues in the latest up...</td>\n",
       "      <td>1</td>\n",
       "      <td>communication</td>\n",
       "      <td>i think there be some issue in the late update...</td>\n",
       "      <td>i think there be some _problem_ in the _last u...</td>\n",
       "      <td>0</td>\n",
       "    </tr>\n",
       "    <tr>\n",
       "      <th>27440</th>\n",
       "      <td>this is the worst experience ever in telegram,...</td>\n",
       "      <td>1</td>\n",
       "      <td>communication</td>\n",
       "      <td>this be the bad experience ever in telegram , ...</td>\n",
       "      <td>this be the bad experience ever in telegram , ...</td>\n",
       "      <td>0</td>\n",
       "    </tr>\n",
       "  </tbody>\n",
       "</table>\n",
       "</div>\n",
       "      <button class=\"colab-df-convert\" onclick=\"convertToInteractive('df-ea63df2a-d0a0-4390-be80-9b85eaac8fe5')\"\n",
       "              title=\"Convert this dataframe to an interactive table.\"\n",
       "              style=\"display:none;\">\n",
       "        \n",
       "  <svg xmlns=\"http://www.w3.org/2000/svg\" height=\"24px\"viewBox=\"0 0 24 24\"\n",
       "       width=\"24px\">\n",
       "    <path d=\"M0 0h24v24H0V0z\" fill=\"none\"/>\n",
       "    <path d=\"M18.56 5.44l.94 2.06.94-2.06 2.06-.94-2.06-.94-.94-2.06-.94 2.06-2.06.94zm-11 1L8.5 8.5l.94-2.06 2.06-.94-2.06-.94L8.5 2.5l-.94 2.06-2.06.94zm10 10l.94 2.06.94-2.06 2.06-.94-2.06-.94-.94-2.06-.94 2.06-2.06.94z\"/><path d=\"M17.41 7.96l-1.37-1.37c-.4-.4-.92-.59-1.43-.59-.52 0-1.04.2-1.43.59L10.3 9.45l-7.72 7.72c-.78.78-.78 2.05 0 2.83L4 21.41c.39.39.9.59 1.41.59.51 0 1.02-.2 1.41-.59l7.78-7.78 2.81-2.81c.8-.78.8-2.07 0-2.86zM5.41 20L4 18.59l7.72-7.72 1.47 1.35L5.41 20z\"/>\n",
       "  </svg>\n",
       "      </button>\n",
       "      \n",
       "  <style>\n",
       "    .colab-df-container {\n",
       "      display:flex;\n",
       "      flex-wrap:wrap;\n",
       "      gap: 12px;\n",
       "    }\n",
       "\n",
       "    .colab-df-convert {\n",
       "      background-color: #E8F0FE;\n",
       "      border: none;\n",
       "      border-radius: 50%;\n",
       "      cursor: pointer;\n",
       "      display: none;\n",
       "      fill: #1967D2;\n",
       "      height: 32px;\n",
       "      padding: 0 0 0 0;\n",
       "      width: 32px;\n",
       "    }\n",
       "\n",
       "    .colab-df-convert:hover {\n",
       "      background-color: #E2EBFA;\n",
       "      box-shadow: 0px 1px 2px rgba(60, 64, 67, 0.3), 0px 1px 3px 1px rgba(60, 64, 67, 0.15);\n",
       "      fill: #174EA6;\n",
       "    }\n",
       "\n",
       "    [theme=dark] .colab-df-convert {\n",
       "      background-color: #3B4455;\n",
       "      fill: #D2E3FC;\n",
       "    }\n",
       "\n",
       "    [theme=dark] .colab-df-convert:hover {\n",
       "      background-color: #434B5C;\n",
       "      box-shadow: 0px 1px 3px 1px rgba(0, 0, 0, 0.15);\n",
       "      filter: drop-shadow(0px 1px 2px rgba(0, 0, 0, 0.3));\n",
       "      fill: #FFFFFF;\n",
       "    }\n",
       "  </style>\n",
       "\n",
       "      <script>\n",
       "        const buttonEl =\n",
       "          document.querySelector('#df-ea63df2a-d0a0-4390-be80-9b85eaac8fe5 button.colab-df-convert');\n",
       "        buttonEl.style.display =\n",
       "          google.colab.kernel.accessAllowed ? 'block' : 'none';\n",
       "\n",
       "        async function convertToInteractive(key) {\n",
       "          const element = document.querySelector('#df-ea63df2a-d0a0-4390-be80-9b85eaac8fe5');\n",
       "          const dataTable =\n",
       "            await google.colab.kernel.invokeFunction('convertToInteractive',\n",
       "                                                     [key], {});\n",
       "          if (!dataTable) return;\n",
       "\n",
       "          const docLinkHtml = 'Like what you see? Visit the ' +\n",
       "            '<a target=\"_blank\" href=https://colab.research.google.com/notebooks/data_table.ipynb>data table notebook</a>'\n",
       "            + ' to learn more about interactive tables.';\n",
       "          element.innerHTML = '';\n",
       "          dataTable['output_type'] = 'display_data';\n",
       "          await google.colab.output.renderOutput(dataTable, element);\n",
       "          const docLink = document.createElement('div');\n",
       "          docLink.innerHTML = docLinkHtml;\n",
       "          element.appendChild(docLink);\n",
       "        }\n",
       "      </script>\n",
       "    </div>\n",
       "  </div>\n",
       "  "
      ],
      "text/plain": [
       "                                                 content  score  \\\n",
       "27436  i have been using telegram for the past three ...      1   \n",
       "27437  i want to use this app ,but the only problame ...      1   \n",
       "27438  at first it shows connecting all the time if i...      1   \n",
       "27439  i think there are some issues in the latest up...      1   \n",
       "27440  this is the worst experience ever in telegram,...      1   \n",
       "\n",
       "            category                                      content_lemma  \\\n",
       "27436  communication  i have be use telegram for the past three year...   \n",
       "27437  communication  i want to use this app , but the only problame...   \n",
       "27438  communication  at first it show connect all the time if i uni...   \n",
       "27439  communication  i think there be some issue in the late update...   \n",
       "27440  communication  this be the bad experience ever in telegram , ...   \n",
       "\n",
       "                                           content_regex  good  \n",
       "27436  i have be use telegram for the past _one_ year...     0  \n",
       "27437  i want to use this _app_ , but the only probla...     0  \n",
       "27438  at first it show connect all the time if i uni...     0  \n",
       "27439  i think there be some _problem_ in the _last u...     0  \n",
       "27440  this be the bad experience ever in telegram , ...     0  "
      ]
     },
     "metadata": {},
     "output_type": "display_data"
    }
   ],
   "source": [
    "data.head()"
   ]
  },
  {
   "cell_type": "code",
   "execution_count": null,
   "metadata": {
    "colab": {
     "base_uri": "https://localhost:8080/"
    },
    "id": "DRI-dFs3e9W7",
    "outputId": "ffaff517-41d2-453a-dc6b-f142976b2957"
   },
   "outputs": [
    {
     "data": {
      "text/plain": [
       "score\n",
       "1    1904\n",
       "5    1967\n",
       "Name: good, dtype: int64"
      ]
     },
     "metadata": {},
     "output_type": "display_data"
    }
   ],
   "source": [
    "data.groupby('score')['good'].count()"
   ]
  },
  {
   "cell_type": "markdown",
   "metadata": {
    "id": "IoJXRsbKbpvP"
   },
   "source": [
    "### Supervised Model"
   ]
  },
  {
   "cell_type": "markdown",
   "metadata": {
    "id": "EKFGxTaSb5Wp"
   },
   "source": [
    "#### Word Vectorizor - Random forest"
   ]
  },
  {
   "cell_type": "code",
   "execution_count": null,
   "metadata": {
    "id": "eJFjaB84b_MZ"
   },
   "outputs": [],
   "source": [
    "vectorizer = TfidfVectorizer(ngram_range=(1,3),\n",
    "                             stop_words = stopword_list_2,\n",
    "                             token_pattern='(?u)\\\\b[a-zA-Z_]+\\\\b',\n",
    "                             max_features=1000)"
   ]
  },
  {
   "cell_type": "code",
   "execution_count": null,
   "metadata": {
    "colab": {
     "base_uri": "https://localhost:8080/"
    },
    "id": "ExV1vMKotV8X",
    "outputId": "8f14d192-56df-4679-8feb-5eace4f9c862"
   },
   "outputs": [
    {
     "name": "stderr",
     "output_type": "stream",
     "text": [
      "/usr/local/lib/python3.7/dist-packages/sklearn/utils/deprecation.py:87: FutureWarning: Function get_feature_names is deprecated; get_feature_names is deprecated in 1.0 and will be removed in 1.2. Please use get_feature_names_out instead.\n",
      "  warnings.warn(msg, category=FutureWarning)\n"
     ]
    }
   ],
   "source": [
    "\n",
    "X, y = vectorizer.fit_transform(data[\"content_regex\"]), data[\"good\"].values\n",
    "\n",
    "terms = vectorizer.get_feature_names()\n",
    "data_tf_idf = pd.DataFrame(X.toarray(), columns=terms)\n",
    "\n",
    "# train test split\n",
    "from sklearn.model_selection import train_test_split\n",
    "X_train, X_test, y_train, y_test = train_test_split(X, y, test_size=0.2, random_state=0, stratify=y)"
   ]
  },
  {
   "cell_type": "code",
   "execution_count": null,
   "metadata": {
    "id": "tr6R2qEiOQJy"
   },
   "outputs": [],
   "source": [
    "labels = []\n",
    "train_scores = []\n",
    "test_scores = []\n",
    "\n",
    "def clf_score(clf, X, y, label, train_scores, test_scores, cv=10, n_jobs=-1):\n",
    "    from sklearn.model_selection import StratifiedKFold\n",
    "    from sklearn.model_selection import cross_validate\n",
    "    kfolds = StratifiedKFold(n_splits = 10, shuffle = True)\n",
    "    score = cross_validate(clf, X, y, scoring=None, cv=kfolds, n_jobs=n_jobs,\n",
    "                           return_train_score=True, return_estimator=True)\n",
    "    train_scores.append(score['train_score'])\n",
    "    test_scores.append(score['test_score'])\n",
    "    labels.append(label)\n",
    "    print(np.mean(score['train_score']), np.mean(score['test_score']))\n",
    "    rf_cv_df = pd.DataFrame(score['test_score'],score['train_score'])\n",
    "    rf_cv_df"
   ]
  },
  {
   "cell_type": "code",
   "execution_count": null,
   "metadata": {
    "colab": {
     "base_uri": "https://localhost:8080/"
    },
    "id": "ZWnrIc64ORra",
    "outputId": "aacda1b2-07ee-47c6-f97e-41238abcaa7d"
   },
   "outputs": [
    {
     "name": "stdout",
     "output_type": "stream",
     "text": [
      "0.9495106294539362 0.8178760755480965\n"
     ]
    }
   ],
   "source": [
    "from sklearn.ensemble import RandomForestClassifier\n",
    "rf = RandomForestClassifier()\n",
    "clf_score(rf, X, y, 'RF', train_scores, test_scores, n_jobs=-1)"
   ]
  },
  {
   "cell_type": "code",
   "execution_count": null,
   "metadata": {
    "colab": {
     "base_uri": "https://localhost:8080/"
    },
    "id": "LFS37UgsVIRm",
    "outputId": "ddc92c91-c17c-4577-a224-a1df961f2a82"
   },
   "outputs": [
    {
     "data": {
      "text/plain": [
       "RandomForestClassifier()"
      ]
     },
     "metadata": {},
     "output_type": "display_data"
    }
   ],
   "source": [
    "rf.fit(X_train, y_train)"
   ]
  },
  {
   "cell_type": "code",
   "execution_count": null,
   "metadata": {
    "colab": {
     "base_uri": "https://localhost:8080/",
     "height": 279
    },
    "id": "EioWeVzF8PAI",
    "outputId": "dec78421-9cdf-45a6-ea01-c4c4f41abf65"
   },
   "outputs": [
    {
     "data": {
      "image/png": "[encoded data removed]",
      "text/plain": [
       "<Figure size 432x288 with 1 Axes>"
      ]
     },
     "metadata": {},
     "output_type": "display_data"
    }
   ],
   "source": [
    "importances = rf.feature_importances_\n",
    "std = np.std([tree.feature_importances_ for tree in rf.estimators_], axis=0)\n",
    "\n",
    "# get the top 20 important feature\n",
    "import matplotlib.pyplot as plt\n",
    "sorted_idx = rf.feature_importances_.argsort()\n",
    "plt.barh(data_tf_idf.columns[sorted_idx[-20:]], rf.feature_importances_[sorted_idx[-20:]])\n",
    "plt.xlabel(\"Random Forest Feature Importance\")\n",
    "plt.show()"
   ]
  },
  {
   "cell_type": "markdown",
   "metadata": {
    "id": "wk_90PBFb-KR"
   },
   "source": [
    "#### RNN"
   ]
  },
  {
   "cell_type": "code",
   "execution_count": null,
   "metadata": {
    "id": "PPmELGmKJgqb"
   },
   "outputs": [],
   "source": [
    "# !wget https://dso-560-nlp-text-analytics.s3.amazonaws.com/glove6b100dtxt.zip\n",
    "# !unzip glove6b100dtxt.zip "
   ]
  },
  {
   "cell_type": "code",
   "execution_count": null,
   "metadata": {
    "id": "52igP6MU4R4Q"
   },
   "outputs": [],
   "source": [
    "# define the model\n",
    "def make_sequential_model(plot=False):\n",
    "    model = Sequential()\n",
    "    model.add(Embedding(vocab_size, EMBEDDING_SIZE, input_length=max_length))\n",
    "    model.add(Flatten()) # Flatten makes this a (vocab_size x EMBEDDING_SIZE) x 1 vector.\n",
    "    model.add(Dense(1, activation='sigmoid')) \n",
    "    # Compile the model\n",
    "    model.compile(optimizer='adam', loss='binary_crossentropy', metrics=['acc'])\n",
    "    # summarize the model\n",
    "    print(model.summary())\n",
    "    if plot:\n",
    "        plot_model(model, to_file='model.png', show_shapes=True)\n",
    "    return model"
   ]
  },
  {
   "cell_type": "code",
   "execution_count": null,
   "metadata": {
    "id": "0luVzZbz4Wbr"
   },
   "outputs": [],
   "source": [
    "def score(matrix):\n",
    "    precision = np.zeros(2)\n",
    "    recall = np.zeros(2)\n",
    "    for i in range(2):\n",
    "        num = matrix[i][i]\n",
    "        prec_denom = sum(matrix.T[i])\n",
    "        precision[i] = num/prec_denom if prec_denom != 0 else 0\n",
    "        rec_denom = sum(matrix[i])\n",
    "        recall[i] = num/rec_denom if rec_denom != 0 else 0\n",
    "    print(f'Precision: {precision[1]}')\n",
    "    print(f'Recall: {recall[1]}')\n",
    "    print(f'Accuracy: {(matrix[0][0]+matrix[1][1])/matrix.sum()}')"
   ]
  },
  {
   "cell_type": "code",
   "execution_count": null,
   "metadata": {
    "id": "PIAFaMSh4sOc"
   },
   "outputs": [],
   "source": [
    "def integer_encode_documents(docs, tokenizer):\n",
    "    return tokenizer.texts_to_sequences(docs)"
   ]
  },
  {
   "cell_type": "code",
   "execution_count": null,
   "metadata": {
    "id": "cH7ZCW1j4ubF"
   },
   "outputs": [],
   "source": [
    "def get_max_token_length_per_doc(docs: List[List[str]])-> int:\n",
    "    return max(list(map(lambda x: len(x.split()), docs)))"
   ]
  },
  {
   "cell_type": "code",
   "execution_count": null,
   "metadata": {
    "id": "Za3WG36m4ugT"
   },
   "outputs": [],
   "source": [
    "X = data.content_regex\n",
    "y = data.good \n",
    "\n",
    "X_train, X_test, y_train, y_test = train_test_split(X, y, test_size=0.2, random_state=0, stratify=y)\n",
    "\n",
    "# Training Our Own Embeddings\n",
    "EMBEDDING_SIZE = 50\n",
    "\n",
    "tokenizer = Tokenizer(num_words=10000, oov_token=\"UNKNOWN_TOKEN\")\n",
    "tokenizer.fit_on_texts(X_train)\n",
    "\n",
    "# integer encode the documents\n",
    "encoded_docs = integer_encode_documents(X_train, tokenizer)\n",
    "encoded_test_docs = integer_encode_documents(X_test, tokenizer)\n",
    "# get the max length in terms of token length\n",
    "max_length = get_max_token_length_per_doc(X_train)\n",
    "# pad documents to max length\n",
    "padded_docs = pad_sequences(encoded_docs, maxlen=max_length, padding='post')\n",
    "padded_test_docs = pad_sequences(encoded_test_docs, maxlen=max_length, padding='post')\n",
    "# set the vocabulary size to some number that represents the total number of unique words in our vocabulary\n",
    "vocab_size = int(len(tokenizer.word_index) * 1.2)"
   ]
  },
  {
   "cell_type": "code",
   "execution_count": null,
   "metadata": {
    "colab": {
     "base_uri": "https://localhost:8080/"
    },
    "id": "6cckCFYj48IK",
    "outputId": "bd1aad1f-9aff-4fac-90a8-79b1661f8d23"
   },
   "outputs": [
    {
     "name": "stdout",
     "output_type": "stream",
     "text": [
      "Model: \"sequential_13\"\n",
      "_________________________________________________________________\n",
      " Layer (type)                Output Shape              Param #   \n",
      "=================================================================\n",
      " embedding_12 (Embedding)    (None, 232, 50)           306600    \n",
      "                                                                 \n",
      " flatten_7 (Flatten)         (None, 11600)             0         \n",
      "                                                                 \n",
      " dense_15 (Dense)            (None, 1)                 11601     \n",
      "                                                                 \n",
      "=================================================================\n",
      "Total params: 318,201\n",
      "Trainable params: 318,201\n",
      "Non-trainable params: 0\n",
      "_________________________________________________________________\n",
      "None\n",
      "Epoch 1/15\n",
      "97/97 [==============================] - 2s 8ms/step - loss: 0.6557 - acc: 0.6244\n",
      "Epoch 2/15\n",
      "97/97 [==============================] - 1s 9ms/step - loss: 0.4716 - acc: 0.8194\n",
      "Epoch 3/15\n",
      "97/97 [==============================] - 1s 8ms/step - loss: 0.3466 - acc: 0.8769\n",
      "Epoch 4/15\n",
      "97/97 [==============================] - 1s 8ms/step - loss: 0.2834 - acc: 0.9151\n",
      "Epoch 5/15\n",
      "97/97 [==============================] - 1s 8ms/step - loss: 0.2362 - acc: 0.9328\n",
      "Epoch 6/15\n",
      "97/97 [==============================] - 1s 8ms/step - loss: 0.1998 - acc: 0.9438\n",
      "Epoch 7/15\n",
      "97/97 [==============================] - 1s 8ms/step - loss: 0.1694 - acc: 0.9541\n",
      "Epoch 8/15\n",
      "97/97 [==============================] - 1s 9ms/step - loss: 0.1465 - acc: 0.9590\n",
      "Epoch 9/15\n",
      "97/97 [==============================] - 1s 9ms/step - loss: 0.1272 - acc: 0.9661\n",
      "Epoch 10/15\n",
      "97/97 [==============================] - 1s 8ms/step - loss: 0.1142 - acc: 0.9696\n",
      "Epoch 11/15\n",
      "97/97 [==============================] - 1s 8ms/step - loss: 0.1032 - acc: 0.9703\n",
      "Epoch 12/15\n",
      "97/97 [==============================] - 1s 8ms/step - loss: 0.0942 - acc: 0.9745\n",
      "Epoch 13/15\n",
      "97/97 [==============================] - 1s 8ms/step - loss: 0.0869 - acc: 0.9719\n",
      "Epoch 14/15\n",
      "97/97 [==============================] - 1s 8ms/step - loss: 0.0817 - acc: 0.9742\n",
      "Epoch 15/15\n",
      "97/97 [==============================] - 1s 8ms/step - loss: 0.0771 - acc: 0.9755\n",
      "97/97 [==============================] - 0s 3ms/step - loss: 0.0730 - acc: 0.9774\n",
      "Accuracy: 97.739017\n"
     ]
    }
   ],
   "source": [
    "sequential_model = make_sequential_model()\n",
    "# fit the model\n",
    "history = sequential_model.fit(padded_docs, y_train, epochs=15, verbose=1)\n",
    "# evaluate the model\n",
    "loss, accuracy = sequential_model.evaluate(padded_docs, y_train, verbose=1)\n",
    "print('Accuracy: %f' % (accuracy*100))"
   ]
  },
  {
   "cell_type": "code",
   "execution_count": null,
   "metadata": {
    "colab": {
     "base_uri": "https://localhost:8080/"
    },
    "id": "GDTswUwa488e",
    "outputId": "b8f86255-d485-4c6c-ec61-58dd496c58fa"
   },
   "outputs": [
    {
     "name": "stdout",
     "output_type": "stream",
     "text": [
      "Precision: 0.8104738154613467\n",
      "Recall: 0.8248730964467005\n",
      "Accuracy: 0.8129032258064516\n"
     ]
    }
   ],
   "source": [
    "from sklearn.metrics import confusion_matrix\n",
    "\n",
    "# make prediction on the padded test documents\n",
    "pred = sequential_model.predict(padded_test_docs, verbose=0)\n",
    "\n",
    "score(confusion_matrix(y_test.reset_index().good, (pd.DataFrame(pred)[0] > 0.5)))"
   ]
  },
  {
   "cell_type": "markdown",
   "metadata": {
    "id": "A-ta3AKKbypN"
   },
   "source": [
    "### Topic Modeling"
   ]
  },
  {
   "cell_type": "markdown",
   "metadata": {
    "id": "yrCEFjEWc8Sv"
   },
   "source": [
    "#### Good"
   ]
  },
  {
   "cell_type": "code",
   "execution_count": null,
   "metadata": {
    "id": "YV7cvasIfJCy"
   },
   "outputs": [],
   "source": [
    "stopword_list_communication_add=['ever','also','please','rating','star','_good_','five','_like_']\n",
    "stopword_list_communication_good=stopword_list_2+stopword_list_communication_add+['_problem_']"
   ]
  },
  {
   "cell_type": "code",
   "execution_count": null,
   "metadata": {
    "colab": {
     "base_uri": "https://localhost:8080/",
     "height": 314
    },
    "id": "6ZO4yomdb2OU",
    "outputId": "0b3d1a17-2aa2-402e-e067-7ad1210f3a6c"
   },
   "outputs": [
    {
     "name": "stdout",
     "output_type": "stream",
     "text": [
      "gg TF-IDF: (1967, 299)\n"
     ]
    },
    {
     "data": {
      "text/html": [
       "\n",
       "  <div id=\"df-a5a05ff0-d83a-4d92-8617-c2ef09b79634\">\n",
       "    <div class=\"colab-df-container\">\n",
       "      <div>\n",
       "<style scoped>\n",
       "    .dataframe tbody tr th:only-of-type {\n",
       "        vertical-align: middle;\n",
       "    }\n",
       "\n",
       "    .dataframe tbody tr th {\n",
       "        vertical-align: top;\n",
       "    }\n",
       "\n",
       "    .dataframe thead th {\n",
       "        text-align: right;\n",
       "    }\n",
       "</style>\n",
       "<table border=\"1\" class=\"dataframe\">\n",
       "  <thead>\n",
       "    <tr style=\"text-align: right;\">\n",
       "      <th></th>\n",
       "      <th>_last update_</th>\n",
       "      <th>_many_ _many_</th>\n",
       "      <th>_many_ easy</th>\n",
       "      <th>_many_ feature</th>\n",
       "      <th>_many_ friend</th>\n",
       "      <th>_many_ people</th>\n",
       "      <th>_many_ thing</th>\n",
       "      <th>_many_ time</th>\n",
       "      <th>_many_ whatsapp</th>\n",
       "      <th>_many_ year</th>\n",
       "      <th>...</th>\n",
       "      <th>whatsapp _many_</th>\n",
       "      <th>whatsapp feature</th>\n",
       "      <th>whatsapp messenger</th>\n",
       "      <th>whatsapp no</th>\n",
       "      <th>whatsapp status</th>\n",
       "      <th>whenever try</th>\n",
       "      <th>wo n</th>\n",
       "      <th>wonderful experience</th>\n",
       "      <th>work fine</th>\n",
       "      <th>work properly</th>\n",
       "    </tr>\n",
       "  </thead>\n",
       "  <tbody>\n",
       "    <tr>\n",
       "      <th>0</th>\n",
       "      <td>0.0</td>\n",
       "      <td>0.0</td>\n",
       "      <td>0.0</td>\n",
       "      <td>0.0</td>\n",
       "      <td>0.0</td>\n",
       "      <td>0.0</td>\n",
       "      <td>0.0</td>\n",
       "      <td>0.0</td>\n",
       "      <td>0.0</td>\n",
       "      <td>0.0</td>\n",
       "      <td>...</td>\n",
       "      <td>0.0</td>\n",
       "      <td>0.0</td>\n",
       "      <td>0.0</td>\n",
       "      <td>0.000000</td>\n",
       "      <td>0.0</td>\n",
       "      <td>0.0</td>\n",
       "      <td>0.0</td>\n",
       "      <td>0.0</td>\n",
       "      <td>0.0</td>\n",
       "      <td>0.0</td>\n",
       "    </tr>\n",
       "    <tr>\n",
       "      <th>1</th>\n",
       "      <td>0.0</td>\n",
       "      <td>0.0</td>\n",
       "      <td>0.0</td>\n",
       "      <td>0.0</td>\n",
       "      <td>0.0</td>\n",
       "      <td>0.0</td>\n",
       "      <td>0.0</td>\n",
       "      <td>0.0</td>\n",
       "      <td>0.0</td>\n",
       "      <td>0.0</td>\n",
       "      <td>...</td>\n",
       "      <td>0.0</td>\n",
       "      <td>0.0</td>\n",
       "      <td>0.0</td>\n",
       "      <td>0.752767</td>\n",
       "      <td>0.0</td>\n",
       "      <td>0.0</td>\n",
       "      <td>0.0</td>\n",
       "      <td>0.0</td>\n",
       "      <td>0.0</td>\n",
       "      <td>0.0</td>\n",
       "    </tr>\n",
       "    <tr>\n",
       "      <th>2</th>\n",
       "      <td>0.0</td>\n",
       "      <td>0.0</td>\n",
       "      <td>0.0</td>\n",
       "      <td>0.0</td>\n",
       "      <td>0.0</td>\n",
       "      <td>0.0</td>\n",
       "      <td>0.0</td>\n",
       "      <td>0.0</td>\n",
       "      <td>0.0</td>\n",
       "      <td>0.0</td>\n",
       "      <td>...</td>\n",
       "      <td>0.0</td>\n",
       "      <td>0.0</td>\n",
       "      <td>0.0</td>\n",
       "      <td>0.000000</td>\n",
       "      <td>0.0</td>\n",
       "      <td>0.0</td>\n",
       "      <td>0.0</td>\n",
       "      <td>0.0</td>\n",
       "      <td>0.0</td>\n",
       "      <td>0.0</td>\n",
       "    </tr>\n",
       "    <tr>\n",
       "      <th>3</th>\n",
       "      <td>0.0</td>\n",
       "      <td>0.0</td>\n",
       "      <td>0.0</td>\n",
       "      <td>0.0</td>\n",
       "      <td>0.0</td>\n",
       "      <td>0.0</td>\n",
       "      <td>0.0</td>\n",
       "      <td>0.0</td>\n",
       "      <td>0.0</td>\n",
       "      <td>0.0</td>\n",
       "      <td>...</td>\n",
       "      <td>0.0</td>\n",
       "      <td>0.0</td>\n",
       "      <td>0.0</td>\n",
       "      <td>0.000000</td>\n",
       "      <td>0.0</td>\n",
       "      <td>0.0</td>\n",
       "      <td>0.0</td>\n",
       "      <td>0.0</td>\n",
       "      <td>0.0</td>\n",
       "      <td>0.0</td>\n",
       "    </tr>\n",
       "    <tr>\n",
       "      <th>4</th>\n",
       "      <td>0.0</td>\n",
       "      <td>0.0</td>\n",
       "      <td>0.0</td>\n",
       "      <td>0.0</td>\n",
       "      <td>0.0</td>\n",
       "      <td>0.0</td>\n",
       "      <td>0.0</td>\n",
       "      <td>0.0</td>\n",
       "      <td>0.0</td>\n",
       "      <td>0.0</td>\n",
       "      <td>...</td>\n",
       "      <td>0.0</td>\n",
       "      <td>0.0</td>\n",
       "      <td>0.0</td>\n",
       "      <td>0.000000</td>\n",
       "      <td>0.0</td>\n",
       "      <td>0.0</td>\n",
       "      <td>0.0</td>\n",
       "      <td>0.0</td>\n",
       "      <td>0.0</td>\n",
       "      <td>0.0</td>\n",
       "    </tr>\n",
       "  </tbody>\n",
       "</table>\n",
       "<p>5 rows × 299 columns</p>\n",
       "</div>\n",
       "      <button class=\"colab-df-convert\" onclick=\"convertToInteractive('df-a5a05ff0-d83a-4d92-8617-c2ef09b79634')\"\n",
       "              title=\"Convert this dataframe to an interactive table.\"\n",
       "              style=\"display:none;\">\n",
       "        \n",
       "  <svg xmlns=\"http://www.w3.org/2000/svg\" height=\"24px\"viewBox=\"0 0 24 24\"\n",
       "       width=\"24px\">\n",
       "    <path d=\"M0 0h24v24H0V0z\" fill=\"none\"/>\n",
       "    <path d=\"M18.56 5.44l.94 2.06.94-2.06 2.06-.94-2.06-.94-.94-2.06-.94 2.06-2.06.94zm-11 1L8.5 8.5l.94-2.06 2.06-.94-2.06-.94L8.5 2.5l-.94 2.06-2.06.94zm10 10l.94 2.06.94-2.06 2.06-.94-2.06-.94-.94-2.06-.94 2.06-2.06.94z\"/><path d=\"M17.41 7.96l-1.37-1.37c-.4-.4-.92-.59-1.43-.59-.52 0-1.04.2-1.43.59L10.3 9.45l-7.72 7.72c-.78.78-.78 2.05 0 2.83L4 21.41c.39.39.9.59 1.41.59.51 0 1.02-.2 1.41-.59l7.78-7.78 2.81-2.81c.8-.78.8-2.07 0-2.86zM5.41 20L4 18.59l7.72-7.72 1.47 1.35L5.41 20z\"/>\n",
       "  </svg>\n",
       "      </button>\n",
       "      \n",
       "  <style>\n",
       "    .colab-df-container {\n",
       "      display:flex;\n",
       "      flex-wrap:wrap;\n",
       "      gap: 12px;\n",
       "    }\n",
       "\n",
       "    .colab-df-convert {\n",
       "      background-color: #E8F0FE;\n",
       "      border: none;\n",
       "      border-radius: 50%;\n",
       "      cursor: pointer;\n",
       "      display: none;\n",
       "      fill: #1967D2;\n",
       "      height: 32px;\n",
       "      padding: 0 0 0 0;\n",
       "      width: 32px;\n",
       "    }\n",
       "\n",
       "    .colab-df-convert:hover {\n",
       "      background-color: #E2EBFA;\n",
       "      box-shadow: 0px 1px 2px rgba(60, 64, 67, 0.3), 0px 1px 3px 1px rgba(60, 64, 67, 0.15);\n",
       "      fill: #174EA6;\n",
       "    }\n",
       "\n",
       "    [theme=dark] .colab-df-convert {\n",
       "      background-color: #3B4455;\n",
       "      fill: #D2E3FC;\n",
       "    }\n",
       "\n",
       "    [theme=dark] .colab-df-convert:hover {\n",
       "      background-color: #434B5C;\n",
       "      box-shadow: 0px 1px 3px 1px rgba(0, 0, 0, 0.15);\n",
       "      filter: drop-shadow(0px 1px 2px rgba(0, 0, 0, 0.3));\n",
       "      fill: #FFFFFF;\n",
       "    }\n",
       "  </style>\n",
       "\n",
       "      <script>\n",
       "        const buttonEl =\n",
       "          document.querySelector('#df-a5a05ff0-d83a-4d92-8617-c2ef09b79634 button.colab-df-convert');\n",
       "        buttonEl.style.display =\n",
       "          google.colab.kernel.accessAllowed ? 'block' : 'none';\n",
       "\n",
       "        async function convertToInteractive(key) {\n",
       "          const element = document.querySelector('#df-a5a05ff0-d83a-4d92-8617-c2ef09b79634');\n",
       "          const dataTable =\n",
       "            await google.colab.kernel.invokeFunction('convertToInteractive',\n",
       "                                                     [key], {});\n",
       "          if (!dataTable) return;\n",
       "\n",
       "          const docLinkHtml = 'Like what you see? Visit the ' +\n",
       "            '<a target=\"_blank\" href=https://colab.research.google.com/notebooks/data_table.ipynb>data table notebook</a>'\n",
       "            + ' to learn more about interactive tables.';\n",
       "          element.innerHTML = '';\n",
       "          dataTable['output_type'] = 'display_data';\n",
       "          await google.colab.output.renderOutput(dataTable, element);\n",
       "          const docLink = document.createElement('div');\n",
       "          docLink.innerHTML = docLinkHtml;\n",
       "          element.appendChild(docLink);\n",
       "        }\n",
       "      </script>\n",
       "    </div>\n",
       "  </div>\n",
       "  "
      ],
      "text/plain": [
       "   _last update_  _many_ _many_  _many_ easy  _many_ feature  _many_ friend  \\\n",
       "0            0.0            0.0          0.0             0.0            0.0   \n",
       "1            0.0            0.0          0.0             0.0            0.0   \n",
       "2            0.0            0.0          0.0             0.0            0.0   \n",
       "3            0.0            0.0          0.0             0.0            0.0   \n",
       "4            0.0            0.0          0.0             0.0            0.0   \n",
       "\n",
       "   _many_ people  _many_ thing  _many_ time  _many_ whatsapp  _many_ year  \\\n",
       "0            0.0           0.0          0.0              0.0          0.0   \n",
       "1            0.0           0.0          0.0              0.0          0.0   \n",
       "2            0.0           0.0          0.0              0.0          0.0   \n",
       "3            0.0           0.0          0.0              0.0          0.0   \n",
       "4            0.0           0.0          0.0              0.0          0.0   \n",
       "\n",
       "   ...  whatsapp _many_  whatsapp feature  whatsapp messenger  whatsapp no  \\\n",
       "0  ...              0.0               0.0                 0.0     0.000000   \n",
       "1  ...              0.0               0.0                 0.0     0.752767   \n",
       "2  ...              0.0               0.0                 0.0     0.000000   \n",
       "3  ...              0.0               0.0                 0.0     0.000000   \n",
       "4  ...              0.0               0.0                 0.0     0.000000   \n",
       "\n",
       "   whatsapp status  whenever try  wo n  wonderful experience  work fine  \\\n",
       "0              0.0           0.0   0.0                   0.0        0.0   \n",
       "1              0.0           0.0   0.0                   0.0        0.0   \n",
       "2              0.0           0.0   0.0                   0.0        0.0   \n",
       "3              0.0           0.0   0.0                   0.0        0.0   \n",
       "4              0.0           0.0   0.0                   0.0        0.0   \n",
       "\n",
       "   work properly  \n",
       "0            0.0  \n",
       "1            0.0  \n",
       "2            0.0  \n",
       "3            0.0  \n",
       "4            0.0  \n",
       "\n",
       "[5 rows x 299 columns]"
      ]
     },
     "metadata": {},
     "output_type": "display_data"
    }
   ],
   "source": [
    "# Vectorize The Corpus\n",
    "data_good = data.loc[data['good']==1, :]\n",
    "vectorizer = TfidfVectorizer(ngram_range=(2,3),\n",
    "                             stop_words=stopword_list_communication_good,\n",
    "                             token_pattern='(?u)\\\\b[a-zA-Z_]+\\\\b',min_df=4)\n",
    "\n",
    "X_gg, gg_terms = vectorizer.fit_transform(data_good['content_regex']), vectorizer.get_feature_names_out()\n",
    "\n",
    "gg_tf_idf = pd.DataFrame(X_gg.toarray(), columns=gg_terms)\n",
    "\n",
    "print(f\"gg TF-IDF: {gg_tf_idf.shape}\")\n",
    "gg_tf_idf.head(5)"
   ]
  },
  {
   "cell_type": "code",
   "execution_count": null,
   "metadata": {
    "colab": {
     "base_uri": "https://localhost:8080/"
    },
    "id": "-eC61zoUY462",
    "outputId": "caa9d42b-72fe-4f38-8e9a-fb85e6d8e2a8"
   },
   "outputs": [
    {
     "name": "stdout",
     "output_type": "stream",
     "text": [
      "Original shape of X_gg is (1967, 299)\n",
      "Decomposed W_gg matrix is (1967, 5)\n",
      "Decomposed H_gg matrix is (5, 299)\n"
     ]
    },
    {
     "name": "stderr",
     "output_type": "stream",
     "text": [
      "/usr/local/lib/python3.7/dist-packages/sklearn/decomposition/_nmf.py:294: FutureWarning: The 'init' value, when 'init=None' and n_components is less than n_samples and n_features, will be changed from 'nndsvd' to 'nndsvda' in 1.1 (renaming of 0.26).\n",
      "  FutureWarning,\n"
     ]
    }
   ],
   "source": [
    "# Fit NMF model\n",
    "from sklearn.decomposition import NMF\n",
    "nmf = NMF(n_components=5)\n",
    "W_gg = nmf.fit_transform(X_gg)\n",
    "H_gg = nmf.components_\n",
    "print(f\"Original shape of X_gg is {X_gg.shape}\")\n",
    "print(f\"Decomposed W_gg matrix is {W_gg.shape}\")\n",
    "print(f\"Decomposed H_gg matrix is {H_gg.shape}\")"
   ]
  },
  {
   "cell_type": "code",
   "execution_count": null,
   "metadata": {
    "colab": {
     "base_uri": "https://localhost:8080/"
    },
    "id": "TebTvQkoZPeU",
    "outputId": "8df74705-d0de-4b12-b8b4-745b4c2d2487"
   },
   "outputs": [
    {
     "name": "stdout",
     "output_type": "stream",
     "text": [
      "TOPIC 0\n",
      "\n",
      "\beasy use (56.5%)\n",
      "\n",
      "\bstatus option (2.1%)\n",
      "\n",
      "\buse _one_ (1.5%)\n",
      "\n",
      "\bfriend use (1.3%)\n",
      "\n",
      "\bwan na (1.2%)\n",
      "\n",
      "\bsuper easy (1.2%)\n",
      "\n",
      "\buse happy (1.2%)\n",
      "\n",
      "\bfeature easy (1.2%)\n",
      "\n",
      "\buse _many_ (1.2%)\n",
      "\n",
      "\buse easy (0.9%)\n",
      "\n",
      "==================================================\n",
      "TOPIC 1\n",
      "\n",
      "\bvideo call (29.1%)\n",
      "\n",
      "\bcall video (3.3%)\n",
      "\n",
      "\bcall video call (3.1%)\n",
      "\n",
      "\bcall quality (3.0%)\n",
      "\n",
      "\bvoice call (2.5%)\n",
      "\n",
      "\bvideo call quality (2.5%)\n",
      "\n",
      "\bmessage call (1.9%)\n",
      "\n",
      "\bgroup video (1.6%)\n",
      "\n",
      "\bgroup video call (1.6%)\n",
      "\n",
      "\bfriend family (1.5%)\n",
      "\n",
      "==================================================\n",
      "TOPIC 2\n",
      "\n",
      "\bsend message (36.4%)\n",
      "\n",
      "\blast see (4.1%)\n",
      "\n",
      "\badd feature (3.3%)\n",
      "\n",
      "\bcan_not send (3.0%)\n",
      "\n",
      "\bmessage friend (2.7%)\n",
      "\n",
      "\b_one_ thing (2.0%)\n",
      "\n",
      "\boption whatsapp (2.0%)\n",
      "\n",
      "\bupdate fix (1.9%)\n",
      "\n",
      "\bmessage get (1.8%)\n",
      "\n",
      "\b_one_ _one_ (1.7%)\n",
      "\n",
      "==================================================\n",
      "TOPIC 3\n",
      "\n",
      "\b_last update_ (36.8%)\n",
      "\n",
      "\bdoes_not work (5.6%)\n",
      "\n",
      "\bstop work (5.2%)\n",
      "\n",
      "\bthank _many_ (4.3%)\n",
      "\n",
      "\blong time (3.4%)\n",
      "\n",
      "\bcan_not see (3.0%)\n",
      "\n",
      "\bwork properly (2.9%)\n",
      "\n",
      "\buse daily (2.2%)\n",
      "\n",
      "\bwo n (2.1%)\n",
      "\n",
      "\bdo_not know (2.0%)\n",
      "\n",
      "==================================================\n",
      "TOPIC 4\n",
      "\n",
      "\b_phone_ number (23.2%)\n",
      "\n",
      "\buser friendly (20.4%)\n",
      "\n",
      "\badd feature (4.0%)\n",
      "\n",
      "\bfamily friend (2.2%)\n",
      "\n",
      "\bdo_not need (2.1%)\n",
      "\n",
      "\bgroup chat (2.0%)\n",
      "\n",
      "\blong time (1.9%)\n",
      "\n",
      "\bway get (1.5%)\n",
      "\n",
      "\bnot able (1.5%)\n",
      "\n",
      "\bnew feature (1.3%)\n",
      "\n",
      "==================================================\n",
      "Topic 0\n",
      "100.0% assalamualykum everyone, this is the best app , i like it , it provide all the facalities we need , no error occurs and easy to use .\n",
      "100.0% it's an easy app to use\n",
      "100.0% easy to use.\n",
      "100.0% very easy to use and efficient\n",
      "100.0% easy to use and clear.\n",
      "100.0% excellent communication. easy to use\n",
      "100.0% great app. easy to use.\n",
      "100.0% very comfortable and easy to use\n",
      "100.0% one of the best messaging software that is easy to use, portable, and an amazing ui! it has kept me hooked for more than 3 years. absolutely worth spending your time. 5/5\n",
      "100.0% very nice app. easy to use. lot of emoji and gifs to show expressions. now gifs are_not working. why?\n",
      "==================================================\n",
      "Topic 1\n",
      "100.0% well, the new beta update is awesome....but there are bugs which needs to be fixed.... *bugs list* 1) we can_not se others video when video calling from windows whatsapp. 2) sometimes it shows white screen when opening whatsapp in windows. *feature need to be added* 1) we can only recieve notifications from whatsapp windows when it is opened....you should bring an option to run whatsapp in background...so that it is easy for productivity... thankyou\n",
      "100.0% hi buddy, it's really good conversation app :) we are enjoying the video call with this... we noticed some inconvenience in this app & web app. while user a call me with via web app. but i installed in laptop & also mobile. at the same time both the calls are showing. can you please explain this functional or fixed this problem!!!? i hope you understand...!! thank you :)\n",
      "100.0% this is wonderful app for video call. i like the themes given in it. if someone has problem downloading the app use old simcard it will help you.\n",
      "100.0% this application is too good .the video calling is hd and the voice is hd toooo soo we can take a too good experience of talking face to face .it have different types of stickers games and much more..so we never go boring while talking ..thanks alot line\n",
      "100.0% nice and clear video call and adio calls. good.\n",
      "100.0% so far my experience with this app has been good. however, i do have to provide feedback regarding restoration of screen during a video call. the issue that i faced multiple times is when i'm on a video call and the wifi cuts out and is restored, i do_not see myself on the small screen and the screen is frozen saying \"network fail\" but the person i'm talking to can see me and hear me. this is the only issue i face with signal.\n",
      "100.0% hello, i see that skype is alredy installed on my laptop,but am not sure on my smartphone too or not? then why do i have always problems for video call? what shall i still do? i have only google account, is that a hinderness? thanks omid naami, hamburg/germany.\n",
      "100.0% thanks skype, for accepting my request that i have told to give an update of showing the names those who are kicking anyone or muting anyone. i am happy with it and i will also prefer others that to use this app but please do_not break the faith of us that is on you. as other online video call apps are doing so. i like this app and i am giving 5 stars for it. \n",
      "100.0% better than whatsapp or duo. can run on pc/laptop. also lot of other features like desktop sharing during video calls and automated subtitles for talking with a foreigner. best part is it consumes very less data and runs with slow internet too. awesome!\n",
      "100.0% i really enjoy bip messaging but the broblem is video call. i did_not really enjoy it.\n",
      "==================================================\n",
      "Topic 2\n",
      "100.0% very nice app. you can do all sorts of things to it 1. if you send a message accidentally you can delete it for you and the other person 2. if there is a typing error you can edit it. 3. you can create a poll if you are interacting with students.\n",
      "100.0% anyone wanted to send me a message, let's talk.ig: jeon yuna a girl's profile photo its color is purple\n",
      "100.0% an extremely good application for sending messages to people. i could_not rate it more.\n",
      "100.0% i like line app....but sometime the server need more delay for sending messages compare to other apps..so please try to solve that issue\n",
      "100.0% skype is amazing it litterery calls and sends the message\n",
      "100.0% i cant send messages. why?!!!!????\n",
      "100.0% sure i get having to update to send messages but imagine youre getting violated and cant send a message to get help\n",
      "100.0% whatsapp is very useful but you have to open each group and use only admins to send messages . it will be very useful if we can enable only admins can send messages in multiple groups at a time by one or two clicks .\n",
      "99.2% using is perfect . but but complaint . no seen on last seen or online 2 eny future as not available 3 no faster send messages\n",
      "89.7% very good app! but there is_not option to change who can sent messages in group only me | people you choose | only admins | all participants who can change grup icons only me | people you choose | only admins | all participants who can change groups name only me | people you choose | only admins| all participants please add these features!\n",
      "==================================================\n",
      "Topic 3\n",
      "100.0% the new update made the discord so unstable and laggy\n",
      "100.0% the app is so good but after the latest update their is so much connecting issue please do something i can_not log in.\n",
      "100.0% after last update, delivering of the message notifications are_not working anymore. i have to manually check app to see if there is any new message. last evening i missed over 20 messages because notifications were_not sent. this bug makes this app pointless.\n",
      "100.0% awesome!!! but i think i lost that option to turn on my flash light in the front with the new update please put it back in\n",
      "100.0% after the most recent update there has been a problem with app notifications. they do_not show on the home screen drop down page anymore and therefore i cannot track my conversations anymore. plz resolve it.\n",
      "100.0% after the new update duration of time has reduced from 30 seconds to 15 seconds. it is_not good you should increase it back to 30 seconds then i wil rate 5 stars\n",
      "95.0% good app ,but the last update is_not good because it takes a long time when you open it, and i do_not receive the notifications of messages if i do_not open the app .\n",
      "100.0% love viber but the tenor gifs stopped working recently. there is nothing there. giphy is gone. i think it happened in the latest update possibly. can you help?\n",
      "100.0% there is some problem with the new update. when we make quiz we put the link to our channel or group in the description of the quiz. but after the update that description link has stopped working. plz fix that ...... otherwise it is amazing......better than whatsapp actually.\n",
      "66.2% best app ever. how can i set to have the video active while on lock screen. before the latest update i it was still ok. now it does_not work anymore. installed it on samsung galaxy s21 ultra and drains my battery super fast. it heats up my phone during video calls at a very short period of time. i'm so disappointed.\n",
      "==================================================\n",
      "Topic 4\n",
      "100.0% user friendly app. has stickers and all features and the best part is that we do_not need to share our phone number... line id is enough\n",
      "100.0% hello,i am zack and i would like to say that whenever i am putting my phone number and i click yes it shows connecting but it never connects. please fix that\n",
      "100.0% great app for paid calls intentionally. cheap and good quality. buying skype credits can be confusing, especially when trying to buy a subscription for the phone number, versus paying for that call time.\n",
      "100.0% can_not verify my phone number after using the same number for years. getting error message saying \"invalid phone number\" help me resolving the issue asap.\n",
      "100.0% the best!!! you can talk worldwide an call without a phone number which allowed me to do so much! it is completely child friendly and even has settings base don your age for who you are talking to to keep you and everyone safe. all my friends in my class and grade use it and 3/4 of my school does aswell. great app and for the parents who think its inappropriate, i feel you but trust me it's safe and awesome!!!\n",
      "100.0% service is very important but whatsapp not properly respond on my cell phone number from some time. please rectify this situation, thanks.\n",
      "100.0% neat & clean and above all very simple interface. love this fact that skype does_not insist you give your phone number. it is a great respect to privacy of the user. thanks microsoft. highly impressed.\n",
      "100.0% works great, and has open source client and servers so that's nice! the only issue i have is they require a phone number to use it, and you can only contact others with it if you have their number. (i think they said they are implementing a username system in the future, but do_not quote me on that.)\n",
      "78.7% add this features too •create an account without phone number(optional). phone number is linked social id,election id. it's not practical for social workers, protesters, journalist to use their main number with social chat account. •chat without internet(blackout) using wifi,hotspot, bluetooth (nearby chat). ex. police file fir againt protesters using their phone number. •status feature for my contact or specific people. •api to send message directly without saving the phone number.\n",
      "100.0% i am facing a problem when i try to put my phone number it keep connecting and not confirming my phone number\n",
      "==================================================\n"
     ]
    }
   ],
   "source": [
    "# Report Results For Each Topic\n",
    "def get_top_tf_idf_tokens_for_topic(H: np.array, feature_names: List[str], num_top_tokens: int = 5):\n",
    "    \"\"\"\n",
    "    Uses the H matrix (K components x M original features) to identify for each\n",
    "    topic the most frequent tokens.\n",
    "    \"\"\"\n",
    "    for topic, vector in enumerate(H):\n",
    "        print(f\"TOPIC {topic}\\n\")\n",
    "        total = vector.sum()\n",
    "        top_scores = vector.argsort()[::-1][:num_top_tokens]\n",
    "        token_names = list(map(lambda idx: feature_names[idx], top_scores))\n",
    "        strengths = list(map(lambda idx: vector[idx] / total, top_scores))\n",
    "      \n",
    "        for strength, token_name in zip(strengths, token_names):\n",
    "            print(f\"\\b{token_name} ({round(strength * 100, 1)}%)\\n\")\n",
    "        print(f\"=\" * 50)\n",
    "# Get the Top Documents For Each Topic\n",
    "def get_top_documents_for_each_topic(W: np.array, documents: List[str], num_docs: int = 5):\n",
    "    sorted_docs = W.argsort(axis=0)[::-1]\n",
    "    top_docs = sorted_docs[:num_docs].T\n",
    "    per_document_totals = W.sum(axis=1)\n",
    "    for topic, top_documents_for_topic in enumerate(top_docs):\n",
    "        print(f\"Topic {topic}\")\n",
    "        for doc in top_documents_for_topic:\n",
    "            score = W[doc][topic]\n",
    "            percent_about_topic = round(score / per_document_totals[doc] * 100, 1)\n",
    "            print(f\"{percent_about_topic}%\", documents[doc])\n",
    "        print(\"=\" * 50)\n",
    "\n",
    "\n",
    "get_top_tf_idf_tokens_for_topic(H_gg, gg_tf_idf.columns.tolist(), 10)\n",
    "get_top_documents_for_each_topic(W_gg, data_good['content'].tolist(), 10)"
   ]
  },
  {
   "cell_type": "markdown",
   "metadata": {
    "id": "2s45QXwZdQZf"
   },
   "source": [
    "#### Poor"
   ]
  },
  {
   "cell_type": "code",
   "execution_count": null,
   "metadata": {
    "id": "k1h54pt4u4E0"
   },
   "outputs": [],
   "source": [
    "data_poor = data.loc[data['good']==0, :]"
   ]
  },
  {
   "cell_type": "code",
   "execution_count": null,
   "metadata": {
    "colab": {
     "base_uri": "https://localhost:8080/"
    },
    "id": "G_ayK3QAufzy",
    "outputId": "985de112-8ca9-47ea-b478-8975fdd4c950"
   },
   "outputs": [
    {
     "name": "stderr",
     "output_type": "stream",
     "text": [
      "/usr/local/lib/python3.7/dist-packages/ipykernel_launcher.py:1: FutureWarning: The default value of regex will change from True to False in a future version.\n",
      "  \"\"\"Entry point for launching an IPython kernel.\n",
      "/usr/local/lib/python3.7/dist-packages/ipykernel_launcher.py:1: SettingWithCopyWarning: \n",
      "A value is trying to be set on a copy of a slice from a DataFrame.\n",
      "Try using .loc[row_indexer,col_indexer] = value instead\n",
      "\n",
      "See the caveats in the documentation: https://pandas.pydata.org/pandas-docs/stable/user_guide/indexing.html#returning-a-view-versus-a-copy\n",
      "  \"\"\"Entry point for launching an IPython kernel.\n"
     ]
    }
   ],
   "source": [
    "data_poor['content_regex'] = data_poor['content_regex'].str.replace(r'\\b(((should|has|have|did|do|does|is|are|was|were|could|must)_)?not work\\s?(properly)?)\\b','_problem_',case=False)"
   ]
  },
  {
   "cell_type": "code",
   "execution_count": null,
   "metadata": {
    "id": "1BS_XyOkup6-"
   },
   "outputs": [],
   "source": [
    "stopword_list_communication_bad=stopword_list_2+stopword_list_communication_add+['_problem_']"
   ]
  },
  {
   "cell_type": "code",
   "execution_count": null,
   "metadata": {
    "colab": {
     "base_uri": "https://localhost:8080/",
     "height": 314
    },
    "id": "M9Jxb70MdSc8",
    "outputId": "acda801e-d08e-45f3-862b-7374f9f27194"
   },
   "outputs": [
    {
     "name": "stdout",
     "output_type": "stream",
     "text": [
      "gg TF-IDF: (1904, 461)\n"
     ]
    },
    {
     "data": {
      "text/html": [
       "\n",
       "  <div id=\"df-49aada34-cc9d-41d7-aae1-2c3b6642f54c\">\n",
       "    <div class=\"colab-df-container\">\n",
       "      <div>\n",
       "<style scoped>\n",
       "    .dataframe tbody tr th:only-of-type {\n",
       "        vertical-align: middle;\n",
       "    }\n",
       "\n",
       "    .dataframe tbody tr th {\n",
       "        vertical-align: top;\n",
       "    }\n",
       "\n",
       "    .dataframe thead th {\n",
       "        text-align: right;\n",
       "    }\n",
       "</style>\n",
       "<table border=\"1\" class=\"dataframe\">\n",
       "  <thead>\n",
       "    <tr style=\"text-align: right;\">\n",
       "      <th></th>\n",
       "      <th>_last update_</th>\n",
       "      <th>_like_ whatsapp</th>\n",
       "      <th>_many_ feature</th>\n",
       "      <th>_many_ time</th>\n",
       "      <th>_one_ _phone_</th>\n",
       "      <th>_one_ day</th>\n",
       "      <th>_phone_ call</th>\n",
       "      <th>_phone_ no</th>\n",
       "      <th>_phone_ number</th>\n",
       "      <th>able join</th>\n",
       "      <th>...</th>\n",
       "      <th>whenever open</th>\n",
       "      <th>whenever try</th>\n",
       "      <th>wish could</th>\n",
       "      <th>without reason</th>\n",
       "      <th>wo n</th>\n",
       "      <th>wo n let</th>\n",
       "      <th>wont let</th>\n",
       "      <th>work fine</th>\n",
       "      <th>work properly</th>\n",
       "      <th>year ago</th>\n",
       "    </tr>\n",
       "  </thead>\n",
       "  <tbody>\n",
       "    <tr>\n",
       "      <th>0</th>\n",
       "      <td>0.00000</td>\n",
       "      <td>0.0</td>\n",
       "      <td>0.0</td>\n",
       "      <td>0.0</td>\n",
       "      <td>0.0</td>\n",
       "      <td>0.0</td>\n",
       "      <td>0.0</td>\n",
       "      <td>0.0</td>\n",
       "      <td>0.0</td>\n",
       "      <td>0.0</td>\n",
       "      <td>...</td>\n",
       "      <td>0.0</td>\n",
       "      <td>0.0</td>\n",
       "      <td>0.0</td>\n",
       "      <td>0.0</td>\n",
       "      <td>0.0</td>\n",
       "      <td>0.0</td>\n",
       "      <td>0.0</td>\n",
       "      <td>0.0</td>\n",
       "      <td>0.0</td>\n",
       "      <td>0.0</td>\n",
       "    </tr>\n",
       "    <tr>\n",
       "      <th>1</th>\n",
       "      <td>0.00000</td>\n",
       "      <td>0.0</td>\n",
       "      <td>0.0</td>\n",
       "      <td>0.0</td>\n",
       "      <td>0.0</td>\n",
       "      <td>0.0</td>\n",
       "      <td>0.0</td>\n",
       "      <td>0.0</td>\n",
       "      <td>0.0</td>\n",
       "      <td>0.0</td>\n",
       "      <td>...</td>\n",
       "      <td>0.0</td>\n",
       "      <td>0.0</td>\n",
       "      <td>0.0</td>\n",
       "      <td>0.0</td>\n",
       "      <td>0.0</td>\n",
       "      <td>0.0</td>\n",
       "      <td>0.0</td>\n",
       "      <td>0.0</td>\n",
       "      <td>0.0</td>\n",
       "      <td>0.0</td>\n",
       "    </tr>\n",
       "    <tr>\n",
       "      <th>2</th>\n",
       "      <td>0.00000</td>\n",
       "      <td>0.0</td>\n",
       "      <td>0.0</td>\n",
       "      <td>0.0</td>\n",
       "      <td>0.0</td>\n",
       "      <td>0.0</td>\n",
       "      <td>0.0</td>\n",
       "      <td>0.0</td>\n",
       "      <td>0.0</td>\n",
       "      <td>0.0</td>\n",
       "      <td>...</td>\n",
       "      <td>0.0</td>\n",
       "      <td>0.0</td>\n",
       "      <td>0.0</td>\n",
       "      <td>0.0</td>\n",
       "      <td>0.0</td>\n",
       "      <td>0.0</td>\n",
       "      <td>0.0</td>\n",
       "      <td>0.0</td>\n",
       "      <td>0.0</td>\n",
       "      <td>0.0</td>\n",
       "    </tr>\n",
       "    <tr>\n",
       "      <th>3</th>\n",
       "      <td>0.43794</td>\n",
       "      <td>0.0</td>\n",
       "      <td>0.0</td>\n",
       "      <td>0.0</td>\n",
       "      <td>0.0</td>\n",
       "      <td>0.0</td>\n",
       "      <td>0.0</td>\n",
       "      <td>0.0</td>\n",
       "      <td>0.0</td>\n",
       "      <td>0.0</td>\n",
       "      <td>...</td>\n",
       "      <td>0.0</td>\n",
       "      <td>0.0</td>\n",
       "      <td>0.0</td>\n",
       "      <td>0.0</td>\n",
       "      <td>0.0</td>\n",
       "      <td>0.0</td>\n",
       "      <td>0.0</td>\n",
       "      <td>0.0</td>\n",
       "      <td>0.0</td>\n",
       "      <td>0.0</td>\n",
       "    </tr>\n",
       "    <tr>\n",
       "      <th>4</th>\n",
       "      <td>0.00000</td>\n",
       "      <td>0.0</td>\n",
       "      <td>0.0</td>\n",
       "      <td>0.0</td>\n",
       "      <td>0.0</td>\n",
       "      <td>0.0</td>\n",
       "      <td>0.0</td>\n",
       "      <td>0.0</td>\n",
       "      <td>0.0</td>\n",
       "      <td>0.0</td>\n",
       "      <td>...</td>\n",
       "      <td>0.0</td>\n",
       "      <td>0.0</td>\n",
       "      <td>0.0</td>\n",
       "      <td>0.0</td>\n",
       "      <td>0.0</td>\n",
       "      <td>0.0</td>\n",
       "      <td>0.0</td>\n",
       "      <td>0.0</td>\n",
       "      <td>0.0</td>\n",
       "      <td>0.0</td>\n",
       "    </tr>\n",
       "  </tbody>\n",
       "</table>\n",
       "<p>5 rows × 461 columns</p>\n",
       "</div>\n",
       "      <button class=\"colab-df-convert\" onclick=\"convertToInteractive('df-49aada34-cc9d-41d7-aae1-2c3b6642f54c')\"\n",
       "              title=\"Convert this dataframe to an interactive table.\"\n",
       "              style=\"display:none;\">\n",
       "        \n",
       "  <svg xmlns=\"http://www.w3.org/2000/svg\" height=\"24px\"viewBox=\"0 0 24 24\"\n",
       "       width=\"24px\">\n",
       "    <path d=\"M0 0h24v24H0V0z\" fill=\"none\"/>\n",
       "    <path d=\"M18.56 5.44l.94 2.06.94-2.06 2.06-.94-2.06-.94-.94-2.06-.94 2.06-2.06.94zm-11 1L8.5 8.5l.94-2.06 2.06-.94-2.06-.94L8.5 2.5l-.94 2.06-2.06.94zm10 10l.94 2.06.94-2.06 2.06-.94-2.06-.94-.94-2.06-.94 2.06-2.06.94z\"/><path d=\"M17.41 7.96l-1.37-1.37c-.4-.4-.92-.59-1.43-.59-.52 0-1.04.2-1.43.59L10.3 9.45l-7.72 7.72c-.78.78-.78 2.05 0 2.83L4 21.41c.39.39.9.59 1.41.59.51 0 1.02-.2 1.41-.59l7.78-7.78 2.81-2.81c.8-.78.8-2.07 0-2.86zM5.41 20L4 18.59l7.72-7.72 1.47 1.35L5.41 20z\"/>\n",
       "  </svg>\n",
       "      </button>\n",
       "      \n",
       "  <style>\n",
       "    .colab-df-container {\n",
       "      display:flex;\n",
       "      flex-wrap:wrap;\n",
       "      gap: 12px;\n",
       "    }\n",
       "\n",
       "    .colab-df-convert {\n",
       "      background-color: #E8F0FE;\n",
       "      border: none;\n",
       "      border-radius: 50%;\n",
       "      cursor: pointer;\n",
       "      display: none;\n",
       "      fill: #1967D2;\n",
       "      height: 32px;\n",
       "      padding: 0 0 0 0;\n",
       "      width: 32px;\n",
       "    }\n",
       "\n",
       "    .colab-df-convert:hover {\n",
       "      background-color: #E2EBFA;\n",
       "      box-shadow: 0px 1px 2px rgba(60, 64, 67, 0.3), 0px 1px 3px 1px rgba(60, 64, 67, 0.15);\n",
       "      fill: #174EA6;\n",
       "    }\n",
       "\n",
       "    [theme=dark] .colab-df-convert {\n",
       "      background-color: #3B4455;\n",
       "      fill: #D2E3FC;\n",
       "    }\n",
       "\n",
       "    [theme=dark] .colab-df-convert:hover {\n",
       "      background-color: #434B5C;\n",
       "      box-shadow: 0px 1px 3px 1px rgba(0, 0, 0, 0.15);\n",
       "      filter: drop-shadow(0px 1px 2px rgba(0, 0, 0, 0.3));\n",
       "      fill: #FFFFFF;\n",
       "    }\n",
       "  </style>\n",
       "\n",
       "      <script>\n",
       "        const buttonEl =\n",
       "          document.querySelector('#df-49aada34-cc9d-41d7-aae1-2c3b6642f54c button.colab-df-convert');\n",
       "        buttonEl.style.display =\n",
       "          google.colab.kernel.accessAllowed ? 'block' : 'none';\n",
       "\n",
       "        async function convertToInteractive(key) {\n",
       "          const element = document.querySelector('#df-49aada34-cc9d-41d7-aae1-2c3b6642f54c');\n",
       "          const dataTable =\n",
       "            await google.colab.kernel.invokeFunction('convertToInteractive',\n",
       "                                                     [key], {});\n",
       "          if (!dataTable) return;\n",
       "\n",
       "          const docLinkHtml = 'Like what you see? Visit the ' +\n",
       "            '<a target=\"_blank\" href=https://colab.research.google.com/notebooks/data_table.ipynb>data table notebook</a>'\n",
       "            + ' to learn more about interactive tables.';\n",
       "          element.innerHTML = '';\n",
       "          dataTable['output_type'] = 'display_data';\n",
       "          await google.colab.output.renderOutput(dataTable, element);\n",
       "          const docLink = document.createElement('div');\n",
       "          docLink.innerHTML = docLinkHtml;\n",
       "          element.appendChild(docLink);\n",
       "        }\n",
       "      </script>\n",
       "    </div>\n",
       "  </div>\n",
       "  "
      ],
      "text/plain": [
       "   _last update_  _like_ whatsapp  _many_ feature  _many_ time  _one_ _phone_  \\\n",
       "0        0.00000              0.0             0.0          0.0            0.0   \n",
       "1        0.00000              0.0             0.0          0.0            0.0   \n",
       "2        0.00000              0.0             0.0          0.0            0.0   \n",
       "3        0.43794              0.0             0.0          0.0            0.0   \n",
       "4        0.00000              0.0             0.0          0.0            0.0   \n",
       "\n",
       "   _one_ day  _phone_ call  _phone_ no  _phone_ number  able join  ...  \\\n",
       "0        0.0           0.0         0.0             0.0        0.0  ...   \n",
       "1        0.0           0.0         0.0             0.0        0.0  ...   \n",
       "2        0.0           0.0         0.0             0.0        0.0  ...   \n",
       "3        0.0           0.0         0.0             0.0        0.0  ...   \n",
       "4        0.0           0.0         0.0             0.0        0.0  ...   \n",
       "\n",
       "   whenever open  whenever try  wish could  without reason  wo n  wo n let  \\\n",
       "0            0.0           0.0         0.0             0.0   0.0       0.0   \n",
       "1            0.0           0.0         0.0             0.0   0.0       0.0   \n",
       "2            0.0           0.0         0.0             0.0   0.0       0.0   \n",
       "3            0.0           0.0         0.0             0.0   0.0       0.0   \n",
       "4            0.0           0.0         0.0             0.0   0.0       0.0   \n",
       "\n",
       "   wont let  work fine  work properly  year ago  \n",
       "0       0.0        0.0            0.0       0.0  \n",
       "1       0.0        0.0            0.0       0.0  \n",
       "2       0.0        0.0            0.0       0.0  \n",
       "3       0.0        0.0            0.0       0.0  \n",
       "4       0.0        0.0            0.0       0.0  \n",
       "\n",
       "[5 rows x 461 columns]"
      ]
     },
     "metadata": {},
     "output_type": "display_data"
    }
   ],
   "source": [
    "# Vectorize The Corpus\n",
    "\n",
    "vectorizer = TfidfVectorizer(ngram_range=(2,3),\n",
    "                             stop_words=stopword_list_communication_bad,\n",
    "                             token_pattern='(?u)\\\\b[a-zA-Z_]+\\\\b',min_df=5,max_df=0.4)\n",
    "\n",
    "X_gg, gg_terms = vectorizer.fit_transform(data_poor['content_regex']), vectorizer.get_feature_names_out()\n",
    "\n",
    "gg_tf_idf = pd.DataFrame(X_gg.toarray(), columns=gg_terms)\n",
    "\n",
    "print(f\"gg TF-IDF: {gg_tf_idf.shape}\")\n",
    "gg_tf_idf.head(5)"
   ]
  },
  {
   "cell_type": "code",
   "execution_count": null,
   "metadata": {
    "colab": {
     "base_uri": "https://localhost:8080/"
    },
    "id": "B8pYuy2PdqLN",
    "outputId": "3af00573-d80f-4561-d520-a957ffbacf6e"
   },
   "outputs": [
    {
     "name": "stdout",
     "output_type": "stream",
     "text": [
      "Original shape of X_gg is (1904, 461)\n",
      "Decomposed W_gg matrix is (1904, 4)\n",
      "Decomposed H_gg matrix is (4, 461)\n"
     ]
    },
    {
     "name": "stderr",
     "output_type": "stream",
     "text": [
      "/usr/local/lib/python3.7/dist-packages/sklearn/decomposition/_nmf.py:294: FutureWarning: The 'init' value, when 'init=None' and n_components is less than n_samples and n_features, will be changed from 'nndsvd' to 'nndsvda' in 1.1 (renaming of 0.26).\n",
      "  FutureWarning,\n"
     ]
    }
   ],
   "source": [
    "# Fit NMF model\n",
    "from sklearn.decomposition import NMF\n",
    "nmf = NMF(n_components=4)\n",
    "W_gg = nmf.fit_transform(X_gg)\n",
    "H_gg = nmf.components_\n",
    "print(f\"Original shape of X_gg is {X_gg.shape}\")\n",
    "print(f\"Decomposed W_gg matrix is {W_gg.shape}\")\n",
    "print(f\"Decomposed H_gg matrix is {H_gg.shape}\")"
   ]
  },
  {
   "cell_type": "code",
   "execution_count": null,
   "metadata": {
    "colab": {
     "base_uri": "https://localhost:8080/"
    },
    "id": "O64ZWdIHd9Oh",
    "outputId": "5d372acd-c5db-471e-9542-4192860d84a6"
   },
   "outputs": [
    {
     "name": "stdout",
     "output_type": "stream",
     "text": [
      "TOPIC 0\n",
      "\n",
      "\bvideo call (42.7%)\n",
      "\n",
      "\bcan_not see (4.1%)\n",
      "\n",
      "\bvoice call (2.4%)\n",
      "\n",
      "\bcall call (1.9%)\n",
      "\n",
      "\binternet connection (1.5%)\n",
      "\n",
      "\bcall video (1.5%)\n",
      "\n",
      "\bcall someone (1.4%)\n",
      "\n",
      "\bcall quality (1.3%)\n",
      "\n",
      "\bsince update (1.3%)\n",
      "\n",
      "\bblack screen (1.2%)\n",
      "\n",
      "==================================================\n",
      "TOPIC 1\n",
      "\n",
      "\b_last update_ (26.2%)\n",
      "\n",
      "\bwo n (3.3%)\n",
      "\n",
      "\bsince _last (3.2%)\n",
      "\n",
      "\bsince _last update_ (3.2%)\n",
      "\n",
      "\bno longer (1.9%)\n",
      "\n",
      "\bgo back (1.5%)\n",
      "\n",
      "\bdo_not know (1.5%)\n",
      "\n",
      "\bold version (1.5%)\n",
      "\n",
      "\bwork fine (1.3%)\n",
      "\n",
      "\bget bad (1.3%)\n",
      "\n",
      "==================================================\n",
      "TOPIC 2\n",
      "\n",
      "\b_phone_ number (27.0%)\n",
      "\n",
      "\bverify _phone_ (4.0%)\n",
      "\n",
      "\bverify _phone_ number (3.1%)\n",
      "\n",
      "\bsomething go (2.8%)\n",
      "\n",
      "\b_many_ time (2.1%)\n",
      "\n",
      "\blong time (1.4%)\n",
      "\n",
      "\bcan_not login (1.3%)\n",
      "\n",
      "\bbad experience (1.3%)\n",
      "\n",
      "\bchange _phone_ (1.2%)\n",
      "\n",
      "\bnew account (1.2%)\n",
      "\n",
      "==================================================\n",
      "TOPIC 3\n",
      "\n",
      "\bsend message (10.7%)\n",
      "\n",
      "\bnot able (2.6%)\n",
      "\n",
      "\bcan_not send (2.6%)\n",
      "\n",
      "\bcan_not send message (1.8%)\n",
      "\n",
      "\bdo_not know (1.7%)\n",
      "\n",
      "\breceive message (1.5%)\n",
      "\n",
      "\beven though (1.5%)\n",
      "\n",
      "\bcan_not even (1.5%)\n",
      "\n",
      "\bwo n (1.1%)\n",
      "\n",
      "\bopen chat (1.1%)\n",
      "\n",
      "==================================================\n",
      "Topic 0\n",
      "100.0% it's not simple, not reliable, always hang on tha time of video call, going to uninstall permanently, telegram is much better than whatsapp now a days. bye bye whatsapp.\n",
      "100.0% i'm putting up one star only because of the heating issue during the voice and video calls. eats up the battery like hell. otherwise best app in the segment. devs do something.\n",
      "100.0% video call does_not working on skype. what is this? please try to solve this problem quickly.\n",
      "100.0% remove auto rotate feature or give a button for that in video calls, earlier it was good\n",
      "100.0% video call is_not hd.. uninstalled\n",
      "100.0% it is very completed chating or video calling chat. one has recommended me to down load this amazing apk becoz it more better than that is whatsapp after installation of this apk i found this is the most worst apk and can_not be compared as better than that whatsapp. whatsapp is a best application global wide. i have uninstalled it\n",
      "100.0% not good in audio & video call \n",
      "100.0% video calls drain battery, makes my samsung s22+ run hot, theirs about a 5% chance of the phone hard locking and video calls are lower quality (resolution and dropped frames) when compared to whatsapp/skype/ig video calls. linking pc does_not work.\n",
      "100.0% video call jay na kno\n",
      "100.0% always lagging in video call\n",
      "==================================================\n",
      "Topic 1\n",
      "100.0% there is so less u can control on this app. u just cannot remove non-friends from connected list unless u block them and its bizzare. this app is getting worse with each new update.\n",
      "100.0% line was one of the good app. but now after recent updates the data and battery consumptions are skyrocketing. and delaying the msgs and notifications of calls. kindly look into it and fix it before all your customers migrate to any other app.\n",
      "100.0% after last update, when i speak and the screen turns of, the connection between bluethoot in viber crashes. i have to open the app and tab on the viber icon to connect again.\n",
      "100.0% did_not like this new update for line message no need to copy some other application's useless function if need to take some ideas then add chat theme function which shows same on chat of both person when ever they change. please remove this thing.\n",
      "100.0% another mystery update. for all i know the new update connects to my pay wallet and takes all my money.\n",
      "74.7% always problem no working properly new update new issue fix this first always new update new problem face too video call i give 10/2 for update always big this new update\n",
      "99.7% latest update : i already shared complete detail of the issue. but no one responded in telegram. am still waiting for the reply form telegram volunteer. battery drain is more n more after every new update.\n",
      "100.0% the new update is so glitchy and then messages vanish even before they reach the other person! i literally had to type the same thing 4 times right now because each time i was pressing the send button, the messages were simply vanishing into thin air! please fix it. it is very irritating. and to be honest, i do_not like this new update. there is no need to unnecessarily update something which is working perfectly. never thought i'd give 1 star to whatsapp which i use so much.\n",
      "100.0% just like we apply status on whatsapp, in the same way, we want that we also apply status on bip app. please give the option of status in the new update. i will only give it 2 stars because this app cannot apply status new update with status option so we will give rating 5 stars thanks\n",
      "95.7% bro this is_not cool. this last update screwed everything up. telegram was much better before you updated. now most of my feeds won't update correctly\n",
      "==================================================\n",
      "Topic 2\n",
      "100.0% not going to give even a single star. it can be easy hacked/accessed by third party just by phone number. improve the privacy and security. worst app for communication!\n",
      "100.0% requires you to use mobile app to sign up so you can use desktop app. desktop app let's you use email but mobile app requires phone number.\n",
      "100.0% after stating do_not accept the call it will automatically authencate the phone number but this not happened. also after 3 minutes the sms not come. from telegram type apps it not accepted. really disappointed \n",
      "100.0% the entire point of downloading the app was to get a phone number. not provide a current one.. pathetic\n",
      "100.0% why is calling a phone number so difficult? cannot paste a phone number and move to the beginning to add the country code. starting with the county code and then pasting the number also does_not work. just make the number field a simple text box!\n",
      "100.0% it simply does_not want to take my phone number down.\n",
      "100.0% poor quality app, unable to use without a active sim and phone number.\n",
      "100.0% overall a decent app, yet they failed to inform people that adding your phone number to a second account of yours locks you out of your main account for an indeterminate amount of time. yet they also pushed an update that allows you to use multiple accounts. nice communication there, discord.\n",
      "97.1% every time i try to verify my phone number, it says phone number is already used on a different account. yes, the same account! just keeps going back in a loop\n",
      "100.0% this app does_not work! never has!!! it just keeps asking me to \"verify your phone number\", so i submit my phone number, and nothing happens! it just asks me again and again, saying \"something is wrong\". this app sucks.\n",
      "==================================================\n",
      "Topic 3\n",
      "100.0% i cant send messages\n",
      "100.0% still the same problem, when i send messages still loading!!!!!! even my connection is fast\n",
      "100.0% you are forced to identify your self with your number, and signal relies on centralized servers to send messages. which are often slow. i can only recommend element (riot) and briar until signal allows a peer-to-peer option and requires no identifiers (your number).\n",
      "100.0% this app is lies. they say you van message without wifi yet i downloaded this sent a few messages to a few different people months ago, and they still have_not been sent yet. how long does it actually take to send messages? a year?\n",
      "100.0% these past few weeks, when i send a message it will_not send quickly it takes 5 minutes to send a message even though my internet is in good condition. it's just irritating\n",
      "100.0% this app is good but the thing is that we can only send a message at one time to only five person.this part is so irritating. please add option to send a message to at least 10 person at a time\n",
      "100.0% i can_not send messages to anyone it is showing you are currently not allowed to send messages to the user you have_not send messages before in accordance with our privacy policy\n",
      "100.0% i thought this up was an alternative to other messaging apps, it's been 4days now since i sent a message the recipient is yet to receive the message. eventhough the app is up to date. smh. revert the app to its old update and all will be fine. \n",
      "100.0% i can_not send a message\n",
      "100.0% can_not send messages\n",
      "==================================================\n"
     ]
    }
   ],
   "source": [
    "# Report Results For Each Topic\n",
    "\n",
    "get_top_tf_idf_tokens_for_topic(H_gg, gg_tf_idf.columns.tolist(), 10)\n",
    "get_top_documents_for_each_topic(W_gg, data_poor['content'].tolist(), 10)"
   ]
  }
 ],
 "metadata": {
  "colab": {
   "name": "nlp_group.ipynb",
   "provenance": []
  },
  "kernelspec": {
   "display_name": "Python 3 (ipykernel)",
   "language": "python",
   "name": "python3"
  },
  "language_info": {
   "codemirror_mode": {
    "name": "ipython",
    "version": 3
   },
   "file_extension": ".py",
   "mimetype": "text/x-python",
   "name": "python",
   "nbconvert_exporter": "python",
   "pygments_lexer": "ipython3",
   "version": "3.8.12"
  }
 },
 "nbformat": 4,
 "nbformat_minor": 1
}
