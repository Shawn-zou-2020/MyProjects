{
 "cells": [
  {
   "cell_type": "code",
   "execution_count": 0,
   "metadata": {
    "application/vnd.databricks.v1+cell": {
     "cellMetadata": {},
     "inputWidgets": {},
     "nuid": "537b5ddc-61d3-4173-ae00-f75a5c1f19bc",
     "showTitle": false,
     "title": ""
    }
   },
   "outputs": [],
   "source": [
    "%pip install awscli"
   ]
  },
  {
   "cell_type": "code",
   "execution_count": 0,
   "metadata": {
    "application/vnd.databricks.v1+cell": {
     "cellMetadata": {},
     "inputWidgets": {},
     "nuid": "6daa3a70-89f8-4583-9734-9b2d54c9750c",
     "showTitle": false,
     "title": ""
    }
   },
   "outputs": [],
   "source": [
    "%sh\n",
    "mkdir -p /tmp/data\n",
    "aws s3 cp --no-progress --no-sign-request s3://amazon-visual-anomaly/VisA_20220922.tar /tmp"
   ]
  },
  {
   "cell_type": "code",
   "execution_count": 0,
   "metadata": {
    "application/vnd.databricks.v1+cell": {
     "cellMetadata": {},
     "inputWidgets": {},
     "nuid": "64b5f97b-f25d-4184-b24d-adb50ab76871",
     "showTitle": false,
     "title": ""
    }
   },
   "outputs": [],
   "source": [
    "%sh\n",
    "mkdir -p /tmp/data\n",
    "tar xf /tmp/VisA_20220922.tar --no-same-owner -C /tmp/data/ "
   ]
  },
  {
   "cell_type": "markdown",
   "metadata": {
    "application/vnd.databricks.v1+cell": {
     "cellMetadata": {},
     "inputWidgets": {},
     "nuid": "b9c040cf-1c64-41ce-a2a9-b2236b5ee680",
     "showTitle": false,
     "title": ""
    }
   },
   "source": [
    "# Mode data to DBFS"
   ]
  },
  {
   "cell_type": "code",
   "execution_count": 0,
   "metadata": {
    "application/vnd.databricks.v1+cell": {
     "cellMetadata": {},
     "inputWidgets": {},
     "nuid": "9fc36548-6957-47c4-ba7e-326d578a61e3",
     "showTitle": false,
     "title": ""
    }
   },
   "outputs": [],
   "source": [
    "%sh\n",
    "rm -rf /dbfs/dbdemos/manufacturing/pcb \n",
    "mkdir -p /dbfs/dbdemos/manufacturing/pcb/labels\n",
    "cp -r /tmp/data/pcb1/Data/Images/ /dbfs/dbdemos/manufacturing/pcb/\n",
    "cp /tmp/data/pcb1/image_anno.csv /dbfs/dbdemos/manufacturing/pcb/labels/"
   ]
  }
 ],
 "metadata": {
  "application/vnd.databricks.v1+notebook": {
   "dashboards": [],
   "language": "python",
   "notebookMetadata": {
    "pythonIndentUnit": 2
   },
   "notebookName": "01-load-data",
   "widgets": {}
  }
 },
 "nbformat": 4,
 "nbformat_minor": 0
}
