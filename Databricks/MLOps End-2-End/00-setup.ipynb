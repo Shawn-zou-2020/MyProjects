{
 "cells": [
  {
   "cell_type": "code",
   "execution_count": 0,
   "metadata": {
    "application/vnd.databricks.v1+cell": {
     "cellMetadata": {},
     "inputWidgets": {},
     "nuid": "060ef919-6e25-4a58-964b-25d0b1448a8b",
     "showTitle": false,
     "title": ""
    }
   },
   "outputs": [],
   "source": [
    "dbutils.widgets.dropdown(\"reset_all_data\", \"false\", [\"true\", \"false\"], \"Reset all data\")"
   ]
  },
  {
   "cell_type": "code",
   "execution_count": 0,
   "metadata": {
    "application/vnd.databricks.v1+cell": {
     "cellMetadata": {},
     "inputWidgets": {},
     "nuid": "0915402f-bb0c-4cd0-8c68-c93f0b47ae29",
     "showTitle": false,
     "title": ""
    },
    "jupyter": {
     "outputs_hidden": true
    }
   },
   "outputs": [],
   "source": [
    "%run ./00-global-setup $reset_all_data=$reset_all_data $db_prefix=retail $min_dbr_version=11"
   ]
  },
  {
   "cell_type": "code",
   "execution_count": 0,
   "metadata": {
    "application/vnd.databricks.v1+cell": {
     "cellMetadata": {},
     "inputWidgets": {},
     "nuid": "005e07c6-0f79-4d1f-b7db-237bb9959f88",
     "showTitle": false,
     "title": ""
    }
   },
   "outputs": [],
   "source": [
    "import mlflow\n",
    "if \"evaluate\" not in dir(mlflow):\n",
    "    raise Exception(\"ERROR - YOU NEED MLFLOW 2.0 for this demo. Select DBRML 12+\")\n",
    "    \n",
    "from databricks.feature_store import FeatureStoreClient\n",
    "from mlflow import MlflowClient\n",
    "import requests\n",
    "from io import StringIO\n",
    "#Dataset under apache license: https://github.com/IBM/telco-customer-churn-on-icp4d/blob/master/LICENSE\n",
    "csv = requests.get(\"https://raw.githubusercontent.com/IBM/telco-customer-churn-on-icp4d/master/data/Telco-Customer-Churn.csv\").text\n",
    "df = pd.read_csv(StringIO(csv), sep=\",\")\n",
    "def cleanup_column(pdf):\n",
    "  # Clean up column names\n",
    "  pdf.columns = [re.sub(r'(?<!^)(?=[A-Z])', '_', name).lower().replace(\"__\", \"_\") for name in pdf.columns]\n",
    "  pdf.columns = [re.sub(r'[\\(\\)]', '', name).lower() for name in pdf.columns]\n",
    "  pdf.columns = [re.sub(r'[ -]', '_', name).lower() for name in pdf.columns]\n",
    "  return pdf.rename(columns = {'streaming_t_v': 'streaming_tv', 'customer_i_d': 'customer_id'})\n",
    "  \n",
    "\n",
    "df = cleanup_column(df)\n",
    "spark.createDataFrame(df).write.mode(\"overwrite\").option(\"overwriteSchema\", \"true\").saveAsTable(\"churn_bronze_customers\")"
   ]
  },
  {
   "cell_type": "code",
   "execution_count": 0,
   "metadata": {
    "application/vnd.databricks.v1+cell": {
     "cellMetadata": {},
     "inputWidgets": {},
     "nuid": "43daa2a3-8019-4b7c-b840-6a519cddee87",
     "showTitle": false,
     "title": ""
    }
   },
   "outputs": [],
   "source": [
    "def display_automl_churn_link(table_name, force_refresh = False): \n",
    "  if force_refresh:\n",
    "    reset_automl_run(\"churn_auto_ml\")\n",
    "  display_automl_link(\"churn_auto_ml\", \"dbdemos_mlops_churn\", spark.table(table_name), \"churn\", 5)\n",
    "\n",
    "def get_automl_churn_run(table_name = \"dbdemos_mlops_churn_features\", force_refresh = False):\n",
    "  if force_refresh:\n",
    "    reset_automl_run(\"churn_auto_ml\")\n",
    "  from_cache, r = get_automl_run_or_start(\"churn_auto_ml\", \"dbdemos_mlops_churn\", spark.table(table_name), \"churn\", 5)\n",
    "  return r"
   ]
  },
  {
   "cell_type": "code",
   "execution_count": 0,
   "metadata": {
    "application/vnd.databricks.v1+cell": {
     "cellMetadata": {},
     "inputWidgets": {},
     "nuid": "771b3de4-0b4d-407f-93f9-7f5b15e55853",
     "showTitle": false,
     "title": ""
    }
   },
   "outputs": [],
   "source": [
    "# Replace this with your Slack webhook\n",
    "slack_webhook = \"\"\n"
   ]
  },
  {
   "cell_type": "code",
   "execution_count": 0,
   "metadata": {
    "application/vnd.databricks.v1+cell": {
     "cellMetadata": {},
     "inputWidgets": {},
     "nuid": "b3d39956-f5cc-4d42-a70e-0fca907b6b96",
     "showTitle": false,
     "title": ""
    },
    "jupyter": {
     "outputs_hidden": true
    }
   },
   "outputs": [],
   "source": [
    "%run ./API_Helpers"
   ]
  }
 ],
 "metadata": {
  "application/vnd.databricks.v1+notebook": {
   "dashboards": [],
   "language": "python",
   "notebookMetadata": {
    "pythonIndentUnit": 2
   },
   "notebookName": "00-setup",
   "widgets": {}
  }
 },
 "nbformat": 4,
 "nbformat_minor": 0
}
