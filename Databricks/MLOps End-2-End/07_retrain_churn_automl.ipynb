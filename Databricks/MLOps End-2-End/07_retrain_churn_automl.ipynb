{
 "cells": [
  {
   "cell_type": "markdown",
   "metadata": {
    "application/vnd.databricks.v1+cell": {
     "cellMetadata": {},
     "inputWidgets": {},
     "nuid": "3f0da6b5-4d1f-4cfb-acee-9c83427fab86",
     "showTitle": false,
     "title": ""
    }
   },
   "source": [
    "## Monthly AutoML Retrain\n",
    "\n",
    "<img src=\"https://github.com/QuentinAmbard/databricks-demo/raw/main/product_demos/mlops-end2end-flow-7.png\" width=\"1200\">\n",
    "\n",
    "<!-- Collect usage data (view). Remove it to disable collection. View README for more details.  -->\n",
    "<img width=\"1px\" src=\"https://ppxrzfxige.execute-api.us-west-2.amazonaws.com/v1/analytics?category=data-science&org_id=1549883858499596&notebook=%2F07_retrain_churn_automl&demo_name=mlops-end2end&event=VIEW&path=%2F_dbdemos%2Fdata-science%2Fmlops-end2end%2F07_retrain_churn_automl&version=1\">\n",
    "<!-- [metadata={\"description\":\"MLOps end2end workflow: Batch to automatically retrain model on a monthly basis.\",\n",
    " \"authors\":[\"quentin.ambard@databricks.com\"],\n",
    " \"db_resources\":{},\n",
    "  \"search_tags\":{\"vertical\": \"retail\", \"step\": \"Model testing\", \"components\": [\"mlflow\"]},\n",
    "                 \"canonicalUrl\": {\"AWS\": \"\", \"Azure\": \"\", \"GCP\": \"\"}}] -->"
   ]
  },
  {
   "cell_type": "markdown",
   "metadata": {
    "application/vnd.databricks.v1+cell": {
     "cellMetadata": {},
     "inputWidgets": {},
     "nuid": "9d7d5c10-15af-454f-85e2-babbdfb92147",
     "showTitle": false,
     "title": null
    }
   },
   "source": [
    "### A cluster has been created for this demo\n",
    "To run this demo, just select the cluster `dbdemos-mlops-end2end-shawnzou2020` from the dropdown menu ([open cluster configuration](https://dbc-abdbb8e0-f50f.cloud.databricks.com/#setting/clusters/0410-014028-ndqe9et5/configuration)). <br />\n",
    "*Note: If the cluster was deleted after 30 days, you can re-create it with `dbdemos.create_cluster('mlops-end2end')` or re-install the demo: `dbdemos.install('mlops-end2end')`*"
   ]
  },
  {
   "cell_type": "markdown",
   "metadata": {
    "application/vnd.databricks.v1+cell": {
     "cellMetadata": {},
     "inputWidgets": {},
     "nuid": "53524bb5-7999-4d6b-aa5d-43b1ec0422f3",
     "showTitle": false,
     "title": ""
    }
   },
   "source": [
    "## Monthly training job\n",
    "\n",
    "We can programatically schedule a job to retrain our model, or retrain it based on an event if we realize that our model doesn't behave as expected.\n",
    "\n",
    "This notebook should be run as a job. It'll call the Databricks Auto-ML API, get the best model and request a transition to Staging."
   ]
  },
  {
   "cell_type": "code",
   "execution_count": 0,
   "metadata": {
    "application/vnd.databricks.v1+cell": {
     "cellMetadata": {},
     "inputWidgets": {},
     "nuid": "7f8721e5-606f-47db-a291-42319afcefa4",
     "showTitle": false,
     "title": ""
    },
    "jupyter": {
     "outputs_hidden": true
    }
   },
   "outputs": [
    {
     "output_type": "display_data",
     "data": {
      "application/vnd.databricks.v1+bamboolib_hint": "{\"pd.DataFrames\": [], \"version\": \"0.0.1\"}",
      "text/plain": []
     },
     "metadata": {},
     "output_type": "display_data"
    },
    {
     "output_type": "stream",
     "name": "stdout",
     "output_type": "stream",
     "text": [
      "USE CATALOG `hive_metastore`\nusing cloud_storage_path /Users/quentin.ambard@databricks.com/demos/retail\nusing catalog.database `hive_metastore`.`retail_quentin_ambard`\n"
     ]
    }
   ],
   "source": [
    "%run ./_resources/00-setup $reset_all_data=false $catalog=\"hive_metastore\""
   ]
  },
  {
   "cell_type": "code",
   "execution_count": 0,
   "metadata": {
    "application/vnd.databricks.v1+cell": {
     "cellMetadata": {},
     "inputWidgets": {},
     "nuid": "78727dd2-a458-424a-9196-9ea8a3a5955e",
     "showTitle": true,
     "title": "Load Features"
    }
   },
   "outputs": [],
   "source": [
    "fs = FeatureStoreClient()\n",
    "features = fs.read_table(f'{dbName}.dbdemos_mlops_churn_features')"
   ]
  },
  {
   "cell_type": "code",
   "execution_count": 0,
   "metadata": {
    "application/vnd.databricks.v1+cell": {
     "cellMetadata": {},
     "inputWidgets": {},
     "nuid": "ed12227c-2abf-44aa-be80-5525be936e5a",
     "showTitle": true,
     "title": "Run AutoML"
    }
   },
   "outputs": [
    {
     "output_type": "stream",
     "name": "stderr",
     "output_type": "stream",
     "text": [
      "2023/06/21 12:59:34 INFO databricks.automl.client.manager: AutoML will optimize for F1 score metric, which is tracked as val_f1_score in the MLflow experiment.\n2023/06/21 12:59:35 INFO databricks.automl.shared.databricks_utils: No host name to create absolute URL\n2023/06/21 12:59:35 INFO databricks.automl.client.manager: MLflow Experiment ID: 402627122880526\n2023/06/21 12:59:35 INFO databricks.automl.client.manager: MLflow Experiment: #mlflow/experiments/402627122880526\n2023/06/21 13:00:30 INFO databricks.automl.shared.databricks_utils: No host name to create absolute URL\n2023/06/21 13:00:30 INFO databricks.automl.client.manager: Data exploration notebook: #notebook/402627122880544\n2023/06/21 13:05:32 INFO databricks.automl.client.manager: AutoML experiment completed successfully.\n"
     ]
    },
    {
     "output_type": "display_data",
     "data": {
      "text/html": [
       "\n",
       "        <style>\n",
       "            .grid-container {\n",
       "              display: grid\n",
       "              grid-template-columns: auto;\n",
       "              padding: 10px;\n",
       "            }\n",
       "            <!-- Picked to be same as https://github.com/databricks/universe/blob/feaafc3875d9b95a124ed44ff4b99fb1002e544d/webapp/web/js/templates/iframeSandbox.css#L6-L11 -->\n",
       "            .grid-container div {\n",
       "              font-family: Helvetica, Arial, sans-serif;\n",
       "              font-size: 14px;\n",
       "            }\n",
       "        </style>\n",
       "        <div class=\"grid-container\">\n",
       "            \n",
       "            <div><p>For exploratory data analysis, open the <a href=#notebook/402627122880544>data exploration notebook</a></p></div>\n",
       "            <div><p>To view the best performing model, open the <a href=#notebook/402627122883510>best trial notebook</a></p></div>\n",
       "            <div><p>To view details about all trials, navigate to the <a href=#mlflow/experiments/402627122880526>MLflow experiment</a></p></div>\n",
       "            <div><p><strong>Metrics for the best trial:</strong></p></div>\n",
       "            <div>\n",
       "                <!-- class inlined from https://github.com/databricks/universe/blob/feaafc3875d9b95a124ed44ff4b99fb1002e544d/webapp/web/js/templates/iframeSandbox.css#L35 -->\n",
       "                \n",
       "                    <table class=\"dataframe\">\n",
       "                        <thead>\n",
       "                          <tr>\n",
       "                            <th></th>\n",
       "                            <th>Train</th>\n",
       "                            <th>Validation</th>\n",
       "                            <th>Test</th>\n",
       "                          </tr>\n",
       "                        </thead>\n",
       "                        <tbody>\n",
       "                        \n",
       "                <tr>\n",
       "                    <th> f1_score </th>\n",
       "                    <td> 0.600 </td>\n",
       "                    <td> 0.614 </td>\n",
       "                    <td> 0.629 </td>\n",
       "                </tr>\n",
       "                \n",
       "\n",
       "                <tr>\n",
       "                    <th> false_negatives </th>\n",
       "                    <td> 286.000 </td>\n",
       "                    <td> 109.000 </td>\n",
       "                    <td> 105.000 </td>\n",
       "                </tr>\n",
       "                \n",
       "\n",
       "                <tr>\n",
       "                    <th> score </th>\n",
       "                    <td> 0.755 </td>\n",
       "                    <td> 0.742 </td>\n",
       "                    <td> 0.745 </td>\n",
       "                </tr>\n",
       "                \n",
       "\n",
       "                <tr>\n",
       "                    <th> example_count </th>\n",
       "                    <td> 4229.000 </td>\n",
       "                    <td> 1382.000 </td>\n",
       "                    <td> 1432.000 </td>\n",
       "                </tr>\n",
       "                \n",
       "\n",
       "                <tr>\n",
       "                    <th> recall_score </th>\n",
       "                    <td> 0.730 </td>\n",
       "                    <td> 0.723 </td>\n",
       "                    <td> 0.747 </td>\n",
       "                </tr>\n",
       "                \n",
       "\n",
       "                <tr>\n",
       "                    <th> true_negatives </th>\n",
       "                    <td> 2419.000 </td>\n",
       "                    <td> 741.000 </td>\n",
       "                    <td> 757.000 </td>\n",
       "                </tr>\n",
       "                \n",
       "\n",
       "                <tr>\n",
       "                    <th> false_positives </th>\n",
       "                    <td> 749.000 </td>\n",
       "                    <td> 248.000 </td>\n",
       "                    <td> 260.000 </td>\n",
       "                </tr>\n",
       "                \n",
       "\n",
       "                <tr>\n",
       "                    <th> true_positives </th>\n",
       "                    <td> 775.000 </td>\n",
       "                    <td> 284.000 </td>\n",
       "                    <td> 310.000 </td>\n",
       "                </tr>\n",
       "                \n",
       "\n",
       "                <tr>\n",
       "                    <th> accuracy_score </th>\n",
       "                    <td> 0.755 </td>\n",
       "                    <td> 0.742 </td>\n",
       "                    <td> 0.745 </td>\n",
       "                </tr>\n",
       "                \n",
       "\n",
       "                <tr>\n",
       "                    <th> precision_recall_auc </th>\n",
       "                    <td> 0.537 </td>\n",
       "                    <td> 0.546 </td>\n",
       "                    <td> 0.570 </td>\n",
       "                </tr>\n",
       "                \n",
       "\n",
       "                <tr>\n",
       "                    <th> log_loss </th>\n",
       "                    <td> 0.602 </td>\n",
       "                    <td> 0.645 </td>\n",
       "                    <td> 0.650 </td>\n",
       "                </tr>\n",
       "                \n",
       "\n",
       "                <tr>\n",
       "                    <th> precision_score </th>\n",
       "                    <td> 0.509 </td>\n",
       "                    <td> 0.534 </td>\n",
       "                    <td> 0.544 </td>\n",
       "                </tr>\n",
       "                \n",
       "\n",
       "                <tr>\n",
       "                    <th> roc_auc </th>\n",
       "                    <td> 0.819 </td>\n",
       "                    <td> 0.798 </td>\n",
       "                    <td> 0.811 </td>\n",
       "                </tr>\n",
       "                \n",
       "                        </tbody>\n",
       "                    </table>\n",
       "            \n",
       "            </div>\n",
       "        </div>\n",
       "        "
      ]
     },
     "metadata": {
      "application/vnd.databricks.v1+output": {
       "addedWidgets": {},
       "arguments": {},
       "data": "\n        <style>\n            .grid-container {\n              display: grid\n              grid-template-columns: auto;\n              padding: 10px;\n            }\n            <!-- Picked to be same as https://github.com/databricks/universe/blob/feaafc3875d9b95a124ed44ff4b99fb1002e544d/webapp/web/js/templates/iframeSandbox.css#L6-L11 -->\n            .grid-container div {\n              font-family: Helvetica, Arial, sans-serif;\n              font-size: 14px;\n            }\n        </style>\n        <div class=\"grid-container\">\n            \n            <div><p>For exploratory data analysis, open the <a href=#notebook/402627122880544>data exploration notebook</a></p></div>\n            <div><p>To view the best performing model, open the <a href=#notebook/402627122883510>best trial notebook</a></p></div>\n            <div><p>To view details about all trials, navigate to the <a href=#mlflow/experiments/402627122880526>MLflow experiment</a></p></div>\n            <div><p><strong>Metrics for the best trial:</strong></p></div>\n            <div>\n                <!-- class inlined from https://github.com/databricks/universe/blob/feaafc3875d9b95a124ed44ff4b99fb1002e544d/webapp/web/js/templates/iframeSandbox.css#L35 -->\n                \n                    <table class=\"dataframe\">\n                        <thead>\n                          <tr>\n                            <th></th>\n                            <th>Train</th>\n                            <th>Validation</th>\n                            <th>Test</th>\n                          </tr>\n                        </thead>\n                        <tbody>\n                        \n                <tr>\n                    <th> f1_score </th>\n                    <td> 0.600 </td>\n                    <td> 0.614 </td>\n                    <td> 0.629 </td>\n                </tr>\n                \n\n                <tr>\n                    <th> false_negatives </th>\n                    <td> 286.000 </td>\n                    <td> 109.000 </td>\n                    <td> 105.000 </td>\n                </tr>\n                \n\n                <tr>\n                    <th> score </th>\n                    <td> 0.755 </td>\n                    <td> 0.742 </td>\n                    <td> 0.745 </td>\n                </tr>\n                \n\n                <tr>\n                    <th> example_count </th>\n                    <td> 4229.000 </td>\n                    <td> 1382.000 </td>\n                    <td> 1432.000 </td>\n                </tr>\n                \n\n                <tr>\n                    <th> recall_score </th>\n                    <td> 0.730 </td>\n                    <td> 0.723 </td>\n                    <td> 0.747 </td>\n                </tr>\n                \n\n                <tr>\n                    <th> true_negatives </th>\n                    <td> 2419.000 </td>\n                    <td> 741.000 </td>\n                    <td> 757.000 </td>\n                </tr>\n                \n\n                <tr>\n                    <th> false_positives </th>\n                    <td> 749.000 </td>\n                    <td> 248.000 </td>\n                    <td> 260.000 </td>\n                </tr>\n                \n\n                <tr>\n                    <th> true_positives </th>\n                    <td> 775.000 </td>\n                    <td> 284.000 </td>\n                    <td> 310.000 </td>\n                </tr>\n                \n\n                <tr>\n                    <th> accuracy_score </th>\n                    <td> 0.755 </td>\n                    <td> 0.742 </td>\n                    <td> 0.745 </td>\n                </tr>\n                \n\n                <tr>\n                    <th> precision_recall_auc </th>\n                    <td> 0.537 </td>\n                    <td> 0.546 </td>\n                    <td> 0.570 </td>\n                </tr>\n                \n\n                <tr>\n                    <th> log_loss </th>\n                    <td> 0.602 </td>\n                    <td> 0.645 </td>\n                    <td> 0.650 </td>\n                </tr>\n                \n\n                <tr>\n                    <th> precision_score </th>\n                    <td> 0.509 </td>\n                    <td> 0.534 </td>\n                    <td> 0.544 </td>\n                </tr>\n                \n\n                <tr>\n                    <th> roc_auc </th>\n                    <td> 0.819 </td>\n                    <td> 0.798 </td>\n                    <td> 0.811 </td>\n                </tr>\n                \n                        </tbody>\n                    </table>\n            \n            </div>\n        </div>\n        ",
       "datasetInfos": [],
       "metadata": {},
       "removedWidgets": [],
       "textData": null,
       "type": "htmlSandbox"
      }
     },
     "output_type": "display_data"
    }
   ],
   "source": [
    "import databricks.automl\n",
    "model = databricks.automl.classify(features, target_col = \"churn\", data_dir= \"dbfs:/tmp/\", timeout_minutes=5) "
   ]
  },
  {
   "cell_type": "code",
   "execution_count": 0,
   "metadata": {
    "application/vnd.databricks.v1+cell": {
     "cellMetadata": {},
     "inputWidgets": {},
     "nuid": "e86fb1e7-bb36-450d-a317-ea39a7ec3f2a",
     "showTitle": true,
     "title": "Register the Best Run"
    }
   },
   "outputs": [
    {
     "output_type": "stream",
     "name": "stderr",
     "output_type": "stream",
     "text": [
      "Registered model 'dbdemos_mlops_churn' already exists. Creating a new version of this model...\nCreated version '57' of model 'dbdemos_mlops_churn'.\n"
     ]
    }
   ],
   "source": [
    "import mlflow\n",
    "from mlflow.tracking.client import MlflowClient\n",
    "\n",
    "client = MlflowClient()\n",
    "\n",
    "run_id = model.best_trial.mlflow_run_id\n",
    "model_name = \"dbdemos_mlops_churn\"\n",
    "model_uri = f\"runs:/{run_id}/model\"\n",
    "\n",
    "client.set_tag(run_id, key='db_table', value=f'{dbName}.dbdemos_mlops_churn_features')\n",
    "client.set_tag(run_id, key='demographic_vars', value='seniorCitizen,gender_Female')\n",
    "\n",
    "model_details = mlflow.register_model(model_uri, model_name)"
   ]
  },
  {
   "cell_type": "code",
   "execution_count": 0,
   "metadata": {
    "application/vnd.databricks.v1+cell": {
     "cellMetadata": {},
     "inputWidgets": {},
     "nuid": "1e6adbb6-0988-426f-9e7f-94dcdaae8f21",
     "showTitle": true,
     "title": "Add Descriptions"
    }
   },
   "outputs": [
    {
     "output_type": "stream",
     "name": "stdout",
     "output_type": "stream",
     "text": [
      "Out[24]: <ModelVersion: creation_timestamp=1687352733531, current_stage='None', description=('This model version was built using autoML and automatically getting the best '\n 'model.'), last_updated_timestamp=1687352739860, name='dbdemos_mlops_churn', run_id='01ef78769730451c8143c8c02f47f6e7', run_link='', source='dbfs:/databricks/mlflow-tracking/402627122880526/01ef78769730451c8143c8c02f47f6e7/artifacts/model', status='READY', status_message='', tags={}, user_id='7644138420879474', version='57'>"
     ]
    }
   ],
   "source": [
    "model_version_details = client.get_model_version(name=model_name, version=model_details.version)\n",
    "\n",
    "client.update_model_version(\n",
    "  name=model_details.name,\n",
    "  version=model_details.version,\n",
    "  description=\"This model version was built using autoML and automatically getting the best model.\"\n",
    ")"
   ]
  },
  {
   "cell_type": "code",
   "execution_count": 0,
   "metadata": {
    "application/vnd.databricks.v1+cell": {
     "cellMetadata": {},
     "inputWidgets": {},
     "nuid": "0251a6b2-afd6-4e99-ad09-0670f3d01d06",
     "showTitle": true,
     "title": "Request transition to Staging"
    }
   },
   "outputs": [
    {
     "output_type": "stream",
     "name": "stdout",
     "output_type": "stream",
     "text": [
      "Out[25]: {'request': {'creation_timestamp': 1687352740008,\n  'user_id': 'quentin.ambard@databricks.com',\n  'activity_type': 'REQUESTED_TRANSITION',\n  'comment': '',\n  'to_stage': 'Staging'}}"
     ]
    }
   ],
   "source": [
    "# Transition request to staging\n",
    "staging_request = {'name': model_name, 'version': model_details.version, 'stage': 'Staging', 'archive_existing_versions': 'true'}\n",
    "mlflow_call_endpoint('transition-requests/create', 'POST', json.dumps(staging_request))"
   ]
  },
  {
   "cell_type": "markdown",
   "metadata": {
    "application/vnd.databricks.v1+cell": {
     "cellMetadata": {},
     "inputWidgets": {},
     "nuid": "c58d22b5-1b51-4a5f-9891-b8516a44277c",
     "showTitle": false,
     "title": ""
    }
   },
   "source": [
    "\n",
    "## Next: Building a dashboard with Customer Churn information\n",
    "\n",
    "<img src=\"https://github.com/QuentinAmbard/databricks-demo/raw/main/product_demos/mlops-end2end-flow-dashboard.png\" width=\"600px\" style=\"float:right\"/>\n",
    "\n",
    "We now have all our data ready, including customer churn. \n",
    "\n",
    "The Churn table containing analysis and Churn predictions can be shared with the Analyst and Marketing team.\n",
    "\n",
    "With Databricks SQL, we can build our Customer Churn monitoring Dashboard to start tracking our Marketing campaign effect!"
   ]
  },
  {
   "cell_type": "markdown",
   "metadata": {
    "application/vnd.databricks.v1+cell": {
     "cellMetadata": {},
     "inputWidgets": {},
     "nuid": "7ee01e9b-c043-4beb-93e0-95c4497d152a",
     "showTitle": false,
     "title": ""
    }
   },
   "source": [
    "For a complete Customer Churn example & dashboards, run `dbdemos.install('lakehouse-retail-churn')`."
   ]
  }
 ],
 "metadata": {
  "application/vnd.databricks.v1+notebook": {
   "dashboards": [],
   "language": "python",
   "notebookMetadata": {
    "pythonIndentUnit": 2
   },
   "notebookName": "07_retrain_churn_automl",
   "widgets": {}
  }
 },
 "nbformat": 4,
 "nbformat_minor": 0
}
